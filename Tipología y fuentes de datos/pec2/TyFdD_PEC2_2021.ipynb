{
  "cells": [
    {
      "cell_type": "markdown",
      "metadata": {
        "id": "dISYzX4ob2l7"
      },
      "source": [
        "# PEC 2. Introducción a los sistemas de recuperación de información.\n",
        "\n",
        "En esta PEC vamos a desarrollar un sistema de recuperación de información básico. Partiendo de una lista de documentos de texto tendrás que usar las técnicas de recuperación de información vistas en la asignatura para obtener, procesar y analizar datos útiles a partir del contenido.\n",
        "\n",
        "\n",
        "\n",
        "\n",
        "```\n",
        "#TODO: nombre y apellidos\n",
        "```\n",
        "\n",
        "\n",
        "\n"
      ]
    },
    {
      "cell_type": "markdown",
      "metadata": {
        "id": "oio_-Jm3K_kJ"
      },
      "source": [
        "\n",
        "\n",
        "---\n",
        "\n",
        "# **Parte 1**. Tareas básicas\n",
        "\n"
      ]
    },
    {
      "cell_type": "markdown",
      "metadata": {
        "id": "ED51nVLeFy-v"
      },
      "source": [
        "Además de las ya clásicas `pandas` y `numpy`, vamos a utilizar la librería [NTLK](https://es.wikipedia.org/wiki/NLTK) (Natural Language Toolkit), una librería Python utilizada para analizar texto y aprendizaje automático."
      ]
    },
    {
      "cell_type": "code",
      "execution_count": 3,
      "metadata": {},
      "outputs": [
        {
          "name": "stdout",
          "output_type": "stream",
          "text": [
            "Note: you may need to restart the kernel to use updated packages.\n"
          ]
        },
        {
          "name": "stderr",
          "output_type": "stream",
          "text": [
            "  ERROR: Command errored out with exit status 1:\n",
            "   command: 'C:\\Users\\VilanaD1.SARAL\\AppData\\Local\\Programs\\Python\\Python310\\python.exe' 'C:\\Users\\VilanaD1.SARAL\\AppData\\Local\\Programs\\Python\\Python310\\lib\\site-packages\\pip\\_vendor\\pep517\\in_process\\_in_process.py' build_wheel 'C:\\Users\\VILANA~1.SAR\\AppData\\Local\\Temp\\tmp1uylr5cs'\n",
            "       cwd: C:\\Users\\VilanaD1.SARAL\\AppData\\Local\\Temp\\pip-install-rhef4_jo\\pandas_9400bc7ed8c642fda39a450d2062b2bd\n",
            "  Complete output (1617 lines):\n",
            "  running bdist_wheel\n",
            "  running build\n",
            "  running build_py\n",
            "  creating build\n",
            "  creating build\\lib.win-amd64-3.10\n",
            "  creating build\\lib.win-amd64-3.10\\pandas"
          ]
        },
        {
          "name": "stdout",
          "output_type": "stream",
          "text": [
            "Collecting pandas\n",
            "  Using cached pandas-1.3.4.tar.gz (4.7 MB)\n",
            "  Installing build dependencies: started\n",
            "  Installing build dependencies: finished with status 'done'\n",
            "  Getting requirements to build wheel: started\n",
            "  Getting requirements to build wheel: still running...\n",
            "  Getting requirements to build wheel: finished with status 'done'\n",
            "    Preparing wheel metadata: started\n",
            "    Preparing wheel metadata: finished with status 'done'\n",
            "Requirement already satisfied: numpy>=1.21.0 in c:\\users\\vilanad1.saral\\appdata\\local\\programs\\python\\python310\\lib\\site-packages (from pandas) (1.21.3)\n",
            "Collecting pytz>=2017.3\n",
            "  Using cached pytz-2021.3-py2.py3-none-any.whl (503 kB)\n",
            "Requirement already satisfied: python-dateutil>=2.7.3 in c:\\users\\vilanad1.saral\\appdata\\local\\programs\\python\\python310\\lib\\site-packages (from pandas) (2.8.2)\n",
            "Requirement already satisfied: six>=1.5 in c:\\users\\vilanad1.saral\\appdata\\local\\programs\\python\\python310\\lib\\site-packages (from python-dateutil>=2.7.3->pandas) (1.16.0)\n",
            "Building wheels for collected packages: pandas\n",
            "  Building wheel for pandas (PEP 517): started\n",
            "  Building wheel for pandas (PEP 517): finished with status 'error'\n",
            "Failed to build pandas\n"
          ]
        },
        {
          "name": "stderr",
          "output_type": "stream",
          "text": [
            "\n",
            "  copying pandas\\conftest.py -> build\\lib.win-amd64-3.10\\pandas\n",
            "  copying pandas\\testing.py -> build\\lib.win-amd64-3.10\\pandas\n",
            "  copying pandas\\_typing.py -> build\\lib.win-amd64-3.10\\pandas\n",
            "  copying pandas\\_version.py -> build\\lib.win-amd64-3.10\\pandas\n",
            "  copying pandas\\__init__.py -> build\\lib.win-amd64-3.10\\pandas\n",
            "  creating build\\lib.win-amd64-3.10\\pandas\\api\n",
            "  copying pandas\\api\\__init__.py -> build\\lib.win-amd64-3.10\\pandas\\api\n",
            "  creating build\\lib.win-amd64-3.10\\pandas\\arrays\n",
            "  copying pandas\\arrays\\__init__.py -> build\\lib.win-amd64-3.10\\pandas\\arrays\n",
            "  creating build\\lib.win-amd64-3.10\\pandas\\compat\n",
            "  copying pandas\\compat\\chainmap.py -> build\\lib.win-amd64-3.10\\pandas\\compat\n",
            "  copying pandas\\compat\\pickle_compat.py -> build\\lib.win-amd64-3.10\\pandas\\compat\n",
            "  copying pandas\\compat\\pyarrow.py -> build\\lib.win-amd64-3.10\\pandas\\compat\n",
            "  copying pandas\\compat\\_optional.py -> build\\lib.win-amd64-3.10\\pandas\\compat\n",
            "  copying pandas\\compat\\__init__.py -> build\\lib.win-amd64-3.10\\pandas\\compat\n",
            "  creating build\\lib.win-amd64-3.10\\pandas\\core\n",
            "  copying pandas\\core\\accessor.py -> build\\lib.win-amd64-3.10\\pandas\\core\n",
            "  copying pandas\\core\\aggregation.py -> build\\lib.win-amd64-3.10\\pandas\\core\n",
            "  copying pandas\\core\\algorithms.py -> build\\lib.win-amd64-3.10\\pandas\\core\n",
            "  copying pandas\\core\\api.py -> build\\lib.win-amd64-3.10\\pandas\\core\n",
            "  copying pandas\\core\\apply.py -> build\\lib.win-amd64-3.10\\pandas\\core\n",
            "  copying pandas\\core\\arraylike.py -> build\\lib.win-amd64-3.10\\pandas\\core\n",
            "  copying pandas\\core\\base.py -> build\\lib.win-amd64-3.10\\pandas\\core\n",
            "  copying pandas\\core\\common.py -> build\\lib.win-amd64-3.10\\pandas\\core\n",
            "  copying pandas\\core\\config_init.py -> build\\lib.win-amd64-3.10\\pandas\\core\n",
            "  copying pandas\\core\\construction.py -> build\\lib.win-amd64-3.10\\pandas\\core\n",
            "  copying pandas\\core\\describe.py -> build\\lib.win-amd64-3.10\\pandas\\core\n",
            "  copying pandas\\core\\flags.py -> build\\lib.win-amd64-3.10\\pandas\\core\n",
            "  copying pandas\\core\\frame.py -> build\\lib.win-amd64-3.10\\pandas\\core\n",
            "  copying pandas\\core\\generic.py -> build\\lib.win-amd64-3.10\\pandas\\core\n",
            "  copying pandas\\core\\index.py -> build\\lib.win-amd64-3.10\\pandas\\core\n",
            "  copying pandas\\core\\indexers.py -> build\\lib.win-amd64-3.10\\pandas\\core\n",
            "  copying pandas\\core\\indexing.py -> build\\lib.win-amd64-3.10\\pandas\\core\n",
            "  copying pandas\\core\\missing.py -> build\\lib.win-amd64-3.10\\pandas\\core\n",
            "  copying pandas\\core\\nanops.py -> build\\lib.win-amd64-3.10\\pandas\\core\n",
            "  copying pandas\\core\\resample.py -> build\\lib.win-amd64-3.10\\pandas\\core\n",
            "  copying pandas\\core\\roperator.py -> build\\lib.win-amd64-3.10\\pandas\\core\n",
            "  copying pandas\\core\\series.py -> build\\lib.win-amd64-3.10\\pandas\\core\n",
            "  copying pandas\\core\\shared_docs.py -> build\\lib.win-amd64-3.10\\pandas\\core\n",
            "  copying pandas\\core\\sorting.py -> build\\lib.win-amd64-3.10\\pandas\\core\n",
            "  copying pandas\\core\\__init__.py -> build\\lib.win-amd64-3.10\\pandas\\core\n",
            "  creating build\\lib.win-amd64-3.10\\pandas\\errors\n",
            "  copying pandas\\errors\\__init__.py -> build\\lib.win-amd64-3.10\\pandas\\errors\n",
            "  creating build\\lib.win-amd64-3.10\\pandas\\io\n",
            "  copying pandas\\io\\api.py -> build\\lib.win-amd64-3.10\\pandas\\io\n",
            "  copying pandas\\io\\clipboards.py -> build\\lib.win-amd64-3.10\\pandas\\io\n",
            "  copying pandas\\io\\common.py -> build\\lib.win-amd64-3.10\\pandas\\io\n",
            "  copying pandas\\io\\date_converters.py -> build\\lib.win-amd64-3.10\\pandas\\io\n",
            "  copying pandas\\io\\feather_format.py -> build\\lib.win-amd64-3.10\\pandas\\io\n",
            "  copying pandas\\io\\gbq.py -> build\\lib.win-amd64-3.10\\pandas\\io\n",
            "  copying pandas\\io\\html.py -> build\\lib.win-amd64-3.10\\pandas\\io\n",
            "  copying pandas\\io\\orc.py -> build\\lib.win-amd64-3.10\\pandas\\io\n",
            "  copying pandas\\io\\parquet.py -> build\\lib.win-amd64-3.10\\pandas\\io\n",
            "  copying pandas\\io\\pickle.py -> build\\lib.win-amd64-3.10\\pandas\\io\n",
            "  copying pandas\\io\\pytables.py -> build\\lib.win-amd64-3.10\\pandas\\io\n",
            "  copying pandas\\io\\spss.py -> build\\lib.win-amd64-3.10\\pandas\\io\n",
            "  copying pandas\\io\\sql.py -> build\\lib.win-amd64-3.10\\pandas\\io\n",
            "  copying pandas\\io\\stata.py -> build\\lib.win-amd64-3.10\\pandas\\io\n",
            "  copying pandas\\io\\xml.py -> build\\lib.win-amd64-3.10\\pandas\\io\n",
            "  copying pandas\\io\\__init__.py -> build\\lib.win-amd64-3.10\\pandas\\io\n",
            "  creating build\\lib.win-amd64-3.10\\pandas\\plotting\n",
            "  copying pandas\\plotting\\_core.py -> build\\lib.win-amd64-3.10\\pandas\\plotting\n",
            "  copying pandas\\plotting\\_misc.py -> build\\lib.win-amd64-3.10\\pandas\\plotting\n",
            "  copying pandas\\plotting\\__init__.py -> build\\lib.win-amd64-3.10\\pandas\\plotting\n",
            "  creating build\\lib.win-amd64-3.10\\pandas\\tests\n",
            "  copying pandas\\tests\\test_aggregation.py -> build\\lib.win-amd64-3.10\\pandas\\tests\n",
            "  copying pandas\\tests\\test_algos.py -> build\\lib.win-amd64-3.10\\pandas\\tests\n",
            "  copying pandas\\tests\\test_common.py -> build\\lib.win-amd64-3.10\\pandas\\tests\n",
            "  copying pandas\\tests\\test_downstream.py -> build\\lib.win-amd64-3.10\\pandas\\tests\n",
            "  copying pandas\\tests\\test_errors.py -> build\\lib.win-amd64-3.10\\pandas\\tests\n",
            "  copying pandas\\tests\\test_expressions.py -> build\\lib.win-amd64-3.10\\pandas\\tests\n",
            "  copying pandas\\tests\\test_flags.py -> build\\lib.win-amd64-3.10\\pandas\\tests\n",
            "  copying pandas\\tests\\test_multilevel.py -> build\\lib.win-amd64-3.10\\pandas\\tests\n",
            "  copying pandas\\tests\\test_nanops.py -> build\\lib.win-amd64-3.10\\pandas\\tests\n",
            "  copying pandas\\tests\\test_optional_dependency.py -> build\\lib.win-amd64-3.10\\pandas\\tests\n",
            "  copying pandas\\tests\\test_register_accessor.py -> build\\lib.win-amd64-3.10\\pandas\\tests\n",
            "  copying pandas\\tests\\test_sorting.py -> build\\lib.win-amd64-3.10\\pandas\\tests\n",
            "  copying pandas\\tests\\test_take.py -> build\\lib.win-amd64-3.10\\pandas\\tests\n",
            "  copying pandas\\tests\\__init__.py -> build\\lib.win-amd64-3.10\\pandas\\tests\n",
            "  creating build\\lib.win-amd64-3.10\\pandas\\tseries\n",
            "  copying pandas\\tseries\\api.py -> build\\lib.win-amd64-3.10\\pandas\\tseries\n",
            "  copying pandas\\tseries\\frequencies.py -> build\\lib.win-amd64-3.10\\pandas\\tseries\n",
            "  copying pandas\\tseries\\holiday.py -> build\\lib.win-amd64-3.10\\pandas\\tseries\n",
            "  copying pandas\\tseries\\offsets.py -> build\\lib.win-amd64-3.10\\pandas\\tseries\n",
            "  copying pandas\\tseries\\__init__.py -> build\\lib.win-amd64-3.10\\pandas\\tseries\n",
            "  creating build\\lib.win-amd64-3.10\\pandas\\util\n",
            "  copying pandas\\util\\testing.py -> build\\lib.win-amd64-3.10\\pandas\\util\n",
            "  copying pandas\\util\\_decorators.py -> build\\lib.win-amd64-3.10\\pandas\\util\n",
            "  copying pandas\\util\\_depr_module.py -> build\\lib.win-amd64-3.10\\pandas\\util\n",
            "  copying pandas\\util\\_doctools.py -> build\\lib.win-amd64-3.10\\pandas\\util\n",
            "  copying pandas\\util\\_exceptions.py -> build\\lib.win-amd64-3.10\\pandas\\util\n",
            "  copying pandas\\util\\_print_versions.py -> build\\lib.win-amd64-3.10\\pandas\\util\n",
            "  copying pandas\\util\\_tester.py -> build\\lib.win-amd64-3.10\\pandas\\util\n",
            "  copying pandas\\util\\_test_decorators.py -> build\\lib.win-amd64-3.10\\pandas\\util\n",
            "  copying pandas\\util\\_validators.py -> build\\lib.win-amd64-3.10\\pandas\\util\n",
            "  copying pandas\\util\\__init__.py -> build\\lib.win-amd64-3.10\\pandas\\util\n",
            "  creating build\\lib.win-amd64-3.10\\pandas\\_config\n",
            "  copying pandas\\_config\\config.py -> build\\lib.win-amd64-3.10\\pandas\\_config\n",
            "  copying pandas\\_config\\dates.py -> build\\lib.win-amd64-3.10\\pandas\\_config\n",
            "  copying pandas\\_config\\display.py -> build\\lib.win-amd64-3.10\\pandas\\_config\n",
            "  copying pandas\\_config\\localization.py -> build\\lib.win-amd64-3.10\\pandas\\_config\n",
            "  copying pandas\\_config\\__init__.py -> build\\lib.win-amd64-3.10\\pandas\\_config\n",
            "  creating build\\lib.win-amd64-3.10\\pandas\\_libs\n",
            "  copying pandas\\_libs\\__init__.py -> build\\lib.win-amd64-3.10\\pandas\\_libs\n",
            "  creating build\\lib.win-amd64-3.10\\pandas\\_testing\n",
            "  copying pandas\\_testing\\asserters.py -> build\\lib.win-amd64-3.10\\pandas\\_testing\n",
            "  copying pandas\\_testing\\compat.py -> build\\lib.win-amd64-3.10\\pandas\\_testing\n",
            "  copying pandas\\_testing\\contexts.py -> build\\lib.win-amd64-3.10\\pandas\\_testing\n",
            "  copying pandas\\_testing\\_io.py -> build\\lib.win-amd64-3.10\\pandas\\_testing\n",
            "  copying pandas\\_testing\\_random.py -> build\\lib.win-amd64-3.10\\pandas\\_testing\n",
            "  copying pandas\\_testing\\_warnings.py -> build\\lib.win-amd64-3.10\\pandas\\_testing\n",
            "  copying pandas\\_testing\\__init__.py -> build\\lib.win-amd64-3.10\\pandas\\_testing\n",
            "  creating build\\lib.win-amd64-3.10\\pandas\\api\\extensions\n",
            "  copying pandas\\api\\extensions\\__init__.py -> build\\lib.win-amd64-3.10\\pandas\\api\\extensions\n",
            "  creating build\\lib.win-amd64-3.10\\pandas\\api\\indexers\n",
            "  copying pandas\\api\\indexers\\__init__.py -> build\\lib.win-amd64-3.10\\pandas\\api\\indexers\n",
            "  creating build\\lib.win-amd64-3.10\\pandas\\api\\types\n",
            "  copying pandas\\api\\types\\__init__.py -> build\\lib.win-amd64-3.10\\pandas\\api\\types\n",
            "  creating build\\lib.win-amd64-3.10\\pandas\\compat\\numpy\n",
            "  copying pandas\\compat\\numpy\\function.py -> build\\lib.win-amd64-3.10\\pandas\\compat\\numpy\n",
            "  copying pandas\\compat\\numpy\\__init__.py -> build\\lib.win-amd64-3.10\\pandas\\compat\\numpy\n",
            "  creating build\\lib.win-amd64-3.10\\pandas\\core\\arrays\n",
            "  copying pandas\\core\\arrays\\base.py -> build\\lib.win-amd64-3.10\\pandas\\core\\arrays\n",
            "  copying pandas\\core\\arrays\\boolean.py -> build\\lib.win-amd64-3.10\\pandas\\core\\arrays\n",
            "  copying pandas\\core\\arrays\\categorical.py -> build\\lib.win-amd64-3.10\\pandas\\core\\arrays\n",
            "  copying pandas\\core\\arrays\\datetimelike.py -> build\\lib.win-amd64-3.10\\pandas\\core\\arrays\n",
            "  copying pandas\\core\\arrays\\datetimes.py -> build\\lib.win-amd64-3.10\\pandas\\core\\arrays\n",
            "  copying pandas\\core\\arrays\\floating.py -> build\\lib.win-amd64-3.10\\pandas\\core\\arrays\n",
            "  copying pandas\\core\\arrays\\integer.py -> build\\lib.win-amd64-3.10\\pandas\\core\\arrays\n",
            "  copying pandas\\core\\arrays\\interval.py -> build\\lib.win-amd64-3.10\\pandas\\core\\arrays\n",
            "  copying pandas\\core\\arrays\\masked.py -> build\\lib.win-amd64-3.10\\pandas\\core\\arrays\n",
            "  copying pandas\\core\\arrays\\numeric.py -> build\\lib.win-amd64-3.10\\pandas\\core\\arrays\n",
            "  copying pandas\\core\\arrays\\numpy_.py -> build\\lib.win-amd64-3.10\\pandas\\core\\arrays\n",
            "  copying pandas\\core\\arrays\\period.py -> build\\lib.win-amd64-3.10\\pandas\\core\\arrays\n",
            "  copying pandas\\core\\arrays\\string_.py -> build\\lib.win-amd64-3.10\\pandas\\core\\arrays\n",
            "  copying pandas\\core\\arrays\\string_arrow.py -> build\\lib.win-amd64-3.10\\pandas\\core\\arrays\n",
            "  copying pandas\\core\\arrays\\timedeltas.py -> build\\lib.win-amd64-3.10\\pandas\\core\\arrays\n",
            "  copying pandas\\core\\arrays\\_arrow_utils.py -> build\\lib.win-amd64-3.10\\pandas\\core\\arrays\n",
            "  copying pandas\\core\\arrays\\_mixins.py -> build\\lib.win-amd64-3.10\\pandas\\core\\arrays\n",
            "  copying pandas\\core\\arrays\\_ranges.py -> build\\lib.win-amd64-3.10\\pandas\\core\\arrays\n",
            "  copying pandas\\core\\arrays\\__init__.py -> build\\lib.win-amd64-3.10\\pandas\\core\\arrays\n",
            "  creating build\\lib.win-amd64-3.10\\pandas\\core\\array_algos\n",
            "  copying pandas\\core\\array_algos\\masked_reductions.py -> build\\lib.win-amd64-3.10\\pandas\\core\\array_algos\n",
            "  copying pandas\\core\\array_algos\\putmask.py -> build\\lib.win-amd64-3.10\\pandas\\core\\array_algos\n",
            "  copying pandas\\core\\array_algos\\quantile.py -> build\\lib.win-amd64-3.10\\pandas\\core\\array_algos\n",
            "  copying pandas\\core\\array_algos\\replace.py -> build\\lib.win-amd64-3.10\\pandas\\core\\array_algos\n",
            "  copying pandas\\core\\array_algos\\take.py -> build\\lib.win-amd64-3.10\\pandas\\core\\array_algos\n",
            "  copying pandas\\core\\array_algos\\transforms.py -> build\\lib.win-amd64-3.10\\pandas\\core\\array_algos\n",
            "  copying pandas\\core\\array_algos\\__init__.py -> build\\lib.win-amd64-3.10\\pandas\\core\\array_algos\n",
            "  creating build\\lib.win-amd64-3.10\\pandas\\core\\computation\n",
            "  copying pandas\\core\\computation\\align.py -> build\\lib.win-amd64-3.10\\pandas\\core\\computation\n",
            "  copying pandas\\core\\computation\\api.py -> build\\lib.win-amd64-3.10\\pandas\\core\\computation\n",
            "  copying pandas\\core\\computation\\check.py -> build\\lib.win-amd64-3.10\\pandas\\core\\computation\n",
            "  copying pandas\\core\\computation\\common.py -> build\\lib.win-amd64-3.10\\pandas\\core\\computation\n",
            "  copying pandas\\core\\computation\\engines.py -> build\\lib.win-amd64-3.10\\pandas\\core\\computation\n",
            "  copying pandas\\core\\computation\\eval.py -> build\\lib.win-amd64-3.10\\pandas\\core\\computation\n",
            "  copying pandas\\core\\computation\\expr.py -> build\\lib.win-amd64-3.10\\pandas\\core\\computation\n",
            "  copying pandas\\core\\computation\\expressions.py -> build\\lib.win-amd64-3.10\\pandas\\core\\computation\n",
            "  copying pandas\\core\\computation\\ops.py -> build\\lib.win-amd64-3.10\\pandas\\core\\computation\n",
            "  copying pandas\\core\\computation\\parsing.py -> build\\lib.win-amd64-3.10\\pandas\\core\\computation\n",
            "  copying pandas\\core\\computation\\pytables.py -> build\\lib.win-amd64-3.10\\pandas\\core\\computation\n",
            "  copying pandas\\core\\computation\\scope.py -> build\\lib.win-amd64-3.10\\pandas\\core\\computation\n",
            "  copying pandas\\core\\computation\\__init__.py -> build\\lib.win-amd64-3.10\\pandas\\core\\computation\n",
            "  creating build\\lib.win-amd64-3.10\\pandas\\core\\dtypes\n",
            "  copying pandas\\core\\dtypes\\api.py -> build\\lib.win-amd64-3.10\\pandas\\core\\dtypes\n",
            "  copying pandas\\core\\dtypes\\base.py -> build\\lib.win-amd64-3.10\\pandas\\core\\dtypes\n",
            "  copying pandas\\core\\dtypes\\cast.py -> build\\lib.win-amd64-3.10\\pandas\\core\\dtypes\n",
            "  copying pandas\\core\\dtypes\\common.py -> build\\lib.win-amd64-3.10\\pandas\\core\\dtypes\n",
            "  copying pandas\\core\\dtypes\\concat.py -> build\\lib.win-amd64-3.10\\pandas\\core\\dtypes\n",
            "  copying pandas\\core\\dtypes\\dtypes.py -> build\\lib.win-amd64-3.10\\pandas\\core\\dtypes\n",
            "  copying pandas\\core\\dtypes\\generic.py -> build\\lib.win-amd64-3.10\\pandas\\core\\dtypes\n",
            "  copying pandas\\core\\dtypes\\inference.py -> build\\lib.win-amd64-3.10\\pandas\\core\\dtypes\n",
            "  copying pandas\\core\\dtypes\\missing.py -> build\\lib.win-amd64-3.10\\pandas\\core\\dtypes\n",
            "  copying pandas\\core\\dtypes\\__init__.py -> build\\lib.win-amd64-3.10\\pandas\\core\\dtypes\n",
            "  creating build\\lib.win-amd64-3.10\\pandas\\core\\groupby\n",
            "  copying pandas\\core\\groupby\\base.py -> build\\lib.win-amd64-3.10\\pandas\\core\\groupby\n",
            "  copying pandas\\core\\groupby\\categorical.py -> build\\lib.win-amd64-3.10\\pandas\\core\\groupby\n",
            "  copying pandas\\core\\groupby\\generic.py -> build\\lib.win-amd64-3.10\\pandas\\core\\groupby\n",
            "  copying pandas\\core\\groupby\\groupby.py -> build\\lib.win-amd64-3.10\\pandas\\core\\groupby\n",
            "  copying pandas\\core\\groupby\\grouper.py -> build\\lib.win-amd64-3.10\\pandas\\core\\groupby\n",
            "  copying pandas\\core\\groupby\\numba_.py -> build\\lib.win-amd64-3.10\\pandas\\core\\groupby\n",
            "  copying pandas\\core\\groupby\\ops.py -> build\\lib.win-amd64-3.10\\pandas\\core\\groupby\n",
            "  copying pandas\\core\\groupby\\__init__.py -> build\\lib.win-amd64-3.10\\pandas\\core\\groupby\n",
            "  creating build\\lib.win-amd64-3.10\\pandas\\core\\indexes\n",
            "  copying pandas\\core\\indexes\\accessors.py -> build\\lib.win-amd64-3.10\\pandas\\core\\indexes\n",
            "  copying pandas\\core\\indexes\\api.py -> build\\lib.win-amd64-3.10\\pandas\\core\\indexes\n",
            "  copying pandas\\core\\indexes\\base.py -> build\\lib.win-amd64-3.10\\pandas\\core\\indexes\n",
            "  copying pandas\\core\\indexes\\category.py -> build\\lib.win-amd64-3.10\\pandas\\core\\indexes\n",
            "  copying pandas\\core\\indexes\\datetimelike.py -> build\\lib.win-amd64-3.10\\pandas\\core\\indexes\n",
            "  copying pandas\\core\\indexes\\datetimes.py -> build\\lib.win-amd64-3.10\\pandas\\core\\indexes\n",
            "  copying pandas\\core\\indexes\\extension.py -> build\\lib.win-amd64-3.10\\pandas\\core\\indexes\n",
            "  copying pandas\\core\\indexes\\frozen.py -> build\\lib.win-amd64-3.10\\pandas\\core\\indexes\n",
            "  copying pandas\\core\\indexes\\interval.py -> build\\lib.win-amd64-3.10\\pandas\\core\\indexes\n",
            "  copying pandas\\core\\indexes\\multi.py -> build\\lib.win-amd64-3.10\\pandas\\core\\indexes\n",
            "  copying pandas\\core\\indexes\\numeric.py -> build\\lib.win-amd64-3.10\\pandas\\core\\indexes\n",
            "  copying pandas\\core\\indexes\\period.py -> build\\lib.win-amd64-3.10\\pandas\\core\\indexes\n",
            "  copying pandas\\core\\indexes\\range.py -> build\\lib.win-amd64-3.10\\pandas\\core\\indexes\n",
            "  copying pandas\\core\\indexes\\timedeltas.py -> build\\lib.win-amd64-3.10\\pandas\\core\\indexes\n",
            "  copying pandas\\core\\indexes\\__init__.py -> build\\lib.win-amd64-3.10\\pandas\\core\\indexes\n",
            "  creating build\\lib.win-amd64-3.10\\pandas\\core\\internals\n",
            "  copying pandas\\core\\internals\\api.py -> build\\lib.win-amd64-3.10\\pandas\\core\\internals\n",
            "  copying pandas\\core\\internals\\array_manager.py -> build\\lib.win-amd64-3.10\\pandas\\core\\internals\n",
            "  copying pandas\\core\\internals\\base.py -> build\\lib.win-amd64-3.10\\pandas\\core\\internals\n",
            "  copying pandas\\core\\internals\\blocks.py -> build\\lib.win-amd64-3.10\\pandas\\core\\internals\n",
            "  copying pandas\\core\\internals\\concat.py -> build\\lib.win-amd64-3.10\\pandas\\core\\internals\n",
            "  copying pandas\\core\\internals\\construction.py -> build\\lib.win-amd64-3.10\\pandas\\core\\internals\n",
            "  copying pandas\\core\\internals\\managers.py -> build\\lib.win-amd64-3.10\\pandas\\core\\internals\n",
            "  copying pandas\\core\\internals\\ops.py -> build\\lib.win-amd64-3.10\\pandas\\core\\internals\n",
            "  copying pandas\\core\\internals\\__init__.py -> build\\lib.win-amd64-3.10\\pandas\\core\\internals\n",
            "  creating build\\lib.win-amd64-3.10\\pandas\\core\\ops\n",
            "  copying pandas\\core\\ops\\array_ops.py -> build\\lib.win-amd64-3.10\\pandas\\core\\ops\n",
            "  copying pandas\\core\\ops\\common.py -> build\\lib.win-amd64-3.10\\pandas\\core\\ops\n",
            "  copying pandas\\core\\ops\\dispatch.py -> build\\lib.win-amd64-3.10\\pandas\\core\\ops\n",
            "  copying pandas\\core\\ops\\docstrings.py -> build\\lib.win-amd64-3.10\\pandas\\core\\ops\n",
            "  copying pandas\\core\\ops\\invalid.py -> build\\lib.win-amd64-3.10\\pandas\\core\\ops\n",
            "  copying pandas\\core\\ops\\mask_ops.py -> build\\lib.win-amd64-3.10\\pandas\\core\\ops\n",
            "  copying pandas\\core\\ops\\methods.py -> build\\lib.win-amd64-3.10\\pandas\\core\\ops\n",
            "  copying pandas\\core\\ops\\missing.py -> build\\lib.win-amd64-3.10\\pandas\\core\\ops\n",
            "  copying pandas\\core\\ops\\__init__.py -> build\\lib.win-amd64-3.10\\pandas\\core\\ops\n",
            "  creating build\\lib.win-amd64-3.10\\pandas\\core\\reshape\n",
            "  copying pandas\\core\\reshape\\api.py -> build\\lib.win-amd64-3.10\\pandas\\core\\reshape\n",
            "  copying pandas\\core\\reshape\\concat.py -> build\\lib.win-amd64-3.10\\pandas\\core\\reshape\n",
            "  copying pandas\\core\\reshape\\melt.py -> build\\lib.win-amd64-3.10\\pandas\\core\\reshape\n",
            "  copying pandas\\core\\reshape\\merge.py -> build\\lib.win-amd64-3.10\\pandas\\core\\reshape\n",
            "  copying pandas\\core\\reshape\\pivot.py -> build\\lib.win-amd64-3.10\\pandas\\core\\reshape\n",
            "  copying pandas\\core\\reshape\\reshape.py -> build\\lib.win-amd64-3.10\\pandas\\core\\reshape\n",
            "  copying pandas\\core\\reshape\\tile.py -> build\\lib.win-amd64-3.10\\pandas\\core\\reshape\n",
            "  copying pandas\\core\\reshape\\util.py -> build\\lib.win-amd64-3.10\\pandas\\core\\reshape\n",
            "  copying pandas\\core\\reshape\\__init__.py -> build\\lib.win-amd64-3.10\\pandas\\core\\reshape\n",
            "  creating build\\lib.win-amd64-3.10\\pandas\\core\\sparse\n",
            "  copying pandas\\core\\sparse\\api.py -> build\\lib.win-amd64-3.10\\pandas\\core\\sparse\n",
            "  copying pandas\\core\\sparse\\__init__.py -> build\\lib.win-amd64-3.10\\pandas\\core\\sparse\n",
            "  creating build\\lib.win-amd64-3.10\\pandas\\core\\strings\n",
            "  copying pandas\\core\\strings\\accessor.py -> build\\lib.win-amd64-3.10\\pandas\\core\\strings\n",
            "  copying pandas\\core\\strings\\base.py -> build\\lib.win-amd64-3.10\\pandas\\core\\strings\n",
            "  copying pandas\\core\\strings\\object_array.py -> build\\lib.win-amd64-3.10\\pandas\\core\\strings\n",
            "  copying pandas\\core\\strings\\__init__.py -> build\\lib.win-amd64-3.10\\pandas\\core\\strings\n",
            "  creating build\\lib.win-amd64-3.10\\pandas\\core\\tools\n",
            "  copying pandas\\core\\tools\\datetimes.py -> build\\lib.win-amd64-3.10\\pandas\\core\\tools\n",
            "  copying pandas\\core\\tools\\numeric.py -> build\\lib.win-amd64-3.10\\pandas\\core\\tools\n",
            "  copying pandas\\core\\tools\\timedeltas.py -> build\\lib.win-amd64-3.10\\pandas\\core\\tools\n",
            "  copying pandas\\core\\tools\\times.py -> build\\lib.win-amd64-3.10\\pandas\\core\\tools\n",
            "  copying pandas\\core\\tools\\__init__.py -> build\\lib.win-amd64-3.10\\pandas\\core\\tools\n",
            "  creating build\\lib.win-amd64-3.10\\pandas\\core\\util\n",
            "  copying pandas\\core\\util\\hashing.py -> build\\lib.win-amd64-3.10\\pandas\\core\\util\n",
            "  copying pandas\\core\\util\\numba_.py -> build\\lib.win-amd64-3.10\\pandas\\core\\util\n",
            "  copying pandas\\core\\util\\__init__.py -> build\\lib.win-amd64-3.10\\pandas\\core\\util\n",
            "  creating build\\lib.win-amd64-3.10\\pandas\\core\\window\n",
            "  copying pandas\\core\\window\\common.py -> build\\lib.win-amd64-3.10\\pandas\\core\\window\n",
            "  copying pandas\\core\\window\\doc.py -> build\\lib.win-amd64-3.10\\pandas\\core\\window\n",
            "  copying pandas\\core\\window\\ewm.py -> build\\lib.win-amd64-3.10\\pandas\\core\\window\n",
            "  copying pandas\\core\\window\\expanding.py -> build\\lib.win-amd64-3.10\\pandas\\core\\window\n",
            "  copying pandas\\core\\window\\indexers.py -> build\\lib.win-amd64-3.10\\pandas\\core\\window\n",
            "  copying pandas\\core\\window\\numba_.py -> build\\lib.win-amd64-3.10\\pandas\\core\\window\n",
            "  copying pandas\\core\\window\\online.py -> build\\lib.win-amd64-3.10\\pandas\\core\\window\n",
            "  copying pandas\\core\\window\\rolling.py -> build\\lib.win-amd64-3.10\\pandas\\core\\window\n",
            "  copying pandas\\core\\window\\__init__.py -> build\\lib.win-amd64-3.10\\pandas\\core\\window\n",
            "  creating build\\lib.win-amd64-3.10\\pandas\\core\\arrays\\sparse\n",
            "  copying pandas\\core\\arrays\\sparse\\accessor.py -> build\\lib.win-amd64-3.10\\pandas\\core\\arrays\\sparse\n",
            "  copying pandas\\core\\arrays\\sparse\\array.py -> build\\lib.win-amd64-3.10\\pandas\\core\\arrays\\sparse\n",
            "  copying pandas\\core\\arrays\\sparse\\dtype.py -> build\\lib.win-amd64-3.10\\pandas\\core\\arrays\\sparse\n",
            "  copying pandas\\core\\arrays\\sparse\\scipy_sparse.py -> build\\lib.win-amd64-3.10\\pandas\\core\\arrays\\sparse\n",
            "  copying pandas\\core\\arrays\\sparse\\__init__.py -> build\\lib.win-amd64-3.10\\pandas\\core\\arrays\\sparse\n",
            "  creating build\\lib.win-amd64-3.10\\pandas\\io\\clipboard\n",
            "  copying pandas\\io\\clipboard\\__init__.py -> build\\lib.win-amd64-3.10\\pandas\\io\\clipboard\n",
            "  creating build\\lib.win-amd64-3.10\\pandas\\io\\excel\n",
            "  copying pandas\\io\\excel\\_base.py -> build\\lib.win-amd64-3.10\\pandas\\io\\excel\n",
            "  copying pandas\\io\\excel\\_odfreader.py -> build\\lib.win-amd64-3.10\\pandas\\io\\excel\n",
            "  copying pandas\\io\\excel\\_odswriter.py -> build\\lib.win-amd64-3.10\\pandas\\io\\excel\n",
            "  copying pandas\\io\\excel\\_openpyxl.py -> build\\lib.win-amd64-3.10\\pandas\\io\\excel\n",
            "  copying pandas\\io\\excel\\_pyxlsb.py -> build\\lib.win-amd64-3.10\\pandas\\io\\excel\n",
            "  copying pandas\\io\\excel\\_util.py -> build\\lib.win-amd64-3.10\\pandas\\io\\excel\n",
            "  copying pandas\\io\\excel\\_xlrd.py -> build\\lib.win-amd64-3.10\\pandas\\io\\excel\n",
            "  copying pandas\\io\\excel\\_xlsxwriter.py -> build\\lib.win-amd64-3.10\\pandas\\io\\excel\n",
            "  copying pandas\\io\\excel\\_xlwt.py -> build\\lib.win-amd64-3.10\\pandas\\io\\excel\n",
            "  copying pandas\\io\\excel\\__init__.py -> build\\lib.win-amd64-3.10\\pandas\\io\\excel\n",
            "  creating build\\lib.win-amd64-3.10\\pandas\\io\\formats\n",
            "  copying pandas\\io\\formats\\console.py -> build\\lib.win-amd64-3.10\\pandas\\io\\formats\n",
            "  copying pandas\\io\\formats\\css.py -> build\\lib.win-amd64-3.10\\pandas\\io\\formats\n",
            "  copying pandas\\io\\formats\\csvs.py -> build\\lib.win-amd64-3.10\\pandas\\io\\formats\n",
            "  copying pandas\\io\\formats\\excel.py -> build\\lib.win-amd64-3.10\\pandas\\io\\formats\n",
            "  copying pandas\\io\\formats\\format.py -> build\\lib.win-amd64-3.10\\pandas\\io\\formats\n",
            "  copying pandas\\io\\formats\\html.py -> build\\lib.win-amd64-3.10\\pandas\\io\\formats\n",
            "  copying pandas\\io\\formats\\info.py -> build\\lib.win-amd64-3.10\\pandas\\io\\formats\n",
            "  copying pandas\\io\\formats\\latex.py -> build\\lib.win-amd64-3.10\\pandas\\io\\formats\n",
            "  copying pandas\\io\\formats\\printing.py -> build\\lib.win-amd64-3.10\\pandas\\io\\formats\n",
            "  copying pandas\\io\\formats\\string.py -> build\\lib.win-amd64-3.10\\pandas\\io\\formats\n",
            "  copying pandas\\io\\formats\\style.py -> build\\lib.win-amd64-3.10\\pandas\\io\\formats\n",
            "  copying pandas\\io\\formats\\style_render.py -> build\\lib.win-amd64-3.10\\pandas\\io\\formats\n",
            "  copying pandas\\io\\formats\\xml.py -> build\\lib.win-amd64-3.10\\pandas\\io\\formats\n",
            "  copying pandas\\io\\formats\\_color_data.py -> build\\lib.win-amd64-3.10\\pandas\\io\\formats\n",
            "  copying pandas\\io\\formats\\__init__.py -> build\\lib.win-amd64-3.10\\pandas\\io\\formats\n",
            "  creating build\\lib.win-amd64-3.10\\pandas\\io\\json\n",
            "  copying pandas\\io\\json\\_json.py -> build\\lib.win-amd64-3.10\\pandas\\io\\json\n",
            "  copying pandas\\io\\json\\_normalize.py -> build\\lib.win-amd64-3.10\\pandas\\io\\json\n",
            "  copying pandas\\io\\json\\_table_schema.py -> build\\lib.win-amd64-3.10\\pandas\\io\\json\n",
            "  copying pandas\\io\\json\\__init__.py -> build\\lib.win-amd64-3.10\\pandas\\io\\json\n",
            "  creating build\\lib.win-amd64-3.10\\pandas\\io\\parsers\n",
            "  copying pandas\\io\\parsers\\base_parser.py -> build\\lib.win-amd64-3.10\\pandas\\io\\parsers\n",
            "  copying pandas\\io\\parsers\\c_parser_wrapper.py -> build\\lib.win-amd64-3.10\\pandas\\io\\parsers\n",
            "  copying pandas\\io\\parsers\\python_parser.py -> build\\lib.win-amd64-3.10\\pandas\\io\\parsers\n",
            "  copying pandas\\io\\parsers\\readers.py -> build\\lib.win-amd64-3.10\\pandas\\io\\parsers\n",
            "  copying pandas\\io\\parsers\\__init__.py -> build\\lib.win-amd64-3.10\\pandas\\io\\parsers\n",
            "  creating build\\lib.win-amd64-3.10\\pandas\\io\\sas\n",
            "  copying pandas\\io\\sas\\sas7bdat.py -> build\\lib.win-amd64-3.10\\pandas\\io\\sas\n",
            "  copying pandas\\io\\sas\\sasreader.py -> build\\lib.win-amd64-3.10\\pandas\\io\\sas\n",
            "  copying pandas\\io\\sas\\sas_constants.py -> build\\lib.win-amd64-3.10\\pandas\\io\\sas\n",
            "  copying pandas\\io\\sas\\sas_xport.py -> build\\lib.win-amd64-3.10\\pandas\\io\\sas\n",
            "  copying pandas\\io\\sas\\__init__.py -> build\\lib.win-amd64-3.10\\pandas\\io\\sas\n",
            "  creating build\\lib.win-amd64-3.10\\pandas\\plotting\\_matplotlib\n",
            "  copying pandas\\plotting\\_matplotlib\\boxplot.py -> build\\lib.win-amd64-3.10\\pandas\\plotting\\_matplotlib\n",
            "  copying pandas\\plotting\\_matplotlib\\compat.py -> build\\lib.win-amd64-3.10\\pandas\\plotting\\_matplotlib\n",
            "  copying pandas\\plotting\\_matplotlib\\converter.py -> build\\lib.win-amd64-3.10\\pandas\\plotting\\_matplotlib\n",
            "  copying pandas\\plotting\\_matplotlib\\core.py -> build\\lib.win-amd64-3.10\\pandas\\plotting\\_matplotlib\n",
            "  copying pandas\\plotting\\_matplotlib\\hist.py -> build\\lib.win-amd64-3.10\\pandas\\plotting\\_matplotlib\n",
            "  copying pandas\\plotting\\_matplotlib\\misc.py -> build\\lib.win-amd64-3.10\\pandas\\plotting\\_matplotlib\n",
            "  copying pandas\\plotting\\_matplotlib\\style.py -> build\\lib.win-amd64-3.10\\pandas\\plotting\\_matplotlib\n",
            "  copying pandas\\plotting\\_matplotlib\\timeseries.py -> build\\lib.win-amd64-3.10\\pandas\\plotting\\_matplotlib\n",
            "  copying pandas\\plotting\\_matplotlib\\tools.py -> build\\lib.win-amd64-3.10\\pandas\\plotting\\_matplotlib\n",
            "  copying pandas\\plotting\\_matplotlib\\__init__.py -> build\\lib.win-amd64-3.10\\pandas\\plotting\\_matplotlib\n",
            "  creating build\\lib.win-amd64-3.10\\pandas\\tests\\api\n",
            "  copying pandas\\tests\\api\\test_api.py -> build\\lib.win-amd64-3.10\\pandas\\tests\\api\n",
            "  copying pandas\\tests\\api\\test_types.py -> build\\lib.win-amd64-3.10\\pandas\\tests\\api\n",
            "  copying pandas\\tests\\api\\__init__.py -> build\\lib.win-amd64-3.10\\pandas\\tests\\api\n",
            "  creating build\\lib.win-amd64-3.10\\pandas\\tests\\apply\n",
            "  copying pandas\\tests\\apply\\common.py -> build\\lib.win-amd64-3.10\\pandas\\tests\\apply\n",
            "  copying pandas\\tests\\apply\\conftest.py -> build\\lib.win-amd64-3.10\\pandas\\tests\\apply\n",
            "  copying pandas\\tests\\apply\\test_frame_apply.py -> build\\lib.win-amd64-3.10\\pandas\\tests\\apply\n",
            "  copying pandas\\tests\\apply\\test_frame_apply_relabeling.py -> build\\lib.win-amd64-3.10\\pandas\\tests\\apply\n",
            "  copying pandas\\tests\\apply\\test_frame_transform.py -> build\\lib.win-amd64-3.10\\pandas\\tests\\apply\n",
            "  copying pandas\\tests\\apply\\test_invalid_arg.py -> build\\lib.win-amd64-3.10\\pandas\\tests\\apply\n",
            "  copying pandas\\tests\\apply\\test_series_apply.py -> build\\lib.win-amd64-3.10\\pandas\\tests\\apply\n",
            "  copying pandas\\tests\\apply\\test_series_apply_relabeling.py -> build\\lib.win-amd64-3.10\\pandas\\tests\\apply\n",
            "  copying pandas\\tests\\apply\\test_series_transform.py -> build\\lib.win-amd64-3.10\\pandas\\tests\\apply\n",
            "  copying pandas\\tests\\apply\\__init__.py -> build\\lib.win-amd64-3.10\\pandas\\tests\\apply\n",
            "  creating build\\lib.win-amd64-3.10\\pandas\\tests\\arithmetic\n",
            "  copying pandas\\tests\\arithmetic\\common.py -> build\\lib.win-amd64-3.10\\pandas\\tests\\arithmetic\n",
            "  copying pandas\\tests\\arithmetic\\conftest.py -> build\\lib.win-amd64-3.10\\pandas\\tests\\arithmetic\n",
            "  copying pandas\\tests\\arithmetic\\test_array_ops.py -> build\\lib.win-amd64-3.10\\pandas\\tests\\arithmetic\n",
            "  copying pandas\\tests\\arithmetic\\test_categorical.py -> build\\lib.win-amd64-3.10\\pandas\\tests\\arithmetic\n",
            "  copying pandas\\tests\\arithmetic\\test_datetime64.py -> build\\lib.win-amd64-3.10\\pandas\\tests\\arithmetic\n",
            "  copying pandas\\tests\\arithmetic\\test_interval.py -> build\\lib.win-amd64-3.10\\pandas\\tests\\arithmetic\n",
            "  copying pandas\\tests\\arithmetic\\test_numeric.py -> build\\lib.win-amd64-3.10\\pandas\\tests\\arithmetic\n",
            "  copying pandas\\tests\\arithmetic\\test_object.py -> build\\lib.win-amd64-3.10\\pandas\\tests\\arithmetic\n",
            "  copying pandas\\tests\\arithmetic\\test_period.py -> build\\lib.win-amd64-3.10\\pandas\\tests\\arithmetic\n",
            "  copying pandas\\tests\\arithmetic\\test_timedelta64.py -> build\\lib.win-amd64-3.10\\pandas\\tests\\arithmetic\n",
            "  copying pandas\\tests\\arithmetic\\__init__.py -> build\\lib.win-amd64-3.10\\pandas\\tests\\arithmetic\n",
            "  creating build\\lib.win-amd64-3.10\\pandas\\tests\\arrays\n",
            "  copying pandas\\tests\\arrays\\test_array.py -> build\\lib.win-amd64-3.10\\pandas\\tests\\arrays\n",
            "  copying pandas\\tests\\arrays\\test_datetimelike.py -> build\\lib.win-amd64-3.10\\pandas\\tests\\arrays\n",
            "  copying pandas\\tests\\arrays\\test_datetimes.py -> build\\lib.win-amd64-3.10\\pandas\\tests\\arrays\n",
            "  copying pandas\\tests\\arrays\\test_ndarray_backed.py -> build\\lib.win-amd64-3.10\\pandas\\tests\\arrays\n",
            "  copying pandas\\tests\\arrays\\test_numpy.py -> build\\lib.win-amd64-3.10\\pandas\\tests\\arrays\n",
            "  copying pandas\\tests\\arrays\\test_period.py -> build\\lib.win-amd64-3.10\\pandas\\tests\\arrays\n",
            "  copying pandas\\tests\\arrays\\test_timedeltas.py -> build\\lib.win-amd64-3.10\\pandas\\tests\\arrays\n",
            "  copying pandas\\tests\\arrays\\__init__.py -> build\\lib.win-amd64-3.10\\pandas\\tests\\arrays\n",
            "  creating build\\lib.win-amd64-3.10\\pandas\\tests\\base\n",
            "  copying pandas\\tests\\base\\common.py -> build\\lib.win-amd64-3.10\\pandas\\tests\\base\n",
            "  copying pandas\\tests\\base\\test_constructors.py -> build\\lib.win-amd64-3.10\\pandas\\tests\\base\n",
            "  copying pandas\\tests\\base\\test_conversion.py -> build\\lib.win-amd64-3.10\\pandas\\tests\\base\n",
            "  copying pandas\\tests\\base\\test_fillna.py -> build\\lib.win-amd64-3.10\\pandas\\tests\\base\n",
            "  copying pandas\\tests\\base\\test_misc.py -> build\\lib.win-amd64-3.10\\pandas\\tests\\base\n",
            "  copying pandas\\tests\\base\\test_transpose.py -> build\\lib.win-amd64-3.10\\pandas\\tests\\base\n",
            "  copying pandas\\tests\\base\\test_unique.py -> build\\lib.win-amd64-3.10\\pandas\\tests\\base\n",
            "  copying pandas\\tests\\base\\test_value_counts.py -> build\\lib.win-amd64-3.10\\pandas\\tests\\base\n",
            "  copying pandas\\tests\\base\\__init__.py -> build\\lib.win-amd64-3.10\\pandas\\tests\\base\n",
            "  creating build\\lib.win-amd64-3.10\\pandas\\tests\\computation\n",
            "  copying pandas\\tests\\computation\\test_compat.py -> build\\lib.win-amd64-3.10\\pandas\\tests\\computation\n",
            "  copying pandas\\tests\\computation\\test_eval.py -> build\\lib.win-amd64-3.10\\pandas\\tests\\computation\n",
            "  copying pandas\\tests\\computation\\__init__.py -> build\\lib.win-amd64-3.10\\pandas\\tests\\computation\n",
            "  creating build\\lib.win-amd64-3.10\\pandas\\tests\\config\n",
            "  copying pandas\\tests\\config\\test_config.py -> build\\lib.win-amd64-3.10\\pandas\\tests\\config\n",
            "  copying pandas\\tests\\config\\test_localization.py -> build\\lib.win-amd64-3.10\\pandas\\tests\\config\n",
            "  copying pandas\\tests\\config\\__init__.py -> build\\lib.win-amd64-3.10\\pandas\\tests\\config\n",
            "  creating build\\lib.win-amd64-3.10\\pandas\\tests\\construction\n",
            "  copying pandas\\tests\\construction\\test_extract_array.py -> build\\lib.win-amd64-3.10\\pandas\\tests\\construction\n",
            "  copying pandas\\tests\\construction\\__init__.py -> build\\lib.win-amd64-3.10\\pandas\\tests\\construction\n",
            "  creating build\\lib.win-amd64-3.10\\pandas\\tests\\dtypes\n",
            "  copying pandas\\tests\\dtypes\\test_common.py -> build\\lib.win-amd64-3.10\\pandas\\tests\\dtypes\n",
            "  copying pandas\\tests\\dtypes\\test_concat.py -> build\\lib.win-amd64-3.10\\pandas\\tests\\dtypes\n",
            "  copying pandas\\tests\\dtypes\\test_dtypes.py -> build\\lib.win-amd64-3.10\\pandas\\tests\\dtypes\n",
            "  copying pandas\\tests\\dtypes\\test_generic.py -> build\\lib.win-amd64-3.10\\pandas\\tests\\dtypes\n",
            "  copying pandas\\tests\\dtypes\\test_inference.py -> build\\lib.win-amd64-3.10\\pandas\\tests\\dtypes\n",
            "  copying pandas\\tests\\dtypes\\test_missing.py -> build\\lib.win-amd64-3.10\\pandas\\tests\\dtypes\n",
            "  copying pandas\\tests\\dtypes\\__init__.py -> build\\lib.win-amd64-3.10\\pandas\\tests\\dtypes\n",
            "  creating build\\lib.win-amd64-3.10\\pandas\\tests\\extension\n",
            "  copying pandas\\tests\\extension\\conftest.py -> build\\lib.win-amd64-3.10\\pandas\\tests\\extension\n",
            "  copying pandas\\tests\\extension\\test_boolean.py -> build\\lib.win-amd64-3.10\\pandas\\tests\\extension\n",
            "  copying pandas\\tests\\extension\\test_categorical.py -> build\\lib.win-amd64-3.10\\pandas\\tests\\extension\n",
            "  copying pandas\\tests\\extension\\test_common.py -> build\\lib.win-amd64-3.10\\pandas\\tests\\extension\n",
            "  copying pandas\\tests\\extension\\test_datetime.py -> build\\lib.win-amd64-3.10\\pandas\\tests\\extension\n",
            "  copying pandas\\tests\\extension\\test_extension.py -> build\\lib.win-amd64-3.10\\pandas\\tests\\extension\n",
            "  copying pandas\\tests\\extension\\test_external_block.py -> build\\lib.win-amd64-3.10\\pandas\\tests\\extension\n",
            "  copying pandas\\tests\\extension\\test_floating.py -> build\\lib.win-amd64-3.10\\pandas\\tests\\extension\n",
            "  copying pandas\\tests\\extension\\test_integer.py -> build\\lib.win-amd64-3.10\\pandas\\tests\\extension\n",
            "  copying pandas\\tests\\extension\\test_interval.py -> build\\lib.win-amd64-3.10\\pandas\\tests\\extension\n",
            "  copying pandas\\tests\\extension\\test_numpy.py -> build\\lib.win-amd64-3.10\\pandas\\tests\\extension\n",
            "  copying pandas\\tests\\extension\\test_period.py -> build\\lib.win-amd64-3.10\\pandas\\tests\\extension\n",
            "  copying pandas\\tests\\extension\\test_sparse.py -> build\\lib.win-amd64-3.10\\pandas\\tests\\extension\n",
            "  copying pandas\\tests\\extension\\test_string.py -> build\\lib.win-amd64-3.10\\pandas\\tests\\extension\n",
            "  copying pandas\\tests\\extension\\__init__.py -> build\\lib.win-amd64-3.10\\pandas\\tests\\extension\n",
            "  creating build\\lib.win-amd64-3.10\\pandas\\tests\\frame\n",
            "  copying pandas\\tests\\frame\\common.py -> build\\lib.win-amd64-3.10\\pandas\\tests\\frame\n",
            "  copying pandas\\tests\\frame\\conftest.py -> build\\lib.win-amd64-3.10\\pandas\\tests\\frame\n",
            "  copying pandas\\tests\\frame\\test_alter_axes.py -> build\\lib.win-amd64-3.10\\pandas\\tests\\frame\n",
            "  copying pandas\\tests\\frame\\test_api.py -> build\\lib.win-amd64-3.10\\pandas\\tests\\frame\n",
            "  copying pandas\\tests\\frame\\test_arithmetic.py -> build\\lib.win-amd64-3.10\\pandas\\tests\\frame\n",
            "  copying pandas\\tests\\frame\\test_block_internals.py -> build\\lib.win-amd64-3.10\\pandas\\tests\\frame\n",
            "  copying pandas\\tests\\frame\\test_constructors.py -> build\\lib.win-amd64-3.10\\pandas\\tests\\frame\n",
            "  copying pandas\\tests\\frame\\test_cumulative.py -> build\\lib.win-amd64-3.10\\pandas\\tests\\frame\n",
            "  copying pandas\\tests\\frame\\test_iteration.py -> build\\lib.win-amd64-3.10\\pandas\\tests\\frame\n",
            "  copying pandas\\tests\\frame\\test_logical_ops.py -> build\\lib.win-amd64-3.10\\pandas\\tests\\frame\n",
            "  copying pandas\\tests\\frame\\test_nonunique_indexes.py -> build\\lib.win-amd64-3.10\\pandas\\tests\\frame\n",
            "  copying pandas\\tests\\frame\\test_npfuncs.py -> build\\lib.win-amd64-3.10\\pandas\\tests\\frame\n",
            "  copying pandas\\tests\\frame\\test_query_eval.py -> build\\lib.win-amd64-3.10\\pandas\\tests\\frame\n",
            "  copying pandas\\tests\\frame\\test_reductions.py -> build\\lib.win-amd64-3.10\\pandas\\tests\\frame\n",
            "  copying pandas\\tests\\frame\\test_repr_info.py -> build\\lib.win-amd64-3.10\\pandas\\tests\\frame\n",
            "  copying pandas\\tests\\frame\\test_stack_unstack.py -> build\\lib.win-amd64-3.10\\pandas\\tests\\frame\n",
            "  copying pandas\\tests\\frame\\test_subclass.py -> build\\lib.win-amd64-3.10\\pandas\\tests\\frame\n",
            "  copying pandas\\tests\\frame\\test_ufunc.py -> build\\lib.win-amd64-3.10\\pandas\\tests\\frame\n",
            "  copying pandas\\tests\\frame\\test_unary.py -> build\\lib.win-amd64-3.10\\pandas\\tests\\frame\n",
            "  copying pandas\\tests\\frame\\test_validate.py -> build\\lib.win-amd64-3.10\\pandas\\tests\\frame\n",
            "  copying pandas\\tests\\frame\\__init__.py -> build\\lib.win-amd64-3.10\\pandas\\tests\\frame\n",
            "  creating build\\lib.win-amd64-3.10\\pandas\\tests\\generic\n",
            "  copying pandas\\tests\\generic\\test_duplicate_labels.py -> build\\lib.win-amd64-3.10\\pandas\\tests\\generic\n",
            "  copying pandas\\tests\\generic\\test_finalize.py -> build\\lib.win-amd64-3.10\\pandas\\tests\\generic\n",
            "  copying pandas\\tests\\generic\\test_frame.py -> build\\lib.win-amd64-3.10\\pandas\\tests\\generic\n",
            "  copying pandas\\tests\\generic\\test_generic.py -> build\\lib.win-amd64-3.10\\pandas\\tests\\generic\n",
            "  copying pandas\\tests\\generic\\test_label_or_level_utils.py -> build\\lib.win-amd64-3.10\\pandas\\tests\\generic\n",
            "  copying pandas\\tests\\generic\\test_series.py -> build\\lib.win-amd64-3.10\\pandas\\tests\\generic\n",
            "  copying pandas\\tests\\generic\\test_to_xarray.py -> build\\lib.win-amd64-3.10\\pandas\\tests\\generic\n",
            "  copying pandas\\tests\\generic\\__init__.py -> build\\lib.win-amd64-3.10\\pandas\\tests\\generic\n",
            "  creating build\\lib.win-amd64-3.10\\pandas\\tests\\groupby\n",
            "  copying pandas\\tests\\groupby\\conftest.py -> build\\lib.win-amd64-3.10\\pandas\\tests\\groupby\n",
            "  copying pandas\\tests\\groupby\\test_allowlist.py -> build\\lib.win-amd64-3.10\\pandas\\tests\\groupby\n",
            "  copying pandas\\tests\\groupby\\test_any_all.py -> build\\lib.win-amd64-3.10\\pandas\\tests\\groupby\n",
            "  copying pandas\\tests\\groupby\\test_apply.py -> build\\lib.win-amd64-3.10\\pandas\\tests\\groupby\n",
            "  copying pandas\\tests\\groupby\\test_apply_mutate.py -> build\\lib.win-amd64-3.10\\pandas\\tests\\groupby\n",
            "  copying pandas\\tests\\groupby\\test_bin_groupby.py -> build\\lib.win-amd64-3.10\\pandas\\tests\\groupby\n",
            "  copying pandas\\tests\\groupby\\test_categorical.py -> build\\lib.win-amd64-3.10\\pandas\\tests\\groupby\n",
            "  copying pandas\\tests\\groupby\\test_counting.py -> build\\lib.win-amd64-3.10\\pandas\\tests\\groupby\n",
            "  copying pandas\\tests\\groupby\\test_filters.py -> build\\lib.win-amd64-3.10\\pandas\\tests\\groupby\n",
            "  copying pandas\\tests\\groupby\\test_function.py -> build\\lib.win-amd64-3.10\\pandas\\tests\\groupby\n",
            "  copying pandas\\tests\\groupby\\test_groupby.py -> build\\lib.win-amd64-3.10\\pandas\\tests\\groupby\n",
            "  copying pandas\\tests\\groupby\\test_groupby_dropna.py -> build\\lib.win-amd64-3.10\\pandas\\tests\\groupby\n",
            "  copying pandas\\tests\\groupby\\test_groupby_shift_diff.py -> build\\lib.win-amd64-3.10\\pandas\\tests\\groupby\n",
            "  copying pandas\\tests\\groupby\\test_groupby_subclass.py -> build\\lib.win-amd64-3.10\\pandas\\tests\\groupby\n",
            "  copying pandas\\tests\\groupby\\test_grouping.py -> build\\lib.win-amd64-3.10\\pandas\\tests\\groupby\n",
            "  copying pandas\\tests\\groupby\\test_index_as_string.py -> build\\lib.win-amd64-3.10\\pandas\\tests\\groupby\n",
            "  copying pandas\\tests\\groupby\\test_libgroupby.py -> build\\lib.win-amd64-3.10\\pandas\\tests\\groupby\n",
            "  copying pandas\\tests\\groupby\\test_min_max.py -> build\\lib.win-amd64-3.10\\pandas\\tests\\groupby\n",
            "  copying pandas\\tests\\groupby\\test_missing.py -> build\\lib.win-amd64-3.10\\pandas\\tests\\groupby\n",
            "  copying pandas\\tests\\groupby\\test_nth.py -> build\\lib.win-amd64-3.10\\pandas\\tests\\groupby\n",
            "  copying pandas\\tests\\groupby\\test_nunique.py -> build\\lib.win-amd64-3.10\\pandas\\tests\\groupby\n",
            "  copying pandas\\tests\\groupby\\test_pipe.py -> build\\lib.win-amd64-3.10\\pandas\\tests\\groupby\n",
            "  copying pandas\\tests\\groupby\\test_quantile.py -> build\\lib.win-amd64-3.10\\pandas\\tests\\groupby\n",
            "  copying pandas\\tests\\groupby\\test_rank.py -> build\\lib.win-amd64-3.10\\pandas\\tests\\groupby\n",
            "  copying pandas\\tests\\groupby\\test_sample.py -> build\\lib.win-amd64-3.10\\pandas\\tests\\groupby\n",
            "  copying pandas\\tests\\groupby\\test_size.py -> build\\lib.win-amd64-3.10\\pandas\\tests\\groupby\n",
            "  copying pandas\\tests\\groupby\\test_timegrouper.py -> build\\lib.win-amd64-3.10\\pandas\\tests\\groupby\n",
            "  copying pandas\\tests\\groupby\\test_value_counts.py -> build\\lib.win-amd64-3.10\\pandas\\tests\\groupby\n",
            "  copying pandas\\tests\\groupby\\__init__.py -> build\\lib.win-amd64-3.10\\pandas\\tests\\groupby\n",
            "  creating build\\lib.win-amd64-3.10\\pandas\\tests\\indexes\n",
            "  copying pandas\\tests\\indexes\\common.py -> build\\lib.win-amd64-3.10\\pandas\\tests\\indexes\n",
            "  copying pandas\\tests\\indexes\\conftest.py -> build\\lib.win-amd64-3.10\\pandas\\tests\\indexes\n",
            "  copying pandas\\tests\\indexes\\datetimelike.py -> build\\lib.win-amd64-3.10\\pandas\\tests\\indexes\n",
            "  copying pandas\\tests\\indexes\\test_any_index.py -> build\\lib.win-amd64-3.10\\pandas\\tests\\indexes\n",
            "  copying pandas\\tests\\indexes\\test_base.py -> build\\lib.win-amd64-3.10\\pandas\\tests\\indexes\n",
            "  copying pandas\\tests\\indexes\\test_common.py -> build\\lib.win-amd64-3.10\\pandas\\tests\\indexes\n",
            "  copying pandas\\tests\\indexes\\test_engines.py -> build\\lib.win-amd64-3.10\\pandas\\tests\\indexes\n",
            "  copying pandas\\tests\\indexes\\test_frozen.py -> build\\lib.win-amd64-3.10\\pandas\\tests\\indexes\n",
            "  copying pandas\\tests\\indexes\\test_indexing.py -> build\\lib.win-amd64-3.10\\pandas\\tests\\indexes\n",
            "  copying pandas\\tests\\indexes\\test_index_new.py -> build\\lib.win-amd64-3.10\\pandas\\tests\\indexes\n",
            "  copying pandas\\tests\\indexes\\test_numpy_compat.py -> build\\lib.win-amd64-3.10\\pandas\\tests\\indexes\n",
            "  copying pandas\\tests\\indexes\\test_setops.py -> build\\lib.win-amd64-3.10\\pandas\\tests\\indexes\n",
            "  copying pandas\\tests\\indexes\\__init__.py -> build\\lib.win-amd64-3.10\\pandas\\tests\\indexes\n",
            "  creating build\\lib.win-amd64-3.10\\pandas\\tests\\indexing\n",
            "  copying pandas\\tests\\indexing\\common.py -> build\\lib.win-amd64-3.10\\pandas\\tests\\indexing\n",
            "  copying pandas\\tests\\indexing\\test_at.py -> build\\lib.win-amd64-3.10\\pandas\\tests\\indexing\n",
            "  copying pandas\\tests\\indexing\\test_categorical.py -> build\\lib.win-amd64-3.10\\pandas\\tests\\indexing\n",
            "  copying pandas\\tests\\indexing\\test_chaining_and_caching.py -> build\\lib.win-amd64-3.10\\pandas\\tests\\indexing\n",
            "  copying pandas\\tests\\indexing\\test_check_indexer.py -> build\\lib.win-amd64-3.10\\pandas\\tests\\indexing\n",
            "  copying pandas\\tests\\indexing\\test_coercion.py -> build\\lib.win-amd64-3.10\\pandas\\tests\\indexing\n",
            "  copying pandas\\tests\\indexing\\test_datetime.py -> build\\lib.win-amd64-3.10\\pandas\\tests\\indexing\n",
            "  copying pandas\\tests\\indexing\\test_floats.py -> build\\lib.win-amd64-3.10\\pandas\\tests\\indexing\n",
            "  copying pandas\\tests\\indexing\\test_iat.py -> build\\lib.win-amd64-3.10\\pandas\\tests\\indexing\n",
            "  copying pandas\\tests\\indexing\\test_iloc.py -> build\\lib.win-amd64-3.10\\pandas\\tests\\indexing\n",
            "  copying pandas\\tests\\indexing\\test_indexers.py -> build\\lib.win-amd64-3.10\\pandas\\tests\\indexing\n",
            "  copying pandas\\tests\\indexing\\test_indexing.py -> build\\lib.win-amd64-3.10\\pandas\\tests\\indexing\n",
            "  copying pandas\\tests\\indexing\\test_loc.py -> build\\lib.win-amd64-3.10\\pandas\\tests\\indexing\n",
            "  copying pandas\\tests\\indexing\\test_na_indexing.py -> build\\lib.win-amd64-3.10\\pandas\\tests\\indexing\n",
            "  copying pandas\\tests\\indexing\\test_partial.py -> build\\lib.win-amd64-3.10\\pandas\\tests\\indexing\n",
            "  copying pandas\\tests\\indexing\\test_scalar.py -> build\\lib.win-amd64-3.10\\pandas\\tests\\indexing\n",
            "  copying pandas\\tests\\indexing\\__init__.py -> build\\lib.win-amd64-3.10\\pandas\\tests\\indexing\n",
            "  creating build\\lib.win-amd64-3.10\\pandas\\tests\\internals\n",
            "  copying pandas\\tests\\internals\\test_api.py -> build\\lib.win-amd64-3.10\\pandas\\tests\\internals\n",
            "  copying pandas\\tests\\internals\\test_internals.py -> build\\lib.win-amd64-3.10\\pandas\\tests\\internals\n",
            "  copying pandas\\tests\\internals\\test_managers.py -> build\\lib.win-amd64-3.10\\pandas\\tests\\internals\n",
            "  copying pandas\\tests\\internals\\__init__.py -> build\\lib.win-amd64-3.10\\pandas\\tests\\internals\n",
            "  creating build\\lib.win-amd64-3.10\\pandas\\tests\\io\n",
            "  copying pandas\\tests\\io\\conftest.py -> build\\lib.win-amd64-3.10\\pandas\\tests\\io\n",
            "  copying pandas\\tests\\io\\generate_legacy_storage_files.py -> build\\lib.win-amd64-3.10\\pandas\\tests\\io\n",
            "  copying pandas\\tests\\io\\test_clipboard.py -> build\\lib.win-amd64-3.10\\pandas\\tests\\io\n",
            "  copying pandas\\tests\\io\\test_common.py -> build\\lib.win-amd64-3.10\\pandas\\tests\\io\n",
            "  copying pandas\\tests\\io\\test_compression.py -> build\\lib.win-amd64-3.10\\pandas\\tests\\io\n",
            "  copying pandas\\tests\\io\\test_date_converters.py -> build\\lib.win-amd64-3.10\\pandas\\tests\\io\n",
            "  copying pandas\\tests\\io\\test_feather.py -> build\\lib.win-amd64-3.10\\pandas\\tests\\io\n",
            "  copying pandas\\tests\\io\\test_fsspec.py -> build\\lib.win-amd64-3.10\\pandas\\tests\\io\n",
            "  copying pandas\\tests\\io\\test_gbq.py -> build\\lib.win-amd64-3.10\\pandas\\tests\\io\n",
            "  copying pandas\\tests\\io\\test_gcs.py -> build\\lib.win-amd64-3.10\\pandas\\tests\\io\n",
            "  copying pandas\\tests\\io\\test_html.py -> build\\lib.win-amd64-3.10\\pandas\\tests\\io\n",
            "  copying pandas\\tests\\io\\test_orc.py -> build\\lib.win-amd64-3.10\\pandas\\tests\\io\n",
            "  copying pandas\\tests\\io\\test_parquet.py -> build\\lib.win-amd64-3.10\\pandas\\tests\\io\n",
            "  copying pandas\\tests\\io\\test_pickle.py -> build\\lib.win-amd64-3.10\\pandas\\tests\\io\n",
            "  copying pandas\\tests\\io\\test_s3.py -> build\\lib.win-amd64-3.10\\pandas\\tests\\io\n",
            "  copying pandas\\tests\\io\\test_spss.py -> build\\lib.win-amd64-3.10\\pandas\\tests\\io\n",
            "  copying pandas\\tests\\io\\test_sql.py -> build\\lib.win-amd64-3.10\\pandas\\tests\\io\n",
            "  copying pandas\\tests\\io\\test_stata.py -> build\\lib.win-amd64-3.10\\pandas\\tests\\io\n",
            "  copying pandas\\tests\\io\\test_user_agent.py -> build\\lib.win-amd64-3.10\\pandas\\tests\\io\n",
            "  copying pandas\\tests\\io\\__init__.py -> build\\lib.win-amd64-3.10\\pandas\\tests\\io\n",
            "  creating build\\lib.win-amd64-3.10\\pandas\\tests\\libs\n",
            "  copying pandas\\tests\\libs\\test_hashtable.py -> build\\lib.win-amd64-3.10\\pandas\\tests\\libs\n",
            "  copying pandas\\tests\\libs\\test_join.py -> build\\lib.win-amd64-3.10\\pandas\\tests\\libs\n",
            "  copying pandas\\tests\\libs\\test_lib.py -> build\\lib.win-amd64-3.10\\pandas\\tests\\libs\n",
            "  copying pandas\\tests\\libs\\__init__.py -> build\\lib.win-amd64-3.10\\pandas\\tests\\libs\n",
            "  creating build\\lib.win-amd64-3.10\\pandas\\tests\\plotting\n",
            "  copying pandas\\tests\\plotting\\common.py -> build\\lib.win-amd64-3.10\\pandas\\tests\\plotting\n",
            "  copying pandas\\tests\\plotting\\test_backend.py -> build\\lib.win-amd64-3.10\\pandas\\tests\\plotting\n",
            "  copying pandas\\tests\\plotting\\test_boxplot_method.py -> build\\lib.win-amd64-3.10\\pandas\\tests\\plotting\n",
            "  copying pandas\\tests\\plotting\\test_common.py -> build\\lib.win-amd64-3.10\\pandas\\tests\\plotting\n",
            "  copying pandas\\tests\\plotting\\test_converter.py -> build\\lib.win-amd64-3.10\\pandas\\tests\\plotting\n",
            "  copying pandas\\tests\\plotting\\test_datetimelike.py -> build\\lib.win-amd64-3.10\\pandas\\tests\\plotting\n",
            "  copying pandas\\tests\\plotting\\test_groupby.py -> build\\lib.win-amd64-3.10\\pandas\\tests\\plotting\n",
            "  copying pandas\\tests\\plotting\\test_hist_method.py -> build\\lib.win-amd64-3.10\\pandas\\tests\\plotting\n",
            "  copying pandas\\tests\\plotting\\test_misc.py -> build\\lib.win-amd64-3.10\\pandas\\tests\\plotting\n",
            "  copying pandas\\tests\\plotting\\test_series.py -> build\\lib.win-amd64-3.10\\pandas\\tests\\plotting\n",
            "  copying pandas\\tests\\plotting\\test_style.py -> build\\lib.win-amd64-3.10\\pandas\\tests\\plotting\n",
            "  copying pandas\\tests\\plotting\\__init__.py -> build\\lib.win-amd64-3.10\\pandas\\tests\\plotting\n",
            "  creating build\\lib.win-amd64-3.10\\pandas\\tests\\reductions\n",
            "  copying pandas\\tests\\reductions\\test_reductions.py -> build\\lib.win-amd64-3.10\\pandas\\tests\\reductions\n",
            "  copying pandas\\tests\\reductions\\test_stat_reductions.py -> build\\lib.win-amd64-3.10\\pandas\\tests\\reductions\n",
            "  copying pandas\\tests\\reductions\\__init__.py -> build\\lib.win-amd64-3.10\\pandas\\tests\\reductions\n",
            "  creating build\\lib.win-amd64-3.10\\pandas\\tests\\resample\n",
            "  copying pandas\\tests\\resample\\conftest.py -> build\\lib.win-amd64-3.10\\pandas\\tests\\resample\n",
            "  copying pandas\\tests\\resample\\test_base.py -> build\\lib.win-amd64-3.10\\pandas\\tests\\resample\n",
            "  copying pandas\\tests\\resample\\test_datetime_index.py -> build\\lib.win-amd64-3.10\\pandas\\tests\\resample\n",
            "  copying pandas\\tests\\resample\\test_deprecated.py -> build\\lib.win-amd64-3.10\\pandas\\tests\\resample\n",
            "  copying pandas\\tests\\resample\\test_period_index.py -> build\\lib.win-amd64-3.10\\pandas\\tests\\resample\n",
            "  copying pandas\\tests\\resample\\test_resampler_grouper.py -> build\\lib.win-amd64-3.10\\pandas\\tests\\resample\n",
            "  copying pandas\\tests\\resample\\test_resample_api.py -> build\\lib.win-amd64-3.10\\pandas\\tests\\resample\n",
            "  copying pandas\\tests\\resample\\test_timedelta.py -> build\\lib.win-amd64-3.10\\pandas\\tests\\resample\n",
            "  copying pandas\\tests\\resample\\test_time_grouper.py -> build\\lib.win-amd64-3.10\\pandas\\tests\\resample\n",
            "  copying pandas\\tests\\resample\\__init__.py -> build\\lib.win-amd64-3.10\\pandas\\tests\\resample\n",
            "  creating build\\lib.win-amd64-3.10\\pandas\\tests\\reshape\n",
            "  copying pandas\\tests\\reshape\\test_crosstab.py -> build\\lib.win-amd64-3.10\\pandas\\tests\\reshape\n",
            "  copying pandas\\tests\\reshape\\test_cut.py -> build\\lib.win-amd64-3.10\\pandas\\tests\\reshape\n",
            "  copying pandas\\tests\\reshape\\test_get_dummies.py -> build\\lib.win-amd64-3.10\\pandas\\tests\\reshape\n",
            "  copying pandas\\tests\\reshape\\test_melt.py -> build\\lib.win-amd64-3.10\\pandas\\tests\\reshape\n",
            "  copying pandas\\tests\\reshape\\test_pivot.py -> build\\lib.win-amd64-3.10\\pandas\\tests\\reshape\n",
            "  copying pandas\\tests\\reshape\\test_pivot_multilevel.py -> build\\lib.win-amd64-3.10\\pandas\\tests\\reshape\n",
            "  copying pandas\\tests\\reshape\\test_qcut.py -> build\\lib.win-amd64-3.10\\pandas\\tests\\reshape\n",
            "  copying pandas\\tests\\reshape\\test_union_categoricals.py -> build\\lib.win-amd64-3.10\\pandas\\tests\\reshape\n",
            "  copying pandas\\tests\\reshape\\test_util.py -> build\\lib.win-amd64-3.10\\pandas\\tests\\reshape\n",
            "  copying pandas\\tests\\reshape\\__init__.py -> build\\lib.win-amd64-3.10\\pandas\\tests\\reshape\n",
            "  creating build\\lib.win-amd64-3.10\\pandas\\tests\\scalar\n",
            "  copying pandas\\tests\\scalar\\test_nat.py -> build\\lib.win-amd64-3.10\\pandas\\tests\\scalar\n",
            "  copying pandas\\tests\\scalar\\test_na_scalar.py -> build\\lib.win-amd64-3.10\\pandas\\tests\\scalar\n",
            "  copying pandas\\tests\\scalar\\__init__.py -> build\\lib.win-amd64-3.10\\pandas\\tests\\scalar\n",
            "  creating build\\lib.win-amd64-3.10\\pandas\\tests\\series\n",
            "  copying pandas\\tests\\series\\test_api.py -> build\\lib.win-amd64-3.10\\pandas\\tests\\series\n",
            "  copying pandas\\tests\\series\\test_arithmetic.py -> build\\lib.win-amd64-3.10\\pandas\\tests\\series\n",
            "  copying pandas\\tests\\series\\test_constructors.py -> build\\lib.win-amd64-3.10\\pandas\\tests\\series\n",
            "  copying pandas\\tests\\series\\test_cumulative.py -> build\\lib.win-amd64-3.10\\pandas\\tests\\series\n",
            "  copying pandas\\tests\\series\\test_iteration.py -> build\\lib.win-amd64-3.10\\pandas\\tests\\series\n",
            "  copying pandas\\tests\\series\\test_logical_ops.py -> build\\lib.win-amd64-3.10\\pandas\\tests\\series\n",
            "  copying pandas\\tests\\series\\test_missing.py -> build\\lib.win-amd64-3.10\\pandas\\tests\\series\n",
            "  copying pandas\\tests\\series\\test_npfuncs.py -> build\\lib.win-amd64-3.10\\pandas\\tests\\series\n",
            "  copying pandas\\tests\\series\\test_reductions.py -> build\\lib.win-amd64-3.10\\pandas\\tests\\series\n",
            "  copying pandas\\tests\\series\\test_repr.py -> build\\lib.win-amd64-3.10\\pandas\\tests\\series\n",
            "  copying pandas\\tests\\series\\test_subclass.py -> build\\lib.win-amd64-3.10\\pandas\\tests\\series\n",
            "  copying pandas\\tests\\series\\test_ufunc.py -> build\\lib.win-amd64-3.10\\pandas\\tests\\series\n",
            "  copying pandas\\tests\\series\\test_unary.py -> build\\lib.win-amd64-3.10\\pandas\\tests\\series\n",
            "  copying pandas\\tests\\series\\test_validate.py -> build\\lib.win-amd64-3.10\\pandas\\tests\\series\n",
            "  copying pandas\\tests\\series\\__init__.py -> build\\lib.win-amd64-3.10\\pandas\\tests\\series\n",
            "  creating build\\lib.win-amd64-3.10\\pandas\\tests\\strings\n",
            "  copying pandas\\tests\\strings\\conftest.py -> build\\lib.win-amd64-3.10\\pandas\\tests\\strings\n",
            "  copying pandas\\tests\\strings\\test_api.py -> build\\lib.win-amd64-3.10\\pandas\\tests\\strings\n",
            "  copying pandas\\tests\\strings\\test_case_justify.py -> build\\lib.win-amd64-3.10\\pandas\\tests\\strings\n",
            "  copying pandas\\tests\\strings\\test_cat.py -> build\\lib.win-amd64-3.10\\pandas\\tests\\strings\n",
            "  copying pandas\\tests\\strings\\test_extract.py -> build\\lib.win-amd64-3.10\\pandas\\tests\\strings\n",
            "  copying pandas\\tests\\strings\\test_find_replace.py -> build\\lib.win-amd64-3.10\\pandas\\tests\\strings\n",
            "  copying pandas\\tests\\strings\\test_get_dummies.py -> build\\lib.win-amd64-3.10\\pandas\\tests\\strings\n",
            "  copying pandas\\tests\\strings\\test_split_partition.py -> build\\lib.win-amd64-3.10\\pandas\\tests\\strings\n",
            "  copying pandas\\tests\\strings\\test_strings.py -> build\\lib.win-amd64-3.10\\pandas\\tests\\strings\n",
            "  copying pandas\\tests\\strings\\test_string_array.py -> build\\lib.win-amd64-3.10\\pandas\\tests\\strings\n",
            "  copying pandas\\tests\\strings\\__init__.py -> build\\lib.win-amd64-3.10\\pandas\\tests\\strings\n",
            "  creating build\\lib.win-amd64-3.10\\pandas\\tests\\tools\n",
            "  copying pandas\\tests\\tools\\test_to_datetime.py -> build\\lib.win-amd64-3.10\\pandas\\tests\\tools\n",
            "  copying pandas\\tests\\tools\\test_to_numeric.py -> build\\lib.win-amd64-3.10\\pandas\\tests\\tools\n",
            "  copying pandas\\tests\\tools\\test_to_time.py -> build\\lib.win-amd64-3.10\\pandas\\tests\\tools\n",
            "  copying pandas\\tests\\tools\\test_to_timedelta.py -> build\\lib.win-amd64-3.10\\pandas\\tests\\tools\n",
            "  copying pandas\\tests\\tools\\__init__.py -> build\\lib.win-amd64-3.10\\pandas\\tests\\tools\n",
            "  creating build\\lib.win-amd64-3.10\\pandas\\tests\\tseries\n",
            "  copying pandas\\tests\\tseries\\__init__.py -> build\\lib.win-amd64-3.10\\pandas\\tests\\tseries\n",
            "  creating build\\lib.win-amd64-3.10\\pandas\\tests\\tslibs\n",
            "  copying pandas\\tests\\tslibs\\test_api.py -> build\\lib.win-amd64-3.10\\pandas\\tests\\tslibs\n",
            "  copying pandas\\tests\\tslibs\\test_array_to_datetime.py -> build\\lib.win-amd64-3.10\\pandas\\tests\\tslibs\n",
            "  copying pandas\\tests\\tslibs\\test_ccalendar.py -> build\\lib.win-amd64-3.10\\pandas\\tests\\tslibs\n",
            "  copying pandas\\tests\\tslibs\\test_conversion.py -> build\\lib.win-amd64-3.10\\pandas\\tests\\tslibs\n",
            "  copying pandas\\tests\\tslibs\\test_fields.py -> build\\lib.win-amd64-3.10\\pandas\\tests\\tslibs\n",
            "  copying pandas\\tests\\tslibs\\test_libfrequencies.py -> build\\lib.win-amd64-3.10\\pandas\\tests\\tslibs\n",
            "  copying pandas\\tests\\tslibs\\test_liboffsets.py -> build\\lib.win-amd64-3.10\\pandas\\tests\\tslibs\n",
            "  copying pandas\\tests\\tslibs\\test_parse_iso8601.py -> build\\lib.win-amd64-3.10\\pandas\\tests\\tslibs\n",
            "  copying pandas\\tests\\tslibs\\test_parsing.py -> build\\lib.win-amd64-3.10\\pandas\\tests\\tslibs\n",
            "  copying pandas\\tests\\tslibs\\test_period_asfreq.py -> build\\lib.win-amd64-3.10\\pandas\\tests\\tslibs\n",
            "  copying pandas\\tests\\tslibs\\test_timedeltas.py -> build\\lib.win-amd64-3.10\\pandas\\tests\\tslibs\n",
            "  copying pandas\\tests\\tslibs\\test_timezones.py -> build\\lib.win-amd64-3.10\\pandas\\tests\\tslibs\n",
            "  copying pandas\\tests\\tslibs\\test_to_offset.py -> build\\lib.win-amd64-3.10\\pandas\\tests\\tslibs\n",
            "  copying pandas\\tests\\tslibs\\__init__.py -> build\\lib.win-amd64-3.10\\pandas\\tests\\tslibs\n",
            "  creating build\\lib.win-amd64-3.10\\pandas\\tests\\util\n",
            "  copying pandas\\tests\\util\\conftest.py -> build\\lib.win-amd64-3.10\\pandas\\tests\\util\n",
            "  copying pandas\\tests\\util\\test_assert_almost_equal.py -> build\\lib.win-amd64-3.10\\pandas\\tests\\util\n",
            "  copying pandas\\tests\\util\\test_assert_attr_equal.py -> build\\lib.win-amd64-3.10\\pandas\\tests\\util\n",
            "  copying pandas\\tests\\util\\test_assert_categorical_equal.py -> build\\lib.win-amd64-3.10\\pandas\\tests\\util\n",
            "  copying pandas\\tests\\util\\test_assert_extension_array_equal.py -> build\\lib.win-amd64-3.10\\pandas\\tests\\util\n",
            "  copying pandas\\tests\\util\\test_assert_frame_equal.py -> build\\lib.win-amd64-3.10\\pandas\\tests\\util\n",
            "  copying pandas\\tests\\util\\test_assert_index_equal.py -> build\\lib.win-amd64-3.10\\pandas\\tests\\util\n",
            "  copying pandas\\tests\\util\\test_assert_interval_array_equal.py -> build\\lib.win-amd64-3.10\\pandas\\tests\\util\n",
            "  copying pandas\\tests\\util\\test_assert_numpy_array_equal.py -> build\\lib.win-amd64-3.10\\pandas\\tests\\util\n",
            "  copying pandas\\tests\\util\\test_assert_produces_warning.py -> build\\lib.win-amd64-3.10\\pandas\\tests\\util\n",
            "  copying pandas\\tests\\util\\test_assert_series_equal.py -> build\\lib.win-amd64-3.10\\pandas\\tests\\util\n",
            "  copying pandas\\tests\\util\\test_deprecate.py -> build\\lib.win-amd64-3.10\\pandas\\tests\\util\n",
            "  copying pandas\\tests\\util\\test_deprecate_kwarg.py -> build\\lib.win-amd64-3.10\\pandas\\tests\\util\n",
            "  copying pandas\\tests\\util\\test_deprecate_nonkeyword_arguments.py -> build\\lib.win-amd64-3.10\\pandas\\tests\\util\n",
            "  copying pandas\\tests\\util\\test_doc.py -> build\\lib.win-amd64-3.10\\pandas\\tests\\util\n",
            "  copying pandas\\tests\\util\\test_hashing.py -> build\\lib.win-amd64-3.10\\pandas\\tests\\util\n",
            "  copying pandas\\tests\\util\\test_numba.py -> build\\lib.win-amd64-3.10\\pandas\\tests\\util\n",
            "  copying pandas\\tests\\util\\test_safe_import.py -> build\\lib.win-amd64-3.10\\pandas\\tests\\util\n",
            "  copying pandas\\tests\\util\\test_show_versions.py -> build\\lib.win-amd64-3.10\\pandas\\tests\\util\n",
            "  copying pandas\\tests\\util\\test_util.py -> build\\lib.win-amd64-3.10\\pandas\\tests\\util\n",
            "  copying pandas\\tests\\util\\test_validate_args.py -> build\\lib.win-amd64-3.10\\pandas\\tests\\util\n",
            "  copying pandas\\tests\\util\\test_validate_args_and_kwargs.py -> build\\lib.win-amd64-3.10\\pandas\\tests\\util\n",
            "  copying pandas\\tests\\util\\test_validate_kwargs.py -> build\\lib.win-amd64-3.10\\pandas\\tests\\util\n",
            "  copying pandas\\tests\\util\\__init__.py -> build\\lib.win-amd64-3.10\\pandas\\tests\\util\n",
            "  creating build\\lib.win-amd64-3.10\\pandas\\tests\\window\n",
            "  copying pandas\\tests\\window\\conftest.py -> build\\lib.win-amd64-3.10\\pandas\\tests\\window\n",
            "  copying pandas\\tests\\window\\test_api.py -> build\\lib.win-amd64-3.10\\pandas\\tests\\window\n",
            "  copying pandas\\tests\\window\\test_apply.py -> build\\lib.win-amd64-3.10\\pandas\\tests\\window\n",
            "  copying pandas\\tests\\window\\test_base_indexer.py -> build\\lib.win-amd64-3.10\\pandas\\tests\\window\n",
            "  copying pandas\\tests\\window\\test_dtypes.py -> build\\lib.win-amd64-3.10\\pandas\\tests\\window\n",
            "  copying pandas\\tests\\window\\test_ewm.py -> build\\lib.win-amd64-3.10\\pandas\\tests\\window\n",
            "  copying pandas\\tests\\window\\test_expanding.py -> build\\lib.win-amd64-3.10\\pandas\\tests\\window\n",
            "  copying pandas\\tests\\window\\test_groupby.py -> build\\lib.win-amd64-3.10\\pandas\\tests\\window\n",
            "  copying pandas\\tests\\window\\test_numba.py -> build\\lib.win-amd64-3.10\\pandas\\tests\\window\n",
            "  copying pandas\\tests\\window\\test_online.py -> build\\lib.win-amd64-3.10\\pandas\\tests\\window\n",
            "  copying pandas\\tests\\window\\test_pairwise.py -> build\\lib.win-amd64-3.10\\pandas\\tests\\window\n",
            "  copying pandas\\tests\\window\\test_rolling.py -> build\\lib.win-amd64-3.10\\pandas\\tests\\window\n",
            "  copying pandas\\tests\\window\\test_timeseries_window.py -> build\\lib.win-amd64-3.10\\pandas\\tests\\window\n",
            "  copying pandas\\tests\\window\\test_win_type.py -> build\\lib.win-amd64-3.10\\pandas\\tests\\window\n",
            "  copying pandas\\tests\\window\\__init__.py -> build\\lib.win-amd64-3.10\\pandas\\tests\\window\n",
            "  creating build\\lib.win-amd64-3.10\\pandas\\tests\\arrays\\boolean\n",
            "  copying pandas\\tests\\arrays\\boolean\\test_arithmetic.py -> build\\lib.win-amd64-3.10\\pandas\\tests\\arrays\\boolean\n",
            "  copying pandas\\tests\\arrays\\boolean\\test_astype.py -> build\\lib.win-amd64-3.10\\pandas\\tests\\arrays\\boolean\n",
            "  copying pandas\\tests\\arrays\\boolean\\test_comparison.py -> build\\lib.win-amd64-3.10\\pandas\\tests\\arrays\\boolean\n",
            "  copying pandas\\tests\\arrays\\boolean\\test_construction.py -> build\\lib.win-amd64-3.10\\pandas\\tests\\arrays\\boolean\n",
            "  copying pandas\\tests\\arrays\\boolean\\test_function.py -> build\\lib.win-amd64-3.10\\pandas\\tests\\arrays\\boolean\n",
            "  copying pandas\\tests\\arrays\\boolean\\test_indexing.py -> build\\lib.win-amd64-3.10\\pandas\\tests\\arrays\\boolean\n",
            "  copying pandas\\tests\\arrays\\boolean\\test_logical.py -> build\\lib.win-amd64-3.10\\pandas\\tests\\arrays\\boolean\n",
            "  copying pandas\\tests\\arrays\\boolean\\test_ops.py -> build\\lib.win-amd64-3.10\\pandas\\tests\\arrays\\boolean\n",
            "  copying pandas\\tests\\arrays\\boolean\\test_reduction.py -> build\\lib.win-amd64-3.10\\pandas\\tests\\arrays\\boolean\n",
            "  copying pandas\\tests\\arrays\\boolean\\test_repr.py -> build\\lib.win-amd64-3.10\\pandas\\tests\\arrays\\boolean\n",
            "  copying pandas\\tests\\arrays\\boolean\\__init__.py -> build\\lib.win-amd64-3.10\\pandas\\tests\\arrays\\boolean\n",
            "  creating build\\lib.win-amd64-3.10\\pandas\\tests\\arrays\\categorical\n",
            "  copying pandas\\tests\\arrays\\categorical\\common.py -> build\\lib.win-amd64-3.10\\pandas\\tests\\arrays\\categorical\n",
            "  copying pandas\\tests\\arrays\\categorical\\conftest.py -> build\\lib.win-amd64-3.10\\pandas\\tests\\arrays\\categorical\n",
            "  copying pandas\\tests\\arrays\\categorical\\test_algos.py -> build\\lib.win-amd64-3.10\\pandas\\tests\\arrays\\categorical\n",
            "  copying pandas\\tests\\arrays\\categorical\\test_analytics.py -> build\\lib.win-amd64-3.10\\pandas\\tests\\arrays\\categorical\n",
            "  copying pandas\\tests\\arrays\\categorical\\test_api.py -> build\\lib.win-amd64-3.10\\pandas\\tests\\arrays\\categorical\n",
            "  copying pandas\\tests\\arrays\\categorical\\test_constructors.py -> build\\lib.win-amd64-3.10\\pandas\\tests\\arrays\\categorical\n",
            "  copying pandas\\tests\\arrays\\categorical\\test_dtypes.py -> build\\lib.win-amd64-3.10\\pandas\\tests\\arrays\\categorical\n",
            "  copying pandas\\tests\\arrays\\categorical\\test_indexing.py -> build\\lib.win-amd64-3.10\\pandas\\tests\\arrays\\categorical\n",
            "  copying pandas\\tests\\arrays\\categorical\\test_missing.py -> build\\lib.win-amd64-3.10\\pandas\\tests\\arrays\\categorical\n",
            "  copying pandas\\tests\\arrays\\categorical\\test_operators.py -> build\\lib.win-amd64-3.10\\pandas\\tests\\arrays\\categorical\n",
            "  copying pandas\\tests\\arrays\\categorical\\test_replace.py -> build\\lib.win-amd64-3.10\\pandas\\tests\\arrays\\categorical\n",
            "  copying pandas\\tests\\arrays\\categorical\\test_repr.py -> build\\lib.win-amd64-3.10\\pandas\\tests\\arrays\\categorical\n",
            "  copying pandas\\tests\\arrays\\categorical\\test_sorting.py -> build\\lib.win-amd64-3.10\\pandas\\tests\\arrays\\categorical\n",
            "  copying pandas\\tests\\arrays\\categorical\\test_subclass.py -> build\\lib.win-amd64-3.10\\pandas\\tests\\arrays\\categorical\n",
            "  copying pandas\\tests\\arrays\\categorical\\test_take.py -> build\\lib.win-amd64-3.10\\pandas\\tests\\arrays\\categorical\n",
            "  copying pandas\\tests\\arrays\\categorical\\test_warnings.py -> build\\lib.win-amd64-3.10\\pandas\\tests\\arrays\\categorical\n",
            "  copying pandas\\tests\\arrays\\categorical\\__init__.py -> build\\lib.win-amd64-3.10\\pandas\\tests\\arrays\\categorical\n",
            "  creating build\\lib.win-amd64-3.10\\pandas\\tests\\arrays\\datetimes\n",
            "  copying pandas\\tests\\arrays\\datetimes\\test_constructors.py -> build\\lib.win-amd64-3.10\\pandas\\tests\\arrays\\datetimes\n",
            "  copying pandas\\tests\\arrays\\datetimes\\test_reductions.py -> build\\lib.win-amd64-3.10\\pandas\\tests\\arrays\\datetimes\n",
            "  copying pandas\\tests\\arrays\\datetimes\\__init__.py -> build\\lib.win-amd64-3.10\\pandas\\tests\\arrays\\datetimes\n",
            "  creating build\\lib.win-amd64-3.10\\pandas\\tests\\arrays\\floating\n",
            "  copying pandas\\tests\\arrays\\floating\\conftest.py -> build\\lib.win-amd64-3.10\\pandas\\tests\\arrays\\floating\n",
            "  copying pandas\\tests\\arrays\\floating\\test_arithmetic.py -> build\\lib.win-amd64-3.10\\pandas\\tests\\arrays\\floating\n",
            "  copying pandas\\tests\\arrays\\floating\\test_astype.py -> build\\lib.win-amd64-3.10\\pandas\\tests\\arrays\\floating\n",
            "  copying pandas\\tests\\arrays\\floating\\test_comparison.py -> build\\lib.win-amd64-3.10\\pandas\\tests\\arrays\\floating\n",
            "  copying pandas\\tests\\arrays\\floating\\test_concat.py -> build\\lib.win-amd64-3.10\\pandas\\tests\\arrays\\floating\n",
            "  copying pandas\\tests\\arrays\\floating\\test_construction.py -> build\\lib.win-amd64-3.10\\pandas\\tests\\arrays\\floating\n",
            "  copying pandas\\tests\\arrays\\floating\\test_function.py -> build\\lib.win-amd64-3.10\\pandas\\tests\\arrays\\floating\n",
            "  copying pandas\\tests\\arrays\\floating\\test_repr.py -> build\\lib.win-amd64-3.10\\pandas\\tests\\arrays\\floating\n",
            "  copying pandas\\tests\\arrays\\floating\\test_to_numpy.py -> build\\lib.win-amd64-3.10\\pandas\\tests\\arrays\\floating\n",
            "  copying pandas\\tests\\arrays\\floating\\__init__.py -> build\\lib.win-amd64-3.10\\pandas\\tests\\arrays\\floating\n",
            "  creating build\\lib.win-amd64-3.10\\pandas\\tests\\arrays\\integer\n",
            "  copying pandas\\tests\\arrays\\integer\\conftest.py -> build\\lib.win-amd64-3.10\\pandas\\tests\\arrays\\integer\n",
            "  copying pandas\\tests\\arrays\\integer\\test_arithmetic.py -> build\\lib.win-amd64-3.10\\pandas\\tests\\arrays\\integer\n",
            "  copying pandas\\tests\\arrays\\integer\\test_comparison.py -> build\\lib.win-amd64-3.10\\pandas\\tests\\arrays\\integer\n",
            "  copying pandas\\tests\\arrays\\integer\\test_concat.py -> build\\lib.win-amd64-3.10\\pandas\\tests\\arrays\\integer\n",
            "  copying pandas\\tests\\arrays\\integer\\test_construction.py -> build\\lib.win-amd64-3.10\\pandas\\tests\\arrays\\integer\n",
            "  copying pandas\\tests\\arrays\\integer\\test_dtypes.py -> build\\lib.win-amd64-3.10\\pandas\\tests\\arrays\\integer\n",
            "  copying pandas\\tests\\arrays\\integer\\test_function.py -> build\\lib.win-amd64-3.10\\pandas\\tests\\arrays\\integer\n",
            "  copying pandas\\tests\\arrays\\integer\\test_indexing.py -> build\\lib.win-amd64-3.10\\pandas\\tests\\arrays\\integer\n",
            "  copying pandas\\tests\\arrays\\integer\\test_repr.py -> build\\lib.win-amd64-3.10\\pandas\\tests\\arrays\\integer\n",
            "  copying pandas\\tests\\arrays\\integer\\__init__.py -> build\\lib.win-amd64-3.10\\pandas\\tests\\arrays\\integer\n",
            "  creating build\\lib.win-amd64-3.10\\pandas\\tests\\arrays\\interval\n",
            "  copying pandas\\tests\\arrays\\interval\\test_astype.py -> build\\lib.win-amd64-3.10\\pandas\\tests\\arrays\\interval\n",
            "  copying pandas\\tests\\arrays\\interval\\test_interval.py -> build\\lib.win-amd64-3.10\\pandas\\tests\\arrays\\interval\n",
            "  copying pandas\\tests\\arrays\\interval\\test_ops.py -> build\\lib.win-amd64-3.10\\pandas\\tests\\arrays\\interval\n",
            "  copying pandas\\tests\\arrays\\interval\\__init__.py -> build\\lib.win-amd64-3.10\\pandas\\tests\\arrays\\interval\n",
            "  creating build\\lib.win-amd64-3.10\\pandas\\tests\\arrays\\masked\n",
            "  copying pandas\\tests\\arrays\\masked\\test_arithmetic.py -> build\\lib.win-amd64-3.10\\pandas\\tests\\arrays\\masked\n",
            "  copying pandas\\tests\\arrays\\masked\\test_arrow_compat.py -> build\\lib.win-amd64-3.10\\pandas\\tests\\arrays\\masked\n",
            "  copying pandas\\tests\\arrays\\masked\\test_function.py -> build\\lib.win-amd64-3.10\\pandas\\tests\\arrays\\masked\n",
            "  copying pandas\\tests\\arrays\\masked\\__init__.py -> build\\lib.win-amd64-3.10\\pandas\\tests\\arrays\\masked\n",
            "  creating build\\lib.win-amd64-3.10\\pandas\\tests\\arrays\\period\n",
            "  copying pandas\\tests\\arrays\\period\\test_arrow_compat.py -> build\\lib.win-amd64-3.10\\pandas\\tests\\arrays\\period\n",
            "  copying pandas\\tests\\arrays\\period\\test_astype.py -> build\\lib.win-amd64-3.10\\pandas\\tests\\arrays\\period\n",
            "  copying pandas\\tests\\arrays\\period\\test_constructors.py -> build\\lib.win-amd64-3.10\\pandas\\tests\\arrays\\period\n",
            "  copying pandas\\tests\\arrays\\period\\test_reductions.py -> build\\lib.win-amd64-3.10\\pandas\\tests\\arrays\\period\n",
            "  copying pandas\\tests\\arrays\\period\\__init__.py -> build\\lib.win-amd64-3.10\\pandas\\tests\\arrays\\period\n",
            "  creating build\\lib.win-amd64-3.10\\pandas\\tests\\arrays\\sparse\n",
            "  copying pandas\\tests\\arrays\\sparse\\test_accessor.py -> build\\lib.win-amd64-3.10\\pandas\\tests\\arrays\\sparse\n",
            "  copying pandas\\tests\\arrays\\sparse\\test_arithmetics.py -> build\\lib.win-amd64-3.10\\pandas\\tests\\arrays\\sparse\n",
            "  copying pandas\\tests\\arrays\\sparse\\test_array.py -> build\\lib.win-amd64-3.10\\pandas\\tests\\arrays\\sparse\n",
            "  copying pandas\\tests\\arrays\\sparse\\test_combine_concat.py -> build\\lib.win-amd64-3.10\\pandas\\tests\\arrays\\sparse\n",
            "  copying pandas\\tests\\arrays\\sparse\\test_dtype.py -> build\\lib.win-amd64-3.10\\pandas\\tests\\arrays\\sparse\n",
            "  copying pandas\\tests\\arrays\\sparse\\test_libsparse.py -> build\\lib.win-amd64-3.10\\pandas\\tests\\arrays\\sparse\n",
            "  copying pandas\\tests\\arrays\\sparse\\__init__.py -> build\\lib.win-amd64-3.10\\pandas\\tests\\arrays\\sparse\n",
            "  creating build\\lib.win-amd64-3.10\\pandas\\tests\\arrays\\string_\n",
            "  copying pandas\\tests\\arrays\\string_\\test_string.py -> build\\lib.win-amd64-3.10\\pandas\\tests\\arrays\\string_\n",
            "  copying pandas\\tests\\arrays\\string_\\test_string_arrow.py -> build\\lib.win-amd64-3.10\\pandas\\tests\\arrays\\string_\n",
            "  copying pandas\\tests\\arrays\\string_\\__init__.py -> build\\lib.win-amd64-3.10\\pandas\\tests\\arrays\\string_\n",
            "  creating build\\lib.win-amd64-3.10\\pandas\\tests\\arrays\\timedeltas\n",
            "  copying pandas\\tests\\arrays\\timedeltas\\test_constructors.py -> build\\lib.win-amd64-3.10\\pandas\\tests\\arrays\\timedeltas\n",
            "  copying pandas\\tests\\arrays\\timedeltas\\test_reductions.py -> build\\lib.win-amd64-3.10\\pandas\\tests\\arrays\\timedeltas\n",
            "  copying pandas\\tests\\arrays\\timedeltas\\__init__.py -> build\\lib.win-amd64-3.10\\pandas\\tests\\arrays\\timedeltas\n",
            "  creating build\\lib.win-amd64-3.10\\pandas\\tests\\dtypes\\cast\n",
            "  copying pandas\\tests\\dtypes\\cast\\test_construct_from_scalar.py -> build\\lib.win-amd64-3.10\\pandas\\tests\\dtypes\\cast\n",
            "  copying pandas\\tests\\dtypes\\cast\\test_construct_ndarray.py -> build\\lib.win-amd64-3.10\\pandas\\tests\\dtypes\\cast\n",
            "  copying pandas\\tests\\dtypes\\cast\\test_construct_object_arr.py -> build\\lib.win-amd64-3.10\\pandas\\tests\\dtypes\\cast\n",
            "  copying pandas\\tests\\dtypes\\cast\\test_dict_compat.py -> build\\lib.win-amd64-3.10\\pandas\\tests\\dtypes\\cast\n",
            "  copying pandas\\tests\\dtypes\\cast\\test_downcast.py -> build\\lib.win-amd64-3.10\\pandas\\tests\\dtypes\\cast\n",
            "  copying pandas\\tests\\dtypes\\cast\\test_find_common_type.py -> build\\lib.win-amd64-3.10\\pandas\\tests\\dtypes\\cast\n",
            "  copying pandas\\tests\\dtypes\\cast\\test_infer_datetimelike.py -> build\\lib.win-amd64-3.10\\pandas\\tests\\dtypes\\cast\n",
            "  copying pandas\\tests\\dtypes\\cast\\test_infer_dtype.py -> build\\lib.win-amd64-3.10\\pandas\\tests\\dtypes\\cast\n",
            "  copying pandas\\tests\\dtypes\\cast\\test_maybe_box_native.py -> build\\lib.win-amd64-3.10\\pandas\\tests\\dtypes\\cast\n",
            "  copying pandas\\tests\\dtypes\\cast\\test_promote.py -> build\\lib.win-amd64-3.10\\pandas\\tests\\dtypes\\cast\n",
            "  copying pandas\\tests\\dtypes\\cast\\__init__.py -> build\\lib.win-amd64-3.10\\pandas\\tests\\dtypes\\cast\n",
            "  creating build\\lib.win-amd64-3.10\\pandas\\tests\\extension\\arrow\n",
            "  copying pandas\\tests\\extension\\arrow\\arrays.py -> build\\lib.win-amd64-3.10\\pandas\\tests\\extension\\arrow\n",
            "  copying pandas\\tests\\extension\\arrow\\test_bool.py -> build\\lib.win-amd64-3.10\\pandas\\tests\\extension\\arrow\n",
            "  copying pandas\\tests\\extension\\arrow\\test_string.py -> build\\lib.win-amd64-3.10\\pandas\\tests\\extension\\arrow\n",
            "  copying pandas\\tests\\extension\\arrow\\test_timestamp.py -> build\\lib.win-amd64-3.10\\pandas\\tests\\extension\\arrow\n",
            "  copying pandas\\tests\\extension\\arrow\\__init__.py -> build\\lib.win-amd64-3.10\\pandas\\tests\\extension\\arrow\n",
            "  creating build\\lib.win-amd64-3.10\\pandas\\tests\\extension\\base\n",
            "  copying pandas\\tests\\extension\\base\\base.py -> build\\lib.win-amd64-3.10\\pandas\\tests\\extension\\base\n",
            "  copying pandas\\tests\\extension\\base\\casting.py -> build\\lib.win-amd64-3.10\\pandas\\tests\\extension\\base\n",
            "  copying pandas\\tests\\extension\\base\\constructors.py -> build\\lib.win-amd64-3.10\\pandas\\tests\\extension\\base\n",
            "  copying pandas\\tests\\extension\\base\\dim2.py -> build\\lib.win-amd64-3.10\\pandas\\tests\\extension\\base\n",
            "  copying pandas\\tests\\extension\\base\\dtype.py -> build\\lib.win-amd64-3.10\\pandas\\tests\\extension\\base\n",
            "  copying pandas\\tests\\extension\\base\\getitem.py -> build\\lib.win-amd64-3.10\\pandas\\tests\\extension\\base\n",
            "  copying pandas\\tests\\extension\\base\\groupby.py -> build\\lib.win-amd64-3.10\\pandas\\tests\\extension\\base\n",
            "  copying pandas\\tests\\extension\\base\\interface.py -> build\\lib.win-amd64-3.10\\pandas\\tests\\extension\\base\n",
            "  copying pandas\\tests\\extension\\base\\io.py -> build\\lib.win-amd64-3.10\\pandas\\tests\\extension\\base\n",
            "  copying pandas\\tests\\extension\\base\\methods.py -> build\\lib.win-amd64-3.10\\pandas\\tests\\extension\\base\n",
            "  copying pandas\\tests\\extension\\base\\missing.py -> build\\lib.win-amd64-3.10\\pandas\\tests\\extension\\base\n",
            "  copying pandas\\tests\\extension\\base\\ops.py -> build\\lib.win-amd64-3.10\\pandas\\tests\\extension\\base\n",
            "  copying pandas\\tests\\extension\\base\\printing.py -> build\\lib.win-amd64-3.10\\pandas\\tests\\extension\\base\n",
            "  copying pandas\\tests\\extension\\base\\reduce.py -> build\\lib.win-amd64-3.10\\pandas\\tests\\extension\\base\n",
            "  copying pandas\\tests\\extension\\base\\reshaping.py -> build\\lib.win-amd64-3.10\\pandas\\tests\\extension\\base\n",
            "  copying pandas\\tests\\extension\\base\\setitem.py -> build\\lib.win-amd64-3.10\\pandas\\tests\\extension\\base\n",
            "  copying pandas\\tests\\extension\\base\\__init__.py -> build\\lib.win-amd64-3.10\\pandas\\tests\\extension\\base\n",
            "  creating build\\lib.win-amd64-3.10\\pandas\\tests\\extension\\decimal\n",
            "  copying pandas\\tests\\extension\\decimal\\array.py -> build\\lib.win-amd64-3.10\\pandas\\tests\\extension\\decimal\n",
            "  copying pandas\\tests\\extension\\decimal\\test_decimal.py -> build\\lib.win-amd64-3.10\\pandas\\tests\\extension\\decimal\n",
            "  copying pandas\\tests\\extension\\decimal\\__init__.py -> build\\lib.win-amd64-3.10\\pandas\\tests\\extension\\decimal\n",
            "  creating build\\lib.win-amd64-3.10\\pandas\\tests\\extension\\json\n",
            "  copying pandas\\tests\\extension\\json\\array.py -> build\\lib.win-amd64-3.10\\pandas\\tests\\extension\\json\n",
            "  copying pandas\\tests\\extension\\json\\test_json.py -> build\\lib.win-amd64-3.10\\pandas\\tests\\extension\\json\n",
            "  copying pandas\\tests\\extension\\json\\__init__.py -> build\\lib.win-amd64-3.10\\pandas\\tests\\extension\\json\n",
            "  creating build\\lib.win-amd64-3.10\\pandas\\tests\\extension\\list\n",
            "  copying pandas\\tests\\extension\\list\\array.py -> build\\lib.win-amd64-3.10\\pandas\\tests\\extension\\list\n",
            "  copying pandas\\tests\\extension\\list\\test_list.py -> build\\lib.win-amd64-3.10\\pandas\\tests\\extension\\list\n",
            "  copying pandas\\tests\\extension\\list\\__init__.py -> build\\lib.win-amd64-3.10\\pandas\\tests\\extension\\list\n",
            "  creating build\\lib.win-amd64-3.10\\pandas\\tests\\frame\\constructors\n",
            "  copying pandas\\tests\\frame\\constructors\\test_from_dict.py -> build\\lib.win-amd64-3.10\\pandas\\tests\\frame\\constructors\n",
            "  copying pandas\\tests\\frame\\constructors\\test_from_records.py -> build\\lib.win-amd64-3.10\\pandas\\tests\\frame\\constructors\n",
            "  copying pandas\\tests\\frame\\constructors\\__init__.py -> build\\lib.win-amd64-3.10\\pandas\\tests\\frame\\constructors\n",
            "  creating build\\lib.win-amd64-3.10\\pandas\\tests\\frame\\indexing\n",
            "  copying pandas\\tests\\frame\\indexing\\test_delitem.py -> build\\lib.win-amd64-3.10\\pandas\\tests\\frame\\indexing\n",
            "  copying pandas\\tests\\frame\\indexing\\test_get.py -> build\\lib.win-amd64-3.10\\pandas\\tests\\frame\\indexing\n",
            "  copying pandas\\tests\\frame\\indexing\\test_getitem.py -> build\\lib.win-amd64-3.10\\pandas\\tests\\frame\\indexing\n",
            "  copying pandas\\tests\\frame\\indexing\\test_get_value.py -> build\\lib.win-amd64-3.10\\pandas\\tests\\frame\\indexing\n",
            "  copying pandas\\tests\\frame\\indexing\\test_indexing.py -> build\\lib.win-amd64-3.10\\pandas\\tests\\frame\\indexing\n",
            "  copying pandas\\tests\\frame\\indexing\\test_insert.py -> build\\lib.win-amd64-3.10\\pandas\\tests\\frame\\indexing\n",
            "  copying pandas\\tests\\frame\\indexing\\test_lookup.py -> build\\lib.win-amd64-3.10\\pandas\\tests\\frame\\indexing\n",
            "  copying pandas\\tests\\frame\\indexing\\test_mask.py -> build\\lib.win-amd64-3.10\\pandas\\tests\\frame\\indexing\n",
            "  copying pandas\\tests\\frame\\indexing\\test_setitem.py -> build\\lib.win-amd64-3.10\\pandas\\tests\\frame\\indexing\n",
            "  copying pandas\\tests\\frame\\indexing\\test_set_value.py -> build\\lib.win-amd64-3.10\\pandas\\tests\\frame\\indexing\n",
            "  copying pandas\\tests\\frame\\indexing\\test_take.py -> build\\lib.win-amd64-3.10\\pandas\\tests\\frame\\indexing\n",
            "  copying pandas\\tests\\frame\\indexing\\test_where.py -> build\\lib.win-amd64-3.10\\pandas\\tests\\frame\\indexing\n",
            "  copying pandas\\tests\\frame\\indexing\\test_xs.py -> build\\lib.win-amd64-3.10\\pandas\\tests\\frame\\indexing\n",
            "  copying pandas\\tests\\frame\\indexing\\__init__.py -> build\\lib.win-amd64-3.10\\pandas\\tests\\frame\\indexing\n",
            "  creating build\\lib.win-amd64-3.10\\pandas\\tests\\frame\\methods\n",
            "  copying pandas\\tests\\frame\\methods\\test_add_prefix_suffix.py -> build\\lib.win-amd64-3.10\\pandas\\tests\\frame\\methods\n",
            "  copying pandas\\tests\\frame\\methods\\test_align.py -> build\\lib.win-amd64-3.10\\pandas\\tests\\frame\\methods\n",
            "  copying pandas\\tests\\frame\\methods\\test_append.py -> build\\lib.win-amd64-3.10\\pandas\\tests\\frame\\methods\n",
            "  copying pandas\\tests\\frame\\methods\\test_asfreq.py -> build\\lib.win-amd64-3.10\\pandas\\tests\\frame\\methods\n",
            "  copying pandas\\tests\\frame\\methods\\test_asof.py -> build\\lib.win-amd64-3.10\\pandas\\tests\\frame\\methods\n",
            "  copying pandas\\tests\\frame\\methods\\test_assign.py -> build\\lib.win-amd64-3.10\\pandas\\tests\\frame\\methods\n",
            "  copying pandas\\tests\\frame\\methods\\test_astype.py -> build\\lib.win-amd64-3.10\\pandas\\tests\\frame\\methods\n",
            "  copying pandas\\tests\\frame\\methods\\test_at_time.py -> build\\lib.win-amd64-3.10\\pandas\\tests\\frame\\methods\n",
            "  copying pandas\\tests\\frame\\methods\\test_between_time.py -> build\\lib.win-amd64-3.10\\pandas\\tests\\frame\\methods\n",
            "  copying pandas\\tests\\frame\\methods\\test_clip.py -> build\\lib.win-amd64-3.10\\pandas\\tests\\frame\\methods\n",
            "  copying pandas\\tests\\frame\\methods\\test_combine.py -> build\\lib.win-amd64-3.10\\pandas\\tests\\frame\\methods\n",
            "  copying pandas\\tests\\frame\\methods\\test_combine_first.py -> build\\lib.win-amd64-3.10\\pandas\\tests\\frame\\methods\n",
            "  copying pandas\\tests\\frame\\methods\\test_compare.py -> build\\lib.win-amd64-3.10\\pandas\\tests\\frame\\methods\n",
            "  copying pandas\\tests\\frame\\methods\\test_convert.py -> build\\lib.win-amd64-3.10\\pandas\\tests\\frame\\methods\n",
            "  copying pandas\\tests\\frame\\methods\\test_convert_dtypes.py -> build\\lib.win-amd64-3.10\\pandas\\tests\\frame\\methods\n",
            "  copying pandas\\tests\\frame\\methods\\test_copy.py -> build\\lib.win-amd64-3.10\\pandas\\tests\\frame\\methods\n",
            "  copying pandas\\tests\\frame\\methods\\test_count.py -> build\\lib.win-amd64-3.10\\pandas\\tests\\frame\\methods\n",
            "  copying pandas\\tests\\frame\\methods\\test_count_with_level_deprecated.py -> build\\lib.win-amd64-3.10\\pandas\\tests\\frame\\methods\n",
            "  copying pandas\\tests\\frame\\methods\\test_cov_corr.py -> build\\lib.win-amd64-3.10\\pandas\\tests\\frame\\methods\n",
            "  copying pandas\\tests\\frame\\methods\\test_describe.py -> build\\lib.win-amd64-3.10\\pandas\\tests\\frame\\methods\n",
            "  copying pandas\\tests\\frame\\methods\\test_diff.py -> build\\lib.win-amd64-3.10\\pandas\\tests\\frame\\methods\n",
            "  copying pandas\\tests\\frame\\methods\\test_dot.py -> build\\lib.win-amd64-3.10\\pandas\\tests\\frame\\methods\n",
            "  copying pandas\\tests\\frame\\methods\\test_drop.py -> build\\lib.win-amd64-3.10\\pandas\\tests\\frame\\methods\n",
            "  copying pandas\\tests\\frame\\methods\\test_droplevel.py -> build\\lib.win-amd64-3.10\\pandas\\tests\\frame\\methods\n",
            "  copying pandas\\tests\\frame\\methods\\test_dropna.py -> build\\lib.win-amd64-3.10\\pandas\\tests\\frame\\methods\n",
            "  copying pandas\\tests\\frame\\methods\\test_drop_duplicates.py -> build\\lib.win-amd64-3.10\\pandas\\tests\\frame\\methods\n",
            "  copying pandas\\tests\\frame\\methods\\test_dtypes.py -> build\\lib.win-amd64-3.10\\pandas\\tests\\frame\\methods\n",
            "  copying pandas\\tests\\frame\\methods\\test_duplicated.py -> build\\lib.win-amd64-3.10\\pandas\\tests\\frame\\methods\n",
            "  copying pandas\\tests\\frame\\methods\\test_equals.py -> build\\lib.win-amd64-3.10\\pandas\\tests\\frame\\methods\n",
            "  copying pandas\\tests\\frame\\methods\\test_explode.py -> build\\lib.win-amd64-3.10\\pandas\\tests\\frame\\methods\n",
            "  copying pandas\\tests\\frame\\methods\\test_fillna.py -> build\\lib.win-amd64-3.10\\pandas\\tests\\frame\\methods\n",
            "  copying pandas\\tests\\frame\\methods\\test_filter.py -> build\\lib.win-amd64-3.10\\pandas\\tests\\frame\\methods\n",
            "  copying pandas\\tests\\frame\\methods\\test_first_and_last.py -> build\\lib.win-amd64-3.10\\pandas\\tests\\frame\\methods\n",
            "  copying pandas\\tests\\frame\\methods\\test_first_valid_index.py -> build\\lib.win-amd64-3.10\\pandas\\tests\\frame\\methods\n",
            "  copying pandas\\tests\\frame\\methods\\test_get_numeric_data.py -> build\\lib.win-amd64-3.10\\pandas\\tests\\frame\\methods\n",
            "  copying pandas\\tests\\frame\\methods\\test_head_tail.py -> build\\lib.win-amd64-3.10\\pandas\\tests\\frame\\methods\n",
            "  copying pandas\\tests\\frame\\methods\\test_infer_objects.py -> build\\lib.win-amd64-3.10\\pandas\\tests\\frame\\methods\n",
            "  copying pandas\\tests\\frame\\methods\\test_interpolate.py -> build\\lib.win-amd64-3.10\\pandas\\tests\\frame\\methods\n",
            "  copying pandas\\tests\\frame\\methods\\test_isin.py -> build\\lib.win-amd64-3.10\\pandas\\tests\\frame\\methods\n",
            "  copying pandas\\tests\\frame\\methods\\test_is_homogeneous_dtype.py -> build\\lib.win-amd64-3.10\\pandas\\tests\\frame\\methods\n",
            "  copying pandas\\tests\\frame\\methods\\test_join.py -> build\\lib.win-amd64-3.10\\pandas\\tests\\frame\\methods\n",
            "  copying pandas\\tests\\frame\\methods\\test_matmul.py -> build\\lib.win-amd64-3.10\\pandas\\tests\\frame\\methods\n",
            "  copying pandas\\tests\\frame\\methods\\test_nlargest.py -> build\\lib.win-amd64-3.10\\pandas\\tests\\frame\\methods\n",
            "  copying pandas\\tests\\frame\\methods\\test_pct_change.py -> build\\lib.win-amd64-3.10\\pandas\\tests\\frame\\methods\n",
            "  copying pandas\\tests\\frame\\methods\\test_pipe.py -> build\\lib.win-amd64-3.10\\pandas\\tests\\frame\\methods\n",
            "  copying pandas\\tests\\frame\\methods\\test_pop.py -> build\\lib.win-amd64-3.10\\pandas\\tests\\frame\\methods\n",
            "  copying pandas\\tests\\frame\\methods\\test_quantile.py -> build\\lib.win-amd64-3.10\\pandas\\tests\\frame\\methods\n",
            "  copying pandas\\tests\\frame\\methods\\test_rank.py -> build\\lib.win-amd64-3.10\\pandas\\tests\\frame\\methods\n",
            "  copying pandas\\tests\\frame\\methods\\test_reindex.py -> build\\lib.win-amd64-3.10\\pandas\\tests\\frame\\methods\n",
            "  copying pandas\\tests\\frame\\methods\\test_reindex_like.py -> build\\lib.win-amd64-3.10\\pandas\\tests\\frame\\methods\n",
            "  copying pandas\\tests\\frame\\methods\\test_rename.py -> build\\lib.win-amd64-3.10\\pandas\\tests\\frame\\methods\n",
            "  copying pandas\\tests\\frame\\methods\\test_rename_axis.py -> build\\lib.win-amd64-3.10\\pandas\\tests\\frame\\methods\n",
            "  copying pandas\\tests\\frame\\methods\\test_reorder_levels.py -> build\\lib.win-amd64-3.10\\pandas\\tests\\frame\\methods\n",
            "  copying pandas\\tests\\frame\\methods\\test_replace.py -> build\\lib.win-amd64-3.10\\pandas\\tests\\frame\\methods\n",
            "  copying pandas\\tests\\frame\\methods\\test_reset_index.py -> build\\lib.win-amd64-3.10\\pandas\\tests\\frame\\methods\n",
            "  copying pandas\\tests\\frame\\methods\\test_round.py -> build\\lib.win-amd64-3.10\\pandas\\tests\\frame\\methods\n",
            "  copying pandas\\tests\\frame\\methods\\test_sample.py -> build\\lib.win-amd64-3.10\\pandas\\tests\\frame\\methods\n",
            "  copying pandas\\tests\\frame\\methods\\test_select_dtypes.py -> build\\lib.win-amd64-3.10\\pandas\\tests\\frame\\methods\n",
            "  copying pandas\\tests\\frame\\methods\\test_set_axis.py -> build\\lib.win-amd64-3.10\\pandas\\tests\\frame\\methods\n",
            "  copying pandas\\tests\\frame\\methods\\test_set_index.py -> build\\lib.win-amd64-3.10\\pandas\\tests\\frame\\methods\n",
            "  copying pandas\\tests\\frame\\methods\\test_shift.py -> build\\lib.win-amd64-3.10\\pandas\\tests\\frame\\methods\n",
            "  copying pandas\\tests\\frame\\methods\\test_sort_index.py -> build\\lib.win-amd64-3.10\\pandas\\tests\\frame\\methods\n",
            "  copying pandas\\tests\\frame\\methods\\test_sort_values.py -> build\\lib.win-amd64-3.10\\pandas\\tests\\frame\\methods\n",
            "  copying pandas\\tests\\frame\\methods\\test_swapaxes.py -> build\\lib.win-amd64-3.10\\pandas\\tests\\frame\\methods\n",
            "  copying pandas\\tests\\frame\\methods\\test_swaplevel.py -> build\\lib.win-amd64-3.10\\pandas\\tests\\frame\\methods\n",
            "  copying pandas\\tests\\frame\\methods\\test_to_csv.py -> build\\lib.win-amd64-3.10\\pandas\\tests\\frame\\methods\n",
            "  copying pandas\\tests\\frame\\methods\\test_to_dict.py -> build\\lib.win-amd64-3.10\\pandas\\tests\\frame\\methods\n",
            "  copying pandas\\tests\\frame\\methods\\test_to_dict_of_blocks.py -> build\\lib.win-amd64-3.10\\pandas\\tests\\frame\\methods\n",
            "  copying pandas\\tests\\frame\\methods\\test_to_numpy.py -> build\\lib.win-amd64-3.10\\pandas\\tests\\frame\\methods\n",
            "  copying pandas\\tests\\frame\\methods\\test_to_period.py -> build\\lib.win-amd64-3.10\\pandas\\tests\\frame\\methods\n",
            "  copying pandas\\tests\\frame\\methods\\test_to_records.py -> build\\lib.win-amd64-3.10\\pandas\\tests\\frame\\methods\n",
            "  copying pandas\\tests\\frame\\methods\\test_to_timestamp.py -> build\\lib.win-amd64-3.10\\pandas\\tests\\frame\\methods\n",
            "  copying pandas\\tests\\frame\\methods\\test_transpose.py -> build\\lib.win-amd64-3.10\\pandas\\tests\\frame\\methods\n",
            "  copying pandas\\tests\\frame\\methods\\test_truncate.py -> build\\lib.win-amd64-3.10\\pandas\\tests\\frame\\methods\n",
            "  copying pandas\\tests\\frame\\methods\\test_tz_convert.py -> build\\lib.win-amd64-3.10\\pandas\\tests\\frame\\methods\n",
            "  copying pandas\\tests\\frame\\methods\\test_tz_localize.py -> build\\lib.win-amd64-3.10\\pandas\\tests\\frame\\methods\n",
            "  copying pandas\\tests\\frame\\methods\\test_update.py -> build\\lib.win-amd64-3.10\\pandas\\tests\\frame\\methods\n",
            "  copying pandas\\tests\\frame\\methods\\test_values.py -> build\\lib.win-amd64-3.10\\pandas\\tests\\frame\\methods\n",
            "  copying pandas\\tests\\frame\\methods\\test_value_counts.py -> build\\lib.win-amd64-3.10\\pandas\\tests\\frame\\methods\n",
            "  copying pandas\\tests\\frame\\methods\\__init__.py -> build\\lib.win-amd64-3.10\\pandas\\tests\\frame\\methods\n",
            "  creating build\\lib.win-amd64-3.10\\pandas\\tests\\groupby\\aggregate\n",
            "  copying pandas\\tests\\groupby\\aggregate\\test_aggregate.py -> build\\lib.win-amd64-3.10\\pandas\\tests\\groupby\\aggregate\n",
            "  copying pandas\\tests\\groupby\\aggregate\\test_cython.py -> build\\lib.win-amd64-3.10\\pandas\\tests\\groupby\\aggregate\n",
            "  copying pandas\\tests\\groupby\\aggregate\\test_numba.py -> build\\lib.win-amd64-3.10\\pandas\\tests\\groupby\\aggregate\n",
            "  copying pandas\\tests\\groupby\\aggregate\\test_other.py -> build\\lib.win-amd64-3.10\\pandas\\tests\\groupby\\aggregate\n",
            "  copying pandas\\tests\\groupby\\aggregate\\__init__.py -> build\\lib.win-amd64-3.10\\pandas\\tests\\groupby\\aggregate\n",
            "  creating build\\lib.win-amd64-3.10\\pandas\\tests\\groupby\\transform\n",
            "  copying pandas\\tests\\groupby\\transform\\test_numba.py -> build\\lib.win-amd64-3.10\\pandas\\tests\\groupby\\transform\n",
            "  copying pandas\\tests\\groupby\\transform\\test_transform.py -> build\\lib.win-amd64-3.10\\pandas\\tests\\groupby\\transform\n",
            "  copying pandas\\tests\\groupby\\transform\\__init__.py -> build\\lib.win-amd64-3.10\\pandas\\tests\\groupby\\transform\n",
            "  creating build\\lib.win-amd64-3.10\\pandas\\tests\\indexes\\base_class\n",
            "  copying pandas\\tests\\indexes\\base_class\\test_constructors.py -> build\\lib.win-amd64-3.10\\pandas\\tests\\indexes\\base_class\n",
            "  copying pandas\\tests\\indexes\\base_class\\test_formats.py -> build\\lib.win-amd64-3.10\\pandas\\tests\\indexes\\base_class\n",
            "  copying pandas\\tests\\indexes\\base_class\\test_indexing.py -> build\\lib.win-amd64-3.10\\pandas\\tests\\indexes\\base_class\n",
            "  copying pandas\\tests\\indexes\\base_class\\test_reshape.py -> build\\lib.win-amd64-3.10\\pandas\\tests\\indexes\\base_class\n",
            "  copying pandas\\tests\\indexes\\base_class\\test_setops.py -> build\\lib.win-amd64-3.10\\pandas\\tests\\indexes\\base_class\n",
            "  copying pandas\\tests\\indexes\\base_class\\test_where.py -> build\\lib.win-amd64-3.10\\pandas\\tests\\indexes\\base_class\n",
            "  copying pandas\\tests\\indexes\\base_class\\__init__.py -> build\\lib.win-amd64-3.10\\pandas\\tests\\indexes\\base_class\n",
            "  creating build\\lib.win-amd64-3.10\\pandas\\tests\\indexes\\categorical\n",
            "  copying pandas\\tests\\indexes\\categorical\\test_append.py -> build\\lib.win-amd64-3.10\\pandas\\tests\\indexes\\categorical\n",
            "  copying pandas\\tests\\indexes\\categorical\\test_astype.py -> build\\lib.win-amd64-3.10\\pandas\\tests\\indexes\\categorical\n",
            "  copying pandas\\tests\\indexes\\categorical\\test_category.py -> build\\lib.win-amd64-3.10\\pandas\\tests\\indexes\\categorical\n",
            "  copying pandas\\tests\\indexes\\categorical\\test_constructors.py -> build\\lib.win-amd64-3.10\\pandas\\tests\\indexes\\categorical\n",
            "  copying pandas\\tests\\indexes\\categorical\\test_equals.py -> build\\lib.win-amd64-3.10\\pandas\\tests\\indexes\\categorical\n",
            "  copying pandas\\tests\\indexes\\categorical\\test_fillna.py -> build\\lib.win-amd64-3.10\\pandas\\tests\\indexes\\categorical\n",
            "  copying pandas\\tests\\indexes\\categorical\\test_formats.py -> build\\lib.win-amd64-3.10\\pandas\\tests\\indexes\\categorical\n",
            "  copying pandas\\tests\\indexes\\categorical\\test_indexing.py -> build\\lib.win-amd64-3.10\\pandas\\tests\\indexes\\categorical\n",
            "  copying pandas\\tests\\indexes\\categorical\\test_map.py -> build\\lib.win-amd64-3.10\\pandas\\tests\\indexes\\categorical\n",
            "  copying pandas\\tests\\indexes\\categorical\\test_reindex.py -> build\\lib.win-amd64-3.10\\pandas\\tests\\indexes\\categorical\n",
            "  copying pandas\\tests\\indexes\\categorical\\__init__.py -> build\\lib.win-amd64-3.10\\pandas\\tests\\indexes\\categorical\n",
            "  creating build\\lib.win-amd64-3.10\\pandas\\tests\\indexes\\datetimelike_\n",
            "  copying pandas\\tests\\indexes\\datetimelike_\\test_drop_duplicates.py -> build\\lib.win-amd64-3.10\\pandas\\tests\\indexes\\datetimelike_\n",
            "  copying pandas\\tests\\indexes\\datetimelike_\\test_equals.py -> build\\lib.win-amd64-3.10\\pandas\\tests\\indexes\\datetimelike_\n",
            "  copying pandas\\tests\\indexes\\datetimelike_\\test_indexing.py -> build\\lib.win-amd64-3.10\\pandas\\tests\\indexes\\datetimelike_\n",
            "  copying pandas\\tests\\indexes\\datetimelike_\\test_nat.py -> build\\lib.win-amd64-3.10\\pandas\\tests\\indexes\\datetimelike_\n",
            "  copying pandas\\tests\\indexes\\datetimelike_\\test_sort_values.py -> build\\lib.win-amd64-3.10\\pandas\\tests\\indexes\\datetimelike_\n",
            "  copying pandas\\tests\\indexes\\datetimelike_\\test_value_counts.py -> build\\lib.win-amd64-3.10\\pandas\\tests\\indexes\\datetimelike_\n",
            "  copying pandas\\tests\\indexes\\datetimelike_\\__init__.py -> build\\lib.win-amd64-3.10\\pandas\\tests\\indexes\\datetimelike_\n",
            "  creating build\\lib.win-amd64-3.10\\pandas\\tests\\indexes\\datetimes\n",
            "  copying pandas\\tests\\indexes\\datetimes\\test_asof.py -> build\\lib.win-amd64-3.10\\pandas\\tests\\indexes\\datetimes\n",
            "  copying pandas\\tests\\indexes\\datetimes\\test_constructors.py -> build\\lib.win-amd64-3.10\\pandas\\tests\\indexes\\datetimes\n",
            "  copying pandas\\tests\\indexes\\datetimes\\test_datetime.py -> build\\lib.win-amd64-3.10\\pandas\\tests\\indexes\\datetimes\n",
            "  copying pandas\\tests\\indexes\\datetimes\\test_datetimelike.py -> build\\lib.win-amd64-3.10\\pandas\\tests\\indexes\\datetimes\n",
            "  copying pandas\\tests\\indexes\\datetimes\\test_date_range.py -> build\\lib.win-amd64-3.10\\pandas\\tests\\indexes\\datetimes\n",
            "  copying pandas\\tests\\indexes\\datetimes\\test_delete.py -> build\\lib.win-amd64-3.10\\pandas\\tests\\indexes\\datetimes\n",
            "  copying pandas\\tests\\indexes\\datetimes\\test_formats.py -> build\\lib.win-amd64-3.10\\pandas\\tests\\indexes\\datetimes\n",
            "  copying pandas\\tests\\indexes\\datetimes\\test_indexing.py -> build\\lib.win-amd64-3.10\\pandas\\tests\\indexes\\datetimes\n",
            "  copying pandas\\tests\\indexes\\datetimes\\test_join.py -> build\\lib.win-amd64-3.10\\pandas\\tests\\indexes\\datetimes\n",
            "  copying pandas\\tests\\indexes\\datetimes\\test_map.py -> build\\lib.win-amd64-3.10\\pandas\\tests\\indexes\\datetimes\n",
            "  copying pandas\\tests\\indexes\\datetimes\\test_misc.py -> build\\lib.win-amd64-3.10\\pandas\\tests\\indexes\\datetimes\n",
            "  copying pandas\\tests\\indexes\\datetimes\\test_npfuncs.py -> build\\lib.win-amd64-3.10\\pandas\\tests\\indexes\\datetimes\n",
            "  copying pandas\\tests\\indexes\\datetimes\\test_ops.py -> build\\lib.win-amd64-3.10\\pandas\\tests\\indexes\\datetimes\n",
            "  copying pandas\\tests\\indexes\\datetimes\\test_partial_slicing.py -> build\\lib.win-amd64-3.10\\pandas\\tests\\indexes\\datetimes\n",
            "  copying pandas\\tests\\indexes\\datetimes\\test_pickle.py -> build\\lib.win-amd64-3.10\\pandas\\tests\\indexes\\datetimes\n",
            "  copying pandas\\tests\\indexes\\datetimes\\test_reindex.py -> build\\lib.win-amd64-3.10\\pandas\\tests\\indexes\\datetimes\n",
            "  copying pandas\\tests\\indexes\\datetimes\\test_scalar_compat.py -> build\\lib.win-amd64-3.10\\pandas\\tests\\indexes\\datetimes\n",
            "  copying pandas\\tests\\indexes\\datetimes\\test_setops.py -> build\\lib.win-amd64-3.10\\pandas\\tests\\indexes\\datetimes\n",
            "  copying pandas\\tests\\indexes\\datetimes\\test_timezones.py -> build\\lib.win-amd64-3.10\\pandas\\tests\\indexes\\datetimes\n",
            "  copying pandas\\tests\\indexes\\datetimes\\test_unique.py -> build\\lib.win-amd64-3.10\\pandas\\tests\\indexes\\datetimes\n",
            "  copying pandas\\tests\\indexes\\datetimes\\__init__.py -> build\\lib.win-amd64-3.10\\pandas\\tests\\indexes\\datetimes\n",
            "  creating build\\lib.win-amd64-3.10\\pandas\\tests\\indexes\\interval\n",
            "  copying pandas\\tests\\indexes\\interval\\test_astype.py -> build\\lib.win-amd64-3.10\\pandas\\tests\\indexes\\interval\n",
            "  copying pandas\\tests\\indexes\\interval\\test_base.py -> build\\lib.win-amd64-3.10\\pandas\\tests\\indexes\\interval\n",
            "  copying pandas\\tests\\indexes\\interval\\test_constructors.py -> build\\lib.win-amd64-3.10\\pandas\\tests\\indexes\\interval\n",
            "  copying pandas\\tests\\indexes\\interval\\test_equals.py -> build\\lib.win-amd64-3.10\\pandas\\tests\\indexes\\interval\n",
            "  copying pandas\\tests\\indexes\\interval\\test_formats.py -> build\\lib.win-amd64-3.10\\pandas\\tests\\indexes\\interval\n",
            "  copying pandas\\tests\\indexes\\interval\\test_indexing.py -> build\\lib.win-amd64-3.10\\pandas\\tests\\indexes\\interval\n",
            "  copying pandas\\tests\\indexes\\interval\\test_interval.py -> build\\lib.win-amd64-3.10\\pandas\\tests\\indexes\\interval\n",
            "  copying pandas\\tests\\indexes\\interval\\test_interval_range.py -> build\\lib.win-amd64-3.10\\pandas\\tests\\indexes\\interval\n",
            "  copying pandas\\tests\\indexes\\interval\\test_interval_tree.py -> build\\lib.win-amd64-3.10\\pandas\\tests\\indexes\\interval\n",
            "  copying pandas\\tests\\indexes\\interval\\test_setops.py -> build\\lib.win-amd64-3.10\\pandas\\tests\\indexes\\interval\n",
            "  copying pandas\\tests\\indexes\\interval\\__init__.py -> build\\lib.win-amd64-3.10\\pandas\\tests\\indexes\\interval\n",
            "  creating build\\lib.win-amd64-3.10\\pandas\\tests\\indexes\\multi\n",
            "  copying pandas\\tests\\indexes\\multi\\conftest.py -> build\\lib.win-amd64-3.10\\pandas\\tests\\indexes\\multi\n",
            "  copying pandas\\tests\\indexes\\multi\\test_analytics.py -> build\\lib.win-amd64-3.10\\pandas\\tests\\indexes\\multi\n",
            "  copying pandas\\tests\\indexes\\multi\\test_astype.py -> build\\lib.win-amd64-3.10\\pandas\\tests\\indexes\\multi\n",
            "  copying pandas\\tests\\indexes\\multi\\test_compat.py -> build\\lib.win-amd64-3.10\\pandas\\tests\\indexes\\multi\n",
            "  copying pandas\\tests\\indexes\\multi\\test_constructors.py -> build\\lib.win-amd64-3.10\\pandas\\tests\\indexes\\multi\n",
            "  copying pandas\\tests\\indexes\\multi\\test_conversion.py -> build\\lib.win-amd64-3.10\\pandas\\tests\\indexes\\multi\n",
            "  copying pandas\\tests\\indexes\\multi\\test_copy.py -> build\\lib.win-amd64-3.10\\pandas\\tests\\indexes\\multi\n",
            "  copying pandas\\tests\\indexes\\multi\\test_drop.py -> build\\lib.win-amd64-3.10\\pandas\\tests\\indexes\\multi\n",
            "  copying pandas\\tests\\indexes\\multi\\test_duplicates.py -> build\\lib.win-amd64-3.10\\pandas\\tests\\indexes\\multi\n",
            "  copying pandas\\tests\\indexes\\multi\\test_equivalence.py -> build\\lib.win-amd64-3.10\\pandas\\tests\\indexes\\multi\n",
            "  copying pandas\\tests\\indexes\\multi\\test_formats.py -> build\\lib.win-amd64-3.10\\pandas\\tests\\indexes\\multi\n",
            "  copying pandas\\tests\\indexes\\multi\\test_get_level_values.py -> build\\lib.win-amd64-3.10\\pandas\\tests\\indexes\\multi\n",
            "  copying pandas\\tests\\indexes\\multi\\test_get_set.py -> build\\lib.win-amd64-3.10\\pandas\\tests\\indexes\\multi\n",
            "  copying pandas\\tests\\indexes\\multi\\test_indexing.py -> build\\lib.win-amd64-3.10\\pandas\\tests\\indexes\\multi\n",
            "  copying pandas\\tests\\indexes\\multi\\test_integrity.py -> build\\lib.win-amd64-3.10\\pandas\\tests\\indexes\\multi\n",
            "  copying pandas\\tests\\indexes\\multi\\test_isin.py -> build\\lib.win-amd64-3.10\\pandas\\tests\\indexes\\multi\n",
            "  copying pandas\\tests\\indexes\\multi\\test_join.py -> build\\lib.win-amd64-3.10\\pandas\\tests\\indexes\\multi\n",
            "  copying pandas\\tests\\indexes\\multi\\test_lexsort.py -> build\\lib.win-amd64-3.10\\pandas\\tests\\indexes\\multi\n",
            "  copying pandas\\tests\\indexes\\multi\\test_missing.py -> build\\lib.win-amd64-3.10\\pandas\\tests\\indexes\\multi\n",
            "  copying pandas\\tests\\indexes\\multi\\test_monotonic.py -> build\\lib.win-amd64-3.10\\pandas\\tests\\indexes\\multi\n",
            "  copying pandas\\tests\\indexes\\multi\\test_names.py -> build\\lib.win-amd64-3.10\\pandas\\tests\\indexes\\multi\n",
            "  copying pandas\\tests\\indexes\\multi\\test_partial_indexing.py -> build\\lib.win-amd64-3.10\\pandas\\tests\\indexes\\multi\n",
            "  copying pandas\\tests\\indexes\\multi\\test_reindex.py -> build\\lib.win-amd64-3.10\\pandas\\tests\\indexes\\multi\n",
            "  copying pandas\\tests\\indexes\\multi\\test_reshape.py -> build\\lib.win-amd64-3.10\\pandas\\tests\\indexes\\multi\n",
            "  copying pandas\\tests\\indexes\\multi\\test_setops.py -> build\\lib.win-amd64-3.10\\pandas\\tests\\indexes\\multi\n",
            "  copying pandas\\tests\\indexes\\multi\\test_sorting.py -> build\\lib.win-amd64-3.10\\pandas\\tests\\indexes\\multi\n",
            "  copying pandas\\tests\\indexes\\multi\\test_take.py -> build\\lib.win-amd64-3.10\\pandas\\tests\\indexes\\multi\n",
            "  copying pandas\\tests\\indexes\\multi\\__init__.py -> build\\lib.win-amd64-3.10\\pandas\\tests\\indexes\\multi\n",
            "  creating build\\lib.win-amd64-3.10\\pandas\\tests\\indexes\\numeric\n",
            "  copying pandas\\tests\\indexes\\numeric\\test_astype.py -> build\\lib.win-amd64-3.10\\pandas\\tests\\indexes\\numeric\n",
            "  copying pandas\\tests\\indexes\\numeric\\test_indexing.py -> build\\lib.win-amd64-3.10\\pandas\\tests\\indexes\\numeric\n",
            "  copying pandas\\tests\\indexes\\numeric\\test_join.py -> build\\lib.win-amd64-3.10\\pandas\\tests\\indexes\\numeric\n",
            "  copying pandas\\tests\\indexes\\numeric\\test_numeric.py -> build\\lib.win-amd64-3.10\\pandas\\tests\\indexes\\numeric\n",
            "  copying pandas\\tests\\indexes\\numeric\\test_setops.py -> build\\lib.win-amd64-3.10\\pandas\\tests\\indexes\\numeric\n",
            "  copying pandas\\tests\\indexes\\numeric\\__init__.py -> build\\lib.win-amd64-3.10\\pandas\\tests\\indexes\\numeric\n",
            "  creating build\\lib.win-amd64-3.10\\pandas\\tests\\indexes\\object\n",
            "  copying pandas\\tests\\indexes\\object\\test_astype.py -> build\\lib.win-amd64-3.10\\pandas\\tests\\indexes\\object\n",
            "  copying pandas\\tests\\indexes\\object\\test_indexing.py -> build\\lib.win-amd64-3.10\\pandas\\tests\\indexes\\object\n",
            "  copying pandas\\tests\\indexes\\object\\__init__.py -> build\\lib.win-amd64-3.10\\pandas\\tests\\indexes\\object\n",
            "  creating build\\lib.win-amd64-3.10\\pandas\\tests\\indexes\\period\n",
            "  copying pandas\\tests\\indexes\\period\\test_constructors.py -> build\\lib.win-amd64-3.10\\pandas\\tests\\indexes\\period\n",
            "  copying pandas\\tests\\indexes\\period\\test_formats.py -> build\\lib.win-amd64-3.10\\pandas\\tests\\indexes\\period\n",
            "  copying pandas\\tests\\indexes\\period\\test_indexing.py -> build\\lib.win-amd64-3.10\\pandas\\tests\\indexes\\period\n",
            "  copying pandas\\tests\\indexes\\period\\test_join.py -> build\\lib.win-amd64-3.10\\pandas\\tests\\indexes\\period\n",
            "  copying pandas\\tests\\indexes\\period\\test_monotonic.py -> build\\lib.win-amd64-3.10\\pandas\\tests\\indexes\\period\n",
            "  copying pandas\\tests\\indexes\\period\\test_ops.py -> build\\lib.win-amd64-3.10\\pandas\\tests\\indexes\\period\n",
            "  copying pandas\\tests\\indexes\\period\\test_partial_slicing.py -> build\\lib.win-amd64-3.10\\pandas\\tests\\indexes\\period\n",
            "  copying pandas\\tests\\indexes\\period\\test_period.py -> build\\lib.win-amd64-3.10\\pandas\\tests\\indexes\\period\n",
            "  copying pandas\\tests\\indexes\\period\\test_period_range.py -> build\\lib.win-amd64-3.10\\pandas\\tests\\indexes\\period\n",
            "  copying pandas\\tests\\indexes\\period\\test_scalar_compat.py -> build\\lib.win-amd64-3.10\\pandas\\tests\\indexes\\period\n",
            "  copying pandas\\tests\\indexes\\period\\test_searchsorted.py -> build\\lib.win-amd64-3.10\\pandas\\tests\\indexes\\period\n",
            "  copying pandas\\tests\\indexes\\period\\test_setops.py -> build\\lib.win-amd64-3.10\\pandas\\tests\\indexes\\period\n",
            "  copying pandas\\tests\\indexes\\period\\test_tools.py -> build\\lib.win-amd64-3.10\\pandas\\tests\\indexes\\period\n",
            "  copying pandas\\tests\\indexes\\period\\__init__.py -> build\\lib.win-amd64-3.10\\pandas\\tests\\indexes\\period\n",
            "  creating build\\lib.win-amd64-3.10\\pandas\\tests\\indexes\\ranges\n",
            "  copying pandas\\tests\\indexes\\ranges\\test_constructors.py -> build\\lib.win-amd64-3.10\\pandas\\tests\\indexes\\ranges\n",
            "  copying pandas\\tests\\indexes\\ranges\\test_indexing.py -> build\\lib.win-amd64-3.10\\pandas\\tests\\indexes\\ranges\n",
            "  copying pandas\\tests\\indexes\\ranges\\test_join.py -> build\\lib.win-amd64-3.10\\pandas\\tests\\indexes\\ranges\n",
            "  copying pandas\\tests\\indexes\\ranges\\test_range.py -> build\\lib.win-amd64-3.10\\pandas\\tests\\indexes\\ranges\n",
            "  copying pandas\\tests\\indexes\\ranges\\test_setops.py -> build\\lib.win-amd64-3.10\\pandas\\tests\\indexes\\ranges\n",
            "  copying pandas\\tests\\indexes\\ranges\\__init__.py -> build\\lib.win-amd64-3.10\\pandas\\tests\\indexes\\ranges\n",
            "  creating build\\lib.win-amd64-3.10\\pandas\\tests\\indexes\\timedeltas\n",
            "  copying pandas\\tests\\indexes\\timedeltas\\test_constructors.py -> build\\lib.win-amd64-3.10\\pandas\\tests\\indexes\\timedeltas\n",
            "  copying pandas\\tests\\indexes\\timedeltas\\test_delete.py -> build\\lib.win-amd64-3.10\\pandas\\tests\\indexes\\timedeltas\n",
            "  copying pandas\\tests\\indexes\\timedeltas\\test_formats.py -> build\\lib.win-amd64-3.10\\pandas\\tests\\indexes\\timedeltas\n",
            "  copying pandas\\tests\\indexes\\timedeltas\\test_indexing.py -> build\\lib.win-amd64-3.10\\pandas\\tests\\indexes\\timedeltas\n",
            "  copying pandas\\tests\\indexes\\timedeltas\\test_join.py -> build\\lib.win-amd64-3.10\\pandas\\tests\\indexes\\timedeltas\n",
            "  copying pandas\\tests\\indexes\\timedeltas\\test_ops.py -> build\\lib.win-amd64-3.10\\pandas\\tests\\indexes\\timedeltas\n",
            "  copying pandas\\tests\\indexes\\timedeltas\\test_scalar_compat.py -> build\\lib.win-amd64-3.10\\pandas\\tests\\indexes\\timedeltas\n",
            "  copying pandas\\tests\\indexes\\timedeltas\\test_searchsorted.py -> build\\lib.win-amd64-3.10\\pandas\\tests\\indexes\\timedeltas\n",
            "  copying pandas\\tests\\indexes\\timedeltas\\test_setops.py -> build\\lib.win-amd64-3.10\\pandas\\tests\\indexes\\timedeltas\n",
            "  copying pandas\\tests\\indexes\\timedeltas\\test_timedelta.py -> build\\lib.win-amd64-3.10\\pandas\\tests\\indexes\\timedeltas\n",
            "  copying pandas\\tests\\indexes\\timedeltas\\test_timedelta_range.py -> build\\lib.win-amd64-3.10\\pandas\\tests\\indexes\\timedeltas\n",
            "  copying pandas\\tests\\indexes\\timedeltas\\__init__.py -> build\\lib.win-amd64-3.10\\pandas\\tests\\indexes\\timedeltas\n",
            "  creating build\\lib.win-amd64-3.10\\pandas\\tests\\indexes\\datetimes\\methods\n",
            "  copying pandas\\tests\\indexes\\datetimes\\methods\\test_astype.py -> build\\lib.win-amd64-3.10\\pandas\\tests\\indexes\\datetimes\\methods\n",
            "  copying pandas\\tests\\indexes\\datetimes\\methods\\test_factorize.py -> build\\lib.win-amd64-3.10\\pandas\\tests\\indexes\\datetimes\\methods\n",
            "  copying pandas\\tests\\indexes\\datetimes\\methods\\test_fillna.py -> build\\lib.win-amd64-3.10\\pandas\\tests\\indexes\\datetimes\\methods\n",
            "  copying pandas\\tests\\indexes\\datetimes\\methods\\test_insert.py -> build\\lib.win-amd64-3.10\\pandas\\tests\\indexes\\datetimes\\methods\n",
            "  copying pandas\\tests\\indexes\\datetimes\\methods\\test_repeat.py -> build\\lib.win-amd64-3.10\\pandas\\tests\\indexes\\datetimes\\methods\n",
            "  copying pandas\\tests\\indexes\\datetimes\\methods\\test_shift.py -> build\\lib.win-amd64-3.10\\pandas\\tests\\indexes\\datetimes\\methods\n",
            "  copying pandas\\tests\\indexes\\datetimes\\methods\\test_snap.py -> build\\lib.win-amd64-3.10\\pandas\\tests\\indexes\\datetimes\\methods\n",
            "  copying pandas\\tests\\indexes\\datetimes\\methods\\test_to_frame.py -> build\\lib.win-amd64-3.10\\pandas\\tests\\indexes\\datetimes\\methods\n",
            "  copying pandas\\tests\\indexes\\datetimes\\methods\\test_to_period.py -> build\\lib.win-amd64-3.10\\pandas\\tests\\indexes\\datetimes\\methods\n",
            "  copying pandas\\tests\\indexes\\datetimes\\methods\\test_to_series.py -> build\\lib.win-amd64-3.10\\pandas\\tests\\indexes\\datetimes\\methods\n",
            "  copying pandas\\tests\\indexes\\datetimes\\methods\\__init__.py -> build\\lib.win-amd64-3.10\\pandas\\tests\\indexes\\datetimes\\methods\n",
            "  creating build\\lib.win-amd64-3.10\\pandas\\tests\\indexes\\period\\methods\n",
            "  copying pandas\\tests\\indexes\\period\\methods\\test_asfreq.py -> build\\lib.win-amd64-3.10\\pandas\\tests\\indexes\\period\\methods\n",
            "  copying pandas\\tests\\indexes\\period\\methods\\test_astype.py -> build\\lib.win-amd64-3.10\\pandas\\tests\\indexes\\period\\methods\n",
            "  copying pandas\\tests\\indexes\\period\\methods\\test_factorize.py -> build\\lib.win-amd64-3.10\\pandas\\tests\\indexes\\period\\methods\n",
            "  copying pandas\\tests\\indexes\\period\\methods\\test_fillna.py -> build\\lib.win-amd64-3.10\\pandas\\tests\\indexes\\period\\methods\n",
            "  copying pandas\\tests\\indexes\\period\\methods\\test_insert.py -> build\\lib.win-amd64-3.10\\pandas\\tests\\indexes\\period\\methods\n",
            "  copying pandas\\tests\\indexes\\period\\methods\\test_is_full.py -> build\\lib.win-amd64-3.10\\pandas\\tests\\indexes\\period\\methods\n",
            "  copying pandas\\tests\\indexes\\period\\methods\\test_repeat.py -> build\\lib.win-amd64-3.10\\pandas\\tests\\indexes\\period\\methods\n",
            "  copying pandas\\tests\\indexes\\period\\methods\\test_shift.py -> build\\lib.win-amd64-3.10\\pandas\\tests\\indexes\\period\\methods\n",
            "  copying pandas\\tests\\indexes\\period\\methods\\test_to_timestamp.py -> build\\lib.win-amd64-3.10\\pandas\\tests\\indexes\\period\\methods\n",
            "  copying pandas\\tests\\indexes\\period\\methods\\__init__.py -> build\\lib.win-amd64-3.10\\pandas\\tests\\indexes\\period\\methods\n",
            "  creating build\\lib.win-amd64-3.10\\pandas\\tests\\indexes\\timedeltas\\methods\n",
            "  copying pandas\\tests\\indexes\\timedeltas\\methods\\test_astype.py -> build\\lib.win-amd64-3.10\\pandas\\tests\\indexes\\timedeltas\\methods\n",
            "  copying pandas\\tests\\indexes\\timedeltas\\methods\\test_factorize.py -> build\\lib.win-amd64-3.10\\pandas\\tests\\indexes\\timedeltas\\methods\n",
            "  copying pandas\\tests\\indexes\\timedeltas\\methods\\test_fillna.py -> build\\lib.win-amd64-3.10\\pandas\\tests\\indexes\\timedeltas\\methods\n",
            "  copying pandas\\tests\\indexes\\timedeltas\\methods\\test_insert.py -> build\\lib.win-amd64-3.10\\pandas\\tests\\indexes\\timedeltas\\methods\n",
            "  copying pandas\\tests\\indexes\\timedeltas\\methods\\test_repeat.py -> build\\lib.win-amd64-3.10\\pandas\\tests\\indexes\\timedeltas\\methods\n",
            "  copying pandas\\tests\\indexes\\timedeltas\\methods\\test_shift.py -> build\\lib.win-amd64-3.10\\pandas\\tests\\indexes\\timedeltas\\methods\n",
            "  copying pandas\\tests\\indexes\\timedeltas\\methods\\__init__.py -> build\\lib.win-amd64-3.10\\pandas\\tests\\indexes\\timedeltas\\methods\n",
            "  creating build\\lib.win-amd64-3.10\\pandas\\tests\\indexing\\interval\n",
            "  copying pandas\\tests\\indexing\\interval\\test_interval.py -> build\\lib.win-amd64-3.10\\pandas\\tests\\indexing\\interval\n",
            "  copying pandas\\tests\\indexing\\interval\\test_interval_new.py -> build\\lib.win-amd64-3.10\\pandas\\tests\\indexing\\interval\n",
            "  copying pandas\\tests\\indexing\\interval\\__init__.py -> build\\lib.win-amd64-3.10\\pandas\\tests\\indexing\\interval\n",
            "  creating build\\lib.win-amd64-3.10\\pandas\\tests\\indexing\\multiindex\n",
            "  copying pandas\\tests\\indexing\\multiindex\\test_chaining_and_caching.py -> build\\lib.win-amd64-3.10\\pandas\\tests\\indexing\\multiindex\n",
            "  copying pandas\\tests\\indexing\\multiindex\\test_datetime.py -> build\\lib.win-amd64-3.10\\pandas\\tests\\indexing\\multiindex\n",
            "  copying pandas\\tests\\indexing\\multiindex\\test_getitem.py -> build\\lib.win-amd64-3.10\\pandas\\tests\\indexing\\multiindex\n",
            "  copying pandas\\tests\\indexing\\multiindex\\test_iloc.py -> build\\lib.win-amd64-3.10\\pandas\\tests\\indexing\\multiindex\n",
            "  copying pandas\\tests\\indexing\\multiindex\\test_indexing_slow.py -> build\\lib.win-amd64-3.10\\pandas\\tests\\indexing\\multiindex\n",
            "  copying pandas\\tests\\indexing\\multiindex\\test_loc.py -> build\\lib.win-amd64-3.10\\pandas\\tests\\indexing\\multiindex\n",
            "  copying pandas\\tests\\indexing\\multiindex\\test_multiindex.py -> build\\lib.win-amd64-3.10\\pandas\\tests\\indexing\\multiindex\n",
            "  copying pandas\\tests\\indexing\\multiindex\\test_partial.py -> build\\lib.win-amd64-3.10\\pandas\\tests\\indexing\\multiindex\n",
            "  copying pandas\\tests\\indexing\\multiindex\\test_setitem.py -> build\\lib.win-amd64-3.10\\pandas\\tests\\indexing\\multiindex\n",
            "  copying pandas\\tests\\indexing\\multiindex\\test_slice.py -> build\\lib.win-amd64-3.10\\pandas\\tests\\indexing\\multiindex\n",
            "  copying pandas\\tests\\indexing\\multiindex\\test_sorted.py -> build\\lib.win-amd64-3.10\\pandas\\tests\\indexing\\multiindex\n",
            "  copying pandas\\tests\\indexing\\multiindex\\__init__.py -> build\\lib.win-amd64-3.10\\pandas\\tests\\indexing\\multiindex\n",
            "  creating build\\lib.win-amd64-3.10\\pandas\\tests\\io\\excel\n",
            "  copying pandas\\tests\\io\\excel\\conftest.py -> build\\lib.win-amd64-3.10\\pandas\\tests\\io\\excel\n",
            "  copying pandas\\tests\\io\\excel\\test_odf.py -> build\\lib.win-amd64-3.10\\pandas\\tests\\io\\excel\n",
            "  copying pandas\\tests\\io\\excel\\test_odswriter.py -> build\\lib.win-amd64-3.10\\pandas\\tests\\io\\excel\n",
            "  copying pandas\\tests\\io\\excel\\test_openpyxl.py -> build\\lib.win-amd64-3.10\\pandas\\tests\\io\\excel\n",
            "  copying pandas\\tests\\io\\excel\\test_readers.py -> build\\lib.win-amd64-3.10\\pandas\\tests\\io\\excel\n",
            "  copying pandas\\tests\\io\\excel\\test_style.py -> build\\lib.win-amd64-3.10\\pandas\\tests\\io\\excel\n",
            "  copying pandas\\tests\\io\\excel\\test_writers.py -> build\\lib.win-amd64-3.10\\pandas\\tests\\io\\excel\n",
            "  copying pandas\\tests\\io\\excel\\test_xlrd.py -> build\\lib.win-amd64-3.10\\pandas\\tests\\io\\excel\n",
            "  copying pandas\\tests\\io\\excel\\test_xlsxwriter.py -> build\\lib.win-amd64-3.10\\pandas\\tests\\io\\excel\n",
            "  copying pandas\\tests\\io\\excel\\test_xlwt.py -> build\\lib.win-amd64-3.10\\pandas\\tests\\io\\excel\n",
            "  copying pandas\\tests\\io\\excel\\__init__.py -> build\\lib.win-amd64-3.10\\pandas\\tests\\io\\excel\n",
            "  creating build\\lib.win-amd64-3.10\\pandas\\tests\\io\\formats\n",
            "  copying pandas\\tests\\io\\formats\\test_console.py -> build\\lib.win-amd64-3.10\\pandas\\tests\\io\\formats\n",
            "  copying pandas\\tests\\io\\formats\\test_css.py -> build\\lib.win-amd64-3.10\\pandas\\tests\\io\\formats\n",
            "  copying pandas\\tests\\io\\formats\\test_eng_formatting.py -> build\\lib.win-amd64-3.10\\pandas\\tests\\io\\formats\n",
            "  copying pandas\\tests\\io\\formats\\test_format.py -> build\\lib.win-amd64-3.10\\pandas\\tests\\io\\formats\n",
            "  copying pandas\\tests\\io\\formats\\test_info.py -> build\\lib.win-amd64-3.10\\pandas\\tests\\io\\formats\n",
            "  copying pandas\\tests\\io\\formats\\test_printing.py -> build\\lib.win-amd64-3.10\\pandas\\tests\\io\\formats\n",
            "  copying pandas\\tests\\io\\formats\\test_to_csv.py -> build\\lib.win-amd64-3.10\\pandas\\tests\\io\\formats\n",
            "  copying pandas\\tests\\io\\formats\\test_to_excel.py -> build\\lib.win-amd64-3.10\\pandas\\tests\\io\\formats\n",
            "  copying pandas\\tests\\io\\formats\\test_to_html.py -> build\\lib.win-amd64-3.10\\pandas\\tests\\io\\formats\n",
            "  copying pandas\\tests\\io\\formats\\test_to_latex.py -> build\\lib.win-amd64-3.10\\pandas\\tests\\io\\formats\n",
            "  copying pandas\\tests\\io\\formats\\test_to_markdown.py -> build\\lib.win-amd64-3.10\\pandas\\tests\\io\\formats\n",
            "  copying pandas\\tests\\io\\formats\\test_to_string.py -> build\\lib.win-amd64-3.10\\pandas\\tests\\io\\formats\n",
            "  copying pandas\\tests\\io\\formats\\__init__.py -> build\\lib.win-amd64-3.10\\pandas\\tests\\io\\formats\n",
            "  creating build\\lib.win-amd64-3.10\\pandas\\tests\\io\\json\n",
            "  copying pandas\\tests\\io\\json\\conftest.py -> build\\lib.win-amd64-3.10\\pandas\\tests\\io\\json\n",
            "  copying pandas\\tests\\io\\json\\test_compression.py -> build\\lib.win-amd64-3.10\\pandas\\tests\\io\\json\n",
            "  copying pandas\\tests\\io\\json\\test_deprecated_kwargs.py -> build\\lib.win-amd64-3.10\\pandas\\tests\\io\\json\n",
            "  copying pandas\\tests\\io\\json\\test_json_table_schema.py -> build\\lib.win-amd64-3.10\\pandas\\tests\\io\\json\n",
            "  copying pandas\\tests\\io\\json\\test_normalize.py -> build\\lib.win-amd64-3.10\\pandas\\tests\\io\\json\n",
            "  copying pandas\\tests\\io\\json\\test_pandas.py -> build\\lib.win-amd64-3.10\\pandas\\tests\\io\\json\n",
            "  copying pandas\\tests\\io\\json\\test_readlines.py -> build\\lib.win-amd64-3.10\\pandas\\tests\\io\\json\n",
            "  copying pandas\\tests\\io\\json\\test_ujson.py -> build\\lib.win-amd64-3.10\\pandas\\tests\\io\\json\n",
            "  copying pandas\\tests\\io\\json\\__init__.py -> build\\lib.win-amd64-3.10\\pandas\\tests\\io\\json\n",
            "  creating build\\lib.win-amd64-3.10\\pandas\\tests\\io\\parser\n",
            "  copying pandas\\tests\\io\\parser\\conftest.py -> build\\lib.win-amd64-3.10\\pandas\\tests\\io\\parser\n",
            "  copying pandas\\tests\\io\\parser\\test_comment.py -> build\\lib.win-amd64-3.10\\pandas\\tests\\io\\parser\n",
            "  copying pandas\\tests\\io\\parser\\test_compression.py -> build\\lib.win-amd64-3.10\\pandas\\tests\\io\\parser\n",
            "  copying pandas\\tests\\io\\parser\\test_converters.py -> build\\lib.win-amd64-3.10\\pandas\\tests\\io\\parser\n",
            "  copying pandas\\tests\\io\\parser\\test_c_parser_only.py -> build\\lib.win-amd64-3.10\\pandas\\tests\\io\\parser\n",
            "  copying pandas\\tests\\io\\parser\\test_dialect.py -> build\\lib.win-amd64-3.10\\pandas\\tests\\io\\parser\n",
            "  copying pandas\\tests\\io\\parser\\test_encoding.py -> build\\lib.win-amd64-3.10\\pandas\\tests\\io\\parser\n",
            "  copying pandas\\tests\\io\\parser\\test_header.py -> build\\lib.win-amd64-3.10\\pandas\\tests\\io\\parser\n",
            "  copying pandas\\tests\\io\\parser\\test_index_col.py -> build\\lib.win-amd64-3.10\\pandas\\tests\\io\\parser\n",
            "  copying pandas\\tests\\io\\parser\\test_mangle_dupes.py -> build\\lib.win-amd64-3.10\\pandas\\tests\\io\\parser\n",
            "  copying pandas\\tests\\io\\parser\\test_multi_thread.py -> build\\lib.win-amd64-3.10\\pandas\\tests\\io\\parser\n",
            "  copying pandas\\tests\\io\\parser\\test_na_values.py -> build\\lib.win-amd64-3.10\\pandas\\tests\\io\\parser\n",
            "  copying pandas\\tests\\io\\parser\\test_network.py -> build\\lib.win-amd64-3.10\\pandas\\tests\\io\\parser\n",
            "  copying pandas\\tests\\io\\parser\\test_parse_dates.py -> build\\lib.win-amd64-3.10\\pandas\\tests\\io\\parser\n",
            "  copying pandas\\tests\\io\\parser\\test_python_parser_only.py -> build\\lib.win-amd64-3.10\\pandas\\tests\\io\\parser\n",
            "  copying pandas\\tests\\io\\parser\\test_quoting.py -> build\\lib.win-amd64-3.10\\pandas\\tests\\io\\parser\n",
            "  copying pandas\\tests\\io\\parser\\test_read_fwf.py -> build\\lib.win-amd64-3.10\\pandas\\tests\\io\\parser\n",
            "  copying pandas\\tests\\io\\parser\\test_skiprows.py -> build\\lib.win-amd64-3.10\\pandas\\tests\\io\\parser\n",
            "  copying pandas\\tests\\io\\parser\\test_textreader.py -> build\\lib.win-amd64-3.10\\pandas\\tests\\io\\parser\n",
            "  copying pandas\\tests\\io\\parser\\test_unsupported.py -> build\\lib.win-amd64-3.10\\pandas\\tests\\io\\parser\n",
            "  copying pandas\\tests\\io\\parser\\__init__.py -> build\\lib.win-amd64-3.10\\pandas\\tests\\io\\parser\n",
            "  creating build\\lib.win-amd64-3.10\\pandas\\tests\\io\\pytables\n",
            "  copying pandas\\tests\\io\\pytables\\common.py -> build\\lib.win-amd64-3.10\\pandas\\tests\\io\\pytables\n",
            "  copying pandas\\tests\\io\\pytables\\conftest.py -> build\\lib.win-amd64-3.10\\pandas\\tests\\io\\pytables\n",
            "  copying pandas\\tests\\io\\pytables\\test_append.py -> build\\lib.win-amd64-3.10\\pandas\\tests\\io\\pytables\n",
            "  copying pandas\\tests\\io\\pytables\\test_categorical.py -> build\\lib.win-amd64-3.10\\pandas\\tests\\io\\pytables\n",
            "  copying pandas\\tests\\io\\pytables\\test_compat.py -> build\\lib.win-amd64-3.10\\pandas\\tests\\io\\pytables\n",
            "  copying pandas\\tests\\io\\pytables\\test_complex.py -> build\\lib.win-amd64-3.10\\pandas\\tests\\io\\pytables\n",
            "  copying pandas\\tests\\io\\pytables\\test_errors.py -> build\\lib.win-amd64-3.10\\pandas\\tests\\io\\pytables\n",
            "  copying pandas\\tests\\io\\pytables\\test_file_handling.py -> build\\lib.win-amd64-3.10\\pandas\\tests\\io\\pytables\n",
            "  copying pandas\\tests\\io\\pytables\\test_keys.py -> build\\lib.win-amd64-3.10\\pandas\\tests\\io\\pytables\n",
            "  copying pandas\\tests\\io\\pytables\\test_put.py -> build\\lib.win-amd64-3.10\\pandas\\tests\\io\\pytables\n",
            "  copying pandas\\tests\\io\\pytables\\test_pytables_missing.py -> build\\lib.win-amd64-3.10\\pandas\\tests\\io\\pytables\n",
            "  copying pandas\\tests\\io\\pytables\\test_read.py -> build\\lib.win-amd64-3.10\\pandas\\tests\\io\\pytables\n",
            "  copying pandas\\tests\\io\\pytables\\test_retain_attributes.py -> build\\lib.win-amd64-3.10\\pandas\\tests\\io\\pytables\n",
            "  copying pandas\\tests\\io\\pytables\\test_round_trip.py -> build\\lib.win-amd64-3.10\\pandas\\tests\\io\\pytables\n",
            "  copying pandas\\tests\\io\\pytables\\test_select.py -> build\\lib.win-amd64-3.10\\pandas\\tests\\io\\pytables\n",
            "  copying pandas\\tests\\io\\pytables\\test_store.py -> build\\lib.win-amd64-3.10\\pandas\\tests\\io\\pytables\n",
            "  copying pandas\\tests\\io\\pytables\\test_subclass.py -> build\\lib.win-amd64-3.10\\pandas\\tests\\io\\pytables\n",
            "  copying pandas\\tests\\io\\pytables\\test_timezones.py -> build\\lib.win-amd64-3.10\\pandas\\tests\\io\\pytables\n",
            "  copying pandas\\tests\\io\\pytables\\test_time_series.py -> build\\lib.win-amd64-3.10\\pandas\\tests\\io\\pytables\n",
            "  copying pandas\\tests\\io\\pytables\\__init__.py -> build\\lib.win-amd64-3.10\\pandas\\tests\\io\\pytables\n",
            "  creating build\\lib.win-amd64-3.10\\pandas\\tests\\io\\sas\n",
            "  copying pandas\\tests\\io\\sas\\test_sas.py -> build\\lib.win-amd64-3.10\\pandas\\tests\\io\\sas\n",
            "  copying pandas\\tests\\io\\sas\\test_sas7bdat.py -> build\\lib.win-amd64-3.10\\pandas\\tests\\io\\sas\n",
            "  copying pandas\\tests\\io\\sas\\test_xport.py -> build\\lib.win-amd64-3.10\\pandas\\tests\\io\\sas\n",
            "  copying pandas\\tests\\io\\sas\\__init__.py -> build\\lib.win-amd64-3.10\\pandas\\tests\\io\\sas\n",
            "  creating build\\lib.win-amd64-3.10\\pandas\\tests\\io\\formats\\style\n",
            "  copying pandas\\tests\\io\\formats\\style\\test_align.py -> build\\lib.win-amd64-3.10\\pandas\\tests\\io\\formats\\style\n",
            "  copying pandas\\tests\\io\\formats\\style\\test_format.py -> build\\lib.win-amd64-3.10\\pandas\\tests\\io\\formats\\style\n",
            "  copying pandas\\tests\\io\\formats\\style\\test_highlight.py -> build\\lib.win-amd64-3.10\\pandas\\tests\\io\\formats\\style\n",
            "  copying pandas\\tests\\io\\formats\\style\\test_html.py -> build\\lib.win-amd64-3.10\\pandas\\tests\\io\\formats\\style\n",
            "  copying pandas\\tests\\io\\formats\\style\\test_matplotlib.py -> build\\lib.win-amd64-3.10\\pandas\\tests\\io\\formats\\style\n",
            "  copying pandas\\tests\\io\\formats\\style\\test_non_unique.py -> build\\lib.win-amd64-3.10\\pandas\\tests\\io\\formats\\style\n",
            "  copying pandas\\tests\\io\\formats\\style\\test_style.py -> build\\lib.win-amd64-3.10\\pandas\\tests\\io\\formats\\style\n",
            "  copying pandas\\tests\\io\\formats\\style\\test_tooltip.py -> build\\lib.win-amd64-3.10\\pandas\\tests\\io\\formats\\style\n",
            "  copying pandas\\tests\\io\\formats\\style\\test_to_latex.py -> build\\lib.win-amd64-3.10\\pandas\\tests\\io\\formats\\style\n",
            "  copying pandas\\tests\\io\\formats\\style\\__init__.py -> build\\lib.win-amd64-3.10\\pandas\\tests\\io\\formats\\style\n",
            "  creating build\\lib.win-amd64-3.10\\pandas\\tests\\io\\parser\\common\n",
            "  copying pandas\\tests\\io\\parser\\common\\test_chunksize.py -> build\\lib.win-amd64-3.10\\pandas\\tests\\io\\parser\\common\n",
            "  copying pandas\\tests\\io\\parser\\common\\test_common_basic.py -> build\\lib.win-amd64-3.10\\pandas\\tests\\io\\parser\\common\n",
            "  copying pandas\\tests\\io\\parser\\common\\test_data_list.py -> build\\lib.win-amd64-3.10\\pandas\\tests\\io\\parser\\common\n",
            "  copying pandas\\tests\\io\\parser\\common\\test_decimal.py -> build\\lib.win-amd64-3.10\\pandas\\tests\\io\\parser\\common\n",
            "  copying pandas\\tests\\io\\parser\\common\\test_file_buffer_url.py -> build\\lib.win-amd64-3.10\\pandas\\tests\\io\\parser\\common\n",
            "  copying pandas\\tests\\io\\parser\\common\\test_float.py -> build\\lib.win-amd64-3.10\\pandas\\tests\\io\\parser\\common\n",
            "  copying pandas\\tests\\io\\parser\\common\\test_index.py -> build\\lib.win-amd64-3.10\\pandas\\tests\\io\\parser\\common\n",
            "  copying pandas\\tests\\io\\parser\\common\\test_inf.py -> build\\lib.win-amd64-3.10\\pandas\\tests\\io\\parser\\common\n",
            "  copying pandas\\tests\\io\\parser\\common\\test_ints.py -> build\\lib.win-amd64-3.10\\pandas\\tests\\io\\parser\\common\n",
            "  copying pandas\\tests\\io\\parser\\common\\test_iterator.py -> build\\lib.win-amd64-3.10\\pandas\\tests\\io\\parser\\common\n",
            "  copying pandas\\tests\\io\\parser\\common\\test_read_errors.py -> build\\lib.win-amd64-3.10\\pandas\\tests\\io\\parser\\common\n",
            "  copying pandas\\tests\\io\\parser\\common\\test_verbose.py -> build\\lib.win-amd64-3.10\\pandas\\tests\\io\\parser\\common\n",
            "  copying pandas\\tests\\io\\parser\\common\\__init__.py -> build\\lib.win-amd64-3.10\\pandas\\tests\\io\\parser\\common\n",
            "  creating build\\lib.win-amd64-3.10\\pandas\\tests\\io\\parser\\dtypes\n",
            "  copying pandas\\tests\\io\\parser\\dtypes\\test_categorical.py -> build\\lib.win-amd64-3.10\\pandas\\tests\\io\\parser\\dtypes\n",
            "  copying pandas\\tests\\io\\parser\\dtypes\\test_dtypes_basic.py -> build\\lib.win-amd64-3.10\\pandas\\tests\\io\\parser\\dtypes\n",
            "  copying pandas\\tests\\io\\parser\\dtypes\\test_empty.py -> build\\lib.win-amd64-3.10\\pandas\\tests\\io\\parser\\dtypes\n",
            "  copying pandas\\tests\\io\\parser\\dtypes\\__init__.py -> build\\lib.win-amd64-3.10\\pandas\\tests\\io\\parser\\dtypes\n",
            "  creating build\\lib.win-amd64-3.10\\pandas\\tests\\io\\parser\\usecols\n",
            "  copying pandas\\tests\\io\\parser\\usecols\\test_parse_dates.py -> build\\lib.win-amd64-3.10\\pandas\\tests\\io\\parser\\usecols\n",
            "  copying pandas\\tests\\io\\parser\\usecols\\test_strings.py -> build\\lib.win-amd64-3.10\\pandas\\tests\\io\\parser\\usecols\n",
            "  copying pandas\\tests\\io\\parser\\usecols\\test_usecols_basic.py -> build\\lib.win-amd64-3.10\\pandas\\tests\\io\\parser\\usecols\n",
            "  copying pandas\\tests\\io\\parser\\usecols\\__init__.py -> build\\lib.win-amd64-3.10\\pandas\\tests\\io\\parser\\usecols\n",
            "  creating build\\lib.win-amd64-3.10\\pandas\\tests\\plotting\\frame\n",
            "  copying pandas\\tests\\plotting\\frame\\test_frame.py -> build\\lib.win-amd64-3.10\\pandas\\tests\\plotting\\frame\n",
            "  copying pandas\\tests\\plotting\\frame\\test_frame_color.py -> build\\lib.win-amd64-3.10\\pandas\\tests\\plotting\\frame\n",
            "  copying pandas\\tests\\plotting\\frame\\test_frame_groupby.py -> build\\lib.win-amd64-3.10\\pandas\\tests\\plotting\\frame\n",
            "  copying pandas\\tests\\plotting\\frame\\test_frame_legend.py -> build\\lib.win-amd64-3.10\\pandas\\tests\\plotting\\frame\n",
            "  copying pandas\\tests\\plotting\\frame\\test_frame_subplots.py -> build\\lib.win-amd64-3.10\\pandas\\tests\\plotting\\frame\n",
            "  copying pandas\\tests\\plotting\\frame\\__init__.py -> build\\lib.win-amd64-3.10\\pandas\\tests\\plotting\\frame\n",
            "  creating build\\lib.win-amd64-3.10\\pandas\\tests\\reshape\\concat\n",
            "  copying pandas\\tests\\reshape\\concat\\conftest.py -> build\\lib.win-amd64-3.10\\pandas\\tests\\reshape\\concat\n",
            "  copying pandas\\tests\\reshape\\concat\\test_append.py -> build\\lib.win-amd64-3.10\\pandas\\tests\\reshape\\concat\n",
            "  copying pandas\\tests\\reshape\\concat\\test_append_common.py -> build\\lib.win-amd64-3.10\\pandas\\tests\\reshape\\concat\n",
            "  copying pandas\\tests\\reshape\\concat\\test_categorical.py -> build\\lib.win-amd64-3.10\\pandas\\tests\\reshape\\concat\n",
            "  copying pandas\\tests\\reshape\\concat\\test_concat.py -> build\\lib.win-amd64-3.10\\pandas\\tests\\reshape\\concat\n",
            "  copying pandas\\tests\\reshape\\concat\\test_dataframe.py -> build\\lib.win-amd64-3.10\\pandas\\tests\\reshape\\concat\n",
            "  copying pandas\\tests\\reshape\\concat\\test_datetimes.py -> build\\lib.win-amd64-3.10\\pandas\\tests\\reshape\\concat\n",
            "  copying pandas\\tests\\reshape\\concat\\test_empty.py -> build\\lib.win-amd64-3.10\\pandas\\tests\\reshape\\concat\n",
            "  copying pandas\\tests\\reshape\\concat\\test_index.py -> build\\lib.win-amd64-3.10\\pandas\\tests\\reshape\\concat\n",
            "  copying pandas\\tests\\reshape\\concat\\test_invalid.py -> build\\lib.win-amd64-3.10\\pandas\\tests\\reshape\\concat\n",
            "  copying pandas\\tests\\reshape\\concat\\test_series.py -> build\\lib.win-amd64-3.10\\pandas\\tests\\reshape\\concat\n",
            "  copying pandas\\tests\\reshape\\concat\\test_sort.py -> build\\lib.win-amd64-3.10\\pandas\\tests\\reshape\\concat\n",
            "  copying pandas\\tests\\reshape\\concat\\__init__.py -> build\\lib.win-amd64-3.10\\pandas\\tests\\reshape\\concat\n",
            "  creating build\\lib.win-amd64-3.10\\pandas\\tests\\reshape\\merge\n",
            "  copying pandas\\tests\\reshape\\merge\\test_join.py -> build\\lib.win-amd64-3.10\\pandas\\tests\\reshape\\merge\n",
            "  copying pandas\\tests\\reshape\\merge\\test_merge.py -> build\\lib.win-amd64-3.10\\pandas\\tests\\reshape\\merge\n",
            "  copying pandas\\tests\\reshape\\merge\\test_merge_asof.py -> build\\lib.win-amd64-3.10\\pandas\\tests\\reshape\\merge\n",
            "  copying pandas\\tests\\reshape\\merge\\test_merge_cross.py -> build\\lib.win-amd64-3.10\\pandas\\tests\\reshape\\merge\n",
            "  copying pandas\\tests\\reshape\\merge\\test_merge_index_as_string.py -> build\\lib.win-amd64-3.10\\pandas\\tests\\reshape\\merge\n",
            "  copying pandas\\tests\\reshape\\merge\\test_merge_ordered.py -> build\\lib.win-amd64-3.10\\pandas\\tests\\reshape\\merge\n",
            "  copying pandas\\tests\\reshape\\merge\\test_multi.py -> build\\lib.win-amd64-3.10\\pandas\\tests\\reshape\\merge\n",
            "  copying pandas\\tests\\reshape\\merge\\__init__.py -> build\\lib.win-amd64-3.10\\pandas\\tests\\reshape\\merge\n",
            "  creating build\\lib.win-amd64-3.10\\pandas\\tests\\scalar\\interval\n",
            "  copying pandas\\tests\\scalar\\interval\\test_arithmetic.py -> build\\lib.win-amd64-3.10\\pandas\\tests\\scalar\\interval\n",
            "  copying pandas\\tests\\scalar\\interval\\test_interval.py -> build\\lib.win-amd64-3.10\\pandas\\tests\\scalar\\interval\n",
            "  copying pandas\\tests\\scalar\\interval\\test_ops.py -> build\\lib.win-amd64-3.10\\pandas\\tests\\scalar\\interval\n",
            "  copying pandas\\tests\\scalar\\interval\\__init__.py -> build\\lib.win-amd64-3.10\\pandas\\tests\\scalar\\interval\n",
            "  creating build\\lib.win-amd64-3.10\\pandas\\tests\\scalar\\period\n",
            "  copying pandas\\tests\\scalar\\period\\test_asfreq.py -> build\\lib.win-amd64-3.10\\pandas\\tests\\scalar\\period\n",
            "  copying pandas\\tests\\scalar\\period\\test_period.py -> build\\lib.win-amd64-3.10\\pandas\\tests\\scalar\\period\n",
            "  copying pandas\\tests\\scalar\\period\\__init__.py -> build\\lib.win-amd64-3.10\\pandas\\tests\\scalar\\period\n",
            "  creating build\\lib.win-amd64-3.10\\pandas\\tests\\scalar\\timedelta\n",
            "  copying pandas\\tests\\scalar\\timedelta\\test_arithmetic.py -> build\\lib.win-amd64-3.10\\pandas\\tests\\scalar\\timedelta\n",
            "  copying pandas\\tests\\scalar\\timedelta\\test_constructors.py -> build\\lib.win-amd64-3.10\\pandas\\tests\\scalar\\timedelta\n",
            "  copying pandas\\tests\\scalar\\timedelta\\test_formats.py -> build\\lib.win-amd64-3.10\\pandas\\tests\\scalar\\timedelta\n",
            "  copying pandas\\tests\\scalar\\timedelta\\test_timedelta.py -> build\\lib.win-amd64-3.10\\pandas\\tests\\scalar\\timedelta\n",
            "  copying pandas\\tests\\scalar\\timedelta\\__init__.py -> build\\lib.win-amd64-3.10\\pandas\\tests\\scalar\\timedelta\n",
            "  creating build\\lib.win-amd64-3.10\\pandas\\tests\\scalar\\timestamp\n",
            "  copying pandas\\tests\\scalar\\timestamp\\test_arithmetic.py -> build\\lib.win-amd64-3.10\\pandas\\tests\\scalar\\timestamp\n",
            "  copying pandas\\tests\\scalar\\timestamp\\test_comparisons.py -> build\\lib.win-amd64-3.10\\pandas\\tests\\scalar\\timestamp\n",
            "  copying pandas\\tests\\scalar\\timestamp\\test_constructors.py -> build\\lib.win-amd64-3.10\\pandas\\tests\\scalar\\timestamp\n",
            "  copying pandas\\tests\\scalar\\timestamp\\test_rendering.py -> build\\lib.win-amd64-3.10\\pandas\\tests\\scalar\\timestamp\n",
            "  copying pandas\\tests\\scalar\\timestamp\\test_timestamp.py -> build\\lib.win-amd64-3.10\\pandas\\tests\\scalar\\timestamp\n",
            "  copying pandas\\tests\\scalar\\timestamp\\test_timezones.py -> build\\lib.win-amd64-3.10\\pandas\\tests\\scalar\\timestamp\n",
            "  copying pandas\\tests\\scalar\\timestamp\\test_unary_ops.py -> build\\lib.win-amd64-3.10\\pandas\\tests\\scalar\\timestamp\n",
            "  copying pandas\\tests\\scalar\\timestamp\\__init__.py -> build\\lib.win-amd64-3.10\\pandas\\tests\\scalar\\timestamp\n",
            "  creating build\\lib.win-amd64-3.10\\pandas\\tests\\series\\accessors\n",
            "  copying pandas\\tests\\series\\accessors\\test_cat_accessor.py -> build\\lib.win-amd64-3.10\\pandas\\tests\\series\\accessors\n",
            "  copying pandas\\tests\\series\\accessors\\test_dt_accessor.py -> build\\lib.win-amd64-3.10\\pandas\\tests\\series\\accessors\n",
            "  copying pandas\\tests\\series\\accessors\\test_sparse_accessor.py -> build\\lib.win-amd64-3.10\\pandas\\tests\\series\\accessors\n",
            "  copying pandas\\tests\\series\\accessors\\test_str_accessor.py -> build\\lib.win-amd64-3.10\\pandas\\tests\\series\\accessors\n",
            "  copying pandas\\tests\\series\\accessors\\__init__.py -> build\\lib.win-amd64-3.10\\pandas\\tests\\series\\accessors\n",
            "  creating build\\lib.win-amd64-3.10\\pandas\\tests\\series\\indexing\n",
            "  copying pandas\\tests\\series\\indexing\\test_datetime.py -> build\\lib.win-amd64-3.10\\pandas\\tests\\series\\indexing\n",
            "  copying pandas\\tests\\series\\indexing\\test_delitem.py -> build\\lib.win-amd64-3.10\\pandas\\tests\\series\\indexing\n",
            "  copying pandas\\tests\\series\\indexing\\test_get.py -> build\\lib.win-amd64-3.10\\pandas\\tests\\series\\indexing\n",
            "  copying pandas\\tests\\series\\indexing\\test_getitem.py -> build\\lib.win-amd64-3.10\\pandas\\tests\\series\\indexing\n",
            "  copying pandas\\tests\\series\\indexing\\test_indexing.py -> build\\lib.win-amd64-3.10\\pandas\\tests\\series\\indexing\n",
            "  copying pandas\\tests\\series\\indexing\\test_mask.py -> build\\lib.win-amd64-3.10\\pandas\\tests\\series\\indexing\n",
            "  copying pandas\\tests\\series\\indexing\\test_setitem.py -> build\\lib.win-amd64-3.10\\pandas\\tests\\series\\indexing\n",
            "  copying pandas\\tests\\series\\indexing\\test_set_value.py -> build\\lib.win-amd64-3.10\\pandas\\tests\\series\\indexing\n",
            "  copying pandas\\tests\\series\\indexing\\test_take.py -> build\\lib.win-amd64-3.10\\pandas\\tests\\series\\indexing\n",
            "  copying pandas\\tests\\series\\indexing\\test_where.py -> build\\lib.win-amd64-3.10\\pandas\\tests\\series\\indexing\n",
            "  copying pandas\\tests\\series\\indexing\\test_xs.py -> build\\lib.win-amd64-3.10\\pandas\\tests\\series\\indexing\n",
            "  copying pandas\\tests\\series\\indexing\\__init__.py -> build\\lib.win-amd64-3.10\\pandas\\tests\\series\\indexing\n",
            "  creating build\\lib.win-amd64-3.10\\pandas\\tests\\series\\methods\n",
            "  copying pandas\\tests\\series\\methods\\test_align.py -> build\\lib.win-amd64-3.10\\pandas\\tests\\series\\methods\n",
            "  copying pandas\\tests\\series\\methods\\test_append.py -> build\\lib.win-amd64-3.10\\pandas\\tests\\series\\methods\n",
            "  copying pandas\\tests\\series\\methods\\test_argsort.py -> build\\lib.win-amd64-3.10\\pandas\\tests\\series\\methods\n",
            "  copying pandas\\tests\\series\\methods\\test_asfreq.py -> build\\lib.win-amd64-3.10\\pandas\\tests\\series\\methods\n",
            "  copying pandas\\tests\\series\\methods\\test_asof.py -> build\\lib.win-amd64-3.10\\pandas\\tests\\series\\methods\n",
            "  copying pandas\\tests\\series\\methods\\test_astype.py -> build\\lib.win-amd64-3.10\\pandas\\tests\\series\\methods\n",
            "  copying pandas\\tests\\series\\methods\\test_autocorr.py -> build\\lib.win-amd64-3.10\\pandas\\tests\\series\\methods\n",
            "  copying pandas\\tests\\series\\methods\\test_between.py -> build\\lib.win-amd64-3.10\\pandas\\tests\\series\\methods\n",
            "  copying pandas\\tests\\series\\methods\\test_clip.py -> build\\lib.win-amd64-3.10\\pandas\\tests\\series\\methods\n",
            "  copying pandas\\tests\\series\\methods\\test_combine.py -> build\\lib.win-amd64-3.10\\pandas\\tests\\series\\methods\n",
            "  copying pandas\\tests\\series\\methods\\test_combine_first.py -> build\\lib.win-amd64-3.10\\pandas\\tests\\series\\methods\n",
            "  copying pandas\\tests\\series\\methods\\test_compare.py -> build\\lib.win-amd64-3.10\\pandas\\tests\\series\\methods\n",
            "  copying pandas\\tests\\series\\methods\\test_convert.py -> build\\lib.win-amd64-3.10\\pandas\\tests\\series\\methods\n",
            "  copying pandas\\tests\\series\\methods\\test_convert_dtypes.py -> build\\lib.win-amd64-3.10\\pandas\\tests\\series\\methods\n",
            "  copying pandas\\tests\\series\\methods\\test_copy.py -> build\\lib.win-amd64-3.10\\pandas\\tests\\series\\methods\n",
            "  copying pandas\\tests\\series\\methods\\test_count.py -> build\\lib.win-amd64-3.10\\pandas\\tests\\series\\methods\n",
            "  copying pandas\\tests\\series\\methods\\test_cov_corr.py -> build\\lib.win-amd64-3.10\\pandas\\tests\\series\\methods\n",
            "  copying pandas\\tests\\series\\methods\\test_describe.py -> build\\lib.win-amd64-3.10\\pandas\\tests\\series\\methods\n",
            "  copying pandas\\tests\\series\\methods\\test_diff.py -> build\\lib.win-amd64-3.10\\pandas\\tests\\series\\methods\n",
            "  copying pandas\\tests\\series\\methods\\test_drop.py -> build\\lib.win-amd64-3.10\\pandas\\tests\\series\\methods\n",
            "  copying pandas\\tests\\series\\methods\\test_dropna.py -> build\\lib.win-amd64-3.10\\pandas\\tests\\series\\methods\n",
            "  copying pandas\\tests\\series\\methods\\test_drop_duplicates.py -> build\\lib.win-amd64-3.10\\pandas\\tests\\series\\methods\n",
            "  copying pandas\\tests\\series\\methods\\test_dtypes.py -> build\\lib.win-amd64-3.10\\pandas\\tests\\series\\methods\n",
            "  copying pandas\\tests\\series\\methods\\test_duplicated.py -> build\\lib.win-amd64-3.10\\pandas\\tests\\series\\methods\n",
            "  copying pandas\\tests\\series\\methods\\test_equals.py -> build\\lib.win-amd64-3.10\\pandas\\tests\\series\\methods\n",
            "  copying pandas\\tests\\series\\methods\\test_explode.py -> build\\lib.win-amd64-3.10\\pandas\\tests\\series\\methods\n",
            "  copying pandas\\tests\\series\\methods\\test_fillna.py -> build\\lib.win-amd64-3.10\\pandas\\tests\\series\\methods\n",
            "  copying pandas\\tests\\series\\methods\\test_get_numeric_data.py -> build\\lib.win-amd64-3.10\\pandas\\tests\\series\\methods\n",
            "  copying pandas\\tests\\series\\methods\\test_head_tail.py -> build\\lib.win-amd64-3.10\\pandas\\tests\\series\\methods\n",
            "  copying pandas\\tests\\series\\methods\\test_infer_objects.py -> build\\lib.win-amd64-3.10\\pandas\\tests\\series\\methods\n",
            "  copying pandas\\tests\\series\\methods\\test_interpolate.py -> build\\lib.win-amd64-3.10\\pandas\\tests\\series\\methods\n",
            "  copying pandas\\tests\\series\\methods\\test_isin.py -> build\\lib.win-amd64-3.10\\pandas\\tests\\series\\methods\n",
            "  copying pandas\\tests\\series\\methods\\test_isna.py -> build\\lib.win-amd64-3.10\\pandas\\tests\\series\\methods\n",
            "  copying pandas\\tests\\series\\methods\\test_is_monotonic.py -> build\\lib.win-amd64-3.10\\pandas\\tests\\series\\methods\n",
            "  copying pandas\\tests\\series\\methods\\test_is_unique.py -> build\\lib.win-amd64-3.10\\pandas\\tests\\series\\methods\n",
            "  copying pandas\\tests\\series\\methods\\test_item.py -> build\\lib.win-amd64-3.10\\pandas\\tests\\series\\methods\n",
            "  copying pandas\\tests\\series\\methods\\test_matmul.py -> build\\lib.win-amd64-3.10\\pandas\\tests\\series\\methods\n",
            "  copying pandas\\tests\\series\\methods\\test_nlargest.py -> build\\lib.win-amd64-3.10\\pandas\\tests\\series\\methods\n",
            "  copying pandas\\tests\\series\\methods\\test_nunique.py -> build\\lib.win-amd64-3.10\\pandas\\tests\\series\\methods\n",
            "  copying pandas\\tests\\series\\methods\\test_pct_change.py -> build\\lib.win-amd64-3.10\\pandas\\tests\\series\\methods\n",
            "  copying pandas\\tests\\series\\methods\\test_pop.py -> build\\lib.win-amd64-3.10\\pandas\\tests\\series\\methods\n",
            "  copying pandas\\tests\\series\\methods\\test_quantile.py -> build\\lib.win-amd64-3.10\\pandas\\tests\\series\\methods\n",
            "  copying pandas\\tests\\series\\methods\\test_rank.py -> build\\lib.win-amd64-3.10\\pandas\\tests\\series\\methods\n",
            "  copying pandas\\tests\\series\\methods\\test_reindex.py -> build\\lib.win-amd64-3.10\\pandas\\tests\\series\\methods\n",
            "  copying pandas\\tests\\series\\methods\\test_reindex_like.py -> build\\lib.win-amd64-3.10\\pandas\\tests\\series\\methods\n",
            "  copying pandas\\tests\\series\\methods\\test_rename.py -> build\\lib.win-amd64-3.10\\pandas\\tests\\series\\methods\n",
            "  copying pandas\\tests\\series\\methods\\test_rename_axis.py -> build\\lib.win-amd64-3.10\\pandas\\tests\\series\\methods\n",
            "  copying pandas\\tests\\series\\methods\\test_repeat.py -> build\\lib.win-amd64-3.10\\pandas\\tests\\series\\methods\n",
            "  copying pandas\\tests\\series\\methods\\test_replace.py -> build\\lib.win-amd64-3.10\\pandas\\tests\\series\\methods\n",
            "  copying pandas\\tests\\series\\methods\\test_reset_index.py -> build\\lib.win-amd64-3.10\\pandas\\tests\\series\\methods\n",
            "  copying pandas\\tests\\series\\methods\\test_round.py -> build\\lib.win-amd64-3.10\\pandas\\tests\\series\\methods\n",
            "  copying pandas\\tests\\series\\methods\\test_searchsorted.py -> build\\lib.win-amd64-3.10\\pandas\\tests\\series\\methods\n",
            "  copying pandas\\tests\\series\\methods\\test_set_name.py -> build\\lib.win-amd64-3.10\\pandas\\tests\\series\\methods\n",
            "  copying pandas\\tests\\series\\methods\\test_shift.py -> build\\lib.win-amd64-3.10\\pandas\\tests\\series\\methods\n",
            "  copying pandas\\tests\\series\\methods\\test_sort_index.py -> build\\lib.win-amd64-3.10\\pandas\\tests\\series\\methods\n",
            "  copying pandas\\tests\\series\\methods\\test_sort_values.py -> build\\lib.win-amd64-3.10\\pandas\\tests\\series\\methods\n",
            "  copying pandas\\tests\\series\\methods\\test_to_csv.py -> build\\lib.win-amd64-3.10\\pandas\\tests\\series\\methods\n",
            "  copying pandas\\tests\\series\\methods\\test_to_dict.py -> build\\lib.win-amd64-3.10\\pandas\\tests\\series\\methods\n",
            "  copying pandas\\tests\\series\\methods\\test_to_frame.py -> build\\lib.win-amd64-3.10\\pandas\\tests\\series\\methods\n",
            "  copying pandas\\tests\\series\\methods\\test_truncate.py -> build\\lib.win-amd64-3.10\\pandas\\tests\\series\\methods\n",
            "  copying pandas\\tests\\series\\methods\\test_tz_convert.py -> build\\lib.win-amd64-3.10\\pandas\\tests\\series\\methods\n",
            "  copying pandas\\tests\\series\\methods\\test_tz_localize.py -> build\\lib.win-amd64-3.10\\pandas\\tests\\series\\methods\n",
            "  copying pandas\\tests\\series\\methods\\test_unique.py -> build\\lib.win-amd64-3.10\\pandas\\tests\\series\\methods\n",
            "  copying pandas\\tests\\series\\methods\\test_unstack.py -> build\\lib.win-amd64-3.10\\pandas\\tests\\series\\methods\n",
            "  copying pandas\\tests\\series\\methods\\test_update.py -> build\\lib.win-amd64-3.10\\pandas\\tests\\series\\methods\n",
            "  copying pandas\\tests\\series\\methods\\test_values.py -> build\\lib.win-amd64-3.10\\pandas\\tests\\series\\methods\n",
            "  copying pandas\\tests\\series\\methods\\test_value_counts.py -> build\\lib.win-amd64-3.10\\pandas\\tests\\series\\methods\n",
            "  copying pandas\\tests\\series\\methods\\test_view.py -> build\\lib.win-amd64-3.10\\pandas\\tests\\series\\methods\n",
            "  copying pandas\\tests\\series\\methods\\__init__.py -> build\\lib.win-amd64-3.10\\pandas\\tests\\series\\methods\n",
            "  creating build\\lib.win-amd64-3.10\\pandas\\tests\\tseries\\frequencies\n",
            "  copying pandas\\tests\\tseries\\frequencies\\test_frequencies.py -> build\\lib.win-amd64-3.10\\pandas\\tests\\tseries\\frequencies\n",
            "  copying pandas\\tests\\tseries\\frequencies\\test_freq_code.py -> build\\lib.win-amd64-3.10\\pandas\\tests\\tseries\\frequencies\n",
            "  copying pandas\\tests\\tseries\\frequencies\\test_inference.py -> build\\lib.win-amd64-3.10\\pandas\\tests\\tseries\\frequencies\n",
            "  copying pandas\\tests\\tseries\\frequencies\\__init__.py -> build\\lib.win-amd64-3.10\\pandas\\tests\\tseries\\frequencies\n",
            "  creating build\\lib.win-amd64-3.10\\pandas\\tests\\tseries\\holiday\n",
            "  copying pandas\\tests\\tseries\\holiday\\test_calendar.py -> build\\lib.win-amd64-3.10\\pandas\\tests\\tseries\\holiday\n",
            "  copying pandas\\tests\\tseries\\holiday\\test_federal.py -> build\\lib.win-amd64-3.10\\pandas\\tests\\tseries\\holiday\n",
            "  copying pandas\\tests\\tseries\\holiday\\test_holiday.py -> build\\lib.win-amd64-3.10\\pandas\\tests\\tseries\\holiday\n",
            "  copying pandas\\tests\\tseries\\holiday\\test_observance.py -> build\\lib.win-amd64-3.10\\pandas\\tests\\tseries\\holiday\n",
            "  copying pandas\\tests\\tseries\\holiday\\__init__.py -> build\\lib.win-amd64-3.10\\pandas\\tests\\tseries\\holiday\n",
            "  creating build\\lib.win-amd64-3.10\\pandas\\tests\\tseries\\offsets\n",
            "  copying pandas\\tests\\tseries\\offsets\\common.py -> build\\lib.win-amd64-3.10\\pandas\\tests\\tseries\\offsets\n",
            "  copying pandas\\tests\\tseries\\offsets\\conftest.py -> build\\lib.win-amd64-3.10\\pandas\\tests\\tseries\\offsets\n",
            "  copying pandas\\tests\\tseries\\offsets\\test_business_day.py -> build\\lib.win-amd64-3.10\\pandas\\tests\\tseries\\offsets\n",
            "  copying pandas\\tests\\tseries\\offsets\\test_business_hour.py -> build\\lib.win-amd64-3.10\\pandas\\tests\\tseries\\offsets\n",
            "  copying pandas\\tests\\tseries\\offsets\\test_custom_business_hour.py -> build\\lib.win-amd64-3.10\\pandas\\tests\\tseries\\offsets\n",
            "  copying pandas\\tests\\tseries\\offsets\\test_dst.py -> build\\lib.win-amd64-3.10\\pandas\\tests\\tseries\\offsets\n",
            "  copying pandas\\tests\\tseries\\offsets\\test_fiscal.py -> build\\lib.win-amd64-3.10\\pandas\\tests\\tseries\\offsets\n",
            "  copying pandas\\tests\\tseries\\offsets\\test_month.py -> build\\lib.win-amd64-3.10\\pandas\\tests\\tseries\\offsets\n",
            "  copying pandas\\tests\\tseries\\offsets\\test_offsets.py -> build\\lib.win-amd64-3.10\\pandas\\tests\\tseries\\offsets\n",
            "  copying pandas\\tests\\tseries\\offsets\\test_offsets_properties.py -> build\\lib.win-amd64-3.10\\pandas\\tests\\tseries\\offsets\n",
            "  copying pandas\\tests\\tseries\\offsets\\test_opening_times.py -> build\\lib.win-amd64-3.10\\pandas\\tests\\tseries\\offsets\n",
            "  copying pandas\\tests\\tseries\\offsets\\test_ticks.py -> build\\lib.win-amd64-3.10\\pandas\\tests\\tseries\\offsets\n",
            "  copying pandas\\tests\\tseries\\offsets\\test_week.py -> build\\lib.win-amd64-3.10\\pandas\\tests\\tseries\\offsets\n",
            "  copying pandas\\tests\\tseries\\offsets\\test_yqm_offsets.py -> build\\lib.win-amd64-3.10\\pandas\\tests\\tseries\\offsets\n",
            "  copying pandas\\tests\\tseries\\offsets\\__init__.py -> build\\lib.win-amd64-3.10\\pandas\\tests\\tseries\\offsets\n",
            "  creating build\\lib.win-amd64-3.10\\pandas\\tests\\window\\moments\n",
            "  copying pandas\\tests\\window\\moments\\conftest.py -> build\\lib.win-amd64-3.10\\pandas\\tests\\window\\moments\n",
            "  copying pandas\\tests\\window\\moments\\test_moments_consistency_ewm.py -> build\\lib.win-amd64-3.10\\pandas\\tests\\window\\moments\n",
            "  copying pandas\\tests\\window\\moments\\test_moments_consistency_expanding.py -> build\\lib.win-amd64-3.10\\pandas\\tests\\window\\moments\n",
            "  copying pandas\\tests\\window\\moments\\test_moments_consistency_rolling.py -> build\\lib.win-amd64-3.10\\pandas\\tests\\window\\moments\n",
            "  copying pandas\\tests\\window\\moments\\test_moments_ewm.py -> build\\lib.win-amd64-3.10\\pandas\\tests\\window\\moments\n",
            "  copying pandas\\tests\\window\\moments\\test_moments_rolling.py -> build\\lib.win-amd64-3.10\\pandas\\tests\\window\\moments\n",
            "  copying pandas\\tests\\window\\moments\\test_moments_rolling_apply.py -> build\\lib.win-amd64-3.10\\pandas\\tests\\window\\moments\n",
            "  copying pandas\\tests\\window\\moments\\test_moments_rolling_functions.py -> build\\lib.win-amd64-3.10\\pandas\\tests\\window\\moments\n",
            "  copying pandas\\tests\\window\\moments\\test_moments_rolling_quantile.py -> build\\lib.win-amd64-3.10\\pandas\\tests\\window\\moments\n",
            "  copying pandas\\tests\\window\\moments\\test_moments_rolling_skew_kurt.py -> build\\lib.win-amd64-3.10\\pandas\\tests\\window\\moments\n",
            "  copying pandas\\tests\\window\\moments\\__init__.py -> build\\lib.win-amd64-3.10\\pandas\\tests\\window\\moments\n",
            "  creating build\\lib.win-amd64-3.10\\pandas\\util\\version\n",
            "  copying pandas\\util\\version\\__init__.py -> build\\lib.win-amd64-3.10\\pandas\\util\\version\n",
            "  creating build\\lib.win-amd64-3.10\\pandas\\_libs\\tslibs\n",
            "  copying pandas\\_libs\\tslibs\\__init__.py -> build\\lib.win-amd64-3.10\\pandas\\_libs\\tslibs\n",
            "  creating build\\lib.win-amd64-3.10\\pandas\\_libs\\window\n",
            "  copying pandas\\_libs\\window\\__init__.py -> build\\lib.win-amd64-3.10\\pandas\\_libs\\window\n",
            "  running egg_info\n",
            "  writing pandas.egg-info\\PKG-INFO\n",
            "  writing dependency_links to pandas.egg-info\\dependency_links.txt\n",
            "  writing entry points to pandas.egg-info\\entry_points.txt\n",
            "  writing requirements to pandas.egg-info\\requires.txt\n",
            "  writing top-level names to pandas.egg-info\\top_level.txt\n",
            "  reading manifest file 'pandas.egg-info\\SOURCES.txt'\n",
            "  reading manifest template 'MANIFEST.in'\n",
            "  no previously-included directories found matching 'doc\\build'\n",
            "  warning: no previously-included files matching '*.bz2' found anywhere in distribution\n",
            "  warning: no previously-included files matching '*.csv' found anywhere in distribution\n",
            "  warning: no previously-included files matching '*.dta' found anywhere in distribution\n",
            "  warning: no previously-included files matching '*.feather' found anywhere in distribution\n",
            "  warning: no previously-included files matching '*.tar' found anywhere in distribution\n",
            "  warning: no previously-included files matching '*.gz' found anywhere in distribution\n",
            "  warning: no previously-included files matching '*.h5' found anywhere in distribution\n",
            "  warning: no previously-included files matching '*.html' found anywhere in distribution\n",
            "  warning: no previously-included files matching '*.json' found anywhere in distribution\n",
            "  warning: no previously-included files matching '*.jsonl' found anywhere in distribution\n",
            "  warning: no previously-included files matching '*.msgpack' found anywhere in distribution\n",
            "  warning: no previously-included files matching '*.pdf' found anywhere in distribution\n",
            "  warning: no previously-included files matching '*.pickle' found anywhere in distribution\n",
            "  warning: no previously-included files matching '*.png' found anywhere in distribution\n",
            "  warning: no previously-included files matching '*.pptx' found anywhere in distribution\n",
            "  warning: no previously-included files matching '*.ods' found anywhere in distribution\n",
            "  warning: no previously-included files matching '*.odt' found anywhere in distribution\n",
            "  warning: no previously-included files matching '*.orc' found anywhere in distribution\n",
            "  warning: no previously-included files matching '*.sas7bdat' found anywhere in distribution\n",
            "  warning: no previously-included files matching '*.sav' found anywhere in distribution\n",
            "  warning: no previously-included files matching '*.so' found anywhere in distribution\n",
            "  warning: no previously-included files matching '*.xls' found anywhere in distribution\n",
            "  warning: no previously-included files matching '*.xlsb' found anywhere in distribution\n",
            "  warning: no previously-included files matching '*.xlsm' found anywhere in distribution\n",
            "  warning: no previously-included files matching '*.xlsx' found anywhere in distribution\n",
            "  warning: no previously-included files matching '*.xpt' found anywhere in distribution\n",
            "  warning: no previously-included files matching '*.xz' found anywhere in distribution\n",
            "  warning: no previously-included files matching '*.zip' found anywhere in distribution\n",
            "  warning: no previously-included files matching '*~' found anywhere in distribution\n",
            "  warning: no previously-included files matching '.DS_Store' found anywhere in distribution\n",
            "  warning: no previously-included files matching '.git*' found anywhere in distribution\n",
            "  warning: no previously-included files matching '#*' found anywhere in distribution\n",
            "  warning: no previously-included files matching '*.py[ocd]' found anywhere in distribution\n",
            "  no previously-included directories found matching 'pandas\\tests\\io\\parser\\data'\n",
            "  adding license file 'LICENSE'\n",
            "  writing manifest file 'pandas.egg-info\\SOURCES.txt'\n",
            "  copying pandas\\_libs\\algos.pxd -> build\\lib.win-amd64-3.10\\pandas\\_libs\n",
            "  copying pandas\\_libs\\algos.pyi -> build\\lib.win-amd64-3.10\\pandas\\_libs\n",
            "  copying pandas\\_libs\\algos.pyx -> build\\lib.win-amd64-3.10\\pandas\\_libs\n",
            "  copying pandas\\_libs\\algos_common_helper.pxi.in -> build\\lib.win-amd64-3.10\\pandas\\_libs\n",
            "  copying pandas\\_libs\\algos_take_helper.pxi.in -> build\\lib.win-amd64-3.10\\pandas\\_libs\n",
            "  copying pandas\\_libs\\arrays.pxd -> build\\lib.win-amd64-3.10\\pandas\\_libs\n",
            "  copying pandas\\_libs\\arrays.pyi -> build\\lib.win-amd64-3.10\\pandas\\_libs\n",
            "  copying pandas\\_libs\\arrays.pyx -> build\\lib.win-amd64-3.10\\pandas\\_libs\n",
            "  copying pandas\\_libs\\groupby.pyi -> build\\lib.win-amd64-3.10\\pandas\\_libs\n",
            "  copying pandas\\_libs\\groupby.pyx -> build\\lib.win-amd64-3.10\\pandas\\_libs\n",
            "  copying pandas\\_libs\\hashing.pyi -> build\\lib.win-amd64-3.10\\pandas\\_libs\n",
            "  copying pandas\\_libs\\hashing.pyx -> build\\lib.win-amd64-3.10\\pandas\\_libs\n",
            "  copying pandas\\_libs\\hashtable.pxd -> build\\lib.win-amd64-3.10\\pandas\\_libs\n",
            "  copying pandas\\_libs\\hashtable.pyi -> build\\lib.win-amd64-3.10\\pandas\\_libs\n",
            "  copying pandas\\_libs\\hashtable.pyx -> build\\lib.win-amd64-3.10\\pandas\\_libs\n",
            "  copying pandas\\_libs\\hashtable_class_helper.pxi.in -> build\\lib.win-amd64-3.10\\pandas\\_libs\n",
            "  copying pandas\\_libs\\hashtable_func_helper.pxi.in -> build\\lib.win-amd64-3.10\\pandas\\_libs\n",
            "  copying pandas\\_libs\\index.pyi -> build\\lib.win-amd64-3.10\\pandas\\_libs\n",
            "  copying pandas\\_libs\\index.pyx -> build\\lib.win-amd64-3.10\\pandas\\_libs\n",
            "  copying pandas\\_libs\\index_class_helper.pxi.in -> build\\lib.win-amd64-3.10\\pandas\\_libs\n",
            "  copying pandas\\_libs\\indexing.pyx -> build\\lib.win-amd64-3.10\\pandas\\_libs\n",
            "  copying pandas\\_libs\\internals.pyi -> build\\lib.win-amd64-3.10\\pandas\\_libs\n",
            "  copying pandas\\_libs\\internals.pyx -> build\\lib.win-amd64-3.10\\pandas\\_libs\n",
            "  copying pandas\\_libs\\interval.pyx -> build\\lib.win-amd64-3.10\\pandas\\_libs\n",
            "  copying pandas\\_libs\\intervaltree.pxi.in -> build\\lib.win-amd64-3.10\\pandas\\_libs\n",
            "  copying pandas\\_libs\\join.pyi -> build\\lib.win-amd64-3.10\\pandas\\_libs\n",
            "  copying pandas\\_libs\\join.pyx -> build\\lib.win-amd64-3.10\\pandas\\_libs\n",
            "  copying pandas\\_libs\\khash.pxd -> build\\lib.win-amd64-3.10\\pandas\\_libs\n",
            "  copying pandas\\_libs\\khash_for_primitive_helper.pxi.in -> build\\lib.win-amd64-3.10\\pandas\\_libs\n",
            "  copying pandas\\_libs\\lib.pxd -> build\\lib.win-amd64-3.10\\pandas\\_libs\n",
            "  copying pandas\\_libs\\lib.pyi -> build\\lib.win-amd64-3.10\\pandas\\_libs\n",
            "  copying pandas\\_libs\\lib.pyx -> build\\lib.win-amd64-3.10\\pandas\\_libs\n",
            "  copying pandas\\_libs\\missing.pxd -> build\\lib.win-amd64-3.10\\pandas\\_libs\n",
            "  copying pandas\\_libs\\missing.pyx -> build\\lib.win-amd64-3.10\\pandas\\_libs\n",
            "  copying pandas\\_libs\\ops.pyi -> build\\lib.win-amd64-3.10\\pandas\\_libs\n",
            "  copying pandas\\_libs\\ops.pyx -> build\\lib.win-amd64-3.10\\pandas\\_libs\n",
            "  copying pandas\\_libs\\ops_dispatch.pyi -> build\\lib.win-amd64-3.10\\pandas\\_libs\n",
            "  copying pandas\\_libs\\ops_dispatch.pyx -> build\\lib.win-amd64-3.10\\pandas\\_libs\n",
            "  copying pandas\\_libs\\parsers.pyi -> build\\lib.win-amd64-3.10\\pandas\\_libs\n",
            "  copying pandas\\_libs\\parsers.pyx -> build\\lib.win-amd64-3.10\\pandas\\_libs\n",
            "  copying pandas\\_libs\\properties.pyx -> build\\lib.win-amd64-3.10\\pandas\\_libs\n",
            "  copying pandas\\_libs\\reduction.pyx -> build\\lib.win-amd64-3.10\\pandas\\_libs\n",
            "  copying pandas\\_libs\\reshape.pyi -> build\\lib.win-amd64-3.10\\pandas\\_libs\n",
            "  copying pandas\\_libs\\reshape.pyx -> build\\lib.win-amd64-3.10\\pandas\\_libs\n",
            "  copying pandas\\_libs\\sparse.pyx -> build\\lib.win-amd64-3.10\\pandas\\_libs\n",
            "  copying pandas\\_libs\\sparse_op_helper.pxi.in -> build\\lib.win-amd64-3.10\\pandas\\_libs\n",
            "  copying pandas\\_libs\\testing.pyi -> build\\lib.win-amd64-3.10\\pandas\\_libs\n",
            "  copying pandas\\_libs\\testing.pyx -> build\\lib.win-amd64-3.10\\pandas\\_libs\n",
            "  copying pandas\\_libs\\tslib.pyi -> build\\lib.win-amd64-3.10\\pandas\\_libs\n",
            "  copying pandas\\_libs\\tslib.pyx -> build\\lib.win-amd64-3.10\\pandas\\_libs\n",
            "  copying pandas\\_libs\\util.pxd -> build\\lib.win-amd64-3.10\\pandas\\_libs\n",
            "  copying pandas\\_libs\\writers.pyi -> build\\lib.win-amd64-3.10\\pandas\\_libs\n",
            "  copying pandas\\_libs\\writers.pyx -> build\\lib.win-amd64-3.10\\pandas\\_libs\n",
            "  creating build\\lib.win-amd64-3.10\\pandas\\_libs\\src\n",
            "  copying pandas\\_libs\\src\\inline_helper.h -> build\\lib.win-amd64-3.10\\pandas\\_libs\\src\n",
            "  copying pandas\\_libs\\src\\parse_helper.h -> build\\lib.win-amd64-3.10\\pandas\\_libs\\src\n",
            "  copying pandas\\_libs\\src\\skiplist.h -> build\\lib.win-amd64-3.10\\pandas\\_libs\\src\n",
            "  creating build\\lib.win-amd64-3.10\\pandas\\_libs\\src\\headers\n",
            "  copying pandas\\_libs\\src\\headers\\cmath -> build\\lib.win-amd64-3.10\\pandas\\_libs\\src\\headers\n",
            "  copying pandas\\_libs\\src\\headers\\ms_inttypes.h -> build\\lib.win-amd64-3.10\\pandas\\_libs\\src\\headers\n",
            "  copying pandas\\_libs\\src\\headers\\ms_stdint.h -> build\\lib.win-amd64-3.10\\pandas\\_libs\\src\\headers\n",
            "  copying pandas\\_libs\\src\\headers\\portable.h -> build\\lib.win-amd64-3.10\\pandas\\_libs\\src\\headers\n",
            "  copying pandas\\_libs\\src\\headers\\stdint.h -> build\\lib.win-amd64-3.10\\pandas\\_libs\\src\\headers\n",
            "  creating build\\lib.win-amd64-3.10\\pandas\\_libs\\src\\klib\n",
            "  copying pandas\\_libs\\src\\klib\\khash.h -> build\\lib.win-amd64-3.10\\pandas\\_libs\\src\\klib\n",
            "  copying pandas\\_libs\\src\\klib\\khash_python.h -> build\\lib.win-amd64-3.10\\pandas\\_libs\\src\\klib\n",
            "  creating build\\lib.win-amd64-3.10\\pandas\\_libs\\src\\parser\n",
            "  copying pandas\\_libs\\src\\parser\\io.c -> build\\lib.win-amd64-3.10\\pandas\\_libs\\src\\parser\n",
            "  copying pandas\\_libs\\src\\parser\\io.h -> build\\lib.win-amd64-3.10\\pandas\\_libs\\src\\parser\n",
            "  copying pandas\\_libs\\src\\parser\\tokenizer.c -> build\\lib.win-amd64-3.10\\pandas\\_libs\\src\\parser\n",
            "  copying pandas\\_libs\\src\\parser\\tokenizer.h -> build\\lib.win-amd64-3.10\\pandas\\_libs\\src\\parser\n",
            "  creating build\\lib.win-amd64-3.10\\pandas\\_libs\\src\\ujson\n",
            "  creating build\\lib.win-amd64-3.10\\pandas\\_libs\\src\\ujson\\lib\n",
            "  copying pandas\\_libs\\src\\ujson\\lib\\ultrajson.h -> build\\lib.win-amd64-3.10\\pandas\\_libs\\src\\ujson\\lib\n",
            "  copying pandas\\_libs\\src\\ujson\\lib\\ultrajsondec.c -> build\\lib.win-amd64-3.10\\pandas\\_libs\\src\\ujson\\lib\n",
            "  copying pandas\\_libs\\src\\ujson\\lib\\ultrajsonenc.c -> build\\lib.win-amd64-3.10\\pandas\\_libs\\src\\ujson\\lib\n",
            "  creating build\\lib.win-amd64-3.10\\pandas\\_libs\\src\\ujson\\python\n",
            "  copying pandas\\_libs\\src\\ujson\\python\\JSONtoObj.c -> build\\lib.win-amd64-3.10\\pandas\\_libs\\src\\ujson\\python\n",
            "  copying pandas\\_libs\\src\\ujson\\python\\date_conversions.c -> build\\lib.win-amd64-3.10\\pandas\\_libs\\src\\ujson\\python\n",
            "  copying pandas\\_libs\\src\\ujson\\python\\date_conversions.h -> build\\lib.win-amd64-3.10\\pandas\\_libs\\src\\ujson\\python\n",
            "  copying pandas\\_libs\\src\\ujson\\python\\objToJSON.c -> build\\lib.win-amd64-3.10\\pandas\\_libs\\src\\ujson\\python\n",
            "  copying pandas\\_libs\\src\\ujson\\python\\ujson.c -> build\\lib.win-amd64-3.10\\pandas\\_libs\\src\\ujson\\python\n",
            "  copying pandas\\_libs\\src\\ujson\\python\\version.h -> build\\lib.win-amd64-3.10\\pandas\\_libs\\src\\ujson\\python\n",
            "  creating build\\lib.win-amd64-3.10\\pandas\\io\\formats\\templates\n",
            "  copying pandas\\io\\formats\\templates\\html.tpl -> build\\lib.win-amd64-3.10\\pandas\\io\\formats\\templates\n",
            "  copying pandas\\io\\formats\\templates\\html_style.tpl -> build\\lib.win-amd64-3.10\\pandas\\io\\formats\\templates\n",
            "  copying pandas\\io\\formats\\templates\\html_table.tpl -> build\\lib.win-amd64-3.10\\pandas\\io\\formats\\templates\n",
            "  copying pandas\\io\\formats\\templates\\latex.tpl -> build\\lib.win-amd64-3.10\\pandas\\io\\formats\\templates\n",
            "  copying pandas\\io\\sas\\sas.pyx -> build\\lib.win-amd64-3.10\\pandas\\io\\sas\n",
            "  creating build\\lib.win-amd64-3.10\\pandas\\tests\\io\\data\n",
            "  copying pandas\\tests\\io\\data\\gbq_fake_job.txt -> build\\lib.win-amd64-3.10\\pandas\\tests\\io\\data\n",
            "  creating build\\lib.win-amd64-3.10\\pandas\\tests\\io\\data\\fixed_width\n",
            "  copying pandas\\tests\\io\\data\\fixed_width\\fixed_width_format.txt -> build\\lib.win-amd64-3.10\\pandas\\tests\\io\\data\\fixed_width\n",
            "  creating build\\lib.win-amd64-3.10\\pandas\\tests\\io\\data\\legacy_pickle\n",
            "  creating build\\lib.win-amd64-3.10\\pandas\\tests\\io\\data\\legacy_pickle\\1.2.4\n",
            "  copying pandas\\tests\\io\\data\\legacy_pickle\\1.2.4\\empty_frame_v1_2_4-GH#42345.pkl -> build\\lib.win-amd64-3.10\\pandas\\tests\\io\\data\\legacy_pickle\\1.2.4\n",
            "  creating build\\lib.win-amd64-3.10\\pandas\\tests\\io\\data\\parquet\n",
            "  copying pandas\\tests\\io\\data\\parquet\\simple.parquet -> build\\lib.win-amd64-3.10\\pandas\\tests\\io\\data\\parquet\n",
            "  creating build\\lib.win-amd64-3.10\\pandas\\tests\\io\\data\\pickle\n",
            "  copying pandas\\tests\\io\\data\\pickle\\test_mi_py27.pkl -> build\\lib.win-amd64-3.10\\pandas\\tests\\io\\data\\pickle\n",
            "  copying pandas\\tests\\io\\data\\pickle\\test_py27.pkl -> build\\lib.win-amd64-3.10\\pandas\\tests\\io\\data\\pickle\n",
            "  creating build\\lib.win-amd64-3.10\\pandas\\tests\\io\\data\\xml\n",
            "  copying pandas\\tests\\io\\data\\xml\\baby_names.xml -> build\\lib.win-amd64-3.10\\pandas\\tests\\io\\data\\xml\n",
            "  copying pandas\\tests\\io\\data\\xml\\books.xml -> build\\lib.win-amd64-3.10\\pandas\\tests\\io\\data\\xml\n",
            "  copying pandas\\tests\\io\\data\\xml\\cta_rail_lines.kml -> build\\lib.win-amd64-3.10\\pandas\\tests\\io\\data\\xml\n",
            "  copying pandas\\tests\\io\\data\\xml\\flatten_doc.xsl -> build\\lib.win-amd64-3.10\\pandas\\tests\\io\\data\\xml\n",
            "  copying pandas\\tests\\io\\data\\xml\\row_field_output.xsl -> build\\lib.win-amd64-3.10\\pandas\\tests\\io\\data\\xml\n",
            "  creating build\\lib.win-amd64-3.10\\pandas\\tests\\io\\xml\n",
            "  copying pandas\\tests\\io\\xml\\test_to_xml.py -> build\\lib.win-amd64-3.10\\pandas\\tests\\io\\xml\n",
            "  copying pandas\\tests\\io\\xml\\test_xml.py -> build\\lib.win-amd64-3.10\\pandas\\tests\\io\\xml\n",
            "  copying pandas\\_libs\\tslibs\\base.pxd -> build\\lib.win-amd64-3.10\\pandas\\_libs\\tslibs\n",
            "  copying pandas\\_libs\\tslibs\\base.pyx -> build\\lib.win-amd64-3.10\\pandas\\_libs\\tslibs\n",
            "  copying pandas\\_libs\\tslibs\\ccalendar.pxd -> build\\lib.win-amd64-3.10\\pandas\\_libs\\tslibs\n",
            "  copying pandas\\_libs\\tslibs\\ccalendar.pyi -> build\\lib.win-amd64-3.10\\pandas\\_libs\\tslibs\n",
            "  copying pandas\\_libs\\tslibs\\ccalendar.pyx -> build\\lib.win-amd64-3.10\\pandas\\_libs\\tslibs\n",
            "  copying pandas\\_libs\\tslibs\\conversion.pxd -> build\\lib.win-amd64-3.10\\pandas\\_libs\\tslibs\n",
            "  copying pandas\\_libs\\tslibs\\conversion.pyi -> build\\lib.win-amd64-3.10\\pandas\\_libs\\tslibs\n",
            "  copying pandas\\_libs\\tslibs\\conversion.pyx -> build\\lib.win-amd64-3.10\\pandas\\_libs\\tslibs\n",
            "  copying pandas\\_libs\\tslibs\\dtypes.pxd -> build\\lib.win-amd64-3.10\\pandas\\_libs\\tslibs\n",
            "  copying pandas\\_libs\\tslibs\\dtypes.pyi -> build\\lib.win-amd64-3.10\\pandas\\_libs\\tslibs\n",
            "  copying pandas\\_libs\\tslibs\\dtypes.pyx -> build\\lib.win-amd64-3.10\\pandas\\_libs\\tslibs\n",
            "  copying pandas\\_libs\\tslibs\\fields.pyi -> build\\lib.win-amd64-3.10\\pandas\\_libs\\tslibs\n",
            "  copying pandas\\_libs\\tslibs\\fields.pyx -> build\\lib.win-amd64-3.10\\pandas\\_libs\\tslibs\n",
            "  copying pandas\\_libs\\tslibs\\nattype.pxd -> build\\lib.win-amd64-3.10\\pandas\\_libs\\tslibs\n",
            "  copying pandas\\_libs\\tslibs\\nattype.pyi -> build\\lib.win-amd64-3.10\\pandas\\_libs\\tslibs\n",
            "  copying pandas\\_libs\\tslibs\\nattype.pyx -> build\\lib.win-amd64-3.10\\pandas\\_libs\\tslibs\n",
            "  copying pandas\\_libs\\tslibs\\np_datetime.pxd -> build\\lib.win-amd64-3.10\\pandas\\_libs\\tslibs\n",
            "  copying pandas\\_libs\\tslibs\\np_datetime.pyx -> build\\lib.win-amd64-3.10\\pandas\\_libs\\tslibs\n",
            "  copying pandas\\_libs\\tslibs\\offsets.pxd -> build\\lib.win-amd64-3.10\\pandas\\_libs\\tslibs\n",
            "  copying pandas\\_libs\\tslibs\\offsets.pyx -> build\\lib.win-amd64-3.10\\pandas\\_libs\\tslibs\n",
            "  copying pandas\\_libs\\tslibs\\parsing.pxd -> build\\lib.win-amd64-3.10\\pandas\\_libs\\tslibs\n",
            "  copying pandas\\_libs\\tslibs\\parsing.pyi -> build\\lib.win-amd64-3.10\\pandas\\_libs\\tslibs\n",
            "  copying pandas\\_libs\\tslibs\\parsing.pyx -> build\\lib.win-amd64-3.10\\pandas\\_libs\\tslibs\n",
            "  copying pandas\\_libs\\tslibs\\period.pxd -> build\\lib.win-amd64-3.10\\pandas\\_libs\\tslibs\n",
            "  copying pandas\\_libs\\tslibs\\period.pyi -> build\\lib.win-amd64-3.10\\pandas\\_libs\\tslibs\n",
            "  copying pandas\\_libs\\tslibs\\period.pyx -> build\\lib.win-amd64-3.10\\pandas\\_libs\\tslibs\n",
            "  copying pandas\\_libs\\tslibs\\strptime.pyi -> build\\lib.win-amd64-3.10\\pandas\\_libs\\tslibs\n",
            "  copying pandas\\_libs\\tslibs\\strptime.pyx -> build\\lib.win-amd64-3.10\\pandas\\_libs\\tslibs\n",
            "  copying pandas\\_libs\\tslibs\\timedeltas.pxd -> build\\lib.win-amd64-3.10\\pandas\\_libs\\tslibs\n",
            "  copying pandas\\_libs\\tslibs\\timedeltas.pyi -> build\\lib.win-amd64-3.10\\pandas\\_libs\\tslibs\n",
            "  copying pandas\\_libs\\tslibs\\timedeltas.pyx -> build\\lib.win-amd64-3.10\\pandas\\_libs\\tslibs\n",
            "  copying pandas\\_libs\\tslibs\\timestamps.pxd -> build\\lib.win-amd64-3.10\\pandas\\_libs\\tslibs\n",
            "  copying pandas\\_libs\\tslibs\\timestamps.pyi -> build\\lib.win-amd64-3.10\\pandas\\_libs\\tslibs\n",
            "  copying pandas\\_libs\\tslibs\\timestamps.pyx -> build\\lib.win-amd64-3.10\\pandas\\_libs\\tslibs\n",
            "  copying pandas\\_libs\\tslibs\\timezones.pxd -> build\\lib.win-amd64-3.10\\pandas\\_libs\\tslibs\n",
            "  copying pandas\\_libs\\tslibs\\timezones.pyi -> build\\lib.win-amd64-3.10\\pandas\\_libs\\tslibs\n",
            "  copying pandas\\_libs\\tslibs\\timezones.pyx -> build\\lib.win-amd64-3.10\\pandas\\_libs\\tslibs\n",
            "  copying pandas\\_libs\\tslibs\\tzconversion.pxd -> build\\lib.win-amd64-3.10\\pandas\\_libs\\tslibs\n",
            "  copying pandas\\_libs\\tslibs\\tzconversion.pyi -> build\\lib.win-amd64-3.10\\pandas\\_libs\\tslibs\n",
            "  copying pandas\\_libs\\tslibs\\tzconversion.pyx -> build\\lib.win-amd64-3.10\\pandas\\_libs\\tslibs\n",
            "  copying pandas\\_libs\\tslibs\\util.pxd -> build\\lib.win-amd64-3.10\\pandas\\_libs\\tslibs\n",
            "  copying pandas\\_libs\\tslibs\\vectorized.pyi -> build\\lib.win-amd64-3.10\\pandas\\_libs\\tslibs\n",
            "  copying pandas\\_libs\\tslibs\\vectorized.pyx -> build\\lib.win-amd64-3.10\\pandas\\_libs\\tslibs\n",
            "  creating build\\lib.win-amd64-3.10\\pandas\\_libs\\tslibs\\src\n",
            "  creating build\\lib.win-amd64-3.10\\pandas\\_libs\\tslibs\\src\\datetime\n",
            "  copying pandas\\_libs\\tslibs\\src\\datetime\\np_datetime.c -> build\\lib.win-amd64-3.10\\pandas\\_libs\\tslibs\\src\\datetime\n",
            "  copying pandas\\_libs\\tslibs\\src\\datetime\\np_datetime.h -> build\\lib.win-amd64-3.10\\pandas\\_libs\\tslibs\\src\\datetime\n",
            "  copying pandas\\_libs\\tslibs\\src\\datetime\\np_datetime_strings.c -> build\\lib.win-amd64-3.10\\pandas\\_libs\\tslibs\\src\\datetime\n",
            "  copying pandas\\_libs\\tslibs\\src\\datetime\\np_datetime_strings.h -> build\\lib.win-amd64-3.10\\pandas\\_libs\\tslibs\\src\\datetime\n",
            "  copying pandas\\_libs\\window\\aggregations.pyi -> build\\lib.win-amd64-3.10\\pandas\\_libs\\window\n",
            "  copying pandas\\_libs\\window\\aggregations.pyx -> build\\lib.win-amd64-3.10\\pandas\\_libs\\window\n",
            "  copying pandas\\_libs\\window\\indexers.pyi -> build\\lib.win-amd64-3.10\\pandas\\_libs\\window\n",
            "  copying pandas\\_libs\\window\\indexers.pyx -> build\\lib.win-amd64-3.10\\pandas\\_libs\\window\n",
            "  UPDATING build\\lib.win-amd64-3.10\\pandas/_version.py\n",
            "  set build\\lib.win-amd64-3.10\\pandas/_version.py to '1.3.4'\n",
            "  running build_ext\n",
            "  building 'pandas._libs.algos' extension\n",
            "  error: Microsoft Visual C++ 14.0 or greater is required. Get it with \"Microsoft C++ Build Tools\": https://visualstudio.microsoft.com/visual-cpp-build-tools/\n",
            "  ----------------------------------------\n",
            "  ERROR: Failed building wheel for pandas\n",
            "ERROR: Could not build wheels for pandas which use PEP 517 and cannot be installed directly\n",
            "WARNING: You are using pip version 21.2.3; however, version 21.3.1 is available.\n",
            "You should consider upgrading via the 'C:\\Users\\VilanaD1.SARAL\\AppData\\Local\\Programs\\Python\\Python310\\python.exe -m pip install --upgrade pip' command.\n"
          ]
        }
      ],
      "source": [
        "\n",
        "pip install pandas\n"
      ]
    },
    {
      "cell_type": "code",
      "execution_count": 1,
      "metadata": {},
      "outputs": [
        {
          "name": "stdout",
          "output_type": "stream",
          "text": [
            "Collecting nltk\n",
            "  Downloading nltk-3.6.5-py3-none-any.whl (1.5 MB)\n",
            "Collecting joblib\n",
            "  Downloading joblib-1.1.0-py2.py3-none-any.whl (306 kB)\n",
            "Collecting tqdm\n",
            "  Downloading tqdm-4.62.3-py2.py3-none-any.whl (76 kB)\n",
            "Collecting regex>=2021.8.3\n",
            "  Downloading regex-2021.10.23-cp310-cp310-win_amd64.whl (273 kB)\n",
            "Collecting click\n",
            "  Downloading click-8.0.3-py3-none-any.whl (97 kB)\n",
            "Requirement already satisfied: colorama in c:\\users\\vilanad1.saral\\appdata\\local\\programs\\python\\python310\\lib\\site-packages (from click->nltk) (0.4.4)\n",
            "Installing collected packages: tqdm, regex, joblib, click, nltk\n",
            "Successfully installed click-8.0.3 joblib-1.1.0 nltk-3.6.5 regex-2021.10.23 tqdm-4.62.3\n",
            "Note: you may need to restart the kernel to use updated packages.\n"
          ]
        },
        {
          "name": "stderr",
          "output_type": "stream",
          "text": [
            "  WARNING: The script tqdm.exe is installed in 'C:\\Users\\VilanaD1.SARAL\\AppData\\Local\\Programs\\Python\\Python310\\Scripts' which is not on PATH.\n",
            "  Consider adding this directory to PATH or, if you prefer to suppress this warning, use --no-warn-script-location.\n",
            "  WARNING: The script nltk.exe is installed in 'C:\\Users\\VilanaD1.SARAL\\AppData\\Local\\Programs\\Python\\Python310\\Scripts' which is not on PATH.\n",
            "  Consider adding this directory to PATH or, if you prefer to suppress this warning, use --no-warn-script-location.\n",
            "WARNING: You are using pip version 21.2.3; however, version 21.3.1 is available.\n",
            "You should consider upgrading via the 'C:\\Users\\VilanaD1.SARAL\\AppData\\Local\\Programs\\Python\\Python310\\python.exe -m pip install --upgrade pip' command.\n"
          ]
        }
      ],
      "source": [
        "pip install nltk"
      ]
    },
    {
      "cell_type": "code",
      "execution_count": 12,
      "metadata": {
        "id": "ZSx3piMEFn-4"
      },
      "outputs": [
        {
          "name": "stderr",
          "output_type": "stream",
          "text": [
            "[nltk_data] Downloading package stopwords to\n",
            "[nltk_data]     C:\\Users\\VilanaD1.SARAL\\AppData\\Roaming\\nltk_data...\n",
            "[nltk_data]   Unzipping corpora\\stopwords.zip.\n",
            "[nltk_data] Downloading package punkt to\n",
            "[nltk_data]     C:\\Users\\VilanaD1.SARAL\\AppData\\Roaming\\nltk_data...\n",
            "[nltk_data]   Unzipping tokenizers\\punkt.zip.\n"
          ]
        },
        {
          "data": {
            "text/plain": [
              "True"
            ]
          },
          "execution_count": 12,
          "metadata": {},
          "output_type": "execute_result"
        }
      ],
      "source": [
        "import numpy as np\n",
        "# import pandas as pd\n",
        "# import matplotlib.pyplot as plt\n",
        "# %matplotlib inline\n",
        "\n",
        "import nltk\n",
        "nltk.download('stopwords')\n",
        "nltk.download('punkt')\n"
      ]
    },
    {
      "cell_type": "markdown",
      "metadata": {
        "id": "_jFbru22JeCt"
      },
      "source": [
        "## 1.1 Separando las palabras (Tokenization)\n",
        "\n",
        "El significado de cada sentencia se obtiene de las palabra que contiene. Así que analizando las palabras presentes en un texto se puede interpretar el significado. Así que lo primero que hay que hacer para poder tratar el texto es separar las palabras que lo componen, es decir, hacer una lista  de palabras. El modelo que vamos a utilizar aquí se denomina [**bolsa-de-palabras**](https://es.wikipedia.org/wiki/Modelo_bolsa_de_palabras) (bag-of-words) ya que nos interesan las palabras sin importar su posición o importancia en el documento.\n",
        "\n",
        "\n",
        "La separación de las palabres o tokenization consiste en separar el texto en palabras, también denominados tokens. Generalmente el `espacio`se utiliza para separar palabras y elementos como los puntos, comas, dos puntos, etc. se utilizan para separar sentencias.\n",
        "\n",
        "\n"
      ]
    },
    {
      "cell_type": "markdown",
      "metadata": {
        "id": "CK4PwSVyKU3D"
      },
      "source": [
        "Hay multiples formas de realizar la separación de palabras para un texto dado. \n",
        "\n",
        "### 1.1.1 Funciones de Python\n",
        "\n",
        "Se puede usar la función `split()` para separar una cadena de texto en una lista de palabras. Por defecto `split()` utiliza el espacio en blanco, aunque se puede usar cualquier caracter.\n"
      ]
    },
    {
      "cell_type": "code",
      "execution_count": null,
      "metadata": {
        "id": "KuK5q-MOKf0q"
      },
      "outputs": [
        {
          "data": {
            "text/plain": [
              "['Children', \"shouldn't\", 'drink', 'a', 'sugary', 'drink', 'before', 'bed.']"
            ]
          },
          "execution_count": 19,
          "metadata": {},
          "output_type": "execute_result"
        }
      ],
      "source": [
        "text01 = \"Children shouldn't drink a sugary drink before bed.\"\n",
        "text01.split(' ')"
      ]
    },
    {
      "cell_type": "markdown",
      "metadata": {
        "id": "xuZQafeDKiTj"
      },
      "source": [
        "El método `split()` de Python no considera los signos de puntuación como elementos separados.\n",
        "\n"
      ]
    },
    {
      "cell_type": "markdown",
      "metadata": {
        "id": "IsTbr0lQvBtQ"
      },
      "source": [
        "### 1.1.2 Expresiones regulares\n",
        "\n",
        "El módulo `re` ofrece un conjunto de funciones para buscar coincidencias en una cadena de texto. Una *expresión regular* es una secuencia de caracteres que definen un patrón de búsqueda."
      ]
    },
    {
      "cell_type": "code",
      "execution_count": 15,
      "metadata": {
        "id": "b-D5UYVfxW9X"
      },
      "outputs": [
        {
          "name": "stdout",
          "output_type": "stream",
          "text": [
            "['There', 'are', 'multiple', 'ways', 'we', 'can', 'perform', 'tokenization', 'on', 'given', 'text', 'data.', 'We', 'can', 'choose', 'any', 'method', 'based', 'on', 'language,', 'library', 'and', 'purpose', 'of', 'modeling.']\n"
          ]
        }
      ],
      "source": [
        "import re\n",
        "\n",
        "text02 = \"\"\"There are multiple ways we can perform tokenization on given text data. We can choose any method based on language, library and purpose of modeling.\"\"\"\n",
        "tokens = re.split(r\"\\s\", text02)  # TODO: usar una expresión regular para separar las palabras\n",
        "print(tokens)\n"
      ]
    },
    {
      "cell_type": "markdown",
      "metadata": {
        "id": "I9s_37f8xtCT"
      },
      "source": [
        "### 1.1.3 Con NLTK\n",
        "\n",
        "Natural Language Toolkit (NLTK) tiene la función `word_tokenize()` para separación de palabras y `sent_tokenize()` para separación de sentencias.\n",
        "\n"
      ]
    },
    {
      "cell_type": "code",
      "execution_count": 13,
      "metadata": {
        "id": "x8t62gvCKrkD"
      },
      "outputs": [
        {
          "name": "stdout",
          "output_type": "stream",
          "text": [
            "['<', 'p', '>', 'This', 'is', 'the', 'first', 'sentence', '.']\n",
            "['A', 'gallon-of-milk', 'in', 'the', 'U.S.', 'costs', '$', '2.99', '.']\n",
            "['Is', 'this', 'the', 'third', 'sentence', '?']\n",
            "['Yes', ',', 'it', 'is', '!', '<', '/p', '>']\n"
          ]
        }
      ],
      "source": [
        "from nltk.tokenize import sent_tokenize, word_tokenize\n",
        "\n",
        "text03 = \"<p>This is the first sentence. A gallon-of-milk in the U.S. costs $2.99. Is this the third sentence? Yes, it is!</p>\"\n",
        "\n",
        "for sent in sent_tokenize(text03): # TODO: separar las sentencias \n",
        "  print (word_tokenize(sent)) # TODO: separar las palabras  "
      ]
    },
    {
      "cell_type": "markdown",
      "metadata": {
        "id": "oIJt7ZFTDQSY"
      },
      "source": [
        "## 1.2. Eliminación de números y símbolos. Conversión a minúsculas.\n",
        "\n",
        "Como se puede comprobar, `word_tokenizer()` mantiene los signos de puntuación así como los los números y otros símbolos.\n",
        "\n",
        "Una estrategia para reducir el número de palabras/tokens es convertirlas a minúsculas, pues algunos signos de puntuación modifican la letra inicial de las palabras. Así se consigue reducir el número de variantes de una misma palabra.\n",
        "\n",
        "\n"
      ]
    },
    {
      "cell_type": "code",
      "execution_count": 16,
      "metadata": {
        "id": "42rTEi1l-3SR"
      },
      "outputs": [
        {
          "name": "stdout",
          "output_type": "stream",
          "text": [
            "['this', 'is', 'the', 'first', 'sentence', 'a', 'gallon', 'of', 'milk', 'in', 'the', 'us', 'costs', 'is', 'this', 'the', 'third', 'sentence', 'yes', 'it', 'is']\n"
          ]
        }
      ],
      "source": [
        "import string\n",
        "\n",
        "def remove_tags (s):\n",
        " \n",
        "  p = re.compile('<.*?>')  # TODO: eliminar tags html\n",
        "  return re.sub(p,'', s)  # TODO\n",
        "\n",
        "# TODO : eliminar tags, tokenizar, convertir a minúsculas y eliminar símbolos no alfabéticos y números \n",
        "def tokenize_and_remove_punctuations(s):\n",
        "    remove_tag = remove_tags(s)\n",
        "    simbol_to_remove = re.compile('[,.!?$0-9]')\n",
        "    \n",
        "    removed_text = re.sub(simbol_to_remove, '', remove_tag)\n",
        "    \n",
        "    return word_tokenize((removed_text.lower()).replace(\"-\", \" \"))\n",
        "\n",
        "\n",
        "print (tokenize_and_remove_punctuations (text03))\n",
        "\n"
      ]
    },
    {
      "cell_type": "markdown",
      "metadata": {
        "id": "_9I2sR40MnSQ"
      },
      "source": [
        "## 1.3. Palabras vacías\n",
        "\n",
        "Las *palabras vacías* (stopwords) son palabras más comunes en cualquier lenguaje, tienen sentido gramatical pero con poco significado para el análisis de un texto. Estas palabras vacías se incluyen artículos, preposiciones, conjunciones, pronombres, etc. así que su eliminación reduce considerablemente el número de palabras.\n",
        "\n",
        "NLTK tiene listas de palabras vacías en 16 idiomas. En este caso, se ha cargado la lista en inglés.\n",
        "\n"
      ]
    },
    {
      "cell_type": "code",
      "execution_count": 17,
      "metadata": {
        "id": "jcrShuseB4ip"
      },
      "outputs": [
        {
          "data": {
            "text/plain": [
              "True"
            ]
          },
          "execution_count": 17,
          "metadata": {},
          "output_type": "execute_result"
        }
      ],
      "source": [
        "# TODO : dada una lista de tokens, suprimir aquellos que sean palabras vacías o que su longitud es menor o igual 2\n",
        "\n",
        "\n",
        "def remove_stop_words(tokens):\n",
        "    stopwords = nltk.corpus.stopwords.words('english')\n",
        "    filtered_words = [x for x in tokens if x.lower() not in stopwords and len(x) > 2]  # TODO\n",
        "    return filtered_words\n",
        "\n",
        "\n",
        "len (remove_stop_words ( tokenize_and_remove_punctuations (text03)  ) ) == 8\n"
      ]
    },
    {
      "cell_type": "markdown",
      "metadata": {
        "id": "W2VeHy1uJqiV"
      },
      "source": [
        "## 1.4. Normalización\n",
        "\n",
        "Muchos idiomas contienen palabras derivadas de otras y esto se denomina [flexión](https://es.wikipedia.org/wiki/Flexi%C3%B3n_(ling%C3%BC%C3%ADstica)). La flexión es la modificación de una para expresar diferentes categorías gramaticales como persona, número, género, etc.\n",
        "\n",
        "Tratar esta flexión para llevar las palabras a una forma base se denomina **normalización de palabras**. La normalización permite que si se busca por una palabra se haga al mismo tiempo por todas sus flexiones.\n",
        "\n",
        "La **lematización** es el proceso de reducir la inflexión de las palabras para llevarla a su forma origen o raíz. El lema es la parte de la palabra a la que se añade la flexión.\n",
        "\n",
        "En NLTK hay disponibles diferentes lematizadores aunque aquí vamos a utilizar el más conocido: [algoritmo de Porter](https://es.wikipedia.org/wiki/Algoritmo_de_Porter). \n",
        "\n",
        "\n",
        "Podéis ver algo más de estos procesos en \n",
        "https://www.datacamp.com/community/tutorials/stemming-lemmatization-python"
      ]
    },
    {
      "cell_type": "code",
      "execution_count": 18,
      "metadata": {
        "id": "qI7x5BOHJqG_"
      },
      "outputs": [
        {
          "data": {
            "text/plain": [
              "['first', 'sentence', 'gallon', 'milk', 'costs', 'third', 'sentence', 'yes']"
            ]
          },
          "execution_count": 18,
          "metadata": {},
          "output_type": "execute_result"
        }
      ],
      "source": [
        "\n",
        "from nltk.stem import PorterStemmer\n",
        "\n",
        "def stem_words(tokens):\n",
        "    stemmer = PorterStemmer()\n",
        "    # TODO : obtener la versión básica de todos los tokens\n",
        "    stemmed_words = [x for x in tokens if stemmer.stem(x)]\n",
        "    return stemmed_words\n",
        "\n",
        "\n",
        "stem_words ( remove_stop_words(tokenize_and_remove_punctuations (text03)) )\n"
      ]
    },
    {
      "cell_type": "markdown",
      "metadata": {
        "id": "b88Wpw_m2afn"
      },
      "source": [
        "Una vez que ya están realizadas las operaciones básicas sobre el texto, es momento de ponerlo todo junto en la función `preprocess_data ()` que recibe un array de pares `(documentId, text)` y aplica las transformaciones anteriormente descritas."
      ]
    },
    {
      "cell_type": "code",
      "execution_count": 20,
      "metadata": {
        "id": "CV3V7b68FTa6"
      },
      "outputs": [],
      "source": [
        "def preprocess_text ( text , stem=True):\n",
        "    tokens = tokenize_and_remove_punctuations (text)        # TODO : tokenizar y eliminar puntuación\n",
        "    filtered_tokens = remove_stop_words(tokens)     # TODO : eliminar palabras vacías\n",
        "    if stem :\n",
        "      stemmed_tokens = stem_words(filtered_tokens)    # TODO : normalizar\n",
        "    else:\n",
        "       filtered_tokens # TODO\n",
        "    return stemmed_tokens\n",
        "\n",
        "def preprocess_data(contents, stem=True):\n",
        "    dataDict = {}\n",
        "    for content in contents:\n",
        "        dataDict[content[0]] = preprocess_text(content[1], stem)\n",
        "    return dataDict\n"
      ]
    },
    {
      "cell_type": "code",
      "execution_count": 33,
      "metadata": {
        "id": "8SLxkerz5FwZ"
      },
      "outputs": [
        {
          "data": {
            "text/plain": [
              "{'doc01': ['love', 'watching', 'movies', 'cold', 'outside'],\n",
              " 'doc02': ['toy', 'story', 'best', 'animation', 'movie', 'ever', 'love'],\n",
              " 'doc03': ['watching',\n",
              "  'horror',\n",
              "  'movies',\n",
              "  'alone',\n",
              "  'night',\n",
              "  'really',\n",
              "  'scary'],\n",
              " 'doc04': ['loves',\n",
              "  'watch',\n",
              "  'films',\n",
              "  'filled',\n",
              "  'suspense',\n",
              "  'unexpected',\n",
              "  'plot',\n",
              "  'twists'],\n",
              " 'doc05': ['mom',\n",
              "  'loves',\n",
              "  'watch',\n",
              "  'movies',\n",
              "  'dad',\n",
              "  'hates',\n",
              "  'movie',\n",
              "  'theaters',\n",
              "  'brothers',\n",
              "  'like',\n",
              "  'kind',\n",
              "  'movie',\n",
              "  \"n't\",\n",
              "  'watched',\n",
              "  'single',\n",
              "  'movie',\n",
              "  'since',\n",
              "  'got',\n",
              "  'college']}"
            ]
          },
          "execution_count": 33,
          "metadata": {},
          "output_type": "execute_result"
        }
      ],
      "source": [
        "document_1 = \"I love watching movies when it's cold outside ;-)\"\n",
        "document_2 = \"Toy Story is the best animation movie ever, I love it!\"\n",
        "document_3 = \"Watching horror movies alone at night is really scary\"\n",
        "document_4 = \"He loves to watch films filled with suspense and unexpected plot twists\"\n",
        "document_5 = \"My mom loves to watch movies. My dad hates movie theaters. My brothers like any kind of movie. And I haven't watched a single movie since I got into college\"\n",
        "documents = [document_1, document_2, document_3, document_4, document_5]\n",
        "\n",
        "docIds = ['doc01','doc02','doc03','doc04','doc05']\n",
        "\n",
        "documents_list = list(zip(docIds,documents))# TODO : generar una lista de la forma  [('doc01': 'I love..'), ... ]\n",
        "\n",
        "\n",
        "data_docs = preprocess_data(documents_list)  # TODO : preprocesar la lista de documentos de ejemplo\n",
        "data_docs"
      ]
    },
    {
      "cell_type": "markdown",
      "metadata": {
        "id": "WpDoPJNOJmwE"
      },
      "source": [
        "## 1.5. Frecuencia de las palabras\n"
      ]
    },
    {
      "cell_type": "markdown",
      "metadata": {
        "id": "tdgkCF-rRn88"
      },
      "source": [
        "Ahora vamos a ver cómo de importante es una palabra/token en los documentos. \n",
        "\n",
        "Lo primero que hay que hacer es obtener un vocabulario que no es más que la lista de todos los tokens únicos que aparecen en todos los documentos.\n",
        "\n"
      ]
    },
    {
      "cell_type": "code",
      "execution_count": null,
      "metadata": {
        "id": "ap24675u5Tmw"
      },
      "outputs": [],
      "source": [
        "def get_vocabulary(data):\n",
        "    tokens = []\n",
        "    for token_list in data.values():\n",
        "        tokens =  # TODO\n",
        "    fdist =       # TODO\n",
        "    return list(fdist.keys())\n",
        "\n",
        "get_vocabulary ( data_docs)"
      ]
    },
    {
      "cell_type": "markdown",
      "metadata": {
        "id": "cS802HVsRsQp"
      },
      "source": [
        "Para ello podemos calcular la frecuencia de cada término contando el número de veces que aparece en cada documento, que será una medida de su peso o importancia.\n",
        "\n",
        "$TF (t,d) = f_{t,d}$  (#número de repeticiones del término $t$ en el documento $d$)"
      ]
    },
    {
      "cell_type": "code",
      "execution_count": null,
      "metadata": {
        "id": "mvPko3Wm7Y8o"
      },
      "outputs": [],
      "source": [
        "from nltk.probability import FreqDist\n",
        "\n",
        "def calculate_tf(tokens):\n",
        "    tf_score = {}\n",
        "    for token in tokens:\n",
        "        tf_score[token] =  # TODO: calcular tf\n",
        "    \n",
        "    return tf_score\n",
        "\n",
        "fdist = calculate_tf ( data_docs['doc05'])\n",
        "\n",
        "fdist"
      ]
    },
    {
      "cell_type": "markdown",
      "metadata": {
        "id": "vY4X4luHToWR"
      },
      "source": [
        "La **frecuencia inversa de documentos** para un término $t$ es el logaritmo (en este caso en base 2) del cociente entre el número de documentos y el número de documentos en los que aparece el término $t$.\n",
        "\n",
        "\n",
        "$ IDF (t) = log_{2} \\frac{N}{\\{d \\in D : t \\in d \\}} $\n",
        "\n",
        "A mayor puntuación de TF*IDF el término es más específico y a menor puntuación, más genérico."
      ]
    },
    {
      "cell_type": "code",
      "execution_count": null,
      "metadata": {
        "id": "ebOdwtTY6T6h"
      },
      "outputs": [],
      "source": [
        "import math \n",
        "\n",
        "def calculate_idf(data):\n",
        "    idf_score = {}\n",
        "    N =         # TODO: número de documentos\n",
        "    all_words = # TODO: obtener el vocabulario\n",
        "    for word in all_words:\n",
        "        word_count = 0\n",
        "        for token_list in data.values():\n",
        "             # TODO\n",
        "             # TODO\n",
        "        idf_score[word] # TODO: calcular idf\n",
        "    return idf_score\n",
        "\n",
        "idf_score = calculate_idf ( data_docs )"
      ]
    },
    {
      "cell_type": "code",
      "execution_count": null,
      "metadata": {
        "id": "PnSwuFHxDwkt"
      },
      "outputs": [],
      "source": [
        "def calculate_tfidf(data, idf_score):\n",
        "    scores = {}\n",
        "    for key,value in data.items():\n",
        "        scores[key] =         # TODO: calcular tf\n",
        "    for doc,tf_scores :       # TODO\n",
        "        for token, score   :  # TODO\n",
        "            # TODO\n",
        "            # TODO\n",
        "            # TODO: calcular tf*idf\n",
        "    return scores\n",
        "\n",
        "tfidf_score = calculate_tfidf ( data_docs, idf_score)"
      ]
    },
    {
      "cell_type": "markdown",
      "metadata": {
        "id": "keFHyYR8Ueww"
      },
      "source": [
        "## 1.6. Generar el espacio vectorial\n",
        "\n",
        "Usando las funciones anteriores vamos a construir la matriz de documentos (en filas) y términos (en columnas). Para facilitar la tarea usaremos una estructura de datos ya conocida, el **dataframe**.\n"
      ]
    },
    {
      "cell_type": "code",
      "execution_count": null,
      "metadata": {
        "id": "JRFap5kzUls0"
      },
      "outputs": [],
      "source": [
        "import pandas as pd\n",
        "\n",
        "def generate_dataframe ( data ):\n",
        "  all_words =  # TODO : obtener el vocabulario\n",
        "  idf_score =  # TODO : calcular idf\n",
        "  tf_idf_score =  # TODO : calcular if*idf\n",
        "\n",
        "  table = []\n",
        "  for doc in :  # TODO : recorrer todas las frecuecias de los documentos\n",
        "      d = {} # TODO\n",
        "             # TODO \n",
        "             # TODO\n",
        "      table  # TODO\n",
        "\n",
        "  df = pd.DataFrame ( table , index = tf_idf_score.keys())\n",
        "  return df\n",
        "\n",
        "df_data = generate_dataframe (data_docs)\n",
        "df_data.head(5)"
      ]
    },
    {
      "cell_type": "markdown",
      "metadata": {
        "id": "oNlyfOCNFYtZ"
      },
      "source": [
        "## 1.7. Generar el índice invertido\n",
        "\n",
        "De manera similar, vamos a generar un índice invertido que almacenaremos en una estructura de datos Python: el **diccionario**.\n",
        "\n",
        "\n"
      ]
    },
    {
      "cell_type": "code",
      "execution_count": null,
      "metadata": {
        "id": "r8_AJecsFn6T"
      },
      "outputs": [],
      "source": [
        "def generate_inverted_index(data):\n",
        "\n",
        "    all_words =    # TODO : obtener el vocabulario\n",
        "    idf_score =    # TODO : calcular idf\n",
        "    tf_idf_score = # TODO : calcular if*idf\n",
        "\n",
        "    index = {}\n",
        "    for word in all_words:\n",
        "        for doc, tokens # TODO \n",
        "            # TODO\n",
        "            # TODO \n",
        "            # TODO\n",
        "            # TODO\n",
        "            # TODO \n",
        "    return index\n",
        "\n",
        "inverted_index = generate_inverted_index (data_docs)\n",
        "\n",
        "inverted_index"
      ]
    },
    {
      "cell_type": "markdown",
      "metadata": {
        "id": "8MvXZOcrFnRh"
      },
      "source": [
        "## 1.8. Resolución de consultas\n",
        "\n"
      ]
    },
    {
      "cell_type": "markdown",
      "metadata": {
        "id": "CiVHjcHnkY8h"
      },
      "source": [
        "Vamos a resolver consultas (obtener los documentos más relevantes) considerando la consulta como un vector y comparándolo con el conjunto de documentos mediante la **similitud del coseno**. \n",
        "\n",
        "Para ello vamos a utilizar la librería [sklearn](https://scikit-learn.org/stable/), aunque sólo la funcionalidad para calcular la similitud del coseno. "
      ]
    },
    {
      "cell_type": "code",
      "execution_count": null,
      "metadata": {
        "id": "THFDY8QImpsA"
      },
      "outputs": [],
      "source": [
        "# generar un dataframe para la consulta\n",
        "\n",
        "q = \"I watched alone a horror movie\"\n",
        "\n",
        "def generate_query_dataframe ( vocabulary , q ):\n",
        "\n",
        "  q_dict =  # TODO : preprocesar las palabras de la consulta\n",
        "\n",
        "  d =  {}   # TODO : generar un dataframe con la misma estructura \n",
        "  table = []  \n",
        "            # TODO : si el token está en la consulta se pone 1 en otro caso 0\n",
        "  table.append (d)\n",
        "\n",
        "  df = pd.DataFrame ( table  , index ={'q1'} )\n",
        "  return df \n",
        "\n",
        "df_query =  generate_query_dataframe ( get_vocabulary(data_docs)  , q )\n",
        "df_query.head()"
      ]
    },
    {
      "cell_type": "code",
      "execution_count": null,
      "metadata": {
        "id": "CoKt3SbDk4v-"
      },
      "outputs": [],
      "source": [
        "from sklearn.metrics.pairwise import cosine_similarity\n",
        "import numpy as np\n",
        "\n",
        "%time q_cossim =  #TODO : calcular la similitud del coseno e indicar qué documento es el más próximo a la consulta\n",
        "\n",
        "print (q_cossim.flatten())\n",
        "ind = np.unravel_index ( np.argmax(q_cossim, axis=None), q_cossim.shape)\n",
        "print ('Documento más similar : %s (%s) ' %  (documents[ind[0]],docIds[ind[0]]) )"
      ]
    },
    {
      "cell_type": "markdown",
      "metadata": {
        "id": "pjknLHHHc7KM"
      },
      "source": [
        "# Parte 2. Stack Overflow"
      ]
    },
    {
      "cell_type": "markdown",
      "metadata": {
        "id": "3pe8PIGqfwZq"
      },
      "source": [
        "Stack Overflow es un sitio de preguntas y respuestas para programadores profesionales y aficionados. Contiene preguntas y respuestas sobre una amplia gama de temas de programación.\n",
        "\n",
        "En este ejercicio vamos a usar en subconjunto del dataset original que contiene 500 posts. El dataset se obtiene del volcado de Stack Overflow en Big Query de Google.\n",
        "\n",
        "Lo primero que hay que hacer es leer línea por línea el archivo JSON `stackoverflow-test.json` y meterlo en lun DataFrame de pandas. (Nota: `lines=True` indica que se trate cada línea como una cadena json) "
      ]
    },
    {
      "cell_type": "code",
      "execution_count": null,
      "metadata": {
        "id": "6Ppk2NnPllay"
      },
      "outputs": [],
      "source": [
        "from google.colab import files # subir archivo\n",
        "uploaded = files.upload()"
      ]
    },
    {
      "cell_type": "code",
      "execution_count": null,
      "metadata": {
        "id": "XZvVtEITgTgj"
      },
      "outputs": [],
      "source": [
        "stackoverflow_df =  # TODO"
      ]
    },
    {
      "cell_type": "code",
      "execution_count": null,
      "metadata": {
        "id": "WsjBy4XshErJ"
      },
      "outputs": [],
      "source": [
        "stackoverflow_df.head(5)"
      ]
    },
    {
      "cell_type": "markdown",
      "metadata": {
        "id": "1WOnJi3lmMD7"
      },
      "source": [
        "Examinar el dataset para ver qué dimensiones y qué tipos de datos contiene."
      ]
    },
    {
      "cell_type": "code",
      "execution_count": null,
      "metadata": {
        "id": "thpXzyqZh3eM"
      },
      "outputs": [],
      "source": [
        " # TODO"
      ]
    },
    {
      "cell_type": "code",
      "execution_count": null,
      "metadata": {
        "id": "6nZ8Vuggh7l-"
      },
      "outputs": [],
      "source": [
        " # TODO"
      ]
    },
    {
      "cell_type": "markdown",
      "metadata": {
        "id": "aeqQnrOdrJ5x"
      },
      "source": [
        "Observad que el dataset tiene 19 campos que incluyen título `title`, cuerpo `body`, `tags`, fechas y otros metadatos que no necesitaremos en esta ocasión. \n",
        "\n",
        "\n",
        "El interés se centra en el cuerpo y en el título que forman la fuente de texto.Para ello vamos a crear un campo `text` que combina `title` y `body` en uno solo."
      ]
    },
    {
      "cell_type": "code",
      "execution_count": null,
      "metadata": {
        "id": "DQPzgn7hiQSC"
      },
      "outputs": [],
      "source": [
        "stackoverflow_df['text'] =  # TODO\n",
        "stackoverflow_df['text'][3] "
      ]
    },
    {
      "cell_type": "markdown",
      "metadata": {
        "id": "aZuayg_UhYia"
      },
      "source": [
        "Como se puede observar el texto contiene bastante \"ruido\" y es necesario procesarlo para que pueda ser útil. Hay que conseguir una cadena de texto en el que se eliminen palabras vacías, tags de html, carácteres extraños, etc. No resulta recomendable lematizar las palabras en esta ocasión."
      ]
    },
    {
      "cell_type": "code",
      "execution_count": null,
      "metadata": {
        "id": "Qrq-cUuA02GD"
      },
      "outputs": [],
      "source": [
        "stackoverflow_df['mtext'] = # TODO"
      ]
    },
    {
      "cell_type": "code",
      "execution_count": null,
      "metadata": {
        "id": "eISZT4RMBnXm"
      },
      "outputs": [],
      "source": [
        "stackoverflow_df.head(5)\n",
        "  "
      ]
    },
    {
      "cell_type": "markdown",
      "metadata": {
        "id": "n8MHVA4fTXvv"
      },
      "source": [
        "## 2.1 Count Vectorizer\n",
        "\n",
        "A continuación se necesita obtener un vocabulario de palabras usadas y comenzar el proceso de contabilización.\n",
        "\n",
        "La **vectorización** es el proceso por el que se convierte una colección de textos en un vector de características numérico. El modelo que seguimos es el de bolsa de palabras o Bag-of-Words, donde los documentos se describen por las palabras que aparecen en el texto, ignorando su posición relativa o su importancia en el texto.\n",
        "\n",
        "**CountVectorizer** convierte una colección de documentos en una matriz de contadores que son las apariciones de cada token en cada documento."
      ]
    },
    {
      "cell_type": "code",
      "execution_count": null,
      "metadata": {
        "id": "dDjtJoe3DTu_"
      },
      "outputs": [],
      "source": [
        "from sklearn.feature_extraction.text import CountVectorizer\n",
        "\n",
        "vectorizer = CountVectorizer (max_df=0.85) # max_df : eliminar si la palabra está en el 85% de los documentos\n",
        "\n",
        "word_count_vector = vectorizer.  # TODO : transformar el texto limpio\n"
      ]
    },
    {
      "cell_type": "markdown",
      "metadata": {
        "id": "GnllSkXo68Pe"
      },
      "source": [
        "Una vez contabilizado el texto se pueden ver algunas palabras del vocabulario:"
      ]
    },
    {
      "cell_type": "code",
      "execution_count": null,
      "metadata": {
        "id": "a2ipp9nrELRe"
      },
      "outputs": [],
      "source": [
        "list(vectorizer.vocabulary_.keys())[:10]"
      ]
    },
    {
      "cell_type": "markdown",
      "metadata": {
        "id": "hnlFNh8HjLRC"
      },
      "source": [
        "Las columnas de la matriz son las características o tokens detectados en el texto y se pueden ver con la función `get_feature_names()`."
      ]
    },
    {
      "cell_type": "code",
      "execution_count": null,
      "metadata": {
        "id": "yPQu5OmX6kzC"
      },
      "outputs": [],
      "source": [
        "print (vectorizer.get_feature_names()[-10:] )\n",
        "\n",
        "vocabulary = vectorizer.get_feature_names()"
      ]
    },
    {
      "cell_type": "markdown",
      "metadata": {
        "id": "aTxCF6_97Q_6"
      },
      "source": [
        "El resultado es una matriz `sparse matrix` que representa las cuentas de las palabras. Cada columna representa una palabra en el vocabulario y cada fila representa un documento (un post) en el datataset y cada celda el números de apariciones de la palabra en el documento.\n",
        "\n",
        "**¿Cuál es el tamaño del vocabulario?**\n"
      ]
    },
    {
      "cell_type": "code",
      "execution_count": null,
      "metadata": {
        "id": "ausc3jhB9b3b"
      },
      "outputs": [],
      "source": [
        "# TODO"
      ]
    },
    {
      "cell_type": "markdown",
      "metadata": {
        "id": "Aw3GweyA9gfZ"
      },
      "source": [
        "Por comodidad, podemos convertir la matriz en un DataFrame en el que las filas sean los documentos y las columnas el vocabulario:"
      ]
    },
    {
      "cell_type": "code",
      "execution_count": null,
      "metadata": {
        "id": "OpquSy5U-pqx"
      },
      "outputs": [],
      "source": [
        "wc_df = pd.DataFrame () # TODO"
      ]
    },
    {
      "cell_type": "markdown",
      "metadata": {
        "id": "EyrNMavD-Y_p"
      },
      "source": [
        "Con del DataFrame es más fácil hacer consultas. \n",
        "\n",
        "**¿En qué post de stackoverflow aparece más veces la palabra `eclipse`?**\n",
        "\n"
      ]
    },
    {
      "cell_type": "code",
      "execution_count": null,
      "metadata": {
        "id": "95L2ivubDRjh"
      },
      "outputs": [],
      "source": [
        "eclipse_idx =  # TODO\n",
        "\n",
        "stackoverflow_df [stackoverflow_df.index == eclipse_idx]"
      ]
    },
    {
      "cell_type": "markdown",
      "metadata": {
        "id": "lGg98DxE4I1r"
      },
      "source": [
        "## 2.2 TF*IDF TfidfTransformer\n",
        "\n",
        "\n",
        "Ya hemos visto en qué consiste el método $TF*IDF$. Con el objeto **TfidfTransformer** se pueden calcular las puntuaciones TF-IDF."
      ]
    },
    {
      "cell_type": "code",
      "execution_count": null,
      "metadata": {
        "id": "eCGm_YVOQrGJ"
      },
      "outputs": [],
      "source": [
        "from sklearn.feature_extraction.text import TfidfTransformer\n",
        "\n",
        "transformer = TfidfTransformer (smooth_idf=True, use_idf=True)\n",
        "tf_idf_matrix = transformer.  #TODO : transformar word_count_vector en tf*idf"
      ]
    },
    {
      "cell_type": "markdown",
      "metadata": {
        "id": "ByyR06R1Fh0e"
      },
      "source": [
        "Este código ha generado una matriz de puntuaciones tf-idf. ¿Las dimensiones de esta matriz coinciden con la obtenida de `CountVectorize`?"
      ]
    },
    {
      "cell_type": "code",
      "execution_count": null,
      "metadata": {
        "id": "xvhkjYkeD3Nu"
      },
      "outputs": [],
      "source": [
        " #TODO"
      ]
    },
    {
      "cell_type": "markdown",
      "metadata": {
        "id": "12ykVK8vGxkv"
      },
      "source": [
        "De la misma forma, vamos a convertir la matriz en un DataFrame:"
      ]
    },
    {
      "cell_type": "code",
      "execution_count": null,
      "metadata": {
        "id": "kpwfeDaNSDuQ"
      },
      "outputs": [],
      "source": [
        "tf_idf_df = pd.DataFrame () # TODO\n",
        "\n",
        "tf_idf_df[tf_idf_df['python']>0.1]['python']"
      ]
    },
    {
      "cell_type": "markdown",
      "metadata": {
        "id": "luQVcQwXRkfq"
      },
      "source": [
        "Es posible ordenar valores tf-idf en orden descendente:"
      ]
    },
    {
      "cell_type": "code",
      "execution_count": null,
      "metadata": {
        "id": "QaSxIFojRj_i"
      },
      "outputs": [],
      "source": [
        "tf_idf_df['python'].nlargest(n=5)"
      ]
    },
    {
      "cell_type": "markdown",
      "metadata": {
        "id": "p6uSHRLUKcZD"
      },
      "source": [
        "El objetivo a continuación es extraer las $n$ palabras clave (`keywords`) que mejor representen cada una de las cuestiones planteadas en los datos de stackoverflow, según las puntuaciones tf-idf.\n",
        "\n",
        "\n",
        "\n"
      ]
    },
    {
      "cell_type": "code",
      "execution_count": null,
      "metadata": {
        "id": "KwAtG_xQMlVV"
      },
      "outputs": [],
      "source": [
        "def extract_topn_keywords (row, vocabulary, topn=5):\n",
        "  # TODO \n",
        "  # TODO\n",
        "  \n",
        "  result = {}\n",
        "  # TODO\n",
        "   \n",
        "  return result\n",
        "  \n",
        "for row in tf_idf_df[0:2].iterrows():\n",
        "  print (extract_topn_keywords(row[1] , vocabulary))"
      ]
    },
    {
      "cell_type": "code",
      "execution_count": null,
      "metadata": {
        "id": "5TWrB6ZBI8AO"
      },
      "outputs": [],
      "source": [
        "stackoverflow_df['keywords'] =  #TODO : para cada documento generar una columna con el diccionario obtenido\n"
      ]
    },
    {
      "cell_type": "code",
      "execution_count": null,
      "metadata": {
        "id": "J-gALLOxKVTL"
      },
      "outputs": [],
      "source": [
        "stackoverflow_df.tail(5)"
      ]
    },
    {
      "cell_type": "markdown",
      "metadata": {
        "id": "z815_bdDIPmT"
      },
      "source": [
        "Ahora hay que buscar los dos posts que sean más similares entre sí. Para ello vamos a calcular la **similitud del coseno** entre las matrices tf- idf:"
      ]
    },
    {
      "cell_type": "code",
      "execution_count": null,
      "metadata": {
        "id": "JiDPGp7SGqBd"
      },
      "outputs": [],
      "source": [
        "from sklearn.metrics.pairwise import cosine_similarity\n",
        "\n",
        "tf_idf_cossim =  # TODO\n",
        "np.fill_diagonal(tf_idf_cossim, 0.0) # anular la diagonal principal\n",
        "ind =  # TODO: localizar el máximo\n"
      ]
    },
    {
      "cell_type": "code",
      "execution_count": null,
      "metadata": {
        "id": "aM7oASAeRjUy"
      },
      "outputs": [],
      "source": [
        "# TODO : visualizar ambos posts"
      ]
    },
    {
      "cell_type": "code",
      "execution_count": null,
      "metadata": {
        "id": "lLV-wDXgcgAl"
      },
      "outputs": [],
      "source": [
        "import numpy as np\n",
        "import seaborn as sns\n",
        "import matplotlib.pylab as plt\n",
        "\n",
        "f, ax = plt.subplots(figsize=(15, 15))\n",
        "\n",
        "A = tf_idf_cossim.flatten().reshape (500,500)\n",
        "\n",
        "mask = np.zeros_like(A, dtype=np.bool)\n",
        "mask[np.triu_indices_from(mask)] = True\n",
        "\n",
        "ax = sns.heatmap(A, mask=mask, square=True,  fmt='.2f', cbar_kws={\"shrink\": .5},\n",
        "                 vmax=1.0, vmin=.3, cmap=\"hot\")\n",
        "\n",
        "ax.set_title(\"Heatmap of cosine similarity scores\").set_fontsize(15)\n",
        "\n",
        "\n",
        "ax.set_xlabel(\"\")\n",
        "ax.set_ylabel(\"\")\n",
        "plt.show()"
      ]
    },
    {
      "cell_type": "markdown",
      "metadata": {
        "id": "-ZfbHaqTH_-4"
      },
      "source": [
        "En esta última sección,  vamos a presentar el algoritmo de clustering [K-Means](https://en.wikipedia.org/wiki/K-means_clustering), un algoritmo de clustering no supervisado que nos va a agrupar las diferentes cuestiones planteadas en Stack Overflow en diferentes grupos.\n",
        "\n",
        "\n",
        "El objetivo de K-Means es sencillo: agrupar datos similares y descubrir patrones subyacentes. Para lograr esto, K-Means busca un número fijo $k$ de centroides en el dataset. Un centroide es el centro de un cluster y un cluster es una collección de datos reunidos que tienen ciertas similitudes entre ellos. El ‘means’ se refiere al promediado de los datos encontrando el centroide. El algoritmo es no supervisado pues no tiene conocimiento de los grupos en el dataset, es decir, encontrará los grupos subyacentes en el dataset.\n",
        "\n",
        "Vamos a ver cómo funciona K-Means para los datos de tf-idf:"
      ]
    },
    {
      "cell_type": "code",
      "execution_count": null,
      "metadata": {
        "id": "0HV3GceGH-2B"
      },
      "outputs": [],
      "source": [
        "from sklearn.cluster import KMeans\n",
        "\n",
        "k = 5 \n",
        "kmeans = KMeans(n_clusters=k).fit(tf_idf_df)"
      ]
    },
    {
      "cell_type": "markdown",
      "metadata": {
        "id": "mt_G930ypJN5"
      },
      "source": [
        "El algoritmo ha agrupado cada uno de los documentos en uno de los 5 cluster definidos:"
      ]
    },
    {
      "cell_type": "code",
      "execution_count": null,
      "metadata": {
        "id": "chxlhLdmI-hq"
      },
      "outputs": [],
      "source": [
        "kmeans.labels_ "
      ]
    },
    {
      "cell_type": "markdown",
      "metadata": {
        "id": "e0zFtfv5lWKr"
      },
      "source": [
        "Una cuestión importante es que el parámetro que indica el número de cluster $k$ hay que proporcionárselo y no sabemos, a priori, cuántos clúster podría haber subyacentes.\n",
        "\n",
        "Para ello vamos a realizar el proceso con varios valores de $k$ para ver cuál es más adecuado:"
      ]
    },
    {
      "cell_type": "code",
      "execution_count": null,
      "metadata": {
        "id": "x1QQ_BbtwV3Z"
      },
      "outputs": [],
      "source": [
        "def run_KMeans(max_k, data):\n",
        "    max_k += 1\n",
        "    kmeans_results = dict()\n",
        "    for k in range(2 , max_k):\n",
        "        kmeans = KMeans(n_clusters =  # TODO\n",
        "                        , init = 'k-means++'\n",
        "                        , n_init = 10\n",
        "                        , tol = 0.0001\n",
        "                        , n_jobs = -1\n",
        "                        , random_state = 1\n",
        "                        , algorithm = 'full')\n",
        "\n",
        "        kmeans_results [] =  # TODO : poner en un diccionario\n",
        "    return kmeans_results\n",
        "\n",
        "kmeans_results = kmeans_results = run_KMeans (12, tf_idf_df)"
      ]
    },
    {
      "cell_type": "markdown",
      "metadata": {
        "id": "VnCTB3EOxxAk"
      },
      "source": [
        "Para determinar cómo de cohesionado está un cluster en relación con los otros clusters existe una medida denominada silueta (silhouette) que nos indica precisamente esto:"
      ]
    },
    {
      "cell_type": "code",
      "execution_count": null,
      "metadata": {
        "id": "nTQXwHlcxreD"
      },
      "outputs": [],
      "source": [
        "from sklearn.metrics import silhouette_score\n",
        "\n",
        "def silhouette(kmeans_dict, df, plot=False):\n",
        "    sil = dict()\n",
        "    for k, kmeans in kmeans_dict.items():      \n",
        "        kmeans_labels = kmeans.predict(df)\n",
        "        silhouette_avg = silhouette_score(df, kmeans_labels) \n",
        "        sil[] = # TODO: añadir a diccionario\n",
        "\n",
        "    return sil\n",
        "\n",
        "sil_results = silhouette ( kmeans_results, tf_idf_df )\n",
        "print (sil_results)\n",
        "\n",
        "# TODO: Qué valor de k obtiene el mejor valor de silueta \n",
        "best_k = \n",
        "print (best_k)"
      ]
    },
    {
      "cell_type": "markdown",
      "metadata": {
        "id": "ItH9V4Aj1RxN"
      },
      "source": [
        "Una vez obtenido el valor de cluster que mejor podría describir la agrupación de los datos, vamos a hacer una predicción sobre los datos con la función `fit_predict` con el objeto kmeans que corresponde a `best_k`:"
      ]
    },
    {
      "cell_type": "code",
      "execution_count": null,
      "metadata": {
        "id": "IMgsTiRs1qnJ"
      },
      "outputs": [],
      "source": [
        "prediction =  # TODO"
      ]
    },
    {
      "cell_type": "code",
      "execution_count": null,
      "metadata": {
        "id": "wgrMybQ64wll"
      },
      "outputs": [],
      "source": [
        "stackoverflow_df['cluster'] =  # TODO: añadir las predicciones a stackoverflow_df\n",
        "\n",
        "stackoverflow_df.head(5)"
      ]
    },
    {
      "cell_type": "markdown",
      "metadata": {
        "id": "RG9EbGQS3NPm"
      },
      "source": [
        "Una vez definidos los clusters, vamos a ver cuáles son las palabras clave que definen cada uno de los clusters:"
      ]
    },
    {
      "cell_type": "code",
      "execution_count": null,
      "metadata": {
        "id": "VtgtDfIbMBfX"
      },
      "outputs": [],
      "source": [
        "# Definir un par de funciones auxiliares\n",
        "\n",
        "def get_top_features_cluster(tf_idf_array, prediction, n_feats):\n",
        "    labels = np.unique(prediction)\n",
        "    dfs = []\n",
        "    for label in labels:\n",
        "        id_temp = np.where(prediction==label) # \n",
        "        x_means = np.mean(tf_idf_array[id_temp], axis = 0) # \n",
        "        sorted_means = np.argsort(x_means)[::-1][:n_feats] # \n",
        "        features = vectorizer.get_feature_names()\n",
        "        best_features = [(features[i], x_means[i]) for i in sorted_means]\n",
        "        df = pd.DataFrame(best_features, columns = ['words', 'score'])\n",
        "        dfs.append(df)\n",
        "    return dfs\n",
        "\n",
        "\n",
        "def plotWords(dfs, n_feats):\n",
        "    plt.figure(figsize=(8, 4))\n",
        "    for i in range(0, len(dfs)):\n",
        "        plt.title((\"Most Common Words in Cluster {}\".format(i)), fontsize=10, fontweight='bold')\n",
        "        sns.barplot(x = 'score' , y = 'words', orient = 'h' , data = dfs[i][:n_feats])\n",
        "        plt.show()\n",
        "\n",
        "n_feats = 5 # Num. palabras a representar\n",
        "dfs = get_top_features_cluster(tf_idf_df.to_numpy(), prediction, n_feats)\n",
        "plotWords(dfs, n_feats)  # "
      ]
    },
    {
      "cell_type": "markdown",
      "metadata": {
        "id": "9JQ9W5Cd4BRK"
      },
      "source": [
        "**¿En qué cluster se encuentran las preguntas relativas a Android?** \n",
        "\n",
        "**¿De qué tratan los post/preguntas/documentos que se encuentran en el cluster 7?**"
      ]
    },
    {
      "cell_type": "markdown",
      "metadata": {
        "id": "hJs5pMB6Z0xx"
      },
      "source": [
        "---\n"
      ]
    },
    {
      "cell_type": "markdown",
      "metadata": {
        "id": "dw6yDxRZL7j9"
      },
      "source": [
        "# Parte 3. Declaración Universal de los Derechos Humanos"
      ]
    },
    {
      "cell_type": "markdown",
      "metadata": {
        "id": "2vcePD0XLZGb"
      },
      "source": [
        "La [Declaración Universal de los Derechos Humanos](https://en.wikipedia.org/wiki/Universal_Declaration_of_Human_Rights) es un documento adoptado por la Asamblea General de las Naciones Unidas en su Resolución 217 A (III), el 10 de diciembre de 1948 en París, ​ que recoge en sus 30 artículos los derechos humanos considerados básicos."
      ]
    },
    {
      "cell_type": "code",
      "execution_count": null,
      "metadata": {
        "id": "ltAarFcOFTdq"
      },
      "outputs": [],
      "source": [
        "nltk.download('udhr')\n",
        "  \n",
        "from nltk.corpus import udhr"
      ]
    },
    {
      "cell_type": "markdown",
      "metadata": {
        "id": "eyvGzUKHU-fe"
      },
      "source": [
        "Una vez importado el contenido, para ver los idiomas en los que se encuentran disponible:\n"
      ]
    },
    {
      "cell_type": "code",
      "execution_count": null,
      "metadata": {
        "id": "JPRGkwyIFTgP"
      },
      "outputs": [],
      "source": [
        "udhr.fileids()[:10]\n"
      ]
    },
    {
      "cell_type": "markdown",
      "metadata": {
        "id": "lleMQNcLWVmk"
      },
      "source": [
        "Vamos a seleccionar 5 idiomas para recopilar estadísticas: 4 vienen prefijados y 1 será de tu elección"
      ]
    },
    {
      "cell_type": "code",
      "execution_count": null,
      "metadata": {
        "id": "WwZx3gfUWksI"
      },
      "outputs": [],
      "source": [
        "langs = ['English-Latin1', 'Spanish_Espanol-Latin1', 'French_Francais-Latin1',\n",
        "         'Catalan_Catala-Latin1', ''] #TODO"
      ]
    },
    {
      "cell_type": "markdown",
      "metadata": {
        "id": "DuyYMOl5Gjm3"
      },
      "source": [
        "Crear un Dataframe con los siguientes datos de cada idioma:\n",
        "\n",
        "- Número de palabras en la Declaración Universal de Derecho Humanos (UDHR, en inglés)\n",
        "\n",
        "- Número de palabras únicas\n",
        "\n",
        "- Longitud media de las palabras\n",
        "\n",
        "- Número de sentencias incluidas\n",
        "\n",
        "- Número medio de palabras por sentencia\n"
      ]
    },
    {
      "cell_type": "code",
      "execution_count": null,
      "metadata": {
        "id": "ZX8xIWuvYke9"
      },
      "outputs": [],
      "source": [
        "def generate_udhr_stats():\n",
        "  np_udhr=[]\n",
        "  columns=['Language', 'WordCount','WordCountUnique',\n",
        "           'NumberSentences','MeanWordLength','MeanWordsPerSentence']\n",
        "          \n",
        "\n",
        "    for lang in langs:\n",
        "    text = udhr.raw (lang)\n",
        "    # TODO\n",
        "    # TODO\n",
        "    # TODO\n",
        "    # TODO\n",
        "    # TODO\n",
        "    # TODO\n",
        "    \n",
        "    np_udhr.       # TODO\n",
        "  return pd.DataFrame() # TODO\n",
        "\n",
        "udhr_df = generate_udhr_stats()"
      ]
    },
    {
      "cell_type": "code",
      "execution_count": null,
      "metadata": {
        "id": "KvxuxWbCYlSu"
      },
      "outputs": [],
      "source": [
        "udhr_df.head(5)"
      ]
    },
    {
      "cell_type": "markdown",
      "metadata": {
        "id": "vycf58eggFo7"
      },
      "source": [
        "¿Cuál es la ***diversidad léxica*** (relación del número de palabras distintas entre el número total de palabras) en cada idioma? "
      ]
    },
    {
      "cell_type": "code",
      "execution_count": null,
      "metadata": {
        "id": "rueuAmT5YlC0"
      },
      "outputs": [],
      "source": [
        "def lexical_diversity (row):\n",
        "  return  # TODO\n",
        "\n",
        "udhr_df['LD'] =  # TODO"
      ]
    },
    {
      "cell_type": "code",
      "execution_count": null,
      "metadata": {
        "id": "gD9ZuH1kbjSE"
      },
      "outputs": [],
      "source": [
        "udhr_df"
      ]
    },
    {
      "cell_type": "markdown",
      "metadata": {
        "id": "sko3HB4odxdT"
      },
      "source": [
        "---"
      ]
    },
    {
      "cell_type": "markdown",
      "metadata": {
        "id": "m2FNmKC34Ny8"
      },
      "source": [
        "\n",
        "La **ley Zipf** debe su nombre al lingüista norteamericano George Kingsley Zipf y dictamina que un pequeño número de palabras se utilizan todo el tiempo mientras que una gran mayoría de ellas apenas se utiliza. No es muy sorprendente que palabras muy frecuentes en textos en inglés sean `the`, `of` y similares, y que palabras como `intrauterine` apenas se utilicen. [https://en.wikipedia.org/wiki/Zipf%27s_law]\n",
        "\n",
        "La ley Zipf puede escribirse de la siguiente forma: la $r$-ésima palabra más frecuente $f(r)$ escala según la fórmula: $f(r) \\propto \\frac{1}{r^{\\alpha}}$ con $\\alpha \\approx 1$.\n"
      ]
    },
    {
      "cell_type": "code",
      "execution_count": null,
      "metadata": {
        "id": "bGyoBDzhjb1K"
      },
      "outputs": [],
      "source": [
        "import operator\n",
        "from nltk.probability import FreqDist\n",
        "\n",
        "text = udhr.raw( ) # TODO : elegir un idioma \n",
        "\n",
        "token_dict =  # TODO : obtener la frecuencia de todas las palabras \n",
        "sorted_token_dict =  # TODO : ordenar y quedarse con las 50 más frecuentes\n",
        "\n",
        "\n",
        "sorted_token_list\n"
      ]
    },
    {
      "cell_type": "code",
      "execution_count": null,
      "metadata": {
        "id": "GiwBZ6jctqSp"
      },
      "outputs": [],
      "source": [
        "def createZipfTable(freqs):\n",
        "  zipf_table = []\n",
        "  top_frequency =   # TODO : la palabra más frecuente\n",
        "\n",
        "  for index, item in enumerate(freqs , start=1):\n",
        "    relative_frequency = \"1/{}\".format(index)\n",
        "    zipf_frequency = top_frequency * (1 / index)\n",
        "    zipf_table.append({\"word\": item[0], \"actual_frequency\": item[1], \n",
        "                       \"relative_frequency\": relative_frequency , \n",
        "                       \"zipf_frequency\": zipf_frequency })\n",
        "\n",
        "  return zipf_table\n",
        "\n",
        "\n",
        "zipf_table = createZipfTable (sorted_token_list)\n",
        "\n",
        "\n",
        "print(\"|Rank|    Word    |       Freq | Zipf Frac  | Zipf Freq  |\")\n",
        "format_string = \"|{:4}|{:12}|{:12.0f}|{:>12}|{:12.2f}|\"\n",
        "for index, item in enumerate(zipf_table,start=1):\n",
        "        print(format_string.format(index,item[\"word\"],item[\"actual_frequency\"],\n",
        "                                   item[\"relative_frequency\"],item[\"zipf_frequency\"]))"
      ]
    },
    {
      "cell_type": "code",
      "execution_count": null,
      "metadata": {
        "id": "36L1eBHuvE_y"
      },
      "outputs": [],
      "source": [
        "import numpy as np\n",
        "import matplotlib.pyplot as plt\n",
        "\n",
        "ranks = list (range ( 1, 1+len (zipf_table) ))\n",
        "frequencies = [ rec['actual_frequency']  for rec in zipf_table ]\n",
        "zipf_frequencies = [ rec['zipf_frequency'] for rec in zipf_table ] \n",
        "\n",
        "plt.figure(figsize=(8,6))\n",
        "\n",
        "plt.title(\"Word Frequencies in UDHR:\")\n",
        "plt.ylabel(\"Total Number of Occurrences\")\n",
        "plt.xlabel(\"Rank of words\")\n",
        "\n",
        "plt.plot(\n",
        "    ranks,\n",
        "    frequencies, color='blue', label='Actual freq.',\n",
        "    alpha=0.5\n",
        "  )\n",
        "\n",
        "\n",
        "plt.plot(\n",
        "    ranks,\n",
        "    zipf_frequencies, color=\"orange\", label='Expected Zipf.',linestyle='--',\n",
        "    alpha=0.5\n",
        "  )\n",
        "\n",
        "plt.legend()"
      ]
    },
    {
      "cell_type": "markdown",
      "metadata": {
        "id": "mI38AEP1oShg"
      },
      "source": [
        "**Comparar si los diferentes idiomas elegidos siguen la ley Zipf o divergen de ella.**"
      ]
    }
  ],
  "metadata": {
    "colab": {
      "collapsed_sections": [],
      "name": "TyFdD-PEC2-2021.ipynb",
      "provenance": []
    },
    "interpreter": {
      "hash": "b119b4c697b4487f74ce7abd07f8caa70f6b240e9053314ddd07d34a307829e7"
    },
    "kernelspec": {
      "display_name": "Python 3.10.0 64-bit",
      "name": "python3"
    },
    "language_info": {
      "codemirror_mode": {
        "name": "ipython",
        "version": 3
      },
      "file_extension": ".py",
      "mimetype": "text/x-python",
      "name": "python",
      "nbconvert_exporter": "python",
      "pygments_lexer": "ipython3",
      "version": "3.10.0"
    }
  },
  "nbformat": 4,
  "nbformat_minor": 2
}
