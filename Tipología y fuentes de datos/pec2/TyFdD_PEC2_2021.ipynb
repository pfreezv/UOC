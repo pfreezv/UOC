{
  "nbformat": 4,
  "nbformat_minor": 2,
  "metadata": {
    "colab": {
      "name": "TyFdD-PEC2-2021.ipynb",
      "provenance": [],
      "collapsed_sections": []
    },
    "kernelspec": {
      "name": "python3",
      "display_name": "Python 3.9.7 64-bit (windows store)"
    },
    "language_info": {
      "name": "python",
      "version": "3.9.7"
    },
    "interpreter": {
      "hash": "d68aa252cefc0d28dc6400d41d4c9673702e640c5ae66b886190fff64ef72be0"
    }
  },
  "cells": [
    {
      "cell_type": "markdown",
      "source": [
        "# PEC 2. Introducción a los sistemas de recuperación de información.\n",
        "\n",
        "En esta PEC vamos a desarrollar un sistema de recuperación de información básico. Partiendo de una lista de documentos de texto tendrás que usar las técnicas de recuperación de información vistas en la asignatura para obtener, procesar y analizar datos útiles a partir del contenido.\n",
        "\n",
        "\n",
        "\n",
        "\n",
        "```\n",
        "#TODO: nombre y apellidos\n",
        "```\n",
        "\n",
        "\n",
        "\n"
      ],
      "metadata": {
        "id": "dISYzX4ob2l7"
      }
    },
    {
      "cell_type": "markdown",
      "source": [
        "\n",
        "\n",
        "---\n",
        "\n",
        "# **Parte 1**. Tareas básicas\n",
        "\n"
      ],
      "metadata": {
        "id": "oio_-Jm3K_kJ"
      }
    },
    {
      "cell_type": "markdown",
      "source": [
        "Además de las ya clásicas `pandas` y `numpy`, vamos a utilizar la librería [NTLK](https://es.wikipedia.org/wiki/NLTK) (Natural Language Toolkit), una librería Python utilizada para analizar texto y aprendizaje automático."
      ],
      "metadata": {
        "id": "ED51nVLeFy-v"
      }
    },
    {
      "cell_type": "code",
      "execution_count": 1,
      "source": [
        "import numpy as np\r\n",
        "import pandas as pd\r\n",
        "import matplotlib.pyplot as plt\r\n",
        "% matplotlib inline\r\n",
        "\r\n",
        "import nltk\r\n",
        "nltk.download('stopwords')\r\n",
        "nltk.download('punkt')\r\n"
      ],
      "outputs": [
        {
          "output_type": "stream",
          "name": "stderr",
          "text": [
            "UsageError: Line magic function `%` not found.\n"
          ]
        }
      ],
      "metadata": {
        "id": "ZSx3piMEFn-4"
      }
    },
    {
      "cell_type": "markdown",
      "source": [
        "## 1.1 Separando las palabras (Tokenization)\n",
        "\n",
        "El significado de cada sentencia se obtiene de las palabra que contiene. Así que analizando las palabras presentes en un texto se puede interpretar el significado. Así que lo primero que hay que hacer para poder tratar el texto es separar las palabras que lo componen, es decir, hacer una lista  de palabras. El modelo que vamos a utilizar aquí se denomina [**bolsa-de-palabras**](https://es.wikipedia.org/wiki/Modelo_bolsa_de_palabras) (bag-of-words) ya que nos interesan las palabras sin importar su posición o importancia en el documento.\n",
        "\n",
        "\n",
        "La separación de las palabres o tokenization consiste en separar el texto en palabras, también denominados tokens. Generalmente el `espacio`se utiliza para separar palabras y elementos como los puntos, comas, dos puntos, etc. se utilizan para separar sentencias.\n",
        "\n",
        "\n"
      ],
      "metadata": {
        "id": "_jFbru22JeCt"
      }
    },
    {
      "cell_type": "markdown",
      "source": [
        "Hay multiples formas de realizar la separación de palabras para un texto dado. \n",
        "\n",
        "### 1.1.1 Funciones de Python\n",
        "\n",
        "Se puede usar la función `split()` para separar una cadena de texto en una lista de palabras. Por defecto `split()` utiliza el espacio en blanco, aunque se puede usar cualquier caracter.\n"
      ],
      "metadata": {
        "id": "CK4PwSVyKU3D"
      }
    },
    {
      "cell_type": "code",
      "execution_count": 2,
      "source": [
        "text01 = \"Children shouldn't drink a sugary drink before bed.\"\r\n",
        "text01.split(' ')"
      ],
      "outputs": [
        {
          "output_type": "execute_result",
          "data": {
            "text/plain": [
              "['Children', \"shouldn't\", 'drink', 'a', 'sugary', 'drink', 'before', 'bed.']"
            ]
          },
          "metadata": {},
          "execution_count": 2
        }
      ],
      "metadata": {
        "id": "KuK5q-MOKf0q"
      }
    },
    {
      "cell_type": "markdown",
      "source": [
        "El método `split()` de Python no considera los signos de puntuación como elementos separados.\n",
        "\n"
      ],
      "metadata": {
        "id": "xuZQafeDKiTj"
      }
    },
    {
      "cell_type": "markdown",
      "source": [
        "### 1.1.2 Expresiones regulares\n",
        "\n",
        "El módulo `re` ofrece un conjunto de funciones para buscar coincidencias en una cadena de texto. Una *expresión regular* es una secuencia de caracteres que definen un patrón de búsqueda."
      ],
      "metadata": {
        "id": "IsTbr0lQvBtQ"
      }
    },
    {
      "cell_type": "code",
      "execution_count": 17,
      "source": [
        "import re\r\n",
        "\r\n",
        "text02 = \"\"\"There are multiple ways we can perform tokenization on given text data. We can choose any method based on language, library and purpose of modeling.\"\"\"\r\n",
        "tokens = re.split(r\"\\s\", text02)  # TODO: usar una expresión regular para separar las palabras\r\n",
        "print(tokens)\r\n"
      ],
      "outputs": [
        {
          "output_type": "stream",
          "name": "stdout",
          "text": [
            "['There', 'are', 'multiple', 'ways', 'we', 'can', 'perform', 'tokenization', 'on', 'given', 'text', 'data.', 'We', 'can', 'choose', 'any', 'method', 'based', 'on', 'language,', 'library', 'and', 'purpose', 'of', 'modeling.']\n"
          ]
        }
      ],
      "metadata": {
        "id": "b-D5UYVfxW9X"
      }
    },
    {
      "cell_type": "markdown",
      "source": [
        "### 1.1.3 Con NLTK\n",
        "\n",
        "Natural Language Toolkit (NLTK) tiene la función `word_tokenize()` para separación de palabras y `sent_tokenize()` para separación de sentencias.\n",
        "\n"
      ],
      "metadata": {
        "id": "I9s_37f8xtCT"
      }
    },
    {
      "cell_type": "code",
      "execution_count": 21,
      "source": [
        "from nltk.tokenize import sent_tokenize, word_tokenize\r\n",
        "\r\n",
        "text03 = \"<p>This is the first sentence. A gallon-of-milk in the U.S. costs $2.99. Is this the third sentence? Yes, it is!</p>\"\r\n",
        "\r\n",
        "for sent in sent_tokenize(text03): # TODO: separar las sentencias \r\n",
        "  print (word_tokenize(sent)) # TODO: separar las palabras  "
      ],
      "outputs": [
        {
          "output_type": "stream",
          "name": "stdout",
          "text": [
            "['<', 'p', '>', 'This', 'is', 'the', 'first', 'sentence', '.']\n",
            "['A', 'gallon-of-milk', 'in', 'the', 'U.S.', 'costs', '$', '2.99', '.']\n",
            "['Is', 'this', 'the', 'third', 'sentence', '?']\n",
            "['Yes', ',', 'it', 'is', '!', '<', '/p', '>']\n"
          ]
        }
      ],
      "metadata": {
        "id": "x8t62gvCKrkD"
      }
    },
    {
      "cell_type": "markdown",
      "source": [
        "## 1.2. Eliminación de números y símbolos. Conversión a minúsculas.\n",
        "\n",
        "Como se puede comprobar, `word_tokenizer()` mantiene los signos de puntuación así como los los números y otros símbolos.\n",
        "\n",
        "Una estrategia para reducir el número de palabras/tokens es convertirlas a minúsculas, pues algunos signos de puntuación modifican la letra inicial de las palabras. Así se consigue reducir el número de variantes de una misma palabra.\n",
        "\n",
        "\n"
      ],
      "metadata": {
        "id": "oIJt7ZFTDQSY"
      }
    },
    {
      "cell_type": "code",
      "execution_count": 74,
      "source": [
        "import string\r\n",
        "\r\n",
        "def remove_tags (s):\r\n",
        " \r\n",
        "  p = re.compile('<.*?>')  # TODO: eliminar tags html\r\n",
        "  return re.sub(p,'', s)  # TODO\r\n",
        "\r\n",
        "# TODO : eliminar tags, tokenizar, convertir a minúsculas y eliminar símbolos no alfabéticos y números \r\n",
        "def tokenize_and_remove_punctuations(s):\r\n",
        "    remove_tag = remove_tags(s)\r\n",
        "    simbol_to_remove = re.compile('[,.!?$0-9]')\r\n",
        "    \r\n",
        "    removed_text = re.sub(simbol_to_remove, '', remove_tag)\r\n",
        "    \r\n",
        "    return word_tokenize((removed_text.lower()).replace(\"-\", \" \"))\r\n",
        "\r\n",
        "\r\n",
        "print (tokenize_and_remove_punctuations (text03))\r\n",
        "\r\n"
      ],
      "outputs": [
        {
          "output_type": "stream",
          "name": "stdout",
          "text": [
            "['this', 'is', 'the', 'first', 'sentence', 'a', 'gallon', 'of', 'milk', 'in', 'the', 'us', 'costs', 'is', 'this', 'the', 'third', 'sentence', 'yes', 'it', 'is']\n"
          ]
        }
      ],
      "metadata": {
        "id": "42rTEi1l-3SR"
      }
    },
    {
      "cell_type": "markdown",
      "source": [
        "## 1.3. Palabras vacías\n",
        "\n",
        "Las *palabras vacías* (stopwords) son palabras más comunes en cualquier lenguaje, tienen sentido gramatical pero con poco significado para el análisis de un texto. Estas palabras vacías se incluyen artículos, preposiciones, conjunciones, pronombres, etc. así que su eliminación reduce considerablemente el número de palabras.\n",
        "\n",
        "NLTK tiene listas de palabras vacías en 16 idiomas. En este caso, se ha cargado la lista en inglés.\n",
        "\n"
      ],
      "metadata": {
        "id": "_9I2sR40MnSQ"
      }
    },
    {
      "cell_type": "code",
      "execution_count": null,
      "source": [
        "# TODO : dada una lista de tokens, suprimir aquellos que sean palabras vacías o que su longitud es menor o igual 2\r\n",
        "\r\n",
        "\r\n",
        "def remove_stop_words(tokens):\r\n",
        "    stopwords = nltk.corpus.stopwords.words('english')\r\n",
        "    filtered_words = [] # TODO\r\n",
        "    return filtered_words\r\n",
        "\r\n",
        "\r\n",
        "len (remove_stop_words ( tokenize_and_remove_punctuations (text03)  ) ) == 8"
      ],
      "outputs": [],
      "metadata": {
        "id": "jcrShuseB4ip"
      }
    },
    {
      "cell_type": "markdown",
      "source": [
        "## 1.4. Normalización\n",
        "\n",
        "Muchos idiomas contienen palabras derivadas de otras y esto se denomina [flexión](https://es.wikipedia.org/wiki/Flexi%C3%B3n_(ling%C3%BC%C3%ADstica)). La flexión es la modificación de una para expresar diferentes categorías gramaticales como persona, número, género, etc.\n",
        "\n",
        "Tratar esta flexión para llevar las palabras a una forma base se denomina **normalización de palabras**. La normalización permite que si se busca por una palabra se haga al mismo tiempo por todas sus flexiones.\n",
        "\n",
        "La **lematización** es el proceso de reducir la inflexión de las palabras para llevarla a su forma origen o raíz. El lema es la parte de la palabra a la que se añade la flexión.\n",
        "\n",
        "En NLTK hay disponibles diferentes lematizadores aunque aquí vamos a utilizar el más conocido: [algoritmo de Porter](https://es.wikipedia.org/wiki/Algoritmo_de_Porter). \n",
        "\n",
        "\n",
        "Podéis ver algo más de estos procesos en \n",
        "https://www.datacamp.com/community/tutorials/stemming-lemmatization-python"
      ],
      "metadata": {
        "id": "W2VeHy1uJqiV"
      }
    },
    {
      "cell_type": "code",
      "execution_count": null,
      "source": [
        "\r\n",
        "from nltk.stem import PorterStemmer\r\n",
        "\r\n",
        "def stem_words(tokens):\r\n",
        "    stemmer = PorterStemmer()\r\n",
        "    stemmed_words = [] # TODO : obtener la versión básica de todos los tokens\r\n",
        "    return stemmed_words\r\n",
        "\r\n",
        "\r\n",
        "stem_words ( remove_stop_words(tokenize_and_remove_punctuations (text03)) )"
      ],
      "outputs": [],
      "metadata": {
        "id": "qI7x5BOHJqG_"
      }
    },
    {
      "cell_type": "markdown",
      "source": [
        "Una vez que ya están realizadas las operaciones básicas sobre el texto, es momento de ponerlo todo junto en la función `preprocess_data ()` que recibe un array de pares `(documentId, text)` y aplica las transformaciones anteriormente descritas."
      ],
      "metadata": {
        "id": "b88Wpw_m2afn"
      }
    },
    {
      "cell_type": "code",
      "execution_count": null,
      "source": [
        "def preprocess_text ( text , stem=True):\r\n",
        "    tokens =               # TODO : tokenizar y eliminar puntuación\r\n",
        "    filtered_tokens =      # TODO : eliminar palabras vacías\r\n",
        "    if stem :\r\n",
        "      stemmed_tokens =     # TODO : normalizar\r\n",
        "    else:\r\n",
        "                           # TODO\r\n",
        "    return stemmed_tokens\r\n",
        "\r\n",
        "def preprocess_data(contents, stem=True):\r\n",
        "    dataDict = {}\r\n",
        "    for content in contents:\r\n",
        "        dataDict[content[0]] = preprocess_text(content[1], stem)\r\n",
        "    return dataDict\r\n"
      ],
      "outputs": [],
      "metadata": {
        "id": "CV3V7b68FTa6"
      }
    },
    {
      "cell_type": "code",
      "execution_count": null,
      "source": [
        "document_1 = \"I love watching movies when it's cold outside ;-)\"\r\n",
        "document_2 = \"Toy Story is the best animation movie ever, I love it!\"\r\n",
        "document_3 = \"Watching horror movies alone at night is really scary\"\r\n",
        "document_4 = \"He loves to watch films filled with suspense and unexpected plot twists\"\r\n",
        "document_5 = \"My mom loves to watch movies. My dad hates movie theaters. My brothers like any kind of movie. And I haven't watched a single movie since I got into college\"\r\n",
        "documents = [document_1, document_2, document_3, document_4, document_5]\r\n",
        "\r\n",
        "docIds = ['doc01','doc02','doc03','doc04','doc05']\r\n",
        "\r\n",
        "documents_list =  # TODO : generar una lista de la forma  [('doc01': 'I love..'), ... ]\r\n",
        "\r\n",
        "\r\n",
        "data_docs =  # TODO : preprocesar la lista de documentos de ejemplo\r\n",
        "data_docs"
      ],
      "outputs": [],
      "metadata": {
        "id": "8SLxkerz5FwZ"
      }
    },
    {
      "cell_type": "markdown",
      "source": [
        "## 1.5. Frecuencia de las palabras\n"
      ],
      "metadata": {
        "id": "WpDoPJNOJmwE"
      }
    },
    {
      "cell_type": "markdown",
      "source": [
        "Ahora vamos a ver cómo de importante es una palabra/token en los documentos. \n",
        "\n",
        "Lo primero que hay que hacer es obtener un vocabulario que no es más que la lista de todos los tokens únicos que aparecen en todos los documentos.\n",
        "\n"
      ],
      "metadata": {
        "id": "tdgkCF-rRn88"
      }
    },
    {
      "cell_type": "code",
      "execution_count": null,
      "source": [
        "def get_vocabulary(data):\r\n",
        "    tokens = []\r\n",
        "    for token_list in data.values():\r\n",
        "        tokens =  # TODO\r\n",
        "    fdist =       # TODO\r\n",
        "    return list(fdist.keys())\r\n",
        "\r\n",
        "get_vocabulary ( data_docs)"
      ],
      "outputs": [],
      "metadata": {
        "id": "ap24675u5Tmw"
      }
    },
    {
      "cell_type": "markdown",
      "source": [
        "Para ello podemos calcular la frecuencia de cada término contando el número de veces que aparece en cada documento, que será una medida de su peso o importancia.\n",
        "\n",
        "$TF (t,d) = f_{t,d}$  (#número de repeticiones del término $t$ en el documento $d$)"
      ],
      "metadata": {
        "id": "cS802HVsRsQp"
      }
    },
    {
      "cell_type": "code",
      "execution_count": null,
      "source": [
        "from nltk.probability import FreqDist\r\n",
        "\r\n",
        "def calculate_tf(tokens):\r\n",
        "    tf_score = {}\r\n",
        "    for token in tokens:\r\n",
        "        tf_score[token] =  # TODO: calcular tf\r\n",
        "    \r\n",
        "    return tf_score\r\n",
        "\r\n",
        "fdist = calculate_tf ( data_docs['doc05'])\r\n",
        "\r\n",
        "fdist"
      ],
      "outputs": [],
      "metadata": {
        "id": "mvPko3Wm7Y8o"
      }
    },
    {
      "cell_type": "markdown",
      "source": [
        "La **frecuencia inversa de documentos** para un término $t$ es el logaritmo (en este caso en base 2) del cociente entre el número de documentos y el número de documentos en los que aparece el término $t$.\n",
        "\n",
        "\n",
        "$ IDF (t) = log_{2} \\frac{N}{\\{d \\in D : t \\in d \\}} $\n",
        "\n",
        "A mayor puntuación de TF*IDF el término es más específico y a menor puntuación, más genérico."
      ],
      "metadata": {
        "id": "vY4X4luHToWR"
      }
    },
    {
      "cell_type": "code",
      "execution_count": null,
      "source": [
        "import math \r\n",
        "\r\n",
        "def calculate_idf(data):\r\n",
        "    idf_score = {}\r\n",
        "    N =         # TODO: número de documentos\r\n",
        "    all_words = # TODO: obtener el vocabulario\r\n",
        "    for word in all_words:\r\n",
        "        word_count = 0\r\n",
        "        for token_list in data.values():\r\n",
        "             # TODO\r\n",
        "             # TODO\r\n",
        "        idf_score[word] # TODO: calcular idf\r\n",
        "    return idf_score\r\n",
        "\r\n",
        "idf_score = calculate_idf ( data_docs )"
      ],
      "outputs": [],
      "metadata": {
        "id": "ebOdwtTY6T6h"
      }
    },
    {
      "cell_type": "code",
      "execution_count": null,
      "source": [
        "def calculate_tfidf(data, idf_score):\r\n",
        "    scores = {}\r\n",
        "    for key,value in data.items():\r\n",
        "        scores[key] =         # TODO: calcular tf\r\n",
        "    for doc,tf_scores :       # TODO\r\n",
        "        for token, score   :  # TODO\r\n",
        "            # TODO\r\n",
        "            # TODO\r\n",
        "            # TODO: calcular tf*idf\r\n",
        "    return scores\r\n",
        "\r\n",
        "tfidf_score = calculate_tfidf ( data_docs, idf_score)"
      ],
      "outputs": [],
      "metadata": {
        "id": "PnSwuFHxDwkt"
      }
    },
    {
      "cell_type": "markdown",
      "source": [
        "## 1.6. Generar el espacio vectorial\n",
        "\n",
        "Usando las funciones anteriores vamos a construir la matriz de documentos (en filas) y términos (en columnas). Para facilitar la tarea usaremos una estructura de datos ya conocida, el **dataframe**.\n"
      ],
      "metadata": {
        "id": "keFHyYR8Ueww"
      }
    },
    {
      "cell_type": "code",
      "execution_count": null,
      "source": [
        "import pandas as pd\r\n",
        "\r\n",
        "def generate_dataframe ( data ):\r\n",
        "  all_words =  # TODO : obtener el vocabulario\r\n",
        "  idf_score =  # TODO : calcular idf\r\n",
        "  tf_idf_score =  # TODO : calcular if*idf\r\n",
        "\r\n",
        "  table = []\r\n",
        "  for doc in :  # TODO : recorrer todas las frecuecias de los documentos\r\n",
        "      d = {} # TODO\r\n",
        "             # TODO \r\n",
        "             # TODO\r\n",
        "      table  # TODO\r\n",
        "\r\n",
        "  df = pd.DataFrame ( table , index = tf_idf_score.keys())\r\n",
        "  return df\r\n",
        "\r\n",
        "df_data = generate_dataframe (data_docs)\r\n",
        "df_data.head(5)"
      ],
      "outputs": [],
      "metadata": {
        "id": "JRFap5kzUls0"
      }
    },
    {
      "cell_type": "markdown",
      "source": [
        "## 1.7. Generar el índice invertido\n",
        "\n",
        "De manera similar, vamos a generar un índice invertido que almacenaremos en una estructura de datos Python: el **diccionario**.\n",
        "\n",
        "\n"
      ],
      "metadata": {
        "id": "oNlyfOCNFYtZ"
      }
    },
    {
      "cell_type": "code",
      "execution_count": null,
      "source": [
        "def generate_inverted_index(data):\r\n",
        "\r\n",
        "    all_words =    # TODO : obtener el vocabulario\r\n",
        "    idf_score =    # TODO : calcular idf\r\n",
        "    tf_idf_score = # TODO : calcular if*idf\r\n",
        "\r\n",
        "    index = {}\r\n",
        "    for word in all_words:\r\n",
        "        for doc, tokens # TODO \r\n",
        "            # TODO\r\n",
        "            # TODO \r\n",
        "            # TODO\r\n",
        "            # TODO\r\n",
        "            # TODO \r\n",
        "    return index\r\n",
        "\r\n",
        "inverted_index = generate_inverted_index (data_docs)\r\n",
        "\r\n",
        "inverted_index"
      ],
      "outputs": [],
      "metadata": {
        "id": "r8_AJecsFn6T"
      }
    },
    {
      "cell_type": "markdown",
      "source": [
        "## 1.8. Resolución de consultas\n",
        "\n"
      ],
      "metadata": {
        "id": "8MvXZOcrFnRh"
      }
    },
    {
      "cell_type": "markdown",
      "source": [
        "Vamos a resolver consultas (obtener los documentos más relevantes) considerando la consulta como un vector y comparándolo con el conjunto de documentos mediante la **similitud del coseno**. \n",
        "\n",
        "Para ello vamos a utilizar la librería [sklearn](https://scikit-learn.org/stable/), aunque sólo la funcionalidad para calcular la similitud del coseno. "
      ],
      "metadata": {
        "id": "CiVHjcHnkY8h"
      }
    },
    {
      "cell_type": "code",
      "execution_count": null,
      "source": [
        "# generar un dataframe para la consulta\r\n",
        "\r\n",
        "q = \"I watched alone a horror movie\"\r\n",
        "\r\n",
        "def generate_query_dataframe ( vocabulary , q ):\r\n",
        "\r\n",
        "  q_dict =  # TODO : preprocesar las palabras de la consulta\r\n",
        "\r\n",
        "  d =  {}   # TODO : generar un dataframe con la misma estructura \r\n",
        "  table = []  \r\n",
        "            # TODO : si el token está en la consulta se pone 1 en otro caso 0\r\n",
        "  table.append (d)\r\n",
        "\r\n",
        "  df = pd.DataFrame ( table  , index ={'q1'} )\r\n",
        "  return df \r\n",
        "\r\n",
        "df_query =  generate_query_dataframe ( get_vocabulary(data_docs)  , q )\r\n",
        "df_query.head()"
      ],
      "outputs": [],
      "metadata": {
        "id": "THFDY8QImpsA"
      }
    },
    {
      "cell_type": "code",
      "execution_count": null,
      "source": [
        "from sklearn.metrics.pairwise import cosine_similarity\r\n",
        "import numpy as np\r\n",
        "\r\n",
        "%time q_cossim =  #TODO : calcular la similitud del coseno e indicar qué documento es el más próximo a la consulta\r\n",
        "\r\n",
        "print (q_cossim.flatten())\r\n",
        "ind = np.unravel_index ( np.argmax(q_cossim, axis=None), q_cossim.shape)\r\n",
        "print ('Documento más similar : %s (%s) ' %  (documents[ind[0]],docIds[ind[0]]) )"
      ],
      "outputs": [],
      "metadata": {
        "id": "CoKt3SbDk4v-"
      }
    },
    {
      "cell_type": "markdown",
      "source": [
        "# Parte 2. Stack Overflow"
      ],
      "metadata": {
        "id": "pjknLHHHc7KM"
      }
    },
    {
      "cell_type": "markdown",
      "source": [
        "Stack Overflow es un sitio de preguntas y respuestas para programadores profesionales y aficionados. Contiene preguntas y respuestas sobre una amplia gama de temas de programación.\n",
        "\n",
        "En este ejercicio vamos a usar en subconjunto del dataset original que contiene 500 posts. El dataset se obtiene del volcado de Stack Overflow en Big Query de Google.\n",
        "\n",
        "Lo primero que hay que hacer es leer línea por línea el archivo JSON `stackoverflow-test.json` y meterlo en lun DataFrame de pandas. (Nota: `lines=True` indica que se trate cada línea como una cadena json) "
      ],
      "metadata": {
        "id": "3pe8PIGqfwZq"
      }
    },
    {
      "cell_type": "code",
      "execution_count": null,
      "source": [
        "from google.colab import files # subir archivo\r\n",
        "uploaded = files.upload()"
      ],
      "outputs": [],
      "metadata": {
        "id": "6Ppk2NnPllay"
      }
    },
    {
      "cell_type": "code",
      "execution_count": null,
      "source": [
        "stackoverflow_df =  # TODO"
      ],
      "outputs": [],
      "metadata": {
        "id": "XZvVtEITgTgj"
      }
    },
    {
      "cell_type": "code",
      "execution_count": null,
      "source": [
        "stackoverflow_df.head(5)"
      ],
      "outputs": [],
      "metadata": {
        "id": "WsjBy4XshErJ"
      }
    },
    {
      "cell_type": "markdown",
      "source": [
        "Examinar el dataset para ver qué dimensiones y qué tipos de datos contiene."
      ],
      "metadata": {
        "id": "1WOnJi3lmMD7"
      }
    },
    {
      "cell_type": "code",
      "execution_count": null,
      "source": [
        " # TODO"
      ],
      "outputs": [],
      "metadata": {
        "id": "thpXzyqZh3eM"
      }
    },
    {
      "cell_type": "code",
      "execution_count": null,
      "source": [
        " # TODO"
      ],
      "outputs": [],
      "metadata": {
        "id": "6nZ8Vuggh7l-"
      }
    },
    {
      "cell_type": "markdown",
      "source": [
        "Observad que el dataset tiene 19 campos que incluyen título `title`, cuerpo `body`, `tags`, fechas y otros metadatos que no necesitaremos en esta ocasión. \n",
        "\n",
        "\n",
        "El interés se centra en el cuerpo y en el título que forman la fuente de texto.Para ello vamos a crear un campo `text` que combina `title` y `body` en uno solo."
      ],
      "metadata": {
        "id": "aeqQnrOdrJ5x"
      }
    },
    {
      "cell_type": "code",
      "execution_count": null,
      "source": [
        "stackoverflow_df['text'] =  # TODO\r\n",
        "stackoverflow_df['text'][3] "
      ],
      "outputs": [],
      "metadata": {
        "id": "DQPzgn7hiQSC"
      }
    },
    {
      "cell_type": "markdown",
      "source": [
        "Como se puede observar el texto contiene bastante \"ruido\" y es necesario procesarlo para que pueda ser útil. Hay que conseguir una cadena de texto en el que se eliminen palabras vacías, tags de html, carácteres extraños, etc. No resulta recomendable lematizar las palabras en esta ocasión."
      ],
      "metadata": {
        "id": "aZuayg_UhYia"
      }
    },
    {
      "cell_type": "code",
      "execution_count": null,
      "source": [
        "stackoverflow_df['mtext'] = # TODO"
      ],
      "outputs": [],
      "metadata": {
        "id": "Qrq-cUuA02GD"
      }
    },
    {
      "cell_type": "code",
      "execution_count": null,
      "source": [
        "stackoverflow_df.head(5)\r\n",
        "  "
      ],
      "outputs": [],
      "metadata": {
        "id": "eISZT4RMBnXm"
      }
    },
    {
      "cell_type": "markdown",
      "source": [
        "## 2.1 Count Vectorizer\n",
        "\n",
        "A continuación se necesita obtener un vocabulario de palabras usadas y comenzar el proceso de contabilización.\n",
        "\n",
        "La **vectorización** es el proceso por el que se convierte una colección de textos en un vector de características numérico. El modelo que seguimos es el de bolsa de palabras o Bag-of-Words, donde los documentos se describen por las palabras que aparecen en el texto, ignorando su posición relativa o su importancia en el texto.\n",
        "\n",
        "**CountVectorizer** convierte una colección de documentos en una matriz de contadores que son las apariciones de cada token en cada documento."
      ],
      "metadata": {
        "id": "n8MHVA4fTXvv"
      }
    },
    {
      "cell_type": "code",
      "execution_count": null,
      "source": [
        "from sklearn.feature_extraction.text import CountVectorizer\r\n",
        "\r\n",
        "vectorizer = CountVectorizer (max_df=0.85) # max_df : eliminar si la palabra está en el 85% de los documentos\r\n",
        "\r\n",
        "word_count_vector = vectorizer.  # TODO : transformar el texto limpio\r\n"
      ],
      "outputs": [],
      "metadata": {
        "id": "dDjtJoe3DTu_"
      }
    },
    {
      "cell_type": "markdown",
      "source": [
        "Una vez contabilizado el texto se pueden ver algunas palabras del vocabulario:"
      ],
      "metadata": {
        "id": "GnllSkXo68Pe"
      }
    },
    {
      "cell_type": "code",
      "execution_count": null,
      "source": [
        "list(vectorizer.vocabulary_.keys())[:10]"
      ],
      "outputs": [],
      "metadata": {
        "id": "a2ipp9nrELRe"
      }
    },
    {
      "cell_type": "markdown",
      "source": [
        "Las columnas de la matriz son las características o tokens detectados en el texto y se pueden ver con la función `get_feature_names()`."
      ],
      "metadata": {
        "id": "hnlFNh8HjLRC"
      }
    },
    {
      "cell_type": "code",
      "execution_count": null,
      "source": [
        "print (vectorizer.get_feature_names()[-10:] )\n",
        "\n",
        "vocabulary = vectorizer.get_feature_names()"
      ],
      "outputs": [],
      "metadata": {
        "id": "yPQu5OmX6kzC"
      }
    },
    {
      "cell_type": "markdown",
      "source": [
        "El resultado es una matriz `sparse matrix` que representa las cuentas de las palabras. Cada columna representa una palabra en el vocabulario y cada fila representa un documento (un post) en el datataset y cada celda el números de apariciones de la palabra en el documento.\n",
        "\n",
        "**¿Cuál es el tamaño del vocabulario?**\n"
      ],
      "metadata": {
        "id": "aTxCF6_97Q_6"
      }
    },
    {
      "cell_type": "code",
      "execution_count": null,
      "source": [
        "# TODO"
      ],
      "outputs": [],
      "metadata": {
        "id": "ausc3jhB9b3b"
      }
    },
    {
      "cell_type": "markdown",
      "source": [
        "Por comodidad, podemos convertir la matriz en un DataFrame en el que las filas sean los documentos y las columnas el vocabulario:"
      ],
      "metadata": {
        "id": "Aw3GweyA9gfZ"
      }
    },
    {
      "cell_type": "code",
      "execution_count": null,
      "source": [
        "wc_df = pd.DataFrame () # TODO"
      ],
      "outputs": [],
      "metadata": {
        "id": "OpquSy5U-pqx"
      }
    },
    {
      "cell_type": "markdown",
      "source": [
        "Con del DataFrame es más fácil hacer consultas. \n",
        "\n",
        "**¿En qué post de stackoverflow aparece más veces la palabra `eclipse`?**\n",
        "\n"
      ],
      "metadata": {
        "id": "EyrNMavD-Y_p"
      }
    },
    {
      "cell_type": "code",
      "execution_count": null,
      "source": [
        "eclipse_idx =  # TODO\n",
        "\n",
        "stackoverflow_df [stackoverflow_df.index == eclipse_idx]"
      ],
      "outputs": [],
      "metadata": {
        "id": "95L2ivubDRjh"
      }
    },
    {
      "cell_type": "markdown",
      "source": [
        "## 2.2 TF*IDF TfidfTransformer\n",
        "\n",
        "\n",
        "Ya hemos visto en qué consiste el método $TF*IDF$. Con el objeto **TfidfTransformer** se pueden calcular las puntuaciones TF-IDF."
      ],
      "metadata": {
        "id": "lGg98DxE4I1r"
      }
    },
    {
      "cell_type": "code",
      "execution_count": null,
      "source": [
        "from sklearn.feature_extraction.text import TfidfTransformer\n",
        "\n",
        "transformer = TfidfTransformer (smooth_idf=True, use_idf=True)\n",
        "tf_idf_matrix = transformer.  #TODO : transformar word_count_vector en tf*idf"
      ],
      "outputs": [],
      "metadata": {
        "id": "eCGm_YVOQrGJ"
      }
    },
    {
      "cell_type": "markdown",
      "source": [
        "Este código ha generado una matriz de puntuaciones tf-idf. ¿Las dimensiones de esta matriz coinciden con la obtenida de `CountVectorize`?"
      ],
      "metadata": {
        "id": "ByyR06R1Fh0e"
      }
    },
    {
      "cell_type": "code",
      "execution_count": null,
      "source": [
        " #TODO"
      ],
      "outputs": [],
      "metadata": {
        "id": "xvhkjYkeD3Nu"
      }
    },
    {
      "cell_type": "markdown",
      "source": [
        "De la misma forma, vamos a convertir la matriz en un DataFrame:"
      ],
      "metadata": {
        "id": "12ykVK8vGxkv"
      }
    },
    {
      "cell_type": "code",
      "execution_count": null,
      "source": [
        "tf_idf_df = pd.DataFrame () # TODO\n",
        "\n",
        "tf_idf_df[tf_idf_df['python']>0.1]['python']"
      ],
      "outputs": [],
      "metadata": {
        "id": "kpwfeDaNSDuQ"
      }
    },
    {
      "cell_type": "markdown",
      "source": [
        "Es posible ordenar valores tf-idf en orden descendente:"
      ],
      "metadata": {
        "id": "luQVcQwXRkfq"
      }
    },
    {
      "cell_type": "code",
      "execution_count": null,
      "source": [
        "tf_idf_df['python'].nlargest(n=5)"
      ],
      "outputs": [],
      "metadata": {
        "id": "QaSxIFojRj_i"
      }
    },
    {
      "cell_type": "markdown",
      "source": [
        "El objetivo a continuación es extraer las $n$ palabras clave (`keywords`) que mejor representen cada una de las cuestiones planteadas en los datos de stackoverflow, según las puntuaciones tf-idf.\n",
        "\n",
        "\n",
        "\n"
      ],
      "metadata": {
        "id": "p6uSHRLUKcZD"
      }
    },
    {
      "cell_type": "code",
      "execution_count": null,
      "source": [
        "def extract_topn_keywords (row, vocabulary, topn=5):\n",
        "  # TODO \n",
        "  # TODO\n",
        "  \n",
        "  result = {}\n",
        "  # TODO\n",
        "   \n",
        "  return result\n",
        "  \n",
        "for row in tf_idf_df[0:2].iterrows():\n",
        "  print (extract_topn_keywords(row[1] , vocabulary))"
      ],
      "outputs": [],
      "metadata": {
        "id": "KwAtG_xQMlVV"
      }
    },
    {
      "cell_type": "code",
      "execution_count": null,
      "source": [
        "stackoverflow_df['keywords'] =  #TODO : para cada documento generar una columna con el diccionario obtenido\n"
      ],
      "outputs": [],
      "metadata": {
        "id": "5TWrB6ZBI8AO"
      }
    },
    {
      "cell_type": "code",
      "execution_count": null,
      "source": [
        "stackoverflow_df.tail(5)"
      ],
      "outputs": [],
      "metadata": {
        "id": "J-gALLOxKVTL"
      }
    },
    {
      "cell_type": "markdown",
      "source": [
        "Ahora hay que buscar los dos posts que sean más similares entre sí. Para ello vamos a calcular la **similitud del coseno** entre las matrices tf- idf:"
      ],
      "metadata": {
        "id": "z815_bdDIPmT"
      }
    },
    {
      "cell_type": "code",
      "execution_count": null,
      "source": [
        "from sklearn.metrics.pairwise import cosine_similarity\n",
        "\n",
        "tf_idf_cossim =  # TODO\n",
        "np.fill_diagonal(tf_idf_cossim, 0.0) # anular la diagonal principal\n",
        "ind =  # TODO: localizar el máximo\n"
      ],
      "outputs": [],
      "metadata": {
        "id": "JiDPGp7SGqBd"
      }
    },
    {
      "cell_type": "code",
      "execution_count": null,
      "source": [
        "# TODO : visualizar ambos posts"
      ],
      "outputs": [],
      "metadata": {
        "id": "aM7oASAeRjUy"
      }
    },
    {
      "cell_type": "code",
      "execution_count": null,
      "source": [
        "import numpy as np\n",
        "import seaborn as sns\n",
        "import matplotlib.pylab as plt\n",
        "\n",
        "f, ax = plt.subplots(figsize=(15, 15))\n",
        "\n",
        "A = tf_idf_cossim.flatten().reshape (500,500)\n",
        "\n",
        "mask = np.zeros_like(A, dtype=np.bool)\n",
        "mask[np.triu_indices_from(mask)] = True\n",
        "\n",
        "ax = sns.heatmap(A, mask=mask, square=True,  fmt='.2f', cbar_kws={\"shrink\": .5},\n",
        "                 vmax=1.0, vmin=.3, cmap=\"hot\")\n",
        "\n",
        "ax.set_title(\"Heatmap of cosine similarity scores\").set_fontsize(15)\n",
        "\n",
        "\n",
        "ax.set_xlabel(\"\")\n",
        "ax.set_ylabel(\"\")\n",
        "plt.show()"
      ],
      "outputs": [],
      "metadata": {
        "id": "lLV-wDXgcgAl"
      }
    },
    {
      "cell_type": "markdown",
      "source": [
        "En esta última sección,  vamos a presentar el algoritmo de clustering [K-Means](https://en.wikipedia.org/wiki/K-means_clustering), un algoritmo de clustering no supervisado que nos va a agrupar las diferentes cuestiones planteadas en Stack Overflow en diferentes grupos.\n",
        "\n",
        "\n",
        "El objetivo de K-Means es sencillo: agrupar datos similares y descubrir patrones subyacentes. Para lograr esto, K-Means busca un número fijo $k$ de centroides en el dataset. Un centroide es el centro de un cluster y un cluster es una collección de datos reunidos que tienen ciertas similitudes entre ellos. El ‘means’ se refiere al promediado de los datos encontrando el centroide. El algoritmo es no supervisado pues no tiene conocimiento de los grupos en el dataset, es decir, encontrará los grupos subyacentes en el dataset.\n",
        "\n",
        "Vamos a ver cómo funciona K-Means para los datos de tf-idf:"
      ],
      "metadata": {
        "id": "-ZfbHaqTH_-4"
      }
    },
    {
      "cell_type": "code",
      "execution_count": null,
      "source": [
        "from sklearn.cluster import KMeans\n",
        "\n",
        "k = 5 \n",
        "kmeans = KMeans(n_clusters=k).fit(tf_idf_df)"
      ],
      "outputs": [],
      "metadata": {
        "id": "0HV3GceGH-2B"
      }
    },
    {
      "cell_type": "markdown",
      "source": [
        "El algoritmo ha agrupado cada uno de los documentos en uno de los 5 cluster definidos:"
      ],
      "metadata": {
        "id": "mt_G930ypJN5"
      }
    },
    {
      "cell_type": "code",
      "execution_count": null,
      "source": [
        "kmeans.labels_ "
      ],
      "outputs": [],
      "metadata": {
        "id": "chxlhLdmI-hq"
      }
    },
    {
      "cell_type": "markdown",
      "source": [
        "Una cuestión importante es que el parámetro que indica el número de cluster $k$ hay que proporcionárselo y no sabemos, a priori, cuántos clúster podría haber subyacentes.\n",
        "\n",
        "Para ello vamos a realizar el proceso con varios valores de $k$ para ver cuál es más adecuado:"
      ],
      "metadata": {
        "id": "e0zFtfv5lWKr"
      }
    },
    {
      "cell_type": "code",
      "execution_count": null,
      "source": [
        "def run_KMeans(max_k, data):\n",
        "    max_k += 1\n",
        "    kmeans_results = dict()\n",
        "    for k in range(2 , max_k):\n",
        "        kmeans = KMeans(n_clusters =  # TODO\n",
        "                        , init = 'k-means++'\n",
        "                        , n_init = 10\n",
        "                        , tol = 0.0001\n",
        "                        , n_jobs = -1\n",
        "                        , random_state = 1\n",
        "                        , algorithm = 'full')\n",
        "\n",
        "        kmeans_results [] =  # TODO : poner en un diccionario\n",
        "    return kmeans_results\n",
        "\n",
        "kmeans_results = kmeans_results = run_KMeans (12, tf_idf_df)"
      ],
      "outputs": [],
      "metadata": {
        "id": "x1QQ_BbtwV3Z"
      }
    },
    {
      "cell_type": "markdown",
      "source": [
        "Para determinar cómo de cohesionado está un cluster en relación con los otros clusters existe una medida denominada silueta (silhouette) que nos indica precisamente esto:"
      ],
      "metadata": {
        "id": "VnCTB3EOxxAk"
      }
    },
    {
      "cell_type": "code",
      "execution_count": null,
      "source": [
        "from sklearn.metrics import silhouette_score\n",
        "\n",
        "def silhouette(kmeans_dict, df, plot=False):\n",
        "    sil = dict()\n",
        "    for k, kmeans in kmeans_dict.items():      \n",
        "        kmeans_labels = kmeans.predict(df)\n",
        "        silhouette_avg = silhouette_score(df, kmeans_labels) \n",
        "        sil[] = # TODO: añadir a diccionario\n",
        "\n",
        "    return sil\n",
        "\n",
        "sil_results = silhouette ( kmeans_results, tf_idf_df )\n",
        "print (sil_results)\n",
        "\n",
        "# TODO: Qué valor de k obtiene el mejor valor de silueta \n",
        "best_k = \n",
        "print (best_k)"
      ],
      "outputs": [],
      "metadata": {
        "id": "nTQXwHlcxreD"
      }
    },
    {
      "cell_type": "markdown",
      "source": [
        "Una vez obtenido el valor de cluster que mejor podría describir la agrupación de los datos, vamos a hacer una predicción sobre los datos con la función `fit_predict` con el objeto kmeans que corresponde a `best_k`:"
      ],
      "metadata": {
        "id": "ItH9V4Aj1RxN"
      }
    },
    {
      "cell_type": "code",
      "execution_count": null,
      "source": [
        "prediction =  # TODO"
      ],
      "outputs": [],
      "metadata": {
        "id": "IMgsTiRs1qnJ"
      }
    },
    {
      "cell_type": "code",
      "execution_count": null,
      "source": [
        "stackoverflow_df['cluster'] =  # TODO: añadir las predicciones a stackoverflow_df\n",
        "\n",
        "stackoverflow_df.head(5)"
      ],
      "outputs": [],
      "metadata": {
        "id": "wgrMybQ64wll"
      }
    },
    {
      "cell_type": "markdown",
      "source": [
        "Una vez definidos los clusters, vamos a ver cuáles son las palabras clave que definen cada uno de los clusters:"
      ],
      "metadata": {
        "id": "RG9EbGQS3NPm"
      }
    },
    {
      "cell_type": "code",
      "execution_count": null,
      "source": [
        "# Definir un par de funciones auxiliares\n",
        "\n",
        "def get_top_features_cluster(tf_idf_array, prediction, n_feats):\n",
        "    labels = np.unique(prediction)\n",
        "    dfs = []\n",
        "    for label in labels:\n",
        "        id_temp = np.where(prediction==label) # \n",
        "        x_means = np.mean(tf_idf_array[id_temp], axis = 0) # \n",
        "        sorted_means = np.argsort(x_means)[::-1][:n_feats] # \n",
        "        features = vectorizer.get_feature_names()\n",
        "        best_features = [(features[i], x_means[i]) for i in sorted_means]\n",
        "        df = pd.DataFrame(best_features, columns = ['words', 'score'])\n",
        "        dfs.append(df)\n",
        "    return dfs\n",
        "\n",
        "\n",
        "def plotWords(dfs, n_feats):\n",
        "    plt.figure(figsize=(8, 4))\n",
        "    for i in range(0, len(dfs)):\n",
        "        plt.title((\"Most Common Words in Cluster {}\".format(i)), fontsize=10, fontweight='bold')\n",
        "        sns.barplot(x = 'score' , y = 'words', orient = 'h' , data = dfs[i][:n_feats])\n",
        "        plt.show()\n",
        "\n",
        "n_feats = 5 # Num. palabras a representar\n",
        "dfs = get_top_features_cluster(tf_idf_df.to_numpy(), prediction, n_feats)\n",
        "plotWords(dfs, n_feats)  # "
      ],
      "outputs": [],
      "metadata": {
        "id": "VtgtDfIbMBfX"
      }
    },
    {
      "cell_type": "markdown",
      "source": [
        "**¿En qué cluster se encuentran las preguntas relativas a Android?** \n",
        "\n",
        "**¿De qué tratan los post/preguntas/documentos que se encuentran en el cluster 7?**"
      ],
      "metadata": {
        "id": "9JQ9W5Cd4BRK"
      }
    },
    {
      "cell_type": "markdown",
      "source": [
        "---\n"
      ],
      "metadata": {
        "id": "hJs5pMB6Z0xx"
      }
    },
    {
      "cell_type": "markdown",
      "source": [
        "# Parte 3. Declaración Universal de los Derechos Humanos"
      ],
      "metadata": {
        "id": "dw6yDxRZL7j9"
      }
    },
    {
      "cell_type": "markdown",
      "source": [
        "La [Declaración Universal de los Derechos Humanos](https://en.wikipedia.org/wiki/Universal_Declaration_of_Human_Rights) es un documento adoptado por la Asamblea General de las Naciones Unidas en su Resolución 217 A (III), el 10 de diciembre de 1948 en París, ​ que recoge en sus 30 artículos los derechos humanos considerados básicos."
      ],
      "metadata": {
        "id": "2vcePD0XLZGb"
      }
    },
    {
      "cell_type": "code",
      "execution_count": null,
      "source": [
        "nltk.download('udhr')\n",
        "  \n",
        "from nltk.corpus import udhr"
      ],
      "outputs": [],
      "metadata": {
        "id": "ltAarFcOFTdq"
      }
    },
    {
      "cell_type": "markdown",
      "source": [
        "Una vez importado el contenido, para ver los idiomas en los que se encuentran disponible:\n"
      ],
      "metadata": {
        "id": "eyvGzUKHU-fe"
      }
    },
    {
      "cell_type": "code",
      "execution_count": null,
      "source": [
        "udhr.fileids()[:10]\n"
      ],
      "outputs": [],
      "metadata": {
        "id": "JPRGkwyIFTgP"
      }
    },
    {
      "cell_type": "markdown",
      "source": [
        "Vamos a seleccionar 5 idiomas para recopilar estadísticas: 4 vienen prefijados y 1 será de tu elección"
      ],
      "metadata": {
        "id": "lleMQNcLWVmk"
      }
    },
    {
      "cell_type": "code",
      "execution_count": null,
      "source": [
        "langs = ['English-Latin1', 'Spanish_Espanol-Latin1', 'French_Francais-Latin1',\n",
        "         'Catalan_Catala-Latin1', ''] #TODO"
      ],
      "outputs": [],
      "metadata": {
        "id": "WwZx3gfUWksI"
      }
    },
    {
      "cell_type": "markdown",
      "source": [
        "Crear un Dataframe con los siguientes datos de cada idioma:\n",
        "\n",
        "- Número de palabras en la Declaración Universal de Derecho Humanos (UDHR, en inglés)\n",
        "\n",
        "- Número de palabras únicas\n",
        "\n",
        "- Longitud media de las palabras\n",
        "\n",
        "- Número de sentencias incluidas\n",
        "\n",
        "- Número medio de palabras por sentencia\n"
      ],
      "metadata": {
        "id": "DuyYMOl5Gjm3"
      }
    },
    {
      "cell_type": "code",
      "execution_count": null,
      "source": [
        "def generate_udhr_stats():\n",
        "  np_udhr=[]\n",
        "  columns=['Language', 'WordCount','WordCountUnique',\n",
        "           'NumberSentences','MeanWordLength','MeanWordsPerSentence']\n",
        "          \n",
        "\n",
        "    for lang in langs:\n",
        "    text = udhr.raw (lang)\n",
        "    # TODO\n",
        "    # TODO\n",
        "    # TODO\n",
        "    # TODO\n",
        "    # TODO\n",
        "    # TODO\n",
        "    \n",
        "    np_udhr.       # TODO\n",
        "  return pd.DataFrame() # TODO\n",
        "\n",
        "udhr_df = generate_udhr_stats()"
      ],
      "outputs": [],
      "metadata": {
        "id": "ZX8xIWuvYke9"
      }
    },
    {
      "cell_type": "code",
      "execution_count": null,
      "source": [
        "udhr_df.head(5)"
      ],
      "outputs": [],
      "metadata": {
        "id": "KvxuxWbCYlSu"
      }
    },
    {
      "cell_type": "markdown",
      "source": [
        "¿Cuál es la ***diversidad léxica*** (relación del número de palabras distintas entre el número total de palabras) en cada idioma? "
      ],
      "metadata": {
        "id": "vycf58eggFo7"
      }
    },
    {
      "cell_type": "code",
      "execution_count": null,
      "source": [
        "def lexical_diversity (row):\n",
        "  return  # TODO\n",
        "\n",
        "udhr_df['LD'] =  # TODO"
      ],
      "outputs": [],
      "metadata": {
        "id": "rueuAmT5YlC0"
      }
    },
    {
      "cell_type": "code",
      "execution_count": null,
      "source": [
        "udhr_df"
      ],
      "outputs": [],
      "metadata": {
        "id": "gD9ZuH1kbjSE"
      }
    },
    {
      "cell_type": "markdown",
      "source": [
        "---"
      ],
      "metadata": {
        "id": "sko3HB4odxdT"
      }
    },
    {
      "cell_type": "markdown",
      "source": [
        "\n",
        "La **ley Zipf** debe su nombre al lingüista norteamericano George Kingsley Zipf y dictamina que un pequeño número de palabras se utilizan todo el tiempo mientras que una gran mayoría de ellas apenas se utiliza. No es muy sorprendente que palabras muy frecuentes en textos en inglés sean `the`, `of` y similares, y que palabras como `intrauterine` apenas se utilicen. [https://en.wikipedia.org/wiki/Zipf%27s_law]\n",
        "\n",
        "La ley Zipf puede escribirse de la siguiente forma: la $r$-ésima palabra más frecuente $f(r)$ escala según la fórmula: $f(r) \\propto \\frac{1}{r^{\\alpha}}$ con $\\alpha \\approx 1$.\n"
      ],
      "metadata": {
        "id": "m2FNmKC34Ny8"
      }
    },
    {
      "cell_type": "code",
      "execution_count": null,
      "source": [
        "import operator\n",
        "from nltk.probability import FreqDist\n",
        "\n",
        "text = udhr.raw( ) # TODO : elegir un idioma \n",
        "\n",
        "token_dict =  # TODO : obtener la frecuencia de todas las palabras \n",
        "sorted_token_dict =  # TODO : ordenar y quedarse con las 50 más frecuentes\n",
        "\n",
        "\n",
        "sorted_token_list\n"
      ],
      "outputs": [],
      "metadata": {
        "id": "bGyoBDzhjb1K"
      }
    },
    {
      "cell_type": "code",
      "execution_count": null,
      "source": [
        "def createZipfTable(freqs):\n",
        "  zipf_table = []\n",
        "  top_frequency =   # TODO : la palabra más frecuente\n",
        "\n",
        "  for index, item in enumerate(freqs , start=1):\n",
        "    relative_frequency = \"1/{}\".format(index)\n",
        "    zipf_frequency = top_frequency * (1 / index)\n",
        "    zipf_table.append({\"word\": item[0], \"actual_frequency\": item[1], \n",
        "                       \"relative_frequency\": relative_frequency , \n",
        "                       \"zipf_frequency\": zipf_frequency })\n",
        "\n",
        "  return zipf_table\n",
        "\n",
        "\n",
        "zipf_table = createZipfTable (sorted_token_list)\n",
        "\n",
        "\n",
        "print(\"|Rank|    Word    |       Freq | Zipf Frac  | Zipf Freq  |\")\n",
        "format_string = \"|{:4}|{:12}|{:12.0f}|{:>12}|{:12.2f}|\"\n",
        "for index, item in enumerate(zipf_table,start=1):\n",
        "        print(format_string.format(index,item[\"word\"],item[\"actual_frequency\"],\n",
        "                                   item[\"relative_frequency\"],item[\"zipf_frequency\"]))"
      ],
      "outputs": [],
      "metadata": {
        "id": "GiwBZ6jctqSp"
      }
    },
    {
      "cell_type": "code",
      "execution_count": null,
      "source": [
        "import numpy as np\n",
        "import matplotlib.pyplot as plt\n",
        "\n",
        "ranks = list (range ( 1, 1+len (zipf_table) ))\n",
        "frequencies = [ rec['actual_frequency']  for rec in zipf_table ]\n",
        "zipf_frequencies = [ rec['zipf_frequency'] for rec in zipf_table ] \n",
        "\n",
        "plt.figure(figsize=(8,6))\n",
        "\n",
        "plt.title(\"Word Frequencies in UDHR:\")\n",
        "plt.ylabel(\"Total Number of Occurrences\")\n",
        "plt.xlabel(\"Rank of words\")\n",
        "\n",
        "plt.plot(\n",
        "    ranks,\n",
        "    frequencies, color='blue', label='Actual freq.',\n",
        "    alpha=0.5\n",
        "  )\n",
        "\n",
        "\n",
        "plt.plot(\n",
        "    ranks,\n",
        "    zipf_frequencies, color=\"orange\", label='Expected Zipf.',linestyle='--',\n",
        "    alpha=0.5\n",
        "  )\n",
        "\n",
        "plt.legend()"
      ],
      "outputs": [],
      "metadata": {
        "id": "36L1eBHuvE_y"
      }
    },
    {
      "cell_type": "markdown",
      "source": [
        "**Comparar si los diferentes idiomas elegidos siguen la ley Zipf o divergen de ella.**"
      ],
      "metadata": {
        "id": "mI38AEP1oShg"
      }
    }
  ]
}