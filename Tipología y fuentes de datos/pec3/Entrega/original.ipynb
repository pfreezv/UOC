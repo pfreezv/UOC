{
  "nbformat": 4,
  "nbformat_minor": 0,
  "metadata": {
    "colab": {
      "name": "TyFdD_PEC3_2021.ipynb",
      "provenance": [],
      "collapsed_sections": [],
      "toc_visible": true
    },
    "kernelspec": {
      "name": "python3",
      "display_name": "Python 3"
    }
  },
  "cells": [
    {
      "cell_type": "markdown",
      "metadata": {
        "id": "yI0cQXupINT9"
      },
      "source": [
        "# PEC 3 \n",
        "\n",
        "\n"
      ]
    },
    {
      "cell_type": "markdown",
      "metadata": {
        "id": "f2jWQ4x0U9Fd"
      },
      "source": [
        "## Parte 1 : RDF y RDFS\n",
        "\n",
        "\n",
        "En este notebook vamos a utilizar algunas librerías python útiles para trabajar con tripletas:\n",
        "\n",
        "*   `rdflib` para trabajar con tripletas RDF\n",
        "*   `rdflib-jsonld` para usar JSON-LD\n",
        "*   `SPARQLWrapper` para ejecutar consultas SPARQL e importar los resultados en el notebook\n",
        "*   `pydotplus` y `graphviz` para visualizar los grafos.\n",
        "\n"
      ]
    },
    {
      "cell_type": "code",
      "metadata": {
        "id": "e5LgDHtIVBw-"
      },
      "source": [
        "! pip install rdflib\n",
        "! pip install rdflib-jsonld\n",
        "! pip install -q sparqlwrapper  \n",
        "! pip install pydotplus\n",
        "! pip install graphviz"
      ],
      "execution_count": null,
      "outputs": []
    },
    {
      "cell_type": "code",
      "metadata": {
        "id": "TE0d87gLVABl"
      },
      "source": [
        "import io\n",
        "from rdflib import Graph as RDFGraph\n",
        "from rdflib import Namespace, URIRef, Literal, BNode\n",
        "from rdflib.namespace import NamespaceManager\n",
        "from rdflib.namespace import CSVW, DC, DCAT, DCTERMS, DOAP, FOAF, ODRL2, ORG, OWL, \\\n",
        "                           PROF, PROV, RDF, RDFS, SDO, SH, SKOS, SOSA, SSN, TIME, \\\n",
        "                           VOID, XMLNS, XSD\n",
        "from rdflib.extras.external_graph_libs import rdflib_to_networkx_graph\n",
        "import rdflib_jsonld\n",
        "from SPARQLWrapper import SPARQLWrapper, JSON, XML, N3, RDF , POST, GET, POSTDIRECTLY, CSV\n",
        "\n",
        "import pydotplus\n",
        "from IPython.display import display, Image\n",
        "from rdflib.tools.rdf2dot import rdf2dot\n",
        "\n",
        "import networkx as nx\n",
        "from networkx import Graph as NXGraph\n",
        "import matplotlib.pyplot as plt\n",
        "import pprint\n",
        "import statistics\n",
        "import collections\n",
        "import warnings\n",
        "warnings.filterwarnings (\"ignore\")"
      ],
      "execution_count": null,
      "outputs": []
    },
    {
      "cell_type": "markdown",
      "metadata": {
        "id": "hXqYaUTY8UMw"
      },
      "source": [
        "\n",
        "Las funciones de la librería `rdflib` permiten convertir los datos en un grafo `RDFGraph` con el que cargar los datos.\n",
        "\n"
      ]
    },
    {
      "cell_type": "code",
      "metadata": {
        "id": "iwnbrGlO90XZ"
      },
      "source": [
        "demo = '''\\\n",
        "<http://bigasterisk.com/foaf.rdf#drewp> <http://www.w3.org/1999/02/22-rdf-syntax-ns#type> <http://xmlns.com/foaf/0.1/Person> .\n",
        "<http://bigasterisk.com/foaf.rdf#drewp> <http://example.com/says>  \"Hello world\" .\n",
        "'''\n",
        "\n",
        "g = RDFGraph()  # crear objeto grafo en el que cargar datos\n",
        "g.parse( data=demo, format =\"n3\") # carga los datos demo\n",
        "\n",
        "print(len(g)) # ver cuántas tripletas : 2\n",
        "\n",
        "for stmt in g:\n",
        "    pprint.pprint(stmt)   # imprimir las tripletas\n",
        "\n"
      ],
      "execution_count": null,
      "outputs": []
    },
    {
      "cell_type": "markdown",
      "metadata": {
        "id": "TbJ8D1cSho2B"
      },
      "source": [
        "Es posible extraer los datos usando las [funciones incluidas](https://rdflib.readthedocs.io/en/stable/) en el paquete `rdflib`:\n",
        "\n",
        "\n"
      ]
    },
    {
      "cell_type": "code",
      "metadata": {
        "id": "GE2SoqUyiC2X"
      },
      "source": [
        "for h, r, t in g.triples((None,None,None)):\n",
        "  print( \" %s  -- %s --> %s  \"  % (h, r ,t) )\n",
        "\n",
        "print  ()\n",
        "print (\"Sujetos\")\n",
        "print (\"----------\")\n",
        "for p in g.subjects():\n",
        "  print (p)\n",
        "\n",
        "print (\"Predicados\")\n",
        "print (\"----------\")\n",
        "for p in g.predicates():\n",
        "  print (p)\n",
        "\n",
        "print (\"Objetos\")\n",
        "print (\"----------\")\n",
        "for p in g.objects():\n",
        "  print (p)"
      ],
      "execution_count": null,
      "outputs": []
    },
    {
      "cell_type": "markdown",
      "metadata": {
        "id": "PFQ7a-86ilpj"
      },
      "source": [
        "También es posible  consultar las tripletas almacenadas en un grafo mediante consultas SPARQL."
      ]
    },
    {
      "cell_type": "code",
      "metadata": {
        "id": "lT7hb91Yjglv"
      },
      "source": [
        "q ='''\n",
        "    SELECT ?h ?r ?t\n",
        "     WHERE {\n",
        "        ?h ?r ?t \n",
        "     }\n",
        "'''\n",
        "\n",
        "result = g.query (q)\n",
        "\n",
        "for row in result:\n",
        "    pprint.pprint(row)   # imprimir las tripletas\n"
      ],
      "execution_count": null,
      "outputs": []
    },
    {
      "cell_type": "markdown",
      "metadata": {
        "id": "tUCIvOIDvzlc"
      },
      "source": [
        "Aunque resulta a veces útil representarlas como grafos."
      ]
    },
    {
      "cell_type": "code",
      "metadata": {
        "id": "FK2616-Iv7EB"
      },
      "source": [
        "def visualize(g):\n",
        "    stream = io.StringIO()\n",
        "    rdf2dot(g, stream, opts = {display})\n",
        "    dg = pydotplus.graph_from_dot_data(stream.getvalue())\n",
        "    png = dg.create_png()\n",
        "    display(Image(png))\n",
        "\n",
        "\n",
        "visualize(g)"
      ],
      "execution_count": null,
      "outputs": []
    },
    {
      "cell_type": "markdown",
      "metadata": {
        "id": "Q6swRIvI6aHz"
      },
      "source": [
        "Con el grafo es posible obtener cualquiera de los otros formatos RDF  con la función `serialize`."
      ]
    },
    {
      "cell_type": "code",
      "metadata": {
        "id": "Rr1smjgNC3ok"
      },
      "source": [
        "target_pretty = g.serialize ( format=\"pretty-xml\")\n",
        "print ( target_pretty )"
      ],
      "execution_count": null,
      "outputs": []
    },
    {
      "cell_type": "markdown",
      "metadata": {
        "id": "F-46YBGQih4J"
      },
      "source": [
        "Con *RDF Schema* se pueden especificar clases y jerarquías."
      ]
    },
    {
      "cell_type": "code",
      "metadata": {
        "id": "xeMexGSki4cB"
      },
      "source": [
        "vehicles_data = \"\"\"\\\n",
        "@prefix ex: <http://example.org/schemas/vehicles#> .\n",
        "@prefix rdf: <http://www.w3.org/1999/02/22-rdf-syntax-ns#> .\n",
        "@prefix rdfs: <http://www.w3.org/2000/01/rdf-schema#> .\n",
        "ex:MotorVehicle       rdf:type          rdfs:Class .\n",
        "ex:PassengerVehicle   rdf:type          rdfs:Class .\n",
        "ex:Van                rdf:type          rdfs:Class .\n",
        "ex:Truck              rdf:type          rdfs:Class .\n",
        "ex:MiniVan            rdf:type          rdfs:Class .\n",
        "\n",
        "ex:PassengerVehicle   rdfs:subClassOf   ex:MotorVehicle .\n",
        "ex:Van                rdfs:subClassOf   ex:MotorVehicle .\n",
        "ex:Truck              rdfs:subClassOf   ex:MotorVehicle .\n",
        "\n",
        "ex:MiniVan            rdfs:subClassOf   ex:Van .\n",
        "ex:MiniVan            rdfs:subClassOf   ex:PassengerVehicle .\n",
        "\"\"\"\n",
        "\n",
        "veh_g = RDFGraph()\n",
        "veh_g.parse (data=vehicles_data, format=\"n3\")\n",
        "visualize ( veh_g )"
      ],
      "execution_count": null,
      "outputs": []
    },
    {
      "cell_type": "markdown",
      "metadata": {
        "id": "rUxTYaauw2-B"
      },
      "source": [
        "Como `rdfs:SubClass` es transitiva y reflexiva, es posible deducir hechos que no están directamente explicitados en las tripletas originales. Si hacemos una consulta para seleccionar los vehículos de motor con SPARQL:"
      ]
    },
    {
      "cell_type": "code",
      "metadata": {
        "id": "F_XguSqBj3iG"
      },
      "source": [
        "result = veh_g.query(\"\"\"\n",
        "SELECT DISTINCT ?s\n",
        "WHERE\n",
        "{\n",
        "  ?s ?p ?o .\n",
        "  ?s rdfs:subClassOf+ ex:MotorVehicle .\n",
        "}\n",
        "\"\"\", initNs={ 'rdfs': RDFS, 'rdf' : RDF, 'ex' : 'http://example.org/schemas/vehicles#' })\n",
        "\n",
        "for row in result:\n",
        "  print (row)"
      ],
      "execution_count": null,
      "outputs": []
    },
    {
      "cell_type": "markdown",
      "metadata": {
        "id": "sMQk5exGkYC2"
      },
      "source": [
        "Advertir que tanto `MiniVan` se muestra como `MotorVehicle` aunque no hay una tripleta que lo indique explícitamente (transitivamente a través de `PassengerVehicle`). "
      ]
    },
    {
      "cell_type": "markdown",
      "metadata": {
        "id": "WABts-9nVKSL"
      },
      "source": [
        "### EJERCICIO"
      ]
    },
    {
      "cell_type": "markdown",
      "metadata": {
        "id": "wiSFxUoQiY10"
      },
      "source": [
        "\n",
        "\n",
        "Vamos a trabajar con las siguientes tripletas. Completar las elementos de las tripletas que faltan para obtener un grafo consistente sobre películas, actores y directores.\n"
      ]
    },
    {
      "cell_type": "code",
      "metadata": {
        "id": "4ldQoJeJIjx-"
      },
      "source": [
        "prefixes = \"\"\"\\\n",
        "@prefix :\t<http://example.org/demo/#> .\n",
        "@prefix rdf:\t<http://www.w3.org/1999/02/22-rdf-syntax-ns#> .\n",
        "@prefix rdfs:\t<http://www.w3.org/2000/01/rdf-schema#> .\n",
        "@prefix foaf: <http://xmlns.com/foaf/0.1/> .\n",
        "\n",
        "\"\"\"\n",
        "\n",
        "data = \"\"\"\\\n",
        ":Person rdf:______ rdfs:Class. # TODO \n",
        "\n",
        ":Actor rdfs:type rdfs:Class;\n",
        "       rdfs:_______ :Person . # TODO \n",
        "\n",
        ":Director rdfs:type rdfs:Class;\n",
        "          rdfs:_______  :___________ . # TODO \n",
        "\n",
        ":Movie rdfs:_______ rdfs:_____ . # TODO \n",
        "\n",
        ":hasActor rdf:_______  rdf:Property;   # TODO \n",
        "             rdfs:_______ :Movie;    # TODO \n",
        "             rdfs:_______ :Actor .  # TODO \n",
        "\n",
        ":hasDirector rdf:_______ rdf:________;  # TODO \n",
        "             rdfs:range :Movie;      # TODO rdfs:_______ :___________\n",
        "             rdfs:domain :Director . # TODO rdfs:_______ :___________\n",
        "\n",
        ":nolan rdf:type :Director;             #TODO rdf:_______\n",
        "       rdfs:label \"Christopher Nolan\". \n",
        "\n",
        ":dicaprio rdf:_______ :________;              #TODO \n",
        "         rdfs:_______ \"Leonardo DiCaprio\".      #TODO \n",
        "\n",
        ":hardy rdf:_______ :__________;        #TODO \n",
        "         rdfs:_______ \"Tom Hardy\".     #TODO \n",
        "\n",
        ":inception  rdf:_______ :_________;         #TODO \n",
        "            rdfs:_______ \"Inception\"@en;    #TODO \n",
        "            rdfs:_______ \"Origen\"@es;       #TODO \n",
        "            :_______ :________;          #TODO \n",
        "            :_______ :________;          #TODO \n",
        "            :hasActor :hardy .           #TODO \n",
        "\n",
        "\n",
        ":eastwood   rdf:_______ :Director;          #TODO \n",
        "            rdf:_______ :Actor;             #TODO \n",
        "            rdfs:label \"Clint_Eastwood\". \n",
        "\n",
        "\n",
        ":milliondollarbaby  rdf:_______ :_________;                   #TODO \n",
        "                    rdfs:_______ \"Million Dollar Baby\"@en;    #TODO \n",
        "                    :_______ :eastwood;                       #TODO  \n",
        "                    :_______  :eastwood .                     #TODO \n",
        "\n",
        "\n",
        ":jedgar rdf:_______ :Movie;             #TODO  \n",
        "        rdfs:_______ \"J. Edgar\"@en;    #TODO \n",
        "        :_______ :eastwood;            #TODO  \n",
        "        :_______ :dicaprio .           #TODO  \n",
        "\n",
        ":batman  rdf:_______ :_________;                   #TODO \n",
        "         rdfs:_______ \"The Dark Knight Rises\"@en;  #TODO \n",
        "         :_______      :nolan;                     #TODO  \n",
        "         :_______  :hardy .                        #TODO  \n",
        "\n",
        "\"\"\"\n",
        "\n",
        "\n",
        "gx = RDFGraph()\n",
        "\n",
        "gx.parse( data=prefixes+data, format =\"n3\") # TODO "
      ],
      "execution_count": null,
      "outputs": []
    },
    {
      "cell_type": "code",
      "metadata": {
        "id": "e9NBOzm3SkM4"
      },
      "source": [
        "# TODO: Cuántas tripletas hay en el grafo\n"
      ],
      "execution_count": null,
      "outputs": []
    },
    {
      "cell_type": "code",
      "metadata": {
        "id": "ombNsa8U461x"
      },
      "source": [
        "# TODO: visualizar el grafo"
      ],
      "execution_count": null,
      "outputs": []
    },
    {
      "cell_type": "markdown",
      "metadata": {
        "id": "Yxp-xb4n3y4B"
      },
      "source": [
        "Serializar el grafo obtenido como documento JSON-LD:"
      ]
    },
    {
      "cell_type": "code",
      "metadata": {
        "id": "zXiQxUuHkONH"
      },
      "source": [
        "# TODO"
      ],
      "execution_count": null,
      "outputs": []
    },
    {
      "cell_type": "markdown",
      "metadata": {
        "id": "9BYmKt-sSjIh"
      },
      "source": [
        "**Q1 - Realizar una consulta SPARQL que resuelva en cuántas películas ha participado Tom Hardy con Christopher Nolan como director.**"
      ]
    },
    {
      "cell_type": "code",
      "metadata": {
        "id": "DI1_CqIHQdh6"
      },
      "source": [
        "result = gx.query (\"\"\" # TODO\n",
        "                   \"\"\" )\n",
        "\n",
        "\n",
        "for row in result:\n",
        "  pass"
      ],
      "execution_count": null,
      "outputs": []
    },
    {
      "cell_type": "markdown",
      "metadata": {
        "id": "wOMNYo6gQevF"
      },
      "source": [
        "**Q2 - Hacer una consulta en SPARQL que nos indique si hay alguna película (obtener el título) que han tenido la misma persona como actor y como director.**"
      ]
    },
    {
      "cell_type": "code",
      "metadata": {
        "id": "C3Yky-kIL1a0"
      },
      "source": [
        "result = gx.query (\"\"\" # TODO\n",
        "                   \"\"\" )\n",
        "\n",
        "\n",
        "for row in result:\n",
        "  pass"
      ],
      "execution_count": null,
      "outputs": []
    },
    {
      "cell_type": "markdown",
      "metadata": {
        "id": "Clmmr6AgItRx"
      },
      "source": [
        "## Parte 2: Ontologías\n",
        "\n",
        "\n",
        "Desde un punto de vista práctico, una **ontología** permite definir un modelo en forma de clases e instancias (como los lenguajes de programación) pero con más detalle o mayor nivel de expresividad. Las ontologías y la programación orientada a objetos tienen muchos elementos en común pero usan diferentes terminología.\n",
        "\n",
        "Existen tres diferencias importantes entre ontologías y orientación a objetos:\n",
        "\n",
        "\n",
        "\n",
        "*   Las propiedades se definen independientemente y fuera de las clases.\n",
        "\n",
        "*   Los individuos pueden pertenecer a una o varias clases (instanciación múltiple)\n",
        "\n",
        "*   La ontología se basa en la suposición de mundo abierto: todo lo que no está expresamente prohibido, está permitido.\n",
        "\n",
        "Existen varias formas de expresar ontologías pero la más frecuente y estandarizada es OWL (Web Ontology Language) que puede guardarse como tripletas RDF en varios formatos/serializaciones.\n",
        "\n",
        "\n",
        "\n",
        "\n",
        "\n"
      ]
    },
    {
      "cell_type": "markdown",
      "metadata": {
        "id": "KGSpwnaFMNBM"
      },
      "source": [
        "Para trabajar con ontologías vamos a usar la librería `Owlready2`. [Owlready2](https://owlready2.readthedocs.io/en/v0.35/intro.html) es un librería que permite utilizar y crear ontologías OWL en Python. \n"
      ]
    },
    {
      "cell_type": "code",
      "metadata": {
        "id": "cfwaM8lHIew4"
      },
      "source": [
        "! pip install owlready2"
      ],
      "execution_count": null,
      "outputs": []
    },
    {
      "cell_type": "code",
      "metadata": {
        "id": "elS9ymETIMmY"
      },
      "source": [
        "from owlready2 import *"
      ],
      "execution_count": null,
      "outputs": []
    },
    {
      "cell_type": "markdown",
      "metadata": {
        "id": "3YM8spEzJHaz"
      },
      "source": [
        "\n",
        "`Owlready2` permite  cargar una ontología de dos formas distintas:\n",
        "\n",
        "1. A partir del IRI (Internationalized Resource Identifier)\n",
        "\n",
        "2. A partir de un archivo local.\n",
        "\n",
        "\n",
        "Y admite los siguientes formatos de archivos:\n",
        "\n",
        "-  RDF/XML\n",
        "-  OWL/XML\n",
        "-  N-Triples\n",
        "\n",
        "\n"
      ]
    },
    {
      "cell_type": "markdown",
      "metadata": {
        "id": "URnNmRlX4xu2"
      },
      "source": [
        "Vamos a cargar una ontología de ejemplo sobre bacterias:\n"
      ]
    },
    {
      "cell_type": "code",
      "metadata": {
        "id": "9hBYY8eSIbdr"
      },
      "source": [
        "onto = get_ontology(\"http://lesfleursdunormal.fr/static/_downloads/bacteria.owl\").load()\n",
        "\n",
        "onto"
      ],
      "execution_count": null,
      "outputs": []
    },
    {
      "cell_type": "markdown",
      "metadata": {
        "id": "dVdrXQ8sNDiS"
      },
      "source": [
        "Cuando se carga una ontología con `Owlready` se traduce a una grafo RDF,   es decir, como tripletas de la forma `sujeto - verbo -\n",
        "objecto`.\n",
        "\n"
      ]
    },
    {
      "cell_type": "markdown",
      "metadata": {
        "id": "EKomQ8kyLh_H"
      },
      "source": [
        " ### 2.1. Contenido de la ontología\n",
        "\n",
        " Mediante las funciones integradas en la librería podemos explorar su contenido. Así para ver las **clases** que contiene:"
      ]
    },
    {
      "cell_type": "code",
      "metadata": {
        "id": "FWOTTbawLYTw"
      },
      "source": [
        "for c in onto.classes(): \n",
        "  print(c.name)"
      ],
      "execution_count": null,
      "outputs": []
    },
    {
      "cell_type": "code",
      "metadata": {
        "id": "B0GmVCk_L6dB"
      },
      "source": [
        "print (onto.Bacterium)\n",
        "print (issubclass(onto.Coccus, onto.Bacterium))\n",
        "print (list(onto.Bacterium.subclasses()))\n",
        "print (onto.Bacterium.descendants(include_self = False) )"
      ],
      "execution_count": null,
      "outputs": []
    },
    {
      "cell_type": "markdown",
      "metadata": {
        "id": "_2yU9QeK6Fp1"
      },
      "source": [
        "También se pueden explorar las **propiedades** definidas para la ontología:"
      ]
    },
    {
      "cell_type": "code",
      "metadata": {
        "id": "qWNAqL9iMWVK"
      },
      "source": [
        "print (list (onto.properties()) ) "
      ],
      "execution_count": null,
      "outputs": []
    },
    {
      "cell_type": "markdown",
      "metadata": {
        "id": "4quVNcbPPjE4"
      },
      "source": [
        "Los atributos `domain` y `range` se utilizan para obtener el dominio y el rango de una propiedad. Estos atributos se proporcionan como una lista."
      ]
    },
    {
      "cell_type": "code",
      "metadata": {
        "id": "ISGCAtRAO0UR"
      },
      "source": [
        "print ( onto.has_grouping.domain )\n",
        "print ( onto.has_grouping.range )"
      ],
      "execution_count": null,
      "outputs": []
    },
    {
      "cell_type": "markdown",
      "metadata": {
        "id": "cAvZTOUC6lKP"
      },
      "source": [
        "Y también se pueden listar las instancias o individuos definidos:"
      ]
    },
    {
      "cell_type": "code",
      "metadata": {
        "id": "hmBTUgBnLy_I"
      },
      "source": [
        "print ( list (onto.individuals()) )"
      ],
      "execution_count": null,
      "outputs": []
    },
    {
      "cell_type": "code",
      "metadata": {
        "id": "kEMKE2Ld5Hm3"
      },
      "source": [
        "onto.destroy ()"
      ],
      "execution_count": null,
      "outputs": []
    },
    {
      "cell_type": "markdown",
      "metadata": {
        "id": "OjZuOELeNzfu"
      },
      "source": [
        "### 2.2. Crear una ontología"
      ]
    },
    {
      "cell_type": "markdown",
      "metadata": {
        "id": "aezY339t7p2i"
      },
      "source": [
        "Lo primero que hay que hacer es crear una ontología vacía con la función `get_ontology` indicándole un IRI:"
      ]
    },
    {
      "cell_type": "code",
      "metadata": {
        "id": "VWUCAc0vRRLD"
      },
      "source": [
        "my_onto = get_ontology ('http://example.org/ontologies/myonto.owl#')"
      ],
      "execution_count": null,
      "outputs": []
    },
    {
      "cell_type": "markdown",
      "metadata": {
        "id": "zOJiyCxg8UWZ"
      },
      "source": [
        "A partir de este momento, cuando añadamos entidades o tripletas es importante indicar la ontología a la que se refieren y esto se realiza con la estructura en Python:\n",
        "```\n",
        "with my_onto:\n",
        "  <código python>\n",
        "```\n",
        "\n",
        "Para crear una clase OWL hay que crear una clase Python que herede de `Thing` o declare de la que hereda:"
      ]
    },
    {
      "cell_type": "code",
      "metadata": {
        "id": "EG9LmfTGRx4R"
      },
      "source": [
        "with my_onto:\n",
        "  class Bacterium (Thing): pass\n",
        "  class Shape (Thing): pass\n",
        "  class Rod (Shape) : pass\n",
        "  class Round (Shape): pass\n",
        "\n",
        "  AllDisjoint ([Round, Rod])\n"
      ],
      "execution_count": null,
      "outputs": []
    },
    {
      "cell_type": "markdown",
      "metadata": {
        "id": "RmgSfWMH9QiU"
      },
      "source": [
        "Las clases son cascarones vacíos (no tienen métodos) y por eso se usa la palabra clave `pass`.\n",
        "\n",
        "\n",
        "Puesto que en OWL las propiedades se asimilan a las clases, las propiedades se crean definiendo una clase que hereda de `DataProperty`, `ObjectProperty` o `AnnotationProperty` aunque hay más. Y se pueden crear sub-propiedades que heredan de otras propiedades.\n"
      ]
    },
    {
      "cell_type": "code",
      "metadata": {
        "id": "tBVA9fLoANDS"
      },
      "source": [
        "with my_onto:\n",
        "  class has_shape ( ObjectProperty ):\n",
        "    domain = [Bacterium]\n",
        "    range = [Shape]\n",
        "\n",
        "  class has_rare_shape ( has_shape ): pass"
      ],
      "execution_count": null,
      "outputs": []
    },
    {
      "cell_type": "markdown",
      "metadata": {
        "id": "3BYKd4UzA1Yf"
      },
      "source": [
        "Los individuos se crean como cualquier clase en Python. `Owlready` les asigna automáticamente una nueva IRI basada en la IRI de la ontología. "
      ]
    },
    {
      "cell_type": "code",
      "metadata": {
        "id": "vYfzTJmDBG-R"
      },
      "source": [
        "my_bacterium = my_onto.Bacterium ()\n",
        "my_bacterium.iri"
      ],
      "execution_count": null,
      "outputs": []
    },
    {
      "cell_type": "markdown",
      "metadata": {
        "id": "ebKt8l9UCP93"
      },
      "source": [
        "Aunque también es posible darle un nombre y asignarle propiedades:"
      ]
    },
    {
      "cell_type": "code",
      "metadata": {
        "id": "cjUP5hbLCPrn"
      },
      "source": [
        "my_bacterium = my_onto.Bacterium ('my_bacterium', has_shape = [Rod()] ) \n",
        "\n",
        "\n",
        "my_bacterium.iri"
      ],
      "execution_count": null,
      "outputs": []
    },
    {
      "cell_type": "markdown",
      "metadata": {
        "id": "c5ZMGLI_CI7g"
      },
      "source": [
        "Por último, también es posible guardar la ontología en un archivo con `save()`, borrar entidades y la propia ontología.\n",
        " "
      ]
    },
    {
      "cell_type": "code",
      "metadata": {
        "id": "MoeNt3w9DP0I"
      },
      "source": [
        "destroy_entity( my_bacterium)\n",
        "\n",
        "my_onto.destroy ()"
      ],
      "execution_count": null,
      "outputs": []
    },
    {
      "cell_type": "markdown",
      "metadata": {
        "id": "wEMniFznVU2K"
      },
      "source": [
        "---\n",
        "### EJERCICIO\n",
        "\n",
        "Crear una ontología que tenga las clases necesarias para definir tipos de preparación del café. Así cada café (`Coffee`) puede tener (`from_region`) una región de origen (`Region`) que pueden ser Latinoamérica (`Latin_America`), Asia-Pacífico (`Asia_Pacific`) o múltiple (`Multi_Region`). La propiedad inversa de `from_region` es `grown_in` que nos indica los cafés en función de su procedencia.\n",
        "\n",
        "Los cafés se tuestan (`has_roast`) según diferentes tipos de tostado (`Roast`): así tenemos tostados suaves (`Blonde`), tostados intensos (`Dark`) o intermedios (`Medium`).\n",
        "\n",
        "\n",
        "\n"
      ]
    },
    {
      "cell_type": "code",
      "metadata": {
        "id": "OgwO9OtVwYGa"
      },
      "source": [
        "coffee_onto = get_ontology(\"http://example.org/coffee_onto\")\n",
        "\n",
        "set_log_level(9) # el log a este nivel permite ver lo que se va haciendo en la ontología\n",
        "\n",
        "with coffee_onto:\n",
        "  class Coffee(Thing): pass\n",
        "\n",
        "  # TODO\n",
        "  \n",
        "\n"
      ],
      "execution_count": null,
      "outputs": []
    },
    {
      "cell_type": "markdown",
      "metadata": {
        "id": "zz9wWbjSJP5l"
      },
      "source": [
        "Crear al menos tres instancias de cafés con diferentes tipos de tostado y de distintos orígenes."
      ]
    },
    {
      "cell_type": "code",
      "metadata": {
        "id": "YemkrN0VwxMy"
      },
      "source": [
        "# TODO\n",
        "\n",
        "coffee1 = \n",
        "coffee2 = \n",
        "coffee3 = \n",
        "..."
      ],
      "execution_count": null,
      "outputs": []
    },
    {
      "cell_type": "markdown",
      "metadata": {
        "id": "GMpoOFqYJs5F"
      },
      "source": [
        "Se pueden añadir etiquetas en varios idiomas para describir cada una de las instancias. Utilice el método `label` para pasar un array `[]` de cadenas de texto que podrá localizar usando la función `locstr` (https://owlready2.readthedocs.io/en/latest/annotations.html)."
      ]
    },
    {
      "cell_type": "code",
      "metadata": {
        "id": "ZNO3GK-Z11zG"
      },
      "source": [
        "# TODO"
      ],
      "execution_count": null,
      "outputs": []
    },
    {
      "cell_type": "markdown",
      "metadata": {
        "id": "Crj6Ku9HMVZ-"
      },
      "source": [
        "Es posible obtener un grafo RDF a partir de las clases e instancias que se han definido para la ontología "
      ]
    },
    {
      "cell_type": "code",
      "metadata": {
        "id": "ExDLMD6Y9P3W"
      },
      "source": [
        "graph = default_world.as_rdflib_graph()\n",
        "len(graph)"
      ],
      "execution_count": null,
      "outputs": []
    },
    {
      "cell_type": "markdown",
      "metadata": {
        "id": "5T5K_0_5Ne-s"
      },
      "source": [
        "A partir de este punto, es posible consultar los elementos de la ontología con las funciones de `rdflib` o con SPARQL.\n"
      ]
    },
    {
      "cell_type": "code",
      "metadata": {
        "id": "Wa7f3oSbOAXe"
      },
      "source": [
        "for h, r, t in graph.triples((None,RDFS.label,None)):\n",
        "  print( \" %s  -- %s --> %s  \"  % (h, r ,t) )"
      ],
      "execution_count": null,
      "outputs": []
    },
    {
      "cell_type": "markdown",
      "metadata": {
        "id": "y2KRu4MUOjCV"
      },
      "source": [
        "**Q1 - Usando SPARQL obtenga las etiquetas de las instancias de los cafés definidos en la ontología (filtre por un sólo idioma).**"
      ]
    },
    {
      "cell_type": "code",
      "metadata": {
        "id": "79WrB8wN-OS-"
      },
      "source": [
        "graph.bind(\"owl\", \"http://www.w3.org/2002/07/owl#\")\n",
        "graph.bind(\"rdfs\", \"http://www.w3.org/2000/01/rdf-schema\")\n",
        "graph.bind(\"\", \"http://example.org/coffee_onto#\")\n",
        "\n",
        "result1 = graph.query(\"\"\" # TODO\n",
        "                \"\"\" )\n",
        "\n",
        "for label in result1:\n",
        "  pass"
      ],
      "execution_count": null,
      "outputs": []
    },
    {
      "cell_type": "markdown",
      "metadata": {
        "id": "mmfOOIU9QBf2"
      },
      "source": [
        "**Q2 - Obtener el número de cafés que hay definidos por cada una de las regiones**"
      ]
    },
    {
      "cell_type": "code",
      "metadata": {
        "id": "-9GiXoJWP0pK"
      },
      "source": [
        "result2 = graph.query(\"\"\" # TODO\n",
        "                \"\"\" )\n",
        "\n",
        "for zone in result2:\n",
        "  pass"
      ],
      "execution_count": null,
      "outputs": []
    },
    {
      "cell_type": "markdown",
      "metadata": {
        "id": "djrfHFG3RmFj"
      },
      "source": [
        "**Q3 - Obtener una tabla con los datos donde cada fila es una instancia definida en la ontología y las columnas son el nombre (`label`), el tipo de tostado (`Roast`) y la región de origen (`Region`) (si las hay). **"
      ]
    },
    {
      "cell_type": "code",
      "metadata": {
        "id": "3o-LHUMmPScV"
      },
      "source": [
        "result3 = graph.query(\"\"\" # TODO\n",
        "                 \"\"\" )\n",
        "\n",
        "\n",
        "for row in result3:\n",
        "  pass"
      ],
      "execution_count": null,
      "outputs": []
    },
    {
      "cell_type": "code",
      "metadata": {
        "id": "Dudu5wc7CDuW"
      },
      "source": [
        "coffee_onto.destroy ()"
      ],
      "execution_count": null,
      "outputs": []
    }
  ]
}