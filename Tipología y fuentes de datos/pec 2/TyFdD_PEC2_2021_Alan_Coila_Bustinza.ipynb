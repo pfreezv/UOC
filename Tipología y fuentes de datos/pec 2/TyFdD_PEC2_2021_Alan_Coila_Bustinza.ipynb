{
  "nbformat": 4,
  "nbformat_minor": 0,
  "metadata": {
    "colab": {
      "name": "TyFdD_PEC2_2021.ipynb",
      "provenance": [],
      "collapsed_sections": []
    },
    "interpreter": {
      "hash": "d68aa252cefc0d28dc6400d41d4c9673702e640c5ae66b886190fff64ef72be0"
    },
    "kernelspec": {
      "display_name": "Python 3.9.7 64-bit (windows store)",
      "name": "python3"
    },
    "language_info": {
      "codemirror_mode": {
        "name": "ipython",
        "version": 3
      },
      "file_extension": ".py",
      "mimetype": "text/x-python",
      "name": "python",
      "nbconvert_exporter": "python",
      "pygments_lexer": "ipython3",
      "version": "3.9.7"
    }
  },
  "cells": [
    {
      "cell_type": "markdown",
      "metadata": {
        "id": "dISYzX4ob2l7"
      },
      "source": [
        "# PEC 2. Introducción a los sistemas de recuperación de información.\n",
        "\n",
        "En esta PEC vamos a desarrollar un sistema de recuperación de información básico. Partiendo de una lista de documentos de texto tendrás que usar las técnicas de recuperación de información vistas en la asignatura para obtener, procesar y analizar datos útiles a partir del contenido.\n",
        "\n",
        "\n",
        "\n",
        "\n",
        "```\n",
        "#TODO:Alan David Coila Bustinza\n",
        "```\n",
        "\n",
        "\n",
        "\n"
      ]
    },
    {
      "cell_type": "markdown",
      "metadata": {
        "id": "oio_-Jm3K_kJ"
      },
      "source": [
        "\n",
        "\n",
        "---\n",
        "\n",
        "# **Parte 1**. Tareas básicas\n",
        "\n"
      ]
    },
    {
      "cell_type": "markdown",
      "metadata": {
        "id": "ED51nVLeFy-v"
      },
      "source": [
        "Además de las ya clásicas `pandas` y `numpy`, vamos a utilizar la librería [NTLK](https://es.wikipedia.org/wiki/NLTK) (Natural Language Toolkit), una librería Python utilizada para analizar texto y aprendizaje automático."
      ]
    },
    {
      "cell_type": "code",
      "metadata": {
        "id": "ZSx3piMEFn-4",
        "colab": {
          "base_uri": "https://localhost:8080/"
        },
        "outputId": "feac26aa-1e40-4472-888a-e67d1292fb32"
      },
      "source": [
        "import numpy as np\n",
        "import pandas as pd\n",
        "import matplotlib.pyplot as plt\n",
        "%matplotlib inline\n",
        "\n",
        "import nltk\n",
        "nltk.download('stopwords')\n",
        "nltk.download('punkt')\n"
      ],
      "execution_count": 1,
      "outputs": [
        {
          "output_type": "stream",
          "name": "stdout",
          "text": [
            "[nltk_data] Downloading package stopwords to /root/nltk_data...\n",
            "[nltk_data]   Unzipping corpora/stopwords.zip.\n",
            "[nltk_data] Downloading package punkt to /root/nltk_data...\n",
            "[nltk_data]   Unzipping tokenizers/punkt.zip.\n"
          ]
        },
        {
          "output_type": "execute_result",
          "data": {
            "text/plain": [
              "True"
            ]
          },
          "metadata": {},
          "execution_count": 1
        }
      ]
    },
    {
      "cell_type": "markdown",
      "metadata": {
        "id": "_jFbru22JeCt"
      },
      "source": [
        "## 1.1 Separando las palabras (Tokenization)\n",
        "\n",
        "El significado de cada sentencia se obtiene de las palabra que contiene. Así que analizando las palabras presentes en un texto se puede interpretar el significado. Así que lo primero que hay que hacer para poder tratar el texto es separar las palabras que lo componen, es decir, hacer una lista  de palabras. El modelo que vamos a utilizar aquí se denomina [**bolsa-de-palabras**](https://es.wikipedia.org/wiki/Modelo_bolsa_de_palabras) (bag-of-words) ya que nos interesan las palabras sin importar su posición o importancia en el documento.\n",
        "\n",
        "\n",
        "La separación de las palabres o tokenization consiste en separar el texto en palabras, también denominados tokens. Generalmente el `espacio`se utiliza para separar palabras y elementos como los puntos, comas, dos puntos, etc. se utilizan para separar sentencias.\n",
        "\n",
        "\n"
      ]
    },
    {
      "cell_type": "markdown",
      "metadata": {
        "id": "CK4PwSVyKU3D"
      },
      "source": [
        "Hay multiples formas de realizar la separación de palabras para un texto dado. \n",
        "\n",
        "### 1.1.1 Funciones de Python\n",
        "\n",
        "Se puede usar la función `split()` para separar una cadena de texto en una lista de palabras. Por defecto `split()` utiliza el espacio en blanco, aunque se puede usar cualquier caracter.\n"
      ]
    },
    {
      "cell_type": "code",
      "metadata": {
        "id": "KuK5q-MOKf0q",
        "colab": {
          "base_uri": "https://localhost:8080/"
        },
        "outputId": "1a7ebe96-89df-4cfe-c154-b80ecb586f63"
      },
      "source": [
        "text01 = \"Children shouldn't drink a sugary drink before bed.\"\n",
        "text01.split(' ')"
      ],
      "execution_count": 2,
      "outputs": [
        {
          "output_type": "execute_result",
          "data": {
            "text/plain": [
              "['Children', \"shouldn't\", 'drink', 'a', 'sugary', 'drink', 'before', 'bed.']"
            ]
          },
          "metadata": {},
          "execution_count": 2
        }
      ]
    },
    {
      "cell_type": "markdown",
      "metadata": {
        "id": "xuZQafeDKiTj"
      },
      "source": [
        "El método `split()` de Python no considera los signos de puntuación como elementos separados.\n",
        "\n"
      ]
    },
    {
      "cell_type": "markdown",
      "metadata": {
        "id": "IsTbr0lQvBtQ"
      },
      "source": [
        "### 1.1.2 Expresiones regulares\n",
        "\n",
        "El módulo `re` ofrece un conjunto de funciones para buscar coincidencias en una cadena de texto. Una *expresión regular* es una secuencia de caracteres que definen un patrón de búsqueda."
      ]
    },
    {
      "cell_type": "code",
      "metadata": {
        "id": "b-D5UYVfxW9X",
        "colab": {
          "base_uri": "https://localhost:8080/"
        },
        "outputId": "26c0dd7d-5530-4d54-c9f7-4ffe3744aa48"
      },
      "source": [
        "import re\n",
        "\n",
        "text02 = \"\"\"There are multiple ways we can perform tokenization on given text data. We can choose any method based on language, library and purpose of modeling.\"\"\"\n",
        "tokens = re.split(r\"\\s\", text02)  # TODO: usar una expresión regular para separar las palabras\n",
        "print(tokens)\n"
      ],
      "execution_count": 3,
      "outputs": [
        {
          "output_type": "stream",
          "name": "stdout",
          "text": [
            "['There', 'are', 'multiple', 'ways', 'we', 'can', 'perform', 'tokenization', 'on', 'given', 'text', 'data.', 'We', 'can', 'choose', 'any', 'method', 'based', 'on', 'language,', 'library', 'and', 'purpose', 'of', 'modeling.']\n"
          ]
        }
      ]
    },
    {
      "cell_type": "markdown",
      "metadata": {
        "id": "I9s_37f8xtCT"
      },
      "source": [
        "### 1.1.3 Con NLTK\n",
        "\n",
        "Natural Language Toolkit (NLTK) tiene la función `word_tokenize()` para separación de palabras y `sent_tokenize()` para separación de sentencias.\n",
        "\n"
      ]
    },
    {
      "cell_type": "code",
      "metadata": {
        "id": "x8t62gvCKrkD",
        "colab": {
          "base_uri": "https://localhost:8080/"
        },
        "outputId": "e2a9753f-3326-4475-96ae-1026b54465cd"
      },
      "source": [
        "from nltk.tokenize import sent_tokenize, word_tokenize\n",
        "\n",
        "text03 = \"<p>This is the first sentence. A gallon-of-milk in the U.S. costs $2.99. Is this the third sentence? Yes, it is!</p>\"\n",
        "\n",
        "for sent in sent_tokenize(text03): # TODO: separar las sentencias \n",
        "  print (word_tokenize(sent)) # TODO: separar las palabras  "
      ],
      "execution_count": 4,
      "outputs": [
        {
          "output_type": "stream",
          "name": "stdout",
          "text": [
            "['<', 'p', '>', 'This', 'is', 'the', 'first', 'sentence', '.']\n",
            "['A', 'gallon-of-milk', 'in', 'the', 'U.S.', 'costs', '$', '2.99', '.']\n",
            "['Is', 'this', 'the', 'third', 'sentence', '?']\n",
            "['Yes', ',', 'it', 'is', '!', '<', '/p', '>']\n"
          ]
        }
      ]
    },
    {
      "cell_type": "markdown",
      "metadata": {
        "id": "oIJt7ZFTDQSY"
      },
      "source": [
        "## 1.2. Eliminación de números y símbolos. Conversión a minúsculas.\n",
        "\n",
        "Como se puede comprobar, `word_tokenizer()` mantiene los signos de puntuación así como los los números y otros símbolos.\n",
        "\n",
        "Una estrategia para reducir el número de palabras/tokens es convertirlas a minúsculas, pues algunos signos de puntuación modifican la letra inicial de las palabras. Así se consigue reducir el número de variantes de una misma palabra.\n",
        "\n",
        "\n"
      ]
    },
    {
      "cell_type": "code",
      "metadata": {
        "id": "42rTEi1l-3SR",
        "colab": {
          "base_uri": "https://localhost:8080/"
        },
        "outputId": "8e5454cc-aa1c-4e6b-9889-bef111c168b2"
      },
      "source": [
        "import string\n",
        "\n",
        "def remove_tags (s):\n",
        " \n",
        "  p = re.compile('<.*?>')  # TODO: eliminar tags html\n",
        "  return re.sub(p,'', s)  # TODO\n",
        "\n",
        "# TODO : eliminar tags, tokenizar, convertir a minúsculas y eliminar símbolos no alfabéticos y números \n",
        "def tokenize_and_remove_punctuations(s):\n",
        "    remove_tag = remove_tags(s)\n",
        "\n",
        "    text=remove_tag.lower()\n",
        "    text=re.sub(\"\",\"\",text)\n",
        "    text=re.sub(\"(\\\\d|\\\\W)+\",\" \",text)\n",
        "    text=re.sub(\"[_=]\",' ',text)\n",
        "    return word_tokenize(text)\n",
        "\n",
        "print (tokenize_and_remove_punctuations (text03))\n",
        "\n"
      ],
      "execution_count": 5,
      "outputs": [
        {
          "output_type": "stream",
          "name": "stdout",
          "text": [
            "['this', 'is', 'the', 'first', 'sentence', 'a', 'gallon', 'of', 'milk', 'in', 'the', 'u', 's', 'costs', 'is', 'this', 'the', 'third', 'sentence', 'yes', 'it', 'is']\n"
          ]
        }
      ]
    },
    {
      "cell_type": "markdown",
      "metadata": {
        "id": "_9I2sR40MnSQ"
      },
      "source": [
        "## 1.3. Palabras vacías\n",
        "\n",
        "Las *palabras vacías* (stopwords) son palabras más comunes en cualquier lenguaje, tienen sentido gramatical pero con poco significado para el análisis de un texto. Estas palabras vacías se incluyen artículos, preposiciones, conjunciones, pronombres, etc. así que su eliminación reduce considerablemente el número de palabras.\n",
        "\n",
        "NLTK tiene listas de palabras vacías en 16 idiomas. En este caso, se ha cargado la lista en inglés.\n",
        "\n"
      ]
    },
    {
      "cell_type": "code",
      "metadata": {
        "id": "jcrShuseB4ip",
        "colab": {
          "base_uri": "https://localhost:8080/"
        },
        "outputId": "4e5373a1-ec99-4e7d-fd36-621998668a5f"
      },
      "source": [
        "# TODO : dada una lista de tokens, suprimir aquellos que sean palabras vacías o que su longitud es menor o igual 2\n",
        "\n",
        "\n",
        "def remove_stop_words(tokens):\n",
        "    stopwords = nltk.corpus.stopwords.words('english')\n",
        "    filtered_words = [x for x in tokens if x.lower() not in stopwords and len(x) > 2]  # TODO\n",
        "    return filtered_words\n",
        "\n",
        "\n",
        "len (remove_stop_words ( tokenize_and_remove_punctuations (text03)  ) ) == 8\n"
      ],
      "execution_count": 6,
      "outputs": [
        {
          "output_type": "execute_result",
          "data": {
            "text/plain": [
              "True"
            ]
          },
          "metadata": {},
          "execution_count": 6
        }
      ]
    },
    {
      "cell_type": "markdown",
      "metadata": {
        "id": "W2VeHy1uJqiV"
      },
      "source": [
        "## 1.4. Normalización\n",
        "\n",
        "Muchos idiomas contienen palabras derivadas de otras y esto se denomina [flexión](https://es.wikipedia.org/wiki/Flexi%C3%B3n_(ling%C3%BC%C3%ADstica)). La flexión es la modificación de una para expresar diferentes categorías gramaticales como persona, número, género, etc.\n",
        "\n",
        "Tratar esta flexión para llevar las palabras a una forma base se denomina **normalización de palabras**. La normalización permite que si se busca por una palabra se haga al mismo tiempo por todas sus flexiones.\n",
        "\n",
        "La **lematización** es el proceso de reducir la inflexión de las palabras para llevarla a su forma origen o raíz. El lema es la parte de la palabra a la que se añade la flexión.\n",
        "\n",
        "En NLTK hay disponibles diferentes lematizadores aunque aquí vamos a utilizar el más conocido: [algoritmo de Porter](https://es.wikipedia.org/wiki/Algoritmo_de_Porter). \n",
        "\n",
        "\n",
        "Podéis ver algo más de estos procesos en \n",
        "https://www.datacamp.com/community/tutorials/stemming-lemmatization-python"
      ]
    },
    {
      "cell_type": "code",
      "metadata": {
        "id": "qI7x5BOHJqG_",
        "colab": {
          "base_uri": "https://localhost:8080/"
        },
        "outputId": "ede51abe-5e13-4037-8791-811f02af3f99"
      },
      "source": [
        "\n",
        "from nltk.stem import PorterStemmer\n",
        "\n",
        "def stem_words(tokens):\n",
        "    stemmer = PorterStemmer()\n",
        "    # TODO : obtener la versión básica de todos los tokens\n",
        "    stemmed_words = [stemmer.stem(x) for x in tokens]\n",
        "    return stemmed_words\n",
        "\n",
        "\n",
        "stem_words ( remove_stop_words(tokenize_and_remove_punctuations (text03)) )\n"
      ],
      "execution_count": 7,
      "outputs": [
        {
          "output_type": "execute_result",
          "data": {
            "text/plain": [
              "['first', 'sentenc', 'gallon', 'milk', 'cost', 'third', 'sentenc', 'ye']"
            ]
          },
          "metadata": {},
          "execution_count": 7
        }
      ]
    },
    {
      "cell_type": "markdown",
      "metadata": {
        "id": "b88Wpw_m2afn"
      },
      "source": [
        "Una vez que ya están realizadas las operaciones básicas sobre el texto, es momento de ponerlo todo junto en la función `preprocess_data ()` que recibe un array de pares `(documentId, text)` y aplica las transformaciones anteriormente descritas."
      ]
    },
    {
      "cell_type": "code",
      "metadata": {
        "id": "CV3V7b68FTa6"
      },
      "source": [
        "def preprocess_text ( text , stem=True):\n",
        "    tokens = tokenize_and_remove_punctuations (text)        # TODO : tokenizar y eliminar puntuación\n",
        "    filtered_tokens = remove_stop_words(tokens)     # TODO : eliminar palabras vacías\n",
        "    if stem :\n",
        "        stemmed_tokens = stem_words(filtered_tokens)    # TODO : normalizar\n",
        "    else:\n",
        "        stemmed_tokens=filtered_tokens  # TODO\n",
        "    return stemmed_tokens\n",
        "\n",
        "def preprocess_data(contents, stem=True):\n",
        "    dataDict = {}\n",
        "    for content in contents:\n",
        "        dataDict[content[0]] = preprocess_text(content[1], stem)\n",
        "    return dataDict\n"
      ],
      "execution_count": 8,
      "outputs": []
    },
    {
      "cell_type": "code",
      "metadata": {
        "id": "8SLxkerz5FwZ",
        "colab": {
          "base_uri": "https://localhost:8080/"
        },
        "outputId": "a7ee9e22-0c53-43a7-c888-e1f5a267dc0a"
      },
      "source": [
        "document_1 = \"I love watching movies when it's cold outside ;-)\"\n",
        "document_2 = \"Toy Story is the best animation movie ever, I love it!\"\n",
        "document_3 = \"Watching horror movies alone at night is really scary\"\n",
        "document_4 = \"He loves to watch films filled with suspense and unexpected plot twists\"\n",
        "document_5 = \"My mom loves to watch movies. My dad hates movie theaters. My brothers like any kind of movie. And I haven't watched a single movie since I got into college\"\n",
        "documents = [document_1, document_2, document_3, document_4, document_5]\n",
        "\n",
        "docIds = ['doc01','doc02','doc03','doc04','doc05']\n",
        "\n",
        "documents_list = zip(docIds,documents)# TODO : generar una lista de la forma  [('doc01': 'I love..'), ... ]\n",
        "\n",
        "\n",
        "data_docs = preprocess_data(documents_list)  # TODO : preprocesar la lista de documentos de ejemplo\n",
        "data_docs\n"
      ],
      "execution_count": 9,
      "outputs": [
        {
          "output_type": "execute_result",
          "data": {
            "text/plain": [
              "{'doc01': ['love', 'watch', 'movi', 'cold', 'outsid'],\n",
              " 'doc02': ['toy', 'stori', 'best', 'anim', 'movi', 'ever', 'love'],\n",
              " 'doc03': ['watch', 'horror', 'movi', 'alon', 'night', 'realli', 'scari'],\n",
              " 'doc04': ['love',\n",
              "  'watch',\n",
              "  'film',\n",
              "  'fill',\n",
              "  'suspens',\n",
              "  'unexpect',\n",
              "  'plot',\n",
              "  'twist'],\n",
              " 'doc05': ['mom',\n",
              "  'love',\n",
              "  'watch',\n",
              "  'movi',\n",
              "  'dad',\n",
              "  'hate',\n",
              "  'movi',\n",
              "  'theater',\n",
              "  'brother',\n",
              "  'like',\n",
              "  'kind',\n",
              "  'movi',\n",
              "  'watch',\n",
              "  'singl',\n",
              "  'movi',\n",
              "  'sinc',\n",
              "  'got',\n",
              "  'colleg']}"
            ]
          },
          "metadata": {},
          "execution_count": 9
        }
      ]
    },
    {
      "cell_type": "markdown",
      "metadata": {
        "id": "WpDoPJNOJmwE"
      },
      "source": [
        "## 1.5. Frecuencia de las palabras\n"
      ]
    },
    {
      "cell_type": "markdown",
      "metadata": {
        "id": "tdgkCF-rRn88"
      },
      "source": [
        "Ahora vamos a ver cómo de importante es una palabra/token en los documentos. \n",
        "\n",
        "Lo primero que hay que hacer es obtener un vocabulario que no es más que la lista de todos los tokens únicos que aparecen en todos los documentos.\n",
        "\n"
      ]
    },
    {
      "cell_type": "code",
      "metadata": {
        "id": "ap24675u5Tmw",
        "colab": {
          "base_uri": "https://localhost:8080/"
        },
        "outputId": "7d374318-42fc-442b-b0ed-e628a8590183"
      },
      "source": [
        "def get_vocabulary(data):\n",
        "    tokens = []\n",
        "    for token_list in data.values():\n",
        "        tokens=tokens +token_list # TODO\n",
        "\n",
        "    fdist={}\n",
        "    for word in sorted(set(tokens)):    \n",
        "        \n",
        "        fdist[word] = tokens.count(word)\n",
        "    return list(fdist.keys())\n",
        "    \n",
        "\n",
        "get_vocabulary (data_docs)\n"
      ],
      "execution_count": 10,
      "outputs": [
        {
          "output_type": "execute_result",
          "data": {
            "text/plain": [
              "['alon',\n",
              " 'anim',\n",
              " 'best',\n",
              " 'brother',\n",
              " 'cold',\n",
              " 'colleg',\n",
              " 'dad',\n",
              " 'ever',\n",
              " 'fill',\n",
              " 'film',\n",
              " 'got',\n",
              " 'hate',\n",
              " 'horror',\n",
              " 'kind',\n",
              " 'like',\n",
              " 'love',\n",
              " 'mom',\n",
              " 'movi',\n",
              " 'night',\n",
              " 'outsid',\n",
              " 'plot',\n",
              " 'realli',\n",
              " 'scari',\n",
              " 'sinc',\n",
              " 'singl',\n",
              " 'stori',\n",
              " 'suspens',\n",
              " 'theater',\n",
              " 'toy',\n",
              " 'twist',\n",
              " 'unexpect',\n",
              " 'watch']"
            ]
          },
          "metadata": {},
          "execution_count": 10
        }
      ]
    },
    {
      "cell_type": "markdown",
      "metadata": {
        "id": "cS802HVsRsQp"
      },
      "source": [
        "Para ello podemos calcular la frecuencia de cada término contando el número de veces que aparece en cada documento, que será una medida de su peso o importancia.\n",
        "\n",
        "$TF (t,d) = f_{t,d}$  (#número de repeticiones del término $t$ en el documento $d$)"
      ]
    },
    {
      "cell_type": "code",
      "metadata": {
        "id": "mvPko3Wm7Y8o",
        "colab": {
          "base_uri": "https://localhost:8080/"
        },
        "outputId": "40e1bfd6-ed2e-4cfc-b8be-f11d33d1326f"
      },
      "source": [
        "from nltk.probability import FreqDist\n",
        "\n",
        "def calculate_tf(tokens):\n",
        "    tf_score = {}\n",
        "    for token in sorted(tokens):\n",
        "        tf_score[token] = FreqDist(tokens)[token] # TODO: calcular tf\n",
        "    \n",
        "    return tf_score\n",
        "\n",
        "fdist = calculate_tf ( data_docs['doc05'])\n",
        "\n",
        "fdist"
      ],
      "execution_count": 11,
      "outputs": [
        {
          "output_type": "execute_result",
          "data": {
            "text/plain": [
              "{'brother': 1,\n",
              " 'colleg': 1,\n",
              " 'dad': 1,\n",
              " 'got': 1,\n",
              " 'hate': 1,\n",
              " 'kind': 1,\n",
              " 'like': 1,\n",
              " 'love': 1,\n",
              " 'mom': 1,\n",
              " 'movi': 4,\n",
              " 'sinc': 1,\n",
              " 'singl': 1,\n",
              " 'theater': 1,\n",
              " 'watch': 2}"
            ]
          },
          "metadata": {},
          "execution_count": 11
        }
      ]
    },
    {
      "cell_type": "markdown",
      "metadata": {
        "id": "vY4X4luHToWR"
      },
      "source": [
        "La **frecuencia inversa de documentos** para un término $t$ es el logaritmo (en este caso en base 2) del cociente entre el número de documentos y el número de documentos en los que aparece el término $t$.\n",
        "\n",
        "\n",
        "$ IDF (t) = log_{2} \\frac{N}{\\{d \\in D : t \\in d \\}} $\n",
        "\n",
        "A mayor puntuación de TF*IDF el término es más específico y a menor puntuación, más genérico."
      ]
    },
    {
      "cell_type": "code",
      "metadata": {
        "id": "ebOdwtTY6T6h",
        "colab": {
          "base_uri": "https://localhost:8080/"
        },
        "outputId": "9b933f81-6c3f-44bb-8b7d-eb1669b0bf7c"
      },
      "source": [
        "import math \n",
        "\n",
        "def calculate_idf(data):\n",
        "    idf_score = {}\n",
        "    N = len(data)        # TODO: número de documentos\n",
        "    all_words = get_vocabulary(data)# TODO: obtener el vocabulario\n",
        "    for word in all_words:\n",
        "        word_count = 0\n",
        "        \n",
        "        for token_list in data.values():\n",
        "            if word in token_list:\n",
        "                word_count = word_count +1 \n",
        "        idf_score[word] = math.log(N/word_count,2)# TODO: calcular idf\n",
        "    return idf_score\n",
        "\n",
        "idf_score = calculate_idf ( data_docs)\n",
        "idf_score\n"
      ],
      "execution_count": 12,
      "outputs": [
        {
          "output_type": "execute_result",
          "data": {
            "text/plain": [
              "{'alon': 2.321928094887362,\n",
              " 'anim': 2.321928094887362,\n",
              " 'best': 2.321928094887362,\n",
              " 'brother': 2.321928094887362,\n",
              " 'cold': 2.321928094887362,\n",
              " 'colleg': 2.321928094887362,\n",
              " 'dad': 2.321928094887362,\n",
              " 'ever': 2.321928094887362,\n",
              " 'fill': 2.321928094887362,\n",
              " 'film': 2.321928094887362,\n",
              " 'got': 2.321928094887362,\n",
              " 'hate': 2.321928094887362,\n",
              " 'horror': 2.321928094887362,\n",
              " 'kind': 2.321928094887362,\n",
              " 'like': 2.321928094887362,\n",
              " 'love': 0.32192809488736235,\n",
              " 'mom': 2.321928094887362,\n",
              " 'movi': 0.32192809488736235,\n",
              " 'night': 2.321928094887362,\n",
              " 'outsid': 2.321928094887362,\n",
              " 'plot': 2.321928094887362,\n",
              " 'realli': 2.321928094887362,\n",
              " 'scari': 2.321928094887362,\n",
              " 'sinc': 2.321928094887362,\n",
              " 'singl': 2.321928094887362,\n",
              " 'stori': 2.321928094887362,\n",
              " 'suspens': 2.321928094887362,\n",
              " 'theater': 2.321928094887362,\n",
              " 'toy': 2.321928094887362,\n",
              " 'twist': 2.321928094887362,\n",
              " 'unexpect': 2.321928094887362,\n",
              " 'watch': 0.32192809488736235}"
            ]
          },
          "metadata": {},
          "execution_count": 12
        }
      ]
    },
    {
      "cell_type": "code",
      "metadata": {
        "id": "PnSwuFHxDwkt",
        "colab": {
          "base_uri": "https://localhost:8080/"
        },
        "outputId": "c7535007-3193-4c4e-88aa-7ae37dc76524"
      },
      "source": [
        "def calculate_tfidf(data, idf_score):\n",
        "    scores = {}\n",
        "    for key,value in data.items():\n",
        "        scores[key] = calculate_tf(value) #  TODO: calcular tf\n",
        "    for doc,tf_scores in scores.items(): \n",
        "        listed={}    # TODO\n",
        "        for token, score in tf_scores.items(): # TODO\n",
        "            listed[token] = score*idf_score[token]\n",
        "    #         \n",
        "        scores[doc] = listed\n",
        "            \n",
        "    # #          # TODO\n",
        "    # #          # TODO: calcular tf*idf\n",
        "    return scores\n",
        "    \n",
        "tfidf_score = calculate_tfidf ( data_docs, idf_score)\n",
        "tfidf_score\n",
        "#"
      ],
      "execution_count": 13,
      "outputs": [
        {
          "output_type": "execute_result",
          "data": {
            "text/plain": [
              "{'doc01': {'cold': 2.321928094887362,\n",
              "  'love': 0.32192809488736235,\n",
              "  'movi': 0.32192809488736235,\n",
              "  'outsid': 2.321928094887362,\n",
              "  'watch': 0.32192809488736235},\n",
              " 'doc02': {'anim': 2.321928094887362,\n",
              "  'best': 2.321928094887362,\n",
              "  'ever': 2.321928094887362,\n",
              "  'love': 0.32192809488736235,\n",
              "  'movi': 0.32192809488736235,\n",
              "  'stori': 2.321928094887362,\n",
              "  'toy': 2.321928094887362},\n",
              " 'doc03': {'alon': 2.321928094887362,\n",
              "  'horror': 2.321928094887362,\n",
              "  'movi': 0.32192809488736235,\n",
              "  'night': 2.321928094887362,\n",
              "  'realli': 2.321928094887362,\n",
              "  'scari': 2.321928094887362,\n",
              "  'watch': 0.32192809488736235},\n",
              " 'doc04': {'fill': 2.321928094887362,\n",
              "  'film': 2.321928094887362,\n",
              "  'love': 0.32192809488736235,\n",
              "  'plot': 2.321928094887362,\n",
              "  'suspens': 2.321928094887362,\n",
              "  'twist': 2.321928094887362,\n",
              "  'unexpect': 2.321928094887362,\n",
              "  'watch': 0.32192809488736235},\n",
              " 'doc05': {'brother': 2.321928094887362,\n",
              "  'colleg': 2.321928094887362,\n",
              "  'dad': 2.321928094887362,\n",
              "  'got': 2.321928094887362,\n",
              "  'hate': 2.321928094887362,\n",
              "  'kind': 2.321928094887362,\n",
              "  'like': 2.321928094887362,\n",
              "  'love': 0.32192809488736235,\n",
              "  'mom': 2.321928094887362,\n",
              "  'movi': 1.2877123795494494,\n",
              "  'sinc': 2.321928094887362,\n",
              "  'singl': 2.321928094887362,\n",
              "  'theater': 2.321928094887362,\n",
              "  'watch': 0.6438561897747247}}"
            ]
          },
          "metadata": {},
          "execution_count": 13
        }
      ]
    },
    {
      "cell_type": "markdown",
      "metadata": {
        "id": "keFHyYR8Ueww"
      },
      "source": [
        "## 1.6. Generar el espacio vectorial\n",
        "\n",
        "Usando las funciones anteriores vamos a construir la matriz de documentos (en filas) y términos (en columnas). Para facilitar la tarea usaremos una estructura de datos ya conocida, el **dataframe**.\n"
      ]
    },
    {
      "cell_type": "code",
      "metadata": {
        "id": "JRFap5kzUls0",
        "colab": {
          "base_uri": "https://localhost:8080/",
          "height": 223
        },
        "outputId": "229bef7a-4b8e-4934-8a70-6da9935214d9"
      },
      "source": [
        "import pandas as pd\n",
        "\n",
        "def generate_dataframe ( data ):\n",
        "  all_words =  get_vocabulary(data)# TODO : obtener el vocabulario\n",
        "  idf_score =  calculate_idf(data)# TODO : calcular idf\n",
        "  tf_idf_score = calculate_tfidf(data,idf_score)  # TODO : calcular if*idf\n",
        "\n",
        "  table = []\n",
        "\n",
        "  for doc in tf_idf_score.keys():\n",
        "    d={}\n",
        "    for word in all_words:\n",
        "      try:\n",
        "        d[word]=tf_idf_score[doc][word]\n",
        "      except:\n",
        "        d[word]=0\n",
        "        continue\n",
        "            \n",
        "    table.append(d)\n",
        "  \n",
        "\n",
        "  df = pd.DataFrame ( table , index = tf_idf_score.keys())\n",
        "  return df\n",
        "\n",
        "df_data = generate_dataframe (data_docs)\n",
        "df_data.head(5)\n"
      ],
      "execution_count": 14,
      "outputs": [
        {
          "output_type": "execute_result",
          "data": {
            "text/html": [
              "<div>\n",
              "<style scoped>\n",
              "    .dataframe tbody tr th:only-of-type {\n",
              "        vertical-align: middle;\n",
              "    }\n",
              "\n",
              "    .dataframe tbody tr th {\n",
              "        vertical-align: top;\n",
              "    }\n",
              "\n",
              "    .dataframe thead th {\n",
              "        text-align: right;\n",
              "    }\n",
              "</style>\n",
              "<table border=\"1\" class=\"dataframe\">\n",
              "  <thead>\n",
              "    <tr style=\"text-align: right;\">\n",
              "      <th></th>\n",
              "      <th>alon</th>\n",
              "      <th>anim</th>\n",
              "      <th>best</th>\n",
              "      <th>brother</th>\n",
              "      <th>cold</th>\n",
              "      <th>colleg</th>\n",
              "      <th>dad</th>\n",
              "      <th>ever</th>\n",
              "      <th>fill</th>\n",
              "      <th>film</th>\n",
              "      <th>got</th>\n",
              "      <th>hate</th>\n",
              "      <th>horror</th>\n",
              "      <th>kind</th>\n",
              "      <th>like</th>\n",
              "      <th>love</th>\n",
              "      <th>mom</th>\n",
              "      <th>movi</th>\n",
              "      <th>night</th>\n",
              "      <th>outsid</th>\n",
              "      <th>plot</th>\n",
              "      <th>realli</th>\n",
              "      <th>scari</th>\n",
              "      <th>sinc</th>\n",
              "      <th>singl</th>\n",
              "      <th>stori</th>\n",
              "      <th>suspens</th>\n",
              "      <th>theater</th>\n",
              "      <th>toy</th>\n",
              "      <th>twist</th>\n",
              "      <th>unexpect</th>\n",
              "      <th>watch</th>\n",
              "    </tr>\n",
              "  </thead>\n",
              "  <tbody>\n",
              "    <tr>\n",
              "      <th>doc01</th>\n",
              "      <td>0.000000</td>\n",
              "      <td>0.000000</td>\n",
              "      <td>0.000000</td>\n",
              "      <td>0.000000</td>\n",
              "      <td>2.321928</td>\n",
              "      <td>0.000000</td>\n",
              "      <td>0.000000</td>\n",
              "      <td>0.000000</td>\n",
              "      <td>0.000000</td>\n",
              "      <td>0.000000</td>\n",
              "      <td>0.000000</td>\n",
              "      <td>0.000000</td>\n",
              "      <td>0.000000</td>\n",
              "      <td>0.000000</td>\n",
              "      <td>0.000000</td>\n",
              "      <td>0.321928</td>\n",
              "      <td>0.000000</td>\n",
              "      <td>0.321928</td>\n",
              "      <td>0.000000</td>\n",
              "      <td>2.321928</td>\n",
              "      <td>0.000000</td>\n",
              "      <td>0.000000</td>\n",
              "      <td>0.000000</td>\n",
              "      <td>0.000000</td>\n",
              "      <td>0.000000</td>\n",
              "      <td>0.000000</td>\n",
              "      <td>0.000000</td>\n",
              "      <td>0.000000</td>\n",
              "      <td>0.000000</td>\n",
              "      <td>0.000000</td>\n",
              "      <td>0.000000</td>\n",
              "      <td>0.321928</td>\n",
              "    </tr>\n",
              "    <tr>\n",
              "      <th>doc02</th>\n",
              "      <td>0.000000</td>\n",
              "      <td>2.321928</td>\n",
              "      <td>2.321928</td>\n",
              "      <td>0.000000</td>\n",
              "      <td>0.000000</td>\n",
              "      <td>0.000000</td>\n",
              "      <td>0.000000</td>\n",
              "      <td>2.321928</td>\n",
              "      <td>0.000000</td>\n",
              "      <td>0.000000</td>\n",
              "      <td>0.000000</td>\n",
              "      <td>0.000000</td>\n",
              "      <td>0.000000</td>\n",
              "      <td>0.000000</td>\n",
              "      <td>0.000000</td>\n",
              "      <td>0.321928</td>\n",
              "      <td>0.000000</td>\n",
              "      <td>0.321928</td>\n",
              "      <td>0.000000</td>\n",
              "      <td>0.000000</td>\n",
              "      <td>0.000000</td>\n",
              "      <td>0.000000</td>\n",
              "      <td>0.000000</td>\n",
              "      <td>0.000000</td>\n",
              "      <td>0.000000</td>\n",
              "      <td>2.321928</td>\n",
              "      <td>0.000000</td>\n",
              "      <td>0.000000</td>\n",
              "      <td>2.321928</td>\n",
              "      <td>0.000000</td>\n",
              "      <td>0.000000</td>\n",
              "      <td>0.000000</td>\n",
              "    </tr>\n",
              "    <tr>\n",
              "      <th>doc03</th>\n",
              "      <td>2.321928</td>\n",
              "      <td>0.000000</td>\n",
              "      <td>0.000000</td>\n",
              "      <td>0.000000</td>\n",
              "      <td>0.000000</td>\n",
              "      <td>0.000000</td>\n",
              "      <td>0.000000</td>\n",
              "      <td>0.000000</td>\n",
              "      <td>0.000000</td>\n",
              "      <td>0.000000</td>\n",
              "      <td>0.000000</td>\n",
              "      <td>0.000000</td>\n",
              "      <td>2.321928</td>\n",
              "      <td>0.000000</td>\n",
              "      <td>0.000000</td>\n",
              "      <td>0.000000</td>\n",
              "      <td>0.000000</td>\n",
              "      <td>0.321928</td>\n",
              "      <td>2.321928</td>\n",
              "      <td>0.000000</td>\n",
              "      <td>0.000000</td>\n",
              "      <td>2.321928</td>\n",
              "      <td>2.321928</td>\n",
              "      <td>0.000000</td>\n",
              "      <td>0.000000</td>\n",
              "      <td>0.000000</td>\n",
              "      <td>0.000000</td>\n",
              "      <td>0.000000</td>\n",
              "      <td>0.000000</td>\n",
              "      <td>0.000000</td>\n",
              "      <td>0.000000</td>\n",
              "      <td>0.321928</td>\n",
              "    </tr>\n",
              "    <tr>\n",
              "      <th>doc04</th>\n",
              "      <td>0.000000</td>\n",
              "      <td>0.000000</td>\n",
              "      <td>0.000000</td>\n",
              "      <td>0.000000</td>\n",
              "      <td>0.000000</td>\n",
              "      <td>0.000000</td>\n",
              "      <td>0.000000</td>\n",
              "      <td>0.000000</td>\n",
              "      <td>2.321928</td>\n",
              "      <td>2.321928</td>\n",
              "      <td>0.000000</td>\n",
              "      <td>0.000000</td>\n",
              "      <td>0.000000</td>\n",
              "      <td>0.000000</td>\n",
              "      <td>0.000000</td>\n",
              "      <td>0.321928</td>\n",
              "      <td>0.000000</td>\n",
              "      <td>0.000000</td>\n",
              "      <td>0.000000</td>\n",
              "      <td>0.000000</td>\n",
              "      <td>2.321928</td>\n",
              "      <td>0.000000</td>\n",
              "      <td>0.000000</td>\n",
              "      <td>0.000000</td>\n",
              "      <td>0.000000</td>\n",
              "      <td>0.000000</td>\n",
              "      <td>2.321928</td>\n",
              "      <td>0.000000</td>\n",
              "      <td>0.000000</td>\n",
              "      <td>2.321928</td>\n",
              "      <td>2.321928</td>\n",
              "      <td>0.321928</td>\n",
              "    </tr>\n",
              "    <tr>\n",
              "      <th>doc05</th>\n",
              "      <td>0.000000</td>\n",
              "      <td>0.000000</td>\n",
              "      <td>0.000000</td>\n",
              "      <td>2.321928</td>\n",
              "      <td>0.000000</td>\n",
              "      <td>2.321928</td>\n",
              "      <td>2.321928</td>\n",
              "      <td>0.000000</td>\n",
              "      <td>0.000000</td>\n",
              "      <td>0.000000</td>\n",
              "      <td>2.321928</td>\n",
              "      <td>2.321928</td>\n",
              "      <td>0.000000</td>\n",
              "      <td>2.321928</td>\n",
              "      <td>2.321928</td>\n",
              "      <td>0.321928</td>\n",
              "      <td>2.321928</td>\n",
              "      <td>1.287712</td>\n",
              "      <td>0.000000</td>\n",
              "      <td>0.000000</td>\n",
              "      <td>0.000000</td>\n",
              "      <td>0.000000</td>\n",
              "      <td>0.000000</td>\n",
              "      <td>2.321928</td>\n",
              "      <td>2.321928</td>\n",
              "      <td>0.000000</td>\n",
              "      <td>0.000000</td>\n",
              "      <td>2.321928</td>\n",
              "      <td>0.000000</td>\n",
              "      <td>0.000000</td>\n",
              "      <td>0.000000</td>\n",
              "      <td>0.643856</td>\n",
              "    </tr>\n",
              "  </tbody>\n",
              "</table>\n",
              "</div>"
            ],
            "text/plain": [
              "           alon      anim      best  ...     twist  unexpect     watch\n",
              "doc01  0.000000  0.000000  0.000000  ...  0.000000  0.000000  0.321928\n",
              "doc02  0.000000  2.321928  2.321928  ...  0.000000  0.000000  0.000000\n",
              "doc03  2.321928  0.000000  0.000000  ...  0.000000  0.000000  0.321928\n",
              "doc04  0.000000  0.000000  0.000000  ...  2.321928  2.321928  0.321928\n",
              "doc05  0.000000  0.000000  0.000000  ...  0.000000  0.000000  0.643856\n",
              "\n",
              "[5 rows x 32 columns]"
            ]
          },
          "metadata": {},
          "execution_count": 14
        }
      ]
    },
    {
      "cell_type": "markdown",
      "metadata": {
        "id": "oNlyfOCNFYtZ"
      },
      "source": [
        "## 1.7. Generar el índice invertido\n",
        "\n",
        "De manera similar, vamos a generar un índice invertido que almacenaremos en una estructura de datos Python: el **diccionario**.\n",
        "\n",
        "\n"
      ]
    },
    {
      "cell_type": "code",
      "metadata": {
        "id": "r8_AJecsFn6T",
        "colab": {
          "base_uri": "https://localhost:8080/"
        },
        "outputId": "77021b7f-a868-4146-d203-ebf666fc8536"
      },
      "source": [
        "def generate_inverted_index(data):\n",
        "\n",
        "    all_words = get_vocabulary(data)  # TODO : obtener el vocabulario\n",
        "    idf_score =  calculate_idf(data)# TODO : calcular idf\n",
        "    tf_idf_score = calculate_tfidf(data,idf_score)  # TODO : calcular if*idf\n",
        "\n",
        "    index = {}\n",
        "    for word in all_words:\n",
        "        for doc, tokens in tf_idf_score.items():\n",
        "            try:            \n",
        "                index[word] = [(doc,tokens[word])]\n",
        "            except:\n",
        "                continue\n",
        "            \n",
        "    return index\n",
        "\n",
        "inverted_index = generate_inverted_index (data_docs)\n",
        "\n",
        "inverted_index\n"
      ],
      "execution_count": 15,
      "outputs": [
        {
          "output_type": "execute_result",
          "data": {
            "text/plain": [
              "{'alon': [('doc03', 2.321928094887362)],\n",
              " 'anim': [('doc02', 2.321928094887362)],\n",
              " 'best': [('doc02', 2.321928094887362)],\n",
              " 'brother': [('doc05', 2.321928094887362)],\n",
              " 'cold': [('doc01', 2.321928094887362)],\n",
              " 'colleg': [('doc05', 2.321928094887362)],\n",
              " 'dad': [('doc05', 2.321928094887362)],\n",
              " 'ever': [('doc02', 2.321928094887362)],\n",
              " 'fill': [('doc04', 2.321928094887362)],\n",
              " 'film': [('doc04', 2.321928094887362)],\n",
              " 'got': [('doc05', 2.321928094887362)],\n",
              " 'hate': [('doc05', 2.321928094887362)],\n",
              " 'horror': [('doc03', 2.321928094887362)],\n",
              " 'kind': [('doc05', 2.321928094887362)],\n",
              " 'like': [('doc05', 2.321928094887362)],\n",
              " 'love': [('doc05', 0.32192809488736235)],\n",
              " 'mom': [('doc05', 2.321928094887362)],\n",
              " 'movi': [('doc05', 1.2877123795494494)],\n",
              " 'night': [('doc03', 2.321928094887362)],\n",
              " 'outsid': [('doc01', 2.321928094887362)],\n",
              " 'plot': [('doc04', 2.321928094887362)],\n",
              " 'realli': [('doc03', 2.321928094887362)],\n",
              " 'scari': [('doc03', 2.321928094887362)],\n",
              " 'sinc': [('doc05', 2.321928094887362)],\n",
              " 'singl': [('doc05', 2.321928094887362)],\n",
              " 'stori': [('doc02', 2.321928094887362)],\n",
              " 'suspens': [('doc04', 2.321928094887362)],\n",
              " 'theater': [('doc05', 2.321928094887362)],\n",
              " 'toy': [('doc02', 2.321928094887362)],\n",
              " 'twist': [('doc04', 2.321928094887362)],\n",
              " 'unexpect': [('doc04', 2.321928094887362)],\n",
              " 'watch': [('doc05', 0.6438561897747247)]}"
            ]
          },
          "metadata": {},
          "execution_count": 15
        }
      ]
    },
    {
      "cell_type": "markdown",
      "metadata": {
        "id": "8MvXZOcrFnRh"
      },
      "source": [
        "## 1.8. Resolución de consultas\n",
        "\n"
      ]
    },
    {
      "cell_type": "markdown",
      "metadata": {
        "id": "CiVHjcHnkY8h"
      },
      "source": [
        "Vamos a resolver consultas (obtener los documentos más relevantes) considerando la consulta como un vector y comparándolo con el conjunto de documentos mediante la **similitud del coseno**. \n",
        "\n",
        "Para ello vamos a utilizar la librería [sklearn](https://scikit-learn.org/stable/), aunque sólo la funcionalidad para calcular la similitud del coseno. "
      ]
    },
    {
      "cell_type": "code",
      "metadata": {
        "id": "THFDY8QImpsA",
        "colab": {
          "base_uri": "https://localhost:8080/",
          "height": 100
        },
        "outputId": "5811397e-bd2d-488f-d355-cfda53bd9f34"
      },
      "source": [
        "# generar un dataframe para la consulta\n",
        "\n",
        "q = \"I watched alone a horror movie\"\n",
        "\n",
        "def generate_query_dataframe ( vocabulary , q ):\n",
        "\n",
        "  # TODO : preprocesar las palabras de la consulta\n",
        "  q_dict = stem_words(remove_stop_words(\n",
        "      tokenize_and_remove_punctuations(q)))\n",
        "  \n",
        "  d =  {}\n",
        "  for i in vocabulary:\n",
        "    if i in q_dict:\n",
        "      d[i] = 1\n",
        "    else:\n",
        "      d[i] = 0 # TODO : generar un dataframe con la misma estructura \n",
        "  table = []  \n",
        "            # TODO : si el token está en la consulta se pone 1 en otro caso 0\n",
        "  table.append (d)\n",
        "\n",
        "  df = pd.DataFrame ( table  , index ={'q1'} )\n",
        "  return df \n",
        "\n",
        "df_query =  generate_query_dataframe ( get_vocabulary(data_docs)  , q )\n",
        "df_query.head()\n"
      ],
      "execution_count": 16,
      "outputs": [
        {
          "output_type": "execute_result",
          "data": {
            "text/html": [
              "<div>\n",
              "<style scoped>\n",
              "    .dataframe tbody tr th:only-of-type {\n",
              "        vertical-align: middle;\n",
              "    }\n",
              "\n",
              "    .dataframe tbody tr th {\n",
              "        vertical-align: top;\n",
              "    }\n",
              "\n",
              "    .dataframe thead th {\n",
              "        text-align: right;\n",
              "    }\n",
              "</style>\n",
              "<table border=\"1\" class=\"dataframe\">\n",
              "  <thead>\n",
              "    <tr style=\"text-align: right;\">\n",
              "      <th></th>\n",
              "      <th>alon</th>\n",
              "      <th>anim</th>\n",
              "      <th>best</th>\n",
              "      <th>brother</th>\n",
              "      <th>cold</th>\n",
              "      <th>colleg</th>\n",
              "      <th>dad</th>\n",
              "      <th>ever</th>\n",
              "      <th>fill</th>\n",
              "      <th>film</th>\n",
              "      <th>got</th>\n",
              "      <th>hate</th>\n",
              "      <th>horror</th>\n",
              "      <th>kind</th>\n",
              "      <th>like</th>\n",
              "      <th>love</th>\n",
              "      <th>mom</th>\n",
              "      <th>movi</th>\n",
              "      <th>night</th>\n",
              "      <th>outsid</th>\n",
              "      <th>plot</th>\n",
              "      <th>realli</th>\n",
              "      <th>scari</th>\n",
              "      <th>sinc</th>\n",
              "      <th>singl</th>\n",
              "      <th>stori</th>\n",
              "      <th>suspens</th>\n",
              "      <th>theater</th>\n",
              "      <th>toy</th>\n",
              "      <th>twist</th>\n",
              "      <th>unexpect</th>\n",
              "      <th>watch</th>\n",
              "    </tr>\n",
              "  </thead>\n",
              "  <tbody>\n",
              "    <tr>\n",
              "      <th>q1</th>\n",
              "      <td>1</td>\n",
              "      <td>0</td>\n",
              "      <td>0</td>\n",
              "      <td>0</td>\n",
              "      <td>0</td>\n",
              "      <td>0</td>\n",
              "      <td>0</td>\n",
              "      <td>0</td>\n",
              "      <td>0</td>\n",
              "      <td>0</td>\n",
              "      <td>0</td>\n",
              "      <td>0</td>\n",
              "      <td>1</td>\n",
              "      <td>0</td>\n",
              "      <td>0</td>\n",
              "      <td>0</td>\n",
              "      <td>0</td>\n",
              "      <td>1</td>\n",
              "      <td>0</td>\n",
              "      <td>0</td>\n",
              "      <td>0</td>\n",
              "      <td>0</td>\n",
              "      <td>0</td>\n",
              "      <td>0</td>\n",
              "      <td>0</td>\n",
              "      <td>0</td>\n",
              "      <td>0</td>\n",
              "      <td>0</td>\n",
              "      <td>0</td>\n",
              "      <td>0</td>\n",
              "      <td>0</td>\n",
              "      <td>1</td>\n",
              "    </tr>\n",
              "  </tbody>\n",
              "</table>\n",
              "</div>"
            ],
            "text/plain": [
              "    alon  anim  best  brother  cold  ...  theater  toy  twist  unexpect  watch\n",
              "q1     1     0     0        0     0  ...        0    0      0         0      1\n",
              "\n",
              "[1 rows x 32 columns]"
            ]
          },
          "metadata": {},
          "execution_count": 16
        }
      ]
    },
    {
      "cell_type": "code",
      "metadata": {
        "id": "CoKt3SbDk4v-",
        "colab": {
          "base_uri": "https://localhost:8080/"
        },
        "outputId": "6dbd362d-77aa-4912-f785-645597211ceb"
      },
      "source": [
        "from sklearn.metrics.pairwise import cosine_similarity\n",
        "import numpy as np\n",
        "\n",
        "# TODO : calcular la similitud del coseno e indicar qué documento es el más próximo a la consulta\n",
        "%time q_cossim = cosine_similarity(df_data.to_numpy(), df_query.head(1).to_numpy())\n",
        "\n",
        "print (q_cossim.flatten())\n",
        "ind = np.unravel_index ( np.argmax(q_cossim, axis=None), q_cossim.shape)\n",
        "print ('Documento más similar : %s (%s) ' %  (documents[ind[0]],docIds[ind[0]]) )\n"
      ],
      "execution_count": 17,
      "outputs": [
        {
          "output_type": "stream",
          "name": "stdout",
          "text": [
            "CPU times: user 818 µs, sys: 0 ns, total: 818 µs\n",
            "Wall time: 824 µs\n",
            "[0.09665456 0.03088388 0.50727185 0.02821094 0.1231711 ]\n",
            "Documento más similar : Watching horror movies alone at night is really scary (doc03) \n"
          ]
        }
      ]
    },
    {
      "cell_type": "markdown",
      "metadata": {
        "id": "pjknLHHHc7KM"
      },
      "source": [
        "# Parte 2. Stack Overflow"
      ]
    },
    {
      "cell_type": "markdown",
      "metadata": {
        "id": "3pe8PIGqfwZq"
      },
      "source": [
        "Stack Overflow es un sitio de preguntas y respuestas para programadores profesionales y aficionados. Contiene preguntas y respuestas sobre una amplia gama de temas de programación.\n",
        "\n",
        "En este ejercicio vamos a usar en subconjunto del dataset original que contiene 500 posts. El dataset se obtiene del volcado de Stack Overflow en Big Query de Google.\n",
        "\n",
        "Lo primero que hay que hacer es leer línea por línea el archivo JSON `stackoverflow-test.json` y meterlo en lun DataFrame de pandas. (Nota: `lines=True` indica que se trate cada línea como una cadena json) "
      ]
    },
    {
      "cell_type": "code",
      "metadata": {
        "colab": {
          "resources": {
            "http://localhost:8080/nbextensions/google.colab/files.js": {
              "data": "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",
              "ok": true,
              "headers": [
                [
                  "content-type",
                  "application/javascript"
                ]
              ],
              "status": 200,
              "status_text": ""
            }
          },
          "base_uri": "https://localhost:8080/",
          "height": 74
        },
        "id": "B7LgOfZWX1-6",
        "outputId": "2de6a69b-1392-4f42-8f24-7ccd631d6adf"
      },
      "source": [
        "from google.colab import files # subir archivo\n",
        "uploaded = files.upload()"
      ],
      "execution_count": 21,
      "outputs": [
        {
          "output_type": "display_data",
          "data": {
            "text/html": [
              "\n",
              "     <input type=\"file\" id=\"files-f5aa0b10-def0-4892-9c6f-c6719caab486\" name=\"files[]\" multiple disabled\n",
              "        style=\"border:none\" />\n",
              "     <output id=\"result-f5aa0b10-def0-4892-9c6f-c6719caab486\">\n",
              "      Upload widget is only available when the cell has been executed in the\n",
              "      current browser session. Please rerun this cell to enable.\n",
              "      </output>\n",
              "      <script src=\"/nbextensions/google.colab/files.js\"></script> "
            ],
            "text/plain": [
              "<IPython.core.display.HTML object>"
            ]
          },
          "metadata": {}
        },
        {
          "output_type": "stream",
          "name": "stdout",
          "text": [
            "Saving stackoverflow-test.json to stackoverflow-test (1).json\n"
          ]
        }
      ]
    },
    {
      "cell_type": "code",
      "metadata": {
        "id": "B4R-g5H2X1-6"
      },
      "source": [
        "stackoverflow_df = pd.read_json(\"stackoverflow-test.json\", lines=True)  # TODO\n"
      ],
      "execution_count": 23,
      "outputs": []
    },
    {
      "cell_type": "code",
      "metadata": {
        "id": "WsjBy4XshErJ",
        "colab": {
          "base_uri": "https://localhost:8080/",
          "height": 526
        },
        "outputId": "3c978f6e-9bcb-46ee-be12-b7978acad7aa"
      },
      "source": [
        "stackoverflow_df.head(5)"
      ],
      "execution_count": 22,
      "outputs": [
        {
          "output_type": "execute_result",
          "data": {
            "text/html": [
              "<div>\n",
              "<style scoped>\n",
              "    .dataframe tbody tr th:only-of-type {\n",
              "        vertical-align: middle;\n",
              "    }\n",
              "\n",
              "    .dataframe tbody tr th {\n",
              "        vertical-align: top;\n",
              "    }\n",
              "\n",
              "    .dataframe thead th {\n",
              "        text-align: right;\n",
              "    }\n",
              "</style>\n",
              "<table border=\"1\" class=\"dataframe\">\n",
              "  <thead>\n",
              "    <tr style=\"text-align: right;\">\n",
              "      <th></th>\n",
              "      <th>id</th>\n",
              "      <th>title</th>\n",
              "      <th>body</th>\n",
              "      <th>accepted_answer_id</th>\n",
              "      <th>answer_count</th>\n",
              "      <th>comment_count</th>\n",
              "      <th>creation_date</th>\n",
              "      <th>last_activity_date</th>\n",
              "      <th>last_edit_date</th>\n",
              "      <th>last_editor_display_name</th>\n",
              "      <th>last_editor_user_id</th>\n",
              "      <th>owner_display_name</th>\n",
              "      <th>owner_user_id</th>\n",
              "      <th>post_type_id</th>\n",
              "      <th>score</th>\n",
              "      <th>tags</th>\n",
              "      <th>view_count</th>\n",
              "      <th>favorite_count</th>\n",
              "    </tr>\n",
              "  </thead>\n",
              "  <tbody>\n",
              "    <tr>\n",
              "      <th>0</th>\n",
              "      <td>3247246</td>\n",
              "      <td>Integrate War-Plugin for m2eclipse into Eclips...</td>\n",
              "      <td>&lt;p&gt;I set up a small web project with JSF and M...</td>\n",
              "      <td>3247526.0</td>\n",
              "      <td>2</td>\n",
              "      <td>0</td>\n",
              "      <td>2010-07-14 14:39:48.053 UTC</td>\n",
              "      <td>2010-07-14 16:02:19.683 UTC</td>\n",
              "      <td>2010-07-14 15:56:37.803 UTC</td>\n",
              "      <td></td>\n",
              "      <td>70604.0</td>\n",
              "      <td></td>\n",
              "      <td>389430.0</td>\n",
              "      <td>1</td>\n",
              "      <td>2</td>\n",
              "      <td>eclipse|maven-2|tomcat|m2eclipse</td>\n",
              "      <td>1653</td>\n",
              "      <td>NaN</td>\n",
              "    </tr>\n",
              "    <tr>\n",
              "      <th>1</th>\n",
              "      <td>40270764</td>\n",
              "      <td>phantomjs-node page.evaulate seems to hang</td>\n",
              "      <td>&lt;p&gt;I have an implementation of 'waitfor' with ...</td>\n",
              "      <td>NaN</td>\n",
              "      <td>1</td>\n",
              "      <td>0</td>\n",
              "      <td>2016-10-26 19:35:00.537 UTC</td>\n",
              "      <td>2016-11-02 20:05:09.143 UTC</td>\n",
              "      <td>NaN</td>\n",
              "      <td></td>\n",
              "      <td>NaN</td>\n",
              "      <td></td>\n",
              "      <td>245076.0</td>\n",
              "      <td>1</td>\n",
              "      <td>0</td>\n",
              "      <td>node.js|phantomjs</td>\n",
              "      <td>35</td>\n",
              "      <td>NaN</td>\n",
              "    </tr>\n",
              "    <tr>\n",
              "      <th>2</th>\n",
              "      <td>27532383</td>\n",
              "      <td>Dynamic operations can only be performed in ho...</td>\n",
              "      <td>&lt;p&gt;I'm working with an API that requires:&lt;/p&gt;\\...</td>\n",
              "      <td>NaN</td>\n",
              "      <td>1</td>\n",
              "      <td>0</td>\n",
              "      <td>2014-12-17 18:31:18.6 UTC</td>\n",
              "      <td>2014-12-17 19:57:43.443 UTC</td>\n",
              "      <td>NaN</td>\n",
              "      <td></td>\n",
              "      <td>NaN</td>\n",
              "      <td></td>\n",
              "      <td>3105880.0</td>\n",
              "      <td>1</td>\n",
              "      <td>1</td>\n",
              "      <td>c#|asp.net-mvc</td>\n",
              "      <td>4372</td>\n",
              "      <td>NaN</td>\n",
              "    </tr>\n",
              "    <tr>\n",
              "      <th>3</th>\n",
              "      <td>33511888</td>\n",
              "      <td>CSS with relative URL to background image?</td>\n",
              "      <td>&lt;p&gt;I have a file structure of:&lt;/p&gt;\\n\\n&lt;pre&gt;&lt;co...</td>\n",
              "      <td>NaN</td>\n",
              "      <td>2</td>\n",
              "      <td>2</td>\n",
              "      <td>2015-11-04 00:50:35.223 UTC</td>\n",
              "      <td>2015-11-04 01:51:03.037 UTC</td>\n",
              "      <td>2015-11-04 01:51:03.037 UTC</td>\n",
              "      <td></td>\n",
              "      <td>5464492.0</td>\n",
              "      <td></td>\n",
              "      <td>5464492.0</td>\n",
              "      <td>1</td>\n",
              "      <td>0</td>\n",
              "      <td>css|background-image</td>\n",
              "      <td>406</td>\n",
              "      <td>NaN</td>\n",
              "    </tr>\n",
              "    <tr>\n",
              "      <th>4</th>\n",
              "      <td>46160163</td>\n",
              "      <td>Share canvas image on android</td>\n",
              "      <td>&lt;p&gt;Hello so I write a small game where in the ...</td>\n",
              "      <td>46160246.0</td>\n",
              "      <td>1</td>\n",
              "      <td>0</td>\n",
              "      <td>2017-09-11 16:19:18.32 UTC</td>\n",
              "      <td>2017-09-11 16:24:12.69 UTC</td>\n",
              "      <td>NaN</td>\n",
              "      <td></td>\n",
              "      <td>NaN</td>\n",
              "      <td></td>\n",
              "      <td>8570512.0</td>\n",
              "      <td>1</td>\n",
              "      <td>0</td>\n",
              "      <td>android|canvas|bitmap|share</td>\n",
              "      <td>52</td>\n",
              "      <td>NaN</td>\n",
              "    </tr>\n",
              "  </tbody>\n",
              "</table>\n",
              "</div>"
            ],
            "text/plain": [
              "         id  ... favorite_count\n",
              "0   3247246  ...            NaN\n",
              "1  40270764  ...            NaN\n",
              "2  27532383  ...            NaN\n",
              "3  33511888  ...            NaN\n",
              "4  46160163  ...            NaN\n",
              "\n",
              "[5 rows x 18 columns]"
            ]
          },
          "metadata": {},
          "execution_count": 22
        }
      ]
    },
    {
      "cell_type": "markdown",
      "metadata": {
        "id": "1WOnJi3lmMD7"
      },
      "source": [
        "Examinar el dataset para ver qué dimensiones y qué tipos de datos contiene."
      ]
    },
    {
      "cell_type": "code",
      "metadata": {
        "id": "thpXzyqZh3eM",
        "colab": {
          "base_uri": "https://localhost:8080/"
        },
        "outputId": "8a98a056-11a3-4506-a4b8-58383736dc1e"
      },
      "source": [
        "stackoverflow_df.info()"
      ],
      "execution_count": 24,
      "outputs": [
        {
          "output_type": "stream",
          "name": "stdout",
          "text": [
            "<class 'pandas.core.frame.DataFrame'>\n",
            "RangeIndex: 500 entries, 0 to 499\n",
            "Data columns (total 18 columns):\n",
            " #   Column                    Non-Null Count  Dtype  \n",
            "---  ------                    --------------  -----  \n",
            " 0   id                        500 non-null    int64  \n",
            " 1   title                     500 non-null    object \n",
            " 2   body                      500 non-null    object \n",
            " 3   accepted_answer_id        253 non-null    float64\n",
            " 4   answer_count              500 non-null    int64  \n",
            " 5   comment_count             500 non-null    int64  \n",
            " 6   creation_date             500 non-null    object \n",
            " 7   last_activity_date        500 non-null    object \n",
            " 8   last_edit_date            257 non-null    object \n",
            " 9   last_editor_display_name  500 non-null    object \n",
            " 10  last_editor_user_id       254 non-null    float64\n",
            " 11  owner_display_name        500 non-null    object \n",
            " 12  owner_user_id             494 non-null    float64\n",
            " 13  post_type_id              500 non-null    int64  \n",
            " 14  score                     500 non-null    int64  \n",
            " 15  tags                      500 non-null    object \n",
            " 16  view_count                500 non-null    int64  \n",
            " 17  favorite_count            87 non-null     float64\n",
            "dtypes: float64(4), int64(6), object(8)\n",
            "memory usage: 70.4+ KB\n"
          ]
        }
      ]
    },
    {
      "cell_type": "markdown",
      "metadata": {
        "id": "aeqQnrOdrJ5x"
      },
      "source": [
        "Observad que el dataset tiene 19 campos que incluyen título `title`, cuerpo `body`, `tags`, fechas y otros metadatos que no necesitaremos en esta ocasión. \n",
        "\n",
        "\n",
        "El interés se centra en el cuerpo y en el título que forman la fuente de texto.Para ello vamos a crear un campo `text` que combina `title` y `body` en uno solo."
      ]
    },
    {
      "cell_type": "code",
      "metadata": {
        "id": "DQPzgn7hiQSC",
        "colab": {
          "base_uri": "https://localhost:8080/",
          "height": 88
        },
        "outputId": "eeac3776-d710-4949-aca4-adc199627d50"
      },
      "source": [
        "stackoverflow_df['text'] = stackoverflow_df['title'].astype(\n",
        "    str) + stackoverflow_df['body'].astype(str)  # TODO\n",
        "stackoverflow_df['text'][3]\n"
      ],
      "execution_count": 31,
      "outputs": [
        {
          "output_type": "execute_result",
          "data": {
            "application/vnd.google.colaboratory.intrinsic+json": {
              "type": "string"
            },
            "text/plain": [
              "\"CSS with relative URL to background image?<p>I have a file structure of:</p>\\n\\n<pre><code>home.html\\nimg/bg_damask1.jpg\\ncss/style.css\\n</code></pre>\\n\\n<p>When I set my body background image I can't get it to load. I've tried:</p>\\n\\n<pre><code>background-image: url('../img/bg_damask1.jpg');\\nbackground-image: url('/img/bg_damask1.jpg');\\nbackground-image: url('img/bg_damask1.jpg');\\n</code></pre>\\n\\n<p>But none are working. How do I get my css to reference the background image?</p>\\n\\n<p>ETA: In browser dev tools I see that no matter what file path I put in, the browser is only referencing 'bg_damask1.jpg' without the file path. If I edit it in dev tools the image shows up using option #1. Now I'm stumped as to what's causing the breakdown.</p>\""
            ]
          },
          "metadata": {},
          "execution_count": 31
        }
      ]
    },
    {
      "cell_type": "markdown",
      "metadata": {
        "id": "aZuayg_UhYia"
      },
      "source": [
        "Como se puede observar el texto contiene bastante \"ruido\" y es necesario procesarlo para que pueda ser útil. Hay que conseguir una cadena de texto en el que se eliminen palabras vacías, tags de html, carácteres extraños, etc. No resulta recomendable lematizar las palabras en esta ocasión."
      ]
    },
    {
      "cell_type": "code",
      "metadata": {
        "id": "w3WmxJAXX1-7"
      },
      "source": [
        "stackoverflow_df['mtext']= stackoverflow_df['text'].apply(preprocess_text,stem=False)\n",
        "stackoverflow_df['mtext']=stackoverflow_df['mtext'].astype(str)\n"
      ],
      "execution_count": 30,
      "outputs": []
    },
    {
      "cell_type": "markdown",
      "metadata": {
        "id": "n8MHVA4fTXvv"
      },
      "source": [
        "## 2.1 Count Vectorizer\n",
        "\n",
        "A continuación se necesita obtener un vocabulario de palabras usadas y comenzar el proceso de contabilización.\n",
        "\n",
        "La **vectorización** es el proceso por el que se convierte una colección de textos en un vector de características numérico. El modelo que seguimos es el de bolsa de palabras o Bag-of-Words, donde los documentos se describen por las palabras que aparecen en el texto, ignorando su posición relativa o su importancia en el texto.\n",
        "\n",
        "**CountVectorizer** convierte una colección de documentos en una matriz de contadores que son las apariciones de cada token en cada documento."
      ]
    },
    {
      "cell_type": "code",
      "metadata": {
        "id": "dDjtJoe3DTu_"
      },
      "source": [
        "from sklearn.feature_extraction.text import CountVectorizer\n",
        "\n",
        "vectorizer = CountVectorizer (max_df=0.85) # max_df : eliminar si la palabra está en el 85% de los documentos\n",
        "\n",
        "word_count_vector = vectorizer.fit_transform(stackoverflow_df['mtext'])# TODO : transformar el texto limpio\n"
      ],
      "execution_count": 32,
      "outputs": []
    },
    {
      "cell_type": "code",
      "metadata": {
        "colab": {
          "base_uri": "https://localhost:8080/"
        },
        "id": "cNaXW0gvX1-7",
        "outputId": "ec7e6a5b-6288-4b48-9d29-d281229d1173"
      },
      "source": [
        "word_count_vector.shape"
      ],
      "execution_count": 29,
      "outputs": [
        {
          "output_type": "execute_result",
          "data": {
            "text/plain": [
              "(500, 8308)"
            ]
          },
          "metadata": {},
          "execution_count": 29
        }
      ]
    },
    {
      "cell_type": "markdown",
      "metadata": {
        "id": "GnllSkXo68Pe"
      },
      "source": [
        "Una vez contabilizado el texto se pueden ver algunas palabras del vocabulario:"
      ]
    },
    {
      "cell_type": "code",
      "metadata": {
        "id": "a2ipp9nrELRe",
        "colab": {
          "base_uri": "https://localhost:8080/"
        },
        "outputId": "f62054e1-8053-461d-e847-20b45f3ddf0f"
      },
      "source": [
        "list(vectorizer.vocabulary_.keys())[:10]"
      ],
      "execution_count": 35,
      "outputs": [
        {
          "output_type": "execute_result",
          "data": {
            "text/plain": [
              "['integrate',\n",
              " 'war',\n",
              " 'plugin',\n",
              " 'eclipse',\n",
              " 'projecti',\n",
              " 'set',\n",
              " 'small',\n",
              " 'web',\n",
              " 'project',\n",
              " 'jsf']"
            ]
          },
          "metadata": {},
          "execution_count": 35
        }
      ]
    },
    {
      "cell_type": "markdown",
      "metadata": {
        "id": "hnlFNh8HjLRC"
      },
      "source": [
        "Las columnas de la matriz son las características o tokens detectados en el texto y se pueden ver con la función `get_feature_names()`."
      ]
    },
    {
      "cell_type": "code",
      "metadata": {
        "id": "yPQu5OmX6kzC",
        "colab": {
          "base_uri": "https://localhost:8080/"
        },
        "outputId": "f9cedccd-8457-4f33-e769-053ccac7d4a2"
      },
      "source": [
        "print (vectorizer.get_feature_names()[-10:] )\n",
        "\n",
        "vocabulary = vectorizer.get_feature_names()\n"
      ],
      "execution_count": 36,
      "outputs": [
        {
          "output_type": "stream",
          "name": "stdout",
          "text": [
            "['zii', 'zip', 'zipped', 'zipwith', 'zlib', 'zlibinflated', 'zoom', 'zoomed', 'zygoteinit', 'ﬁnal']\n"
          ]
        }
      ]
    },
    {
      "cell_type": "markdown",
      "metadata": {
        "id": "aTxCF6_97Q_6"
      },
      "source": [
        "El resultado es una matriz `sparse matrix` que representa las cuentas de las palabras. Cada columna representa una palabra en el vocabulario y cada fila representa un documento (un post) en el datataset y cada celda el números de apariciones de la palabra en el documento.\n",
        "\n",
        "**¿Cuál es el tamaño del vocabulario?**\n"
      ]
    },
    {
      "cell_type": "code",
      "metadata": {
        "colab": {
          "base_uri": "https://localhost:8080/"
        },
        "id": "p_Aw9IXoX1-8",
        "outputId": "c1d3d22a-204e-4e6e-ee86-267d22d605c5"
      },
      "source": [
        "len(vocabulary)"
      ],
      "execution_count": 37,
      "outputs": [
        {
          "output_type": "execute_result",
          "data": {
            "text/plain": [
              "8308"
            ]
          },
          "metadata": {},
          "execution_count": 37
        }
      ]
    },
    {
      "cell_type": "markdown",
      "metadata": {
        "id": "Aw3GweyA9gfZ"
      },
      "source": [
        "Por comodidad, podemos convertir la matriz en un DataFrame en el que las filas sean los documentos y las columnas el vocabulario:"
      ]
    },
    {
      "cell_type": "code",
      "metadata": {
        "id": "OpquSy5U-pqx",
        "colab": {
          "base_uri": "https://localhost:8080/",
          "height": 406
        },
        "outputId": "a8e12111-a12a-463f-991e-6a1a13a2c4e6"
      },
      "source": [
        "wc_df = pd.DataFrame(word_count_vector.toarray(), columns=vectorizer.get_feature_names())  # TODO\n",
        "wc_df.head(10)\n",
        "\n"
      ],
      "execution_count": 38,
      "outputs": [
        {
          "output_type": "execute_result",
          "data": {
            "text/html": [
              "<div>\n",
              "<style scoped>\n",
              "    .dataframe tbody tr th:only-of-type {\n",
              "        vertical-align: middle;\n",
              "    }\n",
              "\n",
              "    .dataframe tbody tr th {\n",
              "        vertical-align: top;\n",
              "    }\n",
              "\n",
              "    .dataframe thead th {\n",
              "        text-align: right;\n",
              "    }\n",
              "</style>\n",
              "<table border=\"1\" class=\"dataframe\">\n",
              "  <thead>\n",
              "    <tr style=\"text-align: right;\">\n",
              "      <th></th>\n",
              "      <th>aapl</th>\n",
              "      <th>aapt</th>\n",
              "      <th>abandoned</th>\n",
              "      <th>abb</th>\n",
              "      <th>abbrev</th>\n",
              "      <th>abby</th>\n",
              "      <th>abc</th>\n",
              "      <th>abcd</th>\n",
              "      <th>abdias</th>\n",
              "      <th>ability</th>\n",
              "      <th>able</th>\n",
              "      <th>abomination</th>\n",
              "      <th>aborted</th>\n",
              "      <th>abortonwarninglevel</th>\n",
              "      <th>abs</th>\n",
              "      <th>absolute</th>\n",
              "      <th>absolutefilepath</th>\n",
              "      <th>absolutepath</th>\n",
              "      <th>abstract</th>\n",
              "      <th>abstractiterator</th>\n",
              "      <th>acc</th>\n",
              "      <th>accept</th>\n",
              "      <th>accepted</th>\n",
              "      <th>accepts</th>\n",
              "      <th>acces</th>\n",
              "      <th>access</th>\n",
              "      <th>accessed</th>\n",
              "      <th>accessfailedcount</th>\n",
              "      <th>accessible</th>\n",
              "      <th>accessing</th>\n",
              "      <th>accesskey</th>\n",
              "      <th>accomplish</th>\n",
              "      <th>accomplishes</th>\n",
              "      <th>according</th>\n",
              "      <th>accordingly</th>\n",
              "      <th>account</th>\n",
              "      <th>accountapi</th>\n",
              "      <th>accountnumber</th>\n",
              "      <th>accountrequirement</th>\n",
              "      <th>accounts</th>\n",
              "      <th>...</th>\n",
              "      <th>xyseriesrenderer</th>\n",
              "      <th>xyz</th>\n",
              "      <th>xze</th>\n",
              "      <th>yahoo</th>\n",
              "      <th>year</th>\n",
              "      <th>yearofsale</th>\n",
              "      <th>years</th>\n",
              "      <th>yellow</th>\n",
              "      <th>yes</th>\n",
              "      <th>yesgo</th>\n",
              "      <th>yesterday</th>\n",
              "      <th>yet</th>\n",
              "      <th>yield</th>\n",
              "      <th>yii</th>\n",
              "      <th>ylyp</th>\n",
              "      <th>york</th>\n",
              "      <th>yould</th>\n",
              "      <th>youtube</th>\n",
              "      <th>youtubeandroidapidemo</th>\n",
              "      <th>youtubestandaloneplayer</th>\n",
              "      <th>yposition</th>\n",
              "      <th>ysod</th>\n",
              "      <th>ytakzk</th>\n",
              "      <th>yylineno</th>\n",
              "      <th>yytext</th>\n",
              "      <th>yyyy</th>\n",
              "      <th>zappos</th>\n",
              "      <th>zerg</th>\n",
              "      <th>zero</th>\n",
              "      <th>zeros</th>\n",
              "      <th>zii</th>\n",
              "      <th>zip</th>\n",
              "      <th>zipped</th>\n",
              "      <th>zipwith</th>\n",
              "      <th>zlib</th>\n",
              "      <th>zlibinflated</th>\n",
              "      <th>zoom</th>\n",
              "      <th>zoomed</th>\n",
              "      <th>zygoteinit</th>\n",
              "      <th>ﬁnal</th>\n",
              "    </tr>\n",
              "  </thead>\n",
              "  <tbody>\n",
              "    <tr>\n",
              "      <th>0</th>\n",
              "      <td>0</td>\n",
              "      <td>0</td>\n",
              "      <td>0</td>\n",
              "      <td>0</td>\n",
              "      <td>0</td>\n",
              "      <td>0</td>\n",
              "      <td>0</td>\n",
              "      <td>0</td>\n",
              "      <td>0</td>\n",
              "      <td>0</td>\n",
              "      <td>0</td>\n",
              "      <td>0</td>\n",
              "      <td>0</td>\n",
              "      <td>0</td>\n",
              "      <td>0</td>\n",
              "      <td>0</td>\n",
              "      <td>0</td>\n",
              "      <td>0</td>\n",
              "      <td>0</td>\n",
              "      <td>0</td>\n",
              "      <td>0</td>\n",
              "      <td>0</td>\n",
              "      <td>0</td>\n",
              "      <td>0</td>\n",
              "      <td>0</td>\n",
              "      <td>0</td>\n",
              "      <td>0</td>\n",
              "      <td>0</td>\n",
              "      <td>0</td>\n",
              "      <td>0</td>\n",
              "      <td>0</td>\n",
              "      <td>0</td>\n",
              "      <td>0</td>\n",
              "      <td>0</td>\n",
              "      <td>0</td>\n",
              "      <td>0</td>\n",
              "      <td>0</td>\n",
              "      <td>0</td>\n",
              "      <td>0</td>\n",
              "      <td>0</td>\n",
              "      <td>...</td>\n",
              "      <td>0</td>\n",
              "      <td>0</td>\n",
              "      <td>0</td>\n",
              "      <td>0</td>\n",
              "      <td>0</td>\n",
              "      <td>0</td>\n",
              "      <td>0</td>\n",
              "      <td>0</td>\n",
              "      <td>0</td>\n",
              "      <td>0</td>\n",
              "      <td>0</td>\n",
              "      <td>0</td>\n",
              "      <td>0</td>\n",
              "      <td>0</td>\n",
              "      <td>0</td>\n",
              "      <td>0</td>\n",
              "      <td>0</td>\n",
              "      <td>0</td>\n",
              "      <td>0</td>\n",
              "      <td>0</td>\n",
              "      <td>0</td>\n",
              "      <td>0</td>\n",
              "      <td>0</td>\n",
              "      <td>0</td>\n",
              "      <td>0</td>\n",
              "      <td>0</td>\n",
              "      <td>0</td>\n",
              "      <td>0</td>\n",
              "      <td>0</td>\n",
              "      <td>0</td>\n",
              "      <td>0</td>\n",
              "      <td>0</td>\n",
              "      <td>0</td>\n",
              "      <td>0</td>\n",
              "      <td>0</td>\n",
              "      <td>0</td>\n",
              "      <td>0</td>\n",
              "      <td>0</td>\n",
              "      <td>0</td>\n",
              "      <td>0</td>\n",
              "    </tr>\n",
              "    <tr>\n",
              "      <th>1</th>\n",
              "      <td>0</td>\n",
              "      <td>0</td>\n",
              "      <td>0</td>\n",
              "      <td>0</td>\n",
              "      <td>0</td>\n",
              "      <td>0</td>\n",
              "      <td>0</td>\n",
              "      <td>0</td>\n",
              "      <td>0</td>\n",
              "      <td>0</td>\n",
              "      <td>0</td>\n",
              "      <td>0</td>\n",
              "      <td>0</td>\n",
              "      <td>0</td>\n",
              "      <td>0</td>\n",
              "      <td>0</td>\n",
              "      <td>0</td>\n",
              "      <td>0</td>\n",
              "      <td>0</td>\n",
              "      <td>0</td>\n",
              "      <td>0</td>\n",
              "      <td>0</td>\n",
              "      <td>0</td>\n",
              "      <td>0</td>\n",
              "      <td>0</td>\n",
              "      <td>0</td>\n",
              "      <td>0</td>\n",
              "      <td>0</td>\n",
              "      <td>0</td>\n",
              "      <td>0</td>\n",
              "      <td>0</td>\n",
              "      <td>0</td>\n",
              "      <td>0</td>\n",
              "      <td>0</td>\n",
              "      <td>0</td>\n",
              "      <td>0</td>\n",
              "      <td>0</td>\n",
              "      <td>0</td>\n",
              "      <td>0</td>\n",
              "      <td>0</td>\n",
              "      <td>...</td>\n",
              "      <td>0</td>\n",
              "      <td>0</td>\n",
              "      <td>0</td>\n",
              "      <td>0</td>\n",
              "      <td>0</td>\n",
              "      <td>0</td>\n",
              "      <td>0</td>\n",
              "      <td>0</td>\n",
              "      <td>0</td>\n",
              "      <td>0</td>\n",
              "      <td>0</td>\n",
              "      <td>0</td>\n",
              "      <td>0</td>\n",
              "      <td>0</td>\n",
              "      <td>0</td>\n",
              "      <td>0</td>\n",
              "      <td>0</td>\n",
              "      <td>0</td>\n",
              "      <td>0</td>\n",
              "      <td>0</td>\n",
              "      <td>0</td>\n",
              "      <td>0</td>\n",
              "      <td>0</td>\n",
              "      <td>0</td>\n",
              "      <td>0</td>\n",
              "      <td>0</td>\n",
              "      <td>0</td>\n",
              "      <td>0</td>\n",
              "      <td>0</td>\n",
              "      <td>0</td>\n",
              "      <td>0</td>\n",
              "      <td>0</td>\n",
              "      <td>0</td>\n",
              "      <td>0</td>\n",
              "      <td>0</td>\n",
              "      <td>0</td>\n",
              "      <td>0</td>\n",
              "      <td>0</td>\n",
              "      <td>0</td>\n",
              "      <td>0</td>\n",
              "    </tr>\n",
              "    <tr>\n",
              "      <th>2</th>\n",
              "      <td>0</td>\n",
              "      <td>0</td>\n",
              "      <td>0</td>\n",
              "      <td>0</td>\n",
              "      <td>0</td>\n",
              "      <td>0</td>\n",
              "      <td>0</td>\n",
              "      <td>0</td>\n",
              "      <td>0</td>\n",
              "      <td>0</td>\n",
              "      <td>0</td>\n",
              "      <td>0</td>\n",
              "      <td>0</td>\n",
              "      <td>0</td>\n",
              "      <td>0</td>\n",
              "      <td>0</td>\n",
              "      <td>0</td>\n",
              "      <td>0</td>\n",
              "      <td>0</td>\n",
              "      <td>0</td>\n",
              "      <td>0</td>\n",
              "      <td>0</td>\n",
              "      <td>0</td>\n",
              "      <td>0</td>\n",
              "      <td>0</td>\n",
              "      <td>1</td>\n",
              "      <td>0</td>\n",
              "      <td>0</td>\n",
              "      <td>0</td>\n",
              "      <td>0</td>\n",
              "      <td>0</td>\n",
              "      <td>0</td>\n",
              "      <td>0</td>\n",
              "      <td>0</td>\n",
              "      <td>0</td>\n",
              "      <td>0</td>\n",
              "      <td>0</td>\n",
              "      <td>0</td>\n",
              "      <td>0</td>\n",
              "      <td>0</td>\n",
              "      <td>...</td>\n",
              "      <td>0</td>\n",
              "      <td>0</td>\n",
              "      <td>0</td>\n",
              "      <td>0</td>\n",
              "      <td>0</td>\n",
              "      <td>0</td>\n",
              "      <td>0</td>\n",
              "      <td>0</td>\n",
              "      <td>0</td>\n",
              "      <td>0</td>\n",
              "      <td>0</td>\n",
              "      <td>0</td>\n",
              "      <td>0</td>\n",
              "      <td>0</td>\n",
              "      <td>0</td>\n",
              "      <td>0</td>\n",
              "      <td>0</td>\n",
              "      <td>0</td>\n",
              "      <td>0</td>\n",
              "      <td>0</td>\n",
              "      <td>0</td>\n",
              "      <td>0</td>\n",
              "      <td>0</td>\n",
              "      <td>0</td>\n",
              "      <td>0</td>\n",
              "      <td>0</td>\n",
              "      <td>0</td>\n",
              "      <td>0</td>\n",
              "      <td>0</td>\n",
              "      <td>0</td>\n",
              "      <td>0</td>\n",
              "      <td>0</td>\n",
              "      <td>0</td>\n",
              "      <td>0</td>\n",
              "      <td>0</td>\n",
              "      <td>0</td>\n",
              "      <td>0</td>\n",
              "      <td>0</td>\n",
              "      <td>0</td>\n",
              "      <td>0</td>\n",
              "    </tr>\n",
              "    <tr>\n",
              "      <th>3</th>\n",
              "      <td>0</td>\n",
              "      <td>0</td>\n",
              "      <td>0</td>\n",
              "      <td>0</td>\n",
              "      <td>0</td>\n",
              "      <td>0</td>\n",
              "      <td>0</td>\n",
              "      <td>0</td>\n",
              "      <td>0</td>\n",
              "      <td>0</td>\n",
              "      <td>0</td>\n",
              "      <td>0</td>\n",
              "      <td>0</td>\n",
              "      <td>0</td>\n",
              "      <td>0</td>\n",
              "      <td>0</td>\n",
              "      <td>0</td>\n",
              "      <td>0</td>\n",
              "      <td>0</td>\n",
              "      <td>0</td>\n",
              "      <td>0</td>\n",
              "      <td>0</td>\n",
              "      <td>0</td>\n",
              "      <td>0</td>\n",
              "      <td>0</td>\n",
              "      <td>0</td>\n",
              "      <td>0</td>\n",
              "      <td>0</td>\n",
              "      <td>0</td>\n",
              "      <td>0</td>\n",
              "      <td>0</td>\n",
              "      <td>0</td>\n",
              "      <td>0</td>\n",
              "      <td>0</td>\n",
              "      <td>0</td>\n",
              "      <td>0</td>\n",
              "      <td>0</td>\n",
              "      <td>0</td>\n",
              "      <td>0</td>\n",
              "      <td>0</td>\n",
              "      <td>...</td>\n",
              "      <td>0</td>\n",
              "      <td>0</td>\n",
              "      <td>0</td>\n",
              "      <td>0</td>\n",
              "      <td>0</td>\n",
              "      <td>0</td>\n",
              "      <td>0</td>\n",
              "      <td>0</td>\n",
              "      <td>0</td>\n",
              "      <td>0</td>\n",
              "      <td>0</td>\n",
              "      <td>0</td>\n",
              "      <td>0</td>\n",
              "      <td>0</td>\n",
              "      <td>0</td>\n",
              "      <td>0</td>\n",
              "      <td>0</td>\n",
              "      <td>0</td>\n",
              "      <td>0</td>\n",
              "      <td>0</td>\n",
              "      <td>0</td>\n",
              "      <td>0</td>\n",
              "      <td>0</td>\n",
              "      <td>0</td>\n",
              "      <td>0</td>\n",
              "      <td>0</td>\n",
              "      <td>0</td>\n",
              "      <td>0</td>\n",
              "      <td>0</td>\n",
              "      <td>0</td>\n",
              "      <td>0</td>\n",
              "      <td>0</td>\n",
              "      <td>0</td>\n",
              "      <td>0</td>\n",
              "      <td>0</td>\n",
              "      <td>0</td>\n",
              "      <td>0</td>\n",
              "      <td>0</td>\n",
              "      <td>0</td>\n",
              "      <td>0</td>\n",
              "    </tr>\n",
              "    <tr>\n",
              "      <th>4</th>\n",
              "      <td>0</td>\n",
              "      <td>0</td>\n",
              "      <td>0</td>\n",
              "      <td>0</td>\n",
              "      <td>0</td>\n",
              "      <td>0</td>\n",
              "      <td>0</td>\n",
              "      <td>0</td>\n",
              "      <td>0</td>\n",
              "      <td>0</td>\n",
              "      <td>1</td>\n",
              "      <td>0</td>\n",
              "      <td>0</td>\n",
              "      <td>0</td>\n",
              "      <td>0</td>\n",
              "      <td>0</td>\n",
              "      <td>0</td>\n",
              "      <td>0</td>\n",
              "      <td>0</td>\n",
              "      <td>0</td>\n",
              "      <td>0</td>\n",
              "      <td>0</td>\n",
              "      <td>0</td>\n",
              "      <td>0</td>\n",
              "      <td>0</td>\n",
              "      <td>0</td>\n",
              "      <td>0</td>\n",
              "      <td>0</td>\n",
              "      <td>0</td>\n",
              "      <td>0</td>\n",
              "      <td>0</td>\n",
              "      <td>0</td>\n",
              "      <td>0</td>\n",
              "      <td>0</td>\n",
              "      <td>0</td>\n",
              "      <td>0</td>\n",
              "      <td>0</td>\n",
              "      <td>0</td>\n",
              "      <td>0</td>\n",
              "      <td>0</td>\n",
              "      <td>...</td>\n",
              "      <td>0</td>\n",
              "      <td>0</td>\n",
              "      <td>0</td>\n",
              "      <td>0</td>\n",
              "      <td>0</td>\n",
              "      <td>0</td>\n",
              "      <td>0</td>\n",
              "      <td>0</td>\n",
              "      <td>0</td>\n",
              "      <td>0</td>\n",
              "      <td>0</td>\n",
              "      <td>0</td>\n",
              "      <td>0</td>\n",
              "      <td>0</td>\n",
              "      <td>0</td>\n",
              "      <td>0</td>\n",
              "      <td>0</td>\n",
              "      <td>0</td>\n",
              "      <td>0</td>\n",
              "      <td>0</td>\n",
              "      <td>0</td>\n",
              "      <td>0</td>\n",
              "      <td>0</td>\n",
              "      <td>0</td>\n",
              "      <td>0</td>\n",
              "      <td>0</td>\n",
              "      <td>0</td>\n",
              "      <td>0</td>\n",
              "      <td>0</td>\n",
              "      <td>0</td>\n",
              "      <td>0</td>\n",
              "      <td>0</td>\n",
              "      <td>0</td>\n",
              "      <td>0</td>\n",
              "      <td>0</td>\n",
              "      <td>0</td>\n",
              "      <td>0</td>\n",
              "      <td>0</td>\n",
              "      <td>0</td>\n",
              "      <td>0</td>\n",
              "    </tr>\n",
              "    <tr>\n",
              "      <th>5</th>\n",
              "      <td>0</td>\n",
              "      <td>0</td>\n",
              "      <td>0</td>\n",
              "      <td>0</td>\n",
              "      <td>0</td>\n",
              "      <td>0</td>\n",
              "      <td>0</td>\n",
              "      <td>0</td>\n",
              "      <td>0</td>\n",
              "      <td>0</td>\n",
              "      <td>0</td>\n",
              "      <td>0</td>\n",
              "      <td>0</td>\n",
              "      <td>0</td>\n",
              "      <td>0</td>\n",
              "      <td>0</td>\n",
              "      <td>0</td>\n",
              "      <td>0</td>\n",
              "      <td>0</td>\n",
              "      <td>0</td>\n",
              "      <td>0</td>\n",
              "      <td>0</td>\n",
              "      <td>0</td>\n",
              "      <td>0</td>\n",
              "      <td>0</td>\n",
              "      <td>0</td>\n",
              "      <td>0</td>\n",
              "      <td>0</td>\n",
              "      <td>0</td>\n",
              "      <td>0</td>\n",
              "      <td>0</td>\n",
              "      <td>0</td>\n",
              "      <td>0</td>\n",
              "      <td>0</td>\n",
              "      <td>0</td>\n",
              "      <td>0</td>\n",
              "      <td>0</td>\n",
              "      <td>0</td>\n",
              "      <td>0</td>\n",
              "      <td>0</td>\n",
              "      <td>...</td>\n",
              "      <td>0</td>\n",
              "      <td>0</td>\n",
              "      <td>0</td>\n",
              "      <td>0</td>\n",
              "      <td>0</td>\n",
              "      <td>0</td>\n",
              "      <td>0</td>\n",
              "      <td>0</td>\n",
              "      <td>0</td>\n",
              "      <td>0</td>\n",
              "      <td>0</td>\n",
              "      <td>0</td>\n",
              "      <td>0</td>\n",
              "      <td>0</td>\n",
              "      <td>0</td>\n",
              "      <td>0</td>\n",
              "      <td>0</td>\n",
              "      <td>0</td>\n",
              "      <td>0</td>\n",
              "      <td>0</td>\n",
              "      <td>0</td>\n",
              "      <td>0</td>\n",
              "      <td>0</td>\n",
              "      <td>0</td>\n",
              "      <td>0</td>\n",
              "      <td>0</td>\n",
              "      <td>0</td>\n",
              "      <td>0</td>\n",
              "      <td>0</td>\n",
              "      <td>0</td>\n",
              "      <td>0</td>\n",
              "      <td>0</td>\n",
              "      <td>0</td>\n",
              "      <td>0</td>\n",
              "      <td>0</td>\n",
              "      <td>0</td>\n",
              "      <td>0</td>\n",
              "      <td>0</td>\n",
              "      <td>0</td>\n",
              "      <td>0</td>\n",
              "    </tr>\n",
              "    <tr>\n",
              "      <th>6</th>\n",
              "      <td>0</td>\n",
              "      <td>0</td>\n",
              "      <td>0</td>\n",
              "      <td>0</td>\n",
              "      <td>0</td>\n",
              "      <td>0</td>\n",
              "      <td>0</td>\n",
              "      <td>0</td>\n",
              "      <td>0</td>\n",
              "      <td>0</td>\n",
              "      <td>0</td>\n",
              "      <td>0</td>\n",
              "      <td>0</td>\n",
              "      <td>0</td>\n",
              "      <td>0</td>\n",
              "      <td>0</td>\n",
              "      <td>0</td>\n",
              "      <td>0</td>\n",
              "      <td>0</td>\n",
              "      <td>0</td>\n",
              "      <td>0</td>\n",
              "      <td>0</td>\n",
              "      <td>0</td>\n",
              "      <td>0</td>\n",
              "      <td>0</td>\n",
              "      <td>0</td>\n",
              "      <td>0</td>\n",
              "      <td>0</td>\n",
              "      <td>0</td>\n",
              "      <td>0</td>\n",
              "      <td>0</td>\n",
              "      <td>0</td>\n",
              "      <td>0</td>\n",
              "      <td>0</td>\n",
              "      <td>0</td>\n",
              "      <td>0</td>\n",
              "      <td>0</td>\n",
              "      <td>0</td>\n",
              "      <td>0</td>\n",
              "      <td>0</td>\n",
              "      <td>...</td>\n",
              "      <td>0</td>\n",
              "      <td>0</td>\n",
              "      <td>0</td>\n",
              "      <td>0</td>\n",
              "      <td>0</td>\n",
              "      <td>0</td>\n",
              "      <td>0</td>\n",
              "      <td>0</td>\n",
              "      <td>0</td>\n",
              "      <td>0</td>\n",
              "      <td>0</td>\n",
              "      <td>0</td>\n",
              "      <td>0</td>\n",
              "      <td>0</td>\n",
              "      <td>0</td>\n",
              "      <td>0</td>\n",
              "      <td>0</td>\n",
              "      <td>0</td>\n",
              "      <td>0</td>\n",
              "      <td>0</td>\n",
              "      <td>0</td>\n",
              "      <td>0</td>\n",
              "      <td>0</td>\n",
              "      <td>0</td>\n",
              "      <td>0</td>\n",
              "      <td>0</td>\n",
              "      <td>0</td>\n",
              "      <td>0</td>\n",
              "      <td>0</td>\n",
              "      <td>0</td>\n",
              "      <td>0</td>\n",
              "      <td>0</td>\n",
              "      <td>0</td>\n",
              "      <td>0</td>\n",
              "      <td>0</td>\n",
              "      <td>0</td>\n",
              "      <td>0</td>\n",
              "      <td>0</td>\n",
              "      <td>0</td>\n",
              "      <td>0</td>\n",
              "    </tr>\n",
              "    <tr>\n",
              "      <th>7</th>\n",
              "      <td>0</td>\n",
              "      <td>0</td>\n",
              "      <td>0</td>\n",
              "      <td>0</td>\n",
              "      <td>0</td>\n",
              "      <td>0</td>\n",
              "      <td>0</td>\n",
              "      <td>0</td>\n",
              "      <td>0</td>\n",
              "      <td>0</td>\n",
              "      <td>0</td>\n",
              "      <td>0</td>\n",
              "      <td>0</td>\n",
              "      <td>0</td>\n",
              "      <td>0</td>\n",
              "      <td>0</td>\n",
              "      <td>0</td>\n",
              "      <td>0</td>\n",
              "      <td>0</td>\n",
              "      <td>0</td>\n",
              "      <td>0</td>\n",
              "      <td>0</td>\n",
              "      <td>0</td>\n",
              "      <td>0</td>\n",
              "      <td>0</td>\n",
              "      <td>0</td>\n",
              "      <td>0</td>\n",
              "      <td>0</td>\n",
              "      <td>0</td>\n",
              "      <td>0</td>\n",
              "      <td>0</td>\n",
              "      <td>0</td>\n",
              "      <td>0</td>\n",
              "      <td>0</td>\n",
              "      <td>0</td>\n",
              "      <td>0</td>\n",
              "      <td>0</td>\n",
              "      <td>0</td>\n",
              "      <td>0</td>\n",
              "      <td>0</td>\n",
              "      <td>...</td>\n",
              "      <td>0</td>\n",
              "      <td>0</td>\n",
              "      <td>0</td>\n",
              "      <td>0</td>\n",
              "      <td>0</td>\n",
              "      <td>0</td>\n",
              "      <td>0</td>\n",
              "      <td>0</td>\n",
              "      <td>0</td>\n",
              "      <td>0</td>\n",
              "      <td>0</td>\n",
              "      <td>0</td>\n",
              "      <td>0</td>\n",
              "      <td>0</td>\n",
              "      <td>0</td>\n",
              "      <td>0</td>\n",
              "      <td>0</td>\n",
              "      <td>0</td>\n",
              "      <td>0</td>\n",
              "      <td>0</td>\n",
              "      <td>0</td>\n",
              "      <td>0</td>\n",
              "      <td>0</td>\n",
              "      <td>0</td>\n",
              "      <td>0</td>\n",
              "      <td>0</td>\n",
              "      <td>0</td>\n",
              "      <td>0</td>\n",
              "      <td>0</td>\n",
              "      <td>0</td>\n",
              "      <td>0</td>\n",
              "      <td>0</td>\n",
              "      <td>0</td>\n",
              "      <td>0</td>\n",
              "      <td>0</td>\n",
              "      <td>0</td>\n",
              "      <td>0</td>\n",
              "      <td>0</td>\n",
              "      <td>0</td>\n",
              "      <td>0</td>\n",
              "    </tr>\n",
              "    <tr>\n",
              "      <th>8</th>\n",
              "      <td>0</td>\n",
              "      <td>0</td>\n",
              "      <td>0</td>\n",
              "      <td>0</td>\n",
              "      <td>0</td>\n",
              "      <td>0</td>\n",
              "      <td>0</td>\n",
              "      <td>0</td>\n",
              "      <td>0</td>\n",
              "      <td>0</td>\n",
              "      <td>0</td>\n",
              "      <td>0</td>\n",
              "      <td>0</td>\n",
              "      <td>0</td>\n",
              "      <td>0</td>\n",
              "      <td>0</td>\n",
              "      <td>0</td>\n",
              "      <td>0</td>\n",
              "      <td>0</td>\n",
              "      <td>0</td>\n",
              "      <td>0</td>\n",
              "      <td>0</td>\n",
              "      <td>0</td>\n",
              "      <td>0</td>\n",
              "      <td>0</td>\n",
              "      <td>0</td>\n",
              "      <td>0</td>\n",
              "      <td>0</td>\n",
              "      <td>0</td>\n",
              "      <td>0</td>\n",
              "      <td>0</td>\n",
              "      <td>0</td>\n",
              "      <td>0</td>\n",
              "      <td>0</td>\n",
              "      <td>0</td>\n",
              "      <td>0</td>\n",
              "      <td>0</td>\n",
              "      <td>0</td>\n",
              "      <td>0</td>\n",
              "      <td>0</td>\n",
              "      <td>...</td>\n",
              "      <td>0</td>\n",
              "      <td>0</td>\n",
              "      <td>0</td>\n",
              "      <td>0</td>\n",
              "      <td>0</td>\n",
              "      <td>0</td>\n",
              "      <td>0</td>\n",
              "      <td>0</td>\n",
              "      <td>0</td>\n",
              "      <td>0</td>\n",
              "      <td>0</td>\n",
              "      <td>0</td>\n",
              "      <td>0</td>\n",
              "      <td>0</td>\n",
              "      <td>0</td>\n",
              "      <td>0</td>\n",
              "      <td>0</td>\n",
              "      <td>0</td>\n",
              "      <td>0</td>\n",
              "      <td>0</td>\n",
              "      <td>0</td>\n",
              "      <td>0</td>\n",
              "      <td>0</td>\n",
              "      <td>0</td>\n",
              "      <td>0</td>\n",
              "      <td>0</td>\n",
              "      <td>0</td>\n",
              "      <td>0</td>\n",
              "      <td>0</td>\n",
              "      <td>0</td>\n",
              "      <td>0</td>\n",
              "      <td>0</td>\n",
              "      <td>0</td>\n",
              "      <td>0</td>\n",
              "      <td>0</td>\n",
              "      <td>0</td>\n",
              "      <td>0</td>\n",
              "      <td>0</td>\n",
              "      <td>0</td>\n",
              "      <td>0</td>\n",
              "    </tr>\n",
              "    <tr>\n",
              "      <th>9</th>\n",
              "      <td>0</td>\n",
              "      <td>0</td>\n",
              "      <td>0</td>\n",
              "      <td>0</td>\n",
              "      <td>0</td>\n",
              "      <td>0</td>\n",
              "      <td>0</td>\n",
              "      <td>0</td>\n",
              "      <td>0</td>\n",
              "      <td>0</td>\n",
              "      <td>0</td>\n",
              "      <td>0</td>\n",
              "      <td>0</td>\n",
              "      <td>0</td>\n",
              "      <td>0</td>\n",
              "      <td>0</td>\n",
              "      <td>0</td>\n",
              "      <td>0</td>\n",
              "      <td>0</td>\n",
              "      <td>0</td>\n",
              "      <td>0</td>\n",
              "      <td>0</td>\n",
              "      <td>0</td>\n",
              "      <td>0</td>\n",
              "      <td>0</td>\n",
              "      <td>0</td>\n",
              "      <td>0</td>\n",
              "      <td>0</td>\n",
              "      <td>0</td>\n",
              "      <td>0</td>\n",
              "      <td>0</td>\n",
              "      <td>0</td>\n",
              "      <td>0</td>\n",
              "      <td>0</td>\n",
              "      <td>0</td>\n",
              "      <td>0</td>\n",
              "      <td>0</td>\n",
              "      <td>0</td>\n",
              "      <td>0</td>\n",
              "      <td>0</td>\n",
              "      <td>...</td>\n",
              "      <td>0</td>\n",
              "      <td>0</td>\n",
              "      <td>0</td>\n",
              "      <td>0</td>\n",
              "      <td>0</td>\n",
              "      <td>0</td>\n",
              "      <td>0</td>\n",
              "      <td>0</td>\n",
              "      <td>0</td>\n",
              "      <td>0</td>\n",
              "      <td>0</td>\n",
              "      <td>0</td>\n",
              "      <td>0</td>\n",
              "      <td>0</td>\n",
              "      <td>0</td>\n",
              "      <td>0</td>\n",
              "      <td>0</td>\n",
              "      <td>0</td>\n",
              "      <td>0</td>\n",
              "      <td>0</td>\n",
              "      <td>0</td>\n",
              "      <td>0</td>\n",
              "      <td>0</td>\n",
              "      <td>3</td>\n",
              "      <td>9</td>\n",
              "      <td>0</td>\n",
              "      <td>0</td>\n",
              "      <td>0</td>\n",
              "      <td>0</td>\n",
              "      <td>0</td>\n",
              "      <td>0</td>\n",
              "      <td>0</td>\n",
              "      <td>0</td>\n",
              "      <td>0</td>\n",
              "      <td>0</td>\n",
              "      <td>0</td>\n",
              "      <td>0</td>\n",
              "      <td>0</td>\n",
              "      <td>0</td>\n",
              "      <td>0</td>\n",
              "    </tr>\n",
              "  </tbody>\n",
              "</table>\n",
              "<p>10 rows × 8308 columns</p>\n",
              "</div>"
            ],
            "text/plain": [
              "   aapl  aapt  abandoned  abb  ...  zoom  zoomed  zygoteinit  ﬁnal\n",
              "0     0     0          0    0  ...     0       0           0     0\n",
              "1     0     0          0    0  ...     0       0           0     0\n",
              "2     0     0          0    0  ...     0       0           0     0\n",
              "3     0     0          0    0  ...     0       0           0     0\n",
              "4     0     0          0    0  ...     0       0           0     0\n",
              "5     0     0          0    0  ...     0       0           0     0\n",
              "6     0     0          0    0  ...     0       0           0     0\n",
              "7     0     0          0    0  ...     0       0           0     0\n",
              "8     0     0          0    0  ...     0       0           0     0\n",
              "9     0     0          0    0  ...     0       0           0     0\n",
              "\n",
              "[10 rows x 8308 columns]"
            ]
          },
          "metadata": {},
          "execution_count": 38
        }
      ]
    },
    {
      "cell_type": "markdown",
      "metadata": {
        "id": "EyrNMavD-Y_p"
      },
      "source": [
        "Con del DataFrame es más fácil hacer consultas. \n",
        "\n",
        "**¿En qué post de stackoverflow aparece más veces la palabra `eclipse`?**\n",
        "\n"
      ]
    },
    {
      "cell_type": "code",
      "metadata": {
        "id": "95L2ivubDRjh",
        "colab": {
          "base_uri": "https://localhost:8080/"
        },
        "outputId": "5b049799-34b6-40ea-8fbc-10399a3e6d0d"
      },
      "source": [
        "eclipse_idx = wc_df[[\"eclipse\"]].idxmax()[0]  # TODO\n",
        "\n",
        "pd.set_option(\"display.max_colwidth\", 50)\n",
        "stackoverflow_df[stackoverflow_df.index == eclipse_idx]['mtext']\n",
        "\n"
      ],
      "execution_count": 39,
      "outputs": [
        {
          "output_type": "execute_result",
          "data": {
            "text/plain": [
              "300    ['running', 'executable', 'jar', 'file', 'usin...\n",
              "Name: mtext, dtype: object"
            ]
          },
          "metadata": {},
          "execution_count": 39
        }
      ]
    },
    {
      "cell_type": "markdown",
      "metadata": {
        "id": "lGg98DxE4I1r"
      },
      "source": [
        "## 2.2 TF*IDF TfidfTransformer\n",
        "\n",
        "\n",
        "Ya hemos visto en qué consiste el método $TF*IDF$. Con el objeto **TfidfTransformer** se pueden calcular las puntuaciones TF-IDF."
      ]
    },
    {
      "cell_type": "code",
      "metadata": {
        "id": "eCGm_YVOQrGJ"
      },
      "source": [
        "from sklearn.feature_extraction.text import TfidfTransformer\n",
        "\n",
        "transformer = TfidfTransformer (smooth_idf=True, use_idf=True)\n",
        "tf_idf_matrix = transformer.fit_transform(word_count_vector)  #TODO : transformar word_count_vector en tf*idf"
      ],
      "execution_count": 41,
      "outputs": []
    },
    {
      "cell_type": "markdown",
      "metadata": {
        "id": "ByyR06R1Fh0e"
      },
      "source": [
        "Este código ha generado una matriz de puntuaciones tf-idf. ¿Las dimensiones de esta matriz coinciden con la obtenida de `CountVectorize`?"
      ]
    },
    {
      "cell_type": "code",
      "metadata": {
        "id": "xvhkjYkeD3Nu",
        "colab": {
          "base_uri": "https://localhost:8080/"
        },
        "outputId": "3543f866-f7aa-42fb-808e-846682074450"
      },
      "source": [
        "tf_idf_matrix.shape #TODO"
      ],
      "execution_count": 42,
      "outputs": [
        {
          "output_type": "execute_result",
          "data": {
            "text/plain": [
              "(500, 8308)"
            ]
          },
          "metadata": {},
          "execution_count": 42
        }
      ]
    },
    {
      "cell_type": "code",
      "metadata": {
        "colab": {
          "base_uri": "https://localhost:8080/"
        },
        "id": "6XMYgvMxY1T4",
        "outputId": "aea11790-4611-4304-ea46-9d45869d4811"
      },
      "source": [
        "word_count_vector.shape"
      ],
      "execution_count": 44,
      "outputs": [
        {
          "output_type": "execute_result",
          "data": {
            "text/plain": [
              "(500, 8308)"
            ]
          },
          "metadata": {},
          "execution_count": 44
        }
      ]
    },
    {
      "cell_type": "markdown",
      "metadata": {
        "id": "12ykVK8vGxkv"
      },
      "source": [
        "De la misma forma, vamos a convertir la matriz en un DataFrame:"
      ]
    },
    {
      "cell_type": "code",
      "metadata": {
        "id": "kpwfeDaNSDuQ",
        "colab": {
          "base_uri": "https://localhost:8080/"
        },
        "outputId": "3856f794-2915-4497-91a0-31626a3ce8b8"
      },
      "source": [
        "tf_idf_df = pd.DataFrame (tf_idf_matrix.toarray(), columns=vectorizer.get_feature_names()) # TODO\n",
        "\n",
        "tf_idf_df[tf_idf_df['python']>0.1]['python']"
      ],
      "execution_count": 45,
      "outputs": [
        {
          "output_type": "execute_result",
          "data": {
            "text/plain": [
              "86     0.242081\n",
              "89     0.149126\n",
              "149    0.136325\n",
              "277    0.204171\n",
              "322    0.437338\n",
              "377    0.110072\n",
              "398    0.139595\n",
              "414    0.218184\n",
              "Name: python, dtype: float64"
            ]
          },
          "metadata": {},
          "execution_count": 45
        }
      ]
    },
    {
      "cell_type": "markdown",
      "metadata": {
        "id": "luQVcQwXRkfq"
      },
      "source": [
        "Es posible ordenar valores tf-idf en orden descendente:"
      ]
    },
    {
      "cell_type": "code",
      "metadata": {
        "id": "QaSxIFojRj_i",
        "colab": {
          "base_uri": "https://localhost:8080/"
        },
        "outputId": "6fc9d50d-cde0-44bc-d9a2-7dd2bed1efad"
      },
      "source": [
        "tf_idf_df['try'].nlargest(n=5)"
      ],
      "execution_count": 46,
      "outputs": [
        {
          "output_type": "execute_result",
          "data": {
            "text/plain": [
              "197    0.107599\n",
              "429    0.099571\n",
              "374    0.081433\n",
              "422    0.072375\n",
              "0      0.071129\n",
              "Name: try, dtype: float64"
            ]
          },
          "metadata": {},
          "execution_count": 46
        }
      ]
    },
    {
      "cell_type": "markdown",
      "metadata": {
        "id": "p6uSHRLUKcZD"
      },
      "source": [
        "El objetivo a continuación es extraer las $n$ palabras clave (`keywords`) que mejor representen cada una de las cuestiones planteadas en los datos de stackoverflow, según las puntuaciones tf-idf.\n",
        "\n",
        "\n",
        "\n"
      ]
    },
    {
      "cell_type": "code",
      "metadata": {
        "id": "KwAtG_xQMlVV",
        "colab": {
          "base_uri": "https://localhost:8080/"
        },
        "outputId": "fa8d100c-6fc6-432a-f0e9-b1f7532776fc"
      },
      "source": [
        "def extract_topn_keywords (row, vocabulary,topn=5):\n",
        "  # TODO \n",
        "  # TODO\n",
        "  row = row.sort_values(ascending=False)[:topn]\n",
        "  result = {}\n",
        "  wordList=[]\n",
        "  puntuacion=[]\n",
        "  for word , score in row.items():\n",
        "      wordList.append(word)\n",
        "      puntuacion.append(score)\n",
        "  \n",
        "  for idx in range(len(wordList)):\n",
        "        result[wordList[idx]]=puntuacion[idx]\n",
        "\n",
        "  return result\n",
        "\n",
        "\n",
        "for row in tf_idf_df[10:12].iterrows():\n",
        "  print(extract_topn_keywords(row[1], vocabulary))\n"
      ],
      "execution_count": 49,
      "outputs": [
        {
          "output_type": "stream",
          "name": "stdout",
          "text": [
            "{'item': 0.45111519256562804, 'listener': 0.43992958862383286, 'dynamodb': 0.35268125768546166, 'added': 0.20627448752935512, 'table': 0.189386407427687}\n",
            "{'amp': 0.6443568846400938, 'con': 0.3230288410531794, 'cmd': 0.27688186375986806, 'text': 0.26144778528249324, 'rdr': 0.16647728375112084}\n"
          ]
        }
      ]
    },
    {
      "cell_type": "code",
      "metadata": {
        "id": "Ci_PoR2dX1--"
      },
      "source": [
        "listaDict=[]\n",
        "for row in tf_idf_df[0:500].iterrows():\n",
        "  listaDict.append(extract_topn_keywords(row[1], vocabulary))\n"
      ],
      "execution_count": 50,
      "outputs": []
    },
    {
      "cell_type": "code",
      "metadata": {
        "id": "U20ySc7XX1--"
      },
      "source": [
        "stackoverflow_df['keywords'] = listaDict\n"
      ],
      "execution_count": 51,
      "outputs": []
    },
    {
      "cell_type": "code",
      "metadata": {
        "id": "J-gALLOxKVTL",
        "colab": {
          "base_uri": "https://localhost:8080/",
          "height": 576
        },
        "outputId": "b6904e43-69b0-44e6-bc4e-2f4b988d8857"
      },
      "source": [
        "stackoverflow_df.tail(5)"
      ],
      "execution_count": 52,
      "outputs": [
        {
          "output_type": "execute_result",
          "data": {
            "text/html": [
              "<div>\n",
              "<style scoped>\n",
              "    .dataframe tbody tr th:only-of-type {\n",
              "        vertical-align: middle;\n",
              "    }\n",
              "\n",
              "    .dataframe tbody tr th {\n",
              "        vertical-align: top;\n",
              "    }\n",
              "\n",
              "    .dataframe thead th {\n",
              "        text-align: right;\n",
              "    }\n",
              "</style>\n",
              "<table border=\"1\" class=\"dataframe\">\n",
              "  <thead>\n",
              "    <tr style=\"text-align: right;\">\n",
              "      <th></th>\n",
              "      <th>id</th>\n",
              "      <th>title</th>\n",
              "      <th>body</th>\n",
              "      <th>accepted_answer_id</th>\n",
              "      <th>answer_count</th>\n",
              "      <th>comment_count</th>\n",
              "      <th>creation_date</th>\n",
              "      <th>last_activity_date</th>\n",
              "      <th>last_edit_date</th>\n",
              "      <th>last_editor_display_name</th>\n",
              "      <th>last_editor_user_id</th>\n",
              "      <th>owner_display_name</th>\n",
              "      <th>owner_user_id</th>\n",
              "      <th>post_type_id</th>\n",
              "      <th>score</th>\n",
              "      <th>tags</th>\n",
              "      <th>view_count</th>\n",
              "      <th>favorite_count</th>\n",
              "      <th>text</th>\n",
              "      <th>mtext</th>\n",
              "      <th>keywords</th>\n",
              "    </tr>\n",
              "  </thead>\n",
              "  <tbody>\n",
              "    <tr>\n",
              "      <th>495</th>\n",
              "      <td>5972679</td>\n",
              "      <td>Is there any .NET string.format compatible fun...</td>\n",
              "      <td>&lt;p&gt;Is there any .NET string.format compatible ...</td>\n",
              "      <td>6001444.0</td>\n",
              "      <td>1</td>\n",
              "      <td>8</td>\n",
              "      <td>2011-05-12 02:23:05.997 UTC</td>\n",
              "      <td>2011-05-14 11:16:16.3 UTC</td>\n",
              "      <td>2011-05-14 11:16:16.3 UTC</td>\n",
              "      <td></td>\n",
              "      <td>26736.0</td>\n",
              "      <td></td>\n",
              "      <td>26736.0</td>\n",
              "      <td>1</td>\n",
              "      <td>4</td>\n",
              "      <td>delphi|formatting</td>\n",
              "      <td>403</td>\n",
              "      <td>NaN</td>\n",
              "      <td>Is there any .NET string.format compatible fun...</td>\n",
              "      <td>['net', 'string', 'format', 'compatible', 'fun...</td>\n",
              "      <td>{'delphi': 0.5683841195262558, 'compatible': 0...</td>\n",
              "    </tr>\n",
              "    <tr>\n",
              "      <th>496</th>\n",
              "      <td>21473995</td>\n",
              "      <td>How to handle failed XPATH lookup in MSXML fro...</td>\n",
              "      <td>&lt;p&gt;I am parsing a piece of XML returned from a...</td>\n",
              "      <td>21512998.0</td>\n",
              "      <td>2</td>\n",
              "      <td>0</td>\n",
              "      <td>2014-01-31 06:41:50.217 UTC</td>\n",
              "      <td>2014-02-02 16:33:58.39 UTC</td>\n",
              "      <td>NaN</td>\n",
              "      <td></td>\n",
              "      <td>NaN</td>\n",
              "      <td></td>\n",
              "      <td>274354.0</td>\n",
              "      <td>1</td>\n",
              "      <td>0</td>\n",
              "      <td>autoit|msxml</td>\n",
              "      <td>534</td>\n",
              "      <td>NaN</td>\n",
              "      <td>How to handle failed XPATH lookup in MSXML fro...</td>\n",
              "      <td>['handle', 'failed', 'xpath', 'lookup', 'msxml...</td>\n",
              "      <td>{'node': 0.4750340909620585, 'oxmldom': 0.3674...</td>\n",
              "    </tr>\n",
              "    <tr>\n",
              "      <th>497</th>\n",
              "      <td>11279736</td>\n",
              "      <td>Logo Animation - Don't know where to begin</td>\n",
              "      <td>&lt;p&gt;I'm trying to have a cool little animation ...</td>\n",
              "      <td>11897603.0</td>\n",
              "      <td>2</td>\n",
              "      <td>2</td>\n",
              "      <td>2012-07-01 05:07:28.437 UTC</td>\n",
              "      <td>2013-02-12 12:19:48.26 UTC</td>\n",
              "      <td>2013-02-12 12:19:48.26 UTC</td>\n",
              "      <td></td>\n",
              "      <td>1720391.0</td>\n",
              "      <td></td>\n",
              "      <td>1193321.0</td>\n",
              "      <td>1</td>\n",
              "      <td>1</td>\n",
              "      <td>android|opengl-es|android-animation</td>\n",
              "      <td>858</td>\n",
              "      <td>NaN</td>\n",
              "      <td>Logo Animation - Don't know where to begin&lt;p&gt;I...</td>\n",
              "      <td>['logo', 'animation', 'know', 'begini', 'tryin...</td>\n",
              "      <td>{'logo': 0.5236217220089756, 'step': 0.3776858...</td>\n",
              "    </tr>\n",
              "    <tr>\n",
              "      <th>498</th>\n",
              "      <td>33005260</td>\n",
              "      <td>How to introduce a new variable in Coq?</td>\n",
              "      <td>&lt;p&gt;I was wondering if there is a way to introd...</td>\n",
              "      <td>33005343.0</td>\n",
              "      <td>3</td>\n",
              "      <td>0</td>\n",
              "      <td>2015-10-08 01:44:46.92 UTC</td>\n",
              "      <td>2015-10-08 16:10:57.683 UTC</td>\n",
              "      <td>NaN</td>\n",
              "      <td></td>\n",
              "      <td>NaN</td>\n",
              "      <td></td>\n",
              "      <td>683218.0</td>\n",
              "      <td>1</td>\n",
              "      <td>2</td>\n",
              "      <td>coq|coq-tactic</td>\n",
              "      <td>933</td>\n",
              "      <td>2.0</td>\n",
              "      <td>How to introduce a new variable in Coq?&lt;p&gt;I wa...</td>\n",
              "      <td>['introduce', 'new', 'variable', 'coq', 'wonde...</td>\n",
              "      <td>{'list': 0.5520911933365639, 'coq': 0.33534258...</td>\n",
              "    </tr>\n",
              "    <tr>\n",
              "      <th>499</th>\n",
              "      <td>38318410</td>\n",
              "      <td>Facebook PHP SDK login and localhost</td>\n",
              "      <td>&lt;p&gt;I am trying to set FB SDK to work in my loc...</td>\n",
              "      <td>NaN</td>\n",
              "      <td>2</td>\n",
              "      <td>3</td>\n",
              "      <td>2016-07-12 00:58:03.357 UTC</td>\n",
              "      <td>2016-08-04 19:27:27.847 UTC</td>\n",
              "      <td>NaN</td>\n",
              "      <td></td>\n",
              "      <td>NaN</td>\n",
              "      <td></td>\n",
              "      <td>5849229.0</td>\n",
              "      <td>1</td>\n",
              "      <td>0</td>\n",
              "      <td>php|facebook|sdk|facebook-javascript-sdk|faceb...</td>\n",
              "      <td>513</td>\n",
              "      <td>NaN</td>\n",
              "      <td>Facebook PHP SDK login and localhost&lt;p&gt;I am tr...</td>\n",
              "      <td>['facebook', 'php', 'sdk', 'login', 'localhost...</td>\n",
              "      <td>{'sdk': 0.3647208704265683, 'oauth': 0.3647208...</td>\n",
              "    </tr>\n",
              "  </tbody>\n",
              "</table>\n",
              "</div>"
            ],
            "text/plain": [
              "           id  ...                                           keywords\n",
              "495   5972679  ...  {'delphi': 0.5683841195262558, 'compatible': 0...\n",
              "496  21473995  ...  {'node': 0.4750340909620585, 'oxmldom': 0.3674...\n",
              "497  11279736  ...  {'logo': 0.5236217220089756, 'step': 0.3776858...\n",
              "498  33005260  ...  {'list': 0.5520911933365639, 'coq': 0.33534258...\n",
              "499  38318410  ...  {'sdk': 0.3647208704265683, 'oauth': 0.3647208...\n",
              "\n",
              "[5 rows x 21 columns]"
            ]
          },
          "metadata": {},
          "execution_count": 52
        }
      ]
    },
    {
      "cell_type": "markdown",
      "metadata": {
        "id": "z815_bdDIPmT"
      },
      "source": [
        "Ahora hay que buscar los dos posts que sean más similares entre sí. Para ello vamos a calcular la **similitud del coseno** entre las matrices tf- idf:"
      ]
    },
    {
      "cell_type": "code",
      "metadata": {
        "colab": {
          "base_uri": "https://localhost:8080/",
          "height": 437
        },
        "id": "2kVZ3QVQX1-_",
        "outputId": "c180a4e3-bcf3-477c-9903-01b28697f6c9"
      },
      "source": [
        "keywordsDict_df=pd.json_normalize(stackoverflow_df['keywords'])\n",
        "keywordsDict_df=keywordsDict_df.fillna(0)\n",
        "keywordsDict_df\n"
      ],
      "execution_count": 55,
      "outputs": [
        {
          "output_type": "execute_result",
          "data": {
            "text/html": [
              "<div>\n",
              "<style scoped>\n",
              "    .dataframe tbody tr th:only-of-type {\n",
              "        vertical-align: middle;\n",
              "    }\n",
              "\n",
              "    .dataframe tbody tr th {\n",
              "        vertical-align: top;\n",
              "    }\n",
              "\n",
              "    .dataframe thead th {\n",
              "        text-align: right;\n",
              "    }\n",
              "</style>\n",
              "<table border=\"1\" class=\"dataframe\">\n",
              "  <thead>\n",
              "    <tr style=\"text-align: right;\">\n",
              "      <th></th>\n",
              "      <th>eclipse</th>\n",
              "      <th>integrate</th>\n",
              "      <th>tomcat</th>\n",
              "      <th>war</th>\n",
              "      <th>maven</th>\n",
              "      <th>sitepage</th>\n",
              "      <th>evaluate</th>\n",
              "      <th>content</th>\n",
              "      <th>phinstance</th>\n",
              "      <th>log</th>\n",
              "      <th>legacycasmodel</th>\n",
              "      <th>dynamic</th>\n",
              "      <th>operations</th>\n",
              "      <th>performed</th>\n",
              "      <th>net</th>\n",
              "      <th>damask</th>\n",
              "      <th>background</th>\n",
              "      <th>image</th>\n",
              "      <th>jpg</th>\n",
              "      <th>img</th>\n",
              "      <th>uri</th>\n",
              "      <th>bitmap</th>\n",
              "      <th>share</th>\n",
              "      <th>paint</th>\n",
              "      <th>intent</th>\n",
              "      <th>stylesheet</th>\n",
              "      <th>font</th>\n",
              "      <th>external</th>\n",
              "      <th>ratingz</th>\n",
              "      <th>url</th>\n",
              "      <th>word</th>\n",
              "      <th>player</th>\n",
              "      <th>getsource</th>\n",
              "      <th>joptionpane</th>\n",
              "      <th>nthe</th>\n",
              "      <th>networkstream</th>\n",
              "      <th>tcpclient</th>\n",
              "      <th>server</th>\n",
              "      <th>ctx</th>\n",
              "      <th>receive</th>\n",
              "      <th>...</th>\n",
              "      <th>loopstage</th>\n",
              "      <th>piece</th>\n",
              "      <th>section</th>\n",
              "      <th>pull</th>\n",
              "      <th>validatedschema</th>\n",
              "      <th>backup</th>\n",
              "      <th>dlmdatabaseschema</th>\n",
              "      <th>icon</th>\n",
              "      <th>boozemap</th>\n",
              "      <th>enabledragging</th>\n",
              "      <th>bcmarker</th>\n",
              "      <th>debit</th>\n",
              "      <th>refid</th>\n",
              "      <th>save</th>\n",
              "      <th>mar</th>\n",
              "      <th>repo</th>\n",
              "      <th>lampa</th>\n",
              "      <th>blender</th>\n",
              "      <th>lamp</th>\n",
              "      <th>smartbanner</th>\n",
              "      <th>amazon</th>\n",
              "      <th>implement</th>\n",
              "      <th>interface</th>\n",
              "      <th>click</th>\n",
              "      <th>delphi</th>\n",
              "      <th>compatible</th>\n",
              "      <th>node</th>\n",
              "      <th>oxmldom</th>\n",
              "      <th>autoit</th>\n",
              "      <th>msxml</th>\n",
              "      <th>logo</th>\n",
              "      <th>step</th>\n",
              "      <th>triangle</th>\n",
              "      <th>animation</th>\n",
              "      <th>going</th>\n",
              "      <th>coq</th>\n",
              "      <th>induction</th>\n",
              "      <th>introduce</th>\n",
              "      <th>oauth</th>\n",
              "      <th>localhost</th>\n",
              "    </tr>\n",
              "  </thead>\n",
              "  <tbody>\n",
              "    <tr>\n",
              "      <th>0</th>\n",
              "      <td>0.574467</td>\n",
              "      <td>0.305047</td>\n",
              "      <td>0.305047</td>\n",
              "      <td>0.286087</td>\n",
              "      <td>0.2622</td>\n",
              "      <td>0.00000</td>\n",
              "      <td>0.000000</td>\n",
              "      <td>0.000000</td>\n",
              "      <td>0.000000</td>\n",
              "      <td>0.000000</td>\n",
              "      <td>0.000000</td>\n",
              "      <td>0.000000</td>\n",
              "      <td>0.000000</td>\n",
              "      <td>0.000000</td>\n",
              "      <td>0.000000</td>\n",
              "      <td>0.000000</td>\n",
              "      <td>0.000000</td>\n",
              "      <td>0.000000</td>\n",
              "      <td>0.000000</td>\n",
              "      <td>0.000000</td>\n",
              "      <td>0.000000</td>\n",
              "      <td>0.000000</td>\n",
              "      <td>0.000000</td>\n",
              "      <td>0.000000</td>\n",
              "      <td>0.000000</td>\n",
              "      <td>0.0</td>\n",
              "      <td>0.0</td>\n",
              "      <td>0.0</td>\n",
              "      <td>0.0</td>\n",
              "      <td>0.0</td>\n",
              "      <td>0.0</td>\n",
              "      <td>0.0</td>\n",
              "      <td>0.0</td>\n",
              "      <td>0.0</td>\n",
              "      <td>0.0</td>\n",
              "      <td>0.0</td>\n",
              "      <td>0.0</td>\n",
              "      <td>0.0</td>\n",
              "      <td>0.0</td>\n",
              "      <td>0.0</td>\n",
              "      <td>...</td>\n",
              "      <td>0.0</td>\n",
              "      <td>0.0</td>\n",
              "      <td>0.0</td>\n",
              "      <td>0.0</td>\n",
              "      <td>0.0</td>\n",
              "      <td>0.0</td>\n",
              "      <td>0.0</td>\n",
              "      <td>0.0</td>\n",
              "      <td>0.0</td>\n",
              "      <td>0.0</td>\n",
              "      <td>0.0</td>\n",
              "      <td>0.0</td>\n",
              "      <td>0.0</td>\n",
              "      <td>0.0</td>\n",
              "      <td>0.0</td>\n",
              "      <td>0.0</td>\n",
              "      <td>0.0</td>\n",
              "      <td>0.0</td>\n",
              "      <td>0.0</td>\n",
              "      <td>0.0</td>\n",
              "      <td>0.0</td>\n",
              "      <td>0.0</td>\n",
              "      <td>0.0</td>\n",
              "      <td>0.0</td>\n",
              "      <td>0.000000</td>\n",
              "      <td>0.000000</td>\n",
              "      <td>0.000000</td>\n",
              "      <td>0.00000</td>\n",
              "      <td>0.00000</td>\n",
              "      <td>0.00000</td>\n",
              "      <td>0.000000</td>\n",
              "      <td>0.000000</td>\n",
              "      <td>0.000000</td>\n",
              "      <td>0.000000</td>\n",
              "      <td>0.000000</td>\n",
              "      <td>0.000000</td>\n",
              "      <td>0.000000</td>\n",
              "      <td>0.000000</td>\n",
              "      <td>0.000000</td>\n",
              "      <td>0.000000</td>\n",
              "    </tr>\n",
              "    <tr>\n",
              "      <th>1</th>\n",
              "      <td>0.000000</td>\n",
              "      <td>0.000000</td>\n",
              "      <td>0.000000</td>\n",
              "      <td>0.000000</td>\n",
              "      <td>0.0000</td>\n",
              "      <td>0.44471</td>\n",
              "      <td>0.347776</td>\n",
              "      <td>0.323893</td>\n",
              "      <td>0.277944</td>\n",
              "      <td>0.236123</td>\n",
              "      <td>0.000000</td>\n",
              "      <td>0.000000</td>\n",
              "      <td>0.000000</td>\n",
              "      <td>0.000000</td>\n",
              "      <td>0.000000</td>\n",
              "      <td>0.000000</td>\n",
              "      <td>0.000000</td>\n",
              "      <td>0.000000</td>\n",
              "      <td>0.000000</td>\n",
              "      <td>0.000000</td>\n",
              "      <td>0.000000</td>\n",
              "      <td>0.000000</td>\n",
              "      <td>0.000000</td>\n",
              "      <td>0.000000</td>\n",
              "      <td>0.000000</td>\n",
              "      <td>0.0</td>\n",
              "      <td>0.0</td>\n",
              "      <td>0.0</td>\n",
              "      <td>0.0</td>\n",
              "      <td>0.0</td>\n",
              "      <td>0.0</td>\n",
              "      <td>0.0</td>\n",
              "      <td>0.0</td>\n",
              "      <td>0.0</td>\n",
              "      <td>0.0</td>\n",
              "      <td>0.0</td>\n",
              "      <td>0.0</td>\n",
              "      <td>0.0</td>\n",
              "      <td>0.0</td>\n",
              "      <td>0.0</td>\n",
              "      <td>...</td>\n",
              "      <td>0.0</td>\n",
              "      <td>0.0</td>\n",
              "      <td>0.0</td>\n",
              "      <td>0.0</td>\n",
              "      <td>0.0</td>\n",
              "      <td>0.0</td>\n",
              "      <td>0.0</td>\n",
              "      <td>0.0</td>\n",
              "      <td>0.0</td>\n",
              "      <td>0.0</td>\n",
              "      <td>0.0</td>\n",
              "      <td>0.0</td>\n",
              "      <td>0.0</td>\n",
              "      <td>0.0</td>\n",
              "      <td>0.0</td>\n",
              "      <td>0.0</td>\n",
              "      <td>0.0</td>\n",
              "      <td>0.0</td>\n",
              "      <td>0.0</td>\n",
              "      <td>0.0</td>\n",
              "      <td>0.0</td>\n",
              "      <td>0.0</td>\n",
              "      <td>0.0</td>\n",
              "      <td>0.0</td>\n",
              "      <td>0.000000</td>\n",
              "      <td>0.000000</td>\n",
              "      <td>0.000000</td>\n",
              "      <td>0.00000</td>\n",
              "      <td>0.00000</td>\n",
              "      <td>0.00000</td>\n",
              "      <td>0.000000</td>\n",
              "      <td>0.000000</td>\n",
              "      <td>0.000000</td>\n",
              "      <td>0.000000</td>\n",
              "      <td>0.000000</td>\n",
              "      <td>0.000000</td>\n",
              "      <td>0.000000</td>\n",
              "      <td>0.000000</td>\n",
              "      <td>0.000000</td>\n",
              "      <td>0.000000</td>\n",
              "    </tr>\n",
              "    <tr>\n",
              "      <th>2</th>\n",
              "      <td>0.000000</td>\n",
              "      <td>0.000000</td>\n",
              "      <td>0.000000</td>\n",
              "      <td>0.000000</td>\n",
              "      <td>0.0000</td>\n",
              "      <td>0.00000</td>\n",
              "      <td>0.000000</td>\n",
              "      <td>0.000000</td>\n",
              "      <td>0.000000</td>\n",
              "      <td>0.000000</td>\n",
              "      <td>0.466597</td>\n",
              "      <td>0.351481</td>\n",
              "      <td>0.278013</td>\n",
              "      <td>0.278013</td>\n",
              "      <td>0.180371</td>\n",
              "      <td>0.000000</td>\n",
              "      <td>0.000000</td>\n",
              "      <td>0.000000</td>\n",
              "      <td>0.000000</td>\n",
              "      <td>0.000000</td>\n",
              "      <td>0.000000</td>\n",
              "      <td>0.000000</td>\n",
              "      <td>0.000000</td>\n",
              "      <td>0.000000</td>\n",
              "      <td>0.000000</td>\n",
              "      <td>0.0</td>\n",
              "      <td>0.0</td>\n",
              "      <td>0.0</td>\n",
              "      <td>0.0</td>\n",
              "      <td>0.0</td>\n",
              "      <td>0.0</td>\n",
              "      <td>0.0</td>\n",
              "      <td>0.0</td>\n",
              "      <td>0.0</td>\n",
              "      <td>0.0</td>\n",
              "      <td>0.0</td>\n",
              "      <td>0.0</td>\n",
              "      <td>0.0</td>\n",
              "      <td>0.0</td>\n",
              "      <td>0.0</td>\n",
              "      <td>...</td>\n",
              "      <td>0.0</td>\n",
              "      <td>0.0</td>\n",
              "      <td>0.0</td>\n",
              "      <td>0.0</td>\n",
              "      <td>0.0</td>\n",
              "      <td>0.0</td>\n",
              "      <td>0.0</td>\n",
              "      <td>0.0</td>\n",
              "      <td>0.0</td>\n",
              "      <td>0.0</td>\n",
              "      <td>0.0</td>\n",
              "      <td>0.0</td>\n",
              "      <td>0.0</td>\n",
              "      <td>0.0</td>\n",
              "      <td>0.0</td>\n",
              "      <td>0.0</td>\n",
              "      <td>0.0</td>\n",
              "      <td>0.0</td>\n",
              "      <td>0.0</td>\n",
              "      <td>0.0</td>\n",
              "      <td>0.0</td>\n",
              "      <td>0.0</td>\n",
              "      <td>0.0</td>\n",
              "      <td>0.0</td>\n",
              "      <td>0.000000</td>\n",
              "      <td>0.000000</td>\n",
              "      <td>0.000000</td>\n",
              "      <td>0.00000</td>\n",
              "      <td>0.00000</td>\n",
              "      <td>0.00000</td>\n",
              "      <td>0.000000</td>\n",
              "      <td>0.000000</td>\n",
              "      <td>0.000000</td>\n",
              "      <td>0.000000</td>\n",
              "      <td>0.000000</td>\n",
              "      <td>0.000000</td>\n",
              "      <td>0.000000</td>\n",
              "      <td>0.000000</td>\n",
              "      <td>0.000000</td>\n",
              "      <td>0.000000</td>\n",
              "    </tr>\n",
              "    <tr>\n",
              "      <th>3</th>\n",
              "      <td>0.000000</td>\n",
              "      <td>0.000000</td>\n",
              "      <td>0.000000</td>\n",
              "      <td>0.000000</td>\n",
              "      <td>0.0000</td>\n",
              "      <td>0.00000</td>\n",
              "      <td>0.000000</td>\n",
              "      <td>0.000000</td>\n",
              "      <td>0.000000</td>\n",
              "      <td>0.000000</td>\n",
              "      <td>0.000000</td>\n",
              "      <td>0.000000</td>\n",
              "      <td>0.000000</td>\n",
              "      <td>0.000000</td>\n",
              "      <td>0.000000</td>\n",
              "      <td>0.476485</td>\n",
              "      <td>0.379195</td>\n",
              "      <td>0.353345</td>\n",
              "      <td>0.345612</td>\n",
              "      <td>0.287143</td>\n",
              "      <td>0.000000</td>\n",
              "      <td>0.000000</td>\n",
              "      <td>0.000000</td>\n",
              "      <td>0.000000</td>\n",
              "      <td>0.000000</td>\n",
              "      <td>0.0</td>\n",
              "      <td>0.0</td>\n",
              "      <td>0.0</td>\n",
              "      <td>0.0</td>\n",
              "      <td>0.0</td>\n",
              "      <td>0.0</td>\n",
              "      <td>0.0</td>\n",
              "      <td>0.0</td>\n",
              "      <td>0.0</td>\n",
              "      <td>0.0</td>\n",
              "      <td>0.0</td>\n",
              "      <td>0.0</td>\n",
              "      <td>0.0</td>\n",
              "      <td>0.0</td>\n",
              "      <td>0.0</td>\n",
              "      <td>...</td>\n",
              "      <td>0.0</td>\n",
              "      <td>0.0</td>\n",
              "      <td>0.0</td>\n",
              "      <td>0.0</td>\n",
              "      <td>0.0</td>\n",
              "      <td>0.0</td>\n",
              "      <td>0.0</td>\n",
              "      <td>0.0</td>\n",
              "      <td>0.0</td>\n",
              "      <td>0.0</td>\n",
              "      <td>0.0</td>\n",
              "      <td>0.0</td>\n",
              "      <td>0.0</td>\n",
              "      <td>0.0</td>\n",
              "      <td>0.0</td>\n",
              "      <td>0.0</td>\n",
              "      <td>0.0</td>\n",
              "      <td>0.0</td>\n",
              "      <td>0.0</td>\n",
              "      <td>0.0</td>\n",
              "      <td>0.0</td>\n",
              "      <td>0.0</td>\n",
              "      <td>0.0</td>\n",
              "      <td>0.0</td>\n",
              "      <td>0.000000</td>\n",
              "      <td>0.000000</td>\n",
              "      <td>0.000000</td>\n",
              "      <td>0.00000</td>\n",
              "      <td>0.00000</td>\n",
              "      <td>0.00000</td>\n",
              "      <td>0.000000</td>\n",
              "      <td>0.000000</td>\n",
              "      <td>0.000000</td>\n",
              "      <td>0.000000</td>\n",
              "      <td>0.000000</td>\n",
              "      <td>0.000000</td>\n",
              "      <td>0.000000</td>\n",
              "      <td>0.000000</td>\n",
              "      <td>0.000000</td>\n",
              "      <td>0.000000</td>\n",
              "    </tr>\n",
              "    <tr>\n",
              "      <th>4</th>\n",
              "      <td>0.000000</td>\n",
              "      <td>0.000000</td>\n",
              "      <td>0.000000</td>\n",
              "      <td>0.000000</td>\n",
              "      <td>0.0000</td>\n",
              "      <td>0.00000</td>\n",
              "      <td>0.000000</td>\n",
              "      <td>0.000000</td>\n",
              "      <td>0.000000</td>\n",
              "      <td>0.000000</td>\n",
              "      <td>0.000000</td>\n",
              "      <td>0.000000</td>\n",
              "      <td>0.000000</td>\n",
              "      <td>0.000000</td>\n",
              "      <td>0.000000</td>\n",
              "      <td>0.000000</td>\n",
              "      <td>0.000000</td>\n",
              "      <td>0.000000</td>\n",
              "      <td>0.000000</td>\n",
              "      <td>0.000000</td>\n",
              "      <td>0.358455</td>\n",
              "      <td>0.283185</td>\n",
              "      <td>0.266192</td>\n",
              "      <td>0.263569</td>\n",
              "      <td>0.262867</td>\n",
              "      <td>0.0</td>\n",
              "      <td>0.0</td>\n",
              "      <td>0.0</td>\n",
              "      <td>0.0</td>\n",
              "      <td>0.0</td>\n",
              "      <td>0.0</td>\n",
              "      <td>0.0</td>\n",
              "      <td>0.0</td>\n",
              "      <td>0.0</td>\n",
              "      <td>0.0</td>\n",
              "      <td>0.0</td>\n",
              "      <td>0.0</td>\n",
              "      <td>0.0</td>\n",
              "      <td>0.0</td>\n",
              "      <td>0.0</td>\n",
              "      <td>...</td>\n",
              "      <td>0.0</td>\n",
              "      <td>0.0</td>\n",
              "      <td>0.0</td>\n",
              "      <td>0.0</td>\n",
              "      <td>0.0</td>\n",
              "      <td>0.0</td>\n",
              "      <td>0.0</td>\n",
              "      <td>0.0</td>\n",
              "      <td>0.0</td>\n",
              "      <td>0.0</td>\n",
              "      <td>0.0</td>\n",
              "      <td>0.0</td>\n",
              "      <td>0.0</td>\n",
              "      <td>0.0</td>\n",
              "      <td>0.0</td>\n",
              "      <td>0.0</td>\n",
              "      <td>0.0</td>\n",
              "      <td>0.0</td>\n",
              "      <td>0.0</td>\n",
              "      <td>0.0</td>\n",
              "      <td>0.0</td>\n",
              "      <td>0.0</td>\n",
              "      <td>0.0</td>\n",
              "      <td>0.0</td>\n",
              "      <td>0.000000</td>\n",
              "      <td>0.000000</td>\n",
              "      <td>0.000000</td>\n",
              "      <td>0.00000</td>\n",
              "      <td>0.00000</td>\n",
              "      <td>0.00000</td>\n",
              "      <td>0.000000</td>\n",
              "      <td>0.000000</td>\n",
              "      <td>0.000000</td>\n",
              "      <td>0.000000</td>\n",
              "      <td>0.000000</td>\n",
              "      <td>0.000000</td>\n",
              "      <td>0.000000</td>\n",
              "      <td>0.000000</td>\n",
              "      <td>0.000000</td>\n",
              "      <td>0.000000</td>\n",
              "    </tr>\n",
              "    <tr>\n",
              "      <th>...</th>\n",
              "      <td>...</td>\n",
              "      <td>...</td>\n",
              "      <td>...</td>\n",
              "      <td>...</td>\n",
              "      <td>...</td>\n",
              "      <td>...</td>\n",
              "      <td>...</td>\n",
              "      <td>...</td>\n",
              "      <td>...</td>\n",
              "      <td>...</td>\n",
              "      <td>...</td>\n",
              "      <td>...</td>\n",
              "      <td>...</td>\n",
              "      <td>...</td>\n",
              "      <td>...</td>\n",
              "      <td>...</td>\n",
              "      <td>...</td>\n",
              "      <td>...</td>\n",
              "      <td>...</td>\n",
              "      <td>...</td>\n",
              "      <td>...</td>\n",
              "      <td>...</td>\n",
              "      <td>...</td>\n",
              "      <td>...</td>\n",
              "      <td>...</td>\n",
              "      <td>...</td>\n",
              "      <td>...</td>\n",
              "      <td>...</td>\n",
              "      <td>...</td>\n",
              "      <td>...</td>\n",
              "      <td>...</td>\n",
              "      <td>...</td>\n",
              "      <td>...</td>\n",
              "      <td>...</td>\n",
              "      <td>...</td>\n",
              "      <td>...</td>\n",
              "      <td>...</td>\n",
              "      <td>...</td>\n",
              "      <td>...</td>\n",
              "      <td>...</td>\n",
              "      <td>...</td>\n",
              "      <td>...</td>\n",
              "      <td>...</td>\n",
              "      <td>...</td>\n",
              "      <td>...</td>\n",
              "      <td>...</td>\n",
              "      <td>...</td>\n",
              "      <td>...</td>\n",
              "      <td>...</td>\n",
              "      <td>...</td>\n",
              "      <td>...</td>\n",
              "      <td>...</td>\n",
              "      <td>...</td>\n",
              "      <td>...</td>\n",
              "      <td>...</td>\n",
              "      <td>...</td>\n",
              "      <td>...</td>\n",
              "      <td>...</td>\n",
              "      <td>...</td>\n",
              "      <td>...</td>\n",
              "      <td>...</td>\n",
              "      <td>...</td>\n",
              "      <td>...</td>\n",
              "      <td>...</td>\n",
              "      <td>...</td>\n",
              "      <td>...</td>\n",
              "      <td>...</td>\n",
              "      <td>...</td>\n",
              "      <td>...</td>\n",
              "      <td>...</td>\n",
              "      <td>...</td>\n",
              "      <td>...</td>\n",
              "      <td>...</td>\n",
              "      <td>...</td>\n",
              "      <td>...</td>\n",
              "      <td>...</td>\n",
              "      <td>...</td>\n",
              "      <td>...</td>\n",
              "      <td>...</td>\n",
              "      <td>...</td>\n",
              "      <td>...</td>\n",
              "    </tr>\n",
              "    <tr>\n",
              "      <th>495</th>\n",
              "      <td>0.000000</td>\n",
              "      <td>0.000000</td>\n",
              "      <td>0.000000</td>\n",
              "      <td>0.000000</td>\n",
              "      <td>0.0000</td>\n",
              "      <td>0.00000</td>\n",
              "      <td>0.000000</td>\n",
              "      <td>0.000000</td>\n",
              "      <td>0.000000</td>\n",
              "      <td>0.000000</td>\n",
              "      <td>0.000000</td>\n",
              "      <td>0.000000</td>\n",
              "      <td>0.000000</td>\n",
              "      <td>0.000000</td>\n",
              "      <td>0.219718</td>\n",
              "      <td>0.000000</td>\n",
              "      <td>0.000000</td>\n",
              "      <td>0.000000</td>\n",
              "      <td>0.000000</td>\n",
              "      <td>0.000000</td>\n",
              "      <td>0.000000</td>\n",
              "      <td>0.000000</td>\n",
              "      <td>0.000000</td>\n",
              "      <td>0.000000</td>\n",
              "      <td>0.000000</td>\n",
              "      <td>0.0</td>\n",
              "      <td>0.0</td>\n",
              "      <td>0.0</td>\n",
              "      <td>0.0</td>\n",
              "      <td>0.0</td>\n",
              "      <td>0.0</td>\n",
              "      <td>0.0</td>\n",
              "      <td>0.0</td>\n",
              "      <td>0.0</td>\n",
              "      <td>0.0</td>\n",
              "      <td>0.0</td>\n",
              "      <td>0.0</td>\n",
              "      <td>0.0</td>\n",
              "      <td>0.0</td>\n",
              "      <td>0.0</td>\n",
              "      <td>...</td>\n",
              "      <td>0.0</td>\n",
              "      <td>0.0</td>\n",
              "      <td>0.0</td>\n",
              "      <td>0.0</td>\n",
              "      <td>0.0</td>\n",
              "      <td>0.0</td>\n",
              "      <td>0.0</td>\n",
              "      <td>0.0</td>\n",
              "      <td>0.0</td>\n",
              "      <td>0.0</td>\n",
              "      <td>0.0</td>\n",
              "      <td>0.0</td>\n",
              "      <td>0.0</td>\n",
              "      <td>0.0</td>\n",
              "      <td>0.0</td>\n",
              "      <td>0.0</td>\n",
              "      <td>0.0</td>\n",
              "      <td>0.0</td>\n",
              "      <td>0.0</td>\n",
              "      <td>0.0</td>\n",
              "      <td>0.0</td>\n",
              "      <td>0.0</td>\n",
              "      <td>0.0</td>\n",
              "      <td>0.0</td>\n",
              "      <td>0.568384</td>\n",
              "      <td>0.355371</td>\n",
              "      <td>0.000000</td>\n",
              "      <td>0.00000</td>\n",
              "      <td>0.00000</td>\n",
              "      <td>0.00000</td>\n",
              "      <td>0.000000</td>\n",
              "      <td>0.000000</td>\n",
              "      <td>0.000000</td>\n",
              "      <td>0.000000</td>\n",
              "      <td>0.000000</td>\n",
              "      <td>0.000000</td>\n",
              "      <td>0.000000</td>\n",
              "      <td>0.000000</td>\n",
              "      <td>0.000000</td>\n",
              "      <td>0.000000</td>\n",
              "    </tr>\n",
              "    <tr>\n",
              "      <th>496</th>\n",
              "      <td>0.000000</td>\n",
              "      <td>0.000000</td>\n",
              "      <td>0.000000</td>\n",
              "      <td>0.000000</td>\n",
              "      <td>0.0000</td>\n",
              "      <td>0.00000</td>\n",
              "      <td>0.000000</td>\n",
              "      <td>0.000000</td>\n",
              "      <td>0.000000</td>\n",
              "      <td>0.000000</td>\n",
              "      <td>0.000000</td>\n",
              "      <td>0.000000</td>\n",
              "      <td>0.000000</td>\n",
              "      <td>0.000000</td>\n",
              "      <td>0.000000</td>\n",
              "      <td>0.000000</td>\n",
              "      <td>0.000000</td>\n",
              "      <td>0.000000</td>\n",
              "      <td>0.000000</td>\n",
              "      <td>0.000000</td>\n",
              "      <td>0.000000</td>\n",
              "      <td>0.000000</td>\n",
              "      <td>0.000000</td>\n",
              "      <td>0.000000</td>\n",
              "      <td>0.000000</td>\n",
              "      <td>0.0</td>\n",
              "      <td>0.0</td>\n",
              "      <td>0.0</td>\n",
              "      <td>0.0</td>\n",
              "      <td>0.0</td>\n",
              "      <td>0.0</td>\n",
              "      <td>0.0</td>\n",
              "      <td>0.0</td>\n",
              "      <td>0.0</td>\n",
              "      <td>0.0</td>\n",
              "      <td>0.0</td>\n",
              "      <td>0.0</td>\n",
              "      <td>0.0</td>\n",
              "      <td>0.0</td>\n",
              "      <td>0.0</td>\n",
              "      <td>...</td>\n",
              "      <td>0.0</td>\n",
              "      <td>0.0</td>\n",
              "      <td>0.0</td>\n",
              "      <td>0.0</td>\n",
              "      <td>0.0</td>\n",
              "      <td>0.0</td>\n",
              "      <td>0.0</td>\n",
              "      <td>0.0</td>\n",
              "      <td>0.0</td>\n",
              "      <td>0.0</td>\n",
              "      <td>0.0</td>\n",
              "      <td>0.0</td>\n",
              "      <td>0.0</td>\n",
              "      <td>0.0</td>\n",
              "      <td>0.0</td>\n",
              "      <td>0.0</td>\n",
              "      <td>0.0</td>\n",
              "      <td>0.0</td>\n",
              "      <td>0.0</td>\n",
              "      <td>0.0</td>\n",
              "      <td>0.0</td>\n",
              "      <td>0.0</td>\n",
              "      <td>0.0</td>\n",
              "      <td>0.0</td>\n",
              "      <td>0.000000</td>\n",
              "      <td>0.000000</td>\n",
              "      <td>0.475034</td>\n",
              "      <td>0.36748</td>\n",
              "      <td>0.36748</td>\n",
              "      <td>0.27561</td>\n",
              "      <td>0.000000</td>\n",
              "      <td>0.000000</td>\n",
              "      <td>0.000000</td>\n",
              "      <td>0.000000</td>\n",
              "      <td>0.000000</td>\n",
              "      <td>0.000000</td>\n",
              "      <td>0.000000</td>\n",
              "      <td>0.000000</td>\n",
              "      <td>0.000000</td>\n",
              "      <td>0.000000</td>\n",
              "    </tr>\n",
              "    <tr>\n",
              "      <th>497</th>\n",
              "      <td>0.000000</td>\n",
              "      <td>0.000000</td>\n",
              "      <td>0.000000</td>\n",
              "      <td>0.000000</td>\n",
              "      <td>0.0000</td>\n",
              "      <td>0.00000</td>\n",
              "      <td>0.000000</td>\n",
              "      <td>0.000000</td>\n",
              "      <td>0.000000</td>\n",
              "      <td>0.000000</td>\n",
              "      <td>0.000000</td>\n",
              "      <td>0.000000</td>\n",
              "      <td>0.000000</td>\n",
              "      <td>0.000000</td>\n",
              "      <td>0.000000</td>\n",
              "      <td>0.000000</td>\n",
              "      <td>0.000000</td>\n",
              "      <td>0.000000</td>\n",
              "      <td>0.000000</td>\n",
              "      <td>0.000000</td>\n",
              "      <td>0.000000</td>\n",
              "      <td>0.000000</td>\n",
              "      <td>0.000000</td>\n",
              "      <td>0.000000</td>\n",
              "      <td>0.000000</td>\n",
              "      <td>0.0</td>\n",
              "      <td>0.0</td>\n",
              "      <td>0.0</td>\n",
              "      <td>0.0</td>\n",
              "      <td>0.0</td>\n",
              "      <td>0.0</td>\n",
              "      <td>0.0</td>\n",
              "      <td>0.0</td>\n",
              "      <td>0.0</td>\n",
              "      <td>0.0</td>\n",
              "      <td>0.0</td>\n",
              "      <td>0.0</td>\n",
              "      <td>0.0</td>\n",
              "      <td>0.0</td>\n",
              "      <td>0.0</td>\n",
              "      <td>...</td>\n",
              "      <td>0.0</td>\n",
              "      <td>0.0</td>\n",
              "      <td>0.0</td>\n",
              "      <td>0.0</td>\n",
              "      <td>0.0</td>\n",
              "      <td>0.0</td>\n",
              "      <td>0.0</td>\n",
              "      <td>0.0</td>\n",
              "      <td>0.0</td>\n",
              "      <td>0.0</td>\n",
              "      <td>0.0</td>\n",
              "      <td>0.0</td>\n",
              "      <td>0.0</td>\n",
              "      <td>0.0</td>\n",
              "      <td>0.0</td>\n",
              "      <td>0.0</td>\n",
              "      <td>0.0</td>\n",
              "      <td>0.0</td>\n",
              "      <td>0.0</td>\n",
              "      <td>0.0</td>\n",
              "      <td>0.0</td>\n",
              "      <td>0.0</td>\n",
              "      <td>0.0</td>\n",
              "      <td>0.0</td>\n",
              "      <td>0.000000</td>\n",
              "      <td>0.000000</td>\n",
              "      <td>0.000000</td>\n",
              "      <td>0.00000</td>\n",
              "      <td>0.00000</td>\n",
              "      <td>0.00000</td>\n",
              "      <td>0.523622</td>\n",
              "      <td>0.377686</td>\n",
              "      <td>0.292937</td>\n",
              "      <td>0.251791</td>\n",
              "      <td>0.208883</td>\n",
              "      <td>0.000000</td>\n",
              "      <td>0.000000</td>\n",
              "      <td>0.000000</td>\n",
              "      <td>0.000000</td>\n",
              "      <td>0.000000</td>\n",
              "    </tr>\n",
              "    <tr>\n",
              "      <th>498</th>\n",
              "      <td>0.000000</td>\n",
              "      <td>0.000000</td>\n",
              "      <td>0.000000</td>\n",
              "      <td>0.000000</td>\n",
              "      <td>0.0000</td>\n",
              "      <td>0.00000</td>\n",
              "      <td>0.000000</td>\n",
              "      <td>0.000000</td>\n",
              "      <td>0.000000</td>\n",
              "      <td>0.000000</td>\n",
              "      <td>0.000000</td>\n",
              "      <td>0.000000</td>\n",
              "      <td>0.000000</td>\n",
              "      <td>0.000000</td>\n",
              "      <td>0.000000</td>\n",
              "      <td>0.000000</td>\n",
              "      <td>0.000000</td>\n",
              "      <td>0.000000</td>\n",
              "      <td>0.000000</td>\n",
              "      <td>0.000000</td>\n",
              "      <td>0.000000</td>\n",
              "      <td>0.000000</td>\n",
              "      <td>0.000000</td>\n",
              "      <td>0.000000</td>\n",
              "      <td>0.000000</td>\n",
              "      <td>0.0</td>\n",
              "      <td>0.0</td>\n",
              "      <td>0.0</td>\n",
              "      <td>0.0</td>\n",
              "      <td>0.0</td>\n",
              "      <td>0.0</td>\n",
              "      <td>0.0</td>\n",
              "      <td>0.0</td>\n",
              "      <td>0.0</td>\n",
              "      <td>0.0</td>\n",
              "      <td>0.0</td>\n",
              "      <td>0.0</td>\n",
              "      <td>0.0</td>\n",
              "      <td>0.0</td>\n",
              "      <td>0.0</td>\n",
              "      <td>...</td>\n",
              "      <td>0.0</td>\n",
              "      <td>0.0</td>\n",
              "      <td>0.0</td>\n",
              "      <td>0.0</td>\n",
              "      <td>0.0</td>\n",
              "      <td>0.0</td>\n",
              "      <td>0.0</td>\n",
              "      <td>0.0</td>\n",
              "      <td>0.0</td>\n",
              "      <td>0.0</td>\n",
              "      <td>0.0</td>\n",
              "      <td>0.0</td>\n",
              "      <td>0.0</td>\n",
              "      <td>0.0</td>\n",
              "      <td>0.0</td>\n",
              "      <td>0.0</td>\n",
              "      <td>0.0</td>\n",
              "      <td>0.0</td>\n",
              "      <td>0.0</td>\n",
              "      <td>0.0</td>\n",
              "      <td>0.0</td>\n",
              "      <td>0.0</td>\n",
              "      <td>0.0</td>\n",
              "      <td>0.0</td>\n",
              "      <td>0.000000</td>\n",
              "      <td>0.000000</td>\n",
              "      <td>0.000000</td>\n",
              "      <td>0.00000</td>\n",
              "      <td>0.00000</td>\n",
              "      <td>0.00000</td>\n",
              "      <td>0.000000</td>\n",
              "      <td>0.000000</td>\n",
              "      <td>0.000000</td>\n",
              "      <td>0.000000</td>\n",
              "      <td>0.000000</td>\n",
              "      <td>0.335343</td>\n",
              "      <td>0.251507</td>\n",
              "      <td>0.235875</td>\n",
              "      <td>0.000000</td>\n",
              "      <td>0.000000</td>\n",
              "    </tr>\n",
              "    <tr>\n",
              "      <th>499</th>\n",
              "      <td>0.000000</td>\n",
              "      <td>0.000000</td>\n",
              "      <td>0.000000</td>\n",
              "      <td>0.000000</td>\n",
              "      <td>0.0000</td>\n",
              "      <td>0.00000</td>\n",
              "      <td>0.000000</td>\n",
              "      <td>0.000000</td>\n",
              "      <td>0.000000</td>\n",
              "      <td>0.000000</td>\n",
              "      <td>0.000000</td>\n",
              "      <td>0.000000</td>\n",
              "      <td>0.000000</td>\n",
              "      <td>0.000000</td>\n",
              "      <td>0.000000</td>\n",
              "      <td>0.000000</td>\n",
              "      <td>0.000000</td>\n",
              "      <td>0.000000</td>\n",
              "      <td>0.000000</td>\n",
              "      <td>0.000000</td>\n",
              "      <td>0.000000</td>\n",
              "      <td>0.000000</td>\n",
              "      <td>0.000000</td>\n",
              "      <td>0.000000</td>\n",
              "      <td>0.000000</td>\n",
              "      <td>0.0</td>\n",
              "      <td>0.0</td>\n",
              "      <td>0.0</td>\n",
              "      <td>0.0</td>\n",
              "      <td>0.0</td>\n",
              "      <td>0.0</td>\n",
              "      <td>0.0</td>\n",
              "      <td>0.0</td>\n",
              "      <td>0.0</td>\n",
              "      <td>0.0</td>\n",
              "      <td>0.0</td>\n",
              "      <td>0.0</td>\n",
              "      <td>0.0</td>\n",
              "      <td>0.0</td>\n",
              "      <td>0.0</td>\n",
              "      <td>...</td>\n",
              "      <td>0.0</td>\n",
              "      <td>0.0</td>\n",
              "      <td>0.0</td>\n",
              "      <td>0.0</td>\n",
              "      <td>0.0</td>\n",
              "      <td>0.0</td>\n",
              "      <td>0.0</td>\n",
              "      <td>0.0</td>\n",
              "      <td>0.0</td>\n",
              "      <td>0.0</td>\n",
              "      <td>0.0</td>\n",
              "      <td>0.0</td>\n",
              "      <td>0.0</td>\n",
              "      <td>0.0</td>\n",
              "      <td>0.0</td>\n",
              "      <td>0.0</td>\n",
              "      <td>0.0</td>\n",
              "      <td>0.0</td>\n",
              "      <td>0.0</td>\n",
              "      <td>0.0</td>\n",
              "      <td>0.0</td>\n",
              "      <td>0.0</td>\n",
              "      <td>0.0</td>\n",
              "      <td>0.0</td>\n",
              "      <td>0.000000</td>\n",
              "      <td>0.000000</td>\n",
              "      <td>0.000000</td>\n",
              "      <td>0.00000</td>\n",
              "      <td>0.00000</td>\n",
              "      <td>0.00000</td>\n",
              "      <td>0.000000</td>\n",
              "      <td>0.000000</td>\n",
              "      <td>0.000000</td>\n",
              "      <td>0.000000</td>\n",
              "      <td>0.000000</td>\n",
              "      <td>0.000000</td>\n",
              "      <td>0.000000</td>\n",
              "      <td>0.000000</td>\n",
              "      <td>0.364721</td>\n",
              "      <td>0.307776</td>\n",
              "    </tr>\n",
              "  </tbody>\n",
              "</table>\n",
              "<p>500 rows × 1726 columns</p>\n",
              "</div>"
            ],
            "text/plain": [
              "      eclipse  integrate    tomcat  ...  introduce     oauth  localhost\n",
              "0    0.574467   0.305047  0.305047  ...   0.000000  0.000000   0.000000\n",
              "1    0.000000   0.000000  0.000000  ...   0.000000  0.000000   0.000000\n",
              "2    0.000000   0.000000  0.000000  ...   0.000000  0.000000   0.000000\n",
              "3    0.000000   0.000000  0.000000  ...   0.000000  0.000000   0.000000\n",
              "4    0.000000   0.000000  0.000000  ...   0.000000  0.000000   0.000000\n",
              "..        ...        ...       ...  ...        ...       ...        ...\n",
              "495  0.000000   0.000000  0.000000  ...   0.000000  0.000000   0.000000\n",
              "496  0.000000   0.000000  0.000000  ...   0.000000  0.000000   0.000000\n",
              "497  0.000000   0.000000  0.000000  ...   0.000000  0.000000   0.000000\n",
              "498  0.000000   0.000000  0.000000  ...   0.235875  0.000000   0.000000\n",
              "499  0.000000   0.000000  0.000000  ...   0.000000  0.364721   0.307776\n",
              "\n",
              "[500 rows x 1726 columns]"
            ]
          },
          "metadata": {},
          "execution_count": 55
        }
      ]
    },
    {
      "cell_type": "code",
      "metadata": {
        "id": "JiDPGp7SGqBd"
      },
      "source": [
        "from sklearn.metrics.pairwise import cosine_similarity\n",
        "\n",
        "tf_idf_cossim = cosine_similarity(keywordsDict_df, keywordsDict_df)  # TODO\n",
        "np.fill_diagonal(tf_idf_cossim, 0.0) # anular la diagonal principal\n",
        "# TODO: localizar el máximo\n",
        "ind = np.where(tf_idf_cossim == np.amax(tf_idf_cossim))\n"
      ],
      "execution_count": 56,
      "outputs": []
    },
    {
      "cell_type": "code",
      "metadata": {
        "colab": {
          "base_uri": "https://localhost:8080/",
          "height": 201
        },
        "id": "jB27J8F0X1-_",
        "outputId": "c21e9ab1-d0db-4314-a078-4aa6ae8cccdf"
      },
      "source": [
        "stackoverflow_df[ind[1][0]:ind[1][0]+1] # TODO : visualizar ambos posts\n"
      ],
      "execution_count": 57,
      "outputs": [
        {
          "output_type": "execute_result",
          "data": {
            "text/html": [
              "<div>\n",
              "<style scoped>\n",
              "    .dataframe tbody tr th:only-of-type {\n",
              "        vertical-align: middle;\n",
              "    }\n",
              "\n",
              "    .dataframe tbody tr th {\n",
              "        vertical-align: top;\n",
              "    }\n",
              "\n",
              "    .dataframe thead th {\n",
              "        text-align: right;\n",
              "    }\n",
              "</style>\n",
              "<table border=\"1\" class=\"dataframe\">\n",
              "  <thead>\n",
              "    <tr style=\"text-align: right;\">\n",
              "      <th></th>\n",
              "      <th>id</th>\n",
              "      <th>title</th>\n",
              "      <th>body</th>\n",
              "      <th>accepted_answer_id</th>\n",
              "      <th>answer_count</th>\n",
              "      <th>comment_count</th>\n",
              "      <th>creation_date</th>\n",
              "      <th>last_activity_date</th>\n",
              "      <th>last_edit_date</th>\n",
              "      <th>last_editor_display_name</th>\n",
              "      <th>last_editor_user_id</th>\n",
              "      <th>owner_display_name</th>\n",
              "      <th>owner_user_id</th>\n",
              "      <th>post_type_id</th>\n",
              "      <th>score</th>\n",
              "      <th>tags</th>\n",
              "      <th>view_count</th>\n",
              "      <th>favorite_count</th>\n",
              "      <th>text</th>\n",
              "      <th>mtext</th>\n",
              "      <th>keywords</th>\n",
              "    </tr>\n",
              "  </thead>\n",
              "  <tbody>\n",
              "    <tr>\n",
              "      <th>392</th>\n",
              "      <td>28794058</td>\n",
              "      <td>Error report from Google Play, Database import...</td>\n",
              "      <td>&lt;p&gt;If I understand correctly something is wron...</td>\n",
              "      <td>NaN</td>\n",
              "      <td>0</td>\n",
              "      <td>10</td>\n",
              "      <td>2015-03-01 13:26:36.23 UTC</td>\n",
              "      <td>2015-03-01 13:26:36.23 UTC</td>\n",
              "      <td>NaN</td>\n",
              "      <td></td>\n",
              "      <td>NaN</td>\n",
              "      <td></td>\n",
              "      <td>4606960.0</td>\n",
              "      <td>1</td>\n",
              "      <td>0</td>\n",
              "      <td>android|database|runtime-error</td>\n",
              "      <td>36</td>\n",
              "      <td>NaN</td>\n",
              "      <td>Error report from Google Play, Database import...</td>\n",
              "      <td>['error', 'report', 'google', 'play', 'databas...</td>\n",
              "      <td>{'android': 0.3603710011258986, 'java': 0.3497...</td>\n",
              "    </tr>\n",
              "  </tbody>\n",
              "</table>\n",
              "</div>"
            ],
            "text/plain": [
              "           id  ...                                           keywords\n",
              "392  28794058  ...  {'android': 0.3603710011258986, 'java': 0.3497...\n",
              "\n",
              "[1 rows x 21 columns]"
            ]
          },
          "metadata": {},
          "execution_count": 57
        }
      ]
    },
    {
      "cell_type": "code",
      "metadata": {
        "id": "aM7oASAeRjUy",
        "colab": {
          "base_uri": "https://localhost:8080/",
          "height": 201
        },
        "outputId": "48619d02-2ee0-466a-dd65-783eef802016"
      },
      "source": [
        "stackoverflow_df[ind[1][1]:ind[1][1]+1] # TODO : visualizar ambos posts\n"
      ],
      "execution_count": 58,
      "outputs": [
        {
          "output_type": "execute_result",
          "data": {
            "text/html": [
              "<div>\n",
              "<style scoped>\n",
              "    .dataframe tbody tr th:only-of-type {\n",
              "        vertical-align: middle;\n",
              "    }\n",
              "\n",
              "    .dataframe tbody tr th {\n",
              "        vertical-align: top;\n",
              "    }\n",
              "\n",
              "    .dataframe thead th {\n",
              "        text-align: right;\n",
              "    }\n",
              "</style>\n",
              "<table border=\"1\" class=\"dataframe\">\n",
              "  <thead>\n",
              "    <tr style=\"text-align: right;\">\n",
              "      <th></th>\n",
              "      <th>id</th>\n",
              "      <th>title</th>\n",
              "      <th>body</th>\n",
              "      <th>accepted_answer_id</th>\n",
              "      <th>answer_count</th>\n",
              "      <th>comment_count</th>\n",
              "      <th>creation_date</th>\n",
              "      <th>last_activity_date</th>\n",
              "      <th>last_edit_date</th>\n",
              "      <th>last_editor_display_name</th>\n",
              "      <th>last_editor_user_id</th>\n",
              "      <th>owner_display_name</th>\n",
              "      <th>owner_user_id</th>\n",
              "      <th>post_type_id</th>\n",
              "      <th>score</th>\n",
              "      <th>tags</th>\n",
              "      <th>view_count</th>\n",
              "      <th>favorite_count</th>\n",
              "      <th>text</th>\n",
              "      <th>mtext</th>\n",
              "      <th>keywords</th>\n",
              "    </tr>\n",
              "  </thead>\n",
              "  <tbody>\n",
              "    <tr>\n",
              "      <th>245</th>\n",
              "      <td>28977970</td>\n",
              "      <td>Class cannot be cast to android.view.View$OnCl...</td>\n",
              "      <td>&lt;p&gt;I've some problems trying to do G+ Signin. ...</td>\n",
              "      <td>28978007.0</td>\n",
              "      <td>1</td>\n",
              "      <td>3</td>\n",
              "      <td>2015-03-11 03:16:13.32 UTC</td>\n",
              "      <td>2015-03-11 12:31:01.957 UTC</td>\n",
              "      <td>2015-03-11 12:31:01.957 UTC</td>\n",
              "      <td></td>\n",
              "      <td>2911458.0</td>\n",
              "      <td></td>\n",
              "      <td>4334671.0</td>\n",
              "      <td>1</td>\n",
              "      <td>0</td>\n",
              "      <td>java|android</td>\n",
              "      <td>1229</td>\n",
              "      <td>NaN</td>\n",
              "      <td>Class cannot be cast to android.view.View$OnCl...</td>\n",
              "      <td>['class', 'cast', 'android', 'view', 'view', '...</td>\n",
              "      <td>{'activitythread': 0.489611639947853, 'java': ...</td>\n",
              "    </tr>\n",
              "  </tbody>\n",
              "</table>\n",
              "</div>"
            ],
            "text/plain": [
              "           id  ...                                           keywords\n",
              "245  28977970  ...  {'activitythread': 0.489611639947853, 'java': ...\n",
              "\n",
              "[1 rows x 21 columns]"
            ]
          },
          "metadata": {},
          "execution_count": 58
        }
      ]
    },
    {
      "cell_type": "code",
      "metadata": {
        "id": "lLV-wDXgcgAl",
        "colab": {
          "base_uri": "https://localhost:8080/",
          "height": 890
        },
        "outputId": "5a88ef44-2900-491d-e568-e42574ad307c"
      },
      "source": [
        "import numpy as np\n",
        "import seaborn as sns\n",
        "import matplotlib.pylab as plt\n",
        "\n",
        "f, ax = plt.subplots(figsize=(15, 15))\n",
        "\n",
        "A = tf_idf_cossim.flatten().reshape (500,500)\n",
        "\n",
        "mask = np.zeros_like(A, dtype=np.bool)\n",
        "mask[np.triu_indices_from(mask)] = True\n",
        "\n",
        "ax = sns.heatmap(A, mask=mask, square=False,  fmt='.2f', cbar_kws={\"shrink\": .5},\n",
        "                 vmax=1.0, vmin=.3, cmap=\"hot\")\n",
        "\n",
        "ax.set_title(\"Heatmap of cosine similarity scores\").set_fontsize(15)\n",
        "\n",
        "\n",
        "ax.set_xlabel(\"\")\n",
        "ax.set_ylabel(\"\")\n",
        "plt.show()"
      ],
      "execution_count": 67,
      "outputs": [
        {
          "output_type": "display_data",
          "data": {
            "image/png": "[encoded data removed]",
            "text/plain": [
              "<Figure size 1080x1080 with 2 Axes>"
            ]
          },
          "metadata": {
            "needs_background": "light"
          }
        }
      ]
    },
    {
      "cell_type": "markdown",
      "metadata": {
        "id": "-ZfbHaqTH_-4"
      },
      "source": [
        "En esta última sección,  vamos a presentar el algoritmo de clustering [K-Means](https://en.wikipedia.org/wiki/K-means_clustering), un algoritmo de clustering no supervisado que nos va a agrupar las diferentes cuestiones planteadas en Stack Overflow en diferentes grupos.\n",
        "\n",
        "\n",
        "El objetivo de K-Means es sencillo: agrupar datos similares y descubrir patrones subyacentes. Para lograr esto, K-Means busca un número fijo $k$ de centroides en el dataset. Un centroide es el centro de un cluster y un cluster es una collección de datos reunidos que tienen ciertas similitudes entre ellos. El ‘means’ se refiere al promediado de los datos encontrando el centroide. El algoritmo es no supervisado pues no tiene conocimiento de los grupos en el dataset, es decir, encontrará los grupos subyacentes en el dataset.\n",
        "\n",
        "Vamos a ver cómo funciona K-Means para los datos de tf-idf:"
      ]
    },
    {
      "cell_type": "code",
      "metadata": {
        "id": "0HV3GceGH-2B"
      },
      "source": [
        "from sklearn.cluster import KMeans\n",
        "\n",
        "k = 5 \n",
        "kmeans = KMeans(n_clusters=k).fit(tf_idf_df)"
      ],
      "execution_count": 60,
      "outputs": []
    },
    {
      "cell_type": "markdown",
      "metadata": {
        "id": "mt_G930ypJN5"
      },
      "source": [
        "El algoritmo ha agrupado cada uno de los documentos en uno de los 5 cluster definidos:"
      ]
    },
    {
      "cell_type": "code",
      "metadata": {
        "id": "chxlhLdmI-hq",
        "colab": {
          "base_uri": "https://localhost:8080/"
        },
        "outputId": "ab67d8c4-8757-4d8f-d366-9d9cecaa0172"
      },
      "source": [
        "kmeans.labels_ "
      ],
      "execution_count": 61,
      "outputs": [
        {
          "output_type": "execute_result",
          "data": {
            "text/plain": [
              "array([0, 2, 2, 0, 1, 0, 1, 2, 2, 0, 3, 1, 2, 0, 0, 0, 3, 2, 3, 4, 4, 4,\n",
              "       2, 2, 2, 2, 1, 2, 2, 4, 2, 2, 2, 3, 4, 1, 0, 0, 2, 1, 4, 4, 2, 2,\n",
              "       2, 2, 2, 2, 4, 2, 4, 2, 2, 2, 2, 2, 2, 2, 3, 2, 0, 2, 0, 2, 2, 1,\n",
              "       4, 4, 2, 2, 0, 4, 2, 2, 2, 2, 2, 4, 2, 2, 2, 2, 4, 1, 0, 4, 0, 2,\n",
              "       2, 2, 2, 2, 0, 2, 2, 2, 2, 4, 2, 2, 2, 2, 2, 2, 1, 2, 4, 2, 2, 0,\n",
              "       2, 4, 2, 0, 0, 2, 2, 0, 0, 1, 2, 2, 2, 2, 2, 1, 0, 2, 1, 1, 1, 1,\n",
              "       2, 1, 0, 2, 0, 4, 1, 2, 2, 0, 0, 4, 4, 2, 1, 0, 4, 2, 3, 2, 1, 2,\n",
              "       2, 1, 2, 1, 4, 0, 2, 2, 2, 2, 2, 2, 0, 4, 1, 2, 2, 2, 2, 2, 2, 4,\n",
              "       0, 2, 2, 1, 2, 2, 2, 4, 2, 2, 1, 2, 2, 2, 2, 2, 3, 1, 2, 2, 2, 0,\n",
              "       2, 1, 3, 0, 2, 2, 1, 2, 2, 0, 2, 2, 3, 2, 0, 2, 0, 2, 1, 0, 1, 1,\n",
              "       2, 1, 0, 2, 2, 2, 2, 2, 0, 2, 2, 1, 3, 4, 3, 3, 0, 2, 1, 3, 0, 1,\n",
              "       0, 0, 2, 3, 0, 2, 2, 4, 2, 1, 2, 2, 4, 1, 2, 0, 2, 4, 1, 2, 0, 1,\n",
              "       2, 0, 1, 0, 1, 2, 1, 3, 0, 2, 2, 1, 2, 2, 0, 3, 4, 0, 1, 0, 2, 0,\n",
              "       1, 2, 2, 2, 0, 2, 3, 2, 0, 0, 0, 2, 4, 4, 0, 2, 2, 2, 0, 2, 2, 0,\n",
              "       1, 3, 1, 4, 2, 0, 0, 0, 2, 0, 4, 0, 2, 2, 0, 4, 0, 1, 2, 1, 3, 0,\n",
              "       0, 0, 2, 2, 2, 2, 2, 2, 0, 2, 3, 1, 0, 2, 2, 1, 0, 2, 2, 0, 4, 2,\n",
              "       0, 2, 1, 2, 2, 2, 0, 2, 2, 1, 3, 2, 4, 4, 0, 0, 2, 0, 4, 2, 2, 2,\n",
              "       1, 2, 2, 2, 2, 2, 2, 0, 2, 0, 2, 0, 2, 2, 4, 2, 1, 2, 3, 2, 1, 1,\n",
              "       2, 0, 2, 2, 2, 2, 4, 2, 2, 0, 3, 2, 1, 2, 1, 2, 2, 2, 2, 2, 2, 1,\n",
              "       2, 2, 2, 2, 2, 4, 0, 2, 1, 2, 4, 2, 2, 0, 0, 0, 0, 0, 2, 2, 3, 2,\n",
              "       1, 0, 4, 2, 2, 1, 1, 2, 4, 4, 4, 3, 2, 0, 2, 2, 2, 2, 2, 2, 0, 2,\n",
              "       0, 2, 0, 2, 2, 0, 2, 2, 2, 1, 4, 2, 0, 2, 2, 0, 2, 2, 4, 2, 0, 1,\n",
              "       4, 0, 1, 1, 3, 4, 2, 0, 2, 3, 0, 1, 2, 4, 2, 0], dtype=int32)"
            ]
          },
          "metadata": {},
          "execution_count": 61
        }
      ]
    },
    {
      "cell_type": "markdown",
      "metadata": {
        "id": "e0zFtfv5lWKr"
      },
      "source": [
        "Una cuestión importante es que el parámetro que indica el número de cluster $k$ hay que proporcionárselo y no sabemos, a priori, cuántos clúster podría haber subyacentes.\n",
        "\n",
        "Para ello vamos a realizar el proceso con varios valores de $k$ para ver cuál es más adecuado:"
      ]
    },
    {
      "cell_type": "code",
      "metadata": {
        "id": "x1QQ_BbtwV3Z"
      },
      "source": [
        "def run_KMeans(max_k, data):\n",
        "    max_k += 1\n",
        "    kmeans_results = dict()\n",
        "    for k in range(2 , max_k):\n",
        "        kmeans = KMeans(n_clusters = k, init = 'k-means++'\n",
        "                        , n_init = 10\n",
        "                        , tol = 0.0001\n",
        "                        , n_jobs = -1\n",
        "                        , random_state = 1\n",
        "                        , algorithm = 'full')\n",
        "        kmeans_results [k] = kmeans.fit(data) # TODO : poner en un diccionario\n",
        "    return kmeans_results\n",
        "\n",
        "kmeans_results = kmeans_results = run_KMeans (12, tf_idf_df)\n",
        "\n"
      ],
      "execution_count": 63,
      "outputs": []
    },
    {
      "cell_type": "markdown",
      "metadata": {
        "id": "VnCTB3EOxxAk"
      },
      "source": [
        "Para determinar cómo de cohesionado está un cluster en relación con los otros clusters existe una medida denominada silueta (silhouette) que nos indica precisamente esto:"
      ]
    },
    {
      "cell_type": "code",
      "metadata": {
        "id": "nTQXwHlcxreD",
        "colab": {
          "base_uri": "https://localhost:8080/"
        },
        "outputId": "41f2beda-0a2c-489b-a68c-ff25073d1382"
      },
      "source": [
        "from sklearn.metrics import silhouette_score\n",
        "\n",
        "def silhouette(kmeans_dict, df, plot=False):\n",
        "    sil = dict()\n",
        "    for k, kmeans in kmeans_dict.items(): \n",
        "        \n",
        "        kmeans_labels = kmeans.predict(df)\n",
        "        silhouette_avg = silhouette_score(df, kmeans_labels) \n",
        "        sil[k] = silhouette_avg  # TODO: añadir a diccionario\n",
        "\n",
        "    return sil\n",
        "\n",
        "sil_results = silhouette ( kmeans_results, tf_idf_df )\n",
        "\n",
        "def sortDict(diccionario):\n",
        "    return sorted(diccionario.items(), key=lambda item: item[1], reverse=True)\n",
        "\n",
        "\n",
        "# TODO: Qué valor de k obtiene el mejor valor de silueta\n",
        "best_k = sortDict(sil_results)[0][0]\n",
        "print(best_k)\n"
      ],
      "execution_count": 64,
      "outputs": [
        {
          "output_type": "stream",
          "name": "stdout",
          "text": [
            "10\n"
          ]
        }
      ]
    },
    {
      "cell_type": "markdown",
      "metadata": {
        "id": "ItH9V4Aj1RxN"
      },
      "source": [
        "Una vez obtenido el valor de cluster que mejor podría describir la agrupación de los datos, vamos a hacer una predicción sobre los datos con la función `fit_predict` con el objeto kmeans que corresponde a `best_k`:"
      ]
    },
    {
      "cell_type": "code",
      "metadata": {
        "id": "IMgsTiRs1qnJ"
      },
      "source": [
        "prediction = KMeans(n_clusters=best_k).fit_predict(tf_idf_df) # TODO\n"
      ],
      "execution_count": 65,
      "outputs": []
    },
    {
      "cell_type": "code",
      "metadata": {
        "id": "wgrMybQ64wll",
        "colab": {
          "base_uri": "https://localhost:8080/",
          "height": 542
        },
        "outputId": "e4b09ecb-2b8d-42ff-f3d9-1aa6a78867cb"
      },
      "source": [
        "stackoverflow_df['cluster'] = prediction # TODO: añadir las predicciones a stackoverflow_df\n",
        "\n",
        "stackoverflow_df.head(5)"
      ],
      "execution_count": 68,
      "outputs": [
        {
          "output_type": "execute_result",
          "data": {
            "text/html": [
              "<div>\n",
              "<style scoped>\n",
              "    .dataframe tbody tr th:only-of-type {\n",
              "        vertical-align: middle;\n",
              "    }\n",
              "\n",
              "    .dataframe tbody tr th {\n",
              "        vertical-align: top;\n",
              "    }\n",
              "\n",
              "    .dataframe thead th {\n",
              "        text-align: right;\n",
              "    }\n",
              "</style>\n",
              "<table border=\"1\" class=\"dataframe\">\n",
              "  <thead>\n",
              "    <tr style=\"text-align: right;\">\n",
              "      <th></th>\n",
              "      <th>id</th>\n",
              "      <th>title</th>\n",
              "      <th>body</th>\n",
              "      <th>accepted_answer_id</th>\n",
              "      <th>answer_count</th>\n",
              "      <th>comment_count</th>\n",
              "      <th>creation_date</th>\n",
              "      <th>last_activity_date</th>\n",
              "      <th>last_edit_date</th>\n",
              "      <th>last_editor_display_name</th>\n",
              "      <th>last_editor_user_id</th>\n",
              "      <th>owner_display_name</th>\n",
              "      <th>owner_user_id</th>\n",
              "      <th>post_type_id</th>\n",
              "      <th>score</th>\n",
              "      <th>tags</th>\n",
              "      <th>view_count</th>\n",
              "      <th>favorite_count</th>\n",
              "      <th>text</th>\n",
              "      <th>mtext</th>\n",
              "      <th>keywords</th>\n",
              "      <th>cluster</th>\n",
              "    </tr>\n",
              "  </thead>\n",
              "  <tbody>\n",
              "    <tr>\n",
              "      <th>0</th>\n",
              "      <td>3247246</td>\n",
              "      <td>Integrate War-Plugin for m2eclipse into Eclips...</td>\n",
              "      <td>&lt;p&gt;I set up a small web project with JSF and M...</td>\n",
              "      <td>3247526.0</td>\n",
              "      <td>2</td>\n",
              "      <td>0</td>\n",
              "      <td>2010-07-14 14:39:48.053 UTC</td>\n",
              "      <td>2010-07-14 16:02:19.683 UTC</td>\n",
              "      <td>2010-07-14 15:56:37.803 UTC</td>\n",
              "      <td></td>\n",
              "      <td>70604.0</td>\n",
              "      <td></td>\n",
              "      <td>389430.0</td>\n",
              "      <td>1</td>\n",
              "      <td>2</td>\n",
              "      <td>eclipse|maven-2|tomcat|m2eclipse</td>\n",
              "      <td>1653</td>\n",
              "      <td>NaN</td>\n",
              "      <td>Integrate War-Plugin for m2eclipse into Eclips...</td>\n",
              "      <td>['integrate', 'war', 'plugin', 'eclipse', 'ecl...</td>\n",
              "      <td>{'eclipse': 0.5744674642440583, 'integrate': 0...</td>\n",
              "      <td>4</td>\n",
              "    </tr>\n",
              "    <tr>\n",
              "      <th>1</th>\n",
              "      <td>40270764</td>\n",
              "      <td>phantomjs-node page.evaulate seems to hang</td>\n",
              "      <td>&lt;p&gt;I have an implementation of 'waitfor' with ...</td>\n",
              "      <td>NaN</td>\n",
              "      <td>1</td>\n",
              "      <td>0</td>\n",
              "      <td>2016-10-26 19:35:00.537 UTC</td>\n",
              "      <td>2016-11-02 20:05:09.143 UTC</td>\n",
              "      <td>NaN</td>\n",
              "      <td></td>\n",
              "      <td>NaN</td>\n",
              "      <td></td>\n",
              "      <td>245076.0</td>\n",
              "      <td>1</td>\n",
              "      <td>0</td>\n",
              "      <td>node.js|phantomjs</td>\n",
              "      <td>35</td>\n",
              "      <td>NaN</td>\n",
              "      <td>phantomjs-node page.evaulate seems to hang&lt;p&gt;I...</td>\n",
              "      <td>['phantomjs', 'node', 'page', 'evaulate', 'see...</td>\n",
              "      <td>{'sitepage': 0.44471044664215, 'evaluate': 0.3...</td>\n",
              "      <td>4</td>\n",
              "    </tr>\n",
              "    <tr>\n",
              "      <th>2</th>\n",
              "      <td>27532383</td>\n",
              "      <td>Dynamic operations can only be performed in ho...</td>\n",
              "      <td>&lt;p&gt;I'm working with an API that requires:&lt;/p&gt;\\...</td>\n",
              "      <td>NaN</td>\n",
              "      <td>1</td>\n",
              "      <td>0</td>\n",
              "      <td>2014-12-17 18:31:18.6 UTC</td>\n",
              "      <td>2014-12-17 19:57:43.443 UTC</td>\n",
              "      <td>NaN</td>\n",
              "      <td></td>\n",
              "      <td>NaN</td>\n",
              "      <td></td>\n",
              "      <td>3105880.0</td>\n",
              "      <td>1</td>\n",
              "      <td>1</td>\n",
              "      <td>c#|asp.net-mvc</td>\n",
              "      <td>4372</td>\n",
              "      <td>NaN</td>\n",
              "      <td>Dynamic operations can only be performed in ho...</td>\n",
              "      <td>['dynamic', 'operations', 'performed', 'homoge...</td>\n",
              "      <td>{'legacycasmodel': 0.4665973881828186, 'dynami...</td>\n",
              "      <td>2</td>\n",
              "    </tr>\n",
              "    <tr>\n",
              "      <th>3</th>\n",
              "      <td>33511888</td>\n",
              "      <td>CSS with relative URL to background image?</td>\n",
              "      <td>&lt;p&gt;I have a file structure of:&lt;/p&gt;\\n\\n&lt;pre&gt;&lt;co...</td>\n",
              "      <td>NaN</td>\n",
              "      <td>2</td>\n",
              "      <td>2</td>\n",
              "      <td>2015-11-04 00:50:35.223 UTC</td>\n",
              "      <td>2015-11-04 01:51:03.037 UTC</td>\n",
              "      <td>2015-11-04 01:51:03.037 UTC</td>\n",
              "      <td></td>\n",
              "      <td>5464492.0</td>\n",
              "      <td></td>\n",
              "      <td>5464492.0</td>\n",
              "      <td>1</td>\n",
              "      <td>0</td>\n",
              "      <td>css|background-image</td>\n",
              "      <td>406</td>\n",
              "      <td>NaN</td>\n",
              "      <td>CSS with relative URL to background image?&lt;p&gt;I...</td>\n",
              "      <td>['css', 'relative', 'url', 'background', 'imag...</td>\n",
              "      <td>{'damask': 0.4764851162509134, 'background': 0...</td>\n",
              "      <td>2</td>\n",
              "    </tr>\n",
              "    <tr>\n",
              "      <th>4</th>\n",
              "      <td>46160163</td>\n",
              "      <td>Share canvas image on android</td>\n",
              "      <td>&lt;p&gt;Hello so I write a small game where in the ...</td>\n",
              "      <td>46160246.0</td>\n",
              "      <td>1</td>\n",
              "      <td>0</td>\n",
              "      <td>2017-09-11 16:19:18.32 UTC</td>\n",
              "      <td>2017-09-11 16:24:12.69 UTC</td>\n",
              "      <td>NaN</td>\n",
              "      <td></td>\n",
              "      <td>NaN</td>\n",
              "      <td></td>\n",
              "      <td>8570512.0</td>\n",
              "      <td>1</td>\n",
              "      <td>0</td>\n",
              "      <td>android|canvas|bitmap|share</td>\n",
              "      <td>52</td>\n",
              "      <td>NaN</td>\n",
              "      <td>Share canvas image on android&lt;p&gt;Hello so I wri...</td>\n",
              "      <td>['share', 'canvas', 'image', 'androidhello', '...</td>\n",
              "      <td>{'uri': 0.3584552567392882, 'bitmap': 0.283184...</td>\n",
              "      <td>6</td>\n",
              "    </tr>\n",
              "  </tbody>\n",
              "</table>\n",
              "</div>"
            ],
            "text/plain": [
              "         id  ... cluster\n",
              "0   3247246  ...       4\n",
              "1  40270764  ...       4\n",
              "2  27532383  ...       2\n",
              "3  33511888  ...       2\n",
              "4  46160163  ...       6\n",
              "\n",
              "[5 rows x 22 columns]"
            ]
          },
          "metadata": {},
          "execution_count": 68
        }
      ]
    },
    {
      "cell_type": "markdown",
      "metadata": {
        "id": "RG9EbGQS3NPm"
      },
      "source": [
        "Una vez definidos los clusters, vamos a ver cuáles son las palabras clave que definen cada uno de los clusters:"
      ]
    },
    {
      "cell_type": "code",
      "metadata": {
        "id": "VtgtDfIbMBfX",
        "colab": {
          "base_uri": "https://localhost:8080/",
          "height": 1000
        },
        "outputId": "efaaaa6f-e03f-4841-be45-67b2c7d02780"
      },
      "source": [
        "# Definir un par de funciones auxiliares\n",
        "\n",
        "def get_top_features_cluster(tf_idf_array, prediction, n_feats):\n",
        "    labels = np.unique(prediction)\n",
        "    dfs = []\n",
        "    for label in labels:\n",
        "        id_temp = np.where(prediction==label) # \n",
        "        x_means = np.mean(tf_idf_array[id_temp], axis = 0) # \n",
        "        sorted_means = np.argsort(x_means)[::-1][:n_feats] # \n",
        "        features = vectorizer.get_feature_names()\n",
        "        best_features = [(features[i], x_means[i]) for i in sorted_means]\n",
        "        df = pd.DataFrame(best_features, columns = ['words', 'score'])\n",
        "        dfs.append(df)\n",
        "    return dfs\n",
        "\n",
        "\n",
        "def plotWords(dfs, n_feats):\n",
        "    plt.figure(figsize=(8, 4))\n",
        "    for i in range(0, len(dfs)):\n",
        "        plt.title((\"Most Common Words in Cluster {}\".format(i)), fontsize=10, fontweight='bold')\n",
        "        sns.barplot(x = 'score' , y = 'words', orient = 'h' , data = dfs[i][:n_feats])\n",
        "        plt.show()\n",
        "\n",
        "n_feats = 5 # Num. palabras a representar\n",
        "dfs = get_top_features_cluster(tf_idf_df.to_numpy(), prediction, n_feats)\n",
        "plotWords(dfs, n_feats)  # "
      ],
      "execution_count": 69,
      "outputs": [
        {
          "output_type": "display_data",
          "data": {
            "image/png": "[encoded data removed]",
            "text/plain": [
              "<Figure size 576x288 with 1 Axes>"
            ]
          },
          "metadata": {
            "needs_background": "light"
          }
        },
        {
          "output_type": "display_data",
          "data": {
            "image/png": "[encoded data removed]",
            "text/plain": [
              "<Figure size 432x288 with 1 Axes>"
            ]
          },
          "metadata": {
            "needs_background": "light"
          }
        },
        {
          "output_type": "display_data",
          "data": {
            "image/png": "[encoded data removed]",
            "text/plain": [
              "<Figure size 432x288 with 1 Axes>"
            ]
          },
          "metadata": {
            "needs_background": "light"
          }
        },
        {
          "output_type": "display_data",
          "data": {
            "image/png": "[encoded data removed]",
            "text/plain": [
              "<Figure size 432x288 with 1 Axes>"
            ]
          },
          "metadata": {
            "needs_background": "light"
          }
        },
        {
          "output_type": "display_data",
          "data": {
            "image/png": "[encoded data removed]",
            "text/plain": [
              "<Figure size 432x288 with 1 Axes>"
            ]
          },
          "metadata": {
            "needs_background": "light"
          }
        },
        {
          "output_type": "display_data",
          "data": {
            "image/png": "[encoded data removed]",
            "text/plain": [
              "<Figure size 432x288 with 1 Axes>"
            ]
          },
          "metadata": {
            "needs_background": "light"
          }
        },
        {
          "output_type": "display_data",
          "data": {
            "image/png": "[encoded data removed]",
            "text/plain": [
              "<Figure size 432x288 with 1 Axes>"
            ]
          },
          "metadata": {
            "needs_background": "light"
          }
        },
        {
          "output_type": "display_data",
          "data": {
            "image/png": "[encoded data removed]",
            "text/plain": [
              "<Figure size 432x288 with 1 Axes>"
            ]
          },
          "metadata": {
            "needs_background": "light"
          }
        },
        {
          "output_type": "display_data",
          "data": {
            "image/png": "[encoded data removed]",
            "text/plain": [
              "<Figure size 432x288 with 1 Axes>"
            ]
          },
          "metadata": {
            "needs_background": "light"
          }
        },
        {
          "output_type": "display_data",
          "data": {
            "image/png": "[encoded data removed]",
            "text/plain": [
              "<Figure size 432x288 with 1 Axes>"
            ]
          },
          "metadata": {
            "needs_background": "light"
          }
        }
      ]
    },
    {
      "cell_type": "markdown",
      "metadata": {
        "id": "9JQ9W5Cd4BRK"
      },
      "source": [
        "**¿En qué cluster se encuentran las preguntas relativas a Android?** \n",
        "\n",
        "    cluster 8\n",
        "**¿De qué tratan los post/preguntas/documentos que se encuentran en el cluster 7?**\n",
        "\n",
        "    palabras relacionadas con dataframes"
      ]
    },
    {
      "cell_type": "markdown",
      "metadata": {
        "id": "hJs5pMB6Z0xx"
      },
      "source": [
        "---\n"
      ]
    },
    {
      "cell_type": "markdown",
      "metadata": {
        "id": "dw6yDxRZL7j9"
      },
      "source": [
        "# Parte 3. Declaración Universal de los Derechos Humanos"
      ]
    },
    {
      "cell_type": "markdown",
      "metadata": {
        "id": "2vcePD0XLZGb"
      },
      "source": [
        "La [Declaración Universal de los Derechos Humanos](https://en.wikipedia.org/wiki/Universal_Declaration_of_Human_Rights) es un documento adoptado por la Asamblea General de las Naciones Unidas en su Resolución 217 A (III), el 10 de diciembre de 1948 en París, ​ que recoge en sus 30 artículos los derechos humanos considerados básicos."
      ]
    },
    {
      "cell_type": "code",
      "metadata": {
        "id": "ltAarFcOFTdq",
        "colab": {
          "base_uri": "https://localhost:8080/"
        },
        "outputId": "32204fed-8325-4047-d92c-8220ceb3e774"
      },
      "source": [
        "nltk.download('udhr')\n",
        "  \n",
        "from nltk.corpus import udhr"
      ],
      "execution_count": 70,
      "outputs": [
        {
          "output_type": "stream",
          "name": "stdout",
          "text": [
            "[nltk_data] Downloading package udhr to /root/nltk_data...\n",
            "[nltk_data]   Unzipping corpora/udhr.zip.\n"
          ]
        }
      ]
    },
    {
      "cell_type": "markdown",
      "metadata": {
        "id": "eyvGzUKHU-fe"
      },
      "source": [
        "Una vez importado el contenido, para ver los idiomas en los que se encuentran disponible:\n"
      ]
    },
    {
      "cell_type": "code",
      "metadata": {
        "id": "JPRGkwyIFTgP",
        "colab": {
          "base_uri": "https://localhost:8080/"
        },
        "outputId": "2303a202-7662-43af-a202-41aa4e718b5e"
      },
      "source": [
        "udhr.fileids()[:10]\n"
      ],
      "execution_count": 71,
      "outputs": [
        {
          "output_type": "execute_result",
          "data": {
            "text/plain": [
              "['Abkhaz-Cyrillic+Abkh',\n",
              " 'Abkhaz-UTF8',\n",
              " 'Achehnese-Latin1',\n",
              " 'Achuar-Shiwiar-Latin1',\n",
              " 'Adja-UTF8',\n",
              " 'Afaan_Oromo_Oromiffa-Latin1',\n",
              " 'Afrikaans-Latin1',\n",
              " 'Aguaruna-Latin1',\n",
              " 'Akuapem_Twi-UTF8',\n",
              " 'Albanian_Shqip-Latin1']"
            ]
          },
          "metadata": {},
          "execution_count": 71
        }
      ]
    },
    {
      "cell_type": "markdown",
      "metadata": {
        "id": "lleMQNcLWVmk"
      },
      "source": [
        "Vamos a seleccionar 5 idiomas para recopilar estadísticas: 4 vienen prefijados y 1 será de tu elección"
      ]
    },
    {
      "cell_type": "code",
      "metadata": {
        "id": "WwZx3gfUWksI"
      },
      "source": [
        "langs = ['English-Latin1', 'Spanish_Espanol-Latin1', 'French_Francais-Latin1',\n",
        "         'Catalan_Catala-Latin1', 'Quechua-Latin1'] #TODO"
      ],
      "execution_count": 72,
      "outputs": []
    },
    {
      "cell_type": "markdown",
      "metadata": {
        "id": "DuyYMOl5Gjm3"
      },
      "source": [
        "Crear un Dataframe con los siguientes datos de cada idioma:\n",
        "\n",
        "- Número de palabras en la Declaración Universal de Derecho Humanos (UDHR, en inglés)\n",
        "\n",
        "- Número de palabras únicas\n",
        "\n",
        "- Longitud media de las palabras\n",
        "\n",
        "- Número de sentencias incluidas\n",
        "\n",
        "- Número medio de palabras por sentencia\n"
      ]
    },
    {
      "cell_type": "code",
      "metadata": {
        "id": "ZX8xIWuvYke9"
      },
      "source": [
        "def generate_udhr_stats():\n",
        "  np_udhr=[]\n",
        "  columns=['Language', 'WordCount','WordCountUnique',\n",
        "           'NumberSentences','MeanWordLength','MeanWordsPerSentence']\n",
        "          \n",
        "\n",
        "  for lang in langs:\n",
        "\n",
        "    text = udhr.raw (lang)\n",
        "    procText=preprocess_text(text)\n",
        "    palabras= len(procText)\n",
        "    unicas=set(procText)\n",
        "    promedio=sum(len(word) for word in unicas) / len(unicas)# TODO\n",
        "    sentencias=re.split(r'[.!?]+', text)\n",
        "    palabrasSentencias=[]\n",
        "    \n",
        "    for sent in sentencias:\n",
        "      p = tokenize_and_remove_punctuations(sent)\n",
        "      palabrasSentencias.append(len(p))\n",
        "    \n",
        "    mediaPalabrasSent=sum(palabrasSentencias)/len(sentencias)\n",
        "    listaResultados=[lang,palabras,len(unicas),len(sentencias),promedio,mediaPalabrasSent]\n",
        "    np_udhr.append(listaResultados)       # TODO\n",
        "  return pd.DataFrame(np_udhr, columns=columns) # TODO\n",
        "  # return resu\n",
        "udhr_df = generate_udhr_stats()\n"
      ],
      "execution_count": 73,
      "outputs": []
    },
    {
      "cell_type": "code",
      "metadata": {
        "id": "KvxuxWbCYlSu",
        "colab": {
          "base_uri": "https://localhost:8080/",
          "height": 203
        },
        "outputId": "e5e688ac-577c-4421-a804-2ecb06f0c9d8"
      },
      "source": [
        "udhr_df.head(5)"
      ],
      "execution_count": 74,
      "outputs": [
        {
          "output_type": "execute_result",
          "data": {
            "text/html": [
              "<div>\n",
              "<style scoped>\n",
              "    .dataframe tbody tr th:only-of-type {\n",
              "        vertical-align: middle;\n",
              "    }\n",
              "\n",
              "    .dataframe tbody tr th {\n",
              "        vertical-align: top;\n",
              "    }\n",
              "\n",
              "    .dataframe thead th {\n",
              "        text-align: right;\n",
              "    }\n",
              "</style>\n",
              "<table border=\"1\" class=\"dataframe\">\n",
              "  <thead>\n",
              "    <tr style=\"text-align: right;\">\n",
              "      <th></th>\n",
              "      <th>Language</th>\n",
              "      <th>WordCount</th>\n",
              "      <th>WordCountUnique</th>\n",
              "      <th>NumberSentences</th>\n",
              "      <th>MeanWordLength</th>\n",
              "      <th>MeanWordsPerSentence</th>\n",
              "    </tr>\n",
              "  </thead>\n",
              "  <tbody>\n",
              "    <tr>\n",
              "      <th>0</th>\n",
              "      <td>English-Latin1</td>\n",
              "      <td>834</td>\n",
              "      <td>364</td>\n",
              "      <td>58</td>\n",
              "      <td>6.019231</td>\n",
              "      <td>27.482759</td>\n",
              "    </tr>\n",
              "    <tr>\n",
              "      <th>1</th>\n",
              "      <td>Spanish_Espanol-Latin1</td>\n",
              "      <td>1040</td>\n",
              "      <td>444</td>\n",
              "      <td>49</td>\n",
              "      <td>7.452703</td>\n",
              "      <td>31.816327</td>\n",
              "    </tr>\n",
              "    <tr>\n",
              "      <th>2</th>\n",
              "      <td>French_Francais-Latin1</td>\n",
              "      <td>1097</td>\n",
              "      <td>451</td>\n",
              "      <td>49</td>\n",
              "      <td>6.235033</td>\n",
              "      <td>34.122449</td>\n",
              "    </tr>\n",
              "    <tr>\n",
              "      <th>3</th>\n",
              "      <td>Catalan_Catala-Latin1</td>\n",
              "      <td>1096</td>\n",
              "      <td>459</td>\n",
              "      <td>84</td>\n",
              "      <td>6.751634</td>\n",
              "      <td>19.928571</td>\n",
              "    </tr>\n",
              "    <tr>\n",
              "      <th>4</th>\n",
              "      <td>Quechua-Latin1</td>\n",
              "      <td>1078</td>\n",
              "      <td>564</td>\n",
              "      <td>51</td>\n",
              "      <td>9.792553</td>\n",
              "      <td>21.803922</td>\n",
              "    </tr>\n",
              "  </tbody>\n",
              "</table>\n",
              "</div>"
            ],
            "text/plain": [
              "                 Language  WordCount  ...  MeanWordLength  MeanWordsPerSentence\n",
              "0          English-Latin1        834  ...        6.019231             27.482759\n",
              "1  Spanish_Espanol-Latin1       1040  ...        7.452703             31.816327\n",
              "2  French_Francais-Latin1       1097  ...        6.235033             34.122449\n",
              "3   Catalan_Catala-Latin1       1096  ...        6.751634             19.928571\n",
              "4          Quechua-Latin1       1078  ...        9.792553             21.803922\n",
              "\n",
              "[5 rows x 6 columns]"
            ]
          },
          "metadata": {},
          "execution_count": 74
        }
      ]
    },
    {
      "cell_type": "markdown",
      "metadata": {
        "id": "vycf58eggFo7"
      },
      "source": [
        "¿Cuál es la ***diversidad léxica*** (relación del número de palabras distintas entre el número total de palabras) en cada idioma? "
      ]
    },
    {
      "cell_type": "code",
      "metadata": {
        "id": "rueuAmT5YlC0"
      },
      "source": [
        "# def lexical_diversity (row):\n",
        "#   return row['WordCountUnique']/row['WordCount'] # TODO\n",
        "\n",
        "udhr_df['LD'] = udhr_df['WordCountUnique']/udhr_df['WordCount']  # TODO\n"
      ],
      "execution_count": 75,
      "outputs": []
    },
    {
      "cell_type": "code",
      "metadata": {
        "id": "gD9ZuH1kbjSE",
        "colab": {
          "base_uri": "https://localhost:8080/",
          "height": 203
        },
        "outputId": "076e6af7-9fa8-46e4-969a-e1a37ae7223a"
      },
      "source": [
        "udhr_df"
      ],
      "execution_count": 76,
      "outputs": [
        {
          "output_type": "execute_result",
          "data": {
            "text/html": [
              "<div>\n",
              "<style scoped>\n",
              "    .dataframe tbody tr th:only-of-type {\n",
              "        vertical-align: middle;\n",
              "    }\n",
              "\n",
              "    .dataframe tbody tr th {\n",
              "        vertical-align: top;\n",
              "    }\n",
              "\n",
              "    .dataframe thead th {\n",
              "        text-align: right;\n",
              "    }\n",
              "</style>\n",
              "<table border=\"1\" class=\"dataframe\">\n",
              "  <thead>\n",
              "    <tr style=\"text-align: right;\">\n",
              "      <th></th>\n",
              "      <th>Language</th>\n",
              "      <th>WordCount</th>\n",
              "      <th>WordCountUnique</th>\n",
              "      <th>NumberSentences</th>\n",
              "      <th>MeanWordLength</th>\n",
              "      <th>MeanWordsPerSentence</th>\n",
              "      <th>LD</th>\n",
              "    </tr>\n",
              "  </thead>\n",
              "  <tbody>\n",
              "    <tr>\n",
              "      <th>0</th>\n",
              "      <td>English-Latin1</td>\n",
              "      <td>834</td>\n",
              "      <td>364</td>\n",
              "      <td>58</td>\n",
              "      <td>6.019231</td>\n",
              "      <td>27.482759</td>\n",
              "      <td>0.436451</td>\n",
              "    </tr>\n",
              "    <tr>\n",
              "      <th>1</th>\n",
              "      <td>Spanish_Espanol-Latin1</td>\n",
              "      <td>1040</td>\n",
              "      <td>444</td>\n",
              "      <td>49</td>\n",
              "      <td>7.452703</td>\n",
              "      <td>31.816327</td>\n",
              "      <td>0.426923</td>\n",
              "    </tr>\n",
              "    <tr>\n",
              "      <th>2</th>\n",
              "      <td>French_Francais-Latin1</td>\n",
              "      <td>1097</td>\n",
              "      <td>451</td>\n",
              "      <td>49</td>\n",
              "      <td>6.235033</td>\n",
              "      <td>34.122449</td>\n",
              "      <td>0.411121</td>\n",
              "    </tr>\n",
              "    <tr>\n",
              "      <th>3</th>\n",
              "      <td>Catalan_Catala-Latin1</td>\n",
              "      <td>1096</td>\n",
              "      <td>459</td>\n",
              "      <td>84</td>\n",
              "      <td>6.751634</td>\n",
              "      <td>19.928571</td>\n",
              "      <td>0.418796</td>\n",
              "    </tr>\n",
              "    <tr>\n",
              "      <th>4</th>\n",
              "      <td>Quechua-Latin1</td>\n",
              "      <td>1078</td>\n",
              "      <td>564</td>\n",
              "      <td>51</td>\n",
              "      <td>9.792553</td>\n",
              "      <td>21.803922</td>\n",
              "      <td>0.523191</td>\n",
              "    </tr>\n",
              "  </tbody>\n",
              "</table>\n",
              "</div>"
            ],
            "text/plain": [
              "                 Language  WordCount  ...  MeanWordsPerSentence        LD\n",
              "0          English-Latin1        834  ...             27.482759  0.436451\n",
              "1  Spanish_Espanol-Latin1       1040  ...             31.816327  0.426923\n",
              "2  French_Francais-Latin1       1097  ...             34.122449  0.411121\n",
              "3   Catalan_Catala-Latin1       1096  ...             19.928571  0.418796\n",
              "4          Quechua-Latin1       1078  ...             21.803922  0.523191\n",
              "\n",
              "[5 rows x 7 columns]"
            ]
          },
          "metadata": {},
          "execution_count": 76
        }
      ]
    },
    {
      "cell_type": "markdown",
      "metadata": {
        "id": "sko3HB4odxdT"
      },
      "source": [
        "---"
      ]
    },
    {
      "cell_type": "markdown",
      "metadata": {
        "id": "m2FNmKC34Ny8"
      },
      "source": [
        "\n",
        "La **ley Zipf** debe su nombre al lingüista norteamericano George Kingsley Zipf y dictamina que un pequeño número de palabras se utilizan todo el tiempo mientras que una gran mayoría de ellas apenas se utiliza. No es muy sorprendente que palabras muy frecuentes en textos en inglés sean `the`, `of` y similares, y que palabras como `intrauterine` apenas se utilicen. [https://en.wikipedia.org/wiki/Zipf%27s_law]\n",
        "\n",
        "La ley Zipf puede escribirse de la siguiente forma: la $r$-ésima palabra más frecuente $f(r)$ escala según la fórmula: $f(r) \\propto \\frac{1}{r^{\\alpha}}$ con $\\alpha \\approx 1$.\n"
      ]
    },
    {
      "cell_type": "code",
      "metadata": {
        "id": "bGyoBDzhjb1K"
      },
      "source": [
        "import operator\n",
        "from nltk.probability import FreqDist\n",
        "langs = ['Quechua-Latin1', 'Catalan_Catala-Latin1']\n",
        "def sorten(lang):\n",
        "    text = udhr.raw(lang)  # TODO : elegir un idioma\n",
        "\n",
        "\n",
        "    text = preprocess_text(text, stem=False)\n",
        "    # TODO : obtener la frecuencia de todas las palabras\n",
        "    token_dict = calculate_tf(text)\n",
        "    # TODO : ordenar y quedarse con las 50 más frecuentes\n",
        "    sorted_token_dict = sortDict(token_dict)\n",
        "\n",
        "    sorted_token_list = sorted_token_dict[:50]\n",
        "\n",
        "    return sorted_token_list\n",
        "    \n",
        "# text = udhr.raw(langs[0])  # TODO : elegir un idioma\n",
        "# text=preprocess_text(text,stem=False)\n",
        "# # TODO : obtener la frecuencia de todas las palabras\n",
        "# token_dict = calculate_tf(text)\n",
        "# # TODO : ordenar y quedarse con las 50 más frecuentes\n",
        "# sorted_token_dict = sortDict(token_dict)\n",
        "\n",
        "# sorted_token_list=sorted_token_dict[:50]\n",
        "\n",
        "# sorted_token_list\n",
        "\n",
        "\n"
      ],
      "execution_count": 77,
      "outputs": []
    },
    {
      "cell_type": "code",
      "metadata": {
        "id": "GiwBZ6jctqSp",
        "colab": {
          "base_uri": "https://localhost:8080/"
        },
        "outputId": "9ef5a00a-5532-4ef4-8544-d11f0b81eaed"
      },
      "source": [
        "def createZipfTable(freqs):\n",
        "  zipf_table = []\n",
        "  top_frequency = freqs[0][1]  # TODO : la palabra más frecuente\n",
        "  \n",
        "  for index, item in enumerate(freqs , start=1):\n",
        "    relative_frequency = \"1/{}\".format(index)\n",
        "    zipf_frequency = top_frequency * (1 / index)\n",
        "    zipf_table.append({\"word\": item[0], \"actual_frequency\": item[1], \n",
        "                       \"relative_frequency\": relative_frequency , \n",
        "                       \"zipf_frequency\": zipf_frequency })\n",
        "\n",
        "  return zipf_table\n",
        "\n",
        "for lang in langs:\n",
        "\n",
        "  print(lang)\n",
        "  print(\"|Rank|    Word    |       Freq | Zipf Frac  | Zipf Freq  |\")\n",
        "  format_string = \"|{:4}|{:12}|{:12.0f}|{:>12}|{:12.2f}|\"\n",
        "  for index, item in enumerate(createZipfTable(sorten(lang)), start=1):\n",
        "      print(format_string.format(index, item[\"word\"], item[\"actual_frequency\"],item[\"relative_frequency\"], item[\"zipf_frequency\"]))\n",
        "            \n"
      ],
      "execution_count": 88,
      "outputs": [
        {
          "output_type": "stream",
          "name": "stdout",
          "text": [
            "Quechua-Latin1\n",
            "|Rank|    Word    |       Freq | Zipf Frac  | Zipf Freq  |\n",
            "|   1|kay         |          33|         1/1|       33.00|\n",
            "|   2|mana        |          32|         1/2|       16.50|\n",
            "|   3|tukuy       |          25|         1/3|       11.00|\n",
            "|   4|rimay       |          24|         1/4|        8.25|\n",
            "|   5|jina        |          21|         1/5|        6.60|\n",
            "|   6|atiyniyoj   |          17|         1/6|        5.50|\n",
            "|   7|chunka      |          17|         1/7|        4.71|\n",
            "|   8|pillapis    |          17|         1/8|        4.12|\n",
            "|   9|tian        |          17|         1/9|        3.67|\n",
            "|  10|kaj         |          16|        1/10|        3.30|\n",
            "|  11|chay        |          14|        1/11|        3.00|\n",
            "|  12|ima         |          14|        1/12|        2.75|\n",
            "|  13|runa        |          14|        1/13|        2.54|\n",
            "|  14|chayri      |          13|        1/14|        2.36|\n",
            "|  15|kikin       |          11|        1/15|        2.20|\n",
            "|  16|llank       |          11|        1/16|        2.06|\n",
            "|  17|mayqen      |          11|        1/17|        1.94|\n",
            "|  18|kachun      |          10|        1/18|        1.83|\n",
            "|  19|kananpaj    |          10|        1/19|        1.74|\n",
            "|  20|atiynin     |           9|        1/20|        1.65|\n",
            "|  21|kanqa       |           9|        1/21|        1.57|\n",
            "|  22|pipis       |           9|        1/22|        1.50|\n",
            "|  23|chayqa      |           8|        1/23|        1.43|\n",
            "|  24|llajta      |           8|        1/24|        1.38|\n",
            "|  25|munaspa     |           8|        1/25|        1.32|\n",
            "|  26|iskay       |           7|        1/26|        1.27|\n",
            "|  27|kasqanta    |           7|        1/27|        1.22|\n",
            "|  28|nitaj       |           7|        1/28|        1.18|\n",
            "|  29|allin       |           5|        1/29|        1.14|\n",
            "|  30|laya        |           5|        1/30|        1.10|\n",
            "|  31|walej       |           5|        1/31|        1.06|\n",
            "|  32|atin        |           4|        1/32|        1.03|\n",
            "|  33|jark        |           4|        1/33|        1.00|\n",
            "|  34|kayta       |           4|        1/34|        0.97|\n",
            "|  35|llajtanta   |           4|        1/35|        0.94|\n",
            "|  36|rijch       |           4|        1/36|        0.92|\n",
            "|  37|rimasqanman |           4|        1/37|        0.89|\n",
            "|  38|ujniyoj     |           4|        1/38|        0.87|\n",
            "|  39|waj         |           4|        1/39|        0.85|\n",
            "|  40|cheqan      |           3|        1/40|        0.83|\n",
            "|  41|chijllasqa  |           3|        1/41|        0.80|\n",
            "|  42|jisq        |           3|        1/42|        0.79|\n",
            "|  43|kanan       |           3|        1/43|        0.77|\n",
            "|  44|kanku       |           3|        1/44|        0.75|\n",
            "|  45|khuska      |           3|        1/45|        0.73|\n",
            "|  46|khuskamanta |           3|        1/46|        0.72|\n",
            "|  47|leyes       |           3|        1/47|        0.70|\n",
            "|  48|manataj     |           3|        1/48|        0.69|\n",
            "|  49|masikuna    |           3|        1/49|        0.67|\n",
            "|  50|masisninwan |           3|        1/50|        0.66|\n",
            "Catalan_Catala-Latin1\n",
            "|Rank|    Word    |       Freq | Zipf Frac  | Zipf Freq  |\n",
            "|   1|dret        |          40|         1/1|       40.00|\n",
            "|   2|per         |          28|         1/2|       20.00|\n",
            "|   3|article     |          27|         1/3|       13.33|\n",
            "|   4|que         |          27|         1/4|       10.00|\n",
            "|   5|persona     |          25|         1/5|        8.00|\n",
            "|   6|tota        |          22|         1/6|        6.67|\n",
            "|   7|les         |          19|         1/7|        5.71|\n",
            "|   8|seva        |          19|         1/8|        5.00|\n",
            "|   9|els         |          18|         1/9|        4.44|\n",
            "|  10|drets       |          16|        1/10|        4.00|\n",
            "|  11|una         |          13|        1/11|        3.64|\n",
            "|  12|dels        |          12|        1/12|        3.33|\n",
            "|  13|serà        |          11|        1/13|        3.08|\n",
            "|  14|del         |          10|        1/14|        2.86|\n",
            "|  15|llibertat   |          10|        1/15|        2.67|\n",
            "|  16|humans      |           9|        1/16|        2.50|\n",
            "|  17|tots        |           9|        1/17|        2.35|\n",
            "|  18|contra      |           8|        1/18|        2.22|\n",
            "|  19|ningú       |           8|        1/19|        2.11|\n",
            "|  20|protecció   |           8|        1/20|        2.00|\n",
            "|  21|amb         |           7|        1/21|        1.90|\n",
            "|  22|considerant |           7|        1/22|        1.82|\n",
            "|  23|igual       |           7|        1/23|        1.74|\n",
            "|  24|nacions     |           7|        1/24|        1.67|\n",
            "|  25|qualsevol   |           7|        1/25|        1.60|\n",
            "|  26|cap         |           6|        1/26|        1.54|\n",
            "|  27|com         |           6|        1/27|        1.48|\n",
            "|  28|família     |           6|        1/28|        1.43|\n",
            "|  29|han         |           6|        1/29|        1.38|\n",
            "|  30|tenen       |           6|        1/30|        1.33|\n",
            "|  31|tothom      |           6|        1/31|        1.29|\n",
            "|  32|aquesta     |           5|        1/32|        1.25|\n",
            "|  33|declaració  |           5|        1/33|        1.21|\n",
            "|  34|dignitat    |           5|        1/34|        1.18|\n",
            "|  35|educació    |           5|        1/35|        1.14|\n",
            "|  36|llei        |           5|        1/36|        1.11|\n",
            "|  37|llibertats  |           5|        1/37|        1.08|\n",
            "|  38|més         |           5|        1/38|        1.05|\n",
            "|  39|país        |           5|        1/39|        1.03|\n",
            "|  40|religió     |           5|        1/40|        1.00|\n",
            "|  41|sense       |           5|        1/41|        0.98|\n",
            "|  42|seu         |           5|        1/42|        0.95|\n",
            "|  43|social      |           5|        1/43|        0.93|\n",
            "|  44|vida        |           5|        1/44|        0.91|\n",
            "|  45|actes       |           4|        1/45|        0.89|\n",
            "|  46|als         |           4|        1/46|        0.87|\n",
            "|  47|altra       |           4|        1/47|        0.85|\n",
            "|  48|aquest      |           4|        1/48|        0.83|\n",
            "|  49|cada        |           4|        1/49|        0.82|\n",
            "|  50|ensenyament |           4|        1/50|        0.80|\n"
          ]
        }
      ]
    },
    {
      "cell_type": "code",
      "metadata": {
        "id": "36L1eBHuvE_y",
        "colab": {
          "base_uri": "https://localhost:8080/",
          "height": 422
        },
        "outputId": "379a7202-3e26-4719-bc10-4e6780789fe0"
      },
      "source": [
        "import numpy as np\n",
        "import matplotlib.pyplot as plt\n",
        "\n",
        "plt.figure(figsize=(8,6))\n",
        "plt.title(\"Word Frequencies in UDHR:Quechua\")\n",
        "plt.ylabel(\"Total Number of Occurrences\")\n",
        "plt.xlabel(\"Rank of words\")\n",
        "\n",
        "for lang in langs:\n",
        "  col = (np.random.random(), np.random.random(), np.random.random())\n",
        "  ranks = list(\n",
        "      range(1, 1+len(createZipfTable(sorten(lang)))))\n",
        "  frequencies = [rec['actual_frequency']\n",
        "                  for rec in createZipfTable(sorten(lang))]\n",
        "  zipf_frequenciesC = [rec['zipf_frequency']\n",
        "                      for rec in createZipfTable(sorten(lang))]\n",
        "\n",
        "  plt.plot(ranks,frequencies, color=col, label=f'Actual freq. {lang}',alpha=0.5)\n",
        "\n",
        "plt.plot(\n",
        "      ranks,\n",
        "      zipf_frequencies, color=\"green\", label='Expected Zipf.',linestyle='--',\n",
        "      alpha=0.5\n",
        "    )\n",
        "\n",
        "plt.legend()\n"
      ],
      "execution_count": 113,
      "outputs": [
        {
          "output_type": "execute_result",
          "data": {
            "text/plain": [
              "<matplotlib.legend.Legend at 0x7faddbc453d0>"
            ]
          },
          "metadata": {},
          "execution_count": 113
        },
        {
          "output_type": "display_data",
          "data": {
            "image/png": "[encoded data removed]",
            "text/plain": [
              "<Figure size 576x432 with 1 Axes>"
            ]
          },
          "metadata": {
            "needs_background": "light"
          }
        }
      ]
    },
    {
      "cell_type": "markdown",
      "metadata": {
        "id": "mI38AEP1oShg"
      },
      "source": [
        "**Comparar si los diferentes idiomas elegidos siguen la ley Zipf o divergen de ella.**\n",
        "\n",
        "Aunque no se ajustan exactamente a la curva de la ley de zip , los idiomas catala y quechua, siguen una tendencia similar a la ley de zip. "
      ]
    }
  ]
}