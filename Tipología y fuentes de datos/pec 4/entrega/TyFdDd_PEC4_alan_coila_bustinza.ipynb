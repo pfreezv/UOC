{
  "cells": [
    {
      "cell_type": "markdown",
      "metadata": {
        "colab_type": "text",
        "id": "view-in-github"
      },
      "source": [
        "<a href=\"https://colab.research.google.com/github/alancobu/UOC/blob/main/TyFdDd_PEC4.ipynb\" target=\"_parent\"><img src=\"https://colab.research.google.com/assets/colab-badge.svg\" alt=\"Open In Colab\"/></a>"
      ]
    },
    {
      "cell_type": "markdown",
      "metadata": {
        "id": "K5CVvze_5lvz"
      },
      "source": [
        "# PEC 4"
      ]
    },
    {
      "cell_type": "markdown",
      "metadata": {
        "id": "I2cCeZkHWHjx"
      },
      "source": [
        "# 1. DBPedia"
      ]
    },
    {
      "cell_type": "markdown",
      "metadata": {
        "id": "J3meVeae3xxR"
      },
      "source": [
        "En este notebook seguiremos utilizando las librerías python para trabajar con tripletas:\n",
        "\n",
        "*   **`urllib`** para trabajar con URLs\n",
        "*   **`datetime`** para formato e interpretación de fechas\n",
        "*   **`rdflib`** para trabajar con tripletas RDF\n",
        "*   **`rdflib-jsonld`** para usar JSON-LD  \n",
        "*   **`SPARQLWrapper`** para ejecutar consultas SPARQL e importar los resultados en el notebook"
      ]
    },
    {
      "cell_type": "code",
      "execution_count": 1,
      "metadata": {
        "colab": {
          "base_uri": "https://localhost:8080/"
        },
        "id": "IF0eipz642YL",
        "outputId": "fc79ff96-cc9a-42b8-aace-e4eadaecc7ce"
      },
      "outputs": [
        {
          "name": "stderr",
          "output_type": "stream",
          "text": [
            "WARNING: You are using pip version 21.2.4; however, version 21.3.1 is available.\n",
            "You should consider upgrading via the 'C:\\Users\\aland\\AppData\\Local\\Microsoft\\WindowsApps\\PythonSoftwareFoundation.Python.3.9_qbz5n2kfra8p0\\python.exe -m pip install --upgrade pip' command.\n",
            "WARNING: You are using pip version 21.2.4; however, version 21.3.1 is available.\n",
            "You should consider upgrading via the 'C:\\Users\\aland\\AppData\\Local\\Microsoft\\WindowsApps\\PythonSoftwareFoundation.Python.3.9_qbz5n2kfra8p0\\python.exe -m pip install --upgrade pip' command.\n",
            "ERROR: Invalid requirement: '#instalar'\n",
            "WARNING: You are using pip version 21.2.4; however, version 21.3.1 is available.\n",
            "You should consider upgrading via the 'C:\\Users\\aland\\AppData\\Local\\Microsoft\\WindowsApps\\PythonSoftwareFoundation.Python.3.9_qbz5n2kfra8p0\\python.exe -m pip install --upgrade pip' command.\n"
          ]
        }
      ],
      "source": [
        "!pip install -q rdflib\n",
        "!pip install -q rdflib-jsonld\n",
        "!pip install -q sparqlwrapper    #instalar SPARQLwrapper"
      ]
    },
    {
      "cell_type": "code",
      "execution_count": 1,
      "metadata": {
        "colab": {
          "base_uri": "https://localhost:8080/"
        },
        "id": "p2iJJfNz5Ej0",
        "outputId": "27934a41-af39-4afb-f76b-0b9bac33212a"
      },
      "outputs": [
        {
          "name": "stderr",
          "output_type": "stream",
          "text": [
            "C:\\Users\\lau92\\AppData\\Local\\Programs\\Python\\Python39\\lib\\site-packages\\rdflib_jsonld\\__init__.py:9: DeprecationWarning: The rdflib-jsonld package has been integrated into rdflib as of rdflib==6.0.1.  Please remove rdflib-jsonld from your project's dependencies.\n",
            "  warnings.warn(\n"
          ]
        }
      ],
      "source": [
        "import io\n",
        "import urllib.request\n",
        "import rdflib\n",
        "import rdflib_jsonld\n",
        "from rdflib import Graph, plugin\n",
        "from SPARQLWrapper import SPARQLWrapper, JSON, XML, N3, RDF , POST, GET, POSTDIRECTLY, CSV\n",
        "import warnings\n",
        "warnings.filterwarnings (\"ignore\")\n",
        "\n",
        "from IPython.display import HTML\n",
        "import matplotlib.pyplot as plt\n",
        "import math\n",
        "import json \n",
        "import requests\n",
        "import pandas as pd\n",
        "import numpy as np\n",
        "import unittest\n",
        "from datetime import datetime"
      ]
    },
    {
      "cell_type": "markdown",
      "metadata": {
        "id": "4E_qUDBm46_K"
      },
      "source": [
        "## 1.1 Crear un wrapper para SPARQL \n",
        "\n",
        "\n",
        "Para posibilitar la navegación en los datos como un grafo y hacer consultas usando el lenguaje SPARQL se necesita un endpoint SPARQL que es una dirección web que responde a peticiones."
      ]
    },
    {
      "cell_type": "code",
      "execution_count": 2,
      "metadata": {
        "id": "sH8Awat-5aEq"
      },
      "outputs": [],
      "source": [
        "# incluir funciones para tratar SPARQL\n",
        "\n",
        "def create_sparql_client ( endpoint , result_format=JSON , query_method=POST , token=None ):\n",
        "  ''' Crea un cliente SPARQL '''\n",
        "  sparql = SPARQLWrapper(endpoint) # instanciar \n",
        "  if token:\n",
        "    sparql.addCustomHttpHeader (\"Authorization\",\"Bearer {}\".format(token))\n",
        "  sparql.setMethod ( query_method )\n",
        "  sparql.setReturnFormat ( result_format )\n",
        "  if query_method == POST:\n",
        "    sparql.setRequestMethod(POSTDIRECTLY)\n",
        "\n",
        "  return sparql\n",
        "\n",
        "\n",
        "def query_sparql ( sparql , prefix, query ):\n",
        "  ''' Ejecuta una consulta SPARQL '''\n",
        "  sparql.setQuery (prefix+query)   # TODO: llamar a setQuery concatenando los prefijos y la consulta\n",
        "  results = sparql.query()               \n",
        "  if sparql.returnFormat == JSON:\n",
        "        return results._convertJSON()\n",
        "  return results.convert()\n",
        "\n",
        "\n",
        "def print_results ( results, limit =''):\n",
        "  ''' Imprime los resultados de una consulta SPARQL '''\n",
        "  resdata = results['results']['bindings']# TODO\n",
        "  if limit != '':\n",
        "      resdata = resdata = results['results']['bindings'][:limit] # TODO\n",
        "  for result in resdata:\n",
        "      for ans in result:\n",
        "          print('{0}: {1}'.format(ans, result[ans]['value']))\n",
        "      print()"
      ]
    },
    {
      "cell_type": "markdown",
      "metadata": {
        "id": "tvX__pud5osa"
      },
      "source": [
        " La función `query_sparql` obtiene resultados de la ejecución de una consulta SPARQL con un conjunto definido sobre un endpoint.\n",
        "\n",
        " A continuación con las funciones anteriormente definidas vamos a ejecutar una consulta de ejemplo:"
      ]
    },
    {
      "cell_type": "code",
      "execution_count": 3,
      "metadata": {},
      "outputs": [],
      "source": [
        "import ssl\n",
        "\n",
        "try:\n",
        "    _create_unverified_https_context = ssl._create_unverified_context\n",
        "except AttributeError:\n",
        "    # Legacy Python that doesn't verify HTTPS certificates by default\n",
        "    pass\n",
        "else:\n",
        "    # Handle target environment that doesn't support HTTPS verification\n",
        "    ssl._create_default_https_context = _create_unverified_https_context\n"
      ]
    },
    {
      "cell_type": "code",
      "execution_count": 4,
      "metadata": {
        "colab": {
          "base_uri": "https://localhost:8080/"
        },
        "id": "cI4Kzmjh50R9",
        "outputId": "7afaae61-3852-41a4-828a-0c04169b275c"
      },
      "outputs": [
        {
          "name": "stdout",
          "output_type": "stream",
          "text": [
            "movie: http://dbpedia.org/resource/Aisa_Bhi_Hota_Hai\n",
            "title: Aisa Bhi Hota Hai\n",
            "\n",
            "movie: http://dbpedia.org/resource/Aisa_Hota_Hai\n",
            "title: Aisa Hota Hai\n",
            "\n",
            "movie: http://dbpedia.org/resource/Aisha_(upcoming_film)\n",
            "title: Aisha (upcoming film)\n",
            "\n",
            "movie: http://dbpedia.org/resource/Aithe\n",
            "title: Aithe\n",
            "\n",
            "movie: http://dbpedia.org/resource/Aiye\n",
            "title: Aiye\n",
            "\n"
          ]
        }
      ],
      "source": [
        "# usar endpoint de la DBpedia\n",
        "dbpedia_endpoint = 'https://dbpedia.org/sparql'\n",
        "\n",
        "\n",
        "# crear cliente SPARQL \n",
        "sparql = create_sparql_client ( dbpedia_endpoint ,result_format=JSON , query_method=POST , token=None)  # TODO : usar la funcion adecuada para crear un cliente SPARQL \n",
        "\n",
        "# definir prefijos\n",
        "prefix = '''\n",
        "    PREFIX rdfs: <http://www.w3.org/2000/01/rdf-schema#>\n",
        "    PREFIX dbr: <http://dbpedia.org/resource/>\n",
        "    PREFIX dbp: <http://dbpedia.org/property/>\n",
        "    PREFIX foaf: <http://xmlns.com/foaf/0.1/>\n",
        "    PREFIX dct: <http://purl.org/dc/terms/>\n",
        "    PREFIX skos: <http://www.w3.org/2004/02/skos/core#>\n",
        "    PREFIX rdf: <http://www.w3.org/1999/02/22-rdf-syntax-ns#>\n",
        "    PREFIX dbo: <http://dbpedia.org/ontology/>\n",
        "    PREFIX dbc: <http://dbpedia.org/resource/Category:>\n",
        "    PREFIX geo: <http://www.w3.org/2003/01/geo/wgs84_pos#>\n",
        "'''\n",
        "\n",
        "# definir consulta\n",
        "select_all_movies_query = \"\"\"\n",
        "    SELECT ?movie ?title\n",
        "    WHERE {\n",
        "       ?movie rdf:type dbo:Film;\n",
        "              rdfs:label ?title .\n",
        "\n",
        "       FILTER (langMatches(lang(?title), \"en\"))\n",
        "    }\n",
        "    LIMIT 5\n",
        "\"\"\"\n",
        "results = query_sparql ( sparql , prefix ,  select_all_movies_query ) # TODO: llamar a la funcion adecuada para ejecutar la consulta\n",
        "\n",
        "print_results(results,limit=5)\n",
        "\n",
        "  # TODO : imprimir resultados (5)"
      ]
    },
    {
      "cell_type": "markdown",
      "metadata": {
        "id": "cqw_8lcm8axE"
      },
      "source": [
        "## 1.2 Usando dataframes y otras funciones auxiliares\n",
        "\n",
        "\n",
        "El resultado obtenido está en formato JSON que es un formato de intercambio muy útil aunque para nuestras necesidades es más conveniente poder tratar los resultados como un **dataframe**. Para esto usaremos las siguientes funciones:"
      ]
    },
    {
      "cell_type": "code",
      "execution_count": 5,
      "metadata": {
        "id": "Xa2PkH3S9miO"
      },
      "outputs": [
        {
          "data": {
            "text/html": [
              "<div>\n",
              "<style scoped>\n",
              "    .dataframe tbody tr th:only-of-type {\n",
              "        vertical-align: middle;\n",
              "    }\n",
              "\n",
              "    .dataframe tbody tr th {\n",
              "        vertical-align: top;\n",
              "    }\n",
              "\n",
              "    .dataframe thead th {\n",
              "        text-align: right;\n",
              "    }\n",
              "</style>\n",
              "<table border=\"1\" class=\"dataframe\">\n",
              "  <thead>\n",
              "    <tr style=\"text-align: right;\">\n",
              "      <th></th>\n",
              "      <th>movie</th>\n",
              "      <th>title</th>\n",
              "    </tr>\n",
              "  </thead>\n",
              "  <tbody>\n",
              "    <tr>\n",
              "      <th>0</th>\n",
              "      <td>http://dbpedia.org/resource/Aisa_Bhi_Hota_Hai</td>\n",
              "      <td>Aisa Bhi Hota Hai</td>\n",
              "    </tr>\n",
              "    <tr>\n",
              "      <th>1</th>\n",
              "      <td>http://dbpedia.org/resource/Aisa_Hota_Hai</td>\n",
              "      <td>Aisa Hota Hai</td>\n",
              "    </tr>\n",
              "    <tr>\n",
              "      <th>2</th>\n",
              "      <td>http://dbpedia.org/resource/Aisha_(upcoming_film)</td>\n",
              "      <td>Aisha (upcoming film)</td>\n",
              "    </tr>\n",
              "    <tr>\n",
              "      <th>3</th>\n",
              "      <td>http://dbpedia.org/resource/Aithe</td>\n",
              "      <td>Aithe</td>\n",
              "    </tr>\n",
              "    <tr>\n",
              "      <th>4</th>\n",
              "      <td>http://dbpedia.org/resource/Aiye</td>\n",
              "      <td>Aiye</td>\n",
              "    </tr>\n",
              "  </tbody>\n",
              "</table>\n",
              "</div>"
            ],
            "text/plain": [
              "                                               movie                  title\n",
              "0      http://dbpedia.org/resource/Aisa_Bhi_Hota_Hai      Aisa Bhi Hota Hai\n",
              "1          http://dbpedia.org/resource/Aisa_Hota_Hai          Aisa Hota Hai\n",
              "2  http://dbpedia.org/resource/Aisha_(upcoming_film)  Aisha (upcoming film)\n",
              "3                  http://dbpedia.org/resource/Aithe                  Aithe\n",
              "4                   http://dbpedia.org/resource/Aiye                   Aiye"
            ]
          },
          "execution_count": 5,
          "metadata": {},
          "output_type": "execute_result"
        }
      ],
      "source": [
        "def json2dataframe (results):\n",
        "    ''' Genera un dataframe con los resultados de una consulta SPARQL  '''\n",
        "    data = []\n",
        "    for result in results['results']['bindings']:    # TODO: obtener resultados\n",
        "        tmp = {}\n",
        "        for el in result:\n",
        "            tmp[el] = result[el]['value']\n",
        "        data.append(tmp)\n",
        "\n",
        "    df = pd.DataFrame(data)\n",
        "    return df\n",
        "\n",
        "\n",
        "\n",
        "def dataframe_results(sparql, prefix, query ):\n",
        "    ''' Ejecuta consulta y genera el dataframe '''\n",
        "    return json2dataframe(query_sparql(sparql, prefix,  query))  # TODO : llamar a la funcion para obtener el dataframe\n",
        "\n",
        "\n",
        "df = dataframe_results(sparql, prefix, select_all_movies_query)\n",
        "df.head(5)\n",
        "\n",
        "#assert isinstance(df, pd.DataFrame) == True\n",
        "#assert len (df) == 5\n"
      ]
    },
    {
      "cell_type": "markdown",
      "metadata": {
        "id": "281Bv4yOBUiQ"
      },
      "source": [
        "Como se puede observar, en los resultados aparecen URIs por lo que vamos a necesitamos unas funciones auxiliares que permitan convertir de URI a etiqueta y viceversa:"
      ]
    },
    {
      "cell_type": "code",
      "execution_count": 6,
      "metadata": {
        "id": "z9AECFIUBUBD"
      },
      "outputs": [
        {
          "name": "stdout",
          "output_type": "stream",
          "text": [
            "Antonio Banderas\n",
            "Charlie Chaplin\n",
            "http://dbpedia.org/resource/Kevin_Bacon\n",
            "http://dbpedia.org/resource/2008_FIFA_Club_World_Cup_squads\n"
          ]
        }
      ],
      "source": [
        "# Obtener el nombre asociado a una URI (en un idioma)\n",
        "\n",
        "def get_label (uri, lang = 'en'):\n",
        "  prefix = '''\n",
        "      PREFIX rdf: <http://www.w3.org/1999/02/22-rdf-syntax-ns#>\n",
        "      PREFIX foaf: <http://xmlns.com/foaf/0.1/>\n",
        "      PREFIX dbo: <http://dbpedia.org/ontology/>\n",
        "  '''\n",
        "  query = '''\n",
        "      SELECT ?label \n",
        "      WHERE {\n",
        "        \n",
        "        <%s> rdfs:label ?label. # TODO \n",
        "        FILTER (lang(?label) = \"%s\") # TODO\n",
        "      }\n",
        "  ''' % (uri,lang)\n",
        "\n",
        "  df = dataframe_results(sparql, prefix, query)  # TODO \n",
        "  return df['label'][0]  # TODO\n",
        "\n",
        "# Obtener la URI de una entidad a partir del nombre\n",
        "def get_URI ( name , lang = 'en' ):\n",
        "  prefix = '''\n",
        "      PREFIX rdf: <http://www.w3.org/1999/02/22-rdf-syntax-ns#>\n",
        "      PREFIX foaf: <http://xmlns.com/foaf/0.1/>\n",
        "      PREFIX dbo: <http://dbpedia.org/ontology/>\n",
        "  '''\n",
        "\n",
        "  query = '''\n",
        "      SELECT ?uri\n",
        "      WHERE {\n",
        "        ?uri foaf:name \"%s\"@%s.\n",
        "      } \n",
        "               \n",
        "  '''%(name,lang)\n",
        "\n",
        "  df = dataframe_results(sparql, prefix, query)  # TODO\n",
        "  return df['uri'][0]  # TODO\n",
        "\n",
        "print ( get_label ( get_URI (\"Antonio Banderas\") ) )\n",
        "print ( get_label ('http://dbpedia.org/resource/Charlie_Chaplin'))\n",
        "print (get_URI (\"Kevin Bacon\"))\n",
        "print (get_URI (\"Cristiano Ronaldo\"))\n"
      ]
    },
    {
      "cell_type": "markdown",
      "metadata": {
        "id": "7Yj4OIIawkcR"
      },
      "source": [
        "Es posible preguntar por cualquiera de las propiedades que se almacenan de cada recurso. En esta ocasión vamos a preguntar por el lugar de nacimiento (`birthPlace`) de una persona, concretando con el nombre de la ciudad (en un solo idioma)."
      ]
    },
    {
      "cell_type": "code",
      "execution_count": 7,
      "metadata": {
        "id": "msnH3F4HxRQy"
      },
      "outputs": [
        {
          "data": {
            "text/html": [
              "<div>\n",
              "<style scoped>\n",
              "    .dataframe tbody tr th:only-of-type {\n",
              "        vertical-align: middle;\n",
              "    }\n",
              "\n",
              "    .dataframe tbody tr th {\n",
              "        vertical-align: top;\n",
              "    }\n",
              "\n",
              "    .dataframe thead th {\n",
              "        text-align: right;\n",
              "    }\n",
              "</style>\n",
              "<table border=\"1\" class=\"dataframe\">\n",
              "  <thead>\n",
              "    <tr style=\"text-align: right;\">\n",
              "      <th></th>\n",
              "    </tr>\n",
              "  </thead>\n",
              "  <tbody>\n",
              "  </tbody>\n",
              "</table>\n",
              "</div>"
            ],
            "text/plain": [
              "Empty DataFrame\n",
              "Columns: []\n",
              "Index: []"
            ]
          },
          "execution_count": 7,
          "metadata": {},
          "output_type": "execute_result"
        }
      ],
      "source": [
        "def birthPlace (person):\n",
        "  person_uri = get_URI(person) #TODO\n",
        "\n",
        "\n",
        "  prefix = '''\n",
        "  PREFIX rdf: <http://www.w3.org/1999/02/22-rdf-syntax-ns#>\n",
        "  PREFIX foaf: <http://xmlns.com/foaf/0.1/>\n",
        "  PREFIX dbo: <http://dbpedia.org/ontology/>\n",
        "  '''\n",
        "  query = '''\n",
        "    SELECT ?placeLabel\n",
        "     WHERE {\n",
        "       <%s> dbo:birthplace ?placeLabel\n",
        "        \n",
        "     \n",
        "\n",
        "        # FILTER (LANG(?placeLabel) = \"en\")    \n",
        "    }\n",
        "  '''%(person_uri) # TODO\n",
        "\n",
        "  df = dataframe_results(sparql, prefix, query)\n",
        "\n",
        "  return df\n",
        "\n",
        "\n",
        "birthPlace('Cristiano Ronaldo')\n"
      ]
    },
    {
      "cell_type": "markdown",
      "metadata": {
        "id": "mEsnppbBtK8k"
      },
      "source": [
        "Usaremos esas funciones para obtener la filmografía de un actor."
      ]
    },
    {
      "cell_type": "code",
      "execution_count": 8,
      "metadata": {
        "id": "M6OWjI8D11KW"
      },
      "outputs": [
        {
          "data": {
            "text/html": [
              "<div>\n",
              "<style scoped>\n",
              "    .dataframe tbody tr th:only-of-type {\n",
              "        vertical-align: middle;\n",
              "    }\n",
              "\n",
              "    .dataframe tbody tr th {\n",
              "        vertical-align: top;\n",
              "    }\n",
              "\n",
              "    .dataframe thead th {\n",
              "        text-align: right;\n",
              "    }\n",
              "</style>\n",
              "<table border=\"1\" class=\"dataframe\">\n",
              "  <thead>\n",
              "    <tr style=\"text-align: right;\">\n",
              "      <th></th>\n",
              "      <th>film</th>\n",
              "      <th>filmLabel</th>\n",
              "    </tr>\n",
              "  </thead>\n",
              "  <tbody>\n",
              "    <tr>\n",
              "      <th>0</th>\n",
              "      <td>http://dbpedia.org/resource/Enormous_Changes_a...</td>\n",
              "      <td>Enormous Changes at the Last Minute</td>\n",
              "    </tr>\n",
              "    <tr>\n",
              "      <th>1</th>\n",
              "      <td>http://dbpedia.org/resource/Beauty_Shop</td>\n",
              "      <td>Beauty Shop</td>\n",
              "    </tr>\n",
              "    <tr>\n",
              "      <th>2</th>\n",
              "      <td>http://dbpedia.org/resource/Pyrates</td>\n",
              "      <td>Pyrates</td>\n",
              "    </tr>\n",
              "    <tr>\n",
              "      <th>3</th>\n",
              "      <td>http://dbpedia.org/resource/My_One_and_Only_(f...</td>\n",
              "      <td>My One and Only (film)</td>\n",
              "    </tr>\n",
              "    <tr>\n",
              "      <th>4</th>\n",
              "      <td>http://dbpedia.org/resource/Rails_&amp;_Ties</td>\n",
              "      <td>Rails &amp; Ties</td>\n",
              "    </tr>\n",
              "  </tbody>\n",
              "</table>\n",
              "</div>"
            ],
            "text/plain": [
              "                                                film  \\\n",
              "0  http://dbpedia.org/resource/Enormous_Changes_a...   \n",
              "1            http://dbpedia.org/resource/Beauty_Shop   \n",
              "2                http://dbpedia.org/resource/Pyrates   \n",
              "3  http://dbpedia.org/resource/My_One_and_Only_(f...   \n",
              "4           http://dbpedia.org/resource/Rails_&_Ties   \n",
              "\n",
              "                             filmLabel  \n",
              "0  Enormous Changes at the Last Minute  \n",
              "1                          Beauty Shop  \n",
              "2                              Pyrates  \n",
              "3               My One and Only (film)  \n",
              "4                         Rails & Ties  "
            ]
          },
          "execution_count": 8,
          "metadata": {},
          "output_type": "execute_result"
        }
      ],
      "source": [
        "def get_filmography ( actor ):\n",
        "  actor_uri = get_URI (actor) #TODO\n",
        "  prefix = '''\n",
        "  PREFIX rdf: <http://www.w3.org/1999/02/22-rdf-syntax-ns#>\n",
        "  PREFIX foaf: <http://xmlns.com/foaf/0.1/>\n",
        "  PREFIX dbo: <http://dbpedia.org/ontology/>\n",
        "  '''\n",
        "  query = '''\n",
        "       SELECT ?film ?filmLabel\n",
        "    WHERE {\n",
        "       ?film rdf:type dbo:Film;\n",
        "              rdfs:label ?filmLabel;\n",
        "              dbp:starring <%s>.\n",
        "        \n",
        "\n",
        "       FILTER (LANG(?filmLabel) = \"en\")\n",
        "    }\n",
        "      '''%(actor_uri) # TODO\n",
        "\n",
        "  df = dataframe_results(sparql, prefix, query)\n",
        "\n",
        "  return df\n",
        "\n",
        "get_filmography('Kevin Bacon').head(5)\n"
      ]
    },
    {
      "cell_type": "markdown",
      "metadata": {
        "id": "9hKQEp6z2V6e"
      },
      "source": [
        "La siguiente consulta trata de recuperar listas de athletas que tiene la DbPedia junto con algunos datos como el nombre, fecha de nacimiento, altura, un resumen de su carrera y el país al que se asocian (si está disponible)."
      ]
    },
    {
      "cell_type": "code",
      "execution_count": 9,
      "metadata": {
        "id": "LSZeWuo92U7u"
      },
      "outputs": [
        {
          "data": {
            "text/html": [
              "<div>\n",
              "<style scoped>\n",
              "    .dataframe tbody tr th:only-of-type {\n",
              "        vertical-align: middle;\n",
              "    }\n",
              "\n",
              "    .dataframe tbody tr th {\n",
              "        vertical-align: top;\n",
              "    }\n",
              "\n",
              "    .dataframe thead th {\n",
              "        text-align: right;\n",
              "    }\n",
              "</style>\n",
              "<table border=\"1\" class=\"dataframe\">\n",
              "  <thead>\n",
              "    <tr style=\"text-align: right;\">\n",
              "      <th></th>\n",
              "      <th>player</th>\n",
              "      <th>name</th>\n",
              "      <th>birthDate</th>\n",
              "      <th>height</th>\n",
              "      <th>abs</th>\n",
              "      <th>country</th>\n",
              "    </tr>\n",
              "  </thead>\n",
              "  <tbody>\n",
              "    <tr>\n",
              "      <th>0</th>\n",
              "      <td>http://dbpedia.org/resource/Alain_Nebie</td>\n",
              "      <td>Alain Nebie</td>\n",
              "      <td>1984-09-08</td>\n",
              "      <td>1.86</td>\n",
              "      <td>Alain Nebie (born 8 September 1984 in Burkina ...</td>\n",
              "      <td>NaN</td>\n",
              "    </tr>\n",
              "    <tr>\n",
              "      <th>1</th>\n",
              "      <td>http://dbpedia.org/resource/Hlynur_Bæringsson</td>\n",
              "      <td>Hlynur Elías Bæringsson</td>\n",
              "      <td>1982-07-06</td>\n",
              "      <td>2.0066</td>\n",
              "      <td>Hlynur Elías Bæringsson (born 6 July 1982) is ...</td>\n",
              "      <td>NaN</td>\n",
              "    </tr>\n",
              "    <tr>\n",
              "      <th>2</th>\n",
              "      <td>http://dbpedia.org/resource/Hollie_Avil</td>\n",
              "      <td>Hollie Avil</td>\n",
              "      <td>1990-04-12</td>\n",
              "      <td>1.76</td>\n",
              "      <td>Hollie May Avil (born 12 April 1990) is an Eng...</td>\n",
              "      <td>NaN</td>\n",
              "    </tr>\n",
              "    <tr>\n",
              "      <th>3</th>\n",
              "      <td>http://dbpedia.org/resource/Horacio_Nava</td>\n",
              "      <td>Horacio Nava</td>\n",
              "      <td>1982-01-20</td>\n",
              "      <td>1.8</td>\n",
              "      <td>Horacio Nava Meza (born January 20, 1982 in Ch...</td>\n",
              "      <td>NaN</td>\n",
              "    </tr>\n",
              "    <tr>\n",
              "      <th>4</th>\n",
              "      <td>http://dbpedia.org/resource/Horst_Bulau</td>\n",
              "      <td>Horst Bulau</td>\n",
              "      <td>1962-08-14</td>\n",
              "      <td>1.78</td>\n",
              "      <td>Horst Hardy Bulau (born 14 August 1962) is a C...</td>\n",
              "      <td>NaN</td>\n",
              "    </tr>\n",
              "  </tbody>\n",
              "</table>\n",
              "</div>"
            ],
            "text/plain": [
              "                                          player                     name  \\\n",
              "0        http://dbpedia.org/resource/Alain_Nebie              Alain Nebie   \n",
              "1  http://dbpedia.org/resource/Hlynur_Bæringsson  Hlynur Elías Bæringsson   \n",
              "2        http://dbpedia.org/resource/Hollie_Avil              Hollie Avil   \n",
              "3       http://dbpedia.org/resource/Horacio_Nava             Horacio Nava   \n",
              "4        http://dbpedia.org/resource/Horst_Bulau              Horst Bulau   \n",
              "\n",
              "    birthDate  height                                                abs  \\\n",
              "0  1984-09-08    1.86  Alain Nebie (born 8 September 1984 in Burkina ...   \n",
              "1  1982-07-06  2.0066  Hlynur Elías Bæringsson (born 6 July 1982) is ...   \n",
              "2  1990-04-12    1.76  Hollie May Avil (born 12 April 1990) is an Eng...   \n",
              "3  1982-01-20     1.8  Horacio Nava Meza (born January 20, 1982 in Ch...   \n",
              "4  1962-08-14    1.78  Horst Hardy Bulau (born 14 August 1962) is a C...   \n",
              "\n",
              "  country  \n",
              "0     NaN  \n",
              "1     NaN  \n",
              "2     NaN  \n",
              "3     NaN  \n",
              "4     NaN  "
            ]
          },
          "execution_count": 9,
          "metadata": {},
          "output_type": "execute_result"
        }
      ],
      "source": [
        "prefix = '''\n",
        "    PREFIX foaf: <http://xmlns.com/foaf/0.1/>\n",
        "    PREFIX dbo: <http://dbpedia.org/ontology/>\n",
        "    PREFIX dbr: <http://dbpedia.org/resource/>\n",
        "    PREFIX dbp: <http://dbpedia.org/property/>\n",
        "'''\n",
        "\n",
        "def get_query(limit, offset):\n",
        "    return f'''\n",
        "    SELECT DISTINCT ?player ?name ?birthDate ?height ?abs ?country  #TODO\n",
        "    WHERE {{\n",
        "       ?player rdf:type dbo:Athlete;  # TODO\n",
        "                dbo:birthDate ?birthDate; # TODO\n",
        "                dbo:height ?height;    # TODO\n",
        "                foaf:name  ?name;    # TODO\n",
        "                dbo:abstract ?abs. # TODO\n",
        "    OPTIONAL{{\n",
        "       ?player dbo:country ?country.}}\n",
        "    FILTER(LANG(?abs) = \"en\").  # TODO\n",
        "    FILTER(LANG(?name) = \"en\").\n",
        "    \n",
        "    }}\n",
        "    LIMIT {limit} OFFSET {offset}'''\n",
        "\n",
        "\n",
        "athlete_df = dataframe_results(sparql, prefix , get_query (5000,0))\n",
        "athlete_df.head()"
      ]
    },
    {
      "cell_type": "markdown",
      "metadata": {
        "id": "3BDcoMAkHlW4"
      },
      "source": [
        "Eliminar `http://dbpedia.org/resource/` de las columnas que lo tengan:"
      ]
    },
    {
      "cell_type": "code",
      "execution_count": 10,
      "metadata": {
        "id": "1XEmzOtL11HY"
      },
      "outputs": [
        {
          "data": {
            "text/html": [
              "<div>\n",
              "<style scoped>\n",
              "    .dataframe tbody tr th:only-of-type {\n",
              "        vertical-align: middle;\n",
              "    }\n",
              "\n",
              "    .dataframe tbody tr th {\n",
              "        vertical-align: top;\n",
              "    }\n",
              "\n",
              "    .dataframe thead th {\n",
              "        text-align: right;\n",
              "    }\n",
              "</style>\n",
              "<table border=\"1\" class=\"dataframe\">\n",
              "  <thead>\n",
              "    <tr style=\"text-align: right;\">\n",
              "      <th></th>\n",
              "      <th>player</th>\n",
              "      <th>name</th>\n",
              "      <th>birthDate</th>\n",
              "      <th>height</th>\n",
              "      <th>abs</th>\n",
              "      <th>country</th>\n",
              "    </tr>\n",
              "  </thead>\n",
              "  <tbody>\n",
              "    <tr>\n",
              "      <th>0</th>\n",
              "      <td>Alain_Nebie</td>\n",
              "      <td>Alain Nebie</td>\n",
              "      <td>1984-09-08</td>\n",
              "      <td>1.86</td>\n",
              "      <td>Alain Nebie (born 8 September 1984 in Burkina ...</td>\n",
              "      <td>NaN</td>\n",
              "    </tr>\n",
              "    <tr>\n",
              "      <th>1</th>\n",
              "      <td>Hlynur_Bæringsson</td>\n",
              "      <td>Hlynur Elías Bæringsson</td>\n",
              "      <td>1982-07-06</td>\n",
              "      <td>2.0066</td>\n",
              "      <td>Hlynur Elías Bæringsson (born 6 July 1982) is ...</td>\n",
              "      <td>NaN</td>\n",
              "    </tr>\n",
              "    <tr>\n",
              "      <th>2</th>\n",
              "      <td>Hollie_Avil</td>\n",
              "      <td>Hollie Avil</td>\n",
              "      <td>1990-04-12</td>\n",
              "      <td>1.76</td>\n",
              "      <td>Hollie May Avil (born 12 April 1990) is an Eng...</td>\n",
              "      <td>NaN</td>\n",
              "    </tr>\n",
              "    <tr>\n",
              "      <th>3</th>\n",
              "      <td>Horacio_Nava</td>\n",
              "      <td>Horacio Nava</td>\n",
              "      <td>1982-01-20</td>\n",
              "      <td>1.8</td>\n",
              "      <td>Horacio Nava Meza (born January 20, 1982 in Ch...</td>\n",
              "      <td>NaN</td>\n",
              "    </tr>\n",
              "    <tr>\n",
              "      <th>4</th>\n",
              "      <td>Horst_Bulau</td>\n",
              "      <td>Horst Bulau</td>\n",
              "      <td>1962-08-14</td>\n",
              "      <td>1.78</td>\n",
              "      <td>Horst Hardy Bulau (born 14 August 1962) is a C...</td>\n",
              "      <td>NaN</td>\n",
              "    </tr>\n",
              "  </tbody>\n",
              "</table>\n",
              "</div>"
            ],
            "text/plain": [
              "              player                     name   birthDate  height  \\\n",
              "0        Alain_Nebie              Alain Nebie  1984-09-08    1.86   \n",
              "1  Hlynur_Bæringsson  Hlynur Elías Bæringsson  1982-07-06  2.0066   \n",
              "2        Hollie_Avil              Hollie Avil  1990-04-12    1.76   \n",
              "3       Horacio_Nava             Horacio Nava  1982-01-20     1.8   \n",
              "4        Horst_Bulau              Horst Bulau  1962-08-14    1.78   \n",
              "\n",
              "                                                 abs country  \n",
              "0  Alain Nebie (born 8 September 1984 in Burkina ...     NaN  \n",
              "1  Hlynur Elías Bæringsson (born 6 July 1982) is ...     NaN  \n",
              "2  Hollie May Avil (born 12 April 1990) is an Eng...     NaN  \n",
              "3  Horacio Nava Meza (born January 20, 1982 in Ch...     NaN  \n",
              "4  Horst Hardy Bulau (born 14 August 1962) is a C...     NaN  "
            ]
          },
          "execution_count": 10,
          "metadata": {},
          "output_type": "execute_result"
        }
      ],
      "source": [
        "\n",
        "athlete_df['player'] = athlete_df['player'].str.replace('http://dbpedia.org/resource/', '')\n",
        "athlete_df['country'] = athlete_df['country'].str.replace('http://dbpedia.org/resource/', '')\n",
        "\n",
        "athlete_df.head(5)\n",
        "\n"
      ]
    },
    {
      "cell_type": "markdown",
      "metadata": {
        "id": "G4-xbvyTIama"
      },
      "source": [
        "Eliminar los duplicados:"
      ]
    },
    {
      "cell_type": "code",
      "execution_count": 11,
      "metadata": {
        "id": "pMCzpyEE11EQ"
      },
      "outputs": [
        {
          "data": {
            "text/html": [
              "<div>\n",
              "<style scoped>\n",
              "    .dataframe tbody tr th:only-of-type {\n",
              "        vertical-align: middle;\n",
              "    }\n",
              "\n",
              "    .dataframe tbody tr th {\n",
              "        vertical-align: top;\n",
              "    }\n",
              "\n",
              "    .dataframe thead th {\n",
              "        text-align: right;\n",
              "    }\n",
              "</style>\n",
              "<table border=\"1\" class=\"dataframe\">\n",
              "  <thead>\n",
              "    <tr style=\"text-align: right;\">\n",
              "      <th></th>\n",
              "      <th>player</th>\n",
              "      <th>name</th>\n",
              "      <th>birthDate</th>\n",
              "      <th>height</th>\n",
              "      <th>abs</th>\n",
              "      <th>country</th>\n",
              "    </tr>\n",
              "  </thead>\n",
              "  <tbody>\n",
              "    <tr>\n",
              "      <th>0</th>\n",
              "      <td>Alain_Nebie</td>\n",
              "      <td>Alain Nebie</td>\n",
              "      <td>1984-09-08</td>\n",
              "      <td>1.86</td>\n",
              "      <td>Alain Nebie (born 8 September 1984 in Burkina ...</td>\n",
              "      <td>NaN</td>\n",
              "    </tr>\n",
              "    <tr>\n",
              "      <th>1</th>\n",
              "      <td>Hlynur_Bæringsson</td>\n",
              "      <td>Hlynur Elías Bæringsson</td>\n",
              "      <td>1982-07-06</td>\n",
              "      <td>2.0066</td>\n",
              "      <td>Hlynur Elías Bæringsson (born 6 July 1982) is ...</td>\n",
              "      <td>NaN</td>\n",
              "    </tr>\n",
              "    <tr>\n",
              "      <th>2</th>\n",
              "      <td>Hollie_Avil</td>\n",
              "      <td>Hollie Avil</td>\n",
              "      <td>1990-04-12</td>\n",
              "      <td>1.76</td>\n",
              "      <td>Hollie May Avil (born 12 April 1990) is an Eng...</td>\n",
              "      <td>NaN</td>\n",
              "    </tr>\n",
              "    <tr>\n",
              "      <th>3</th>\n",
              "      <td>Horacio_Nava</td>\n",
              "      <td>Horacio Nava</td>\n",
              "      <td>1982-01-20</td>\n",
              "      <td>1.8</td>\n",
              "      <td>Horacio Nava Meza (born January 20, 1982 in Ch...</td>\n",
              "      <td>NaN</td>\n",
              "    </tr>\n",
              "    <tr>\n",
              "      <th>4</th>\n",
              "      <td>Horst_Bulau</td>\n",
              "      <td>Horst Bulau</td>\n",
              "      <td>1962-08-14</td>\n",
              "      <td>1.78</td>\n",
              "      <td>Horst Hardy Bulau (born 14 August 1962) is a C...</td>\n",
              "      <td>NaN</td>\n",
              "    </tr>\n",
              "  </tbody>\n",
              "</table>\n",
              "</div>"
            ],
            "text/plain": [
              "              player                     name   birthDate  height  \\\n",
              "0        Alain_Nebie              Alain Nebie  1984-09-08    1.86   \n",
              "1  Hlynur_Bæringsson  Hlynur Elías Bæringsson  1982-07-06  2.0066   \n",
              "2        Hollie_Avil              Hollie Avil  1990-04-12    1.76   \n",
              "3       Horacio_Nava             Horacio Nava  1982-01-20     1.8   \n",
              "4        Horst_Bulau              Horst Bulau  1962-08-14    1.78   \n",
              "\n",
              "                                                 abs country  \n",
              "0  Alain Nebie (born 8 September 1984 in Burkina ...     NaN  \n",
              "1  Hlynur Elías Bæringsson (born 6 July 1982) is ...     NaN  \n",
              "2  Hollie May Avil (born 12 April 1990) is an Eng...     NaN  \n",
              "3  Horacio Nava Meza (born January 20, 1982 in Ch...     NaN  \n",
              "4  Horst Hardy Bulau (born 14 August 1962) is a C...     NaN  "
            ]
          },
          "execution_count": 11,
          "metadata": {},
          "output_type": "execute_result"
        }
      ],
      "source": [
        "len(athlete_df.player.unique()) == len (athlete_df)\n",
        "athlete_df=athlete_df.drop_duplicates(subset=[\"player\"])\n",
        "# TODO\n",
        "\n",
        "athlete_df.head(5)"
      ]
    },
    {
      "cell_type": "code",
      "execution_count": 12,
      "metadata": {},
      "outputs": [
        {
          "data": {
            "text/plain": [
              "array([  1.86   ,   2.0066 ,   1.76   ,   1.8    ,   1.78   ,   1.7272 ,\n",
              "         1.79   ,   1.71   ,   1.95   ,   1.7    ,   1.73   ,   1.93   ,\n",
              "         1.82   ,   1.87   ,   1.84   ,   2.1082 ,   1.905  ,   1.75   ,\n",
              "         1.524  ,   1.85   ,   1.8542 ,   1.92   ,   1.77   ,   1.81   ,\n",
              "         1.91   ,   1.8288 ,   1.8796 ,   1.778  ,   1.7526 ,   1.9    ,\n",
              "         2.05105,   1.69   ,   1.651  ,   1.68   ,   1.72   ,   2.0193 ,\n",
              "         1.97485,   1.83   ,   1.7018 ,   2.0574 ,   1.89865,   1.88   ,\n",
              "         1.8034 ,   1.6764 ,   1.96   ,   1.74   ,   1.65   ,   1.9812 ,\n",
              "         1.56   ,   1.6    ,   1.63   ,   1.9304 ,   1.64   ,   1.67   ,\n",
              "         1.98   ,   1.9558 ,   1.61   ,   1.6002 ,   1.89   ,   1.66   ,\n",
              "         1.94   ,   1.6256 ,   1.57   ,   1.49   ,   1.62   ,   1.99   ,\n",
              "         1.5748 ,   2.032  ,   2.03   ,   2.     ,   2.02   ,   1.29   ,\n",
              "         2.13   ,   2.00025,   2.0828 ,   1.58   ,   0.     ,   2.01   ,\n",
              "         3.82   ,   1.97   ,   1.54   , 190.     ,   1.53   ,   1.625  ,\n",
              "         1.5494 ,   1.59   ,   1.52   ,   1.9685 ,   2.159  ,   2.1336 ,\n",
              "         1.48   ,   1.676  ,   1.5    ,   1.87325,   2.2098 ,   2.0701 ,\n",
              "         2.04   ,   1.789  ,   1.55   , 183.     ,   1.6891 ,   1.7399 ,\n",
              "         1.7145 ,   2.05   ,   1.8415 ,   1.7907 , 184.     ,   1.4    ])"
            ]
          },
          "execution_count": 12,
          "metadata": {},
          "output_type": "execute_result"
        }
      ],
      "source": [
        "# TODO\n",
        "athlete_df[\"height\"]=pd.to_numeric(athlete_df[\"height\"])\n",
        "athlete_df['height'].unique()"
      ]
    },
    {
      "cell_type": "markdown",
      "metadata": {
        "id": "9tXkfcvHN_6s"
      },
      "source": [
        "Encontrar si hay valores 'extraños' como athletas de más de 2 metros y medio."
      ]
    },
    {
      "cell_type": "code",
      "execution_count": 13,
      "metadata": {},
      "outputs": [
        {
          "data": {
            "text/html": [
              "<div>\n",
              "<style scoped>\n",
              "    .dataframe tbody tr th:only-of-type {\n",
              "        vertical-align: middle;\n",
              "    }\n",
              "\n",
              "    .dataframe tbody tr th {\n",
              "        vertical-align: top;\n",
              "    }\n",
              "\n",
              "    .dataframe thead th {\n",
              "        text-align: right;\n",
              "    }\n",
              "</style>\n",
              "<table border=\"1\" class=\"dataframe\">\n",
              "  <thead>\n",
              "    <tr style=\"text-align: right;\">\n",
              "      <th></th>\n",
              "      <th>player</th>\n",
              "      <th>name</th>\n",
              "      <th>birthDate</th>\n",
              "      <th>height</th>\n",
              "      <th>abs</th>\n",
              "      <th>country</th>\n",
              "    </tr>\n",
              "  </thead>\n",
              "  <tbody>\n",
              "    <tr>\n",
              "      <th>1495</th>\n",
              "      <td>Edison_Reshketa</td>\n",
              "      <td>Edison Reshketa</td>\n",
              "      <td>1999-06-02</td>\n",
              "      <td>3.82</td>\n",
              "      <td>Edison Reshketa (born 2 June 1999 in Shkoder) ...</td>\n",
              "      <td>NaN</td>\n",
              "    </tr>\n",
              "    <tr>\n",
              "      <th>1734</th>\n",
              "      <td>Alida_Marcovici</td>\n",
              "      <td>Alida Carmen Cioroianu Marcovici</td>\n",
              "      <td>1973-03-20</td>\n",
              "      <td>190.00</td>\n",
              "      <td>Alida Carmen Cioroianu Marcovici (born 20 Marc...</td>\n",
              "      <td>NaN</td>\n",
              "    </tr>\n",
              "    <tr>\n",
              "      <th>3731</th>\n",
              "      <td>Gulouchen_Karimova</td>\n",
              "      <td>Gulouchen Karimova</td>\n",
              "      <td>1979-09-16</td>\n",
              "      <td>183.00</td>\n",
              "      <td>Gulouchen Karimova (born 16 September 1979) is...</td>\n",
              "      <td>NaN</td>\n",
              "    </tr>\n",
              "    <tr>\n",
              "      <th>4811</th>\n",
              "      <td>Jolanda_Elshof</td>\n",
              "      <td>Jolanda Elshof</td>\n",
              "      <td>1975-08-05</td>\n",
              "      <td>184.00</td>\n",
              "      <td>Jolanda Elshof (born 5 August 1975) is a retir...</td>\n",
              "      <td>NaN</td>\n",
              "    </tr>\n",
              "  </tbody>\n",
              "</table>\n",
              "</div>"
            ],
            "text/plain": [
              "                  player                              name   birthDate  \\\n",
              "1495     Edison_Reshketa                   Edison Reshketa  1999-06-02   \n",
              "1734     Alida_Marcovici  Alida Carmen Cioroianu Marcovici  1973-03-20   \n",
              "3731  Gulouchen_Karimova                Gulouchen Karimova  1979-09-16   \n",
              "4811      Jolanda_Elshof                    Jolanda Elshof  1975-08-05   \n",
              "\n",
              "      height                                                abs country  \n",
              "1495    3.82  Edison Reshketa (born 2 June 1999 in Shkoder) ...     NaN  \n",
              "1734  190.00  Alida Carmen Cioroianu Marcovici (born 20 Marc...     NaN  \n",
              "3731  183.00  Gulouchen Karimova (born 16 September 1979) is...     NaN  \n",
              "4811  184.00  Jolanda Elshof (born 5 August 1975) is a retir...     NaN  "
            ]
          },
          "execution_count": 13,
          "metadata": {},
          "output_type": "execute_result"
        }
      ],
      "source": [
        "athlete_df.loc[athlete_df['height']>2.5]"
      ]
    },
    {
      "cell_type": "markdown",
      "metadata": {
        "id": "lNI1Wn180fH4"
      },
      "source": [
        "# WikiData (I)\n",
        "\n",
        "\n",
        "**DBpedia** y **Wikidata** son dos proyectos de datos enlazados relacionados aunque diferentes. DBpedia se centra en generar datos abiertos enlazados a partir de documentos de la Wikipedia mientras que Wikidata se centra en crear (meta)datos abiertos enlazados para completar los documentos de la Wikipedia.\n",
        "\n",
        "\n",
        "Ambos proyectos proporcionan acceso a sus respectivos datos a través de accesos (endpoint) SPARQL.\n",
        "\n",
        "Supongamos la siguiente consulta:\n",
        "```\n",
        "SELECT ?person\n",
        "WHERE {\n",
        "?person wdt:P106 wd:Q5482740 .\n",
        "}\n",
        "```\n",
        "\n",
        "Se define un **sujeto** de interés `?person` que será lo que aparezca como una columna de resultados. Las restricciones son que `wdt:P106` sea `wd:Q5482740` donde el prefijo `wdt:` significa que se va a especificar un atributo y `wd:`significa que se especifica un valor del atributo. `P106` establece una ocupación y `Q5482740` indica que es programador. Es decir, trata de localizar a las personas cuya ocupación es ser programador.\n",
        "\n",
        "\n",
        "\n"
      ]
    },
    {
      "cell_type": "code",
      "execution_count": 14,
      "metadata": {
        "id": "YgHeZTyr10gJ"
      },
      "outputs": [
        {
          "data": {
            "text/html": [
              "<div>\n",
              "<style scoped>\n",
              "    .dataframe tbody tr th:only-of-type {\n",
              "        vertical-align: middle;\n",
              "    }\n",
              "\n",
              "    .dataframe tbody tr th {\n",
              "        vertical-align: top;\n",
              "    }\n",
              "\n",
              "    .dataframe thead th {\n",
              "        text-align: right;\n",
              "    }\n",
              "</style>\n",
              "<table border=\"1\" class=\"dataframe\">\n",
              "  <thead>\n",
              "    <tr style=\"text-align: right;\">\n",
              "      <th></th>\n",
              "      <th>person</th>\n",
              "    </tr>\n",
              "  </thead>\n",
              "  <tbody>\n",
              "    <tr>\n",
              "      <th>0</th>\n",
              "      <td>http://www.wikidata.org/entity/Q80</td>\n",
              "    </tr>\n",
              "    <tr>\n",
              "      <th>1</th>\n",
              "      <td>http://www.wikidata.org/entity/Q360</td>\n",
              "    </tr>\n",
              "    <tr>\n",
              "      <th>2</th>\n",
              "      <td>http://www.wikidata.org/entity/Q4864</td>\n",
              "    </tr>\n",
              "    <tr>\n",
              "      <th>3</th>\n",
              "      <td>http://www.wikidata.org/entity/Q5284</td>\n",
              "    </tr>\n",
              "    <tr>\n",
              "      <th>4</th>\n",
              "      <td>http://www.wikidata.org/entity/Q7259</td>\n",
              "    </tr>\n",
              "  </tbody>\n",
              "</table>\n",
              "</div>"
            ],
            "text/plain": [
              "                                 person\n",
              "0    http://www.wikidata.org/entity/Q80\n",
              "1   http://www.wikidata.org/entity/Q360\n",
              "2  http://www.wikidata.org/entity/Q4864\n",
              "3  http://www.wikidata.org/entity/Q5284\n",
              "4  http://www.wikidata.org/entity/Q7259"
            ]
          },
          "execution_count": 14,
          "metadata": {},
          "output_type": "execute_result"
        }
      ],
      "source": [
        "wikidata_endpoint = \"https://query.wikidata.org/sparql\"\n",
        "\n",
        "wd_sparql = create_sparql_client ( wikidata_endpoint ,result_format=JSON , query_method=POST , token=None) # TODO : crear cliente sparql\n",
        "\n",
        "q = '''SELECT ?person\n",
        "        WHERE {\n",
        "                ?person wdt:P106 wd:Q5482740 .\n",
        "        }'''\n",
        "\n",
        "df = dataframe_results (wd_sparql, '', q)\n",
        "df.head(5)"
      ]
    },
    {
      "cell_type": "markdown",
      "metadata": {
        "id": "vM3FuNxxWnrH"
      },
      "source": [
        "Si observamos los resultados obtenemos una serie de códigos de personas, concretamente `wd:Q80` es [Tim Berners-Lee](https://www.wikidata.org/wiki/Q80), el inventor de la web. \n",
        "\n",
        "\n",
        "Como estos códigos no son muy intuitivos, WikiData dispone de una servicio de etiquetado que ayuda a traducir el código en un nombre. Para obtener el nombre de `person` sólo hay que añadir el atributo `label`: `personlabel` y añadirlo a la parte `SELECT` de la consulta.\n",
        "\n",
        "También se puede añadir un filtro (`FILTER`) para obtener los resultados en un idioma concreto.\n"
      ]
    },
    {
      "cell_type": "code",
      "execution_count": 15,
      "metadata": {
        "id": "ERoc5An_10Yw"
      },
      "outputs": [
        {
          "data": {
            "text/html": [
              "<div>\n",
              "<style scoped>\n",
              "    .dataframe tbody tr th:only-of-type {\n",
              "        vertical-align: middle;\n",
              "    }\n",
              "\n",
              "    .dataframe tbody tr th {\n",
              "        vertical-align: top;\n",
              "    }\n",
              "\n",
              "    .dataframe thead th {\n",
              "        text-align: right;\n",
              "    }\n",
              "</style>\n",
              "<table border=\"1\" class=\"dataframe\">\n",
              "  <thead>\n",
              "    <tr style=\"text-align: right;\">\n",
              "      <th></th>\n",
              "      <th>person</th>\n",
              "      <th>personLabel</th>\n",
              "    </tr>\n",
              "  </thead>\n",
              "  <tbody>\n",
              "    <tr>\n",
              "      <th>0</th>\n",
              "      <td>http://www.wikidata.org/entity/Q80</td>\n",
              "      <td>Tim Berners-Lee</td>\n",
              "    </tr>\n",
              "    <tr>\n",
              "      <th>1</th>\n",
              "      <td>http://www.wikidata.org/entity/Q360</td>\n",
              "      <td>Julian Assange</td>\n",
              "    </tr>\n",
              "    <tr>\n",
              "      <th>2</th>\n",
              "      <td>http://www.wikidata.org/entity/Q4864</td>\n",
              "      <td>Eugene Kaspersky</td>\n",
              "    </tr>\n",
              "  </tbody>\n",
              "</table>\n",
              "</div>"
            ],
            "text/plain": [
              "                                 person       personLabel\n",
              "0    http://www.wikidata.org/entity/Q80   Tim Berners-Lee\n",
              "1   http://www.wikidata.org/entity/Q360    Julian Assange\n",
              "2  http://www.wikidata.org/entity/Q4864  Eugene Kaspersky"
            ]
          },
          "execution_count": 15,
          "metadata": {},
          "output_type": "execute_result"
        }
      ],
      "source": [
        "q = '''SELECT  ?person ?personLabel\n",
        "WHERE {\n",
        "  ?person wdt:P106 wd:Q5482740 .\n",
        "\n",
        "  SERVICE wikibase:label { bd:serviceParam wikibase:language \"en,es,ca\". }\n",
        "  \n",
        "}'''\n",
        "\n",
        "df = dataframe_results (wd_sparql, '', q)\n",
        "df.head(3)"
      ]
    },
    {
      "cell_type": "markdown",
      "metadata": {
        "id": "Ado2M7XeYoxD"
      },
      "source": [
        "Tenemos los resultados pero se puede restringir más a aquellos que hayan tenido una aportación importante ( `wdt:P800`) a la industria del software:"
      ]
    },
    {
      "cell_type": "code",
      "execution_count": 16,
      "metadata": {
        "id": "_2f-D9Gc10VZ"
      },
      "outputs": [
        {
          "data": {
            "text/html": [
              "<div>\n",
              "<style scoped>\n",
              "    .dataframe tbody tr th:only-of-type {\n",
              "        vertical-align: middle;\n",
              "    }\n",
              "\n",
              "    .dataframe tbody tr th {\n",
              "        vertical-align: top;\n",
              "    }\n",
              "\n",
              "    .dataframe thead th {\n",
              "        text-align: right;\n",
              "    }\n",
              "</style>\n",
              "<table border=\"1\" class=\"dataframe\">\n",
              "  <thead>\n",
              "    <tr style=\"text-align: right;\">\n",
              "      <th></th>\n",
              "      <th>person</th>\n",
              "      <th>personLabel</th>\n",
              "      <th>workLabel</th>\n",
              "    </tr>\n",
              "  </thead>\n",
              "  <tbody>\n",
              "    <tr>\n",
              "      <th>0</th>\n",
              "      <td>http://www.wikidata.org/entity/Q92602</td>\n",
              "      <td>Tony Hoare</td>\n",
              "      <td>communicating sequential processes</td>\n",
              "    </tr>\n",
              "    <tr>\n",
              "      <th>1</th>\n",
              "      <td>http://www.wikidata.org/entity/Q34253</td>\n",
              "      <td>Linus Torvalds</td>\n",
              "      <td>Subsurface</td>\n",
              "    </tr>\n",
              "    <tr>\n",
              "      <th>2</th>\n",
              "      <td>http://www.wikidata.org/entity/Q17457</td>\n",
              "      <td>Donald Knuth</td>\n",
              "      <td>Literate programming</td>\n",
              "    </tr>\n",
              "    <tr>\n",
              "      <th>3</th>\n",
              "      <td>http://www.wikidata.org/entity/Q92613</td>\n",
              "      <td>Leslie Lamport</td>\n",
              "      <td>TLA+</td>\n",
              "    </tr>\n",
              "    <tr>\n",
              "      <th>4</th>\n",
              "      <td>http://www.wikidata.org/entity/Q92748</td>\n",
              "      <td>Yukihiro Matsumoto</td>\n",
              "      <td>Ruby</td>\n",
              "    </tr>\n",
              "  </tbody>\n",
              "</table>\n",
              "</div>"
            ],
            "text/plain": [
              "                                  person         personLabel  \\\n",
              "0  http://www.wikidata.org/entity/Q92602          Tony Hoare   \n",
              "1  http://www.wikidata.org/entity/Q34253      Linus Torvalds   \n",
              "2  http://www.wikidata.org/entity/Q17457        Donald Knuth   \n",
              "3  http://www.wikidata.org/entity/Q92613      Leslie Lamport   \n",
              "4  http://www.wikidata.org/entity/Q92748  Yukihiro Matsumoto   \n",
              "\n",
              "                            workLabel  \n",
              "0  communicating sequential processes  \n",
              "1                          Subsurface  \n",
              "2                Literate programming  \n",
              "3                                TLA+  \n",
              "4                                Ruby  "
            ]
          },
          "execution_count": 16,
          "metadata": {},
          "output_type": "execute_result"
        }
      ],
      "source": [
        "q = '''\n",
        "SELECT DISTINCT ?person ?personLabel ?workLabel\n",
        "WHERE {\n",
        "  ?person wdt:P106 wd:Q5482740.\n",
        "  ?person        wdt:P800 ?work. # TODO : buscar el trabajo por el que son conocidos los programadores\n",
        "  \n",
        "  SERVICE wikibase:label { bd:serviceParam wikibase:language \"[AUTO_LANGUAGE],en\". }\n",
        "}\n",
        "'''\n",
        "\n",
        "df = dataframe_results (wd_sparql, '', q)\n",
        "df.head(5)"
      ]
    },
    {
      "cell_type": "markdown",
      "metadata": {
        "id": "aWIJaoBuZt4y"
      },
      "source": [
        "Aunque se observa que aparecen muchos resultados replicados varias veces pues si alguien tiene varias aportaciones importantes aparecerá varias veces. Por lo tanto, hay que agrupar todos las aportaciones en un solo atributo.\n",
        "\n",
        "Para ello, las funciones de agrupamiento `GROUP BY` y `GROUP_CONCAT` pueden ser útiles. "
      ]
    },
    {
      "cell_type": "code",
      "execution_count": 17,
      "metadata": {
        "id": "BrlXfP1201HF"
      },
      "outputs": [
        {
          "data": {
            "text/html": [
              "<div>\n",
              "<style scoped>\n",
              "    .dataframe tbody tr th:only-of-type {\n",
              "        vertical-align: middle;\n",
              "    }\n",
              "\n",
              "    .dataframe tbody tr th {\n",
              "        vertical-align: top;\n",
              "    }\n",
              "\n",
              "    .dataframe thead th {\n",
              "        text-align: right;\n",
              "    }\n",
              "</style>\n",
              "<table border=\"1\" class=\"dataframe\">\n",
              "  <thead>\n",
              "    <tr style=\"text-align: right;\">\n",
              "      <th></th>\n",
              "      <th>person</th>\n",
              "      <th>personLabel</th>\n",
              "      <th>works</th>\n",
              "    </tr>\n",
              "  </thead>\n",
              "  <tbody>\n",
              "    <tr>\n",
              "      <th>0</th>\n",
              "      <td>http://www.wikidata.org/entity/Q93015</td>\n",
              "      <td>Adriaan van Wijngaarden</td>\n",
              "      <td>ALGOL</td>\n",
              "    </tr>\n",
              "    <tr>\n",
              "      <th>1</th>\n",
              "      <td>http://www.wikidata.org/entity/Q64850138</td>\n",
              "      <td>Max Howell</td>\n",
              "      <td>Homebrew</td>\n",
              "    </tr>\n",
              "    <tr>\n",
              "      <th>2</th>\n",
              "      <td>http://www.wikidata.org/entity/Q3351046</td>\n",
              "      <td>Olivier Fourdan</td>\n",
              "      <td>Xfce</td>\n",
              "    </tr>\n",
              "    <tr>\n",
              "      <th>3</th>\n",
              "      <td>http://www.wikidata.org/entity/Q64845926</td>\n",
              "      <td>Jordan Walke</td>\n",
              "      <td>React</td>\n",
              "    </tr>\n",
              "    <tr>\n",
              "      <th>4</th>\n",
              "      <td>http://www.wikidata.org/entity/Q17457</td>\n",
              "      <td>Donald Knuth</td>\n",
              "      <td>TeX | The Art of Computer Programming | Litera...</td>\n",
              "    </tr>\n",
              "  </tbody>\n",
              "</table>\n",
              "</div>"
            ],
            "text/plain": [
              "                                     person              personLabel  \\\n",
              "0     http://www.wikidata.org/entity/Q93015  Adriaan van Wijngaarden   \n",
              "1  http://www.wikidata.org/entity/Q64850138               Max Howell   \n",
              "2   http://www.wikidata.org/entity/Q3351046          Olivier Fourdan   \n",
              "3  http://www.wikidata.org/entity/Q64845926             Jordan Walke   \n",
              "4     http://www.wikidata.org/entity/Q17457             Donald Knuth   \n",
              "\n",
              "                                               works  \n",
              "0                                              ALGOL  \n",
              "1                                           Homebrew  \n",
              "2                                               Xfce  \n",
              "3                                              React  \n",
              "4  TeX | The Art of Computer Programming | Litera...  "
            ]
          },
          "execution_count": 17,
          "metadata": {},
          "output_type": "execute_result"
        }
      ],
      "source": [
        "q = '''\n",
        "SELECT DISTINCT ?person ?personLabel \n",
        "(GROUP_CONCAT(DISTINCT ?workLabel ;separator=\" | \") as ?works)\n",
        "WHERE {\n",
        "  ?person wdt:P106    wd:Q5482740;\n",
        "          rdfs:label  ?personLabel;\n",
        "          wdt:P800    ?work.\n",
        "  ?work   rdfs:label    ?workLabel.\n",
        "  \n",
        "  FILTER(LANG(?personLabel) = \"en\")\n",
        "  FILTER(LANG(?workLabel) = \"en\")  \n",
        "}\n",
        "GROUP BY ?person ?personLabel # TODO\n",
        "'''\n",
        "\n",
        "df = dataframe_results (wd_sparql, '', q)\n",
        "df.head(5)"
      ]
    },
    {
      "cell_type": "markdown",
      "metadata": {
        "id": "eORhKIKja0ox"
      },
      "source": [
        "Ahora es el momento de que les pongamos cara. Es posible obtener las fotografías de algunas de estas personas con `wdt:P18` para obtener una URL con una foto"
      ]
    },
    {
      "cell_type": "code",
      "execution_count": 18,
      "metadata": {
        "id": "1-kzQDBx01FX"
      },
      "outputs": [
        {
          "data": {
            "text/html": [
              "<div>\n",
              "<style scoped>\n",
              "    .dataframe tbody tr th:only-of-type {\n",
              "        vertical-align: middle;\n",
              "    }\n",
              "\n",
              "    .dataframe tbody tr th {\n",
              "        vertical-align: top;\n",
              "    }\n",
              "\n",
              "    .dataframe thead th {\n",
              "        text-align: right;\n",
              "    }\n",
              "</style>\n",
              "<table border=\"1\" class=\"dataframe\">\n",
              "  <thead>\n",
              "    <tr style=\"text-align: right;\">\n",
              "      <th></th>\n",
              "      <th>person</th>\n",
              "      <th>personLabel</th>\n",
              "      <th>image</th>\n",
              "      <th>works</th>\n",
              "    </tr>\n",
              "  </thead>\n",
              "  <tbody>\n",
              "    <tr>\n",
              "      <th>0</th>\n",
              "      <td>http://www.wikidata.org/entity/Q34253</td>\n",
              "      <td>Linus Torvalds</td>\n",
              "      <td>http://commons.wikimedia.org/wiki/Special:File...</td>\n",
              "      <td>Subsurface | Linux kernel | Git</td>\n",
              "    </tr>\n",
              "    <tr>\n",
              "      <th>1</th>\n",
              "      <td>http://www.wikidata.org/entity/Q483382</td>\n",
              "      <td>Steve Wozniak</td>\n",
              "      <td>http://commons.wikimedia.org/wiki/Special:File...</td>\n",
              "      <td>Apple Inc. | Apple I | Breakout | Macintosh 12...</td>\n",
              "    </tr>\n",
              "    <tr>\n",
              "      <th>2</th>\n",
              "      <td>http://www.wikidata.org/entity/Q483382</td>\n",
              "      <td>Steve Wozniak</td>\n",
              "      <td>http://commons.wikimedia.org/wiki/Special:File...</td>\n",
              "      <td>Apple Inc. | Apple I | Breakout | Macintosh 12...</td>\n",
              "    </tr>\n",
              "    <tr>\n",
              "      <th>3</th>\n",
              "      <td>http://www.wikidata.org/entity/Q318489</td>\n",
              "      <td>Bram Cohen</td>\n",
              "      <td>http://commons.wikimedia.org/wiki/Special:File...</td>\n",
              "      <td>Arroz al horno | BitTorrent</td>\n",
              "    </tr>\n",
              "    <tr>\n",
              "      <th>4</th>\n",
              "      <td>http://www.wikidata.org/entity/Q3309228</td>\n",
              "      <td>Ryan North</td>\n",
              "      <td>http://commons.wikimedia.org/wiki/Special:File...</td>\n",
              "      <td>Dinosaur Comics | The Unbeatable Squirrel Girl</td>\n",
              "    </tr>\n",
              "  </tbody>\n",
              "</table>\n",
              "</div>"
            ],
            "text/plain": [
              "                                    person     personLabel  \\\n",
              "0    http://www.wikidata.org/entity/Q34253  Linus Torvalds   \n",
              "1   http://www.wikidata.org/entity/Q483382   Steve Wozniak   \n",
              "2   http://www.wikidata.org/entity/Q483382   Steve Wozniak   \n",
              "3   http://www.wikidata.org/entity/Q318489      Bram Cohen   \n",
              "4  http://www.wikidata.org/entity/Q3309228      Ryan North   \n",
              "\n",
              "                                               image  \\\n",
              "0  http://commons.wikimedia.org/wiki/Special:File...   \n",
              "1  http://commons.wikimedia.org/wiki/Special:File...   \n",
              "2  http://commons.wikimedia.org/wiki/Special:File...   \n",
              "3  http://commons.wikimedia.org/wiki/Special:File...   \n",
              "4  http://commons.wikimedia.org/wiki/Special:File...   \n",
              "\n",
              "                                               works  \n",
              "0                    Subsurface | Linux kernel | Git  \n",
              "1  Apple Inc. | Apple I | Breakout | Macintosh 12...  \n",
              "2  Apple Inc. | Apple I | Breakout | Macintosh 12...  \n",
              "3                        Arroz al horno | BitTorrent  \n",
              "4     Dinosaur Comics | The Unbeatable Squirrel Girl  "
            ]
          },
          "execution_count": 18,
          "metadata": {},
          "output_type": "execute_result"
        }
      ],
      "source": [
        "q = '''\n",
        "SELECT DISTINCT ?person ?personLabel \n",
        "(GROUP_CONCAT(DISTINCT ?workLabel ;separator=\" | \") as ?works) ?image\n",
        "WHERE {\n",
        "   ?person wdt:P106    wd:Q5482740;\n",
        "          rdfs:label  ?personLabel;\n",
        "          wdt:P800    ?work;\n",
        "          wdt:P18     ?image.\n",
        "  ?work   rdfs:label    ?workLabel.\n",
        "\n",
        "  FILTER(LANG(?personLabel) = \"en\")\n",
        "  FILTER(LANG(?workLabel) = \"en\")  \n",
        "}\n",
        "GROUP BY  ?person ?personLabel ?image# TODO\n",
        "'''\n",
        "\n",
        "df = dataframe_results (wd_sparql, '', q)\n",
        "df.head(5)\n"
      ]
    },
    {
      "cell_type": "markdown",
      "metadata": {
        "id": "aKVGMkb6bsBx"
      },
      "source": [
        "Pudiendo visualizarlas dentro en el Dataframe con la siguiente función:"
      ]
    },
    {
      "cell_type": "code",
      "execution_count": 19,
      "metadata": {
        "id": "yMrAHUjIAasG"
      },
      "outputs": [
        {
          "data": {
            "text/html": [
              "<table border=\"1\" class=\"dataframe\">\n",
              "  <thead>\n",
              "    <tr style=\"text-align: right;\">\n",
              "      <th></th>\n",
              "      <th>person</th>\n",
              "      <th>personLabel</th>\n",
              "      <th>image</th>\n",
              "      <th>works</th>\n",
              "    </tr>\n",
              "  </thead>\n",
              "  <tbody>\n",
              "    <tr>\n",
              "      <th>0</th>\n",
              "      <td>http://www.wikidata.org/entity/Q34253</td>\n",
              "      <td>Linus Torvalds</td>\n",
              "      <td><img src=\"http://commons.wikimedia.org/wiki/Special:FilePath/LinuxCon%20Europe%20Linus%20Torvalds%2003%20%28cropped%29.jpg\" width =\"80px\"></td>\n",
              "      <td>Subsurface | Linux kernel | Git</td>\n",
              "    </tr>\n",
              "    <tr>\n",
              "      <th>1</th>\n",
              "      <td>http://www.wikidata.org/entity/Q483382</td>\n",
              "      <td>Steve Wozniak</td>\n",
              "      <td><img src=\"http://commons.wikimedia.org/wiki/Special:FilePath/Steve%20Wozniak.jpg\" width =\"80px\"></td>\n",
              "      <td>Apple Inc. | Apple I | Breakout | Macintosh 128K | Apple II | US Festival</td>\n",
              "    </tr>\n",
              "    <tr>\n",
              "      <th>2</th>\n",
              "      <td>http://www.wikidata.org/entity/Q483382</td>\n",
              "      <td>Steve Wozniak</td>\n",
              "      <td><img src=\"http://commons.wikimedia.org/wiki/Special:FilePath/Steve%20Wozniak%20by%20Gage%20Skidmore.jpg\" width =\"80px\"></td>\n",
              "      <td>Apple Inc. | Apple I | Breakout | Macintosh 128K | Apple II | US Festival</td>\n",
              "    </tr>\n",
              "    <tr>\n",
              "      <th>3</th>\n",
              "      <td>http://www.wikidata.org/entity/Q318489</td>\n",
              "      <td>Bram Cohen</td>\n",
              "      <td><img src=\"http://commons.wikimedia.org/wiki/Special:FilePath/Bram%20Cohen.jpg\" width =\"80px\"></td>\n",
              "      <td>Arroz al horno | BitTorrent</td>\n",
              "    </tr>\n",
              "    <tr>\n",
              "      <th>4</th>\n",
              "      <td>http://www.wikidata.org/entity/Q3309228</td>\n",
              "      <td>Ryan North</td>\n",
              "      <td><img src=\"http://commons.wikimedia.org/wiki/Special:FilePath/%D0%A0%D0%B0%D0%B9%D0%B0%D0%BD%20%D0%9D%D0%BE%D1%80%D1%82%20%D0%BD%D0%B0%20%D0%91%D0%B8%D0%B3%D1%84%D0%B5%D1%81%D1%82%202018%20%281%29%20%28cropped%29.jpg\" width =\"80px\"></td>\n",
              "      <td>Dinosaur Comics | The Unbeatable Squirrel Girl</td>\n",
              "    </tr>\n",
              "  </tbody>\n",
              "</table>"
            ],
            "text/plain": [
              "<IPython.core.display.HTML object>"
            ]
          },
          "execution_count": 19,
          "metadata": {},
          "output_type": "execute_result"
        }
      ],
      "source": [
        "def image_formatter(im, width=\"80px\"):\n",
        "    return f'<img src=\"%s\" width =\"%s\">' % (im, width)\n",
        "\n",
        "\n",
        "HTML(df.dropna().head(5).to_html(formatters={'image': image_formatter}, # TODO: seleccionar columna de la imagen\n",
        "                                 escape=False)) \n"
      ]
    },
    {
      "cell_type": "markdown",
      "metadata": {
        "id": "Bv1bt0i4Cizv"
      },
      "source": [
        "\n",
        "Por último, de dónde proceden estas personas. Cada persona puede tener un atributo `country` (`wdt:P19`) y éste a su vez unas coordenadas (`wdt:P625`) con las que conseguir una latitud y longitud. "
      ]
    },
    {
      "cell_type": "code",
      "execution_count": 20,
      "metadata": {
        "id": "wkHn6C7A01CL"
      },
      "outputs": [
        {
          "data": {
            "text/html": [
              "<div>\n",
              "<style scoped>\n",
              "    .dataframe tbody tr th:only-of-type {\n",
              "        vertical-align: middle;\n",
              "    }\n",
              "\n",
              "    .dataframe tbody tr th {\n",
              "        vertical-align: top;\n",
              "    }\n",
              "\n",
              "    .dataframe thead th {\n",
              "        text-align: right;\n",
              "    }\n",
              "</style>\n",
              "<table border=\"1\" class=\"dataframe\">\n",
              "  <thead>\n",
              "    <tr style=\"text-align: right;\">\n",
              "      <th></th>\n",
              "      <th>person</th>\n",
              "      <th>personLabel</th>\n",
              "      <th>image</th>\n",
              "      <th>lon</th>\n",
              "      <th>lat</th>\n",
              "      <th>label</th>\n",
              "      <th>works</th>\n",
              "    </tr>\n",
              "  </thead>\n",
              "  <tbody>\n",
              "    <tr>\n",
              "      <th>0</th>\n",
              "      <td>http://www.wikidata.org/entity/Q105704549</td>\n",
              "      <td>Vitaly Zdanevich</td>\n",
              "      <td>http://commons.wikimedia.org/wiki/Special:File...</td>\n",
              "      <td>27.561837</td>\n",
              "      <td>53.902246</td>\n",
              "      <td>Minsk</td>\n",
              "      <td>Text-to-speech browser extension: Intelligent ...</td>\n",
              "    </tr>\n",
              "    <tr>\n",
              "      <th>1</th>\n",
              "      <td>http://www.wikidata.org/entity/Q93062</td>\n",
              "      <td>Matthew Dillon</td>\n",
              "      <td>http://commons.wikimedia.org/wiki/Special:File...</td>\n",
              "      <td>-122.41638888889</td>\n",
              "      <td>37.7775</td>\n",
              "      <td>San Francisco</td>\n",
              "      <td>FreeBSD | DragonFly BSD | HAMMER | HAMMER2 | v...</td>\n",
              "    </tr>\n",
              "    <tr>\n",
              "      <th>2</th>\n",
              "      <td>http://www.wikidata.org/entity/Q92620</td>\n",
              "      <td>Bjarne Stroustrup</td>\n",
              "      <td>http://commons.wikimedia.org/wiki/Special:File...</td>\n",
              "      <td>10.209722222222</td>\n",
              "      <td>56.156388888889</td>\n",
              "      <td>Aarhus</td>\n",
              "      <td>C++</td>\n",
              "    </tr>\n",
              "    <tr>\n",
              "      <th>3</th>\n",
              "      <td>http://www.wikidata.org/entity/Q92650</td>\n",
              "      <td>Paul Graham</td>\n",
              "      <td>http://commons.wikimedia.org/wiki/Special:File...</td>\n",
              "      <td>-2.4569444444444</td>\n",
              "      <td>50.613055555556</td>\n",
              "      <td>Weymouth</td>\n",
              "      <td>Hacker News | Arc | Y Combinator | Hackers &amp; P...</td>\n",
              "    </tr>\n",
              "    <tr>\n",
              "      <th>4</th>\n",
              "      <td>http://www.wikidata.org/entity/Q95808667</td>\n",
              "      <td>Marco Ilardi</td>\n",
              "      <td>http://commons.wikimedia.org/wiki/Special:File...</td>\n",
              "      <td>14.25</td>\n",
              "      <td>40.833333333333</td>\n",
              "      <td>Naples</td>\n",
              "      <td>Main observations on genesis and morphological...</td>\n",
              "    </tr>\n",
              "    <tr>\n",
              "      <th>5</th>\n",
              "      <td>http://www.wikidata.org/entity/Q95808667</td>\n",
              "      <td>Marco Ilardi</td>\n",
              "      <td>http://commons.wikimedia.org/wiki/Special:File...</td>\n",
              "      <td>14.25</td>\n",
              "      <td>40.833333333333</td>\n",
              "      <td>Naples</td>\n",
              "      <td>Main observations on genesis and morphological...</td>\n",
              "    </tr>\n",
              "    <tr>\n",
              "      <th>6</th>\n",
              "      <td>http://www.wikidata.org/entity/Q92881</td>\n",
              "      <td>Douglas McIlroy</td>\n",
              "      <td>http://commons.wikimedia.org/wiki/Special:File...</td>\n",
              "      <td>-98.5795</td>\n",
              "      <td>39.828175</td>\n",
              "      <td>United States of America</td>\n",
              "      <td>pipeline | spell | software component | diff |...</td>\n",
              "    </tr>\n",
              "    <tr>\n",
              "      <th>7</th>\n",
              "      <td>http://www.wikidata.org/entity/Q95808667</td>\n",
              "      <td>Marco Ilardi</td>\n",
              "      <td>http://commons.wikimedia.org/wiki/Special:File...</td>\n",
              "      <td>14.25</td>\n",
              "      <td>40.833333333333</td>\n",
              "      <td>Naples</td>\n",
              "      <td>Main observations on genesis and morphological...</td>\n",
              "    </tr>\n",
              "    <tr>\n",
              "      <th>8</th>\n",
              "      <td>http://www.wikidata.org/entity/Q95808667</td>\n",
              "      <td>Marco Ilardi</td>\n",
              "      <td>http://commons.wikimedia.org/wiki/Special:File...</td>\n",
              "      <td>14.25</td>\n",
              "      <td>40.833333333333</td>\n",
              "      <td>Naples</td>\n",
              "      <td>Main observations on genesis and morphological...</td>\n",
              "    </tr>\n",
              "    <tr>\n",
              "      <th>9</th>\n",
              "      <td>http://www.wikidata.org/entity/Q105704549</td>\n",
              "      <td>Vitaly Zdanevich</td>\n",
              "      <td>http://commons.wikimedia.org/wiki/Special:File...</td>\n",
              "      <td>27.561837</td>\n",
              "      <td>53.902246</td>\n",
              "      <td>Minsk</td>\n",
              "      <td>Text-to-speech browser extension: Intelligent ...</td>\n",
              "    </tr>\n",
              "  </tbody>\n",
              "</table>\n",
              "</div>"
            ],
            "text/plain": [
              "                                      person        personLabel  \\\n",
              "0  http://www.wikidata.org/entity/Q105704549   Vitaly Zdanevich   \n",
              "1      http://www.wikidata.org/entity/Q93062     Matthew Dillon   \n",
              "2      http://www.wikidata.org/entity/Q92620  Bjarne Stroustrup   \n",
              "3      http://www.wikidata.org/entity/Q92650        Paul Graham   \n",
              "4   http://www.wikidata.org/entity/Q95808667       Marco Ilardi   \n",
              "5   http://www.wikidata.org/entity/Q95808667       Marco Ilardi   \n",
              "6      http://www.wikidata.org/entity/Q92881    Douglas McIlroy   \n",
              "7   http://www.wikidata.org/entity/Q95808667       Marco Ilardi   \n",
              "8   http://www.wikidata.org/entity/Q95808667       Marco Ilardi   \n",
              "9  http://www.wikidata.org/entity/Q105704549   Vitaly Zdanevich   \n",
              "\n",
              "                                               image               lon  \\\n",
              "0  http://commons.wikimedia.org/wiki/Special:File...         27.561837   \n",
              "1  http://commons.wikimedia.org/wiki/Special:File...  -122.41638888889   \n",
              "2  http://commons.wikimedia.org/wiki/Special:File...   10.209722222222   \n",
              "3  http://commons.wikimedia.org/wiki/Special:File...  -2.4569444444444   \n",
              "4  http://commons.wikimedia.org/wiki/Special:File...             14.25   \n",
              "5  http://commons.wikimedia.org/wiki/Special:File...             14.25   \n",
              "6  http://commons.wikimedia.org/wiki/Special:File...          -98.5795   \n",
              "7  http://commons.wikimedia.org/wiki/Special:File...             14.25   \n",
              "8  http://commons.wikimedia.org/wiki/Special:File...             14.25   \n",
              "9  http://commons.wikimedia.org/wiki/Special:File...         27.561837   \n",
              "\n",
              "               lat                     label  \\\n",
              "0        53.902246                     Minsk   \n",
              "1          37.7775             San Francisco   \n",
              "2  56.156388888889                    Aarhus   \n",
              "3  50.613055555556                  Weymouth   \n",
              "4  40.833333333333                    Naples   \n",
              "5  40.833333333333                    Naples   \n",
              "6        39.828175  United States of America   \n",
              "7  40.833333333333                    Naples   \n",
              "8  40.833333333333                    Naples   \n",
              "9        53.902246                     Minsk   \n",
              "\n",
              "                                               works  \n",
              "0  Text-to-speech browser extension: Intelligent ...  \n",
              "1  FreeBSD | DragonFly BSD | HAMMER | HAMMER2 | v...  \n",
              "2                                                C++  \n",
              "3  Hacker News | Arc | Y Combinator | Hackers & P...  \n",
              "4  Main observations on genesis and morphological...  \n",
              "5  Main observations on genesis and morphological...  \n",
              "6  pipeline | spell | software component | diff |...  \n",
              "7  Main observations on genesis and morphological...  \n",
              "8  Main observations on genesis and morphological...  \n",
              "9  Text-to-speech browser extension: Intelligent ...  "
            ]
          },
          "execution_count": 20,
          "metadata": {},
          "output_type": "execute_result"
        }
      ],
      "source": [
        "q = '''\n",
        "SELECT DISTINCT ?person ?personLabel ?image ?lat ?lon ?label\n",
        "(GROUP_CONCAT(DISTINCT ?workLabel ;separator=\" | \") as ?works) \n",
        "\n",
        "WHERE {\n",
        "    ?person wdt:P106 wd:Q5482740;\n",
        "          rdfs:label  ?personLabel;\n",
        "          wdt:P800    ?work;\n",
        "          wdt:P18     ?image;\n",
        "          wdt:P19     ?country.\n",
        "    ?country rdfs:label ?label.\n",
        "    ?country p:P625 ?coordinate.\n",
        "    ?coordinate ps:P625 ?coord.\n",
        "    ?coordinate psv:P625 ?coordinate_node.\n",
        "    ?coordinate_node wikibase:geoLongitude ?lon.\n",
        "    ?coordinate_node wikibase:geoLatitude ?lat.\n",
        "\n",
        "    ?work rdfs:label  ?workLabel.\n",
        "\n",
        "  \n",
        "  FILTER (LANG(?personLabel)=\"en\" )  # TODO: filtrar por 1 solo idioma\n",
        "  FILTER (LANG(?workLabel)=\"en\" )    # TODO: filtrar por 1 solo idioma\n",
        "  FILTER (LANG(?label)=\"en\" )\n",
        "  \n",
        "}\n",
        "GROUP BY ?person ?personLabel ?image ?lon ?lat ?label\n",
        "'''\n",
        "\n",
        "df = dataframe_results (wd_sparql, '', q)\n",
        "df.head(10)\n"
      ]
    },
    {
      "cell_type": "code",
      "execution_count": 21,
      "metadata": {},
      "outputs": [
        {
          "name": "stdout",
          "output_type": "stream",
          "text": [
            "Requirement already satisfied: folium in c:\\users\\lau92\\appdata\\local\\programs\\python\\python39\\lib\\site-packages (0.12.1.post1)Note: you may need to restart the kernel to use updated packages.\n"
          ]
        },
        {
          "name": "stderr",
          "output_type": "stream",
          "text": [
            "WARNING: You are using pip version 20.2.3; however, version 21.3.1 is available.\n",
            "You should consider upgrading via the 'C:\\Users\\lau92\\AppData\\Local\\Programs\\Python\\Python39\\python.exe -m pip install --upgrade pip' command.\n"
          ]
        },
        {
          "name": "stdout",
          "output_type": "stream",
          "text": [
            "\n",
            "Requirement already satisfied: branca>=0.3.0 in c:\\users\\lau92\\appdata\\local\\programs\\python\\python39\\lib\\site-packages (from folium) (0.4.2)\n",
            "Requirement already satisfied: requests in c:\\users\\lau92\\appdata\\local\\programs\\python\\python39\\lib\\site-packages (from folium) (2.26.0)\n",
            "Requirement already satisfied: jinja2>=2.9 in c:\\users\\lau92\\appdata\\local\\programs\\python\\python39\\lib\\site-packages (from folium) (3.0.3)\n",
            "Requirement already satisfied: numpy in c:\\users\\lau92\\appdata\\local\\programs\\python\\python39\\lib\\site-packages (from folium) (1.20.1)\n",
            "Requirement already satisfied: charset-normalizer~=2.0.0; python_version >= \"3\" in c:\\users\\lau92\\appdata\\local\\programs\\python\\python39\\lib\\site-packages (from requests->folium) (2.0.4)\n",
            "Requirement already satisfied: certifi>=2017.4.17 in c:\\users\\lau92\\appdata\\local\\programs\\python\\python39\\lib\\site-packages (from requests->folium) (2021.5.30)\n",
            "Requirement already satisfied: urllib3<1.27,>=1.21.1 in c:\\users\\lau92\\appdata\\local\\programs\\python\\python39\\lib\\site-packages (from requests->folium) (1.26.6)\n",
            "Requirement already satisfied: idna<4,>=2.5; python_version >= \"3\" in c:\\users\\lau92\\appdata\\local\\programs\\python\\python39\\lib\\site-packages (from requests->folium) (3.2)\n",
            "Requirement already satisfied: MarkupSafe>=2.0 in c:\\users\\lau92\\appdata\\local\\programs\\python\\python39\\lib\\site-packages (from jinja2>=2.9->folium) (2.0.1)\n"
          ]
        }
      ],
      "source": [
        "pip install folium"
      ]
    },
    {
      "cell_type": "markdown",
      "metadata": {
        "id": "zZoCaKjhcyhJ"
      },
      "source": [
        "Y ponerlos en un mapa"
      ]
    },
    {
      "cell_type": "code",
      "execution_count": 22,
      "metadata": {
        "id": "3DegvB4F01Ai"
      },
      "outputs": [
        {
          "data": {
            "text/html": [
              "<div style=\"width:100%;\"><div style=\"position:relative;width:100%;height:0;padding-bottom:60%;\"><span style=\"color:#565656\">Make this Notebook Trusted to load map: File -> Trust Notebook</span><iframe src=\"about:blank\" style=\"position:absolute;width:100%;height:100%;left:0;top:0;border:none !important;\" data-html=%3C%21DOCTYPE%20html%3E%0A%3Chead%3E%20%20%20%20%0A%20%20%20%20%3Cmeta%20http-equiv%3D%22content-type%22%20content%3D%22text/html%3B%20charset%3DUTF-8%22%20/%3E%0A%20%20%20%20%0A%20%20%20%20%20%20%20%20%3Cscript%3E%0A%20%20%20%20%20%20%20%20%20%20%20%20L_NO_TOUCH%20%3D%20false%3B%0A%20%20%20%20%20%20%20%20%20%20%20%20L_DISABLE_3D%20%3D%20false%3B%0A%20%20%20%20%20%20%20%20%3C/script%3E%0A%20%20%20%20%0A%20%20%20%20%3Cstyle%3Ehtml%2C%20body%20%7Bwidth%3A%20100%25%3Bheight%3A%20100%25%3Bmargin%3A%200%3Bpadding%3A%200%3B%7D%3C/style%3E%0A%20%20%20%20%3Cstyle%3E%23map%20%7Bposition%3Aabsolute%3Btop%3A0%3Bbottom%3A0%3Bright%3A0%3Bleft%3A0%3B%7D%3C/style%3E%0A%20%20%20%20%3Cscript%20src%3D%22https%3A//cdn.jsdelivr.net/npm/leaflet%401.6.0/dist/leaflet.js%22%3E%3C/script%3E%0A%20%20%20%20%3Cscript%20src%3D%22https%3A//code.jquery.com/jquery-1.12.4.min.js%22%3E%3C/script%3E%0A%20%20%20%20%3Cscript%20src%3D%22https%3A//maxcdn.bootstrapcdn.com/bootstrap/3.2.0/js/bootstrap.min.js%22%3E%3C/script%3E%0A%20%20%20%20%3Cscript%20src%3D%22https%3A//cdnjs.cloudflare.com/ajax/libs/Leaflet.awesome-markers/2.0.2/leaflet.awesome-markers.js%22%3E%3C/script%3E%0A%20%20%20%20%3Clink%20rel%3D%22stylesheet%22%20href%3D%22https%3A//cdn.jsdelivr.net/npm/leaflet%401.6.0/dist/leaflet.css%22/%3E%0A%20%20%20%20%3Clink%20rel%3D%22stylesheet%22%20href%3D%22https%3A//maxcdn.bootstrapcdn.com/bootstrap/3.2.0/css/bootstrap.min.css%22/%3E%0A%20%20%20%20%3Clink%20rel%3D%22stylesheet%22%20href%3D%22https%3A//maxcdn.bootstrapcdn.com/bootstrap/3.2.0/css/bootstrap-theme.min.css%22/%3E%0A%20%20%20%20%3Clink%20rel%3D%22stylesheet%22%20href%3D%22https%3A//maxcdn.bootstrapcdn.com/font-awesome/4.6.3/css/font-awesome.min.css%22/%3E%0A%20%20%20%20%3Clink%20rel%3D%22stylesheet%22%20href%3D%22https%3A//cdnjs.cloudflare.com/ajax/libs/Leaflet.awesome-markers/2.0.2/leaflet.awesome-markers.css%22/%3E%0A%20%20%20%20%3Clink%20rel%3D%22stylesheet%22%20href%3D%22https%3A//cdn.jsdelivr.net/gh/python-visualization/folium/folium/templates/leaflet.awesome.rotate.min.css%22/%3E%0A%20%20%20%20%0A%20%20%20%20%20%20%20%20%20%20%20%20%3Cmeta%20name%3D%22viewport%22%20content%3D%22width%3Ddevice-width%2C%0A%20%20%20%20%20%20%20%20%20%20%20%20%20%20%20%20initial-scale%3D1.0%2C%20maximum-scale%3D1.0%2C%20user-scalable%3Dno%22%20/%3E%0A%20%20%20%20%20%20%20%20%20%20%20%20%3Cstyle%3E%0A%20%20%20%20%20%20%20%20%20%20%20%20%20%20%20%20%23map_df80af9bba0f4e9eb0862b3b6a21564b%20%7B%0A%20%20%20%20%20%20%20%20%20%20%20%20%20%20%20%20%20%20%20%20position%3A%20relative%3B%0A%20%20%20%20%20%20%20%20%20%20%20%20%20%20%20%20%20%20%20%20width%3A%20100.0%25%3B%0A%20%20%20%20%20%20%20%20%20%20%20%20%20%20%20%20%20%20%20%20height%3A%20100.0%25%3B%0A%20%20%20%20%20%20%20%20%20%20%20%20%20%20%20%20%20%20%20%20left%3A%200.0%25%3B%0A%20%20%20%20%20%20%20%20%20%20%20%20%20%20%20%20%20%20%20%20top%3A%200.0%25%3B%0A%20%20%20%20%20%20%20%20%20%20%20%20%20%20%20%20%7D%0A%20%20%20%20%20%20%20%20%20%20%20%20%3C/style%3E%0A%20%20%20%20%20%20%20%20%0A%3C/head%3E%0A%3Cbody%3E%20%20%20%20%0A%20%20%20%20%0A%20%20%20%20%20%20%20%20%20%20%20%20%3Cdiv%20class%3D%22folium-map%22%20id%3D%22map_df80af9bba0f4e9eb0862b3b6a21564b%22%20%3E%3C/div%3E%0A%20%20%20%20%20%20%20%20%0A%3C/body%3E%0A%3Cscript%3E%20%20%20%20%0A%20%20%20%20%0A%20%20%20%20%20%20%20%20%20%20%20%20var%20map_df80af9bba0f4e9eb0862b3b6a21564b%20%3D%20L.map%28%0A%20%20%20%20%20%20%20%20%20%20%20%20%20%20%20%20%22map_df80af9bba0f4e9eb0862b3b6a21564b%22%2C%0A%20%20%20%20%20%20%20%20%20%20%20%20%20%20%20%20%7B%0A%20%20%20%20%20%20%20%20%20%20%20%20%20%20%20%20%20%20%20%20center%3A%20%5B0%2C%200%5D%2C%0A%20%20%20%20%20%20%20%20%20%20%20%20%20%20%20%20%20%20%20%20crs%3A%20L.CRS.EPSG3857%2C%0A%20%20%20%20%20%20%20%20%20%20%20%20%20%20%20%20%20%20%20%20zoom%3A%201%2C%0A%20%20%20%20%20%20%20%20%20%20%20%20%20%20%20%20%20%20%20%20zoomControl%3A%20true%2C%0A%20%20%20%20%20%20%20%20%20%20%20%20%20%20%20%20%20%20%20%20preferCanvas%3A%20true%2C%0A%20%20%20%20%20%20%20%20%20%20%20%20%20%20%20%20%7D%0A%20%20%20%20%20%20%20%20%20%20%20%20%29%3B%0A%0A%20%20%20%20%20%20%20%20%20%20%20%20%0A%0A%20%20%20%20%20%20%20%20%0A%20%20%20%20%0A%20%20%20%20%20%20%20%20%20%20%20%20var%20tile_layer_a9c3dcda8d9a45d4b985714d8e4bac15%20%3D%20L.tileLayer%28%0A%20%20%20%20%20%20%20%20%20%20%20%20%20%20%20%20%22https%3A//%7Bs%7D.tile.openstreetmap.org/%7Bz%7D/%7Bx%7D/%7By%7D.png%22%2C%0A%20%20%20%20%20%20%20%20%20%20%20%20%20%20%20%20%7B%22attribution%22%3A%20%22Data%20by%20%5Cu0026copy%3B%20%5Cu003ca%20href%3D%5C%22http%3A//openstreetmap.org%5C%22%5Cu003eOpenStreetMap%5Cu003c/a%5Cu003e%2C%20under%20%5Cu003ca%20href%3D%5C%22http%3A//www.openstreetmap.org/copyright%5C%22%5Cu003eODbL%5Cu003c/a%5Cu003e.%22%2C%20%22detectRetina%22%3A%20false%2C%20%22maxNativeZoom%22%3A%2018%2C%20%22maxZoom%22%3A%2018%2C%20%22minZoom%22%3A%200%2C%20%22noWrap%22%3A%20false%2C%20%22opacity%22%3A%201%2C%20%22subdomains%22%3A%20%22abc%22%2C%20%22tms%22%3A%20false%7D%0A%20%20%20%20%20%20%20%20%20%20%20%20%29.addTo%28map_df80af9bba0f4e9eb0862b3b6a21564b%29%3B%0A%20%20%20%20%20%20%20%20%0A%20%20%20%20%0A%20%20%20%20%20%20%20%20%20%20%20%20var%20circle_marker_5f2e635097494b999a6c4143832d734a%20%3D%20L.circleMarker%28%0A%20%20%20%20%20%20%20%20%20%20%20%20%20%20%20%20%5B53.902246%2C%2027.561837%5D%2C%0A%20%20%20%20%20%20%20%20%20%20%20%20%20%20%20%20%7B%22bubblingMouseEvents%22%3A%20true%2C%20%22color%22%3A%20%22%233388ff%22%2C%20%22dashArray%22%3A%20null%2C%20%22dashOffset%22%3A%20null%2C%20%22fill%22%3A%20true%2C%20%22fillColor%22%3A%20%22%233186cc%22%2C%20%22fillOpacity%22%3A%200.2%2C%20%22fillRule%22%3A%20%22evenodd%22%2C%20%22lineCap%22%3A%20%22round%22%2C%20%22lineJoin%22%3A%20%22round%22%2C%20%22opacity%22%3A%201.0%2C%20%22radius%22%3A%201.5%2C%20%22stroke%22%3A%20true%2C%20%22weight%22%3A%203%7D%0A%20%20%20%20%20%20%20%20%20%20%20%20%29.addTo%28map_df80af9bba0f4e9eb0862b3b6a21564b%29%3B%0A%20%20%20%20%20%20%20%20%0A%20%20%20%20%0A%20%20%20%20%20%20%20%20%20%20%20%20circle_marker_5f2e635097494b999a6c4143832d734a.bindTooltip%28%0A%20%20%20%20%20%20%20%20%20%20%20%20%20%20%20%20%60%3Cdiv%3E%0A%20%20%20%20%20%20%20%20%20%20%20%20%20%20%20%20%20%20%20%20%20Vitaly%20Zdanevich%0A%20%20%20%20%20%20%20%20%20%20%20%20%20%20%20%20%20%3C/div%3E%60%2C%0A%20%20%20%20%20%20%20%20%20%20%20%20%20%20%20%20%7B%22sticky%22%3A%20true%7D%0A%20%20%20%20%20%20%20%20%20%20%20%20%29%3B%0A%20%20%20%20%20%20%20%20%0A%20%20%20%20%0A%20%20%20%20%20%20%20%20%20%20%20%20var%20circle_marker_cda9680f81c746e6975eacfdac05defb%20%3D%20L.circleMarker%28%0A%20%20%20%20%20%20%20%20%20%20%20%20%20%20%20%20%5B37.7775%2C%20-122.41638888889%5D%2C%0A%20%20%20%20%20%20%20%20%20%20%20%20%20%20%20%20%7B%22bubblingMouseEvents%22%3A%20true%2C%20%22color%22%3A%20%22%233388ff%22%2C%20%22dashArray%22%3A%20null%2C%20%22dashOffset%22%3A%20null%2C%20%22fill%22%3A%20true%2C%20%22fillColor%22%3A%20%22%233186cc%22%2C%20%22fillOpacity%22%3A%200.2%2C%20%22fillRule%22%3A%20%22evenodd%22%2C%20%22lineCap%22%3A%20%22round%22%2C%20%22lineJoin%22%3A%20%22round%22%2C%20%22opacity%22%3A%201.0%2C%20%22radius%22%3A%201.5%2C%20%22stroke%22%3A%20true%2C%20%22weight%22%3A%203%7D%0A%20%20%20%20%20%20%20%20%20%20%20%20%29.addTo%28map_df80af9bba0f4e9eb0862b3b6a21564b%29%3B%0A%20%20%20%20%20%20%20%20%0A%20%20%20%20%0A%20%20%20%20%20%20%20%20%20%20%20%20circle_marker_cda9680f81c746e6975eacfdac05defb.bindTooltip%28%0A%20%20%20%20%20%20%20%20%20%20%20%20%20%20%20%20%60%3Cdiv%3E%0A%20%20%20%20%20%20%20%20%20%20%20%20%20%20%20%20%20%20%20%20%20Matthew%20Dillon%0A%20%20%20%20%20%20%20%20%20%20%20%20%20%20%20%20%20%3C/div%3E%60%2C%0A%20%20%20%20%20%20%20%20%20%20%20%20%20%20%20%20%7B%22sticky%22%3A%20true%7D%0A%20%20%20%20%20%20%20%20%20%20%20%20%29%3B%0A%20%20%20%20%20%20%20%20%0A%20%20%20%20%0A%20%20%20%20%20%20%20%20%20%20%20%20var%20circle_marker_c8ee7e3ac67f4ee49f16fde1ef305ccf%20%3D%20L.circleMarker%28%0A%20%20%20%20%20%20%20%20%20%20%20%20%20%20%20%20%5B56.156388888889%2C%2010.209722222222%5D%2C%0A%20%20%20%20%20%20%20%20%20%20%20%20%20%20%20%20%7B%22bubblingMouseEvents%22%3A%20true%2C%20%22color%22%3A%20%22%233388ff%22%2C%20%22dashArray%22%3A%20null%2C%20%22dashOffset%22%3A%20null%2C%20%22fill%22%3A%20true%2C%20%22fillColor%22%3A%20%22%233186cc%22%2C%20%22fillOpacity%22%3A%200.2%2C%20%22fillRule%22%3A%20%22evenodd%22%2C%20%22lineCap%22%3A%20%22round%22%2C%20%22lineJoin%22%3A%20%22round%22%2C%20%22opacity%22%3A%201.0%2C%20%22radius%22%3A%201.5%2C%20%22stroke%22%3A%20true%2C%20%22weight%22%3A%203%7D%0A%20%20%20%20%20%20%20%20%20%20%20%20%29.addTo%28map_df80af9bba0f4e9eb0862b3b6a21564b%29%3B%0A%20%20%20%20%20%20%20%20%0A%20%20%20%20%0A%20%20%20%20%20%20%20%20%20%20%20%20circle_marker_c8ee7e3ac67f4ee49f16fde1ef305ccf.bindTooltip%28%0A%20%20%20%20%20%20%20%20%20%20%20%20%20%20%20%20%60%3Cdiv%3E%0A%20%20%20%20%20%20%20%20%20%20%20%20%20%20%20%20%20%20%20%20%20Bjarne%20Stroustrup%0A%20%20%20%20%20%20%20%20%20%20%20%20%20%20%20%20%20%3C/div%3E%60%2C%0A%20%20%20%20%20%20%20%20%20%20%20%20%20%20%20%20%7B%22sticky%22%3A%20true%7D%0A%20%20%20%20%20%20%20%20%20%20%20%20%29%3B%0A%20%20%20%20%20%20%20%20%0A%20%20%20%20%0A%20%20%20%20%20%20%20%20%20%20%20%20var%20circle_marker_2838bd83215b4031b92c4bc3acf39eaf%20%3D%20L.circleMarker%28%0A%20%20%20%20%20%20%20%20%20%20%20%20%20%20%20%20%5B50.613055555556%2C%20-2.4569444444444%5D%2C%0A%20%20%20%20%20%20%20%20%20%20%20%20%20%20%20%20%7B%22bubblingMouseEvents%22%3A%20true%2C%20%22color%22%3A%20%22%233388ff%22%2C%20%22dashArray%22%3A%20null%2C%20%22dashOffset%22%3A%20null%2C%20%22fill%22%3A%20true%2C%20%22fillColor%22%3A%20%22%233186cc%22%2C%20%22fillOpacity%22%3A%200.2%2C%20%22fillRule%22%3A%20%22evenodd%22%2C%20%22lineCap%22%3A%20%22round%22%2C%20%22lineJoin%22%3A%20%22round%22%2C%20%22opacity%22%3A%201.0%2C%20%22radius%22%3A%201.5%2C%20%22stroke%22%3A%20true%2C%20%22weight%22%3A%203%7D%0A%20%20%20%20%20%20%20%20%20%20%20%20%29.addTo%28map_df80af9bba0f4e9eb0862b3b6a21564b%29%3B%0A%20%20%20%20%20%20%20%20%0A%20%20%20%20%0A%20%20%20%20%20%20%20%20%20%20%20%20circle_marker_2838bd83215b4031b92c4bc3acf39eaf.bindTooltip%28%0A%20%20%20%20%20%20%20%20%20%20%20%20%20%20%20%20%60%3Cdiv%3E%0A%20%20%20%20%20%20%20%20%20%20%20%20%20%20%20%20%20%20%20%20%20Paul%20Graham%0A%20%20%20%20%20%20%20%20%20%20%20%20%20%20%20%20%20%3C/div%3E%60%2C%0A%20%20%20%20%20%20%20%20%20%20%20%20%20%20%20%20%7B%22sticky%22%3A%20true%7D%0A%20%20%20%20%20%20%20%20%20%20%20%20%29%3B%0A%20%20%20%20%20%20%20%20%0A%20%20%20%20%0A%20%20%20%20%20%20%20%20%20%20%20%20var%20circle_marker_a0e53a581642486f99baddd8bfe1b9ef%20%3D%20L.circleMarker%28%0A%20%20%20%20%20%20%20%20%20%20%20%20%20%20%20%20%5B40.833333333333%2C%2014.25%5D%2C%0A%20%20%20%20%20%20%20%20%20%20%20%20%20%20%20%20%7B%22bubblingMouseEvents%22%3A%20true%2C%20%22color%22%3A%20%22%233388ff%22%2C%20%22dashArray%22%3A%20null%2C%20%22dashOffset%22%3A%20null%2C%20%22fill%22%3A%20true%2C%20%22fillColor%22%3A%20%22%233186cc%22%2C%20%22fillOpacity%22%3A%200.2%2C%20%22fillRule%22%3A%20%22evenodd%22%2C%20%22lineCap%22%3A%20%22round%22%2C%20%22lineJoin%22%3A%20%22round%22%2C%20%22opacity%22%3A%201.0%2C%20%22radius%22%3A%201.5%2C%20%22stroke%22%3A%20true%2C%20%22weight%22%3A%203%7D%0A%20%20%20%20%20%20%20%20%20%20%20%20%29.addTo%28map_df80af9bba0f4e9eb0862b3b6a21564b%29%3B%0A%20%20%20%20%20%20%20%20%0A%20%20%20%20%0A%20%20%20%20%20%20%20%20%20%20%20%20circle_marker_a0e53a581642486f99baddd8bfe1b9ef.bindTooltip%28%0A%20%20%20%20%20%20%20%20%20%20%20%20%20%20%20%20%60%3Cdiv%3E%0A%20%20%20%20%20%20%20%20%20%20%20%20%20%20%20%20%20%20%20%20%20Marco%20Ilardi%0A%20%20%20%20%20%20%20%20%20%20%20%20%20%20%20%20%20%3C/div%3E%60%2C%0A%20%20%20%20%20%20%20%20%20%20%20%20%20%20%20%20%7B%22sticky%22%3A%20true%7D%0A%20%20%20%20%20%20%20%20%20%20%20%20%29%3B%0A%20%20%20%20%20%20%20%20%0A%20%20%20%20%0A%20%20%20%20%20%20%20%20%20%20%20%20var%20circle_marker_c4dba36431964dadb2a51d38c11f9222%20%3D%20L.circleMarker%28%0A%20%20%20%20%20%20%20%20%20%20%20%20%20%20%20%20%5B40.833333333333%2C%2014.25%5D%2C%0A%20%20%20%20%20%20%20%20%20%20%20%20%20%20%20%20%7B%22bubblingMouseEvents%22%3A%20true%2C%20%22color%22%3A%20%22%233388ff%22%2C%20%22dashArray%22%3A%20null%2C%20%22dashOffset%22%3A%20null%2C%20%22fill%22%3A%20true%2C%20%22fillColor%22%3A%20%22%233186cc%22%2C%20%22fillOpacity%22%3A%200.2%2C%20%22fillRule%22%3A%20%22evenodd%22%2C%20%22lineCap%22%3A%20%22round%22%2C%20%22lineJoin%22%3A%20%22round%22%2C%20%22opacity%22%3A%201.0%2C%20%22radius%22%3A%201.5%2C%20%22stroke%22%3A%20true%2C%20%22weight%22%3A%203%7D%0A%20%20%20%20%20%20%20%20%20%20%20%20%29.addTo%28map_df80af9bba0f4e9eb0862b3b6a21564b%29%3B%0A%20%20%20%20%20%20%20%20%0A%20%20%20%20%0A%20%20%20%20%20%20%20%20%20%20%20%20circle_marker_c4dba36431964dadb2a51d38c11f9222.bindTooltip%28%0A%20%20%20%20%20%20%20%20%20%20%20%20%20%20%20%20%60%3Cdiv%3E%0A%20%20%20%20%20%20%20%20%20%20%20%20%20%20%20%20%20%20%20%20%20Marco%20Ilardi%0A%20%20%20%20%20%20%20%20%20%20%20%20%20%20%20%20%20%3C/div%3E%60%2C%0A%20%20%20%20%20%20%20%20%20%20%20%20%20%20%20%20%7B%22sticky%22%3A%20true%7D%0A%20%20%20%20%20%20%20%20%20%20%20%20%29%3B%0A%20%20%20%20%20%20%20%20%0A%20%20%20%20%0A%20%20%20%20%20%20%20%20%20%20%20%20var%20circle_marker_12b4c8a8647f43fa91f628f9e1f83607%20%3D%20L.circleMarker%28%0A%20%20%20%20%20%20%20%20%20%20%20%20%20%20%20%20%5B39.828175%2C%20-98.5795%5D%2C%0A%20%20%20%20%20%20%20%20%20%20%20%20%20%20%20%20%7B%22bubblingMouseEvents%22%3A%20true%2C%20%22color%22%3A%20%22%233388ff%22%2C%20%22dashArray%22%3A%20null%2C%20%22dashOffset%22%3A%20null%2C%20%22fill%22%3A%20true%2C%20%22fillColor%22%3A%20%22%233186cc%22%2C%20%22fillOpacity%22%3A%200.2%2C%20%22fillRule%22%3A%20%22evenodd%22%2C%20%22lineCap%22%3A%20%22round%22%2C%20%22lineJoin%22%3A%20%22round%22%2C%20%22opacity%22%3A%201.0%2C%20%22radius%22%3A%201.5%2C%20%22stroke%22%3A%20true%2C%20%22weight%22%3A%203%7D%0A%20%20%20%20%20%20%20%20%20%20%20%20%29.addTo%28map_df80af9bba0f4e9eb0862b3b6a21564b%29%3B%0A%20%20%20%20%20%20%20%20%0A%20%20%20%20%0A%20%20%20%20%20%20%20%20%20%20%20%20circle_marker_12b4c8a8647f43fa91f628f9e1f83607.bindTooltip%28%0A%20%20%20%20%20%20%20%20%20%20%20%20%20%20%20%20%60%3Cdiv%3E%0A%20%20%20%20%20%20%20%20%20%20%20%20%20%20%20%20%20%20%20%20%20Douglas%20McIlroy%0A%20%20%20%20%20%20%20%20%20%20%20%20%20%20%20%20%20%3C/div%3E%60%2C%0A%20%20%20%20%20%20%20%20%20%20%20%20%20%20%20%20%7B%22sticky%22%3A%20true%7D%0A%20%20%20%20%20%20%20%20%20%20%20%20%29%3B%0A%20%20%20%20%20%20%20%20%0A%20%20%20%20%0A%20%20%20%20%20%20%20%20%20%20%20%20var%20circle_marker_bd730d32957648d7853f00ac3b0ffe52%20%3D%20L.circleMarker%28%0A%20%20%20%20%20%20%20%20%20%20%20%20%20%20%20%20%5B40.833333333333%2C%2014.25%5D%2C%0A%20%20%20%20%20%20%20%20%20%20%20%20%20%20%20%20%7B%22bubblingMouseEvents%22%3A%20true%2C%20%22color%22%3A%20%22%233388ff%22%2C%20%22dashArray%22%3A%20null%2C%20%22dashOffset%22%3A%20null%2C%20%22fill%22%3A%20true%2C%20%22fillColor%22%3A%20%22%233186cc%22%2C%20%22fillOpacity%22%3A%200.2%2C%20%22fillRule%22%3A%20%22evenodd%22%2C%20%22lineCap%22%3A%20%22round%22%2C%20%22lineJoin%22%3A%20%22round%22%2C%20%22opacity%22%3A%201.0%2C%20%22radius%22%3A%201.5%2C%20%22stroke%22%3A%20true%2C%20%22weight%22%3A%203%7D%0A%20%20%20%20%20%20%20%20%20%20%20%20%29.addTo%28map_df80af9bba0f4e9eb0862b3b6a21564b%29%3B%0A%20%20%20%20%20%20%20%20%0A%20%20%20%20%0A%20%20%20%20%20%20%20%20%20%20%20%20circle_marker_bd730d32957648d7853f00ac3b0ffe52.bindTooltip%28%0A%20%20%20%20%20%20%20%20%20%20%20%20%20%20%20%20%60%3Cdiv%3E%0A%20%20%20%20%20%20%20%20%20%20%20%20%20%20%20%20%20%20%20%20%20Marco%20Ilardi%0A%20%20%20%20%20%20%20%20%20%20%20%20%20%20%20%20%20%3C/div%3E%60%2C%0A%20%20%20%20%20%20%20%20%20%20%20%20%20%20%20%20%7B%22sticky%22%3A%20true%7D%0A%20%20%20%20%20%20%20%20%20%20%20%20%29%3B%0A%20%20%20%20%20%20%20%20%0A%20%20%20%20%0A%20%20%20%20%20%20%20%20%20%20%20%20var%20circle_marker_e2b3b2c336d24cf1a27c062bd0817df8%20%3D%20L.circleMarker%28%0A%20%20%20%20%20%20%20%20%20%20%20%20%20%20%20%20%5B40.833333333333%2C%2014.25%5D%2C%0A%20%20%20%20%20%20%20%20%20%20%20%20%20%20%20%20%7B%22bubblingMouseEvents%22%3A%20true%2C%20%22color%22%3A%20%22%233388ff%22%2C%20%22dashArray%22%3A%20null%2C%20%22dashOffset%22%3A%20null%2C%20%22fill%22%3A%20true%2C%20%22fillColor%22%3A%20%22%233186cc%22%2C%20%22fillOpacity%22%3A%200.2%2C%20%22fillRule%22%3A%20%22evenodd%22%2C%20%22lineCap%22%3A%20%22round%22%2C%20%22lineJoin%22%3A%20%22round%22%2C%20%22opacity%22%3A%201.0%2C%20%22radius%22%3A%201.5%2C%20%22stroke%22%3A%20true%2C%20%22weight%22%3A%203%7D%0A%20%20%20%20%20%20%20%20%20%20%20%20%29.addTo%28map_df80af9bba0f4e9eb0862b3b6a21564b%29%3B%0A%20%20%20%20%20%20%20%20%0A%20%20%20%20%0A%20%20%20%20%20%20%20%20%20%20%20%20circle_marker_e2b3b2c336d24cf1a27c062bd0817df8.bindTooltip%28%0A%20%20%20%20%20%20%20%20%20%20%20%20%20%20%20%20%60%3Cdiv%3E%0A%20%20%20%20%20%20%20%20%20%20%20%20%20%20%20%20%20%20%20%20%20Marco%20Ilardi%0A%20%20%20%20%20%20%20%20%20%20%20%20%20%20%20%20%20%3C/div%3E%60%2C%0A%20%20%20%20%20%20%20%20%20%20%20%20%20%20%20%20%7B%22sticky%22%3A%20true%7D%0A%20%20%20%20%20%20%20%20%20%20%20%20%29%3B%0A%20%20%20%20%20%20%20%20%0A%20%20%20%20%0A%20%20%20%20%20%20%20%20%20%20%20%20var%20circle_marker_5e81cfff58b94f1bb70ffb8bb797b61b%20%3D%20L.circleMarker%28%0A%20%20%20%20%20%20%20%20%20%20%20%20%20%20%20%20%5B53.902246%2C%2027.561837%5D%2C%0A%20%20%20%20%20%20%20%20%20%20%20%20%20%20%20%20%7B%22bubblingMouseEvents%22%3A%20true%2C%20%22color%22%3A%20%22%233388ff%22%2C%20%22dashArray%22%3A%20null%2C%20%22dashOffset%22%3A%20null%2C%20%22fill%22%3A%20true%2C%20%22fillColor%22%3A%20%22%233186cc%22%2C%20%22fillOpacity%22%3A%200.2%2C%20%22fillRule%22%3A%20%22evenodd%22%2C%20%22lineCap%22%3A%20%22round%22%2C%20%22lineJoin%22%3A%20%22round%22%2C%20%22opacity%22%3A%201.0%2C%20%22radius%22%3A%201.5%2C%20%22stroke%22%3A%20true%2C%20%22weight%22%3A%203%7D%0A%20%20%20%20%20%20%20%20%20%20%20%20%29.addTo%28map_df80af9bba0f4e9eb0862b3b6a21564b%29%3B%0A%20%20%20%20%20%20%20%20%0A%20%20%20%20%0A%20%20%20%20%20%20%20%20%20%20%20%20circle_marker_5e81cfff58b94f1bb70ffb8bb797b61b.bindTooltip%28%0A%20%20%20%20%20%20%20%20%20%20%20%20%20%20%20%20%60%3Cdiv%3E%0A%20%20%20%20%20%20%20%20%20%20%20%20%20%20%20%20%20%20%20%20%20Vitaly%20Zdanevich%0A%20%20%20%20%20%20%20%20%20%20%20%20%20%20%20%20%20%3C/div%3E%60%2C%0A%20%20%20%20%20%20%20%20%20%20%20%20%20%20%20%20%7B%22sticky%22%3A%20true%7D%0A%20%20%20%20%20%20%20%20%20%20%20%20%29%3B%0A%20%20%20%20%20%20%20%20%0A%20%20%20%20%0A%20%20%20%20%20%20%20%20%20%20%20%20var%20circle_marker_7943e73c8bfb4304a98eb715275db3e2%20%3D%20L.circleMarker%28%0A%20%20%20%20%20%20%20%20%20%20%20%20%20%20%20%20%5B43.074722222222%2C%20-89.384166666667%5D%2C%0A%20%20%20%20%20%20%20%20%20%20%20%20%20%20%20%20%7B%22bubblingMouseEvents%22%3A%20true%2C%20%22color%22%3A%20%22%233388ff%22%2C%20%22dashArray%22%3A%20null%2C%20%22dashOffset%22%3A%20null%2C%20%22fill%22%3A%20true%2C%20%22fillColor%22%3A%20%22%233186cc%22%2C%20%22fillOpacity%22%3A%200.2%2C%20%22fillRule%22%3A%20%22evenodd%22%2C%20%22lineCap%22%3A%20%22round%22%2C%20%22lineJoin%22%3A%20%22round%22%2C%20%22opacity%22%3A%201.0%2C%20%22radius%22%3A%201.5%2C%20%22stroke%22%3A%20true%2C%20%22weight%22%3A%203%7D%0A%20%20%20%20%20%20%20%20%20%20%20%20%29.addTo%28map_df80af9bba0f4e9eb0862b3b6a21564b%29%3B%0A%20%20%20%20%20%20%20%20%0A%20%20%20%20%0A%20%20%20%20%20%20%20%20%20%20%20%20circle_marker_7943e73c8bfb4304a98eb715275db3e2.bindTooltip%28%0A%20%20%20%20%20%20%20%20%20%20%20%20%20%20%20%20%60%3Cdiv%3E%0A%20%20%20%20%20%20%20%20%20%20%20%20%20%20%20%20%20%20%20%20%20David%20Brevik%0A%20%20%20%20%20%20%20%20%20%20%20%20%20%20%20%20%20%3C/div%3E%60%2C%0A%20%20%20%20%20%20%20%20%20%20%20%20%20%20%20%20%7B%22sticky%22%3A%20true%7D%0A%20%20%20%20%20%20%20%20%20%20%20%20%29%3B%0A%20%20%20%20%20%20%20%20%0A%20%20%20%20%0A%20%20%20%20%20%20%20%20%20%20%20%20var%20circle_marker_62bee373137b4725909264cd650a7269%20%3D%20L.circleMarker%28%0A%20%20%20%20%20%20%20%20%20%20%20%20%20%20%20%20%5B40.94%2C%20-73.826111111111%5D%2C%0A%20%20%20%20%20%20%20%20%20%20%20%20%20%20%20%20%7B%22bubblingMouseEvents%22%3A%20true%2C%20%22color%22%3A%20%22%233388ff%22%2C%20%22dashArray%22%3A%20null%2C%20%22dashOffset%22%3A%20null%2C%20%22fill%22%3A%20true%2C%20%22fillColor%22%3A%20%22%233186cc%22%2C%20%22fillOpacity%22%3A%200.2%2C%20%22fillRule%22%3A%20%22evenodd%22%2C%20%22lineCap%22%3A%20%22round%22%2C%20%22lineJoin%22%3A%20%22round%22%2C%20%22opacity%22%3A%201.0%2C%20%22radius%22%3A%201.5%2C%20%22stroke%22%3A%20true%2C%20%22weight%22%3A%203%7D%0A%20%20%20%20%20%20%20%20%20%20%20%20%29.addTo%28map_df80af9bba0f4e9eb0862b3b6a21564b%29%3B%0A%20%20%20%20%20%20%20%20%0A%20%20%20%20%0A%20%20%20%20%20%20%20%20%20%20%20%20circle_marker_62bee373137b4725909264cd650a7269.bindTooltip%28%0A%20%20%20%20%20%20%20%20%20%20%20%20%20%20%20%20%60%3Cdiv%3E%0A%20%20%20%20%20%20%20%20%20%20%20%20%20%20%20%20%20%20%20%20%20Dennis%20M.%20Ritchie%0A%20%20%20%20%20%20%20%20%20%20%20%20%20%20%20%20%20%3C/div%3E%60%2C%0A%20%20%20%20%20%20%20%20%20%20%20%20%20%20%20%20%7B%22sticky%22%3A%20true%7D%0A%20%20%20%20%20%20%20%20%20%20%20%20%29%3B%0A%20%20%20%20%20%20%20%20%0A%20%20%20%20%0A%20%20%20%20%20%20%20%20%20%20%20%20var%20circle_marker_070716d0888042cab52df5f574a68df0%20%3D%20L.circleMarker%28%0A%20%20%20%20%20%20%20%20%20%20%20%20%20%20%20%20%5B46.0%2C%20-94.0%5D%2C%0A%20%20%20%20%20%20%20%20%20%20%20%20%20%20%20%20%7B%22bubblingMouseEvents%22%3A%20true%2C%20%22color%22%3A%20%22%233388ff%22%2C%20%22dashArray%22%3A%20null%2C%20%22dashOffset%22%3A%20null%2C%20%22fill%22%3A%20true%2C%20%22fillColor%22%3A%20%22%233186cc%22%2C%20%22fillOpacity%22%3A%200.2%2C%20%22fillRule%22%3A%20%22evenodd%22%2C%20%22lineCap%22%3A%20%22round%22%2C%20%22lineJoin%22%3A%20%22round%22%2C%20%22opacity%22%3A%201.0%2C%20%22radius%22%3A%201.5%2C%20%22stroke%22%3A%20true%2C%20%22weight%22%3A%203%7D%0A%20%20%20%20%20%20%20%20%20%20%20%20%29.addTo%28map_df80af9bba0f4e9eb0862b3b6a21564b%29%3B%0A%20%20%20%20%20%20%20%20%0A%20%20%20%20%0A%20%20%20%20%20%20%20%20%20%20%20%20circle_marker_070716d0888042cab52df5f574a68df0.bindTooltip%28%0A%20%20%20%20%20%20%20%20%20%20%20%20%20%20%20%20%60%3Cdiv%3E%0A%20%20%20%20%20%20%20%20%20%20%20%20%20%20%20%20%20%20%20%20%20Douglas%20Crockford%0A%20%20%20%20%20%20%20%20%20%20%20%20%20%20%20%20%20%3C/div%3E%60%2C%0A%20%20%20%20%20%20%20%20%20%20%20%20%20%20%20%20%7B%22sticky%22%3A%20true%7D%0A%20%20%20%20%20%20%20%20%20%20%20%20%29%3B%0A%20%20%20%20%20%20%20%20%0A%20%20%20%20%0A%20%20%20%20%20%20%20%20%20%20%20%20var%20circle_marker_33fa8e2e31c34f3da03bed36241e1abf%20%3D%20L.circleMarker%28%0A%20%20%20%20%20%20%20%20%20%20%20%20%20%20%20%20%5B39.02%2C%20-94.665833333333%5D%2C%0A%20%20%20%20%20%20%20%20%20%20%20%20%20%20%20%20%7B%22bubblingMouseEvents%22%3A%20true%2C%20%22color%22%3A%20%22%233388ff%22%2C%20%22dashArray%22%3A%20null%2C%20%22dashOffset%22%3A%20null%2C%20%22fill%22%3A%20true%2C%20%22fillColor%22%3A%20%22%233186cc%22%2C%20%22fillOpacity%22%3A%200.2%2C%20%22fillRule%22%3A%20%22evenodd%22%2C%20%22lineCap%22%3A%20%22round%22%2C%20%22lineJoin%22%3A%20%22round%22%2C%20%22opacity%22%3A%201.0%2C%20%22radius%22%3A%201.5%2C%20%22stroke%22%3A%20true%2C%20%22weight%22%3A%203%7D%0A%20%20%20%20%20%20%20%20%20%20%20%20%29.addTo%28map_df80af9bba0f4e9eb0862b3b6a21564b%29%3B%0A%20%20%20%20%20%20%20%20%0A%20%20%20%20%0A%20%20%20%20%20%20%20%20%20%20%20%20circle_marker_33fa8e2e31c34f3da03bed36241e1abf.bindTooltip%28%0A%20%20%20%20%20%20%20%20%20%20%20%20%20%20%20%20%60%3Cdiv%3E%0A%20%20%20%20%20%20%20%20%20%20%20%20%20%20%20%20%20%20%20%20%20John%20Carmack%0A%20%20%20%20%20%20%20%20%20%20%20%20%20%20%20%20%20%3C/div%3E%60%2C%0A%20%20%20%20%20%20%20%20%20%20%20%20%20%20%20%20%7B%22sticky%22%3A%20true%7D%0A%20%20%20%20%20%20%20%20%20%20%20%20%29%3B%0A%20%20%20%20%20%20%20%20%0A%20%20%20%20%0A%20%20%20%20%20%20%20%20%20%20%20%20var%20circle_marker_094bd1e26cf3414dae2736b859076df7%20%3D%20L.circleMarker%28%0A%20%20%20%20%20%20%20%20%20%20%20%20%20%20%20%20%5B40.712728%2C%20-74.006015%5D%2C%0A%20%20%20%20%20%20%20%20%20%20%20%20%20%20%20%20%7B%22bubblingMouseEvents%22%3A%20true%2C%20%22color%22%3A%20%22%233388ff%22%2C%20%22dashArray%22%3A%20null%2C%20%22dashOffset%22%3A%20null%2C%20%22fill%22%3A%20true%2C%20%22fillColor%22%3A%20%22%233186cc%22%2C%20%22fillOpacity%22%3A%200.2%2C%20%22fillRule%22%3A%20%22evenodd%22%2C%20%22lineCap%22%3A%20%22round%22%2C%20%22lineJoin%22%3A%20%22round%22%2C%20%22opacity%22%3A%201.0%2C%20%22radius%22%3A%201.5%2C%20%22stroke%22%3A%20true%2C%20%22weight%22%3A%203%7D%0A%20%20%20%20%20%20%20%20%20%20%20%20%29.addTo%28map_df80af9bba0f4e9eb0862b3b6a21564b%29%3B%0A%20%20%20%20%20%20%20%20%0A%20%20%20%20%0A%20%20%20%20%20%20%20%20%20%20%20%20circle_marker_094bd1e26cf3414dae2736b859076df7.bindTooltip%28%0A%20%20%20%20%20%20%20%20%20%20%20%20%20%20%20%20%60%3Cdiv%3E%0A%20%20%20%20%20%20%20%20%20%20%20%20%20%20%20%20%20%20%20%20%20Bram%20Cohen%0A%20%20%20%20%20%20%20%20%20%20%20%20%20%20%20%20%20%3C/div%3E%60%2C%0A%20%20%20%20%20%20%20%20%20%20%20%20%20%20%20%20%7B%22sticky%22%3A%20true%7D%0A%20%20%20%20%20%20%20%20%20%20%20%20%29%3B%0A%20%20%20%20%20%20%20%20%0A%20%20%20%20%0A%20%20%20%20%20%20%20%20%20%20%20%20var%20circle_marker_5adbafbe2d8e491a92dd242ccc0f8a98%20%3D%20L.circleMarker%28%0A%20%20%20%20%20%20%20%20%20%20%20%20%20%20%20%20%5B38.553888888889%2C%20-121.73805555556%5D%2C%0A%20%20%20%20%20%20%20%20%20%20%20%20%20%20%20%20%7B%22bubblingMouseEvents%22%3A%20true%2C%20%22color%22%3A%20%22%233388ff%22%2C%20%22dashArray%22%3A%20null%2C%20%22dashOffset%22%3A%20null%2C%20%22fill%22%3A%20true%2C%20%22fillColor%22%3A%20%22%233186cc%22%2C%20%22fillOpacity%22%3A%200.2%2C%20%22fillRule%22%3A%20%22evenodd%22%2C%20%22lineCap%22%3A%20%22round%22%2C%20%22lineJoin%22%3A%20%22round%22%2C%20%22opacity%22%3A%201.0%2C%20%22radius%22%3A%201.5%2C%20%22stroke%22%3A%20true%2C%20%22weight%22%3A%203%7D%0A%20%20%20%20%20%20%20%20%20%20%20%20%29.addTo%28map_df80af9bba0f4e9eb0862b3b6a21564b%29%3B%0A%20%20%20%20%20%20%20%20%0A%20%20%20%20%0A%20%20%20%20%20%20%20%20%20%20%20%20circle_marker_5adbafbe2d8e491a92dd242ccc0f8a98.bindTooltip%28%0A%20%20%20%20%20%20%20%20%20%20%20%20%20%20%20%20%60%3Cdiv%3E%0A%20%20%20%20%20%20%20%20%20%20%20%20%20%20%20%20%20%20%20%20%20Andy%20Weir%0A%20%20%20%20%20%20%20%20%20%20%20%20%20%20%20%20%20%3C/div%3E%60%2C%0A%20%20%20%20%20%20%20%20%20%20%20%20%20%20%20%20%7B%22sticky%22%3A%20true%7D%0A%20%20%20%20%20%20%20%20%20%20%20%20%29%3B%0A%20%20%20%20%20%20%20%20%0A%20%20%20%20%0A%20%20%20%20%20%20%20%20%20%20%20%20var%20circle_marker_655d45d4a8f44c64a11add483f7446a5%20%3D%20L.circleMarker%28%0A%20%20%20%20%20%20%20%20%20%20%20%20%20%20%20%20%5B42.65%2C%20-73.766666666667%5D%2C%0A%20%20%20%20%20%20%20%20%20%20%20%20%20%20%20%20%7B%22bubblingMouseEvents%22%3A%20true%2C%20%22color%22%3A%20%22%233388ff%22%2C%20%22dashArray%22%3A%20null%2C%20%22dashOffset%22%3A%20null%2C%20%22fill%22%3A%20true%2C%20%22fillColor%22%3A%20%22%233186cc%22%2C%20%22fillOpacity%22%3A%200.2%2C%20%22fillRule%22%3A%20%22evenodd%22%2C%20%22lineCap%22%3A%20%22round%22%2C%20%22lineJoin%22%3A%20%22round%22%2C%20%22opacity%22%3A%201.0%2C%20%22radius%22%3A%201.5%2C%20%22stroke%22%3A%20true%2C%20%22weight%22%3A%203%7D%0A%20%20%20%20%20%20%20%20%20%20%20%20%29.addTo%28map_df80af9bba0f4e9eb0862b3b6a21564b%29%3B%0A%20%20%20%20%20%20%20%20%0A%20%20%20%20%0A%20%20%20%20%20%20%20%20%20%20%20%20circle_marker_655d45d4a8f44c64a11add483f7446a5.bindTooltip%28%0A%20%20%20%20%20%20%20%20%20%20%20%20%20%20%20%20%60%3Cdiv%3E%0A%20%20%20%20%20%20%20%20%20%20%20%20%20%20%20%20%20%20%20%20%20Fredrick%20Brennan%0A%20%20%20%20%20%20%20%20%20%20%20%20%20%20%20%20%20%3C/div%3E%60%2C%0A%20%20%20%20%20%20%20%20%20%20%20%20%20%20%20%20%7B%22sticky%22%3A%20true%7D%0A%20%20%20%20%20%20%20%20%20%20%20%20%29%3B%0A%20%20%20%20%20%20%20%20%0A%20%20%20%20%0A%20%20%20%20%20%20%20%20%20%20%20%20var%20circle_marker_abd7d86f42ef465c87d4f38239b7fef6%20%3D%20L.circleMarker%28%0A%20%20%20%20%20%20%20%20%20%20%20%20%20%20%20%20%5B52.216666666667%2C%2021.033333333333%5D%2C%0A%20%20%20%20%20%20%20%20%20%20%20%20%20%20%20%20%7B%22bubblingMouseEvents%22%3A%20true%2C%20%22color%22%3A%20%22%233388ff%22%2C%20%22dashArray%22%3A%20null%2C%20%22dashOffset%22%3A%20null%2C%20%22fill%22%3A%20true%2C%20%22fillColor%22%3A%20%22%233186cc%22%2C%20%22fillOpacity%22%3A%200.2%2C%20%22fillRule%22%3A%20%22evenodd%22%2C%20%22lineCap%22%3A%20%22round%22%2C%20%22lineJoin%22%3A%20%22round%22%2C%20%22opacity%22%3A%201.0%2C%20%22radius%22%3A%201.5%2C%20%22stroke%22%3A%20true%2C%20%22weight%22%3A%203%7D%0A%20%20%20%20%20%20%20%20%20%20%20%20%29.addTo%28map_df80af9bba0f4e9eb0862b3b6a21564b%29%3B%0A%20%20%20%20%20%20%20%20%0A%20%20%20%20%0A%20%20%20%20%20%20%20%20%20%20%20%20circle_marker_abd7d86f42ef465c87d4f38239b7fef6.bindTooltip%28%0A%20%20%20%20%20%20%20%20%20%20%20%20%20%20%20%20%60%3Cdiv%3E%0A%20%20%20%20%20%20%20%20%20%20%20%20%20%20%20%20%20%20%20%20%20Marcin%20Borkowski%0A%20%20%20%20%20%20%20%20%20%20%20%20%20%20%20%20%20%3C/div%3E%60%2C%0A%20%20%20%20%20%20%20%20%20%20%20%20%20%20%20%20%7B%22sticky%22%3A%20true%7D%0A%20%20%20%20%20%20%20%20%20%20%20%20%29%3B%0A%20%20%20%20%20%20%20%20%0A%20%20%20%20%0A%20%20%20%20%20%20%20%20%20%20%20%20var%20circle_marker_0f346b418793400f9ed7ecdde1300c91%20%3D%20L.circleMarker%28%0A%20%20%20%20%20%20%20%20%20%20%20%20%20%20%20%20%5B39.828175%2C%20-98.5795%5D%2C%0A%20%20%20%20%20%20%20%20%20%20%20%20%20%20%20%20%7B%22bubblingMouseEvents%22%3A%20true%2C%20%22color%22%3A%20%22%233388ff%22%2C%20%22dashArray%22%3A%20null%2C%20%22dashOffset%22%3A%20null%2C%20%22fill%22%3A%20true%2C%20%22fillColor%22%3A%20%22%233186cc%22%2C%20%22fillOpacity%22%3A%200.2%2C%20%22fillRule%22%3A%20%22evenodd%22%2C%20%22lineCap%22%3A%20%22round%22%2C%20%22lineJoin%22%3A%20%22round%22%2C%20%22opacity%22%3A%201.0%2C%20%22radius%22%3A%201.5%2C%20%22stroke%22%3A%20true%2C%20%22weight%22%3A%203%7D%0A%20%20%20%20%20%20%20%20%20%20%20%20%29.addTo%28map_df80af9bba0f4e9eb0862b3b6a21564b%29%3B%0A%20%20%20%20%20%20%20%20%0A%20%20%20%20%0A%20%20%20%20%20%20%20%20%20%20%20%20circle_marker_0f346b418793400f9ed7ecdde1300c91.bindTooltip%28%0A%20%20%20%20%20%20%20%20%20%20%20%20%20%20%20%20%60%3Cdiv%3E%0A%20%20%20%20%20%20%20%20%20%20%20%20%20%20%20%20%20%20%20%20%20Matthew%20Haughey%0A%20%20%20%20%20%20%20%20%20%20%20%20%20%20%20%20%20%3C/div%3E%60%2C%0A%20%20%20%20%20%20%20%20%20%20%20%20%20%20%20%20%7B%22sticky%22%3A%20true%7D%0A%20%20%20%20%20%20%20%20%20%20%20%20%29%3B%0A%20%20%20%20%20%20%20%20%0A%20%20%20%20%0A%20%20%20%20%20%20%20%20%20%20%20%20var%20circle_marker_7882f7e689ab403bb8fa6853f5ea1984%20%3D%20L.circleMarker%28%0A%20%20%20%20%20%20%20%20%20%20%20%20%20%20%20%20%5B39.952777777778%2C%20-75.163611111111%5D%2C%0A%20%20%20%20%20%20%20%20%20%20%20%20%20%20%20%20%7B%22bubblingMouseEvents%22%3A%20true%2C%20%22color%22%3A%20%22%233388ff%22%2C%20%22dashArray%22%3A%20null%2C%20%22dashOffset%22%3A%20null%2C%20%22fill%22%3A%20true%2C%20%22fillColor%22%3A%20%22%233186cc%22%2C%20%22fillOpacity%22%3A%200.2%2C%20%22fillRule%22%3A%20%22evenodd%22%2C%20%22lineCap%22%3A%20%22round%22%2C%20%22lineJoin%22%3A%20%22round%22%2C%20%22opacity%22%3A%201.0%2C%20%22radius%22%3A%201.5%2C%20%22stroke%22%3A%20true%2C%20%22weight%22%3A%203%7D%0A%20%20%20%20%20%20%20%20%20%20%20%20%29.addTo%28map_df80af9bba0f4e9eb0862b3b6a21564b%29%3B%0A%20%20%20%20%20%20%20%20%0A%20%20%20%20%0A%20%20%20%20%20%20%20%20%20%20%20%20circle_marker_7882f7e689ab403bb8fa6853f5ea1984.bindTooltip%28%0A%20%20%20%20%20%20%20%20%20%20%20%20%20%20%20%20%60%3Cdiv%3E%0A%20%20%20%20%20%20%20%20%20%20%20%20%20%20%20%20%20%20%20%20%20Dan%20Bricklin%0A%20%20%20%20%20%20%20%20%20%20%20%20%20%20%20%20%20%3C/div%3E%60%2C%0A%20%20%20%20%20%20%20%20%20%20%20%20%20%20%20%20%7B%22sticky%22%3A%20true%7D%0A%20%20%20%20%20%20%20%20%20%20%20%20%29%3B%0A%20%20%20%20%20%20%20%20%0A%20%20%20%20%0A%20%20%20%20%20%20%20%20%20%20%20%20var%20circle_marker_11334aef70234341896f1da7496a682d%20%3D%20L.circleMarker%28%0A%20%20%20%20%20%20%20%20%20%20%20%20%20%20%20%20%5B51.507222222222%2C%20-0.1275%5D%2C%0A%20%20%20%20%20%20%20%20%20%20%20%20%20%20%20%20%7B%22bubblingMouseEvents%22%3A%20true%2C%20%22color%22%3A%20%22%233388ff%22%2C%20%22dashArray%22%3A%20null%2C%20%22dashOffset%22%3A%20null%2C%20%22fill%22%3A%20true%2C%20%22fillColor%22%3A%20%22%233186cc%22%2C%20%22fillOpacity%22%3A%200.2%2C%20%22fillRule%22%3A%20%22evenodd%22%2C%20%22lineCap%22%3A%20%22round%22%2C%20%22lineJoin%22%3A%20%22round%22%2C%20%22opacity%22%3A%201.0%2C%20%22radius%22%3A%201.5%2C%20%22stroke%22%3A%20true%2C%20%22weight%22%3A%203%7D%0A%20%20%20%20%20%20%20%20%20%20%20%20%29.addTo%28map_df80af9bba0f4e9eb0862b3b6a21564b%29%3B%0A%20%20%20%20%20%20%20%20%0A%20%20%20%20%0A%20%20%20%20%20%20%20%20%20%20%20%20circle_marker_11334aef70234341896f1da7496a682d.bindTooltip%28%0A%20%20%20%20%20%20%20%20%20%20%20%20%20%20%20%20%60%3Cdiv%3E%0A%20%20%20%20%20%20%20%20%20%20%20%20%20%20%20%20%20%20%20%20%20Tim%20Berners-Lee%0A%20%20%20%20%20%20%20%20%20%20%20%20%20%20%20%20%20%3C/div%3E%60%2C%0A%20%20%20%20%20%20%20%20%20%20%20%20%20%20%20%20%7B%22sticky%22%3A%20true%7D%0A%20%20%20%20%20%20%20%20%20%20%20%20%29%3B%0A%20%20%20%20%20%20%20%20%0A%20%20%20%20%0A%20%20%20%20%20%20%20%20%20%20%20%20var%20circle_marker_68b83c33a12241afbc8b29525af24426%20%3D%20L.circleMarker%28%0A%20%20%20%20%20%20%20%20%20%20%20%20%20%20%20%20%5B42.485277777778%2C%20-83.376944444444%5D%2C%0A%20%20%20%20%20%20%20%20%20%20%20%20%20%20%20%20%7B%22bubblingMouseEvents%22%3A%20true%2C%20%22color%22%3A%20%22%233388ff%22%2C%20%22dashArray%22%3A%20null%2C%20%22dashOffset%22%3A%20null%2C%20%22fill%22%3A%20true%2C%20%22fillColor%22%3A%20%22%233186cc%22%2C%20%22fillOpacity%22%3A%200.2%2C%20%22fillRule%22%3A%20%22evenodd%22%2C%20%22lineCap%22%3A%20%22round%22%2C%20%22lineJoin%22%3A%20%22round%22%2C%20%22opacity%22%3A%201.0%2C%20%22radius%22%3A%201.5%2C%20%22stroke%22%3A%20true%2C%20%22weight%22%3A%203%7D%0A%20%20%20%20%20%20%20%20%20%20%20%20%29.addTo%28map_df80af9bba0f4e9eb0862b3b6a21564b%29%3B%0A%20%20%20%20%20%20%20%20%0A%20%20%20%20%0A%20%20%20%20%20%20%20%20%20%20%20%20circle_marker_68b83c33a12241afbc8b29525af24426.bindTooltip%28%0A%20%20%20%20%20%20%20%20%20%20%20%20%20%20%20%20%60%3Cdiv%3E%0A%20%20%20%20%20%20%20%20%20%20%20%20%20%20%20%20%20%20%20%20%20Bill%20Joy%0A%20%20%20%20%20%20%20%20%20%20%20%20%20%20%20%20%20%3C/div%3E%60%2C%0A%20%20%20%20%20%20%20%20%20%20%20%20%20%20%20%20%7B%22sticky%22%3A%20true%7D%0A%20%20%20%20%20%20%20%20%20%20%20%20%29%3B%0A%20%20%20%20%20%20%20%20%0A%20%20%20%20%0A%20%20%20%20%20%20%20%20%20%20%20%20var%20circle_marker_ee38fb79cb1640f29742a45f9cf23dc5%20%3D%20L.circleMarker%28%0A%20%20%20%20%20%20%20%20%20%20%20%20%20%20%20%20%5B40.712728%2C%20-74.006015%5D%2C%0A%20%20%20%20%20%20%20%20%20%20%20%20%20%20%20%20%7B%22bubblingMouseEvents%22%3A%20true%2C%20%22color%22%3A%20%22%233388ff%22%2C%20%22dashArray%22%3A%20null%2C%20%22dashOffset%22%3A%20null%2C%20%22fill%22%3A%20true%2C%20%22fillColor%22%3A%20%22%233186cc%22%2C%20%22fillOpacity%22%3A%200.2%2C%20%22fillRule%22%3A%20%22evenodd%22%2C%20%22lineCap%22%3A%20%22round%22%2C%20%22lineJoin%22%3A%20%22round%22%2C%20%22opacity%22%3A%201.0%2C%20%22radius%22%3A%201.5%2C%20%22stroke%22%3A%20true%2C%20%22weight%22%3A%203%7D%0A%20%20%20%20%20%20%20%20%20%20%20%20%29.addTo%28map_df80af9bba0f4e9eb0862b3b6a21564b%29%3B%0A%20%20%20%20%20%20%20%20%0A%20%20%20%20%0A%20%20%20%20%20%20%20%20%20%20%20%20circle_marker_ee38fb79cb1640f29742a45f9cf23dc5.bindTooltip%28%0A%20%20%20%20%20%20%20%20%20%20%20%20%20%20%20%20%60%3Cdiv%3E%0A%20%20%20%20%20%20%20%20%20%20%20%20%20%20%20%20%20%20%20%20%20Jef%20Raskin%0A%20%20%20%20%20%20%20%20%20%20%20%20%20%20%20%20%20%3C/div%3E%60%2C%0A%20%20%20%20%20%20%20%20%20%20%20%20%20%20%20%20%7B%22sticky%22%3A%20true%7D%0A%20%20%20%20%20%20%20%20%20%20%20%20%29%3B%0A%20%20%20%20%20%20%20%20%0A%20%20%20%20%0A%20%20%20%20%20%20%20%20%20%20%20%20var%20circle_marker_c1113f46817948439f278e63a6bb7aa3%20%3D%20L.circleMarker%28%0A%20%20%20%20%20%20%20%20%20%20%20%20%20%20%20%20%5B48.776111111111%2C%209.1775%5D%2C%0A%20%20%20%20%20%20%20%20%20%20%20%20%20%20%20%20%7B%22bubblingMouseEvents%22%3A%20true%2C%20%22color%22%3A%20%22%233388ff%22%2C%20%22dashArray%22%3A%20null%2C%20%22dashOffset%22%3A%20null%2C%20%22fill%22%3A%20true%2C%20%22fillColor%22%3A%20%22%233186cc%22%2C%20%22fillOpacity%22%3A%200.2%2C%20%22fillRule%22%3A%20%22evenodd%22%2C%20%22lineCap%22%3A%20%22round%22%2C%20%22lineJoin%22%3A%20%22round%22%2C%20%22opacity%22%3A%201.0%2C%20%22radius%22%3A%201.5%2C%20%22stroke%22%3A%20true%2C%20%22weight%22%3A%203%7D%0A%20%20%20%20%20%20%20%20%20%20%20%20%29.addTo%28map_df80af9bba0f4e9eb0862b3b6a21564b%29%3B%0A%20%20%20%20%20%20%20%20%0A%20%20%20%20%0A%20%20%20%20%20%20%20%20%20%20%20%20circle_marker_c1113f46817948439f278e63a6bb7aa3.bindTooltip%28%0A%20%20%20%20%20%20%20%20%20%20%20%20%20%20%20%20%60%3Cdiv%3E%0A%20%20%20%20%20%20%20%20%20%20%20%20%20%20%20%20%20%20%20%20%20Denny%20Vrande%C4%8Di%C4%87%0A%20%20%20%20%20%20%20%20%20%20%20%20%20%20%20%20%20%3C/div%3E%60%2C%0A%20%20%20%20%20%20%20%20%20%20%20%20%20%20%20%20%7B%22sticky%22%3A%20true%7D%0A%20%20%20%20%20%20%20%20%20%20%20%20%29%3B%0A%20%20%20%20%20%20%20%20%0A%20%20%20%20%0A%20%20%20%20%20%20%20%20%20%20%20%20var%20circle_marker_61ed41b0baac4148ac7a487b37a6b836%20%3D%20L.circleMarker%28%0A%20%20%20%20%20%20%20%20%20%20%20%20%20%20%20%20%5B40.712728%2C%20-74.006015%5D%2C%0A%20%20%20%20%20%20%20%20%20%20%20%20%20%20%20%20%7B%22bubblingMouseEvents%22%3A%20true%2C%20%22color%22%3A%20%22%233388ff%22%2C%20%22dashArray%22%3A%20null%2C%20%22dashOffset%22%3A%20null%2C%20%22fill%22%3A%20true%2C%20%22fillColor%22%3A%20%22%233186cc%22%2C%20%22fillOpacity%22%3A%200.2%2C%20%22fillRule%22%3A%20%22evenodd%22%2C%20%22lineCap%22%3A%20%22round%22%2C%20%22lineJoin%22%3A%20%22round%22%2C%20%22opacity%22%3A%201.0%2C%20%22radius%22%3A%201.5%2C%20%22stroke%22%3A%20true%2C%20%22weight%22%3A%203%7D%0A%20%20%20%20%20%20%20%20%20%20%20%20%29.addTo%28map_df80af9bba0f4e9eb0862b3b6a21564b%29%3B%0A%20%20%20%20%20%20%20%20%0A%20%20%20%20%0A%20%20%20%20%20%20%20%20%20%20%20%20circle_marker_61ed41b0baac4148ac7a487b37a6b836.bindTooltip%28%0A%20%20%20%20%20%20%20%20%20%20%20%20%20%20%20%20%60%3Cdiv%3E%0A%20%20%20%20%20%20%20%20%20%20%20%20%20%20%20%20%20%20%20%20%20Naomi%20Novik%0A%20%20%20%20%20%20%20%20%20%20%20%20%20%20%20%20%20%3C/div%3E%60%2C%0A%20%20%20%20%20%20%20%20%20%20%20%20%20%20%20%20%7B%22sticky%22%3A%20true%7D%0A%20%20%20%20%20%20%20%20%20%20%20%20%29%3B%0A%20%20%20%20%20%20%20%20%0A%20%20%20%20%0A%20%20%20%20%20%20%20%20%20%20%20%20var%20circle_marker_47ef1c5c282d48d4891d80ed8bac9d79%20%3D%20L.circleMarker%28%0A%20%20%20%20%20%20%20%20%20%20%20%20%20%20%20%20%5B12.0%2C%20123.0%5D%2C%0A%20%20%20%20%20%20%20%20%20%20%20%20%20%20%20%20%7B%22bubblingMouseEvents%22%3A%20true%2C%20%22color%22%3A%20%22%233388ff%22%2C%20%22dashArray%22%3A%20null%2C%20%22dashOffset%22%3A%20null%2C%20%22fill%22%3A%20true%2C%20%22fillColor%22%3A%20%22%233186cc%22%2C%20%22fillOpacity%22%3A%200.2%2C%20%22fillRule%22%3A%20%22evenodd%22%2C%20%22lineCap%22%3A%20%22round%22%2C%20%22lineJoin%22%3A%20%22round%22%2C%20%22opacity%22%3A%201.0%2C%20%22radius%22%3A%201.5%2C%20%22stroke%22%3A%20true%2C%20%22weight%22%3A%203%7D%0A%20%20%20%20%20%20%20%20%20%20%20%20%29.addTo%28map_df80af9bba0f4e9eb0862b3b6a21564b%29%3B%0A%20%20%20%20%20%20%20%20%0A%20%20%20%20%0A%20%20%20%20%20%20%20%20%20%20%20%20circle_marker_47ef1c5c282d48d4891d80ed8bac9d79.bindTooltip%28%0A%20%20%20%20%20%20%20%20%20%20%20%20%20%20%20%20%60%3Cdiv%3E%0A%20%20%20%20%20%20%20%20%20%20%20%20%20%20%20%20%20%20%20%20%20Khayri%20R.R.%20Woulfe%0A%20%20%20%20%20%20%20%20%20%20%20%20%20%20%20%20%20%3C/div%3E%60%2C%0A%20%20%20%20%20%20%20%20%20%20%20%20%20%20%20%20%7B%22sticky%22%3A%20true%7D%0A%20%20%20%20%20%20%20%20%20%20%20%20%29%3B%0A%20%20%20%20%20%20%20%20%0A%20%20%20%20%0A%20%20%20%20%20%20%20%20%20%20%20%20var%20circle_marker_4e09b5e62abc4c6e872239d7aeea5e17%20%3D%20L.circleMarker%28%0A%20%20%20%20%20%20%20%20%20%20%20%20%20%20%20%20%5B29.95465%2C%20-90.07507%5D%2C%0A%20%20%20%20%20%20%20%20%20%20%20%20%20%20%20%20%7B%22bubblingMouseEvents%22%3A%20true%2C%20%22color%22%3A%20%22%233388ff%22%2C%20%22dashArray%22%3A%20null%2C%20%22dashOffset%22%3A%20null%2C%20%22fill%22%3A%20true%2C%20%22fillColor%22%3A%20%22%233186cc%22%2C%20%22fillOpacity%22%3A%200.2%2C%20%22fillRule%22%3A%20%22evenodd%22%2C%20%22lineCap%22%3A%20%22round%22%2C%20%22lineJoin%22%3A%20%22round%22%2C%20%22opacity%22%3A%201.0%2C%20%22radius%22%3A%201.5%2C%20%22stroke%22%3A%20true%2C%20%22weight%22%3A%203%7D%0A%20%20%20%20%20%20%20%20%20%20%20%20%29.addTo%28map_df80af9bba0f4e9eb0862b3b6a21564b%29%3B%0A%20%20%20%20%20%20%20%20%0A%20%20%20%20%0A%20%20%20%20%20%20%20%20%20%20%20%20circle_marker_4e09b5e62abc4c6e872239d7aeea5e17.bindTooltip%28%0A%20%20%20%20%20%20%20%20%20%20%20%20%20%20%20%20%60%3Cdiv%3E%0A%20%20%20%20%20%20%20%20%20%20%20%20%20%20%20%20%20%20%20%20%20Ken%20Thompson%0A%20%20%20%20%20%20%20%20%20%20%20%20%20%20%20%20%20%3C/div%3E%60%2C%0A%20%20%20%20%20%20%20%20%20%20%20%20%20%20%20%20%7B%22sticky%22%3A%20true%7D%0A%20%20%20%20%20%20%20%20%20%20%20%20%29%3B%0A%20%20%20%20%20%20%20%20%0A%20%20%20%20%0A%20%20%20%20%20%20%20%20%20%20%20%20var%20circle_marker_a22c7f581cea4599a7d9f50848438bc5%20%3D%20L.circleMarker%28%0A%20%20%20%20%20%20%20%20%20%20%20%20%20%20%20%20%5B29.95465%2C%20-90.07507%5D%2C%0A%20%20%20%20%20%20%20%20%20%20%20%20%20%20%20%20%7B%22bubblingMouseEvents%22%3A%20true%2C%20%22color%22%3A%20%22%233388ff%22%2C%20%22dashArray%22%3A%20null%2C%20%22dashOffset%22%3A%20null%2C%20%22fill%22%3A%20true%2C%20%22fillColor%22%3A%20%22%233186cc%22%2C%20%22fillOpacity%22%3A%200.2%2C%20%22fillRule%22%3A%20%22evenodd%22%2C%20%22lineCap%22%3A%20%22round%22%2C%20%22lineJoin%22%3A%20%22round%22%2C%20%22opacity%22%3A%201.0%2C%20%22radius%22%3A%201.5%2C%20%22stroke%22%3A%20true%2C%20%22weight%22%3A%203%7D%0A%20%20%20%20%20%20%20%20%20%20%20%20%29.addTo%28map_df80af9bba0f4e9eb0862b3b6a21564b%29%3B%0A%20%20%20%20%20%20%20%20%0A%20%20%20%20%0A%20%20%20%20%20%20%20%20%20%20%20%20circle_marker_a22c7f581cea4599a7d9f50848438bc5.bindTooltip%28%0A%20%20%20%20%20%20%20%20%20%20%20%20%20%20%20%20%60%3Cdiv%3E%0A%20%20%20%20%20%20%20%20%20%20%20%20%20%20%20%20%20%20%20%20%20Ken%20Thompson%0A%20%20%20%20%20%20%20%20%20%20%20%20%20%20%20%20%20%3C/div%3E%60%2C%0A%20%20%20%20%20%20%20%20%20%20%20%20%20%20%20%20%7B%22sticky%22%3A%20true%7D%0A%20%20%20%20%20%20%20%20%20%20%20%20%29%3B%0A%20%20%20%20%20%20%20%20%0A%20%20%20%20%0A%20%20%20%20%20%20%20%20%20%20%20%20var%20circle_marker_8c20a5919ef6475ba25b91ff9c66aa55%20%3D%20L.circleMarker%28%0A%20%20%20%20%20%20%20%20%20%20%20%20%20%20%20%20%5B50.45%2C%2030.523611111111%5D%2C%0A%20%20%20%20%20%20%20%20%20%20%20%20%20%20%20%20%7B%22bubblingMouseEvents%22%3A%20true%2C%20%22color%22%3A%20%22%233388ff%22%2C%20%22dashArray%22%3A%20null%2C%20%22dashOffset%22%3A%20null%2C%20%22fill%22%3A%20true%2C%20%22fillColor%22%3A%20%22%233186cc%22%2C%20%22fillOpacity%22%3A%200.2%2C%20%22fillRule%22%3A%20%22evenodd%22%2C%20%22lineCap%22%3A%20%22round%22%2C%20%22lineJoin%22%3A%20%22round%22%2C%20%22opacity%22%3A%201.0%2C%20%22radius%22%3A%201.5%2C%20%22stroke%22%3A%20true%2C%20%22weight%22%3A%203%7D%0A%20%20%20%20%20%20%20%20%20%20%20%20%29.addTo%28map_df80af9bba0f4e9eb0862b3b6a21564b%29%3B%0A%20%20%20%20%20%20%20%20%0A%20%20%20%20%0A%20%20%20%20%20%20%20%20%20%20%20%20circle_marker_8c20a5919ef6475ba25b91ff9c66aa55.bindTooltip%28%0A%20%20%20%20%20%20%20%20%20%20%20%20%20%20%20%20%60%3Cdiv%3E%0A%20%20%20%20%20%20%20%20%20%20%20%20%20%20%20%20%20%20%20%20%20Victor%20Celer%0A%20%20%20%20%20%20%20%20%20%20%20%20%20%20%20%20%20%3C/div%3E%60%2C%0A%20%20%20%20%20%20%20%20%20%20%20%20%20%20%20%20%7B%22sticky%22%3A%20true%7D%0A%20%20%20%20%20%20%20%20%20%20%20%20%29%3B%0A%20%20%20%20%20%20%20%20%0A%20%20%20%20%0A%20%20%20%20%20%20%20%20%20%20%20%20var%20circle_marker_3a93248c11e9488b9591e49f8eeda21b%20%3D%20L.circleMarker%28%0A%20%20%20%20%20%20%20%20%20%20%20%20%20%20%20%20%5B42.358333333333%2C%20-71.0625%5D%2C%0A%20%20%20%20%20%20%20%20%20%20%20%20%20%20%20%20%7B%22bubblingMouseEvents%22%3A%20true%2C%20%22color%22%3A%20%22%233388ff%22%2C%20%22dashArray%22%3A%20null%2C%20%22dashOffset%22%3A%20null%2C%20%22fill%22%3A%20true%2C%20%22fillColor%22%3A%20%22%233186cc%22%2C%20%22fillOpacity%22%3A%200.2%2C%20%22fillRule%22%3A%20%22evenodd%22%2C%20%22lineCap%22%3A%20%22round%22%2C%20%22lineJoin%22%3A%20%22round%22%2C%20%22opacity%22%3A%201.0%2C%20%22radius%22%3A%201.5%2C%20%22stroke%22%3A%20true%2C%20%22weight%22%3A%203%7D%0A%20%20%20%20%20%20%20%20%20%20%20%20%29.addTo%28map_df80af9bba0f4e9eb0862b3b6a21564b%29%3B%0A%20%20%20%20%20%20%20%20%0A%20%20%20%20%0A%20%20%20%20%20%20%20%20%20%20%20%20circle_marker_3a93248c11e9488b9591e49f8eeda21b.bindTooltip%28%0A%20%20%20%20%20%20%20%20%20%20%20%20%20%20%20%20%60%3Cdiv%3E%0A%20%20%20%20%20%20%20%20%20%20%20%20%20%20%20%20%20%20%20%20%20John%20Resig%0A%20%20%20%20%20%20%20%20%20%20%20%20%20%20%20%20%20%3C/div%3E%60%2C%0A%20%20%20%20%20%20%20%20%20%20%20%20%20%20%20%20%7B%22sticky%22%3A%20true%7D%0A%20%20%20%20%20%20%20%20%20%20%20%20%29%3B%0A%20%20%20%20%20%20%20%20%0A%20%20%20%20%0A%20%20%20%20%20%20%20%20%20%20%20%20var%20circle_marker_85d981842fa643849d1a2581aa4182de%20%3D%20L.circleMarker%28%0A%20%20%20%20%20%20%20%20%20%20%20%20%20%20%20%20%5B40.441666666667%2C%20-80.0%5D%2C%0A%20%20%20%20%20%20%20%20%20%20%20%20%20%20%20%20%7B%22bubblingMouseEvents%22%3A%20true%2C%20%22color%22%3A%20%22%233388ff%22%2C%20%22dashArray%22%3A%20null%2C%20%22dashOffset%22%3A%20null%2C%20%22fill%22%3A%20true%2C%20%22fillColor%22%3A%20%22%233186cc%22%2C%20%22fillOpacity%22%3A%200.2%2C%20%22fillRule%22%3A%20%22evenodd%22%2C%20%22lineCap%22%3A%20%22round%22%2C%20%22lineJoin%22%3A%20%22round%22%2C%20%22opacity%22%3A%201.0%2C%20%22radius%22%3A%201.5%2C%20%22stroke%22%3A%20true%2C%20%22weight%22%3A%203%7D%0A%20%20%20%20%20%20%20%20%20%20%20%20%29.addTo%28map_df80af9bba0f4e9eb0862b3b6a21564b%29%3B%0A%20%20%20%20%20%20%20%20%0A%20%20%20%20%0A%20%20%20%20%20%20%20%20%20%20%20%20circle_marker_85d981842fa643849d1a2581aa4182de.bindTooltip%28%0A%20%20%20%20%20%20%20%20%20%20%20%20%20%20%20%20%60%3Cdiv%3E%0A%20%20%20%20%20%20%20%20%20%20%20%20%20%20%20%20%20%20%20%20%20Brendan%20Eich%0A%20%20%20%20%20%20%20%20%20%20%20%20%20%20%20%20%20%3C/div%3E%60%2C%0A%20%20%20%20%20%20%20%20%20%20%20%20%20%20%20%20%7B%22sticky%22%3A%20true%7D%0A%20%20%20%20%20%20%20%20%20%20%20%20%29%3B%0A%20%20%20%20%20%20%20%20%0A%20%20%20%20%0A%20%20%20%20%20%20%20%20%20%20%20%20var%20circle_marker_800da628ad51481f96d7f58e541a59f7%20%3D%20L.circleMarker%28%0A%20%20%20%20%20%20%20%20%20%20%20%20%20%20%20%20%5B51.9225%2C%204.47917%5D%2C%0A%20%20%20%20%20%20%20%20%20%20%20%20%20%20%20%20%7B%22bubblingMouseEvents%22%3A%20true%2C%20%22color%22%3A%20%22%233388ff%22%2C%20%22dashArray%22%3A%20null%2C%20%22dashOffset%22%3A%20null%2C%20%22fill%22%3A%20true%2C%20%22fillColor%22%3A%20%22%233186cc%22%2C%20%22fillOpacity%22%3A%200.2%2C%20%22fillRule%22%3A%20%22evenodd%22%2C%20%22lineCap%22%3A%20%22round%22%2C%20%22lineJoin%22%3A%20%22round%22%2C%20%22opacity%22%3A%201.0%2C%20%22radius%22%3A%201.5%2C%20%22stroke%22%3A%20true%2C%20%22weight%22%3A%203%7D%0A%20%20%20%20%20%20%20%20%20%20%20%20%29.addTo%28map_df80af9bba0f4e9eb0862b3b6a21564b%29%3B%0A%20%20%20%20%20%20%20%20%0A%20%20%20%20%0A%20%20%20%20%20%20%20%20%20%20%20%20circle_marker_800da628ad51481f96d7f58e541a59f7.bindTooltip%28%0A%20%20%20%20%20%20%20%20%20%20%20%20%20%20%20%20%60%3Cdiv%3E%0A%20%20%20%20%20%20%20%20%20%20%20%20%20%20%20%20%20%20%20%20%20Adriaan%20van%20Wijngaarden%0A%20%20%20%20%20%20%20%20%20%20%20%20%20%20%20%20%20%3C/div%3E%60%2C%0A%20%20%20%20%20%20%20%20%20%20%20%20%20%20%20%20%7B%22sticky%22%3A%20true%7D%0A%20%20%20%20%20%20%20%20%20%20%20%20%29%3B%0A%20%20%20%20%20%20%20%20%0A%20%20%20%20%0A%20%20%20%20%20%20%20%20%20%20%20%20var%20circle_marker_346f1855c6b646b2adecb4458e388642%20%3D%20L.circleMarker%28%0A%20%20%20%20%20%20%20%20%20%20%20%20%20%20%20%20%5B6.9166666666667%2C%2079.833333333333%5D%2C%0A%20%20%20%20%20%20%20%20%20%20%20%20%20%20%20%20%7B%22bubblingMouseEvents%22%3A%20true%2C%20%22color%22%3A%20%22%233388ff%22%2C%20%22dashArray%22%3A%20null%2C%20%22dashOffset%22%3A%20null%2C%20%22fill%22%3A%20true%2C%20%22fillColor%22%3A%20%22%233186cc%22%2C%20%22fillOpacity%22%3A%200.2%2C%20%22fillRule%22%3A%20%22evenodd%22%2C%20%22lineCap%22%3A%20%22round%22%2C%20%22lineJoin%22%3A%20%22round%22%2C%20%22opacity%22%3A%201.0%2C%20%22radius%22%3A%201.5%2C%20%22stroke%22%3A%20true%2C%20%22weight%22%3A%203%7D%0A%20%20%20%20%20%20%20%20%20%20%20%20%29.addTo%28map_df80af9bba0f4e9eb0862b3b6a21564b%29%3B%0A%20%20%20%20%20%20%20%20%0A%20%20%20%20%0A%20%20%20%20%20%20%20%20%20%20%20%20circle_marker_346f1855c6b646b2adecb4458e388642.bindTooltip%28%0A%20%20%20%20%20%20%20%20%20%20%20%20%20%20%20%20%60%3Cdiv%3E%0A%20%20%20%20%20%20%20%20%20%20%20%20%20%20%20%20%20%20%20%20%20Tony%20Hoare%0A%20%20%20%20%20%20%20%20%20%20%20%20%20%20%20%20%20%3C/div%3E%60%2C%0A%20%20%20%20%20%20%20%20%20%20%20%20%20%20%20%20%7B%22sticky%22%3A%20true%7D%0A%20%20%20%20%20%20%20%20%20%20%20%20%29%3B%0A%20%20%20%20%20%20%20%20%0A%20%20%20%20%0A%20%20%20%20%20%20%20%20%20%20%20%20var%20circle_marker_3a67954e225f43ea90a11a191ae7e94b%20%3D%20L.circleMarker%28%0A%20%20%20%20%20%20%20%20%20%20%20%20%20%20%20%20%5B37.304166666667%2C%20-121.87277777778%5D%2C%0A%20%20%20%20%20%20%20%20%20%20%20%20%20%20%20%20%7B%22bubblingMouseEvents%22%3A%20true%2C%20%22color%22%3A%20%22%233388ff%22%2C%20%22dashArray%22%3A%20null%2C%20%22dashOffset%22%3A%20null%2C%20%22fill%22%3A%20true%2C%20%22fillColor%22%3A%20%22%233186cc%22%2C%20%22fillOpacity%22%3A%200.2%2C%20%22fillRule%22%3A%20%22evenodd%22%2C%20%22lineCap%22%3A%20%22round%22%2C%20%22lineJoin%22%3A%20%22round%22%2C%20%22opacity%22%3A%201.0%2C%20%22radius%22%3A%201.5%2C%20%22stroke%22%3A%20true%2C%20%22weight%22%3A%203%7D%0A%20%20%20%20%20%20%20%20%20%20%20%20%29.addTo%28map_df80af9bba0f4e9eb0862b3b6a21564b%29%3B%0A%20%20%20%20%20%20%20%20%0A%20%20%20%20%0A%20%20%20%20%20%20%20%20%20%20%20%20circle_marker_3a67954e225f43ea90a11a191ae7e94b.bindTooltip%28%0A%20%20%20%20%20%20%20%20%20%20%20%20%20%20%20%20%60%3Cdiv%3E%0A%20%20%20%20%20%20%20%20%20%20%20%20%20%20%20%20%20%20%20%20%20Steve%20Wozniak%0A%20%20%20%20%20%20%20%20%20%20%20%20%20%20%20%20%20%3C/div%3E%60%2C%0A%20%20%20%20%20%20%20%20%20%20%20%20%20%20%20%20%7B%22sticky%22%3A%20true%7D%0A%20%20%20%20%20%20%20%20%20%20%20%20%29%3B%0A%20%20%20%20%20%20%20%20%0A%20%20%20%20%0A%20%20%20%20%20%20%20%20%20%20%20%20var%20circle_marker_7409fb026e9c48d8af82c1e8cecbc2b9%20%3D%20L.circleMarker%28%0A%20%20%20%20%20%20%20%20%20%20%20%20%20%20%20%20%5B39.952777777778%2C%20-75.163611111111%5D%2C%0A%20%20%20%20%20%20%20%20%20%20%20%20%20%20%20%20%7B%22bubblingMouseEvents%22%3A%20true%2C%20%22color%22%3A%20%22%233388ff%22%2C%20%22dashArray%22%3A%20null%2C%20%22dashOffset%22%3A%20null%2C%20%22fill%22%3A%20true%2C%20%22fillColor%22%3A%20%22%233186cc%22%2C%20%22fillOpacity%22%3A%200.2%2C%20%22fillRule%22%3A%20%22evenodd%22%2C%20%22lineCap%22%3A%20%22round%22%2C%20%22lineJoin%22%3A%20%22round%22%2C%20%22opacity%22%3A%201.0%2C%20%22radius%22%3A%201.5%2C%20%22stroke%22%3A%20true%2C%20%22weight%22%3A%203%7D%0A%20%20%20%20%20%20%20%20%20%20%20%20%29.addTo%28map_df80af9bba0f4e9eb0862b3b6a21564b%29%3B%0A%20%20%20%20%20%20%20%20%0A%20%20%20%20%0A%20%20%20%20%20%20%20%20%20%20%20%20circle_marker_7409fb026e9c48d8af82c1e8cecbc2b9.bindTooltip%28%0A%20%20%20%20%20%20%20%20%20%20%20%20%20%20%20%20%60%3Cdiv%3E%0A%20%20%20%20%20%20%20%20%20%20%20%20%20%20%20%20%20%20%20%20%20Betty%20Holberton%0A%20%20%20%20%20%20%20%20%20%20%20%20%20%20%20%20%20%3C/div%3E%60%2C%0A%20%20%20%20%20%20%20%20%20%20%20%20%20%20%20%20%7B%22sticky%22%3A%20true%7D%0A%20%20%20%20%20%20%20%20%20%20%20%20%29%3B%0A%20%20%20%20%20%20%20%20%0A%20%20%20%20%0A%20%20%20%20%20%20%20%20%20%20%20%20var%20circle_marker_371cf05c5afa4633ae4e092097f4a9fd%20%3D%20L.circleMarker%28%0A%20%20%20%20%20%20%20%20%20%20%20%20%20%20%20%20%5B37.304166666667%2C%20-121.87277777778%5D%2C%0A%20%20%20%20%20%20%20%20%20%20%20%20%20%20%20%20%7B%22bubblingMouseEvents%22%3A%20true%2C%20%22color%22%3A%20%22%233388ff%22%2C%20%22dashArray%22%3A%20null%2C%20%22dashOffset%22%3A%20null%2C%20%22fill%22%3A%20true%2C%20%22fillColor%22%3A%20%22%233186cc%22%2C%20%22fillOpacity%22%3A%200.2%2C%20%22fillRule%22%3A%20%22evenodd%22%2C%20%22lineCap%22%3A%20%22round%22%2C%20%22lineJoin%22%3A%20%22round%22%2C%20%22opacity%22%3A%201.0%2C%20%22radius%22%3A%201.5%2C%20%22stroke%22%3A%20true%2C%20%22weight%22%3A%203%7D%0A%20%20%20%20%20%20%20%20%20%20%20%20%29.addTo%28map_df80af9bba0f4e9eb0862b3b6a21564b%29%3B%0A%20%20%20%20%20%20%20%20%0A%20%20%20%20%0A%20%20%20%20%20%20%20%20%20%20%20%20circle_marker_371cf05c5afa4633ae4e092097f4a9fd.bindTooltip%28%0A%20%20%20%20%20%20%20%20%20%20%20%20%20%20%20%20%60%3Cdiv%3E%0A%20%20%20%20%20%20%20%20%20%20%20%20%20%20%20%20%20%20%20%20%20Steve%20Wozniak%0A%20%20%20%20%20%20%20%20%20%20%20%20%20%20%20%20%20%3C/div%3E%60%2C%0A%20%20%20%20%20%20%20%20%20%20%20%20%20%20%20%20%7B%22sticky%22%3A%20true%7D%0A%20%20%20%20%20%20%20%20%20%20%20%20%29%3B%0A%20%20%20%20%20%20%20%20%0A%20%20%20%20%0A%20%20%20%20%20%20%20%20%20%20%20%20var%20circle_marker_08841a7cb9454ba1883e5a295da2144d%20%3D%20L.circleMarker%28%0A%20%20%20%20%20%20%20%20%20%20%20%20%20%20%20%20%5B56.0%2C%20-109.0%5D%2C%0A%20%20%20%20%20%20%20%20%20%20%20%20%20%20%20%20%7B%22bubblingMouseEvents%22%3A%20true%2C%20%22color%22%3A%20%22%233388ff%22%2C%20%22dashArray%22%3A%20null%2C%20%22dashOffset%22%3A%20null%2C%20%22fill%22%3A%20true%2C%20%22fillColor%22%3A%20%22%233186cc%22%2C%20%22fillOpacity%22%3A%200.2%2C%20%22fillRule%22%3A%20%22evenodd%22%2C%20%22lineCap%22%3A%20%22round%22%2C%20%22lineJoin%22%3A%20%22round%22%2C%20%22opacity%22%3A%201.0%2C%20%22radius%22%3A%201.5%2C%20%22stroke%22%3A%20true%2C%20%22weight%22%3A%203%7D%0A%20%20%20%20%20%20%20%20%20%20%20%20%29.addTo%28map_df80af9bba0f4e9eb0862b3b6a21564b%29%3B%0A%20%20%20%20%20%20%20%20%0A%20%20%20%20%0A%20%20%20%20%20%20%20%20%20%20%20%20circle_marker_08841a7cb9454ba1883e5a295da2144d.bindTooltip%28%0A%20%20%20%20%20%20%20%20%20%20%20%20%20%20%20%20%60%3Cdiv%3E%0A%20%20%20%20%20%20%20%20%20%20%20%20%20%20%20%20%20%20%20%20%20David%20Baszucki%0A%20%20%20%20%20%20%20%20%20%20%20%20%20%20%20%20%20%3C/div%3E%60%2C%0A%20%20%20%20%20%20%20%20%20%20%20%20%20%20%20%20%7B%22sticky%22%3A%20true%7D%0A%20%20%20%20%20%20%20%20%20%20%20%20%29%3B%0A%20%20%20%20%20%20%20%20%0A%20%20%20%20%0A%20%20%20%20%20%20%20%20%20%20%20%20var%20circle_marker_eb87fa5af3f747e393d3eb7967c812d5%20%3D%20L.circleMarker%28%0A%20%20%20%20%20%20%20%20%20%20%20%20%20%20%20%20%5B42.1825%2C%20-87.806944444444%5D%2C%0A%20%20%20%20%20%20%20%20%20%20%20%20%20%20%20%20%7B%22bubblingMouseEvents%22%3A%20true%2C%20%22color%22%3A%20%22%233388ff%22%2C%20%22dashArray%22%3A%20null%2C%20%22dashOffset%22%3A%20null%2C%20%22fill%22%3A%20true%2C%20%22fillColor%22%3A%20%22%233186cc%22%2C%20%22fillOpacity%22%3A%200.2%2C%20%22fillRule%22%3A%20%22evenodd%22%2C%20%22lineCap%22%3A%20%22round%22%2C%20%22lineJoin%22%3A%20%22round%22%2C%20%22opacity%22%3A%201.0%2C%20%22radius%22%3A%201.5%2C%20%22stroke%22%3A%20true%2C%20%22weight%22%3A%203%7D%0A%20%20%20%20%20%20%20%20%20%20%20%20%29.addTo%28map_df80af9bba0f4e9eb0862b3b6a21564b%29%3B%0A%20%20%20%20%20%20%20%20%0A%20%20%20%20%0A%20%20%20%20%20%20%20%20%20%20%20%20circle_marker_eb87fa5af3f747e393d3eb7967c812d5.bindTooltip%28%0A%20%20%20%20%20%20%20%20%20%20%20%20%20%20%20%20%60%3Cdiv%3E%0A%20%20%20%20%20%20%20%20%20%20%20%20%20%20%20%20%20%20%20%20%20Aaron%20Swartz%0A%20%20%20%20%20%20%20%20%20%20%20%20%20%20%20%20%20%3C/div%3E%60%2C%0A%20%20%20%20%20%20%20%20%20%20%20%20%20%20%20%20%7B%22sticky%22%3A%20true%7D%0A%20%20%20%20%20%20%20%20%20%20%20%20%29%3B%0A%20%20%20%20%20%20%20%20%0A%20%20%20%20%0A%20%20%20%20%20%20%20%20%20%20%20%20var%20circle_marker_b6573efcb46f440e82e8bdc5264570d9%20%3D%20L.circleMarker%28%0A%20%20%20%20%20%20%20%20%20%20%20%20%20%20%20%20%5B-33.866666666667%2C%20151.2%5D%2C%0A%20%20%20%20%20%20%20%20%20%20%20%20%20%20%20%20%7B%22bubblingMouseEvents%22%3A%20true%2C%20%22color%22%3A%20%22%233388ff%22%2C%20%22dashArray%22%3A%20null%2C%20%22dashOffset%22%3A%20null%2C%20%22fill%22%3A%20true%2C%20%22fillColor%22%3A%20%22%233186cc%22%2C%20%22fillOpacity%22%3A%200.2%2C%20%22fillRule%22%3A%20%22evenodd%22%2C%20%22lineCap%22%3A%20%22round%22%2C%20%22lineJoin%22%3A%20%22round%22%2C%20%22opacity%22%3A%201.0%2C%20%22radius%22%3A%201.5%2C%20%22stroke%22%3A%20true%2C%20%22weight%22%3A%203%7D%0A%20%20%20%20%20%20%20%20%20%20%20%20%29.addTo%28map_df80af9bba0f4e9eb0862b3b6a21564b%29%3B%0A%20%20%20%20%20%20%20%20%0A%20%20%20%20%0A%20%20%20%20%20%20%20%20%20%20%20%20circle_marker_b6573efcb46f440e82e8bdc5264570d9.bindTooltip%28%0A%20%20%20%20%20%20%20%20%20%20%20%20%20%20%20%20%60%3Cdiv%3E%0A%20%20%20%20%20%20%20%20%20%20%20%20%20%20%20%20%20%20%20%20%20Andrew%20Tridgell%0A%20%20%20%20%20%20%20%20%20%20%20%20%20%20%20%20%20%3C/div%3E%60%2C%0A%20%20%20%20%20%20%20%20%20%20%20%20%20%20%20%20%7B%22sticky%22%3A%20true%7D%0A%20%20%20%20%20%20%20%20%20%20%20%20%29%3B%0A%20%20%20%20%20%20%20%20%0A%20%20%20%20%0A%20%20%20%20%20%20%20%20%20%20%20%20var%20circle_marker_f58aeadf44b645b9b5b240a0ab438db0%20%3D%20L.circleMarker%28%0A%20%20%20%20%20%20%20%20%20%20%20%20%20%20%20%20%5B55.708313018551%2C%2013.199164196669%5D%2C%0A%20%20%20%20%20%20%20%20%20%20%20%20%20%20%20%20%7B%22bubblingMouseEvents%22%3A%20true%2C%20%22color%22%3A%20%22%233388ff%22%2C%20%22dashArray%22%3A%20null%2C%20%22dashOffset%22%3A%20null%2C%20%22fill%22%3A%20true%2C%20%22fillColor%22%3A%20%22%233186cc%22%2C%20%22fillOpacity%22%3A%200.2%2C%20%22fillRule%22%3A%20%22evenodd%22%2C%20%22lineCap%22%3A%20%22round%22%2C%20%22lineJoin%22%3A%20%22round%22%2C%20%22opacity%22%3A%201.0%2C%20%22radius%22%3A%201.5%2C%20%22stroke%22%3A%20true%2C%20%22weight%22%3A%203%7D%0A%20%20%20%20%20%20%20%20%20%20%20%20%29.addTo%28map_df80af9bba0f4e9eb0862b3b6a21564b%29%3B%0A%20%20%20%20%20%20%20%20%0A%20%20%20%20%0A%20%20%20%20%20%20%20%20%20%20%20%20circle_marker_f58aeadf44b645b9b5b240a0ab438db0.bindTooltip%28%0A%20%20%20%20%20%20%20%20%20%20%20%20%20%20%20%20%60%3Cdiv%3E%0A%20%20%20%20%20%20%20%20%20%20%20%20%20%20%20%20%20%20%20%20%20Sverker%20Johansson%0A%20%20%20%20%20%20%20%20%20%20%20%20%20%20%20%20%20%3C/div%3E%60%2C%0A%20%20%20%20%20%20%20%20%20%20%20%20%20%20%20%20%7B%22sticky%22%3A%20true%7D%0A%20%20%20%20%20%20%20%20%20%20%20%20%29%3B%0A%20%20%20%20%20%20%20%20%0A%20%20%20%20%0A%20%20%20%20%20%20%20%20%20%20%20%20var%20circle_marker_d25169994fb04d908accec2695989977%20%3D%20L.circleMarker%28%0A%20%20%20%20%20%20%20%20%20%20%20%20%20%20%20%20%5B54.6%2C%20-2.0%5D%2C%0A%20%20%20%20%20%20%20%20%20%20%20%20%20%20%20%20%7B%22bubblingMouseEvents%22%3A%20true%2C%20%22color%22%3A%20%22%233388ff%22%2C%20%22dashArray%22%3A%20null%2C%20%22dashOffset%22%3A%20null%2C%20%22fill%22%3A%20true%2C%20%22fillColor%22%3A%20%22%233186cc%22%2C%20%22fillOpacity%22%3A%200.2%2C%20%22fillRule%22%3A%20%22evenodd%22%2C%20%22lineCap%22%3A%20%22round%22%2C%20%22lineJoin%22%3A%20%22round%22%2C%20%22opacity%22%3A%201.0%2C%20%22radius%22%3A%201.5%2C%20%22stroke%22%3A%20true%2C%20%22weight%22%3A%203%7D%0A%20%20%20%20%20%20%20%20%20%20%20%20%29.addTo%28map_df80af9bba0f4e9eb0862b3b6a21564b%29%3B%0A%20%20%20%20%20%20%20%20%0A%20%20%20%20%0A%20%20%20%20%20%20%20%20%20%20%20%20circle_marker_d25169994fb04d908accec2695989977.bindTooltip%28%0A%20%20%20%20%20%20%20%20%20%20%20%20%20%20%20%20%60%3Cdiv%3E%0A%20%20%20%20%20%20%20%20%20%20%20%20%20%20%20%20%20%20%20%20%20Simon%20Tatham%0A%20%20%20%20%20%20%20%20%20%20%20%20%20%20%20%20%20%3C/div%3E%60%2C%0A%20%20%20%20%20%20%20%20%20%20%20%20%20%20%20%20%7B%22sticky%22%3A%20true%7D%0A%20%20%20%20%20%20%20%20%20%20%20%20%29%3B%0A%20%20%20%20%20%20%20%20%0A%20%20%20%20%0A%20%20%20%20%20%20%20%20%20%20%20%20var%20circle_marker_faa57ebce2144c438c94f1b3e83a2169%20%3D%20L.circleMarker%28%0A%20%20%20%20%20%20%20%20%20%20%20%20%20%20%20%20%5B34.686388888889%2C%20135.52%5D%2C%0A%20%20%20%20%20%20%20%20%20%20%20%20%20%20%20%20%7B%22bubblingMouseEvents%22%3A%20true%2C%20%22color%22%3A%20%22%233388ff%22%2C%20%22dashArray%22%3A%20null%2C%20%22dashOffset%22%3A%20null%2C%20%22fill%22%3A%20true%2C%20%22fillColor%22%3A%20%22%233186cc%22%2C%20%22fillOpacity%22%3A%200.2%2C%20%22fillRule%22%3A%20%22evenodd%22%2C%20%22lineCap%22%3A%20%22round%22%2C%20%22lineJoin%22%3A%20%22round%22%2C%20%22opacity%22%3A%201.0%2C%20%22radius%22%3A%201.5%2C%20%22stroke%22%3A%20true%2C%20%22weight%22%3A%203%7D%0A%20%20%20%20%20%20%20%20%20%20%20%20%29.addTo%28map_df80af9bba0f4e9eb0862b3b6a21564b%29%3B%0A%20%20%20%20%20%20%20%20%0A%20%20%20%20%0A%20%20%20%20%20%20%20%20%20%20%20%20circle_marker_faa57ebce2144c438c94f1b3e83a2169.bindTooltip%28%0A%20%20%20%20%20%20%20%20%20%20%20%20%20%20%20%20%60%3Cdiv%3E%0A%20%20%20%20%20%20%20%20%20%20%20%20%20%20%20%20%20%20%20%20%20Yukihiro%20Matsumoto%0A%20%20%20%20%20%20%20%20%20%20%20%20%20%20%20%20%20%3C/div%3E%60%2C%0A%20%20%20%20%20%20%20%20%20%20%20%20%20%20%20%20%7B%22sticky%22%3A%20true%7D%0A%20%20%20%20%20%20%20%20%20%20%20%20%29%3B%0A%20%20%20%20%20%20%20%20%0A%20%20%20%20%0A%20%20%20%20%20%20%20%20%20%20%20%20var%20circle_marker_3684cca3b4fa4a62bb2c3d82e94394f1%20%3D%20L.circleMarker%28%0A%20%20%20%20%20%20%20%20%20%20%20%20%20%20%20%20%5B37.0%2C%20-120.0%5D%2C%0A%20%20%20%20%20%20%20%20%20%20%20%20%20%20%20%20%7B%22bubblingMouseEvents%22%3A%20true%2C%20%22color%22%3A%20%22%233388ff%22%2C%20%22dashArray%22%3A%20null%2C%20%22dashOffset%22%3A%20null%2C%20%22fill%22%3A%20true%2C%20%22fillColor%22%3A%20%22%233186cc%22%2C%20%22fillOpacity%22%3A%200.2%2C%20%22fillRule%22%3A%20%22evenodd%22%2C%20%22lineCap%22%3A%20%22round%22%2C%20%22lineJoin%22%3A%20%22round%22%2C%20%22opacity%22%3A%201.0%2C%20%22radius%22%3A%201.5%2C%20%22stroke%22%3A%20true%2C%20%22weight%22%3A%203%7D%0A%20%20%20%20%20%20%20%20%20%20%20%20%29.addTo%28map_df80af9bba0f4e9eb0862b3b6a21564b%29%3B%0A%20%20%20%20%20%20%20%20%0A%20%20%20%20%0A%20%20%20%20%20%20%20%20%20%20%20%20circle_marker_3684cca3b4fa4a62bb2c3d82e94394f1.bindTooltip%28%0A%20%20%20%20%20%20%20%20%20%20%20%20%20%20%20%20%60%3Cdiv%3E%0A%20%20%20%20%20%20%20%20%20%20%20%20%20%20%20%20%20%20%20%20%20Leonard%20Adleman%0A%20%20%20%20%20%20%20%20%20%20%20%20%20%20%20%20%20%3C/div%3E%60%2C%0A%20%20%20%20%20%20%20%20%20%20%20%20%20%20%20%20%7B%22sticky%22%3A%20true%7D%0A%20%20%20%20%20%20%20%20%20%20%20%20%29%3B%0A%20%20%20%20%20%20%20%20%0A%20%20%20%20%0A%20%20%20%20%20%20%20%20%20%20%20%20var%20circle_marker_b0e30e6969f0475d855edac21a246430%20%3D%20L.circleMarker%28%0A%20%20%20%20%20%20%20%20%20%20%20%20%20%20%20%20%5B50.6%2C%2032.4%5D%2C%0A%20%20%20%20%20%20%20%20%20%20%20%20%20%20%20%20%7B%22bubblingMouseEvents%22%3A%20true%2C%20%22color%22%3A%20%22%233388ff%22%2C%20%22dashArray%22%3A%20null%2C%20%22dashOffset%22%3A%20null%2C%20%22fill%22%3A%20true%2C%20%22fillColor%22%3A%20%22%233186cc%22%2C%20%22fillOpacity%22%3A%200.2%2C%20%22fillRule%22%3A%20%22evenodd%22%2C%20%22lineCap%22%3A%20%22round%22%2C%20%22lineJoin%22%3A%20%22round%22%2C%20%22opacity%22%3A%201.0%2C%20%22radius%22%3A%201.5%2C%20%22stroke%22%3A%20true%2C%20%22weight%22%3A%203%7D%0A%20%20%20%20%20%20%20%20%20%20%20%20%29.addTo%28map_df80af9bba0f4e9eb0862b3b6a21564b%29%3B%0A%20%20%20%20%20%20%20%20%0A%20%20%20%20%0A%20%20%20%20%20%20%20%20%20%20%20%20circle_marker_b0e30e6969f0475d855edac21a246430.bindTooltip%28%0A%20%20%20%20%20%20%20%20%20%20%20%20%20%20%20%20%60%3Cdiv%3E%0A%20%20%20%20%20%20%20%20%20%20%20%20%20%20%20%20%20%20%20%20%20Sergey%20Vakulenko%0A%20%20%20%20%20%20%20%20%20%20%20%20%20%20%20%20%20%3C/div%3E%60%2C%0A%20%20%20%20%20%20%20%20%20%20%20%20%20%20%20%20%7B%22sticky%22%3A%20true%7D%0A%20%20%20%20%20%20%20%20%20%20%20%20%29%3B%0A%20%20%20%20%20%20%20%20%0A%20%20%20%20%0A%20%20%20%20%20%20%20%20%20%20%20%20var%20circle_marker_3ff9bfcb17cd40cc9866758140a41c0a%20%3D%20L.circleMarker%28%0A%20%20%20%20%20%20%20%20%20%20%20%20%20%20%20%20%5B40.688333333333%2C%20-75.216388888889%5D%2C%0A%20%20%20%20%20%20%20%20%20%20%20%20%20%20%20%20%7B%22bubblingMouseEvents%22%3A%20true%2C%20%22color%22%3A%20%22%233388ff%22%2C%20%22dashArray%22%3A%20null%2C%20%22dashOffset%22%3A%20null%2C%20%22fill%22%3A%20true%2C%20%22fillColor%22%3A%20%22%233186cc%22%2C%20%22fillOpacity%22%3A%200.2%2C%20%22fillRule%22%3A%20%22evenodd%22%2C%20%22lineCap%22%3A%20%22round%22%2C%20%22lineJoin%22%3A%20%22round%22%2C%20%22opacity%22%3A%201.0%2C%20%22radius%22%3A%201.5%2C%20%22stroke%22%3A%20true%2C%20%22weight%22%3A%203%7D%0A%20%20%20%20%20%20%20%20%20%20%20%20%29.addTo%28map_df80af9bba0f4e9eb0862b3b6a21564b%29%3B%0A%20%20%20%20%20%20%20%20%0A%20%20%20%20%0A%20%20%20%20%20%20%20%20%20%20%20%20circle_marker_3ff9bfcb17cd40cc9866758140a41c0a.bindTooltip%28%0A%20%20%20%20%20%20%20%20%20%20%20%20%20%20%20%20%60%3Cdiv%3E%0A%20%20%20%20%20%20%20%20%20%20%20%20%20%20%20%20%20%20%20%20%20Randall%20Munroe%0A%20%20%20%20%20%20%20%20%20%20%20%20%20%20%20%20%20%3C/div%3E%60%2C%0A%20%20%20%20%20%20%20%20%20%20%20%20%20%20%20%20%7B%22sticky%22%3A%20true%7D%0A%20%20%20%20%20%20%20%20%20%20%20%20%29%3B%0A%20%20%20%20%20%20%20%20%0A%20%20%20%20%0A%20%20%20%20%20%20%20%20%20%20%20%20var%20circle_marker_8b45c4764817421c960013a5e42e33a9%20%3D%20L.circleMarker%28%0A%20%20%20%20%20%20%20%20%20%20%20%20%20%20%20%20%5B40.688333333333%2C%20-75.216388888889%5D%2C%0A%20%20%20%20%20%20%20%20%20%20%20%20%20%20%20%20%7B%22bubblingMouseEvents%22%3A%20true%2C%20%22color%22%3A%20%22%233388ff%22%2C%20%22dashArray%22%3A%20null%2C%20%22dashOffset%22%3A%20null%2C%20%22fill%22%3A%20true%2C%20%22fillColor%22%3A%20%22%233186cc%22%2C%20%22fillOpacity%22%3A%200.2%2C%20%22fillRule%22%3A%20%22evenodd%22%2C%20%22lineCap%22%3A%20%22round%22%2C%20%22lineJoin%22%3A%20%22round%22%2C%20%22opacity%22%3A%201.0%2C%20%22radius%22%3A%201.5%2C%20%22stroke%22%3A%20true%2C%20%22weight%22%3A%203%7D%0A%20%20%20%20%20%20%20%20%20%20%20%20%29.addTo%28map_df80af9bba0f4e9eb0862b3b6a21564b%29%3B%0A%20%20%20%20%20%20%20%20%0A%20%20%20%20%0A%20%20%20%20%20%20%20%20%20%20%20%20circle_marker_8b45c4764817421c960013a5e42e33a9.bindTooltip%28%0A%20%20%20%20%20%20%20%20%20%20%20%20%20%20%20%20%60%3Cdiv%3E%0A%20%20%20%20%20%20%20%20%20%20%20%20%20%20%20%20%20%20%20%20%20Randall%20Munroe%0A%20%20%20%20%20%20%20%20%20%20%20%20%20%20%20%20%20%3C/div%3E%60%2C%0A%20%20%20%20%20%20%20%20%20%20%20%20%20%20%20%20%7B%22sticky%22%3A%20true%7D%0A%20%20%20%20%20%20%20%20%20%20%20%20%29%3B%0A%20%20%20%20%20%20%20%20%0A%20%20%20%20%0A%20%20%20%20%20%20%20%20%20%20%20%20var%20circle_marker_6e7f5ec7e2fd4dd191dff2d4689e6c37%20%3D%20L.circleMarker%28%0A%20%20%20%20%20%20%20%20%20%20%20%20%20%20%20%20%5B39.952777777778%2C%20-75.163611111111%5D%2C%0A%20%20%20%20%20%20%20%20%20%20%20%20%20%20%20%20%7B%22bubblingMouseEvents%22%3A%20true%2C%20%22color%22%3A%20%22%233388ff%22%2C%20%22dashArray%22%3A%20null%2C%20%22dashOffset%22%3A%20null%2C%20%22fill%22%3A%20true%2C%20%22fillColor%22%3A%20%22%233186cc%22%2C%20%22fillOpacity%22%3A%200.2%2C%20%22fillRule%22%3A%20%22evenodd%22%2C%20%22lineCap%22%3A%20%22round%22%2C%20%22lineJoin%22%3A%20%22round%22%2C%20%22opacity%22%3A%201.0%2C%20%22radius%22%3A%201.5%2C%20%22stroke%22%3A%20true%2C%20%22weight%22%3A%203%7D%0A%20%20%20%20%20%20%20%20%20%20%20%20%29.addTo%28map_df80af9bba0f4e9eb0862b3b6a21564b%29%3B%0A%20%20%20%20%20%20%20%20%0A%20%20%20%20%0A%20%20%20%20%20%20%20%20%20%20%20%20circle_marker_6e7f5ec7e2fd4dd191dff2d4689e6c37.bindTooltip%28%0A%20%20%20%20%20%20%20%20%20%20%20%20%20%20%20%20%60%3Cdiv%3E%0A%20%20%20%20%20%20%20%20%20%20%20%20%20%20%20%20%20%20%20%20%20Edith%20Windsor%0A%20%20%20%20%20%20%20%20%20%20%20%20%20%20%20%20%20%3C/div%3E%60%2C%0A%20%20%20%20%20%20%20%20%20%20%20%20%20%20%20%20%7B%22sticky%22%3A%20true%7D%0A%20%20%20%20%20%20%20%20%20%20%20%20%29%3B%0A%20%20%20%20%20%20%20%20%0A%20%20%20%20%0A%20%20%20%20%20%20%20%20%20%20%20%20var%20circle_marker_168b8ed14ac34349b2963c4723d9fdb4%20%3D%20L.circleMarker%28%0A%20%20%20%20%20%20%20%20%20%20%20%20%20%20%20%20%5B34.05223%2C%20-118.24368%5D%2C%0A%20%20%20%20%20%20%20%20%20%20%20%20%20%20%20%20%7B%22bubblingMouseEvents%22%3A%20true%2C%20%22color%22%3A%20%22%233388ff%22%2C%20%22dashArray%22%3A%20null%2C%20%22dashOffset%22%3A%20null%2C%20%22fill%22%3A%20true%2C%20%22fillColor%22%3A%20%22%233186cc%22%2C%20%22fillOpacity%22%3A%200.2%2C%20%22fillRule%22%3A%20%22evenodd%22%2C%20%22lineCap%22%3A%20%22round%22%2C%20%22lineJoin%22%3A%20%22round%22%2C%20%22opacity%22%3A%201.0%2C%20%22radius%22%3A%201.5%2C%20%22stroke%22%3A%20true%2C%20%22weight%22%3A%203%7D%0A%20%20%20%20%20%20%20%20%20%20%20%20%29.addTo%28map_df80af9bba0f4e9eb0862b3b6a21564b%29%3B%0A%20%20%20%20%20%20%20%20%0A%20%20%20%20%0A%20%20%20%20%20%20%20%20%20%20%20%20circle_marker_168b8ed14ac34349b2963c4723d9fdb4.bindTooltip%28%0A%20%20%20%20%20%20%20%20%20%20%20%20%20%20%20%20%60%3Cdiv%3E%0A%20%20%20%20%20%20%20%20%20%20%20%20%20%20%20%20%20%20%20%20%20Larry%20Wall%0A%20%20%20%20%20%20%20%20%20%20%20%20%20%20%20%20%20%3C/div%3E%60%2C%0A%20%20%20%20%20%20%20%20%20%20%20%20%20%20%20%20%7B%22sticky%22%3A%20true%7D%0A%20%20%20%20%20%20%20%20%20%20%20%20%29%3B%0A%20%20%20%20%20%20%20%20%0A%20%20%20%20%0A%20%20%20%20%20%20%20%20%20%20%20%20var%20circle_marker_8e10eba0823649168377a96cf0493fc1%20%3D%20L.circleMarker%28%0A%20%20%20%20%20%20%20%20%20%20%20%20%20%20%20%20%5B41.881944444444%2C%20-87.627777777778%5D%2C%0A%20%20%20%20%20%20%20%20%20%20%20%20%20%20%20%20%7B%22bubblingMouseEvents%22%3A%20true%2C%20%22color%22%3A%20%22%233388ff%22%2C%20%22dashArray%22%3A%20null%2C%20%22dashOffset%22%3A%20null%2C%20%22fill%22%3A%20true%2C%20%22fillColor%22%3A%20%22%233186cc%22%2C%20%22fillOpacity%22%3A%200.2%2C%20%22fillRule%22%3A%20%22evenodd%22%2C%20%22lineCap%22%3A%20%22round%22%2C%20%22lineJoin%22%3A%20%22round%22%2C%20%22opacity%22%3A%201.0%2C%20%22radius%22%3A%201.5%2C%20%22stroke%22%3A%20true%2C%20%22weight%22%3A%203%7D%0A%20%20%20%20%20%20%20%20%20%20%20%20%29.addTo%28map_df80af9bba0f4e9eb0862b3b6a21564b%29%3B%0A%20%20%20%20%20%20%20%20%0A%20%20%20%20%0A%20%20%20%20%20%20%20%20%20%20%20%20circle_marker_8e10eba0823649168377a96cf0493fc1.bindTooltip%28%0A%20%20%20%20%20%20%20%20%20%20%20%20%20%20%20%20%60%3Cdiv%3E%0A%20%20%20%20%20%20%20%20%20%20%20%20%20%20%20%20%20%20%20%20%20Ed%20Boon%0A%20%20%20%20%20%20%20%20%20%20%20%20%20%20%20%20%20%3C/div%3E%60%2C%0A%20%20%20%20%20%20%20%20%20%20%20%20%20%20%20%20%7B%22sticky%22%3A%20true%7D%0A%20%20%20%20%20%20%20%20%20%20%20%20%29%3B%0A%20%20%20%20%20%20%20%20%0A%20%20%20%20%0A%20%20%20%20%20%20%20%20%20%20%20%20var%20circle_marker_639b83cebd754051a2bee97cb02133b3%20%3D%20L.circleMarker%28%0A%20%20%20%20%20%20%20%20%20%20%20%20%20%20%20%20%5B40.712728%2C%20-74.006015%5D%2C%0A%20%20%20%20%20%20%20%20%20%20%20%20%20%20%20%20%7B%22bubblingMouseEvents%22%3A%20true%2C%20%22color%22%3A%20%22%233388ff%22%2C%20%22dashArray%22%3A%20null%2C%20%22dashOffset%22%3A%20null%2C%20%22fill%22%3A%20true%2C%20%22fillColor%22%3A%20%22%233186cc%22%2C%20%22fillOpacity%22%3A%200.2%2C%20%22fillRule%22%3A%20%22evenodd%22%2C%20%22lineCap%22%3A%20%22round%22%2C%20%22lineJoin%22%3A%20%22round%22%2C%20%22opacity%22%3A%201.0%2C%20%22radius%22%3A%201.5%2C%20%22stroke%22%3A%20true%2C%20%22weight%22%3A%203%7D%0A%20%20%20%20%20%20%20%20%20%20%20%20%29.addTo%28map_df80af9bba0f4e9eb0862b3b6a21564b%29%3B%0A%20%20%20%20%20%20%20%20%0A%20%20%20%20%0A%20%20%20%20%20%20%20%20%20%20%20%20circle_marker_639b83cebd754051a2bee97cb02133b3.bindTooltip%28%0A%20%20%20%20%20%20%20%20%20%20%20%20%20%20%20%20%60%3Cdiv%3E%0A%20%20%20%20%20%20%20%20%20%20%20%20%20%20%20%20%20%20%20%20%20Leslie%20Lamport%0A%20%20%20%20%20%20%20%20%20%20%20%20%20%20%20%20%20%3C/div%3E%60%2C%0A%20%20%20%20%20%20%20%20%20%20%20%20%20%20%20%20%7B%22sticky%22%3A%20true%7D%0A%20%20%20%20%20%20%20%20%20%20%20%20%29%3B%0A%20%20%20%20%20%20%20%20%0A%20%20%20%20%0A%20%20%20%20%20%20%20%20%20%20%20%20var%20circle_marker_47c3c334f0a545d9a03a0d45f2b7f565%20%3D%20L.circleMarker%28%0A%20%20%20%20%20%20%20%20%20%20%20%20%20%20%20%20%5B40.728333333333%2C%20-73.994166666667%5D%2C%0A%20%20%20%20%20%20%20%20%20%20%20%20%20%20%20%20%7B%22bubblingMouseEvents%22%3A%20true%2C%20%22color%22%3A%20%22%233388ff%22%2C%20%22dashArray%22%3A%20null%2C%20%22dashOffset%22%3A%20null%2C%20%22fill%22%3A%20true%2C%20%22fillColor%22%3A%20%22%233186cc%22%2C%20%22fillOpacity%22%3A%200.2%2C%20%22fillRule%22%3A%20%22evenodd%22%2C%20%22lineCap%22%3A%20%22round%22%2C%20%22lineJoin%22%3A%20%22round%22%2C%20%22opacity%22%3A%201.0%2C%20%22radius%22%3A%201.5%2C%20%22stroke%22%3A%20true%2C%20%22weight%22%3A%203%7D%0A%20%20%20%20%20%20%20%20%20%20%20%20%29.addTo%28map_df80af9bba0f4e9eb0862b3b6a21564b%29%3B%0A%20%20%20%20%20%20%20%20%0A%20%20%20%20%0A%20%20%20%20%20%20%20%20%20%20%20%20circle_marker_47c3c334f0a545d9a03a0d45f2b7f565.bindTooltip%28%0A%20%20%20%20%20%20%20%20%20%20%20%20%20%20%20%20%60%3Cdiv%3E%0A%20%20%20%20%20%20%20%20%20%20%20%20%20%20%20%20%20%20%20%20%20Richard%20Stallman%0A%20%20%20%20%20%20%20%20%20%20%20%20%20%20%20%20%20%3C/div%3E%60%2C%0A%20%20%20%20%20%20%20%20%20%20%20%20%20%20%20%20%7B%22sticky%22%3A%20true%7D%0A%20%20%20%20%20%20%20%20%20%20%20%20%29%3B%0A%20%20%20%20%20%20%20%20%0A%20%20%20%20%0A%20%20%20%20%20%20%20%20%20%20%20%20var%20circle_marker_165fb17b76d340eebf52ec4c8eefbb58%20%3D%20L.circleMarker%28%0A%20%20%20%20%20%20%20%20%20%20%20%20%20%20%20%20%5B43.670277777778%2C%20-79.386666666667%5D%2C%0A%20%20%20%20%20%20%20%20%20%20%20%20%20%20%20%20%7B%22bubblingMouseEvents%22%3A%20true%2C%20%22color%22%3A%20%22%233388ff%22%2C%20%22dashArray%22%3A%20null%2C%20%22dashOffset%22%3A%20null%2C%20%22fill%22%3A%20true%2C%20%22fillColor%22%3A%20%22%233186cc%22%2C%20%22fillOpacity%22%3A%200.2%2C%20%22fillRule%22%3A%20%22evenodd%22%2C%20%22lineCap%22%3A%20%22round%22%2C%20%22lineJoin%22%3A%20%22round%22%2C%20%22opacity%22%3A%201.0%2C%20%22radius%22%3A%201.5%2C%20%22stroke%22%3A%20true%2C%20%22weight%22%3A%203%7D%0A%20%20%20%20%20%20%20%20%20%20%20%20%29.addTo%28map_df80af9bba0f4e9eb0862b3b6a21564b%29%3B%0A%20%20%20%20%20%20%20%20%0A%20%20%20%20%0A%20%20%20%20%20%20%20%20%20%20%20%20circle_marker_165fb17b76d340eebf52ec4c8eefbb58.bindTooltip%28%0A%20%20%20%20%20%20%20%20%20%20%20%20%20%20%20%20%60%3Cdiv%3E%0A%20%20%20%20%20%20%20%20%20%20%20%20%20%20%20%20%20%20%20%20%20Brian%20Kernighan%0A%20%20%20%20%20%20%20%20%20%20%20%20%20%20%20%20%20%3C/div%3E%60%2C%0A%20%20%20%20%20%20%20%20%20%20%20%20%20%20%20%20%7B%22sticky%22%3A%20true%7D%0A%20%20%20%20%20%20%20%20%20%20%20%20%29%3B%0A%20%20%20%20%20%20%20%20%0A%20%20%20%20%0A%20%20%20%20%20%20%20%20%20%20%20%20var%20circle_marker_1729824d7fae4438b233017f876a5cfc%20%3D%20L.circleMarker%28%0A%20%20%20%20%20%20%20%20%20%20%20%20%20%20%20%20%5B-14.0%2C%20-53.0%5D%2C%0A%20%20%20%20%20%20%20%20%20%20%20%20%20%20%20%20%7B%22bubblingMouseEvents%22%3A%20true%2C%20%22color%22%3A%20%22%233388ff%22%2C%20%22dashArray%22%3A%20null%2C%20%22dashOffset%22%3A%20null%2C%20%22fill%22%3A%20true%2C%20%22fillColor%22%3A%20%22%233186cc%22%2C%20%22fillOpacity%22%3A%200.2%2C%20%22fillRule%22%3A%20%22evenodd%22%2C%20%22lineCap%22%3A%20%22round%22%2C%20%22lineJoin%22%3A%20%22round%22%2C%20%22opacity%22%3A%201.0%2C%20%22radius%22%3A%201.5%2C%20%22stroke%22%3A%20true%2C%20%22weight%22%3A%203%7D%0A%20%20%20%20%20%20%20%20%20%20%20%20%29.addTo%28map_df80af9bba0f4e9eb0862b3b6a21564b%29%3B%0A%20%20%20%20%20%20%20%20%0A%20%20%20%20%0A%20%20%20%20%20%20%20%20%20%20%20%20circle_marker_1729824d7fae4438b233017f876a5cfc.bindTooltip%28%0A%20%20%20%20%20%20%20%20%20%20%20%20%20%20%20%20%60%3Cdiv%3E%0A%20%20%20%20%20%20%20%20%20%20%20%20%20%20%20%20%20%20%20%20%20Alexandre%20Oliva%0A%20%20%20%20%20%20%20%20%20%20%20%20%20%20%20%20%20%3C/div%3E%60%2C%0A%20%20%20%20%20%20%20%20%20%20%20%20%20%20%20%20%7B%22sticky%22%3A%20true%7D%0A%20%20%20%20%20%20%20%20%20%20%20%20%29%3B%0A%20%20%20%20%20%20%20%20%0A%20%20%20%20%0A%20%20%20%20%20%20%20%20%20%20%20%20var%20circle_marker_92b1285d168b42dc946087eb863d205c%20%3D%20L.circleMarker%28%0A%20%20%20%20%20%20%20%20%20%20%20%20%20%20%20%20%5B43.058055555556%2C%20-88.018333333333%5D%2C%0A%20%20%20%20%20%20%20%20%20%20%20%20%20%20%20%20%7B%22bubblingMouseEvents%22%3A%20true%2C%20%22color%22%3A%20%22%233388ff%22%2C%20%22dashArray%22%3A%20null%2C%20%22dashOffset%22%3A%20null%2C%20%22fill%22%3A%20true%2C%20%22fillColor%22%3A%20%22%233186cc%22%2C%20%22fillOpacity%22%3A%200.2%2C%20%22fillRule%22%3A%20%22evenodd%22%2C%20%22lineCap%22%3A%20%22round%22%2C%20%22lineJoin%22%3A%20%22round%22%2C%20%22opacity%22%3A%201.0%2C%20%22radius%22%3A%201.5%2C%20%22stroke%22%3A%20true%2C%20%22weight%22%3A%203%7D%0A%20%20%20%20%20%20%20%20%20%20%20%20%29.addTo%28map_df80af9bba0f4e9eb0862b3b6a21564b%29%3B%0A%20%20%20%20%20%20%20%20%0A%20%20%20%20%0A%20%20%20%20%20%20%20%20%20%20%20%20circle_marker_92b1285d168b42dc946087eb863d205c.bindTooltip%28%0A%20%20%20%20%20%20%20%20%20%20%20%20%20%20%20%20%60%3Cdiv%3E%0A%20%20%20%20%20%20%20%20%20%20%20%20%20%20%20%20%20%20%20%20%20Terry%20A.%20Davis%0A%20%20%20%20%20%20%20%20%20%20%20%20%20%20%20%20%20%3C/div%3E%60%2C%0A%20%20%20%20%20%20%20%20%20%20%20%20%20%20%20%20%7B%22sticky%22%3A%20true%7D%0A%20%20%20%20%20%20%20%20%20%20%20%20%29%3B%0A%20%20%20%20%20%20%20%20%0A%20%20%20%20%0A%20%20%20%20%20%20%20%20%20%20%20%20var%20circle_marker_188ef6fb92b04531a3b0ce6226d60b1a%20%3D%20L.circleMarker%28%0A%20%20%20%20%20%20%20%20%20%20%20%20%20%20%20%20%5B43.058055555556%2C%20-88.018333333333%5D%2C%0A%20%20%20%20%20%20%20%20%20%20%20%20%20%20%20%20%7B%22bubblingMouseEvents%22%3A%20true%2C%20%22color%22%3A%20%22%233388ff%22%2C%20%22dashArray%22%3A%20null%2C%20%22dashOffset%22%3A%20null%2C%20%22fill%22%3A%20true%2C%20%22fillColor%22%3A%20%22%233186cc%22%2C%20%22fillOpacity%22%3A%200.2%2C%20%22fillRule%22%3A%20%22evenodd%22%2C%20%22lineCap%22%3A%20%22round%22%2C%20%22lineJoin%22%3A%20%22round%22%2C%20%22opacity%22%3A%201.0%2C%20%22radius%22%3A%201.5%2C%20%22stroke%22%3A%20true%2C%20%22weight%22%3A%203%7D%0A%20%20%20%20%20%20%20%20%20%20%20%20%29.addTo%28map_df80af9bba0f4e9eb0862b3b6a21564b%29%3B%0A%20%20%20%20%20%20%20%20%0A%20%20%20%20%0A%20%20%20%20%20%20%20%20%20%20%20%20circle_marker_188ef6fb92b04531a3b0ce6226d60b1a.bindTooltip%28%0A%20%20%20%20%20%20%20%20%20%20%20%20%20%20%20%20%60%3Cdiv%3E%0A%20%20%20%20%20%20%20%20%20%20%20%20%20%20%20%20%20%20%20%20%20Terry%20A.%20Davis%0A%20%20%20%20%20%20%20%20%20%20%20%20%20%20%20%20%20%3C/div%3E%60%2C%0A%20%20%20%20%20%20%20%20%20%20%20%20%20%20%20%20%7B%22sticky%22%3A%20true%7D%0A%20%20%20%20%20%20%20%20%20%20%20%20%29%3B%0A%20%20%20%20%20%20%20%20%0A%20%20%20%20%0A%20%20%20%20%20%20%20%20%20%20%20%20var%20circle_marker_c3c5cbcde39f4905a19f4be15069bdb5%20%3D%20L.circleMarker%28%0A%20%20%20%20%20%20%20%20%20%20%20%20%20%20%20%20%5B60.17556%2C%2024.93417%5D%2C%0A%20%20%20%20%20%20%20%20%20%20%20%20%20%20%20%20%7B%22bubblingMouseEvents%22%3A%20true%2C%20%22color%22%3A%20%22%233388ff%22%2C%20%22dashArray%22%3A%20null%2C%20%22dashOffset%22%3A%20null%2C%20%22fill%22%3A%20true%2C%20%22fillColor%22%3A%20%22%233186cc%22%2C%20%22fillOpacity%22%3A%200.2%2C%20%22fillRule%22%3A%20%22evenodd%22%2C%20%22lineCap%22%3A%20%22round%22%2C%20%22lineJoin%22%3A%20%22round%22%2C%20%22opacity%22%3A%201.0%2C%20%22radius%22%3A%201.5%2C%20%22stroke%22%3A%20true%2C%20%22weight%22%3A%203%7D%0A%20%20%20%20%20%20%20%20%20%20%20%20%29.addTo%28map_df80af9bba0f4e9eb0862b3b6a21564b%29%3B%0A%20%20%20%20%20%20%20%20%0A%20%20%20%20%0A%20%20%20%20%20%20%20%20%20%20%20%20circle_marker_c3c5cbcde39f4905a19f4be15069bdb5.bindTooltip%28%0A%20%20%20%20%20%20%20%20%20%20%20%20%20%20%20%20%60%3Cdiv%3E%0A%20%20%20%20%20%20%20%20%20%20%20%20%20%20%20%20%20%20%20%20%20Linus%20Torvalds%0A%20%20%20%20%20%20%20%20%20%20%20%20%20%20%20%20%20%3C/div%3E%60%2C%0A%20%20%20%20%20%20%20%20%20%20%20%20%20%20%20%20%7B%22sticky%22%3A%20true%7D%0A%20%20%20%20%20%20%20%20%20%20%20%20%29%3B%0A%20%20%20%20%20%20%20%20%0A%20%20%20%20%0A%20%20%20%20%20%20%20%20%20%20%20%20var%20circle_marker_a522f2d2ceb447d6a9f5a8e37fff34b8%20%3D%20L.circleMarker%28%0A%20%20%20%20%20%20%20%20%20%20%20%20%20%20%20%20%5B42.523611111111%2C%20-92.446388888889%5D%2C%0A%20%20%20%20%20%20%20%20%20%20%20%20%20%20%20%20%7B%22bubblingMouseEvents%22%3A%20true%2C%20%22color%22%3A%20%22%233388ff%22%2C%20%22dashArray%22%3A%20null%2C%20%22dashOffset%22%3A%20null%2C%20%22fill%22%3A%20true%2C%20%22fillColor%22%3A%20%22%233186cc%22%2C%20%22fillOpacity%22%3A%200.2%2C%20%22fillRule%22%3A%20%22evenodd%22%2C%20%22lineCap%22%3A%20%22round%22%2C%20%22lineJoin%22%3A%20%22round%22%2C%20%22opacity%22%3A%201.0%2C%20%22radius%22%3A%201.5%2C%20%22stroke%22%3A%20true%2C%20%22weight%22%3A%203%7D%0A%20%20%20%20%20%20%20%20%20%20%20%20%29.addTo%28map_df80af9bba0f4e9eb0862b3b6a21564b%29%3B%0A%20%20%20%20%20%20%20%20%0A%20%20%20%20%0A%20%20%20%20%20%20%20%20%20%20%20%20circle_marker_a522f2d2ceb447d6a9f5a8e37fff34b8.bindTooltip%28%0A%20%20%20%20%20%20%20%20%20%20%20%20%20%20%20%20%60%3Cdiv%3E%0A%20%20%20%20%20%20%20%20%20%20%20%20%20%20%20%20%20%20%20%20%20Marc%20Andreessen%0A%20%20%20%20%20%20%20%20%20%20%20%20%20%20%20%20%20%3C/div%3E%60%2C%0A%20%20%20%20%20%20%20%20%20%20%20%20%20%20%20%20%7B%22sticky%22%3A%20true%7D%0A%20%20%20%20%20%20%20%20%20%20%20%20%29%3B%0A%20%20%20%20%20%20%20%20%0A%20%20%20%20%0A%20%20%20%20%20%20%20%20%20%20%20%20var%20circle_marker_62fbc0e85ed2422cb163f1835eec8f08%20%3D%20L.circleMarker%28%0A%20%20%20%20%20%20%20%20%20%20%20%20%20%20%20%20%5B24.15%2C%20120.66666666667%5D%2C%0A%20%20%20%20%20%20%20%20%20%20%20%20%20%20%20%20%7B%22bubblingMouseEvents%22%3A%20true%2C%20%22color%22%3A%20%22%233388ff%22%2C%20%22dashArray%22%3A%20null%2C%20%22dashOffset%22%3A%20null%2C%20%22fill%22%3A%20true%2C%20%22fillColor%22%3A%20%22%233186cc%22%2C%20%22fillOpacity%22%3A%200.2%2C%20%22fillRule%22%3A%20%22evenodd%22%2C%20%22lineCap%22%3A%20%22round%22%2C%20%22lineJoin%22%3A%20%22round%22%2C%20%22opacity%22%3A%201.0%2C%20%22radius%22%3A%201.5%2C%20%22stroke%22%3A%20true%2C%20%22weight%22%3A%203%7D%0A%20%20%20%20%20%20%20%20%20%20%20%20%29.addTo%28map_df80af9bba0f4e9eb0862b3b6a21564b%29%3B%0A%20%20%20%20%20%20%20%20%0A%20%20%20%20%0A%20%20%20%20%20%20%20%20%20%20%20%20circle_marker_62fbc0e85ed2422cb163f1835eec8f08.bindTooltip%28%0A%20%20%20%20%20%20%20%20%20%20%20%20%20%20%20%20%60%3Cdiv%3E%0A%20%20%20%20%20%20%20%20%20%20%20%20%20%20%20%20%20%20%20%20%20Chun-yien%20Chang%0A%20%20%20%20%20%20%20%20%20%20%20%20%20%20%20%20%20%3C/div%3E%60%2C%0A%20%20%20%20%20%20%20%20%20%20%20%20%20%20%20%20%7B%22sticky%22%3A%20true%7D%0A%20%20%20%20%20%20%20%20%20%20%20%20%29%3B%0A%20%20%20%20%20%20%20%20%0A%20%20%20%20%0A%20%20%20%20%20%20%20%20%20%20%20%20var%20circle_marker_fc45bd9df6db400488f09061be1d9b0c%20%3D%20L.circleMarker%28%0A%20%20%20%20%20%20%20%20%20%20%20%20%20%20%20%20%5B40.712728%2C%20-74.006015%5D%2C%0A%20%20%20%20%20%20%20%20%20%20%20%20%20%20%20%20%7B%22bubblingMouseEvents%22%3A%20true%2C%20%22color%22%3A%20%22%233388ff%22%2C%20%22dashArray%22%3A%20null%2C%20%22dashOffset%22%3A%20null%2C%20%22fill%22%3A%20true%2C%20%22fillColor%22%3A%20%22%233186cc%22%2C%20%22fillOpacity%22%3A%200.2%2C%20%22fillRule%22%3A%20%22evenodd%22%2C%20%22lineCap%22%3A%20%22round%22%2C%20%22lineJoin%22%3A%20%22round%22%2C%20%22opacity%22%3A%201.0%2C%20%22radius%22%3A%201.5%2C%20%22stroke%22%3A%20true%2C%20%22weight%22%3A%203%7D%0A%20%20%20%20%20%20%20%20%20%20%20%20%29.addTo%28map_df80af9bba0f4e9eb0862b3b6a21564b%29%3B%0A%20%20%20%20%20%20%20%20%0A%20%20%20%20%0A%20%20%20%20%20%20%20%20%20%20%20%20circle_marker_fc45bd9df6db400488f09061be1d9b0c.bindTooltip%28%0A%20%20%20%20%20%20%20%20%20%20%20%20%20%20%20%20%60%3Cdiv%3E%0A%20%20%20%20%20%20%20%20%20%20%20%20%20%20%20%20%20%20%20%20%20Grace%20Hopper%0A%20%20%20%20%20%20%20%20%20%20%20%20%20%20%20%20%20%3C/div%3E%60%2C%0A%20%20%20%20%20%20%20%20%20%20%20%20%20%20%20%20%7B%22sticky%22%3A%20true%7D%0A%20%20%20%20%20%20%20%20%20%20%20%20%29%3B%0A%20%20%20%20%20%20%20%20%0A%20%20%20%20%0A%20%20%20%20%20%20%20%20%20%20%20%20var%20circle_marker_d122734c9667410dab44dd68e5d650e5%20%3D%20L.circleMarker%28%0A%20%20%20%20%20%20%20%20%20%20%20%20%20%20%20%20%5B36.06171%2C%20103.83177%5D%2C%0A%20%20%20%20%20%20%20%20%20%20%20%20%20%20%20%20%7B%22bubblingMouseEvents%22%3A%20true%2C%20%22color%22%3A%20%22%233388ff%22%2C%20%22dashArray%22%3A%20null%2C%20%22dashOffset%22%3A%20null%2C%20%22fill%22%3A%20true%2C%20%22fillColor%22%3A%20%22%233186cc%22%2C%20%22fillOpacity%22%3A%200.2%2C%20%22fillRule%22%3A%20%22evenodd%22%2C%20%22lineCap%22%3A%20%22round%22%2C%20%22lineJoin%22%3A%20%22round%22%2C%20%22opacity%22%3A%201.0%2C%20%22radius%22%3A%201.5%2C%20%22stroke%22%3A%20true%2C%20%22weight%22%3A%203%7D%0A%20%20%20%20%20%20%20%20%20%20%20%20%29.addTo%28map_df80af9bba0f4e9eb0862b3b6a21564b%29%3B%0A%20%20%20%20%20%20%20%20%0A%20%20%20%20%0A%20%20%20%20%20%20%20%20%20%20%20%20circle_marker_d122734c9667410dab44dd68e5d650e5.bindTooltip%28%0A%20%20%20%20%20%20%20%20%20%20%20%20%20%20%20%20%60%3Cdiv%3E%0A%20%20%20%20%20%20%20%20%20%20%20%20%20%20%20%20%20%20%20%20%20Ken%20Liu%0A%20%20%20%20%20%20%20%20%20%20%20%20%20%20%20%20%20%3C/div%3E%60%2C%0A%20%20%20%20%20%20%20%20%20%20%20%20%20%20%20%20%7B%22sticky%22%3A%20true%7D%0A%20%20%20%20%20%20%20%20%20%20%20%20%29%3B%0A%20%20%20%20%20%20%20%20%0A%20%20%20%20%0A%20%20%20%20%20%20%20%20%20%20%20%20var%20circle_marker_01ffef2e297c4abca4bb1d358d5ca2ab%20%3D%20L.circleMarker%28%0A%20%20%20%20%20%20%20%20%20%20%20%20%20%20%20%20%5B54.979722222222%2C%20-1.4805555555556%5D%2C%0A%20%20%20%20%20%20%20%20%20%20%20%20%20%20%20%20%7B%22bubblingMouseEvents%22%3A%20true%2C%20%22color%22%3A%20%22%233388ff%22%2C%20%22dashArray%22%3A%20null%2C%20%22dashOffset%22%3A%20null%2C%20%22fill%22%3A%20true%2C%20%22fillColor%22%3A%20%22%233186cc%22%2C%20%22fillOpacity%22%3A%200.2%2C%20%22fillRule%22%3A%20%22evenodd%22%2C%20%22lineCap%22%3A%20%22round%22%2C%20%22lineJoin%22%3A%20%22round%22%2C%20%22opacity%22%3A%201.0%2C%20%22radius%22%3A%201.5%2C%20%22stroke%22%3A%20true%2C%20%22weight%22%3A%203%7D%0A%20%20%20%20%20%20%20%20%20%20%20%20%29.addTo%28map_df80af9bba0f4e9eb0862b3b6a21564b%29%3B%0A%20%20%20%20%20%20%20%20%0A%20%20%20%20%0A%20%20%20%20%20%20%20%20%20%20%20%20circle_marker_01ffef2e297c4abca4bb1d358d5ca2ab.bindTooltip%28%0A%20%20%20%20%20%20%20%20%20%20%20%20%20%20%20%20%60%3Cdiv%3E%0A%20%20%20%20%20%20%20%20%20%20%20%20%20%20%20%20%20%20%20%20%20Bill%20Thompson%0A%20%20%20%20%20%20%20%20%20%20%20%20%20%20%20%20%20%3C/div%3E%60%2C%0A%20%20%20%20%20%20%20%20%20%20%20%20%20%20%20%20%7B%22sticky%22%3A%20true%7D%0A%20%20%20%20%20%20%20%20%20%20%20%20%29%3B%0A%20%20%20%20%20%20%20%20%0A%20%20%20%20%0A%20%20%20%20%20%20%20%20%20%20%20%20var%20circle_marker_36ee37652e0d443a84fcd69b0c1eae82%20%3D%20L.circleMarker%28%0A%20%20%20%20%20%20%20%20%20%20%20%20%20%20%20%20%5B33.965555555556%2C%20-118.02444444444%5D%2C%0A%20%20%20%20%20%20%20%20%20%20%20%20%20%20%20%20%7B%22bubblingMouseEvents%22%3A%20true%2C%20%22color%22%3A%20%22%233388ff%22%2C%20%22dashArray%22%3A%20null%2C%20%22dashOffset%22%3A%20null%2C%20%22fill%22%3A%20true%2C%20%22fillColor%22%3A%20%22%233186cc%22%2C%20%22fillOpacity%22%3A%200.2%2C%20%22fillRule%22%3A%20%22evenodd%22%2C%20%22lineCap%22%3A%20%22round%22%2C%20%22lineJoin%22%3A%20%22round%22%2C%20%22opacity%22%3A%201.0%2C%20%22radius%22%3A%201.5%2C%20%22stroke%22%3A%20true%2C%20%22weight%22%3A%203%7D%0A%20%20%20%20%20%20%20%20%20%20%20%20%29.addTo%28map_df80af9bba0f4e9eb0862b3b6a21564b%29%3B%0A%20%20%20%20%20%20%20%20%0A%20%20%20%20%0A%20%20%20%20%20%20%20%20%20%20%20%20circle_marker_36ee37652e0d443a84fcd69b0c1eae82.bindTooltip%28%0A%20%20%20%20%20%20%20%20%20%20%20%20%20%20%20%20%60%3Cdiv%3E%0A%20%20%20%20%20%20%20%20%20%20%20%20%20%20%20%20%20%20%20%20%20Rebecca%20Heineman%0A%20%20%20%20%20%20%20%20%20%20%20%20%20%20%20%20%20%3C/div%3E%60%2C%0A%20%20%20%20%20%20%20%20%20%20%20%20%20%20%20%20%7B%22sticky%22%3A%20true%7D%0A%20%20%20%20%20%20%20%20%20%20%20%20%29%3B%0A%20%20%20%20%20%20%20%20%0A%20%20%20%20%0A%20%20%20%20%20%20%20%20%20%20%20%20var%20circle_marker_61a5e81ee5e94a64af5f3556a69ed7dc%20%3D%20L.circleMarker%28%0A%20%20%20%20%20%20%20%20%20%20%20%20%20%20%20%20%5B47.5%2C%20-100.5%5D%2C%0A%20%20%20%20%20%20%20%20%20%20%20%20%20%20%20%20%7B%22bubblingMouseEvents%22%3A%20true%2C%20%22color%22%3A%20%22%233388ff%22%2C%20%22dashArray%22%3A%20null%2C%20%22dashOffset%22%3A%20null%2C%20%22fill%22%3A%20true%2C%20%22fillColor%22%3A%20%22%233186cc%22%2C%20%22fillOpacity%22%3A%200.2%2C%20%22fillRule%22%3A%20%22evenodd%22%2C%20%22lineCap%22%3A%20%22round%22%2C%20%22lineJoin%22%3A%20%22round%22%2C%20%22opacity%22%3A%201.0%2C%20%22radius%22%3A%201.5%2C%20%22stroke%22%3A%20true%2C%20%22weight%22%3A%203%7D%0A%20%20%20%20%20%20%20%20%20%20%20%20%29.addTo%28map_df80af9bba0f4e9eb0862b3b6a21564b%29%3B%0A%20%20%20%20%20%20%20%20%0A%20%20%20%20%0A%20%20%20%20%20%20%20%20%20%20%20%20circle_marker_61a5e81ee5e94a64af5f3556a69ed7dc.bindTooltip%28%0A%20%20%20%20%20%20%20%20%20%20%20%20%20%20%20%20%60%3Cdiv%3E%0A%20%20%20%20%20%20%20%20%20%20%20%20%20%20%20%20%20%20%20%20%20Patrick%20Volkerding%0A%20%20%20%20%20%20%20%20%20%20%20%20%20%20%20%20%20%3C/div%3E%60%2C%0A%20%20%20%20%20%20%20%20%20%20%20%20%20%20%20%20%7B%22sticky%22%3A%20true%7D%0A%20%20%20%20%20%20%20%20%20%20%20%20%29%3B%0A%20%20%20%20%20%20%20%20%0A%20%20%20%20%0A%20%20%20%20%20%20%20%20%20%20%20%20var%20circle_marker_60704cf9da564036953f9d81fe66f044%20%3D%20L.circleMarker%28%0A%20%20%20%20%20%20%20%20%20%20%20%20%20%20%20%20%5B47.663333333333%2C%209.1752777777778%5D%2C%0A%20%20%20%20%20%20%20%20%20%20%20%20%20%20%20%20%7B%22bubblingMouseEvents%22%3A%20true%2C%20%22color%22%3A%20%22%233388ff%22%2C%20%22dashArray%22%3A%20null%2C%20%22dashOffset%22%3A%20null%2C%20%22fill%22%3A%20true%2C%20%22fillColor%22%3A%20%22%233186cc%22%2C%20%22fillOpacity%22%3A%200.2%2C%20%22fillRule%22%3A%20%22evenodd%22%2C%20%22lineCap%22%3A%20%22round%22%2C%20%22lineJoin%22%3A%20%22round%22%2C%20%22opacity%22%3A%201.0%2C%20%22radius%22%3A%201.5%2C%20%22stroke%22%3A%20true%2C%20%22weight%22%3A%203%7D%0A%20%20%20%20%20%20%20%20%20%20%20%20%29.addTo%28map_df80af9bba0f4e9eb0862b3b6a21564b%29%3B%0A%20%20%20%20%20%20%20%20%0A%20%20%20%20%0A%20%20%20%20%20%20%20%20%20%20%20%20circle_marker_60704cf9da564036953f9d81fe66f044.bindTooltip%28%0A%20%20%20%20%20%20%20%20%20%20%20%20%20%20%20%20%60%3Cdiv%3E%0A%20%20%20%20%20%20%20%20%20%20%20%20%20%20%20%20%20%20%20%20%20Ian%20Murdock%0A%20%20%20%20%20%20%20%20%20%20%20%20%20%20%20%20%20%3C/div%3E%60%2C%0A%20%20%20%20%20%20%20%20%20%20%20%20%20%20%20%20%7B%22sticky%22%3A%20true%7D%0A%20%20%20%20%20%20%20%20%20%20%20%20%29%3B%0A%20%20%20%20%20%20%20%20%0A%20%20%20%20%0A%20%20%20%20%20%20%20%20%20%20%20%20var%20circle_marker_2054b6e9db1a4a36854890695017b7c1%20%3D%20L.circleMarker%28%0A%20%20%20%20%20%20%20%20%20%20%20%20%20%20%20%20%5B40.712728%2C%20-74.006015%5D%2C%0A%20%20%20%20%20%20%20%20%20%20%20%20%20%20%20%20%7B%22bubblingMouseEvents%22%3A%20true%2C%20%22color%22%3A%20%22%233388ff%22%2C%20%22dashArray%22%3A%20null%2C%20%22dashOffset%22%3A%20null%2C%20%22fill%22%3A%20true%2C%20%22fillColor%22%3A%20%22%233186cc%22%2C%20%22fillOpacity%22%3A%200.2%2C%20%22fillRule%22%3A%20%22evenodd%22%2C%20%22lineCap%22%3A%20%22round%22%2C%20%22lineJoin%22%3A%20%22round%22%2C%20%22opacity%22%3A%201.0%2C%20%22radius%22%3A%201.5%2C%20%22stroke%22%3A%20true%2C%20%22weight%22%3A%203%7D%0A%20%20%20%20%20%20%20%20%20%20%20%20%29.addTo%28map_df80af9bba0f4e9eb0862b3b6a21564b%29%3B%0A%20%20%20%20%20%20%20%20%0A%20%20%20%20%0A%20%20%20%20%20%20%20%20%20%20%20%20circle_marker_2054b6e9db1a4a36854890695017b7c1.bindTooltip%28%0A%20%20%20%20%20%20%20%20%20%20%20%20%20%20%20%20%60%3Cdiv%3E%0A%20%20%20%20%20%20%20%20%20%20%20%20%20%20%20%20%20%20%20%20%20Andrew%20S.%20Tanenbaum%0A%20%20%20%20%20%20%20%20%20%20%20%20%20%20%20%20%20%3C/div%3E%60%2C%0A%20%20%20%20%20%20%20%20%20%20%20%20%20%20%20%20%7B%22sticky%22%3A%20true%7D%0A%20%20%20%20%20%20%20%20%20%20%20%20%29%3B%0A%20%20%20%20%20%20%20%20%0A%20%20%20%20%0A%20%20%20%20%20%20%20%20%20%20%20%20var%20circle_marker_f1e4ccb1ef994d1fb6d895fd5f9614ef%20%3D%20L.circleMarker%28%0A%20%20%20%20%20%20%20%20%20%20%20%20%20%20%20%20%5B40.712728%2C%20-74.006015%5D%2C%0A%20%20%20%20%20%20%20%20%20%20%20%20%20%20%20%20%7B%22bubblingMouseEvents%22%3A%20true%2C%20%22color%22%3A%20%22%233388ff%22%2C%20%22dashArray%22%3A%20null%2C%20%22dashOffset%22%3A%20null%2C%20%22fill%22%3A%20true%2C%20%22fillColor%22%3A%20%22%233186cc%22%2C%20%22fillOpacity%22%3A%200.2%2C%20%22fillRule%22%3A%20%22evenodd%22%2C%20%22lineCap%22%3A%20%22round%22%2C%20%22lineJoin%22%3A%20%22round%22%2C%20%22opacity%22%3A%201.0%2C%20%22radius%22%3A%201.5%2C%20%22stroke%22%3A%20true%2C%20%22weight%22%3A%203%7D%0A%20%20%20%20%20%20%20%20%20%20%20%20%29.addTo%28map_df80af9bba0f4e9eb0862b3b6a21564b%29%3B%0A%20%20%20%20%20%20%20%20%0A%20%20%20%20%0A%20%20%20%20%20%20%20%20%20%20%20%20circle_marker_f1e4ccb1ef994d1fb6d895fd5f9614ef.bindTooltip%28%0A%20%20%20%20%20%20%20%20%20%20%20%20%20%20%20%20%60%3Cdiv%3E%0A%20%20%20%20%20%20%20%20%20%20%20%20%20%20%20%20%20%20%20%20%20Andrew%20S.%20Tanenbaum%0A%20%20%20%20%20%20%20%20%20%20%20%20%20%20%20%20%20%3C/div%3E%60%2C%0A%20%20%20%20%20%20%20%20%20%20%20%20%20%20%20%20%7B%22sticky%22%3A%20true%7D%0A%20%20%20%20%20%20%20%20%20%20%20%20%29%3B%0A%20%20%20%20%20%20%20%20%0A%20%20%20%20%0A%20%20%20%20%20%20%20%20%20%20%20%20var%20circle_marker_4ff593b9a02a485695f9ec433704b9fb%20%3D%20L.circleMarker%28%0A%20%20%20%20%20%20%20%20%20%20%20%20%20%20%20%20%5B19.419444444444%2C%20-99.145555555556%5D%2C%0A%20%20%20%20%20%20%20%20%20%20%20%20%20%20%20%20%7B%22bubblingMouseEvents%22%3A%20true%2C%20%22color%22%3A%20%22%233388ff%22%2C%20%22dashArray%22%3A%20null%2C%20%22dashOffset%22%3A%20null%2C%20%22fill%22%3A%20true%2C%20%22fillColor%22%3A%20%22%233186cc%22%2C%20%22fillOpacity%22%3A%200.2%2C%20%22fillRule%22%3A%20%22evenodd%22%2C%20%22lineCap%22%3A%20%22round%22%2C%20%22lineJoin%22%3A%20%22round%22%2C%20%22opacity%22%3A%201.0%2C%20%22radius%22%3A%201.5%2C%20%22stroke%22%3A%20true%2C%20%22weight%22%3A%203%7D%0A%20%20%20%20%20%20%20%20%20%20%20%20%29.addTo%28map_df80af9bba0f4e9eb0862b3b6a21564b%29%3B%0A%20%20%20%20%20%20%20%20%0A%20%20%20%20%0A%20%20%20%20%20%20%20%20%20%20%20%20circle_marker_4ff593b9a02a485695f9ec433704b9fb.bindTooltip%28%0A%20%20%20%20%20%20%20%20%20%20%20%20%20%20%20%20%60%3Cdiv%3E%0A%20%20%20%20%20%20%20%20%20%20%20%20%20%20%20%20%20%20%20%20%20Miguel%20de%20Icaza%0A%20%20%20%20%20%20%20%20%20%20%20%20%20%20%20%20%20%3C/div%3E%60%2C%0A%20%20%20%20%20%20%20%20%20%20%20%20%20%20%20%20%7B%22sticky%22%3A%20true%7D%0A%20%20%20%20%20%20%20%20%20%20%20%20%29%3B%0A%20%20%20%20%20%20%20%20%0A%20%20%20%20%0A%20%20%20%20%20%20%20%20%20%20%20%20var%20circle_marker_3a546d87f3b9473985bda2cebb2c2b23%20%3D%20L.circleMarker%28%0A%20%20%20%20%20%20%20%20%20%20%20%20%20%20%20%20%5B39.9628%2C%20-76.7281%5D%2C%0A%20%20%20%20%20%20%20%20%20%20%20%20%20%20%20%20%7B%22bubblingMouseEvents%22%3A%20true%2C%20%22color%22%3A%20%22%233388ff%22%2C%20%22dashArray%22%3A%20null%2C%20%22dashOffset%22%3A%20null%2C%20%22fill%22%3A%20true%2C%20%22fillColor%22%3A%20%22%233186cc%22%2C%20%22fillOpacity%22%3A%200.2%2C%20%22fillRule%22%3A%20%22evenodd%22%2C%20%22lineCap%22%3A%20%22round%22%2C%20%22lineJoin%22%3A%20%22round%22%2C%20%22opacity%22%3A%201.0%2C%20%22radius%22%3A%201.5%2C%20%22stroke%22%3A%20true%2C%20%22weight%22%3A%203%7D%0A%20%20%20%20%20%20%20%20%20%20%20%20%29.addTo%28map_df80af9bba0f4e9eb0862b3b6a21564b%29%3B%0A%20%20%20%20%20%20%20%20%0A%20%20%20%20%0A%20%20%20%20%20%20%20%20%20%20%20%20circle_marker_3a546d87f3b9473985bda2cebb2c2b23.bindTooltip%28%0A%20%20%20%20%20%20%20%20%20%20%20%20%20%20%20%20%60%3Cdiv%3E%0A%20%20%20%20%20%20%20%20%20%20%20%20%20%20%20%20%20%20%20%20%20John%20Gilmore%0A%20%20%20%20%20%20%20%20%20%20%20%20%20%20%20%20%20%3C/div%3E%60%2C%0A%20%20%20%20%20%20%20%20%20%20%20%20%20%20%20%20%7B%22sticky%22%3A%20true%7D%0A%20%20%20%20%20%20%20%20%20%20%20%20%29%3B%0A%20%20%20%20%20%20%20%20%0A%20%20%20%20%0A%20%20%20%20%20%20%20%20%20%20%20%20var%20circle_marker_9a2ec03a327b45a981d457d147391b96%20%3D%20L.circleMarker%28%0A%20%20%20%20%20%20%20%20%20%20%20%20%20%20%20%20%5B6.2447472222222%2C%20-75.574827777778%5D%2C%0A%20%20%20%20%20%20%20%20%20%20%20%20%20%20%20%20%7B%22bubblingMouseEvents%22%3A%20true%2C%20%22color%22%3A%20%22%233388ff%22%2C%20%22dashArray%22%3A%20null%2C%20%22dashOffset%22%3A%20null%2C%20%22fill%22%3A%20true%2C%20%22fillColor%22%3A%20%22%233186cc%22%2C%20%22fillOpacity%22%3A%200.2%2C%20%22fillRule%22%3A%20%22evenodd%22%2C%20%22lineCap%22%3A%20%22round%22%2C%20%22lineJoin%22%3A%20%22round%22%2C%20%22opacity%22%3A%201.0%2C%20%22radius%22%3A%201.5%2C%20%22stroke%22%3A%20true%2C%20%22weight%22%3A%203%7D%0A%20%20%20%20%20%20%20%20%20%20%20%20%29.addTo%28map_df80af9bba0f4e9eb0862b3b6a21564b%29%3B%0A%20%20%20%20%20%20%20%20%0A%20%20%20%20%0A%20%20%20%20%20%20%20%20%20%20%20%20circle_marker_9a2ec03a327b45a981d457d147391b96.bindTooltip%28%0A%20%20%20%20%20%20%20%20%20%20%20%20%20%20%20%20%60%3Cdiv%3E%0A%20%20%20%20%20%20%20%20%20%20%20%20%20%20%20%20%20%20%20%20%20Fernando%20P%C3%A9rez%0A%20%20%20%20%20%20%20%20%20%20%20%20%20%20%20%20%20%3C/div%3E%60%2C%0A%20%20%20%20%20%20%20%20%20%20%20%20%20%20%20%20%7B%22sticky%22%3A%20true%7D%0A%20%20%20%20%20%20%20%20%20%20%20%20%29%3B%0A%20%20%20%20%20%20%20%20%0A%20%20%20%20%0A%20%20%20%20%20%20%20%20%20%20%20%20var%20circle_marker_26b47a8ccb204aae81a371bce7959883%20%3D%20L.circleMarker%28%0A%20%20%20%20%20%20%20%20%20%20%20%20%20%20%20%20%5B56.0%2C%20-109.0%5D%2C%0A%20%20%20%20%20%20%20%20%20%20%20%20%20%20%20%20%7B%22bubblingMouseEvents%22%3A%20true%2C%20%22color%22%3A%20%22%233388ff%22%2C%20%22dashArray%22%3A%20null%2C%20%22dashOffset%22%3A%20null%2C%20%22fill%22%3A%20true%2C%20%22fillColor%22%3A%20%22%233186cc%22%2C%20%22fillOpacity%22%3A%200.2%2C%20%22fillRule%22%3A%20%22evenodd%22%2C%20%22lineCap%22%3A%20%22round%22%2C%20%22lineJoin%22%3A%20%22round%22%2C%20%22opacity%22%3A%201.0%2C%20%22radius%22%3A%201.5%2C%20%22stroke%22%3A%20true%2C%20%22weight%22%3A%203%7D%0A%20%20%20%20%20%20%20%20%20%20%20%20%29.addTo%28map_df80af9bba0f4e9eb0862b3b6a21564b%29%3B%0A%20%20%20%20%20%20%20%20%0A%20%20%20%20%0A%20%20%20%20%20%20%20%20%20%20%20%20circle_marker_26b47a8ccb204aae81a371bce7959883.bindTooltip%28%0A%20%20%20%20%20%20%20%20%20%20%20%20%20%20%20%20%60%3Cdiv%3E%0A%20%20%20%20%20%20%20%20%20%20%20%20%20%20%20%20%20%20%20%20%20Rob%20Pike%0A%20%20%20%20%20%20%20%20%20%20%20%20%20%20%20%20%20%3C/div%3E%60%2C%0A%20%20%20%20%20%20%20%20%20%20%20%20%20%20%20%20%7B%22sticky%22%3A%20true%7D%0A%20%20%20%20%20%20%20%20%20%20%20%20%29%3B%0A%20%20%20%20%20%20%20%20%0A%20%20%20%20%0A%20%20%20%20%20%20%20%20%20%20%20%20var%20circle_marker_68a8229b3d4e425ba6889426b4f684cf%20%3D%20L.circleMarker%28%0A%20%20%20%20%20%20%20%20%20%20%20%20%20%20%20%20%5B43.425%2C%20-88.183333333333%5D%2C%0A%20%20%20%20%20%20%20%20%20%20%20%20%20%20%20%20%7B%22bubblingMouseEvents%22%3A%20true%2C%20%22color%22%3A%20%22%233388ff%22%2C%20%22dashArray%22%3A%20null%2C%20%22dashOffset%22%3A%20null%2C%20%22fill%22%3A%20true%2C%20%22fillColor%22%3A%20%22%233186cc%22%2C%20%22fillOpacity%22%3A%200.2%2C%20%22fillRule%22%3A%20%22evenodd%22%2C%20%22lineCap%22%3A%20%22round%22%2C%20%22lineJoin%22%3A%20%22round%22%2C%20%22opacity%22%3A%201.0%2C%20%22radius%22%3A%201.5%2C%20%22stroke%22%3A%20true%2C%20%22weight%22%3A%203%7D%0A%20%20%20%20%20%20%20%20%20%20%20%20%29.addTo%28map_df80af9bba0f4e9eb0862b3b6a21564b%29%3B%0A%20%20%20%20%20%20%20%20%0A%20%20%20%20%0A%20%20%20%20%20%20%20%20%20%20%20%20circle_marker_68a8229b3d4e425ba6889426b4f684cf.bindTooltip%28%0A%20%20%20%20%20%20%20%20%20%20%20%20%20%20%20%20%60%3Cdiv%3E%0A%20%20%20%20%20%20%20%20%20%20%20%20%20%20%20%20%20%20%20%20%20Ward%20Christensen%0A%20%20%20%20%20%20%20%20%20%20%20%20%20%20%20%20%20%3C/div%3E%60%2C%0A%20%20%20%20%20%20%20%20%20%20%20%20%20%20%20%20%7B%22sticky%22%3A%20true%7D%0A%20%20%20%20%20%20%20%20%20%20%20%20%29%3B%0A%20%20%20%20%20%20%20%20%0A%20%20%20%20%0A%20%20%20%20%20%20%20%20%20%20%20%20var%20circle_marker_291cd8ea97b741178084852ca3e650ce%20%3D%20L.circleMarker%28%0A%20%20%20%20%20%20%20%20%20%20%20%20%20%20%20%20%5B47.4992%2C%208.72671%5D%2C%0A%20%20%20%20%20%20%20%20%20%20%20%20%20%20%20%20%7B%22bubblingMouseEvents%22%3A%20true%2C%20%22color%22%3A%20%22%233388ff%22%2C%20%22dashArray%22%3A%20null%2C%20%22dashOffset%22%3A%20null%2C%20%22fill%22%3A%20true%2C%20%22fillColor%22%3A%20%22%233186cc%22%2C%20%22fillOpacity%22%3A%200.2%2C%20%22fillRule%22%3A%20%22evenodd%22%2C%20%22lineCap%22%3A%20%22round%22%2C%20%22lineJoin%22%3A%20%22round%22%2C%20%22opacity%22%3A%201.0%2C%20%22radius%22%3A%201.5%2C%20%22stroke%22%3A%20true%2C%20%22weight%22%3A%203%7D%0A%20%20%20%20%20%20%20%20%20%20%20%20%29.addTo%28map_df80af9bba0f4e9eb0862b3b6a21564b%29%3B%0A%20%20%20%20%20%20%20%20%0A%20%20%20%20%0A%20%20%20%20%20%20%20%20%20%20%20%20circle_marker_291cd8ea97b741178084852ca3e650ce.bindTooltip%28%0A%20%20%20%20%20%20%20%20%20%20%20%20%20%20%20%20%60%3Cdiv%3E%0A%20%20%20%20%20%20%20%20%20%20%20%20%20%20%20%20%20%20%20%20%20Niklaus%20Wirth%0A%20%20%20%20%20%20%20%20%20%20%20%20%20%20%20%20%20%3C/div%3E%60%2C%0A%20%20%20%20%20%20%20%20%20%20%20%20%20%20%20%20%7B%22sticky%22%3A%20true%7D%0A%20%20%20%20%20%20%20%20%20%20%20%20%29%3B%0A%20%20%20%20%20%20%20%20%0A%20%20%20%20%0A%20%20%20%20%20%20%20%20%20%20%20%20var%20circle_marker_621669fdf1d34155b339e61a939848a4%20%3D%20L.circleMarker%28%0A%20%20%20%20%20%20%20%20%20%20%20%20%20%20%20%20%5B48.0636%2C%20-66.37%5D%2C%0A%20%20%20%20%20%20%20%20%20%20%20%20%20%20%20%20%7B%22bubblingMouseEvents%22%3A%20true%2C%20%22color%22%3A%20%22%233388ff%22%2C%20%22dashArray%22%3A%20null%2C%20%22dashOffset%22%3A%20null%2C%20%22fill%22%3A%20true%2C%20%22fillColor%22%3A%20%22%233186cc%22%2C%20%22fillOpacity%22%3A%200.2%2C%20%22fillRule%22%3A%20%22evenodd%22%2C%20%22lineCap%22%3A%20%22round%22%2C%20%22lineJoin%22%3A%20%22round%22%2C%20%22opacity%22%3A%201.0%2C%20%22radius%22%3A%201.5%2C%20%22stroke%22%3A%20true%2C%20%22weight%22%3A%203%7D%0A%20%20%20%20%20%20%20%20%20%20%20%20%29.addTo%28map_df80af9bba0f4e9eb0862b3b6a21564b%29%3B%0A%20%20%20%20%20%20%20%20%0A%20%20%20%20%0A%20%20%20%20%20%20%20%20%20%20%20%20circle_marker_621669fdf1d34155b339e61a939848a4.bindTooltip%28%0A%20%20%20%20%20%20%20%20%20%20%20%20%20%20%20%20%60%3Cdiv%3E%0A%20%20%20%20%20%20%20%20%20%20%20%20%20%20%20%20%20%20%20%20%20Guillaume%20Pelletier%0A%20%20%20%20%20%20%20%20%20%20%20%20%20%20%20%20%20%3C/div%3E%60%2C%0A%20%20%20%20%20%20%20%20%20%20%20%20%20%20%20%20%7B%22sticky%22%3A%20true%7D%0A%20%20%20%20%20%20%20%20%20%20%20%20%29%3B%0A%20%20%20%20%20%20%20%20%0A%20%20%20%20%0A%20%20%20%20%20%20%20%20%20%20%20%20var%20circle_marker_0a6a9ca937424a13ad5ae4d4faab8bf3%20%3D%20L.circleMarker%28%0A%20%20%20%20%20%20%20%20%20%20%20%20%20%20%20%20%5B51.0475%2C%20-114.0625%5D%2C%0A%20%20%20%20%20%20%20%20%20%20%20%20%20%20%20%20%7B%22bubblingMouseEvents%22%3A%20true%2C%20%22color%22%3A%20%22%233388ff%22%2C%20%22dashArray%22%3A%20null%2C%20%22dashOffset%22%3A%20null%2C%20%22fill%22%3A%20true%2C%20%22fillColor%22%3A%20%22%233186cc%22%2C%20%22fillOpacity%22%3A%200.2%2C%20%22fillRule%22%3A%20%22evenodd%22%2C%20%22lineCap%22%3A%20%22round%22%2C%20%22lineJoin%22%3A%20%22round%22%2C%20%22opacity%22%3A%201.0%2C%20%22radius%22%3A%201.5%2C%20%22stroke%22%3A%20true%2C%20%22weight%22%3A%203%7D%0A%20%20%20%20%20%20%20%20%20%20%20%20%29.addTo%28map_df80af9bba0f4e9eb0862b3b6a21564b%29%3B%0A%20%20%20%20%20%20%20%20%0A%20%20%20%20%0A%20%20%20%20%20%20%20%20%20%20%20%20circle_marker_0a6a9ca937424a13ad5ae4d4faab8bf3.bindTooltip%28%0A%20%20%20%20%20%20%20%20%20%20%20%20%20%20%20%20%60%3Cdiv%3E%0A%20%20%20%20%20%20%20%20%20%20%20%20%20%20%20%20%20%20%20%20%20James%20Gosling%0A%20%20%20%20%20%20%20%20%20%20%20%20%20%20%20%20%20%3C/div%3E%60%2C%0A%20%20%20%20%20%20%20%20%20%20%20%20%20%20%20%20%7B%22sticky%22%3A%20true%7D%0A%20%20%20%20%20%20%20%20%20%20%20%20%29%3B%0A%20%20%20%20%20%20%20%20%0A%20%20%20%20%0A%20%20%20%20%20%20%20%20%20%20%20%20var%20circle_marker_3099921e6aed4e9a8cfebdbee5694183%20%3D%20L.circleMarker%28%0A%20%20%20%20%20%20%20%20%20%20%20%20%20%20%20%20%5B-25.746388888889%2C%2028.188055555556%5D%2C%0A%20%20%20%20%20%20%20%20%20%20%20%20%20%20%20%20%7B%22bubblingMouseEvents%22%3A%20true%2C%20%22color%22%3A%20%22%233388ff%22%2C%20%22dashArray%22%3A%20null%2C%20%22dashOffset%22%3A%20null%2C%20%22fill%22%3A%20true%2C%20%22fillColor%22%3A%20%22%233186cc%22%2C%20%22fillOpacity%22%3A%200.2%2C%20%22fillRule%22%3A%20%22evenodd%22%2C%20%22lineCap%22%3A%20%22round%22%2C%20%22lineJoin%22%3A%20%22round%22%2C%20%22opacity%22%3A%201.0%2C%20%22radius%22%3A%201.5%2C%20%22stroke%22%3A%20true%2C%20%22weight%22%3A%203%7D%0A%20%20%20%20%20%20%20%20%20%20%20%20%29.addTo%28map_df80af9bba0f4e9eb0862b3b6a21564b%29%3B%0A%20%20%20%20%20%20%20%20%0A%20%20%20%20%0A%20%20%20%20%20%20%20%20%20%20%20%20circle_marker_3099921e6aed4e9a8cfebdbee5694183.bindTooltip%28%0A%20%20%20%20%20%20%20%20%20%20%20%20%20%20%20%20%60%3Cdiv%3E%0A%20%20%20%20%20%20%20%20%20%20%20%20%20%20%20%20%20%20%20%20%20Theo%20de%20Raadt%0A%20%20%20%20%20%20%20%20%20%20%20%20%20%20%20%20%20%3C/div%3E%60%2C%0A%20%20%20%20%20%20%20%20%20%20%20%20%20%20%20%20%7B%22sticky%22%3A%20true%7D%0A%20%20%20%20%20%20%20%20%20%20%20%20%29%3B%0A%20%20%20%20%20%20%20%20%0A%20%20%20%20%0A%20%20%20%20%20%20%20%20%20%20%20%20var%20circle_marker_db96f8d0be854eea801bb081d94bb782%20%3D%20L.circleMarker%28%0A%20%20%20%20%20%20%20%20%20%20%20%20%20%20%20%20%5B39.828175%2C%20-98.5795%5D%2C%0A%20%20%20%20%20%20%20%20%20%20%20%20%20%20%20%20%7B%22bubblingMouseEvents%22%3A%20true%2C%20%22color%22%3A%20%22%233388ff%22%2C%20%22dashArray%22%3A%20null%2C%20%22dashOffset%22%3A%20null%2C%20%22fill%22%3A%20true%2C%20%22fillColor%22%3A%20%22%233186cc%22%2C%20%22fillOpacity%22%3A%200.2%2C%20%22fillRule%22%3A%20%22evenodd%22%2C%20%22lineCap%22%3A%20%22round%22%2C%20%22lineJoin%22%3A%20%22round%22%2C%20%22opacity%22%3A%201.0%2C%20%22radius%22%3A%201.5%2C%20%22stroke%22%3A%20true%2C%20%22weight%22%3A%203%7D%0A%20%20%20%20%20%20%20%20%20%20%20%20%29.addTo%28map_df80af9bba0f4e9eb0862b3b6a21564b%29%3B%0A%20%20%20%20%20%20%20%20%0A%20%20%20%20%0A%20%20%20%20%20%20%20%20%20%20%20%20circle_marker_db96f8d0be854eea801bb081d94bb782.bindTooltip%28%0A%20%20%20%20%20%20%20%20%20%20%20%20%20%20%20%20%60%3Cdiv%3E%0A%20%20%20%20%20%20%20%20%20%20%20%20%20%20%20%20%20%20%20%20%20Howard%20Scott%20Warshaw%0A%20%20%20%20%20%20%20%20%20%20%20%20%20%20%20%20%20%3C/div%3E%60%2C%0A%20%20%20%20%20%20%20%20%20%20%20%20%20%20%20%20%7B%22sticky%22%3A%20true%7D%0A%20%20%20%20%20%20%20%20%20%20%20%20%29%3B%0A%20%20%20%20%20%20%20%20%0A%20%20%20%20%0A%20%20%20%20%20%20%20%20%20%20%20%20var%20circle_marker_efb2dd0223ea46b9be5f03f6431d37f2%20%3D%20L.circleMarker%28%0A%20%20%20%20%20%20%20%20%20%20%20%20%20%20%20%20%5B34.316666666667%2C%2047.068611111111%5D%2C%0A%20%20%20%20%20%20%20%20%20%20%20%20%20%20%20%20%7B%22bubblingMouseEvents%22%3A%20true%2C%20%22color%22%3A%20%22%233388ff%22%2C%20%22dashArray%22%3A%20null%2C%20%22dashOffset%22%3A%20null%2C%20%22fill%22%3A%20true%2C%20%22fillColor%22%3A%20%22%233186cc%22%2C%20%22fillOpacity%22%3A%200.2%2C%20%22fillRule%22%3A%20%22evenodd%22%2C%20%22lineCap%22%3A%20%22round%22%2C%20%22lineJoin%22%3A%20%22round%22%2C%20%22opacity%22%3A%201.0%2C%20%22radius%22%3A%201.5%2C%20%22stroke%22%3A%20true%2C%20%22weight%22%3A%203%7D%0A%20%20%20%20%20%20%20%20%20%20%20%20%29.addTo%28map_df80af9bba0f4e9eb0862b3b6a21564b%29%3B%0A%20%20%20%20%20%20%20%20%0A%20%20%20%20%0A%20%20%20%20%20%20%20%20%20%20%20%20circle_marker_efb2dd0223ea46b9be5f03f6431d37f2.bindTooltip%28%0A%20%20%20%20%20%20%20%20%20%20%20%20%20%20%20%20%60%3Cdiv%3E%0A%20%20%20%20%20%20%20%20%20%20%20%20%20%20%20%20%20%20%20%20%20Milad%20Nouri%0A%20%20%20%20%20%20%20%20%20%20%20%20%20%20%20%20%20%3C/div%3E%60%2C%0A%20%20%20%20%20%20%20%20%20%20%20%20%20%20%20%20%7B%22sticky%22%3A%20true%7D%0A%20%20%20%20%20%20%20%20%20%20%20%20%29%3B%0A%20%20%20%20%20%20%20%20%0A%20%20%20%20%0A%20%20%20%20%20%20%20%20%20%20%20%20var%20circle_marker_51b6b909bb33410ca835d1e5c906e707%20%3D%20L.circleMarker%28%0A%20%20%20%20%20%20%20%20%20%20%20%20%20%20%20%20%5B50.463611111111%2C%201.7633333333333%5D%2C%0A%20%20%20%20%20%20%20%20%20%20%20%20%20%20%20%20%7B%22bubblingMouseEvents%22%3A%20true%2C%20%22color%22%3A%20%22%233388ff%22%2C%20%22dashArray%22%3A%20null%2C%20%22dashOffset%22%3A%20null%2C%20%22fill%22%3A%20true%2C%20%22fillColor%22%3A%20%22%233186cc%22%2C%20%22fillOpacity%22%3A%200.2%2C%20%22fillRule%22%3A%20%22evenodd%22%2C%20%22lineCap%22%3A%20%22round%22%2C%20%22lineJoin%22%3A%20%22round%22%2C%20%22opacity%22%3A%201.0%2C%20%22radius%22%3A%201.5%2C%20%22stroke%22%3A%20true%2C%20%22weight%22%3A%203%7D%0A%20%20%20%20%20%20%20%20%20%20%20%20%29.addTo%28map_df80af9bba0f4e9eb0862b3b6a21564b%29%3B%0A%20%20%20%20%20%20%20%20%0A%20%20%20%20%0A%20%20%20%20%20%20%20%20%20%20%20%20circle_marker_51b6b909bb33410ca835d1e5c906e707.bindTooltip%28%0A%20%20%20%20%20%20%20%20%20%20%20%20%20%20%20%20%60%3Cdiv%3E%0A%20%20%20%20%20%20%20%20%20%20%20%20%20%20%20%20%20%20%20%20%20Anthony%20Roux%0A%20%20%20%20%20%20%20%20%20%20%20%20%20%20%20%20%20%3C/div%3E%60%2C%0A%20%20%20%20%20%20%20%20%20%20%20%20%20%20%20%20%7B%22sticky%22%3A%20true%7D%0A%20%20%20%20%20%20%20%20%20%20%20%20%29%3B%0A%20%20%20%20%20%20%20%20%0A%20%20%20%20%0A%20%20%20%20%20%20%20%20%20%20%20%20var%20circle_marker_a11309ebe8da4b1987d9c883c39b70d1%20%3D%20L.circleMarker%28%0A%20%20%20%20%20%20%20%20%20%20%20%20%20%20%20%20%5B49.188055555556%2C%206.9%5D%2C%0A%20%20%20%20%20%20%20%20%20%20%20%20%20%20%20%20%7B%22bubblingMouseEvents%22%3A%20true%2C%20%22color%22%3A%20%22%233388ff%22%2C%20%22dashArray%22%3A%20null%2C%20%22dashOffset%22%3A%20null%2C%20%22fill%22%3A%20true%2C%20%22fillColor%22%3A%20%22%233186cc%22%2C%20%22fillOpacity%22%3A%200.2%2C%20%22fillRule%22%3A%20%22evenodd%22%2C%20%22lineCap%22%3A%20%22round%22%2C%20%22lineJoin%22%3A%20%22round%22%2C%20%22opacity%22%3A%201.0%2C%20%22radius%22%3A%201.5%2C%20%22stroke%22%3A%20true%2C%20%22weight%22%3A%203%7D%0A%20%20%20%20%20%20%20%20%20%20%20%20%29.addTo%28map_df80af9bba0f4e9eb0862b3b6a21564b%29%3B%0A%20%20%20%20%20%20%20%20%0A%20%20%20%20%0A%20%20%20%20%20%20%20%20%20%20%20%20circle_marker_a11309ebe8da4b1987d9c883c39b70d1.bindTooltip%28%0A%20%20%20%20%20%20%20%20%20%20%20%20%20%20%20%20%60%3Cdiv%3E%0A%20%20%20%20%20%20%20%20%20%20%20%20%20%20%20%20%20%20%20%20%20Sam%20Hocevar%0A%20%20%20%20%20%20%20%20%20%20%20%20%20%20%20%20%20%3C/div%3E%60%2C%0A%20%20%20%20%20%20%20%20%20%20%20%20%20%20%20%20%7B%22sticky%22%3A%20true%7D%0A%20%20%20%20%20%20%20%20%20%20%20%20%29%3B%0A%20%20%20%20%20%20%20%20%0A%20%20%20%20%0A%20%20%20%20%20%20%20%20%20%20%20%20var%20circle_marker_c99a3510ca0a4294a57a07cca1797bc5%20%3D%20L.circleMarker%28%0A%20%20%20%20%20%20%20%20%20%20%20%20%20%20%20%20%5B47.070833333333%2C%2015.438611111111%5D%2C%0A%20%20%20%20%20%20%20%20%20%20%20%20%20%20%20%20%7B%22bubblingMouseEvents%22%3A%20true%2C%20%22color%22%3A%20%22%233388ff%22%2C%20%22dashArray%22%3A%20null%2C%20%22dashOffset%22%3A%20null%2C%20%22fill%22%3A%20true%2C%20%22fillColor%22%3A%20%22%233186cc%22%2C%20%22fillOpacity%22%3A%200.2%2C%20%22fillRule%22%3A%20%22evenodd%22%2C%20%22lineCap%22%3A%20%22round%22%2C%20%22lineJoin%22%3A%20%22round%22%2C%20%22opacity%22%3A%201.0%2C%20%22radius%22%3A%201.5%2C%20%22stroke%22%3A%20true%2C%20%22weight%22%3A%203%7D%0A%20%20%20%20%20%20%20%20%20%20%20%20%29.addTo%28map_df80af9bba0f4e9eb0862b3b6a21564b%29%3B%0A%20%20%20%20%20%20%20%20%0A%20%20%20%20%0A%20%20%20%20%20%20%20%20%20%20%20%20circle_marker_c99a3510ca0a4294a57a07cca1797bc5.bindTooltip%28%0A%20%20%20%20%20%20%20%20%20%20%20%20%20%20%20%20%60%3Cdiv%3E%0A%20%20%20%20%20%20%20%20%20%20%20%20%20%20%20%20%20%20%20%20%20Armin%20Ronacher%0A%20%20%20%20%20%20%20%20%20%20%20%20%20%20%20%20%20%3C/div%3E%60%2C%0A%20%20%20%20%20%20%20%20%20%20%20%20%20%20%20%20%7B%22sticky%22%3A%20true%7D%0A%20%20%20%20%20%20%20%20%20%20%20%20%29%3B%0A%20%20%20%20%20%20%20%20%0A%20%20%20%20%0A%20%20%20%20%20%20%20%20%20%20%20%20var%20circle_marker_a383e6ae7be849d68d487bdbc14ff8d4%20%3D%20L.circleMarker%28%0A%20%20%20%20%20%20%20%20%20%20%20%20%20%20%20%20%5B59.329444444444%2C%2018.068611111111%5D%2C%0A%20%20%20%20%20%20%20%20%20%20%20%20%20%20%20%20%7B%22bubblingMouseEvents%22%3A%20true%2C%20%22color%22%3A%20%22%233388ff%22%2C%20%22dashArray%22%3A%20null%2C%20%22dashOffset%22%3A%20null%2C%20%22fill%22%3A%20true%2C%20%22fillColor%22%3A%20%22%233186cc%22%2C%20%22fillOpacity%22%3A%200.2%2C%20%22fillRule%22%3A%20%22evenodd%22%2C%20%22lineCap%22%3A%20%22round%22%2C%20%22lineJoin%22%3A%20%22round%22%2C%20%22opacity%22%3A%201.0%2C%20%22radius%22%3A%201.5%2C%20%22stroke%22%3A%20true%2C%20%22weight%22%3A%203%7D%0A%20%20%20%20%20%20%20%20%20%20%20%20%29.addTo%28map_df80af9bba0f4e9eb0862b3b6a21564b%29%3B%0A%20%20%20%20%20%20%20%20%0A%20%20%20%20%0A%20%20%20%20%20%20%20%20%20%20%20%20circle_marker_a383e6ae7be849d68d487bdbc14ff8d4.bindTooltip%28%0A%20%20%20%20%20%20%20%20%20%20%20%20%20%20%20%20%60%3Cdiv%3E%0A%20%20%20%20%20%20%20%20%20%20%20%20%20%20%20%20%20%20%20%20%20Markus%20Persson%0A%20%20%20%20%20%20%20%20%20%20%20%20%20%20%20%20%20%3C/div%3E%60%2C%0A%20%20%20%20%20%20%20%20%20%20%20%20%20%20%20%20%7B%22sticky%22%3A%20true%7D%0A%20%20%20%20%20%20%20%20%20%20%20%20%29%3B%0A%20%20%20%20%20%20%20%20%0A%20%20%20%20%0A%20%20%20%20%20%20%20%20%20%20%20%20var%20circle_marker_aefcb08550844cbca23c6debdb1b896d%20%3D%20L.circleMarker%28%0A%20%20%20%20%20%20%20%20%20%20%20%20%20%20%20%20%5B45.424722222222%2C%20-75.695%5D%2C%0A%20%20%20%20%20%20%20%20%20%20%20%20%20%20%20%20%7B%22bubblingMouseEvents%22%3A%20true%2C%20%22color%22%3A%20%22%233388ff%22%2C%20%22dashArray%22%3A%20null%2C%20%22dashOffset%22%3A%20null%2C%20%22fill%22%3A%20true%2C%20%22fillColor%22%3A%20%22%233186cc%22%2C%20%22fillOpacity%22%3A%200.2%2C%20%22fillRule%22%3A%20%22evenodd%22%2C%20%22lineCap%22%3A%20%22round%22%2C%20%22lineJoin%22%3A%20%22round%22%2C%20%22opacity%22%3A%201.0%2C%20%22radius%22%3A%201.5%2C%20%22stroke%22%3A%20true%2C%20%22weight%22%3A%203%7D%0A%20%20%20%20%20%20%20%20%20%20%20%20%29.addTo%28map_df80af9bba0f4e9eb0862b3b6a21564b%29%3B%0A%20%20%20%20%20%20%20%20%0A%20%20%20%20%0A%20%20%20%20%20%20%20%20%20%20%20%20circle_marker_aefcb08550844cbca23c6debdb1b896d.bindTooltip%28%0A%20%20%20%20%20%20%20%20%20%20%20%20%20%20%20%20%60%3Cdiv%3E%0A%20%20%20%20%20%20%20%20%20%20%20%20%20%20%20%20%20%20%20%20%20Ryan%20North%0A%20%20%20%20%20%20%20%20%20%20%20%20%20%20%20%20%20%3C/div%3E%60%2C%0A%20%20%20%20%20%20%20%20%20%20%20%20%20%20%20%20%7B%22sticky%22%3A%20true%7D%0A%20%20%20%20%20%20%20%20%20%20%20%20%29%3B%0A%20%20%20%20%20%20%20%20%0A%20%20%20%20%0A%20%20%20%20%20%20%20%20%20%20%20%20var%20circle_marker_66d71579db854a3e8e7f19fce6152565%20%3D%20L.circleMarker%28%0A%20%20%20%20%20%20%20%20%20%20%20%20%20%20%20%20%5B39.502777777778%2C%20-0.44055555555556%5D%2C%0A%20%20%20%20%20%20%20%20%20%20%20%20%20%20%20%20%7B%22bubblingMouseEvents%22%3A%20true%2C%20%22color%22%3A%20%22%233388ff%22%2C%20%22dashArray%22%3A%20null%2C%20%22dashOffset%22%3A%20null%2C%20%22fill%22%3A%20true%2C%20%22fillColor%22%3A%20%22%233186cc%22%2C%20%22fillOpacity%22%3A%200.2%2C%20%22fillRule%22%3A%20%22evenodd%22%2C%20%22lineCap%22%3A%20%22round%22%2C%20%22lineJoin%22%3A%20%22round%22%2C%20%22opacity%22%3A%201.0%2C%20%22radius%22%3A%201.5%2C%20%22stroke%22%3A%20true%2C%20%22weight%22%3A%203%7D%0A%20%20%20%20%20%20%20%20%20%20%20%20%29.addTo%28map_df80af9bba0f4e9eb0862b3b6a21564b%29%3B%0A%20%20%20%20%20%20%20%20%0A%20%20%20%20%0A%20%20%20%20%20%20%20%20%20%20%20%20circle_marker_66d71579db854a3e8e7f19fce6152565.bindTooltip%28%0A%20%20%20%20%20%20%20%20%20%20%20%20%20%20%20%20%60%3Cdiv%3E%0A%20%20%20%20%20%20%20%20%20%20%20%20%20%20%20%20%20%20%20%20%20Bram%20Cohen%0A%20%20%20%20%20%20%20%20%20%20%20%20%20%20%20%20%20%3C/div%3E%60%2C%0A%20%20%20%20%20%20%20%20%20%20%20%20%20%20%20%20%7B%22sticky%22%3A%20true%7D%0A%20%20%20%20%20%20%20%20%20%20%20%20%29%3B%0A%20%20%20%20%20%20%20%20%0A%20%20%20%20%0A%20%20%20%20%20%20%20%20%20%20%20%20var%20circle_marker_e743e0c39d224564bba5db7dd03ea82e%20%3D%20L.circleMarker%28%0A%20%20%20%20%20%20%20%20%20%20%20%20%20%20%20%20%5B51.0%2C%2010.0%5D%2C%0A%20%20%20%20%20%20%20%20%20%20%20%20%20%20%20%20%7B%22bubblingMouseEvents%22%3A%20true%2C%20%22color%22%3A%20%22%233388ff%22%2C%20%22dashArray%22%3A%20null%2C%20%22dashOffset%22%3A%20null%2C%20%22fill%22%3A%20true%2C%20%22fillColor%22%3A%20%22%233186cc%22%2C%20%22fillOpacity%22%3A%200.2%2C%20%22fillRule%22%3A%20%22evenodd%22%2C%20%22lineCap%22%3A%20%22round%22%2C%20%22lineJoin%22%3A%20%22round%22%2C%20%22opacity%22%3A%201.0%2C%20%22radius%22%3A%201.5%2C%20%22stroke%22%3A%20true%2C%20%22weight%22%3A%203%7D%0A%20%20%20%20%20%20%20%20%20%20%20%20%29.addTo%28map_df80af9bba0f4e9eb0862b3b6a21564b%29%3B%0A%20%20%20%20%20%20%20%20%0A%20%20%20%20%0A%20%20%20%20%20%20%20%20%20%20%20%20circle_marker_e743e0c39d224564bba5db7dd03ea82e.bindTooltip%28%0A%20%20%20%20%20%20%20%20%20%20%20%20%20%20%20%20%60%3Cdiv%3E%0A%20%20%20%20%20%20%20%20%20%20%20%20%20%20%20%20%20%20%20%20%20Harald%20Welte%0A%20%20%20%20%20%20%20%20%20%20%20%20%20%20%20%20%20%3C/div%3E%60%2C%0A%20%20%20%20%20%20%20%20%20%20%20%20%20%20%20%20%7B%22sticky%22%3A%20true%7D%0A%20%20%20%20%20%20%20%20%20%20%20%20%29%3B%0A%20%20%20%20%20%20%20%20%0A%20%20%20%20%0A%20%20%20%20%20%20%20%20%20%20%20%20var%20circle_marker_c29d175b6a1d4028be4b5c178880c297%20%3D%20L.circleMarker%28%0A%20%20%20%20%20%20%20%20%20%20%20%20%20%20%20%20%5B37.429166666667%2C%20-122.13805555556%5D%2C%0A%20%20%20%20%20%20%20%20%20%20%20%20%20%20%20%20%7B%22bubblingMouseEvents%22%3A%20true%2C%20%22color%22%3A%20%22%233388ff%22%2C%20%22dashArray%22%3A%20null%2C%20%22dashOffset%22%3A%20null%2C%20%22fill%22%3A%20true%2C%20%22fillColor%22%3A%20%22%233186cc%22%2C%20%22fillOpacity%22%3A%200.2%2C%20%22fillRule%22%3A%20%22evenodd%22%2C%20%22lineCap%22%3A%20%22round%22%2C%20%22lineJoin%22%3A%20%22round%22%2C%20%22opacity%22%3A%201.0%2C%20%22radius%22%3A%201.5%2C%20%22stroke%22%3A%20true%2C%20%22weight%22%3A%203%7D%0A%20%20%20%20%20%20%20%20%20%20%20%20%29.addTo%28map_df80af9bba0f4e9eb0862b3b6a21564b%29%3B%0A%20%20%20%20%20%20%20%20%0A%20%20%20%20%0A%20%20%20%20%20%20%20%20%20%20%20%20circle_marker_c29d175b6a1d4028be4b5c178880c297.bindTooltip%28%0A%20%20%20%20%20%20%20%20%20%20%20%20%20%20%20%20%60%3Cdiv%3E%0A%20%20%20%20%20%20%20%20%20%20%20%20%20%20%20%20%20%20%20%20%20Theodore%20Ts%27o%0A%20%20%20%20%20%20%20%20%20%20%20%20%20%20%20%20%20%3C/div%3E%60%2C%0A%20%20%20%20%20%20%20%20%20%20%20%20%20%20%20%20%7B%22sticky%22%3A%20true%7D%0A%20%20%20%20%20%20%20%20%20%20%20%20%29%3B%0A%20%20%20%20%20%20%20%20%0A%20%20%20%20%0A%20%20%20%20%20%20%20%20%20%20%20%20var%20circle_marker_90064c695fca46d495a586857a751f88%20%3D%20L.circleMarker%28%0A%20%20%20%20%20%20%20%20%20%20%20%20%20%20%20%20%5B42.358333333333%2C%20-71.0625%5D%2C%0A%20%20%20%20%20%20%20%20%20%20%20%20%20%20%20%20%7B%22bubblingMouseEvents%22%3A%20true%2C%20%22color%22%3A%20%22%233388ff%22%2C%20%22dashArray%22%3A%20null%2C%20%22dashOffset%22%3A%20null%2C%20%22fill%22%3A%20true%2C%20%22fillColor%22%3A%20%22%233186cc%22%2C%20%22fillOpacity%22%3A%200.2%2C%20%22fillRule%22%3A%20%22evenodd%22%2C%20%22lineCap%22%3A%20%22round%22%2C%20%22lineJoin%22%3A%20%22round%22%2C%20%22opacity%22%3A%201.0%2C%20%22radius%22%3A%201.5%2C%20%22stroke%22%3A%20true%2C%20%22weight%22%3A%203%7D%0A%20%20%20%20%20%20%20%20%20%20%20%20%29.addTo%28map_df80af9bba0f4e9eb0862b3b6a21564b%29%3B%0A%20%20%20%20%20%20%20%20%0A%20%20%20%20%0A%20%20%20%20%20%20%20%20%20%20%20%20circle_marker_90064c695fca46d495a586857a751f88.bindTooltip%28%0A%20%20%20%20%20%20%20%20%20%20%20%20%20%20%20%20%60%3Cdiv%3E%0A%20%20%20%20%20%20%20%20%20%20%20%20%20%20%20%20%20%20%20%20%20Eric%20S.%20Raymond%0A%20%20%20%20%20%20%20%20%20%20%20%20%20%20%20%20%20%3C/div%3E%60%2C%0A%20%20%20%20%20%20%20%20%20%20%20%20%20%20%20%20%7B%22sticky%22%3A%20true%7D%0A%20%20%20%20%20%20%20%20%20%20%20%20%29%3B%0A%20%20%20%20%20%20%20%20%0A%20%20%20%20%0A%20%20%20%20%20%20%20%20%20%20%20%20var%20circle_marker_d9be64915c4d485785a5310af4e267c7%20%3D%20L.circleMarker%28%0A%20%20%20%20%20%20%20%20%20%20%20%20%20%20%20%20%5B42.358333333333%2C%20-71.0625%5D%2C%0A%20%20%20%20%20%20%20%20%20%20%20%20%20%20%20%20%7B%22bubblingMouseEvents%22%3A%20true%2C%20%22color%22%3A%20%22%233388ff%22%2C%20%22dashArray%22%3A%20null%2C%20%22dashOffset%22%3A%20null%2C%20%22fill%22%3A%20true%2C%20%22fillColor%22%3A%20%22%233186cc%22%2C%20%22fillOpacity%22%3A%200.2%2C%20%22fillRule%22%3A%20%22evenodd%22%2C%20%22lineCap%22%3A%20%22round%22%2C%20%22lineJoin%22%3A%20%22round%22%2C%20%22opacity%22%3A%201.0%2C%20%22radius%22%3A%201.5%2C%20%22stroke%22%3A%20true%2C%20%22weight%22%3A%203%7D%0A%20%20%20%20%20%20%20%20%20%20%20%20%29.addTo%28map_df80af9bba0f4e9eb0862b3b6a21564b%29%3B%0A%20%20%20%20%20%20%20%20%0A%20%20%20%20%0A%20%20%20%20%20%20%20%20%20%20%20%20circle_marker_d9be64915c4d485785a5310af4e267c7.bindTooltip%28%0A%20%20%20%20%20%20%20%20%20%20%20%20%20%20%20%20%60%3Cdiv%3E%0A%20%20%20%20%20%20%20%20%20%20%20%20%20%20%20%20%20%20%20%20%20Eric%20S.%20Raymond%0A%20%20%20%20%20%20%20%20%20%20%20%20%20%20%20%20%20%3C/div%3E%60%2C%0A%20%20%20%20%20%20%20%20%20%20%20%20%20%20%20%20%7B%22sticky%22%3A%20true%7D%0A%20%20%20%20%20%20%20%20%20%20%20%20%29%3B%0A%20%20%20%20%20%20%20%20%0A%20%20%20%20%0A%20%20%20%20%20%20%20%20%20%20%20%20var%20circle_marker_4c0fd59554df479fa5c72055afe02245%20%3D%20L.circleMarker%28%0A%20%20%20%20%20%20%20%20%20%20%20%20%20%20%20%20%5B42.358333333333%2C%20-71.0625%5D%2C%0A%20%20%20%20%20%20%20%20%20%20%20%20%20%20%20%20%7B%22bubblingMouseEvents%22%3A%20true%2C%20%22color%22%3A%20%22%233388ff%22%2C%20%22dashArray%22%3A%20null%2C%20%22dashOffset%22%3A%20null%2C%20%22fill%22%3A%20true%2C%20%22fillColor%22%3A%20%22%233186cc%22%2C%20%22fillOpacity%22%3A%200.2%2C%20%22fillRule%22%3A%20%22evenodd%22%2C%20%22lineCap%22%3A%20%22round%22%2C%20%22lineJoin%22%3A%20%22round%22%2C%20%22opacity%22%3A%201.0%2C%20%22radius%22%3A%201.5%2C%20%22stroke%22%3A%20true%2C%20%22weight%22%3A%203%7D%0A%20%20%20%20%20%20%20%20%20%20%20%20%29.addTo%28map_df80af9bba0f4e9eb0862b3b6a21564b%29%3B%0A%20%20%20%20%20%20%20%20%0A%20%20%20%20%0A%20%20%20%20%20%20%20%20%20%20%20%20circle_marker_4c0fd59554df479fa5c72055afe02245.bindTooltip%28%0A%20%20%20%20%20%20%20%20%20%20%20%20%20%20%20%20%60%3Cdiv%3E%0A%20%20%20%20%20%20%20%20%20%20%20%20%20%20%20%20%20%20%20%20%20Eric%20S.%20Raymond%0A%20%20%20%20%20%20%20%20%20%20%20%20%20%20%20%20%20%3C/div%3E%60%2C%0A%20%20%20%20%20%20%20%20%20%20%20%20%20%20%20%20%7B%22sticky%22%3A%20true%7D%0A%20%20%20%20%20%20%20%20%20%20%20%20%29%3B%0A%20%20%20%20%20%20%20%20%0A%20%20%20%20%0A%20%20%20%20%20%20%20%20%20%20%20%20var%20circle_marker_8717858c24b345a6af504f273df40afb%20%3D%20L.circleMarker%28%0A%20%20%20%20%20%20%20%20%20%20%20%20%20%20%20%20%5B42.331666666667%2C%20-83.0475%5D%2C%0A%20%20%20%20%20%20%20%20%20%20%20%20%20%20%20%20%7B%22bubblingMouseEvents%22%3A%20true%2C%20%22color%22%3A%20%22%233388ff%22%2C%20%22dashArray%22%3A%20null%2C%20%22dashOffset%22%3A%20null%2C%20%22fill%22%3A%20true%2C%20%22fillColor%22%3A%20%22%233186cc%22%2C%20%22fillOpacity%22%3A%200.2%2C%20%22fillRule%22%3A%20%22evenodd%22%2C%20%22lineCap%22%3A%20%22round%22%2C%20%22lineJoin%22%3A%20%22round%22%2C%20%22opacity%22%3A%201.0%2C%20%22radius%22%3A%201.5%2C%20%22stroke%22%3A%20true%2C%20%22weight%22%3A%203%7D%0A%20%20%20%20%20%20%20%20%20%20%20%20%29.addTo%28map_df80af9bba0f4e9eb0862b3b6a21564b%29%3B%0A%20%20%20%20%20%20%20%20%0A%20%20%20%20%0A%20%20%20%20%20%20%20%20%20%20%20%20circle_marker_8717858c24b345a6af504f273df40afb.bindTooltip%28%0A%20%20%20%20%20%20%20%20%20%20%20%20%20%20%20%20%60%3Cdiv%3E%0A%20%20%20%20%20%20%20%20%20%20%20%20%20%20%20%20%20%20%20%20%20Michael%20Mandiberg%0A%20%20%20%20%20%20%20%20%20%20%20%20%20%20%20%20%20%3C/div%3E%60%2C%0A%20%20%20%20%20%20%20%20%20%20%20%20%20%20%20%20%7B%22sticky%22%3A%20true%7D%0A%20%20%20%20%20%20%20%20%20%20%20%20%29%3B%0A%20%20%20%20%20%20%20%20%0A%20%20%20%20%0A%20%20%20%20%20%20%20%20%20%20%20%20var%20circle_marker_12fa15eecf3747d1bb91382240254877%20%3D%20L.circleMarker%28%0A%20%20%20%20%20%20%20%20%20%20%20%20%20%20%20%20%5B42.358333333333%2C%20-71.0625%5D%2C%0A%20%20%20%20%20%20%20%20%20%20%20%20%20%20%20%20%7B%22bubblingMouseEvents%22%3A%20true%2C%20%22color%22%3A%20%22%233388ff%22%2C%20%22dashArray%22%3A%20null%2C%20%22dashOffset%22%3A%20null%2C%20%22fill%22%3A%20true%2C%20%22fillColor%22%3A%20%22%233186cc%22%2C%20%22fillOpacity%22%3A%200.2%2C%20%22fillRule%22%3A%20%22evenodd%22%2C%20%22lineCap%22%3A%20%22round%22%2C%20%22lineJoin%22%3A%20%22round%22%2C%20%22opacity%22%3A%201.0%2C%20%22radius%22%3A%201.5%2C%20%22stroke%22%3A%20true%2C%20%22weight%22%3A%203%7D%0A%20%20%20%20%20%20%20%20%20%20%20%20%29.addTo%28map_df80af9bba0f4e9eb0862b3b6a21564b%29%3B%0A%20%20%20%20%20%20%20%20%0A%20%20%20%20%0A%20%20%20%20%20%20%20%20%20%20%20%20circle_marker_12fa15eecf3747d1bb91382240254877.bindTooltip%28%0A%20%20%20%20%20%20%20%20%20%20%20%20%20%20%20%20%60%3Cdiv%3E%0A%20%20%20%20%20%20%20%20%20%20%20%20%20%20%20%20%20%20%20%20%20Eric%20S.%20Raymond%0A%20%20%20%20%20%20%20%20%20%20%20%20%20%20%20%20%20%3C/div%3E%60%2C%0A%20%20%20%20%20%20%20%20%20%20%20%20%20%20%20%20%7B%22sticky%22%3A%20true%7D%0A%20%20%20%20%20%20%20%20%20%20%20%20%29%3B%0A%20%20%20%20%20%20%20%20%0A%20%20%20%20%0A%20%20%20%20%20%20%20%20%20%20%20%20var%20circle_marker_a072ba71e7d04a99aaaf968315b82f41%20%3D%20L.circleMarker%28%0A%20%20%20%20%20%20%20%20%20%20%20%20%20%20%20%20%5B40.0%2C%20-74.5%5D%2C%0A%20%20%20%20%20%20%20%20%20%20%20%20%20%20%20%20%7B%22bubblingMouseEvents%22%3A%20true%2C%20%22color%22%3A%20%22%233388ff%22%2C%20%22dashArray%22%3A%20null%2C%20%22dashOffset%22%3A%20null%2C%20%22fill%22%3A%20true%2C%20%22fillColor%22%3A%20%22%233186cc%22%2C%20%22fillOpacity%22%3A%200.2%2C%20%22fillRule%22%3A%20%22evenodd%22%2C%20%22lineCap%22%3A%20%22round%22%2C%20%22lineJoin%22%3A%20%22round%22%2C%20%22opacity%22%3A%201.0%2C%20%22radius%22%3A%201.5%2C%20%22stroke%22%3A%20true%2C%20%22weight%22%3A%203%7D%0A%20%20%20%20%20%20%20%20%20%20%20%20%29.addTo%28map_df80af9bba0f4e9eb0862b3b6a21564b%29%3B%0A%20%20%20%20%20%20%20%20%0A%20%20%20%20%0A%20%20%20%20%20%20%20%20%20%20%20%20circle_marker_a072ba71e7d04a99aaaf968315b82f41.bindTooltip%28%0A%20%20%20%20%20%20%20%20%20%20%20%20%20%20%20%20%60%3Cdiv%3E%0A%20%20%20%20%20%20%20%20%20%20%20%20%20%20%20%20%20%20%20%20%20Bill%20Gosper%0A%20%20%20%20%20%20%20%20%20%20%20%20%20%20%20%20%20%3C/div%3E%60%2C%0A%20%20%20%20%20%20%20%20%20%20%20%20%20%20%20%20%7B%22sticky%22%3A%20true%7D%0A%20%20%20%20%20%20%20%20%20%20%20%20%29%3B%0A%20%20%20%20%20%20%20%20%0A%20%20%20%20%0A%20%20%20%20%20%20%20%20%20%20%20%20var%20circle_marker_67139c3e817d41009ccd279b9bb68be7%20%3D%20L.circleMarker%28%0A%20%20%20%20%20%20%20%20%20%20%20%20%20%20%20%20%5B43.25%2C%2076.9%5D%2C%0A%20%20%20%20%20%20%20%20%20%20%20%20%20%20%20%20%7B%22bubblingMouseEvents%22%3A%20true%2C%20%22color%22%3A%20%22%233388ff%22%2C%20%22dashArray%22%3A%20null%2C%20%22dashOffset%22%3A%20null%2C%20%22fill%22%3A%20true%2C%20%22fillColor%22%3A%20%22%233186cc%22%2C%20%22fillOpacity%22%3A%200.2%2C%20%22fillRule%22%3A%20%22evenodd%22%2C%20%22lineCap%22%3A%20%22round%22%2C%20%22lineJoin%22%3A%20%22round%22%2C%20%22opacity%22%3A%201.0%2C%20%22radius%22%3A%201.5%2C%20%22stroke%22%3A%20true%2C%20%22weight%22%3A%203%7D%0A%20%20%20%20%20%20%20%20%20%20%20%20%29.addTo%28map_df80af9bba0f4e9eb0862b3b6a21564b%29%3B%0A%20%20%20%20%20%20%20%20%0A%20%20%20%20%0A%20%20%20%20%20%20%20%20%20%20%20%20circle_marker_67139c3e817d41009ccd279b9bb68be7.bindTooltip%28%0A%20%20%20%20%20%20%20%20%20%20%20%20%20%20%20%20%60%3Cdiv%3E%0A%20%20%20%20%20%20%20%20%20%20%20%20%20%20%20%20%20%20%20%20%20Alexandra%20Elbakyan%0A%20%20%20%20%20%20%20%20%20%20%20%20%20%20%20%20%20%3C/div%3E%60%2C%0A%20%20%20%20%20%20%20%20%20%20%20%20%20%20%20%20%7B%22sticky%22%3A%20true%7D%0A%20%20%20%20%20%20%20%20%20%20%20%20%29%3B%0A%20%20%20%20%20%20%20%20%0A%20%20%20%20%0A%20%20%20%20%20%20%20%20%20%20%20%20var%20circle_marker_82f4f2c778fb4ccca594fb8cb8364557%20%3D%20L.circleMarker%28%0A%20%20%20%20%20%20%20%20%20%20%20%20%20%20%20%20%5B69.247222222222%2C%20-53.533333333333%5D%2C%0A%20%20%20%20%20%20%20%20%20%20%20%20%20%20%20%20%7B%22bubblingMouseEvents%22%3A%20true%2C%20%22color%22%3A%20%22%233388ff%22%2C%20%22dashArray%22%3A%20null%2C%20%22dashOffset%22%3A%20null%2C%20%22fill%22%3A%20true%2C%20%22fillColor%22%3A%20%22%233186cc%22%2C%20%22fillOpacity%22%3A%200.2%2C%20%22fillRule%22%3A%20%22evenodd%22%2C%20%22lineCap%22%3A%20%22round%22%2C%20%22lineJoin%22%3A%20%22round%22%2C%20%22opacity%22%3A%201.0%2C%20%22radius%22%3A%201.5%2C%20%22stroke%22%3A%20true%2C%20%22weight%22%3A%203%7D%0A%20%20%20%20%20%20%20%20%20%20%20%20%29.addTo%28map_df80af9bba0f4e9eb0862b3b6a21564b%29%3B%0A%20%20%20%20%20%20%20%20%0A%20%20%20%20%0A%20%20%20%20%20%20%20%20%20%20%20%20circle_marker_82f4f2c778fb4ccca594fb8cb8364557.bindTooltip%28%0A%20%20%20%20%20%20%20%20%20%20%20%20%20%20%20%20%60%3Cdiv%3E%0A%20%20%20%20%20%20%20%20%20%20%20%20%20%20%20%20%20%20%20%20%20Rasmus%20Lerdorf%0A%20%20%20%20%20%20%20%20%20%20%20%20%20%20%20%20%20%3C/div%3E%60%2C%0A%20%20%20%20%20%20%20%20%20%20%20%20%20%20%20%20%7B%22sticky%22%3A%20true%7D%0A%20%20%20%20%20%20%20%20%20%20%20%20%29%3B%0A%20%20%20%20%20%20%20%20%0A%20%20%20%20%0A%20%20%20%20%20%20%20%20%20%20%20%20var%20circle_marker_99e7ebbea59f4a18aef03a6644764f77%20%3D%20L.circleMarker%28%0A%20%20%20%20%20%20%20%20%20%20%20%20%20%20%20%20%5B40.768333333333%2C%20-72.983055555556%5D%2C%0A%20%20%20%20%20%20%20%20%20%20%20%20%20%20%20%20%7B%22bubblingMouseEvents%22%3A%20true%2C%20%22color%22%3A%20%22%233388ff%22%2C%20%22dashArray%22%3A%20null%2C%20%22dashOffset%22%3A%20null%2C%20%22fill%22%3A%20true%2C%20%22fillColor%22%3A%20%22%233186cc%22%2C%20%22fillOpacity%22%3A%200.2%2C%20%22fillRule%22%3A%20%22evenodd%22%2C%20%22lineCap%22%3A%20%22round%22%2C%20%22lineJoin%22%3A%20%22round%22%2C%20%22opacity%22%3A%201.0%2C%20%22radius%22%3A%201.5%2C%20%22stroke%22%3A%20true%2C%20%22weight%22%3A%203%7D%0A%20%20%20%20%20%20%20%20%20%20%20%20%29.addTo%28map_df80af9bba0f4e9eb0862b3b6a21564b%29%3B%0A%20%20%20%20%20%20%20%20%0A%20%20%20%20%0A%20%20%20%20%20%20%20%20%20%20%20%20circle_marker_99e7ebbea59f4a18aef03a6644764f77.bindTooltip%28%0A%20%20%20%20%20%20%20%20%20%20%20%20%20%20%20%20%60%3Cdiv%3E%0A%20%20%20%20%20%20%20%20%20%20%20%20%20%20%20%20%20%20%20%20%20Daniel%20J.%20Bernstein%0A%20%20%20%20%20%20%20%20%20%20%20%20%20%20%20%20%20%3C/div%3E%60%2C%0A%20%20%20%20%20%20%20%20%20%20%20%20%20%20%20%20%7B%22sticky%22%3A%20true%7D%0A%20%20%20%20%20%20%20%20%20%20%20%20%29%3B%0A%20%20%20%20%20%20%20%20%0A%20%20%20%20%0A%20%20%20%20%20%20%20%20%20%20%20%20var%20circle_marker_cf4930193aef4672a0eac8b11de94719%20%3D%20L.circleMarker%28%0A%20%20%20%20%20%20%20%20%20%20%20%20%20%20%20%20%5B43.05%2C%20-87.95%5D%2C%0A%20%20%20%20%20%20%20%20%20%20%20%20%20%20%20%20%7B%22bubblingMouseEvents%22%3A%20true%2C%20%22color%22%3A%20%22%233388ff%22%2C%20%22dashArray%22%3A%20null%2C%20%22dashOffset%22%3A%20null%2C%20%22fill%22%3A%20true%2C%20%22fillColor%22%3A%20%22%233186cc%22%2C%20%22fillOpacity%22%3A%200.2%2C%20%22fillRule%22%3A%20%22evenodd%22%2C%20%22lineCap%22%3A%20%22round%22%2C%20%22lineJoin%22%3A%20%22round%22%2C%20%22opacity%22%3A%201.0%2C%20%22radius%22%3A%201.5%2C%20%22stroke%22%3A%20true%2C%20%22weight%22%3A%203%7D%0A%20%20%20%20%20%20%20%20%20%20%20%20%29.addTo%28map_df80af9bba0f4e9eb0862b3b6a21564b%29%3B%0A%20%20%20%20%20%20%20%20%0A%20%20%20%20%0A%20%20%20%20%20%20%20%20%20%20%20%20circle_marker_cf4930193aef4672a0eac8b11de94719.bindTooltip%28%0A%20%20%20%20%20%20%20%20%20%20%20%20%20%20%20%20%60%3Cdiv%3E%0A%20%20%20%20%20%20%20%20%20%20%20%20%20%20%20%20%20%20%20%20%20Donald%20Knuth%0A%20%20%20%20%20%20%20%20%20%20%20%20%20%20%20%20%20%3C/div%3E%60%2C%0A%20%20%20%20%20%20%20%20%20%20%20%20%20%20%20%20%7B%22sticky%22%3A%20true%7D%0A%20%20%20%20%20%20%20%20%20%20%20%20%29%3B%0A%20%20%20%20%20%20%20%20%0A%20%20%20%20%0A%20%20%20%20%20%20%20%20%20%20%20%20var%20circle_marker_64a9b143dbee4492bf90c4fb47ec6950%20%3D%20L.circleMarker%28%0A%20%20%20%20%20%20%20%20%20%20%20%20%20%20%20%20%5B-2.4908333333333%2C%2028.842777777778%5D%2C%0A%20%20%20%20%20%20%20%20%20%20%20%20%20%20%20%20%7B%22bubblingMouseEvents%22%3A%20true%2C%20%22color%22%3A%20%22%233388ff%22%2C%20%22dashArray%22%3A%20null%2C%20%22dashOffset%22%3A%20null%2C%20%22fill%22%3A%20true%2C%20%22fillColor%22%3A%20%22%233186cc%22%2C%20%22fillOpacity%22%3A%200.2%2C%20%22fillRule%22%3A%20%22evenodd%22%2C%20%22lineCap%22%3A%20%22round%22%2C%20%22lineJoin%22%3A%20%22round%22%2C%20%22opacity%22%3A%201.0%2C%20%22radius%22%3A%201.5%2C%20%22stroke%22%3A%20true%2C%20%22weight%22%3A%203%7D%0A%20%20%20%20%20%20%20%20%20%20%20%20%29.addTo%28map_df80af9bba0f4e9eb0862b3b6a21564b%29%3B%0A%20%20%20%20%20%20%20%20%0A%20%20%20%20%0A%20%20%20%20%20%20%20%20%20%20%20%20circle_marker_64a9b143dbee4492bf90c4fb47ec6950.bindTooltip%28%0A%20%20%20%20%20%20%20%20%20%20%20%20%20%20%20%20%60%3Cdiv%3E%0A%20%20%20%20%20%20%20%20%20%20%20%20%20%20%20%20%20%20%20%20%20Amini%20Cishugi%0A%20%20%20%20%20%20%20%20%20%20%20%20%20%20%20%20%20%3C/div%3E%60%2C%0A%20%20%20%20%20%20%20%20%20%20%20%20%20%20%20%20%7B%22sticky%22%3A%20true%7D%0A%20%20%20%20%20%20%20%20%20%20%20%20%29%3B%0A%20%20%20%20%20%20%20%20%0A%20%20%20%20%0A%20%20%20%20%20%20%20%20%20%20%20%20var%20circle_marker_77e4596a73e74f4192e0a6766fdeac2d%20%3D%20L.circleMarker%28%0A%20%20%20%20%20%20%20%20%20%20%20%20%20%20%20%20%5B-2.4908333333333%2C%2028.842777777778%5D%2C%0A%20%20%20%20%20%20%20%20%20%20%20%20%20%20%20%20%7B%22bubblingMouseEvents%22%3A%20true%2C%20%22color%22%3A%20%22%233388ff%22%2C%20%22dashArray%22%3A%20null%2C%20%22dashOffset%22%3A%20null%2C%20%22fill%22%3A%20true%2C%20%22fillColor%22%3A%20%22%233186cc%22%2C%20%22fillOpacity%22%3A%200.2%2C%20%22fillRule%22%3A%20%22evenodd%22%2C%20%22lineCap%22%3A%20%22round%22%2C%20%22lineJoin%22%3A%20%22round%22%2C%20%22opacity%22%3A%201.0%2C%20%22radius%22%3A%201.5%2C%20%22stroke%22%3A%20true%2C%20%22weight%22%3A%203%7D%0A%20%20%20%20%20%20%20%20%20%20%20%20%29.addTo%28map_df80af9bba0f4e9eb0862b3b6a21564b%29%3B%0A%20%20%20%20%20%20%20%20%0A%20%20%20%20%0A%20%20%20%20%20%20%20%20%20%20%20%20circle_marker_77e4596a73e74f4192e0a6766fdeac2d.bindTooltip%28%0A%20%20%20%20%20%20%20%20%20%20%20%20%20%20%20%20%60%3Cdiv%3E%0A%20%20%20%20%20%20%20%20%20%20%20%20%20%20%20%20%20%20%20%20%20Amini%20Cishugi%0A%20%20%20%20%20%20%20%20%20%20%20%20%20%20%20%20%20%3C/div%3E%60%2C%0A%20%20%20%20%20%20%20%20%20%20%20%20%20%20%20%20%7B%22sticky%22%3A%20true%7D%0A%20%20%20%20%20%20%20%20%20%20%20%20%29%3B%0A%20%20%20%20%20%20%20%20%0A%20%20%20%20%0A%20%20%20%20%20%20%20%20%20%20%20%20var%20circle_marker_d81587345a214ebeb9e2a7af35f4d204%20%3D%20L.circleMarker%28%0A%20%20%20%20%20%20%20%20%20%20%20%20%20%20%20%20%5B37.7775%2C%20-122.41638888889%5D%2C%0A%20%20%20%20%20%20%20%20%20%20%20%20%20%20%20%20%7B%22bubblingMouseEvents%22%3A%20true%2C%20%22color%22%3A%20%22%233388ff%22%2C%20%22dashArray%22%3A%20null%2C%20%22dashOffset%22%3A%20null%2C%20%22fill%22%3A%20true%2C%20%22fillColor%22%3A%20%22%233186cc%22%2C%20%22fillOpacity%22%3A%200.2%2C%20%22fillRule%22%3A%20%22evenodd%22%2C%20%22lineCap%22%3A%20%22round%22%2C%20%22lineJoin%22%3A%20%22round%22%2C%20%22opacity%22%3A%201.0%2C%20%22radius%22%3A%201.5%2C%20%22stroke%22%3A%20true%2C%20%22weight%22%3A%203%7D%0A%20%20%20%20%20%20%20%20%20%20%20%20%29.addTo%28map_df80af9bba0f4e9eb0862b3b6a21564b%29%3B%0A%20%20%20%20%20%20%20%20%0A%20%20%20%20%0A%20%20%20%20%20%20%20%20%20%20%20%20circle_marker_d81587345a214ebeb9e2a7af35f4d204.bindTooltip%28%0A%20%20%20%20%20%20%20%20%20%20%20%20%20%20%20%20%60%3Cdiv%3E%0A%20%20%20%20%20%20%20%20%20%20%20%20%20%20%20%20%20%20%20%20%20Allan%20Alcorn%0A%20%20%20%20%20%20%20%20%20%20%20%20%20%20%20%20%20%3C/div%3E%60%2C%0A%20%20%20%20%20%20%20%20%20%20%20%20%20%20%20%20%7B%22sticky%22%3A%20true%7D%0A%20%20%20%20%20%20%20%20%20%20%20%20%29%3B%0A%20%20%20%20%20%20%20%20%0A%20%20%20%20%0A%20%20%20%20%20%20%20%20%20%20%20%20var%20circle_marker_51b9f40f2e8146a7ac46fe6597168c50%20%3D%20L.circleMarker%28%0A%20%20%20%20%20%20%20%20%20%20%20%20%20%20%20%20%5B39.828175%2C%20-98.5795%5D%2C%0A%20%20%20%20%20%20%20%20%20%20%20%20%20%20%20%20%7B%22bubblingMouseEvents%22%3A%20true%2C%20%22color%22%3A%20%22%233388ff%22%2C%20%22dashArray%22%3A%20null%2C%20%22dashOffset%22%3A%20null%2C%20%22fill%22%3A%20true%2C%20%22fillColor%22%3A%20%22%233186cc%22%2C%20%22fillOpacity%22%3A%200.2%2C%20%22fillRule%22%3A%20%22evenodd%22%2C%20%22lineCap%22%3A%20%22round%22%2C%20%22lineJoin%22%3A%20%22round%22%2C%20%22opacity%22%3A%201.0%2C%20%22radius%22%3A%201.5%2C%20%22stroke%22%3A%20true%2C%20%22weight%22%3A%203%7D%0A%20%20%20%20%20%20%20%20%20%20%20%20%29.addTo%28map_df80af9bba0f4e9eb0862b3b6a21564b%29%3B%0A%20%20%20%20%20%20%20%20%0A%20%20%20%20%0A%20%20%20%20%20%20%20%20%20%20%20%20circle_marker_51b9f40f2e8146a7ac46fe6597168c50.bindTooltip%28%0A%20%20%20%20%20%20%20%20%20%20%20%20%20%20%20%20%60%3Cdiv%3E%0A%20%20%20%20%20%20%20%20%20%20%20%20%20%20%20%20%20%20%20%20%20Glyph%0A%20%20%20%20%20%20%20%20%20%20%20%20%20%20%20%20%20%3C/div%3E%60%2C%0A%20%20%20%20%20%20%20%20%20%20%20%20%20%20%20%20%7B%22sticky%22%3A%20true%7D%0A%20%20%20%20%20%20%20%20%20%20%20%20%29%3B%0A%20%20%20%20%20%20%20%20%0A%20%20%20%20%0A%20%20%20%20%20%20%20%20%20%20%20%20var%20circle_marker_458f56cada784e7a845c2d8b6c6c7e8a%20%3D%20L.circleMarker%28%0A%20%20%20%20%20%20%20%20%20%20%20%20%20%20%20%20%5B38.553888888889%2C%20-121.73805555556%5D%2C%0A%20%20%20%20%20%20%20%20%20%20%20%20%20%20%20%20%7B%22bubblingMouseEvents%22%3A%20true%2C%20%22color%22%3A%20%22%233388ff%22%2C%20%22dashArray%22%3A%20null%2C%20%22dashOffset%22%3A%20null%2C%20%22fill%22%3A%20true%2C%20%22fillColor%22%3A%20%22%233186cc%22%2C%20%22fillOpacity%22%3A%200.2%2C%20%22fillRule%22%3A%20%22evenodd%22%2C%20%22lineCap%22%3A%20%22round%22%2C%20%22lineJoin%22%3A%20%22round%22%2C%20%22opacity%22%3A%201.0%2C%20%22radius%22%3A%201.5%2C%20%22stroke%22%3A%20true%2C%20%22weight%22%3A%203%7D%0A%20%20%20%20%20%20%20%20%20%20%20%20%29.addTo%28map_df80af9bba0f4e9eb0862b3b6a21564b%29%3B%0A%20%20%20%20%20%20%20%20%0A%20%20%20%20%0A%20%20%20%20%20%20%20%20%20%20%20%20circle_marker_458f56cada784e7a845c2d8b6c6c7e8a.bindTooltip%28%0A%20%20%20%20%20%20%20%20%20%20%20%20%20%20%20%20%60%3Cdiv%3E%0A%20%20%20%20%20%20%20%20%20%20%20%20%20%20%20%20%20%20%20%20%20Andy%20Weir%0A%20%20%20%20%20%20%20%20%20%20%20%20%20%20%20%20%20%3C/div%3E%60%2C%0A%20%20%20%20%20%20%20%20%20%20%20%20%20%20%20%20%7B%22sticky%22%3A%20true%7D%0A%20%20%20%20%20%20%20%20%20%20%20%20%29%3B%0A%20%20%20%20%20%20%20%20%0A%20%20%20%20%0A%20%20%20%20%20%20%20%20%20%20%20%20var%20circle_marker_ce76699756dc4d878fe1f577e5651ab0%20%3D%20L.circleMarker%28%0A%20%20%20%20%20%20%20%20%20%20%20%20%20%20%20%20%5B-2.5%2C%2028.866666666667%5D%2C%0A%20%20%20%20%20%20%20%20%20%20%20%20%20%20%20%20%7B%22bubblingMouseEvents%22%3A%20true%2C%20%22color%22%3A%20%22%233388ff%22%2C%20%22dashArray%22%3A%20null%2C%20%22dashOffset%22%3A%20null%2C%20%22fill%22%3A%20true%2C%20%22fillColor%22%3A%20%22%233186cc%22%2C%20%22fillOpacity%22%3A%200.2%2C%20%22fillRule%22%3A%20%22evenodd%22%2C%20%22lineCap%22%3A%20%22round%22%2C%20%22lineJoin%22%3A%20%22round%22%2C%20%22opacity%22%3A%201.0%2C%20%22radius%22%3A%201.5%2C%20%22stroke%22%3A%20true%2C%20%22weight%22%3A%203%7D%0A%20%20%20%20%20%20%20%20%20%20%20%20%29.addTo%28map_df80af9bba0f4e9eb0862b3b6a21564b%29%3B%0A%20%20%20%20%20%20%20%20%0A%20%20%20%20%0A%20%20%20%20%20%20%20%20%20%20%20%20circle_marker_ce76699756dc4d878fe1f577e5651ab0.bindTooltip%28%0A%20%20%20%20%20%20%20%20%20%20%20%20%20%20%20%20%60%3Cdiv%3E%0A%20%20%20%20%20%20%20%20%20%20%20%20%20%20%20%20%20%20%20%20%20Amini%20Cishugi%0A%20%20%20%20%20%20%20%20%20%20%20%20%20%20%20%20%20%3C/div%3E%60%2C%0A%20%20%20%20%20%20%20%20%20%20%20%20%20%20%20%20%7B%22sticky%22%3A%20true%7D%0A%20%20%20%20%20%20%20%20%20%20%20%20%29%3B%0A%20%20%20%20%20%20%20%20%0A%20%20%20%20%0A%20%20%20%20%20%20%20%20%20%20%20%20var%20circle_marker_47ab918494ef495ea9b6d2a296fd7dfa%20%3D%20L.circleMarker%28%0A%20%20%20%20%20%20%20%20%20%20%20%20%20%20%20%20%5B-2.5%2C%2028.866666666667%5D%2C%0A%20%20%20%20%20%20%20%20%20%20%20%20%20%20%20%20%7B%22bubblingMouseEvents%22%3A%20true%2C%20%22color%22%3A%20%22%233388ff%22%2C%20%22dashArray%22%3A%20null%2C%20%22dashOffset%22%3A%20null%2C%20%22fill%22%3A%20true%2C%20%22fillColor%22%3A%20%22%233186cc%22%2C%20%22fillOpacity%22%3A%200.2%2C%20%22fillRule%22%3A%20%22evenodd%22%2C%20%22lineCap%22%3A%20%22round%22%2C%20%22lineJoin%22%3A%20%22round%22%2C%20%22opacity%22%3A%201.0%2C%20%22radius%22%3A%201.5%2C%20%22stroke%22%3A%20true%2C%20%22weight%22%3A%203%7D%0A%20%20%20%20%20%20%20%20%20%20%20%20%29.addTo%28map_df80af9bba0f4e9eb0862b3b6a21564b%29%3B%0A%20%20%20%20%20%20%20%20%0A%20%20%20%20%0A%20%20%20%20%20%20%20%20%20%20%20%20circle_marker_47ab918494ef495ea9b6d2a296fd7dfa.bindTooltip%28%0A%20%20%20%20%20%20%20%20%20%20%20%20%20%20%20%20%60%3Cdiv%3E%0A%20%20%20%20%20%20%20%20%20%20%20%20%20%20%20%20%20%20%20%20%20Amini%20Cishugi%0A%20%20%20%20%20%20%20%20%20%20%20%20%20%20%20%20%20%3C/div%3E%60%2C%0A%20%20%20%20%20%20%20%20%20%20%20%20%20%20%20%20%7B%22sticky%22%3A%20true%7D%0A%20%20%20%20%20%20%20%20%20%20%20%20%29%3B%0A%20%20%20%20%20%20%20%20%0A%3C/script%3E onload=\"this.contentDocument.open();this.contentDocument.write(    decodeURIComponent(this.getAttribute('data-html')));this.contentDocument.close();\" allowfullscreen webkitallowfullscreen mozallowfullscreen></iframe></div></div>"
            ],
            "text/plain": [
              "<folium.folium.Map at 0x20e4a603970>"
            ]
          },
          "execution_count": 22,
          "metadata": {},
          "output_type": "execute_result"
        }
      ],
      "source": [
        "import folium\n",
        "\n",
        "world_map = folium.Map(prefer_canvas=True)\n",
        "\n",
        "for p in range ( df.shape[0]):\n",
        "  lat = df['lat'][p] # TODO\n",
        "  lon = df['lon'][p]  # TODO\n",
        "  name = df['personLabel'][p] # TODO: nombre\n",
        "  folium.CircleMarker ( [lat , lon ], \n",
        "                       radius=1.5, \n",
        "                       line_color='#3186cc',\n",
        "                       fill_color='#3186cc', \n",
        "                       fill=True,\n",
        "                       tooltip = name\n",
        "                       ).add_to(world_map)\n",
        "\n",
        "world_map\n"
      ]
    },
    {
      "cell_type": "markdown",
      "metadata": {
        "id": "0gW3CwU_pHwH"
      },
      "source": [
        "# WikiData (II)\n",
        "\n",
        "\n",
        "Ya hemos visto cómo se puede consultar WikiData y su sistema de identificadores. En esta ocasión hay que recuperar datos estadísticos de países de la Unión Europea. Para ello, hay que utilizar la propiedad `ser-miembro-de` (`member of`) (P463) con el objeto Unión Europea (Q458).\n",
        "\n",
        "Resulta sencillo usar el servicio de etiquetado `SERVICE wikibase:label { bd:serviceParam wikibase:language \"en\". }`que permite obtener los nombres de las entidades de manera más cómoda.\n",
        "\n",
        "Además del nombre del país miembre de la UE vamos a recuperar algunos valores estadísticos: población (P1082) y superficie (P2046), si están disponibles.\n",
        "\n",
        "\n",
        "Nota: La consulta debería devolver `Kingdom of the Netherlands` con item Q29999 en la lista de países europeos en vez de `Netherlands` (Q55) que forma parte de del país pero no es un país. De forma similar a como Inglaterra forma parte del Reino Unido."
      ]
    },
    {
      "cell_type": "code",
      "execution_count": 23,
      "metadata": {
        "id": "_ze81Xfm003Y"
      },
      "outputs": [
        {
          "data": {
            "text/html": [
              "<div>\n",
              "<style scoped>\n",
              "    .dataframe tbody tr th:only-of-type {\n",
              "        vertical-align: middle;\n",
              "    }\n",
              "\n",
              "    .dataframe tbody tr th {\n",
              "        vertical-align: top;\n",
              "    }\n",
              "\n",
              "    .dataframe thead th {\n",
              "        text-align: right;\n",
              "    }\n",
              "</style>\n",
              "<table border=\"1\" class=\"dataframe\">\n",
              "  <thead>\n",
              "    <tr style=\"text-align: right;\">\n",
              "      <th></th>\n",
              "      <th>country</th>\n",
              "      <th>area</th>\n",
              "      <th>population</th>\n",
              "      <th>countryLabel</th>\n",
              "    </tr>\n",
              "  </thead>\n",
              "  <tbody>\n",
              "    <tr>\n",
              "      <th>17</th>\n",
              "      <td>http://www.wikidata.org/entity/Q211</td>\n",
              "      <td>64589</td>\n",
              "      <td>1909000</td>\n",
              "      <td>Latvia</td>\n",
              "    </tr>\n",
              "    <tr>\n",
              "      <th>18</th>\n",
              "      <td>http://www.wikidata.org/entity/Q213</td>\n",
              "      <td>78866</td>\n",
              "      <td>10701777</td>\n",
              "      <td>Czech Republic</td>\n",
              "    </tr>\n",
              "    <tr>\n",
              "      <th>19</th>\n",
              "      <td>http://www.wikidata.org/entity/Q214</td>\n",
              "      <td>49035</td>\n",
              "      <td>5449270</td>\n",
              "      <td>Slovakia</td>\n",
              "    </tr>\n",
              "    <tr>\n",
              "      <th>20</th>\n",
              "      <td>http://www.wikidata.org/entity/Q215</td>\n",
              "      <td>20273</td>\n",
              "      <td>2066880</td>\n",
              "      <td>Slovenia</td>\n",
              "    </tr>\n",
              "    <tr>\n",
              "      <th>21</th>\n",
              "      <td>http://www.wikidata.org/entity/Q218</td>\n",
              "      <td>238397</td>\n",
              "      <td>19586539</td>\n",
              "      <td>Romania</td>\n",
              "    </tr>\n",
              "    <tr>\n",
              "      <th>22</th>\n",
              "      <td>http://www.wikidata.org/entity/Q219</td>\n",
              "      <td>110993.6</td>\n",
              "      <td>7000039</td>\n",
              "      <td>Bulgaria</td>\n",
              "    </tr>\n",
              "    <tr>\n",
              "      <th>23</th>\n",
              "      <td>http://www.wikidata.org/entity/Q224</td>\n",
              "      <td>56594</td>\n",
              "      <td>4105493</td>\n",
              "      <td>Croatia</td>\n",
              "    </tr>\n",
              "    <tr>\n",
              "      <th>24</th>\n",
              "      <td>http://www.wikidata.org/entity/Q229</td>\n",
              "      <td>9242.45</td>\n",
              "      <td>1141166</td>\n",
              "      <td>Cyprus</td>\n",
              "    </tr>\n",
              "    <tr>\n",
              "      <th>25</th>\n",
              "      <td>http://www.wikidata.org/entity/Q233</td>\n",
              "      <td>316</td>\n",
              "      <td>465292</td>\n",
              "      <td>Malta</td>\n",
              "    </tr>\n",
              "    <tr>\n",
              "      <th>26</th>\n",
              "      <td>http://www.wikidata.org/entity/Q29999</td>\n",
              "      <td>42201</td>\n",
              "      <td>17100715</td>\n",
              "      <td>Kingdom of the Netherlands</td>\n",
              "    </tr>\n",
              "  </tbody>\n",
              "</table>\n",
              "</div>"
            ],
            "text/plain": [
              "                                  country      area population  \\\n",
              "17    http://www.wikidata.org/entity/Q211     64589    1909000   \n",
              "18    http://www.wikidata.org/entity/Q213     78866   10701777   \n",
              "19    http://www.wikidata.org/entity/Q214     49035    5449270   \n",
              "20    http://www.wikidata.org/entity/Q215     20273    2066880   \n",
              "21    http://www.wikidata.org/entity/Q218    238397   19586539   \n",
              "22    http://www.wikidata.org/entity/Q219  110993.6    7000039   \n",
              "23    http://www.wikidata.org/entity/Q224     56594    4105493   \n",
              "24    http://www.wikidata.org/entity/Q229   9242.45    1141166   \n",
              "25    http://www.wikidata.org/entity/Q233       316     465292   \n",
              "26  http://www.wikidata.org/entity/Q29999     42201   17100715   \n",
              "\n",
              "                  countryLabel  \n",
              "17                      Latvia  \n",
              "18              Czech Republic  \n",
              "19                    Slovakia  \n",
              "20                    Slovenia  \n",
              "21                     Romania  \n",
              "22                    Bulgaria  \n",
              "23                     Croatia  \n",
              "24                      Cyprus  \n",
              "25                       Malta  \n",
              "26  Kingdom of the Netherlands  "
            ]
          },
          "execution_count": 23,
          "metadata": {},
          "output_type": "execute_result"
        }
      ],
      "source": [
        "q = '''\n",
        "SELECT ?country ?countryLabel ?population ?area \n",
        "WHERE {\n",
        "  ?country wdt:P463 wd:Q458.          \n",
        "  ?country wdt:P1082 ?population.\n",
        "  ?country wdt:P2046 ?area.\n",
        "   \n",
        "  SERVICE wikibase:label { bd:serviceParam wikibase:language \"en\". }\n",
        "}\n",
        "'''\n",
        "\n",
        "countries_df = dataframe_results (wd_sparql, '', q)\n",
        "countries_df.tail(10)\n"
      ]
    },
    {
      "cell_type": "markdown",
      "metadata": {
        "id": "Abjp7vTkiDZ8"
      },
      "source": [
        "Analizar los tipos de datos que nos devuelve SPARQL y cómo se convierten en el DataFrame."
      ]
    },
    {
      "cell_type": "code",
      "execution_count": 24,
      "metadata": {},
      "outputs": [
        {
          "data": {
            "text/plain": [
              "{'head': {'vars': ['country', 'countryLabel', 'population', 'area']},\n",
              " 'results': {'bindings': [{'country': {'type': 'uri',\n",
              "     'value': 'http://www.wikidata.org/entity/Q27'},\n",
              "    'area': {'datatype': 'http://www.w3.org/2001/XMLSchema#decimal',\n",
              "     'type': 'literal',\n",
              "     'value': '70273'},\n",
              "    'population': {'datatype': 'http://www.w3.org/2001/XMLSchema#decimal',\n",
              "     'type': 'literal',\n",
              "     'value': '4761865'},\n",
              "    'countryLabel': {'xml:lang': 'en', 'type': 'literal', 'value': 'Ireland'}},\n",
              "   {'country': {'type': 'uri', 'value': 'http://www.wikidata.org/entity/Q28'},\n",
              "    'area': {'datatype': 'http://www.w3.org/2001/XMLSchema#decimal',\n",
              "     'type': 'literal',\n",
              "     'value': '93011.4'},\n",
              "    'population': {'datatype': 'http://www.w3.org/2001/XMLSchema#decimal',\n",
              "     'type': 'literal',\n",
              "     'value': '9769526'},\n",
              "    'countryLabel': {'xml:lang': 'en', 'type': 'literal', 'value': 'Hungary'}},\n",
              "   {'country': {'type': 'uri', 'value': 'http://www.wikidata.org/entity/Q29'},\n",
              "    'area': {'datatype': 'http://www.w3.org/2001/XMLSchema#decimal',\n",
              "     'type': 'literal',\n",
              "     'value': '505990'},\n",
              "    'population': {'datatype': 'http://www.w3.org/2001/XMLSchema#decimal',\n",
              "     'type': 'literal',\n",
              "     'value': '46733038'},\n",
              "    'countryLabel': {'xml:lang': 'en', 'type': 'literal', 'value': 'Spain'}},\n",
              "   {'country': {'type': 'uri', 'value': 'http://www.wikidata.org/entity/Q31'},\n",
              "    'area': {'datatype': 'http://www.w3.org/2001/XMLSchema#decimal',\n",
              "     'type': 'literal',\n",
              "     'value': '30528'},\n",
              "    'population': {'datatype': 'http://www.w3.org/2001/XMLSchema#decimal',\n",
              "     'type': 'literal',\n",
              "     'value': '11431406'},\n",
              "    'countryLabel': {'xml:lang': 'en', 'type': 'literal', 'value': 'Belgium'}},\n",
              "   {'country': {'type': 'uri', 'value': 'http://www.wikidata.org/entity/Q32'},\n",
              "    'area': {'datatype': 'http://www.w3.org/2001/XMLSchema#decimal',\n",
              "     'type': 'literal',\n",
              "     'value': '2586.4'},\n",
              "    'population': {'datatype': 'http://www.w3.org/2001/XMLSchema#decimal',\n",
              "     'type': 'literal',\n",
              "     'value': '626108'},\n",
              "    'countryLabel': {'xml:lang': 'en',\n",
              "     'type': 'literal',\n",
              "     'value': 'Luxembourg'}},\n",
              "   {'country': {'type': 'uri', 'value': 'http://www.wikidata.org/entity/Q33'},\n",
              "    'area': {'datatype': 'http://www.w3.org/2001/XMLSchema#decimal',\n",
              "     'type': 'literal',\n",
              "     'value': '338424.38'},\n",
              "    'population': {'datatype': 'http://www.w3.org/2001/XMLSchema#decimal',\n",
              "     'type': 'literal',\n",
              "     'value': '5501043'},\n",
              "    'countryLabel': {'xml:lang': 'en', 'type': 'literal', 'value': 'Finland'}},\n",
              "   {'country': {'type': 'uri', 'value': 'http://www.wikidata.org/entity/Q34'},\n",
              "    'area': {'datatype': 'http://www.w3.org/2001/XMLSchema#decimal',\n",
              "     'type': 'literal',\n",
              "     'value': '528861.06'},\n",
              "    'population': {'datatype': 'http://www.w3.org/2001/XMLSchema#decimal',\n",
              "     'type': 'literal',\n",
              "     'value': '10409248'},\n",
              "    'countryLabel': {'xml:lang': 'en', 'type': 'literal', 'value': 'Sweden'}},\n",
              "   {'country': {'type': 'uri', 'value': 'http://www.wikidata.org/entity/Q35'},\n",
              "    'area': {'datatype': 'http://www.w3.org/2001/XMLSchema#decimal',\n",
              "     'type': 'literal',\n",
              "     'value': '42925.46'},\n",
              "    'population': {'datatype': 'http://www.w3.org/2001/XMLSchema#decimal',\n",
              "     'type': 'literal',\n",
              "     'value': '5827463'},\n",
              "    'countryLabel': {'xml:lang': 'en', 'type': 'literal', 'value': 'Denmark'}},\n",
              "   {'country': {'type': 'uri', 'value': 'http://www.wikidata.org/entity/Q36'},\n",
              "    'area': {'datatype': 'http://www.w3.org/2001/XMLSchema#decimal',\n",
              "     'type': 'literal',\n",
              "     'value': '312683'},\n",
              "    'population': {'datatype': 'http://www.w3.org/2001/XMLSchema#decimal',\n",
              "     'type': 'literal',\n",
              "     'value': '38382576'},\n",
              "    'countryLabel': {'xml:lang': 'en', 'type': 'literal', 'value': 'Poland'}},\n",
              "   {'country': {'type': 'uri', 'value': 'http://www.wikidata.org/entity/Q37'},\n",
              "    'area': {'datatype': 'http://www.w3.org/2001/XMLSchema#decimal',\n",
              "     'type': 'literal',\n",
              "     'value': '65300'},\n",
              "    'population': {'datatype': 'http://www.w3.org/2001/XMLSchema#decimal',\n",
              "     'type': 'literal',\n",
              "     'value': '2790842'},\n",
              "    'countryLabel': {'xml:lang': 'en',\n",
              "     'type': 'literal',\n",
              "     'value': 'Lithuania'}},\n",
              "   {'country': {'type': 'uri', 'value': 'http://www.wikidata.org/entity/Q38'},\n",
              "    'area': {'datatype': 'http://www.w3.org/2001/XMLSchema#decimal',\n",
              "     'type': 'literal',\n",
              "     'value': '301338'},\n",
              "    'population': {'datatype': 'http://www.w3.org/2001/XMLSchema#decimal',\n",
              "     'type': 'literal',\n",
              "     'value': '60317000'},\n",
              "    'countryLabel': {'xml:lang': 'en', 'type': 'literal', 'value': 'Italy'}},\n",
              "   {'country': {'type': 'uri', 'value': 'http://www.wikidata.org/entity/Q40'},\n",
              "    'area': {'datatype': 'http://www.w3.org/2001/XMLSchema#decimal',\n",
              "     'type': 'literal',\n",
              "     'value': '83878.99'},\n",
              "    'population': {'datatype': 'http://www.w3.org/2001/XMLSchema#decimal',\n",
              "     'type': 'literal',\n",
              "     'value': '8809212'},\n",
              "    'countryLabel': {'xml:lang': 'en', 'type': 'literal', 'value': 'Austria'}},\n",
              "   {'country': {'type': 'uri', 'value': 'http://www.wikidata.org/entity/Q41'},\n",
              "    'area': {'datatype': 'http://www.w3.org/2001/XMLSchema#decimal',\n",
              "     'type': 'literal',\n",
              "     'value': '131957'},\n",
              "    'population': {'datatype': 'http://www.w3.org/2001/XMLSchema#decimal',\n",
              "     'type': 'literal',\n",
              "     'value': '10760421'},\n",
              "    'countryLabel': {'xml:lang': 'en', 'type': 'literal', 'value': 'Greece'}},\n",
              "   {'country': {'type': 'uri', 'value': 'http://www.wikidata.org/entity/Q45'},\n",
              "    'area': {'datatype': 'http://www.w3.org/2001/XMLSchema#decimal',\n",
              "     'type': 'literal',\n",
              "     'value': '92212'},\n",
              "    'population': {'datatype': 'http://www.w3.org/2001/XMLSchema#decimal',\n",
              "     'type': 'literal',\n",
              "     'value': '10347892'},\n",
              "    'countryLabel': {'xml:lang': 'en',\n",
              "     'type': 'literal',\n",
              "     'value': 'Portugal'}},\n",
              "   {'country': {'type': 'uri', 'value': 'http://www.wikidata.org/entity/Q142'},\n",
              "    'area': {'datatype': 'http://www.w3.org/2001/XMLSchema#decimal',\n",
              "     'type': 'literal',\n",
              "     'value': '643801'},\n",
              "    'population': {'datatype': 'http://www.w3.org/2001/XMLSchema#decimal',\n",
              "     'type': 'literal',\n",
              "     'value': '67063703'},\n",
              "    'countryLabel': {'xml:lang': 'en', 'type': 'literal', 'value': 'France'}},\n",
              "   {'country': {'type': 'uri', 'value': 'http://www.wikidata.org/entity/Q183'},\n",
              "    'area': {'datatype': 'http://www.w3.org/2001/XMLSchema#decimal',\n",
              "     'type': 'literal',\n",
              "     'value': '357587.77'},\n",
              "    'population': {'datatype': 'http://www.w3.org/2001/XMLSchema#decimal',\n",
              "     'type': 'literal',\n",
              "     'value': '83149300'},\n",
              "    'countryLabel': {'xml:lang': 'en', 'type': 'literal', 'value': 'Germany'}},\n",
              "   {'country': {'type': 'uri', 'value': 'http://www.wikidata.org/entity/Q191'},\n",
              "    'area': {'datatype': 'http://www.w3.org/2001/XMLSchema#decimal',\n",
              "     'type': 'literal',\n",
              "     'value': '45339'},\n",
              "    'population': {'datatype': 'http://www.w3.org/2001/XMLSchema#decimal',\n",
              "     'type': 'literal',\n",
              "     'value': '1324820'},\n",
              "    'countryLabel': {'xml:lang': 'en', 'type': 'literal', 'value': 'Estonia'}},\n",
              "   {'country': {'type': 'uri', 'value': 'http://www.wikidata.org/entity/Q211'},\n",
              "    'area': {'datatype': 'http://www.w3.org/2001/XMLSchema#decimal',\n",
              "     'type': 'literal',\n",
              "     'value': '64589'},\n",
              "    'population': {'datatype': 'http://www.w3.org/2001/XMLSchema#decimal',\n",
              "     'type': 'literal',\n",
              "     'value': '1909000'},\n",
              "    'countryLabel': {'xml:lang': 'en', 'type': 'literal', 'value': 'Latvia'}},\n",
              "   {'country': {'type': 'uri', 'value': 'http://www.wikidata.org/entity/Q213'},\n",
              "    'area': {'datatype': 'http://www.w3.org/2001/XMLSchema#decimal',\n",
              "     'type': 'literal',\n",
              "     'value': '78866'},\n",
              "    'population': {'datatype': 'http://www.w3.org/2001/XMLSchema#decimal',\n",
              "     'type': 'literal',\n",
              "     'value': '10701777'},\n",
              "    'countryLabel': {'xml:lang': 'en',\n",
              "     'type': 'literal',\n",
              "     'value': 'Czech Republic'}},\n",
              "   {'country': {'type': 'uri', 'value': 'http://www.wikidata.org/entity/Q214'},\n",
              "    'area': {'datatype': 'http://www.w3.org/2001/XMLSchema#decimal',\n",
              "     'type': 'literal',\n",
              "     'value': '49035'},\n",
              "    'population': {'datatype': 'http://www.w3.org/2001/XMLSchema#decimal',\n",
              "     'type': 'literal',\n",
              "     'value': '5449270'},\n",
              "    'countryLabel': {'xml:lang': 'en',\n",
              "     'type': 'literal',\n",
              "     'value': 'Slovakia'}},\n",
              "   {'country': {'type': 'uri', 'value': 'http://www.wikidata.org/entity/Q215'},\n",
              "    'area': {'datatype': 'http://www.w3.org/2001/XMLSchema#decimal',\n",
              "     'type': 'literal',\n",
              "     'value': '20273'},\n",
              "    'population': {'datatype': 'http://www.w3.org/2001/XMLSchema#decimal',\n",
              "     'type': 'literal',\n",
              "     'value': '2066880'},\n",
              "    'countryLabel': {'xml:lang': 'en',\n",
              "     'type': 'literal',\n",
              "     'value': 'Slovenia'}},\n",
              "   {'country': {'type': 'uri', 'value': 'http://www.wikidata.org/entity/Q218'},\n",
              "    'area': {'datatype': 'http://www.w3.org/2001/XMLSchema#decimal',\n",
              "     'type': 'literal',\n",
              "     'value': '238397'},\n",
              "    'population': {'datatype': 'http://www.w3.org/2001/XMLSchema#decimal',\n",
              "     'type': 'literal',\n",
              "     'value': '19586539'},\n",
              "    'countryLabel': {'xml:lang': 'en', 'type': 'literal', 'value': 'Romania'}},\n",
              "   {'country': {'type': 'uri', 'value': 'http://www.wikidata.org/entity/Q219'},\n",
              "    'area': {'datatype': 'http://www.w3.org/2001/XMLSchema#decimal',\n",
              "     'type': 'literal',\n",
              "     'value': '110993.6'},\n",
              "    'population': {'datatype': 'http://www.w3.org/2001/XMLSchema#decimal',\n",
              "     'type': 'literal',\n",
              "     'value': '7000039'},\n",
              "    'countryLabel': {'xml:lang': 'en',\n",
              "     'type': 'literal',\n",
              "     'value': 'Bulgaria'}},\n",
              "   {'country': {'type': 'uri', 'value': 'http://www.wikidata.org/entity/Q224'},\n",
              "    'area': {'datatype': 'http://www.w3.org/2001/XMLSchema#decimal',\n",
              "     'type': 'literal',\n",
              "     'value': '56594'},\n",
              "    'population': {'datatype': 'http://www.w3.org/2001/XMLSchema#decimal',\n",
              "     'type': 'literal',\n",
              "     'value': '4105493'},\n",
              "    'countryLabel': {'xml:lang': 'en', 'type': 'literal', 'value': 'Croatia'}},\n",
              "   {'country': {'type': 'uri', 'value': 'http://www.wikidata.org/entity/Q229'},\n",
              "    'area': {'datatype': 'http://www.w3.org/2001/XMLSchema#decimal',\n",
              "     'type': 'literal',\n",
              "     'value': '9242.45'},\n",
              "    'population': {'datatype': 'http://www.w3.org/2001/XMLSchema#decimal',\n",
              "     'type': 'literal',\n",
              "     'value': '1141166'},\n",
              "    'countryLabel': {'xml:lang': 'en', 'type': 'literal', 'value': 'Cyprus'}},\n",
              "   {'country': {'type': 'uri', 'value': 'http://www.wikidata.org/entity/Q233'},\n",
              "    'area': {'datatype': 'http://www.w3.org/2001/XMLSchema#decimal',\n",
              "     'type': 'literal',\n",
              "     'value': '316'},\n",
              "    'population': {'datatype': 'http://www.w3.org/2001/XMLSchema#decimal',\n",
              "     'type': 'literal',\n",
              "     'value': '465292'},\n",
              "    'countryLabel': {'xml:lang': 'en', 'type': 'literal', 'value': 'Malta'}},\n",
              "   {'country': {'type': 'uri',\n",
              "     'value': 'http://www.wikidata.org/entity/Q29999'},\n",
              "    'area': {'datatype': 'http://www.w3.org/2001/XMLSchema#decimal',\n",
              "     'type': 'literal',\n",
              "     'value': '42201'},\n",
              "    'population': {'datatype': 'http://www.w3.org/2001/XMLSchema#decimal',\n",
              "     'type': 'literal',\n",
              "     'value': '17100715'},\n",
              "    'countryLabel': {'xml:lang': 'en',\n",
              "     'type': 'literal',\n",
              "     'value': 'Kingdom of the Netherlands'}}]}}"
            ]
          },
          "execution_count": 24,
          "metadata": {},
          "output_type": "execute_result"
        }
      ],
      "source": [
        "query_sparql(wd_sparql, '', q)"
      ]
    },
    {
      "cell_type": "code",
      "execution_count": 25,
      "metadata": {},
      "outputs": [
        {
          "name": "stdout",
          "output_type": "stream",
          "text": [
            "<class 'pandas.core.frame.DataFrame'>\n",
            "RangeIndex: 27 entries, 0 to 26\n",
            "Data columns (total 4 columns):\n",
            " #   Column        Non-Null Count  Dtype \n",
            "---  ------        --------------  ----- \n",
            " 0   country       27 non-null     object\n",
            " 1   area          27 non-null     object\n",
            " 2   population    27 non-null     object\n",
            " 3   countryLabel  27 non-null     object\n",
            "dtypes: object(4)\n",
            "memory usage: 992.0+ bytes\n"
          ]
        }
      ],
      "source": [
        "countries_df.info()\n"
      ]
    },
    {
      "cell_type": "markdown",
      "metadata": {
        "id": "n3G1ECHgiQLY"
      },
      "source": [
        "Convertir los tipos numéricos al formato más adecuado:"
      ]
    },
    {
      "cell_type": "code",
      "execution_count": 26,
      "metadata": {
        "id": "H4k1jeFirzsH"
      },
      "outputs": [
        {
          "data": {
            "text/html": [
              "<div>\n",
              "<style scoped>\n",
              "    .dataframe tbody tr th:only-of-type {\n",
              "        vertical-align: middle;\n",
              "    }\n",
              "\n",
              "    .dataframe tbody tr th {\n",
              "        vertical-align: top;\n",
              "    }\n",
              "\n",
              "    .dataframe thead th {\n",
              "        text-align: right;\n",
              "    }\n",
              "</style>\n",
              "<table border=\"1\" class=\"dataframe\">\n",
              "  <thead>\n",
              "    <tr style=\"text-align: right;\">\n",
              "      <th></th>\n",
              "      <th>country</th>\n",
              "      <th>area</th>\n",
              "      <th>population</th>\n",
              "      <th>countryLabel</th>\n",
              "    </tr>\n",
              "  </thead>\n",
              "  <tbody>\n",
              "    <tr>\n",
              "      <th>0</th>\n",
              "      <td>http://www.wikidata.org/entity/Q27</td>\n",
              "      <td>70273.0</td>\n",
              "      <td>4761865</td>\n",
              "      <td>Ireland</td>\n",
              "    </tr>\n",
              "    <tr>\n",
              "      <th>1</th>\n",
              "      <td>http://www.wikidata.org/entity/Q28</td>\n",
              "      <td>93011.4</td>\n",
              "      <td>9769526</td>\n",
              "      <td>Hungary</td>\n",
              "    </tr>\n",
              "    <tr>\n",
              "      <th>2</th>\n",
              "      <td>http://www.wikidata.org/entity/Q29</td>\n",
              "      <td>505990.0</td>\n",
              "      <td>46733038</td>\n",
              "      <td>Spain</td>\n",
              "    </tr>\n",
              "    <tr>\n",
              "      <th>3</th>\n",
              "      <td>http://www.wikidata.org/entity/Q31</td>\n",
              "      <td>30528.0</td>\n",
              "      <td>11431406</td>\n",
              "      <td>Belgium</td>\n",
              "    </tr>\n",
              "    <tr>\n",
              "      <th>4</th>\n",
              "      <td>http://www.wikidata.org/entity/Q32</td>\n",
              "      <td>2586.4</td>\n",
              "      <td>626108</td>\n",
              "      <td>Luxembourg</td>\n",
              "    </tr>\n",
              "  </tbody>\n",
              "</table>\n",
              "</div>"
            ],
            "text/plain": [
              "                              country      area  population countryLabel\n",
              "0  http://www.wikidata.org/entity/Q27   70273.0     4761865      Ireland\n",
              "1  http://www.wikidata.org/entity/Q28   93011.4     9769526      Hungary\n",
              "2  http://www.wikidata.org/entity/Q29  505990.0    46733038        Spain\n",
              "3  http://www.wikidata.org/entity/Q31   30528.0    11431406      Belgium\n",
              "4  http://www.wikidata.org/entity/Q32    2586.4      626108   Luxembourg"
            ]
          },
          "execution_count": 26,
          "metadata": {},
          "output_type": "execute_result"
        }
      ],
      "source": [
        "# TODO\n",
        "countries_df[[\"area\", \"population\"]] = countries_df[[\"area\", \"population\"]].apply(pd.to_numeric)\n",
        "countries_df.head(5)"
      ]
    },
    {
      "cell_type": "code",
      "execution_count": 27,
      "metadata": {
        "id": "kUdRhwzGq6qg"
      },
      "outputs": [
        {
          "data": {
            "image/png": "[encoded data removed]",
            "text/plain": [
              "<Figure size 1152x864 with 2 Axes>"
            ]
          },
          "metadata": {},
          "output_type": "display_data"
        }
      ],
      "source": [
        "%matplotlib inline\n",
        "import matplotlib.pyplot as plt\n",
        "plt.style.use('ggplot')\n",
        "\n",
        "plt.figure(figsize=(16, 12))\n",
        "for i, label in enumerate(['population','area']):\n",
        "    plt.subplot(2, 2, i + 1)\n",
        "    df_plot = countries_df[label].sort_values().dropna()\n",
        "    df_plot.plot(kind='barh', color='C0', ax=plt.gca());\n",
        "    plt.ylabel('')\n",
        "    plt.xticks(rotation=30)\n",
        "    plt.title(label.capitalize())\n",
        "    plt.ticklabel_format(style='plain', axis='x')\n",
        "plt.tight_layout()"
      ]
    },
    {
      "cell_type": "markdown",
      "metadata": {
        "id": "3yD4Ll9ti73B"
      },
      "source": [
        "En esta ocasión la consulta es un poco más complicada. Se necesita obtener las capitales (P36) de las capitales de la UE y de la Asociación Europea de Libre Comercio (Q166546)."
      ]
    },
    {
      "cell_type": "code",
      "execution_count": 28,
      "metadata": {
        "id": "51U-NrnumUuP"
      },
      "outputs": [
        {
          "data": {
            "text/html": [
              "<div>\n",
              "<style scoped>\n",
              "    .dataframe tbody tr th:only-of-type {\n",
              "        vertical-align: middle;\n",
              "    }\n",
              "\n",
              "    .dataframe tbody tr th {\n",
              "        vertical-align: top;\n",
              "    }\n",
              "\n",
              "    .dataframe thead th {\n",
              "        text-align: right;\n",
              "    }\n",
              "</style>\n",
              "<table border=\"1\" class=\"dataframe\">\n",
              "  <thead>\n",
              "    <tr style=\"text-align: right;\">\n",
              "      <th></th>\n",
              "      <th>country</th>\n",
              "      <th>countryLabel</th>\n",
              "      <th>capital</th>\n",
              "    </tr>\n",
              "  </thead>\n",
              "  <tbody>\n",
              "    <tr>\n",
              "      <th>1</th>\n",
              "      <td>http://www.wikidata.org/entity/Q39</td>\n",
              "      <td>Switzerland</td>\n",
              "      <td>Bern</td>\n",
              "    </tr>\n",
              "    <tr>\n",
              "      <th>2</th>\n",
              "      <td>http://www.wikidata.org/entity/Q142</td>\n",
              "      <td>France</td>\n",
              "      <td>Paris</td>\n",
              "    </tr>\n",
              "    <tr>\n",
              "      <th>3</th>\n",
              "      <td>http://www.wikidata.org/entity/Q37</td>\n",
              "      <td>Lithuania</td>\n",
              "      <td>Vilnius</td>\n",
              "    </tr>\n",
              "    <tr>\n",
              "      <th>4</th>\n",
              "      <td>http://www.wikidata.org/entity/Q38</td>\n",
              "      <td>Italy</td>\n",
              "      <td>Rome</td>\n",
              "    </tr>\n",
              "    <tr>\n",
              "      <th>5</th>\n",
              "      <td>http://www.wikidata.org/entity/Q31</td>\n",
              "      <td>Belgium</td>\n",
              "      <td>City of Brussels</td>\n",
              "    </tr>\n",
              "    <tr>\n",
              "      <th>6</th>\n",
              "      <td>http://www.wikidata.org/entity/Q215</td>\n",
              "      <td>Slovenia</td>\n",
              "      <td>Ljubljana</td>\n",
              "    </tr>\n",
              "    <tr>\n",
              "      <th>7</th>\n",
              "      <td>http://www.wikidata.org/entity/Q219</td>\n",
              "      <td>Bulgaria</td>\n",
              "      <td>Sofia</td>\n",
              "    </tr>\n",
              "    <tr>\n",
              "      <th>8</th>\n",
              "      <td>http://www.wikidata.org/entity/Q36</td>\n",
              "      <td>Poland</td>\n",
              "      <td>Warsaw</td>\n",
              "    </tr>\n",
              "    <tr>\n",
              "      <th>9</th>\n",
              "      <td>http://www.wikidata.org/entity/Q20</td>\n",
              "      <td>Norway</td>\n",
              "      <td>Oslo</td>\n",
              "    </tr>\n",
              "    <tr>\n",
              "      <th>10</th>\n",
              "      <td>http://www.wikidata.org/entity/Q45</td>\n",
              "      <td>Portugal</td>\n",
              "      <td>Lisbon</td>\n",
              "    </tr>\n",
              "    <tr>\n",
              "      <th>11</th>\n",
              "      <td>http://www.wikidata.org/entity/Q29999</td>\n",
              "      <td>Kingdom of the Netherlands</td>\n",
              "      <td>Amsterdam</td>\n",
              "    </tr>\n",
              "    <tr>\n",
              "      <th>12</th>\n",
              "      <td>http://www.wikidata.org/entity/Q213</td>\n",
              "      <td>Czech Republic</td>\n",
              "      <td>Prague</td>\n",
              "    </tr>\n",
              "    <tr>\n",
              "      <th>13</th>\n",
              "      <td>http://www.wikidata.org/entity/Q224</td>\n",
              "      <td>Croatia</td>\n",
              "      <td>Zagreb</td>\n",
              "    </tr>\n",
              "    <tr>\n",
              "      <th>14</th>\n",
              "      <td>http://www.wikidata.org/entity/Q41</td>\n",
              "      <td>Greece</td>\n",
              "      <td>Athens</td>\n",
              "    </tr>\n",
              "    <tr>\n",
              "      <th>15</th>\n",
              "      <td>http://www.wikidata.org/entity/Q35</td>\n",
              "      <td>Denmark</td>\n",
              "      <td>Copenhagen</td>\n",
              "    </tr>\n",
              "    <tr>\n",
              "      <th>16</th>\n",
              "      <td>http://www.wikidata.org/entity/Q33</td>\n",
              "      <td>Finland</td>\n",
              "      <td>Helsinki</td>\n",
              "    </tr>\n",
              "    <tr>\n",
              "      <th>17</th>\n",
              "      <td>http://www.wikidata.org/entity/Q34</td>\n",
              "      <td>Sweden</td>\n",
              "      <td>Stockholm</td>\n",
              "    </tr>\n",
              "    <tr>\n",
              "      <th>18</th>\n",
              "      <td>http://www.wikidata.org/entity/Q27</td>\n",
              "      <td>Ireland</td>\n",
              "      <td>Dublin</td>\n",
              "    </tr>\n",
              "    <tr>\n",
              "      <th>19</th>\n",
              "      <td>http://www.wikidata.org/entity/Q189</td>\n",
              "      <td>Iceland</td>\n",
              "      <td>Reykjavík</td>\n",
              "    </tr>\n",
              "    <tr>\n",
              "      <th>20</th>\n",
              "      <td>http://www.wikidata.org/entity/Q40</td>\n",
              "      <td>Austria</td>\n",
              "      <td>Vienna</td>\n",
              "    </tr>\n",
              "    <tr>\n",
              "      <th>21</th>\n",
              "      <td>http://www.wikidata.org/entity/Q191</td>\n",
              "      <td>Estonia</td>\n",
              "      <td>Tallinn</td>\n",
              "    </tr>\n",
              "    <tr>\n",
              "      <th>22</th>\n",
              "      <td>http://www.wikidata.org/entity/Q211</td>\n",
              "      <td>Latvia</td>\n",
              "      <td>Riga</td>\n",
              "    </tr>\n",
              "    <tr>\n",
              "      <th>23</th>\n",
              "      <td>http://www.wikidata.org/entity/Q214</td>\n",
              "      <td>Slovakia</td>\n",
              "      <td>Bratislava</td>\n",
              "    </tr>\n",
              "    <tr>\n",
              "      <th>24</th>\n",
              "      <td>http://www.wikidata.org/entity/Q28</td>\n",
              "      <td>Hungary</td>\n",
              "      <td>Budapest</td>\n",
              "    </tr>\n",
              "    <tr>\n",
              "      <th>25</th>\n",
              "      <td>http://www.wikidata.org/entity/Q32</td>\n",
              "      <td>Luxembourg</td>\n",
              "      <td>Luxembourg</td>\n",
              "    </tr>\n",
              "    <tr>\n",
              "      <th>26</th>\n",
              "      <td>http://www.wikidata.org/entity/Q347</td>\n",
              "      <td>Liechtenstein</td>\n",
              "      <td>Vaduz</td>\n",
              "    </tr>\n",
              "    <tr>\n",
              "      <th>27</th>\n",
              "      <td>http://www.wikidata.org/entity/Q29</td>\n",
              "      <td>Spain</td>\n",
              "      <td>Madrid</td>\n",
              "    </tr>\n",
              "    <tr>\n",
              "      <th>28</th>\n",
              "      <td>http://www.wikidata.org/entity/Q229</td>\n",
              "      <td>Cyprus</td>\n",
              "      <td>Nicosia</td>\n",
              "    </tr>\n",
              "    <tr>\n",
              "      <th>29</th>\n",
              "      <td>http://www.wikidata.org/entity/Q218</td>\n",
              "      <td>Romania</td>\n",
              "      <td>Bucharest</td>\n",
              "    </tr>\n",
              "    <tr>\n",
              "      <th>30</th>\n",
              "      <td>http://www.wikidata.org/entity/Q233</td>\n",
              "      <td>Malta</td>\n",
              "      <td>Valletta</td>\n",
              "    </tr>\n",
              "  </tbody>\n",
              "</table>\n",
              "</div>"
            ],
            "text/plain": [
              "                                  country                countryLabel  \\\n",
              "1      http://www.wikidata.org/entity/Q39                 Switzerland   \n",
              "2     http://www.wikidata.org/entity/Q142                      France   \n",
              "3      http://www.wikidata.org/entity/Q37                   Lithuania   \n",
              "4      http://www.wikidata.org/entity/Q38                       Italy   \n",
              "5      http://www.wikidata.org/entity/Q31                     Belgium   \n",
              "6     http://www.wikidata.org/entity/Q215                    Slovenia   \n",
              "7     http://www.wikidata.org/entity/Q219                    Bulgaria   \n",
              "8      http://www.wikidata.org/entity/Q36                      Poland   \n",
              "9      http://www.wikidata.org/entity/Q20                      Norway   \n",
              "10     http://www.wikidata.org/entity/Q45                    Portugal   \n",
              "11  http://www.wikidata.org/entity/Q29999  Kingdom of the Netherlands   \n",
              "12    http://www.wikidata.org/entity/Q213              Czech Republic   \n",
              "13    http://www.wikidata.org/entity/Q224                     Croatia   \n",
              "14     http://www.wikidata.org/entity/Q41                      Greece   \n",
              "15     http://www.wikidata.org/entity/Q35                     Denmark   \n",
              "16     http://www.wikidata.org/entity/Q33                     Finland   \n",
              "17     http://www.wikidata.org/entity/Q34                      Sweden   \n",
              "18     http://www.wikidata.org/entity/Q27                     Ireland   \n",
              "19    http://www.wikidata.org/entity/Q189                     Iceland   \n",
              "20     http://www.wikidata.org/entity/Q40                     Austria   \n",
              "21    http://www.wikidata.org/entity/Q191                     Estonia   \n",
              "22    http://www.wikidata.org/entity/Q211                      Latvia   \n",
              "23    http://www.wikidata.org/entity/Q214                    Slovakia   \n",
              "24     http://www.wikidata.org/entity/Q28                     Hungary   \n",
              "25     http://www.wikidata.org/entity/Q32                  Luxembourg   \n",
              "26    http://www.wikidata.org/entity/Q347               Liechtenstein   \n",
              "27     http://www.wikidata.org/entity/Q29                       Spain   \n",
              "28    http://www.wikidata.org/entity/Q229                      Cyprus   \n",
              "29    http://www.wikidata.org/entity/Q218                     Romania   \n",
              "30    http://www.wikidata.org/entity/Q233                       Malta   \n",
              "\n",
              "             capital  \n",
              "1               Bern  \n",
              "2              Paris  \n",
              "3            Vilnius  \n",
              "4               Rome  \n",
              "5   City of Brussels  \n",
              "6          Ljubljana  \n",
              "7              Sofia  \n",
              "8             Warsaw  \n",
              "9               Oslo  \n",
              "10            Lisbon  \n",
              "11         Amsterdam  \n",
              "12            Prague  \n",
              "13            Zagreb  \n",
              "14            Athens  \n",
              "15        Copenhagen  \n",
              "16          Helsinki  \n",
              "17         Stockholm  \n",
              "18            Dublin  \n",
              "19         Reykjavík  \n",
              "20            Vienna  \n",
              "21           Tallinn  \n",
              "22              Riga  \n",
              "23        Bratislava  \n",
              "24          Budapest  \n",
              "25        Luxembourg  \n",
              "26             Vaduz  \n",
              "27            Madrid  \n",
              "28           Nicosia  \n",
              "29         Bucharest  \n",
              "30          Valletta  "
            ]
          },
          "execution_count": 28,
          "metadata": {},
          "output_type": "execute_result"
        }
      ],
      "source": [
        "q = '''\n",
        "SELECT  \n",
        "  ?countryLabel  ?country ?capital\n",
        "WHERE {\n",
        "   \n",
        "    {?country wdt:P463 wd:Q166546.}\n",
        "    UNION\n",
        "    {?country wdt:P463 wd:Q458.}\n",
        "    ?country wdt:P36 ?city.\n",
        "    ?city rdfs:label ?capital.\n",
        "    \n",
        "    \n",
        "    # TODO\n",
        "  FILTER(LANG(?capital)=\"en\")\n",
        "  \n",
        "  SERVICE wikibase:label {bd:serviceParam wikibase:language \"[AUTO_LANGUAGE],en\".}\n",
        "}\n",
        "'''\n",
        "\n",
        "capital_df = dataframe_results (wd_sparql, '', q)\n",
        "capital_df.tail(30)"
      ]
    },
    {
      "cell_type": "markdown",
      "metadata": {
        "id": "VZmH5je2nMQZ"
      },
      "source": [
        "Vamos a añadir obtener el nombre de los alcaldes actuales de esas capitales así como las coordenadas geográficas en las que se encuentran.\n",
        "\n",
        "Para obtener las coordenadas geográficas se necesitan añadir las siguientes líneas a la consulta:\n",
        "\n",
        "\n",
        "```\n",
        "?capital p:P625/psv:P625 ?node.\n",
        "?node wikibase:geoLatitude ?capital_lat.\n",
        "?node wikibase:geoLongitude ?capital_lon.\n",
        "```\n",
        "Mediante p:P625/psv:P625 se pasa al valor del nodo de las coordenadas de la localización (P625)y con `wikibase:geoLatitude` y  `wikibase:geoLongitude` se recuperan la latitud y la longitud.\n",
        "\n"
      ]
    },
    {
      "cell_type": "code",
      "execution_count": 29,
      "metadata": {
        "id": "kEMZwkQ4t6-2"
      },
      "outputs": [
        {
          "data": {
            "text/html": [
              "<div>\n",
              "<style scoped>\n",
              "    .dataframe tbody tr th:only-of-type {\n",
              "        vertical-align: middle;\n",
              "    }\n",
              "\n",
              "    .dataframe tbody tr th {\n",
              "        vertical-align: top;\n",
              "    }\n",
              "\n",
              "    .dataframe thead th {\n",
              "        text-align: right;\n",
              "    }\n",
              "</style>\n",
              "<table border=\"1\" class=\"dataframe\">\n",
              "  <thead>\n",
              "    <tr style=\"text-align: right;\">\n",
              "      <th></th>\n",
              "      <th>population</th>\n",
              "      <th>capital_lat</th>\n",
              "      <th>capital_lon</th>\n",
              "      <th>capitalLabel</th>\n",
              "      <th>mayorLabel</th>\n",
              "      <th>countryLabel</th>\n",
              "    </tr>\n",
              "  </thead>\n",
              "  <tbody>\n",
              "    <tr>\n",
              "      <th>0</th>\n",
              "      <td>124509</td>\n",
              "      <td>49.610555555556</td>\n",
              "      <td>6.1327777777778</td>\n",
              "      <td>Luxembourg</td>\n",
              "      <td>Lydie Polfer</td>\n",
              "      <td>Luxembourg</td>\n",
              "    </tr>\n",
              "    <tr>\n",
              "      <th>1</th>\n",
              "      <td>1335084</td>\n",
              "      <td>50.083333333333</td>\n",
              "      <td>14.416666666667</td>\n",
              "      <td>Prague</td>\n",
              "      <td>Zdeněk Hřib</td>\n",
              "      <td>Czech Republic</td>\n",
              "    </tr>\n",
              "    <tr>\n",
              "      <th>2</th>\n",
              "      <td>1173179</td>\n",
              "      <td>53.349722222222</td>\n",
              "      <td>-6.2602777777778</td>\n",
              "      <td>Dublin</td>\n",
              "      <td>Paul McAuliffe</td>\n",
              "      <td>Ireland</td>\n",
              "    </tr>\n",
              "    <tr>\n",
              "      <th>3</th>\n",
              "      <td>1790658</td>\n",
              "      <td>52.216666666667</td>\n",
              "      <td>21.033333333333</td>\n",
              "      <td>Warsaw</td>\n",
              "      <td>Rafał Trzaskowski</td>\n",
              "      <td>Poland</td>\n",
              "    </tr>\n",
              "    <tr>\n",
              "      <th>4</th>\n",
              "      <td>5668</td>\n",
              "      <td>47.139722222222</td>\n",
              "      <td>9.5219444444444</td>\n",
              "      <td>Vaduz</td>\n",
              "      <td>Ewald Ospelt</td>\n",
              "      <td>Liechtenstein</td>\n",
              "    </tr>\n",
              "    <tr>\n",
              "      <th>5</th>\n",
              "      <td>6444</td>\n",
              "      <td>35.897777777778</td>\n",
              "      <td>14.5125</td>\n",
              "      <td>Valletta</td>\n",
              "      <td>Alexiei Dingli</td>\n",
              "      <td>Malta</td>\n",
              "    </tr>\n",
              "    <tr>\n",
              "      <th>6</th>\n",
              "      <td>1883425</td>\n",
              "      <td>44.4</td>\n",
              "      <td>26.083333333333</td>\n",
              "      <td>Bucharest</td>\n",
              "      <td>Nicușor Dan</td>\n",
              "      <td>Romania</td>\n",
              "    </tr>\n",
              "    <tr>\n",
              "      <th>7</th>\n",
              "      <td>3644826</td>\n",
              "      <td>52.516666666667</td>\n",
              "      <td>13.383333333333</td>\n",
              "      <td>Berlin</td>\n",
              "      <td>Michael Müller</td>\n",
              "      <td>Germany</td>\n",
              "    </tr>\n",
              "    <tr>\n",
              "      <th>8</th>\n",
              "      <td>614618</td>\n",
              "      <td>56.9475</td>\n",
              "      <td>24.106944444444</td>\n",
              "      <td>Riga</td>\n",
              "      <td>Mārtiņš Staķis</td>\n",
              "      <td>Latvia</td>\n",
              "    </tr>\n",
              "    <tr>\n",
              "      <th>9</th>\n",
              "      <td>438341</td>\n",
              "      <td>59.437222222222</td>\n",
              "      <td>24.745</td>\n",
              "      <td>Tallinn</td>\n",
              "      <td>Taavi Aas</td>\n",
              "      <td>Estonia</td>\n",
              "    </tr>\n",
              "    <tr>\n",
              "      <th>10</th>\n",
              "      <td>1723836</td>\n",
              "      <td>47.498333333333</td>\n",
              "      <td>19.040833333333</td>\n",
              "      <td>Budapest</td>\n",
              "      <td>Gergely Karácsony</td>\n",
              "      <td>Hungary</td>\n",
              "    </tr>\n",
              "    <tr>\n",
              "      <th>11</th>\n",
              "      <td>664046</td>\n",
              "      <td>37.984166666667</td>\n",
              "      <td>23.728055555556</td>\n",
              "      <td>Athens</td>\n",
              "      <td>Kostas Bakoyannis</td>\n",
              "      <td>Greece</td>\n",
              "    </tr>\n",
              "    <tr>\n",
              "      <th>12</th>\n",
              "      <td>790017</td>\n",
              "      <td>45.813055555556</td>\n",
              "      <td>15.977222222222</td>\n",
              "      <td>Zagreb</td>\n",
              "      <td>Milan Bandić</td>\n",
              "      <td>Croatia</td>\n",
              "    </tr>\n",
              "    <tr>\n",
              "      <th>13</th>\n",
              "      <td>574147</td>\n",
              "      <td>54.683333333333</td>\n",
              "      <td>25.283333333333</td>\n",
              "      <td>Vilnius</td>\n",
              "      <td>Remigijus Šimašius</td>\n",
              "      <td>Lithuania</td>\n",
              "    </tr>\n",
              "    <tr>\n",
              "      <th>14</th>\n",
              "      <td>1911191</td>\n",
              "      <td>48.208333333333</td>\n",
              "      <td>16.3725</td>\n",
              "      <td>Vienna</td>\n",
              "      <td>Michael Ludwig</td>\n",
              "      <td>Austria</td>\n",
              "    </tr>\n",
              "  </tbody>\n",
              "</table>\n",
              "</div>"
            ],
            "text/plain": [
              "   population      capital_lat       capital_lon capitalLabel  \\\n",
              "0      124509  49.610555555556   6.1327777777778   Luxembourg   \n",
              "1     1335084  50.083333333333   14.416666666667       Prague   \n",
              "2     1173179  53.349722222222  -6.2602777777778       Dublin   \n",
              "3     1790658  52.216666666667   21.033333333333       Warsaw   \n",
              "4        5668  47.139722222222   9.5219444444444        Vaduz   \n",
              "5        6444  35.897777777778           14.5125     Valletta   \n",
              "6     1883425             44.4   26.083333333333    Bucharest   \n",
              "7     3644826  52.516666666667   13.383333333333       Berlin   \n",
              "8      614618          56.9475   24.106944444444         Riga   \n",
              "9      438341  59.437222222222            24.745      Tallinn   \n",
              "10    1723836  47.498333333333   19.040833333333     Budapest   \n",
              "11     664046  37.984166666667   23.728055555556       Athens   \n",
              "12     790017  45.813055555556   15.977222222222       Zagreb   \n",
              "13     574147  54.683333333333   25.283333333333      Vilnius   \n",
              "14    1911191  48.208333333333           16.3725       Vienna   \n",
              "\n",
              "            mayorLabel    countryLabel  \n",
              "0         Lydie Polfer      Luxembourg  \n",
              "1          Zdeněk Hřib  Czech Republic  \n",
              "2       Paul McAuliffe         Ireland  \n",
              "3    Rafał Trzaskowski          Poland  \n",
              "4         Ewald Ospelt   Liechtenstein  \n",
              "5       Alexiei Dingli           Malta  \n",
              "6          Nicușor Dan         Romania  \n",
              "7       Michael Müller         Germany  \n",
              "8       Mārtiņš Staķis          Latvia  \n",
              "9            Taavi Aas         Estonia  \n",
              "10   Gergely Karácsony         Hungary  \n",
              "11   Kostas Bakoyannis          Greece  \n",
              "12        Milan Bandić         Croatia  \n",
              "13  Remigijus Šimašius       Lithuania  \n",
              "14      Michael Ludwig         Austria  "
            ]
          },
          "execution_count": 29,
          "metadata": {},
          "output_type": "execute_result"
        }
      ],
      "source": [
        "q = '''\n",
        "SELECT  DISTINCT\n",
        "  ?countryLabel \n",
        "  ?capitalLabel\n",
        "  ?population \n",
        "  ?capital_lon ?capital_lat\n",
        "  ?mayorLabel \n",
        "WHERE {\n",
        "    {?country wdt:P463 wd:Q166546.}\n",
        "    UNION\n",
        "    {?country wdt:P463 wd:Q458.}\n",
        "    ?country wdt:P36 ?capital.\n",
        "    ?capital rdfs:label ?capitalLabel.\n",
        "    ?capital wdt:P1082 ?population.\n",
        "    ?capital p:P625/psv:P625 ?node.\n",
        "    ?node wikibase:geoLatitude ?capital_lat.\n",
        "    ?node wikibase:geoLongitude ?capital_lon.\n",
        "    ?capital wdt:P6 ?mayor.\n",
        "    ?mayor rdfs:label ?mayorLabel.\n",
        "    \n",
        "    \n",
        "    # TODO\n",
        "  FILTER(LANG(?capitalLabel)=\"en\")\n",
        "  FILTER(LANG(?mayorLabel)=\"en\")\n",
        "  \n",
        "  SERVICE wikibase:label {bd:serviceParam wikibase:language \"[AUTO_LANGUAGE],en\".}\n",
        "}\n",
        "'''\n",
        "\n",
        "capital_df = dataframe_results (wd_sparql, '', q)\n",
        "capital_df.head(15)"
      ]
    },
    {
      "cell_type": "markdown",
      "metadata": {
        "id": "expTqbrIpZaC"
      },
      "source": [
        "Convertir los datos numéricos al formato adecuado"
      ]
    },
    {
      "cell_type": "code",
      "execution_count": 30,
      "metadata": {
        "id": "PzcRUu1UuLjz"
      },
      "outputs": [
        {
          "data": {
            "text/html": [
              "<div>\n",
              "<style scoped>\n",
              "    .dataframe tbody tr th:only-of-type {\n",
              "        vertical-align: middle;\n",
              "    }\n",
              "\n",
              "    .dataframe tbody tr th {\n",
              "        vertical-align: top;\n",
              "    }\n",
              "\n",
              "    .dataframe thead th {\n",
              "        text-align: right;\n",
              "    }\n",
              "</style>\n",
              "<table border=\"1\" class=\"dataframe\">\n",
              "  <thead>\n",
              "    <tr style=\"text-align: right;\">\n",
              "      <th></th>\n",
              "      <th>population</th>\n",
              "      <th>capital_lat</th>\n",
              "      <th>capital_lon</th>\n",
              "      <th>capitalLabel</th>\n",
              "      <th>mayorLabel</th>\n",
              "      <th>countryLabel</th>\n",
              "    </tr>\n",
              "  </thead>\n",
              "  <tbody>\n",
              "    <tr>\n",
              "      <th>0</th>\n",
              "      <td>124509</td>\n",
              "      <td>49.610556</td>\n",
              "      <td>6.132778</td>\n",
              "      <td>Luxembourg</td>\n",
              "      <td>Lydie Polfer</td>\n",
              "      <td>Luxembourg</td>\n",
              "    </tr>\n",
              "    <tr>\n",
              "      <th>1</th>\n",
              "      <td>1335084</td>\n",
              "      <td>50.083333</td>\n",
              "      <td>14.416667</td>\n",
              "      <td>Prague</td>\n",
              "      <td>Zdeněk Hřib</td>\n",
              "      <td>Czech Republic</td>\n",
              "    </tr>\n",
              "    <tr>\n",
              "      <th>2</th>\n",
              "      <td>1173179</td>\n",
              "      <td>53.349722</td>\n",
              "      <td>-6.260278</td>\n",
              "      <td>Dublin</td>\n",
              "      <td>Paul McAuliffe</td>\n",
              "      <td>Ireland</td>\n",
              "    </tr>\n",
              "    <tr>\n",
              "      <th>3</th>\n",
              "      <td>1790658</td>\n",
              "      <td>52.216667</td>\n",
              "      <td>21.033333</td>\n",
              "      <td>Warsaw</td>\n",
              "      <td>Rafał Trzaskowski</td>\n",
              "      <td>Poland</td>\n",
              "    </tr>\n",
              "    <tr>\n",
              "      <th>4</th>\n",
              "      <td>5668</td>\n",
              "      <td>47.139722</td>\n",
              "      <td>9.521944</td>\n",
              "      <td>Vaduz</td>\n",
              "      <td>Ewald Ospelt</td>\n",
              "      <td>Liechtenstein</td>\n",
              "    </tr>\n",
              "  </tbody>\n",
              "</table>\n",
              "</div>"
            ],
            "text/plain": [
              "   population  capital_lat  capital_lon capitalLabel         mayorLabel  \\\n",
              "0      124509    49.610556     6.132778   Luxembourg       Lydie Polfer   \n",
              "1     1335084    50.083333    14.416667       Prague        Zdeněk Hřib   \n",
              "2     1173179    53.349722    -6.260278       Dublin     Paul McAuliffe   \n",
              "3     1790658    52.216667    21.033333       Warsaw  Rafał Trzaskowski   \n",
              "4        5668    47.139722     9.521944        Vaduz       Ewald Ospelt   \n",
              "\n",
              "     countryLabel  \n",
              "0      Luxembourg  \n",
              "1  Czech Republic  \n",
              "2         Ireland  \n",
              "3          Poland  \n",
              "4   Liechtenstein  "
            ]
          },
          "execution_count": 30,
          "metadata": {},
          "output_type": "execute_result"
        }
      ],
      "source": [
        "# TODO\n",
        "capital_df=capital_df.apply(pd.to_numeric, errors='ignore')\n",
        "\n",
        "capital_df.head(5)"
      ]
    },
    {
      "cell_type": "markdown",
      "metadata": {
        "id": "Wa5vOb8KqirD"
      },
      "source": [
        "Eliminar datos duplicados (si los hay)"
      ]
    },
    {
      "cell_type": "code",
      "execution_count": 31,
      "metadata": {
        "id": "X7dCuV91qtoD"
      },
      "outputs": [
        {
          "data": {
            "text/html": [
              "<div>\n",
              "<style scoped>\n",
              "    .dataframe tbody tr th:only-of-type {\n",
              "        vertical-align: middle;\n",
              "    }\n",
              "\n",
              "    .dataframe tbody tr th {\n",
              "        vertical-align: top;\n",
              "    }\n",
              "\n",
              "    .dataframe thead th {\n",
              "        text-align: right;\n",
              "    }\n",
              "</style>\n",
              "<table border=\"1\" class=\"dataframe\">\n",
              "  <thead>\n",
              "    <tr style=\"text-align: right;\">\n",
              "      <th></th>\n",
              "      <th>population</th>\n",
              "      <th>capital_lat</th>\n",
              "      <th>capital_lon</th>\n",
              "      <th>capitalLabel</th>\n",
              "      <th>mayorLabel</th>\n",
              "      <th>countryLabel</th>\n",
              "    </tr>\n",
              "  </thead>\n",
              "  <tbody>\n",
              "    <tr>\n",
              "      <th>0</th>\n",
              "      <td>124509</td>\n",
              "      <td>49.610556</td>\n",
              "      <td>6.132778</td>\n",
              "      <td>Luxembourg</td>\n",
              "      <td>Lydie Polfer</td>\n",
              "      <td>Luxembourg</td>\n",
              "    </tr>\n",
              "    <tr>\n",
              "      <th>1</th>\n",
              "      <td>1335084</td>\n",
              "      <td>50.083333</td>\n",
              "      <td>14.416667</td>\n",
              "      <td>Prague</td>\n",
              "      <td>Zdeněk Hřib</td>\n",
              "      <td>Czech Republic</td>\n",
              "    </tr>\n",
              "    <tr>\n",
              "      <th>2</th>\n",
              "      <td>1173179</td>\n",
              "      <td>53.349722</td>\n",
              "      <td>-6.260278</td>\n",
              "      <td>Dublin</td>\n",
              "      <td>Paul McAuliffe</td>\n",
              "      <td>Ireland</td>\n",
              "    </tr>\n",
              "    <tr>\n",
              "      <th>3</th>\n",
              "      <td>1790658</td>\n",
              "      <td>52.216667</td>\n",
              "      <td>21.033333</td>\n",
              "      <td>Warsaw</td>\n",
              "      <td>Rafał Trzaskowski</td>\n",
              "      <td>Poland</td>\n",
              "    </tr>\n",
              "    <tr>\n",
              "      <th>4</th>\n",
              "      <td>5668</td>\n",
              "      <td>47.139722</td>\n",
              "      <td>9.521944</td>\n",
              "      <td>Vaduz</td>\n",
              "      <td>Ewald Ospelt</td>\n",
              "      <td>Liechtenstein</td>\n",
              "    </tr>\n",
              "    <tr>\n",
              "      <th>5</th>\n",
              "      <td>6444</td>\n",
              "      <td>35.897778</td>\n",
              "      <td>14.512500</td>\n",
              "      <td>Valletta</td>\n",
              "      <td>Alexiei Dingli</td>\n",
              "      <td>Malta</td>\n",
              "    </tr>\n",
              "    <tr>\n",
              "      <th>6</th>\n",
              "      <td>1883425</td>\n",
              "      <td>44.400000</td>\n",
              "      <td>26.083333</td>\n",
              "      <td>Bucharest</td>\n",
              "      <td>Nicușor Dan</td>\n",
              "      <td>Romania</td>\n",
              "    </tr>\n",
              "    <tr>\n",
              "      <th>7</th>\n",
              "      <td>3644826</td>\n",
              "      <td>52.516667</td>\n",
              "      <td>13.383333</td>\n",
              "      <td>Berlin</td>\n",
              "      <td>Michael Müller</td>\n",
              "      <td>Germany</td>\n",
              "    </tr>\n",
              "    <tr>\n",
              "      <th>8</th>\n",
              "      <td>614618</td>\n",
              "      <td>56.947500</td>\n",
              "      <td>24.106944</td>\n",
              "      <td>Riga</td>\n",
              "      <td>Mārtiņš Staķis</td>\n",
              "      <td>Latvia</td>\n",
              "    </tr>\n",
              "    <tr>\n",
              "      <th>9</th>\n",
              "      <td>438341</td>\n",
              "      <td>59.437222</td>\n",
              "      <td>24.745000</td>\n",
              "      <td>Tallinn</td>\n",
              "      <td>Taavi Aas</td>\n",
              "      <td>Estonia</td>\n",
              "    </tr>\n",
              "  </tbody>\n",
              "</table>\n",
              "</div>"
            ],
            "text/plain": [
              "   population  capital_lat  capital_lon capitalLabel         mayorLabel  \\\n",
              "0      124509    49.610556     6.132778   Luxembourg       Lydie Polfer   \n",
              "1     1335084    50.083333    14.416667       Prague        Zdeněk Hřib   \n",
              "2     1173179    53.349722    -6.260278       Dublin     Paul McAuliffe   \n",
              "3     1790658    52.216667    21.033333       Warsaw  Rafał Trzaskowski   \n",
              "4        5668    47.139722     9.521944        Vaduz       Ewald Ospelt   \n",
              "5        6444    35.897778    14.512500     Valletta     Alexiei Dingli   \n",
              "6     1883425    44.400000    26.083333    Bucharest        Nicușor Dan   \n",
              "7     3644826    52.516667    13.383333       Berlin     Michael Müller   \n",
              "8      614618    56.947500    24.106944         Riga     Mārtiņš Staķis   \n",
              "9      438341    59.437222    24.745000      Tallinn          Taavi Aas   \n",
              "\n",
              "     countryLabel  \n",
              "0      Luxembourg  \n",
              "1  Czech Republic  \n",
              "2         Ireland  \n",
              "3          Poland  \n",
              "4   Liechtenstein  \n",
              "5           Malta  \n",
              "6         Romania  \n",
              "7         Germany  \n",
              "8          Latvia  \n",
              "9         Estonia  "
            ]
          },
          "execution_count": 31,
          "metadata": {},
          "output_type": "execute_result"
        }
      ],
      "source": [
        "len(capital_df['capitalLabel'].unique()) == len (capital_df)\n",
        "# capital_df\n",
        "capital_df=capital_df.drop_duplicates(subset=[\"capitalLabel\"])\n",
        "# TODO\n",
        "\n",
        "capital_df.head(10)"
      ]
    },
    {
      "cell_type": "code",
      "execution_count": 32,
      "metadata": {
        "id": "Hg7Eb1sOuVIa"
      },
      "outputs": [
        {
          "data": {
            "image/png": "[encoded data removed]",
            "text/plain": [
              "<Figure size 864x360 with 1 Axes>"
            ]
          },
          "metadata": {},
          "output_type": "display_data"
        }
      ],
      "source": [
        "plt.figure(figsize=(12, 5))\n",
        "plt.subplot(1, 2, 1)\n",
        "capital_df['population'].sort_values().plot(kind='barh', color='C0', title='Population')\n",
        "plt.ylabel('')\n",
        "plt.ticklabel_format(style='plain', axis='x')\n",
        "plt.tight_layout()"
      ]
    },
    {
      "cell_type": "code",
      "execution_count": 33,
      "metadata": {
        "id": "aQgwuaQPxHIZ"
      },
      "outputs": [
        {
          "data": {
            "text/html": [
              "<div style=\"width:100%;\"><div style=\"position:relative;width:100%;height:0;padding-bottom:60%;\"><span style=\"color:#565656\">Make this Notebook Trusted to load map: File -> Trust Notebook</span><iframe src=\"about:blank\" style=\"position:absolute;width:100%;height:100%;left:0;top:0;border:none !important;\" data-html=%3C%21DOCTYPE%20html%3E%0A%3Chead%3E%20%20%20%20%0A%20%20%20%20%3Cmeta%20http-equiv%3D%22content-type%22%20content%3D%22text/html%3B%20charset%3DUTF-8%22%20/%3E%0A%20%20%20%20%0A%20%20%20%20%20%20%20%20%3Cscript%3E%0A%20%20%20%20%20%20%20%20%20%20%20%20L_NO_TOUCH%20%3D%20false%3B%0A%20%20%20%20%20%20%20%20%20%20%20%20L_DISABLE_3D%20%3D%20false%3B%0A%20%20%20%20%20%20%20%20%3C/script%3E%0A%20%20%20%20%0A%20%20%20%20%3Cstyle%3Ehtml%2C%20body%20%7Bwidth%3A%20100%25%3Bheight%3A%20100%25%3Bmargin%3A%200%3Bpadding%3A%200%3B%7D%3C/style%3E%0A%20%20%20%20%3Cstyle%3E%23map%20%7Bposition%3Aabsolute%3Btop%3A0%3Bbottom%3A0%3Bright%3A0%3Bleft%3A0%3B%7D%3C/style%3E%0A%20%20%20%20%3Cscript%20src%3D%22https%3A//cdn.jsdelivr.net/npm/leaflet%401.6.0/dist/leaflet.js%22%3E%3C/script%3E%0A%20%20%20%20%3Cscript%20src%3D%22https%3A//code.jquery.com/jquery-1.12.4.min.js%22%3E%3C/script%3E%0A%20%20%20%20%3Cscript%20src%3D%22https%3A//maxcdn.bootstrapcdn.com/bootstrap/3.2.0/js/bootstrap.min.js%22%3E%3C/script%3E%0A%20%20%20%20%3Cscript%20src%3D%22https%3A//cdnjs.cloudflare.com/ajax/libs/Leaflet.awesome-markers/2.0.2/leaflet.awesome-markers.js%22%3E%3C/script%3E%0A%20%20%20%20%3Clink%20rel%3D%22stylesheet%22%20href%3D%22https%3A//cdn.jsdelivr.net/npm/leaflet%401.6.0/dist/leaflet.css%22/%3E%0A%20%20%20%20%3Clink%20rel%3D%22stylesheet%22%20href%3D%22https%3A//maxcdn.bootstrapcdn.com/bootstrap/3.2.0/css/bootstrap.min.css%22/%3E%0A%20%20%20%20%3Clink%20rel%3D%22stylesheet%22%20href%3D%22https%3A//maxcdn.bootstrapcdn.com/bootstrap/3.2.0/css/bootstrap-theme.min.css%22/%3E%0A%20%20%20%20%3Clink%20rel%3D%22stylesheet%22%20href%3D%22https%3A//maxcdn.bootstrapcdn.com/font-awesome/4.6.3/css/font-awesome.min.css%22/%3E%0A%20%20%20%20%3Clink%20rel%3D%22stylesheet%22%20href%3D%22https%3A//cdnjs.cloudflare.com/ajax/libs/Leaflet.awesome-markers/2.0.2/leaflet.awesome-markers.css%22/%3E%0A%20%20%20%20%3Clink%20rel%3D%22stylesheet%22%20href%3D%22https%3A//cdn.jsdelivr.net/gh/python-visualization/folium/folium/templates/leaflet.awesome.rotate.min.css%22/%3E%0A%20%20%20%20%0A%20%20%20%20%20%20%20%20%20%20%20%20%3Cmeta%20name%3D%22viewport%22%20content%3D%22width%3Ddevice-width%2C%0A%20%20%20%20%20%20%20%20%20%20%20%20%20%20%20%20initial-scale%3D1.0%2C%20maximum-scale%3D1.0%2C%20user-scalable%3Dno%22%20/%3E%0A%20%20%20%20%20%20%20%20%20%20%20%20%3Cstyle%3E%0A%20%20%20%20%20%20%20%20%20%20%20%20%20%20%20%20%23map_37622e7d8f0645cdae0a39eaef5531db%20%7B%0A%20%20%20%20%20%20%20%20%20%20%20%20%20%20%20%20%20%20%20%20position%3A%20relative%3B%0A%20%20%20%20%20%20%20%20%20%20%20%20%20%20%20%20%20%20%20%20width%3A%20100.0%25%3B%0A%20%20%20%20%20%20%20%20%20%20%20%20%20%20%20%20%20%20%20%20height%3A%20100.0%25%3B%0A%20%20%20%20%20%20%20%20%20%20%20%20%20%20%20%20%20%20%20%20left%3A%200.0%25%3B%0A%20%20%20%20%20%20%20%20%20%20%20%20%20%20%20%20%20%20%20%20top%3A%200.0%25%3B%0A%20%20%20%20%20%20%20%20%20%20%20%20%20%20%20%20%7D%0A%20%20%20%20%20%20%20%20%20%20%20%20%3C/style%3E%0A%20%20%20%20%20%20%20%20%0A%3C/head%3E%0A%3Cbody%3E%20%20%20%20%0A%20%20%20%20%0A%20%20%20%20%20%20%20%20%20%20%20%20%3Cdiv%20class%3D%22folium-map%22%20id%3D%22map_37622e7d8f0645cdae0a39eaef5531db%22%20%3E%3C/div%3E%0A%20%20%20%20%20%20%20%20%0A%3C/body%3E%0A%3Cscript%3E%20%20%20%20%0A%20%20%20%20%0A%20%20%20%20%20%20%20%20%20%20%20%20var%20map_37622e7d8f0645cdae0a39eaef5531db%20%3D%20L.map%28%0A%20%20%20%20%20%20%20%20%20%20%20%20%20%20%20%20%22map_37622e7d8f0645cdae0a39eaef5531db%22%2C%0A%20%20%20%20%20%20%20%20%20%20%20%20%20%20%20%20%7B%0A%20%20%20%20%20%20%20%20%20%20%20%20%20%20%20%20%20%20%20%20center%3A%20%5B50.0%2C%200.0%5D%2C%0A%20%20%20%20%20%20%20%20%20%20%20%20%20%20%20%20%20%20%20%20crs%3A%20L.CRS.EPSG3857%2C%0A%20%20%20%20%20%20%20%20%20%20%20%20%20%20%20%20%20%20%20%20zoom%3A%204%2C%0A%20%20%20%20%20%20%20%20%20%20%20%20%20%20%20%20%20%20%20%20zoomControl%3A%20true%2C%0A%20%20%20%20%20%20%20%20%20%20%20%20%20%20%20%20%20%20%20%20preferCanvas%3A%20false%2C%0A%20%20%20%20%20%20%20%20%20%20%20%20%20%20%20%20%7D%0A%20%20%20%20%20%20%20%20%20%20%20%20%29%3B%0A%0A%20%20%20%20%20%20%20%20%20%20%20%20%0A%0A%20%20%20%20%20%20%20%20%0A%20%20%20%20%0A%20%20%20%20%20%20%20%20%20%20%20%20var%20tile_layer_2bc0d19b87ca48c88bdd0a9df6ad2194%20%3D%20L.tileLayer%28%0A%20%20%20%20%20%20%20%20%20%20%20%20%20%20%20%20%22https%3A//%7Bs%7D.tile.openstreetmap.org/%7Bz%7D/%7Bx%7D/%7By%7D.png%22%2C%0A%20%20%20%20%20%20%20%20%20%20%20%20%20%20%20%20%7B%22attribution%22%3A%20%22Data%20by%20%5Cu0026copy%3B%20%5Cu003ca%20href%3D%5C%22http%3A//openstreetmap.org%5C%22%5Cu003eOpenStreetMap%5Cu003c/a%5Cu003e%2C%20under%20%5Cu003ca%20href%3D%5C%22http%3A//www.openstreetmap.org/copyright%5C%22%5Cu003eODbL%5Cu003c/a%5Cu003e.%22%2C%20%22detectRetina%22%3A%20false%2C%20%22maxNativeZoom%22%3A%2018%2C%20%22maxZoom%22%3A%2018%2C%20%22minZoom%22%3A%200%2C%20%22noWrap%22%3A%20false%2C%20%22opacity%22%3A%201%2C%20%22subdomains%22%3A%20%22abc%22%2C%20%22tms%22%3A%20false%7D%0A%20%20%20%20%20%20%20%20%20%20%20%20%29.addTo%28map_37622e7d8f0645cdae0a39eaef5531db%29%3B%0A%20%20%20%20%20%20%20%20%0A%20%20%20%20%0A%20%20%20%20%20%20%20%20%20%20%20%20var%20marker_540d119dae674eaba88468a6356f3f8e%20%3D%20L.marker%28%0A%20%20%20%20%20%20%20%20%20%20%20%20%20%20%20%20%5B49.610555555556%2C%206.1327777777778%5D%2C%0A%20%20%20%20%20%20%20%20%20%20%20%20%20%20%20%20%7B%7D%0A%20%20%20%20%20%20%20%20%20%20%20%20%29.addTo%28map_37622e7d8f0645cdae0a39eaef5531db%29%3B%0A%20%20%20%20%20%20%20%20%0A%20%20%20%20%0A%20%20%20%20%20%20%20%20%20%20%20%20marker_540d119dae674eaba88468a6356f3f8e.bindTooltip%28%0A%20%20%20%20%20%20%20%20%20%20%20%20%20%20%20%20%60%3Cdiv%3E%0A%20%20%20%20%20%20%20%20%20%20%20%20%20%20%20%20%20%20%20%20%20Luxembourg%0A%20%20%20%20%20%20%20%20%20%20%20%20%20%20%20%20%20%3C/div%3E%60%2C%0A%20%20%20%20%20%20%20%20%20%20%20%20%20%20%20%20%7B%22sticky%22%3A%20true%7D%0A%20%20%20%20%20%20%20%20%20%20%20%20%29%3B%0A%20%20%20%20%20%20%20%20%0A%20%20%20%20%0A%20%20%20%20%20%20%20%20%20%20%20%20var%20marker_2645bf44f22741c2bad9ddaed5c0e99a%20%3D%20L.marker%28%0A%20%20%20%20%20%20%20%20%20%20%20%20%20%20%20%20%5B50.083333333333%2C%2014.416666666667%5D%2C%0A%20%20%20%20%20%20%20%20%20%20%20%20%20%20%20%20%7B%7D%0A%20%20%20%20%20%20%20%20%20%20%20%20%29.addTo%28map_37622e7d8f0645cdae0a39eaef5531db%29%3B%0A%20%20%20%20%20%20%20%20%0A%20%20%20%20%0A%20%20%20%20%20%20%20%20%20%20%20%20marker_2645bf44f22741c2bad9ddaed5c0e99a.bindTooltip%28%0A%20%20%20%20%20%20%20%20%20%20%20%20%20%20%20%20%60%3Cdiv%3E%0A%20%20%20%20%20%20%20%20%20%20%20%20%20%20%20%20%20%20%20%20%20Prague%0A%20%20%20%20%20%20%20%20%20%20%20%20%20%20%20%20%20%3C/div%3E%60%2C%0A%20%20%20%20%20%20%20%20%20%20%20%20%20%20%20%20%7B%22sticky%22%3A%20true%7D%0A%20%20%20%20%20%20%20%20%20%20%20%20%29%3B%0A%20%20%20%20%20%20%20%20%0A%20%20%20%20%0A%20%20%20%20%20%20%20%20%20%20%20%20var%20marker_270125f2f23544caadafa5061f8d7b37%20%3D%20L.marker%28%0A%20%20%20%20%20%20%20%20%20%20%20%20%20%20%20%20%5B53.349722222222%2C%20-6.2602777777778%5D%2C%0A%20%20%20%20%20%20%20%20%20%20%20%20%20%20%20%20%7B%7D%0A%20%20%20%20%20%20%20%20%20%20%20%20%29.addTo%28map_37622e7d8f0645cdae0a39eaef5531db%29%3B%0A%20%20%20%20%20%20%20%20%0A%20%20%20%20%0A%20%20%20%20%20%20%20%20%20%20%20%20marker_270125f2f23544caadafa5061f8d7b37.bindTooltip%28%0A%20%20%20%20%20%20%20%20%20%20%20%20%20%20%20%20%60%3Cdiv%3E%0A%20%20%20%20%20%20%20%20%20%20%20%20%20%20%20%20%20%20%20%20%20Dublin%0A%20%20%20%20%20%20%20%20%20%20%20%20%20%20%20%20%20%3C/div%3E%60%2C%0A%20%20%20%20%20%20%20%20%20%20%20%20%20%20%20%20%7B%22sticky%22%3A%20true%7D%0A%20%20%20%20%20%20%20%20%20%20%20%20%29%3B%0A%20%20%20%20%20%20%20%20%0A%20%20%20%20%0A%20%20%20%20%20%20%20%20%20%20%20%20var%20marker_a61db57d78514601b8729528645a0b76%20%3D%20L.marker%28%0A%20%20%20%20%20%20%20%20%20%20%20%20%20%20%20%20%5B52.216666666667%2C%2021.033333333333%5D%2C%0A%20%20%20%20%20%20%20%20%20%20%20%20%20%20%20%20%7B%7D%0A%20%20%20%20%20%20%20%20%20%20%20%20%29.addTo%28map_37622e7d8f0645cdae0a39eaef5531db%29%3B%0A%20%20%20%20%20%20%20%20%0A%20%20%20%20%0A%20%20%20%20%20%20%20%20%20%20%20%20marker_a61db57d78514601b8729528645a0b76.bindTooltip%28%0A%20%20%20%20%20%20%20%20%20%20%20%20%20%20%20%20%60%3Cdiv%3E%0A%20%20%20%20%20%20%20%20%20%20%20%20%20%20%20%20%20%20%20%20%20Warsaw%0A%20%20%20%20%20%20%20%20%20%20%20%20%20%20%20%20%20%3C/div%3E%60%2C%0A%20%20%20%20%20%20%20%20%20%20%20%20%20%20%20%20%7B%22sticky%22%3A%20true%7D%0A%20%20%20%20%20%20%20%20%20%20%20%20%29%3B%0A%20%20%20%20%20%20%20%20%0A%20%20%20%20%0A%20%20%20%20%20%20%20%20%20%20%20%20var%20marker_d3e2588e46404385980bc922289ab51d%20%3D%20L.marker%28%0A%20%20%20%20%20%20%20%20%20%20%20%20%20%20%20%20%5B47.139722222222%2C%209.5219444444444%5D%2C%0A%20%20%20%20%20%20%20%20%20%20%20%20%20%20%20%20%7B%7D%0A%20%20%20%20%20%20%20%20%20%20%20%20%29.addTo%28map_37622e7d8f0645cdae0a39eaef5531db%29%3B%0A%20%20%20%20%20%20%20%20%0A%20%20%20%20%0A%20%20%20%20%20%20%20%20%20%20%20%20marker_d3e2588e46404385980bc922289ab51d.bindTooltip%28%0A%20%20%20%20%20%20%20%20%20%20%20%20%20%20%20%20%60%3Cdiv%3E%0A%20%20%20%20%20%20%20%20%20%20%20%20%20%20%20%20%20%20%20%20%20Vaduz%0A%20%20%20%20%20%20%20%20%20%20%20%20%20%20%20%20%20%3C/div%3E%60%2C%0A%20%20%20%20%20%20%20%20%20%20%20%20%20%20%20%20%7B%22sticky%22%3A%20true%7D%0A%20%20%20%20%20%20%20%20%20%20%20%20%29%3B%0A%20%20%20%20%20%20%20%20%0A%20%20%20%20%0A%20%20%20%20%20%20%20%20%20%20%20%20var%20marker_40421b3c24b04e27827ba26c2aac3e3f%20%3D%20L.marker%28%0A%20%20%20%20%20%20%20%20%20%20%20%20%20%20%20%20%5B35.897777777778%2C%2014.5125%5D%2C%0A%20%20%20%20%20%20%20%20%20%20%20%20%20%20%20%20%7B%7D%0A%20%20%20%20%20%20%20%20%20%20%20%20%29.addTo%28map_37622e7d8f0645cdae0a39eaef5531db%29%3B%0A%20%20%20%20%20%20%20%20%0A%20%20%20%20%0A%20%20%20%20%20%20%20%20%20%20%20%20marker_40421b3c24b04e27827ba26c2aac3e3f.bindTooltip%28%0A%20%20%20%20%20%20%20%20%20%20%20%20%20%20%20%20%60%3Cdiv%3E%0A%20%20%20%20%20%20%20%20%20%20%20%20%20%20%20%20%20%20%20%20%20Valletta%0A%20%20%20%20%20%20%20%20%20%20%20%20%20%20%20%20%20%3C/div%3E%60%2C%0A%20%20%20%20%20%20%20%20%20%20%20%20%20%20%20%20%7B%22sticky%22%3A%20true%7D%0A%20%20%20%20%20%20%20%20%20%20%20%20%29%3B%0A%20%20%20%20%20%20%20%20%0A%20%20%20%20%0A%20%20%20%20%20%20%20%20%20%20%20%20var%20marker_f5f9b3345538406fa65bf1def5be4796%20%3D%20L.marker%28%0A%20%20%20%20%20%20%20%20%20%20%20%20%20%20%20%20%5B44.4%2C%2026.083333333333%5D%2C%0A%20%20%20%20%20%20%20%20%20%20%20%20%20%20%20%20%7B%7D%0A%20%20%20%20%20%20%20%20%20%20%20%20%29.addTo%28map_37622e7d8f0645cdae0a39eaef5531db%29%3B%0A%20%20%20%20%20%20%20%20%0A%20%20%20%20%0A%20%20%20%20%20%20%20%20%20%20%20%20marker_f5f9b3345538406fa65bf1def5be4796.bindTooltip%28%0A%20%20%20%20%20%20%20%20%20%20%20%20%20%20%20%20%60%3Cdiv%3E%0A%20%20%20%20%20%20%20%20%20%20%20%20%20%20%20%20%20%20%20%20%20Bucharest%0A%20%20%20%20%20%20%20%20%20%20%20%20%20%20%20%20%20%3C/div%3E%60%2C%0A%20%20%20%20%20%20%20%20%20%20%20%20%20%20%20%20%7B%22sticky%22%3A%20true%7D%0A%20%20%20%20%20%20%20%20%20%20%20%20%29%3B%0A%20%20%20%20%20%20%20%20%0A%20%20%20%20%0A%20%20%20%20%20%20%20%20%20%20%20%20var%20marker_d2a10f0a96024de4b417310180325d63%20%3D%20L.marker%28%0A%20%20%20%20%20%20%20%20%20%20%20%20%20%20%20%20%5B52.516666666667%2C%2013.383333333333%5D%2C%0A%20%20%20%20%20%20%20%20%20%20%20%20%20%20%20%20%7B%7D%0A%20%20%20%20%20%20%20%20%20%20%20%20%29.addTo%28map_37622e7d8f0645cdae0a39eaef5531db%29%3B%0A%20%20%20%20%20%20%20%20%0A%20%20%20%20%0A%20%20%20%20%20%20%20%20%20%20%20%20marker_d2a10f0a96024de4b417310180325d63.bindTooltip%28%0A%20%20%20%20%20%20%20%20%20%20%20%20%20%20%20%20%60%3Cdiv%3E%0A%20%20%20%20%20%20%20%20%20%20%20%20%20%20%20%20%20%20%20%20%20Berlin%0A%20%20%20%20%20%20%20%20%20%20%20%20%20%20%20%20%20%3C/div%3E%60%2C%0A%20%20%20%20%20%20%20%20%20%20%20%20%20%20%20%20%7B%22sticky%22%3A%20true%7D%0A%20%20%20%20%20%20%20%20%20%20%20%20%29%3B%0A%20%20%20%20%20%20%20%20%0A%20%20%20%20%0A%20%20%20%20%20%20%20%20%20%20%20%20var%20marker_cc307da3d3424190bbd38be009cac867%20%3D%20L.marker%28%0A%20%20%20%20%20%20%20%20%20%20%20%20%20%20%20%20%5B56.9475%2C%2024.106944444444%5D%2C%0A%20%20%20%20%20%20%20%20%20%20%20%20%20%20%20%20%7B%7D%0A%20%20%20%20%20%20%20%20%20%20%20%20%29.addTo%28map_37622e7d8f0645cdae0a39eaef5531db%29%3B%0A%20%20%20%20%20%20%20%20%0A%20%20%20%20%0A%20%20%20%20%20%20%20%20%20%20%20%20marker_cc307da3d3424190bbd38be009cac867.bindTooltip%28%0A%20%20%20%20%20%20%20%20%20%20%20%20%20%20%20%20%60%3Cdiv%3E%0A%20%20%20%20%20%20%20%20%20%20%20%20%20%20%20%20%20%20%20%20%20Riga%0A%20%20%20%20%20%20%20%20%20%20%20%20%20%20%20%20%20%3C/div%3E%60%2C%0A%20%20%20%20%20%20%20%20%20%20%20%20%20%20%20%20%7B%22sticky%22%3A%20true%7D%0A%20%20%20%20%20%20%20%20%20%20%20%20%29%3B%0A%20%20%20%20%20%20%20%20%0A%20%20%20%20%0A%20%20%20%20%20%20%20%20%20%20%20%20var%20marker_1d8d8577292b494f86fe81d9ba7f9c7e%20%3D%20L.marker%28%0A%20%20%20%20%20%20%20%20%20%20%20%20%20%20%20%20%5B59.437222222222%2C%2024.745%5D%2C%0A%20%20%20%20%20%20%20%20%20%20%20%20%20%20%20%20%7B%7D%0A%20%20%20%20%20%20%20%20%20%20%20%20%29.addTo%28map_37622e7d8f0645cdae0a39eaef5531db%29%3B%0A%20%20%20%20%20%20%20%20%0A%20%20%20%20%0A%20%20%20%20%20%20%20%20%20%20%20%20marker_1d8d8577292b494f86fe81d9ba7f9c7e.bindTooltip%28%0A%20%20%20%20%20%20%20%20%20%20%20%20%20%20%20%20%60%3Cdiv%3E%0A%20%20%20%20%20%20%20%20%20%20%20%20%20%20%20%20%20%20%20%20%20Tallinn%0A%20%20%20%20%20%20%20%20%20%20%20%20%20%20%20%20%20%3C/div%3E%60%2C%0A%20%20%20%20%20%20%20%20%20%20%20%20%20%20%20%20%7B%22sticky%22%3A%20true%7D%0A%20%20%20%20%20%20%20%20%20%20%20%20%29%3B%0A%20%20%20%20%20%20%20%20%0A%20%20%20%20%0A%20%20%20%20%20%20%20%20%20%20%20%20var%20marker_abd81197064448678ffb0857ca2f3b02%20%3D%20L.marker%28%0A%20%20%20%20%20%20%20%20%20%20%20%20%20%20%20%20%5B47.498333333333%2C%2019.040833333333%5D%2C%0A%20%20%20%20%20%20%20%20%20%20%20%20%20%20%20%20%7B%7D%0A%20%20%20%20%20%20%20%20%20%20%20%20%29.addTo%28map_37622e7d8f0645cdae0a39eaef5531db%29%3B%0A%20%20%20%20%20%20%20%20%0A%20%20%20%20%0A%20%20%20%20%20%20%20%20%20%20%20%20marker_abd81197064448678ffb0857ca2f3b02.bindTooltip%28%0A%20%20%20%20%20%20%20%20%20%20%20%20%20%20%20%20%60%3Cdiv%3E%0A%20%20%20%20%20%20%20%20%20%20%20%20%20%20%20%20%20%20%20%20%20Budapest%0A%20%20%20%20%20%20%20%20%20%20%20%20%20%20%20%20%20%3C/div%3E%60%2C%0A%20%20%20%20%20%20%20%20%20%20%20%20%20%20%20%20%7B%22sticky%22%3A%20true%7D%0A%20%20%20%20%20%20%20%20%20%20%20%20%29%3B%0A%20%20%20%20%20%20%20%20%0A%20%20%20%20%0A%20%20%20%20%20%20%20%20%20%20%20%20var%20marker_884b8d80f3164d10b21884b6aa0931e0%20%3D%20L.marker%28%0A%20%20%20%20%20%20%20%20%20%20%20%20%20%20%20%20%5B37.984166666667%2C%2023.728055555556%5D%2C%0A%20%20%20%20%20%20%20%20%20%20%20%20%20%20%20%20%7B%7D%0A%20%20%20%20%20%20%20%20%20%20%20%20%29.addTo%28map_37622e7d8f0645cdae0a39eaef5531db%29%3B%0A%20%20%20%20%20%20%20%20%0A%20%20%20%20%0A%20%20%20%20%20%20%20%20%20%20%20%20marker_884b8d80f3164d10b21884b6aa0931e0.bindTooltip%28%0A%20%20%20%20%20%20%20%20%20%20%20%20%20%20%20%20%60%3Cdiv%3E%0A%20%20%20%20%20%20%20%20%20%20%20%20%20%20%20%20%20%20%20%20%20Athens%0A%20%20%20%20%20%20%20%20%20%20%20%20%20%20%20%20%20%3C/div%3E%60%2C%0A%20%20%20%20%20%20%20%20%20%20%20%20%20%20%20%20%7B%22sticky%22%3A%20true%7D%0A%20%20%20%20%20%20%20%20%20%20%20%20%29%3B%0A%20%20%20%20%20%20%20%20%0A%20%20%20%20%0A%20%20%20%20%20%20%20%20%20%20%20%20var%20marker_65621d37fe284721ab1cdc23d29a25e0%20%3D%20L.marker%28%0A%20%20%20%20%20%20%20%20%20%20%20%20%20%20%20%20%5B45.813055555556%2C%2015.977222222222%5D%2C%0A%20%20%20%20%20%20%20%20%20%20%20%20%20%20%20%20%7B%7D%0A%20%20%20%20%20%20%20%20%20%20%20%20%29.addTo%28map_37622e7d8f0645cdae0a39eaef5531db%29%3B%0A%20%20%20%20%20%20%20%20%0A%20%20%20%20%0A%20%20%20%20%20%20%20%20%20%20%20%20marker_65621d37fe284721ab1cdc23d29a25e0.bindTooltip%28%0A%20%20%20%20%20%20%20%20%20%20%20%20%20%20%20%20%60%3Cdiv%3E%0A%20%20%20%20%20%20%20%20%20%20%20%20%20%20%20%20%20%20%20%20%20Zagreb%0A%20%20%20%20%20%20%20%20%20%20%20%20%20%20%20%20%20%3C/div%3E%60%2C%0A%20%20%20%20%20%20%20%20%20%20%20%20%20%20%20%20%7B%22sticky%22%3A%20true%7D%0A%20%20%20%20%20%20%20%20%20%20%20%20%29%3B%0A%20%20%20%20%20%20%20%20%0A%20%20%20%20%0A%20%20%20%20%20%20%20%20%20%20%20%20var%20marker_cf2e2a210b6a4678b3b9779d3d740809%20%3D%20L.marker%28%0A%20%20%20%20%20%20%20%20%20%20%20%20%20%20%20%20%5B54.683333333333%2C%2025.283333333333%5D%2C%0A%20%20%20%20%20%20%20%20%20%20%20%20%20%20%20%20%7B%7D%0A%20%20%20%20%20%20%20%20%20%20%20%20%29.addTo%28map_37622e7d8f0645cdae0a39eaef5531db%29%3B%0A%20%20%20%20%20%20%20%20%0A%20%20%20%20%0A%20%20%20%20%20%20%20%20%20%20%20%20marker_cf2e2a210b6a4678b3b9779d3d740809.bindTooltip%28%0A%20%20%20%20%20%20%20%20%20%20%20%20%20%20%20%20%60%3Cdiv%3E%0A%20%20%20%20%20%20%20%20%20%20%20%20%20%20%20%20%20%20%20%20%20Vilnius%0A%20%20%20%20%20%20%20%20%20%20%20%20%20%20%20%20%20%3C/div%3E%60%2C%0A%20%20%20%20%20%20%20%20%20%20%20%20%20%20%20%20%7B%22sticky%22%3A%20true%7D%0A%20%20%20%20%20%20%20%20%20%20%20%20%29%3B%0A%20%20%20%20%20%20%20%20%0A%20%20%20%20%0A%20%20%20%20%20%20%20%20%20%20%20%20var%20marker_865d9882bdbb460db1ca092624989cc9%20%3D%20L.marker%28%0A%20%20%20%20%20%20%20%20%20%20%20%20%20%20%20%20%5B48.208333333333%2C%2016.3725%5D%2C%0A%20%20%20%20%20%20%20%20%20%20%20%20%20%20%20%20%7B%7D%0A%20%20%20%20%20%20%20%20%20%20%20%20%29.addTo%28map_37622e7d8f0645cdae0a39eaef5531db%29%3B%0A%20%20%20%20%20%20%20%20%0A%20%20%20%20%0A%20%20%20%20%20%20%20%20%20%20%20%20marker_865d9882bdbb460db1ca092624989cc9.bindTooltip%28%0A%20%20%20%20%20%20%20%20%20%20%20%20%20%20%20%20%60%3Cdiv%3E%0A%20%20%20%20%20%20%20%20%20%20%20%20%20%20%20%20%20%20%20%20%20Vienna%0A%20%20%20%20%20%20%20%20%20%20%20%20%20%20%20%20%20%3C/div%3E%60%2C%0A%20%20%20%20%20%20%20%20%20%20%20%20%20%20%20%20%7B%22sticky%22%3A%20true%7D%0A%20%20%20%20%20%20%20%20%20%20%20%20%29%3B%0A%20%20%20%20%20%20%20%20%0A%20%20%20%20%0A%20%20%20%20%20%20%20%20%20%20%20%20var%20marker_831b530c3a2342ac8a7adabe0c51be9d%20%3D%20L.marker%28%0A%20%20%20%20%20%20%20%20%20%20%20%20%20%20%20%20%5B48.856944444444%2C%202.3513888888889%5D%2C%0A%20%20%20%20%20%20%20%20%20%20%20%20%20%20%20%20%7B%7D%0A%20%20%20%20%20%20%20%20%20%20%20%20%29.addTo%28map_37622e7d8f0645cdae0a39eaef5531db%29%3B%0A%20%20%20%20%20%20%20%20%0A%20%20%20%20%0A%20%20%20%20%20%20%20%20%20%20%20%20marker_831b530c3a2342ac8a7adabe0c51be9d.bindTooltip%28%0A%20%20%20%20%20%20%20%20%20%20%20%20%20%20%20%20%60%3Cdiv%3E%0A%20%20%20%20%20%20%20%20%20%20%20%20%20%20%20%20%20%20%20%20%20Paris%0A%20%20%20%20%20%20%20%20%20%20%20%20%20%20%20%20%20%3C/div%3E%60%2C%0A%20%20%20%20%20%20%20%20%20%20%20%20%20%20%20%20%7B%22sticky%22%3A%20true%7D%0A%20%20%20%20%20%20%20%20%20%20%20%20%29%3B%0A%20%20%20%20%20%20%20%20%0A%20%20%20%20%0A%20%20%20%20%20%20%20%20%20%20%20%20var%20marker_1924e6fc63c44f87a0f51ca65b8bb21f%20%3D%20L.marker%28%0A%20%20%20%20%20%20%20%20%20%20%20%20%20%20%20%20%5B50.846666666667%2C%204.3516666666667%5D%2C%0A%20%20%20%20%20%20%20%20%20%20%20%20%20%20%20%20%7B%7D%0A%20%20%20%20%20%20%20%20%20%20%20%20%29.addTo%28map_37622e7d8f0645cdae0a39eaef5531db%29%3B%0A%20%20%20%20%20%20%20%20%0A%20%20%20%20%0A%20%20%20%20%20%20%20%20%20%20%20%20marker_1924e6fc63c44f87a0f51ca65b8bb21f.bindTooltip%28%0A%20%20%20%20%20%20%20%20%20%20%20%20%20%20%20%20%60%3Cdiv%3E%0A%20%20%20%20%20%20%20%20%20%20%20%20%20%20%20%20%20%20%20%20%20City%20of%20Brussels%0A%20%20%20%20%20%20%20%20%20%20%20%20%20%20%20%20%20%3C/div%3E%60%2C%0A%20%20%20%20%20%20%20%20%20%20%20%20%20%20%20%20%7B%22sticky%22%3A%20true%7D%0A%20%20%20%20%20%20%20%20%20%20%20%20%29%3B%0A%20%20%20%20%20%20%20%20%0A%20%20%20%20%0A%20%20%20%20%20%20%20%20%20%20%20%20var%20marker_45d60c7ac47244f7b61812e6f07d7b4f%20%3D%20L.marker%28%0A%20%20%20%20%20%20%20%20%20%20%20%20%20%20%20%20%5B64.1475%2C%20-21.935%5D%2C%0A%20%20%20%20%20%20%20%20%20%20%20%20%20%20%20%20%7B%7D%0A%20%20%20%20%20%20%20%20%20%20%20%20%29.addTo%28map_37622e7d8f0645cdae0a39eaef5531db%29%3B%0A%20%20%20%20%20%20%20%20%0A%20%20%20%20%0A%20%20%20%20%20%20%20%20%20%20%20%20marker_45d60c7ac47244f7b61812e6f07d7b4f.bindTooltip%28%0A%20%20%20%20%20%20%20%20%20%20%20%20%20%20%20%20%60%3Cdiv%3E%0A%20%20%20%20%20%20%20%20%20%20%20%20%20%20%20%20%20%20%20%20%20Reykjav%C3%ADk%0A%20%20%20%20%20%20%20%20%20%20%20%20%20%20%20%20%20%3C/div%3E%60%2C%0A%20%20%20%20%20%20%20%20%20%20%20%20%20%20%20%20%7B%22sticky%22%3A%20true%7D%0A%20%20%20%20%20%20%20%20%20%20%20%20%29%3B%0A%20%20%20%20%20%20%20%20%0A%20%20%20%20%0A%20%20%20%20%20%20%20%20%20%20%20%20var%20marker_8fdb5d7085dc46bdb4f69e43d0eb715c%20%3D%20L.marker%28%0A%20%20%20%20%20%20%20%20%20%20%20%20%20%20%20%20%5B46.05%2C%2014.516666666667%5D%2C%0A%20%20%20%20%20%20%20%20%20%20%20%20%20%20%20%20%7B%7D%0A%20%20%20%20%20%20%20%20%20%20%20%20%29.addTo%28map_37622e7d8f0645cdae0a39eaef5531db%29%3B%0A%20%20%20%20%20%20%20%20%0A%20%20%20%20%0A%20%20%20%20%20%20%20%20%20%20%20%20marker_8fdb5d7085dc46bdb4f69e43d0eb715c.bindTooltip%28%0A%20%20%20%20%20%20%20%20%20%20%20%20%20%20%20%20%60%3Cdiv%3E%0A%20%20%20%20%20%20%20%20%20%20%20%20%20%20%20%20%20%20%20%20%20Ljubljana%0A%20%20%20%20%20%20%20%20%20%20%20%20%20%20%20%20%20%3C/div%3E%60%2C%0A%20%20%20%20%20%20%20%20%20%20%20%20%20%20%20%20%7B%22sticky%22%3A%20true%7D%0A%20%20%20%20%20%20%20%20%20%20%20%20%29%3B%0A%20%20%20%20%20%20%20%20%0A%20%20%20%20%0A%20%20%20%20%20%20%20%20%20%20%20%20var%20marker_4422061239514bc5ae145e01e072966c%20%3D%20L.marker%28%0A%20%20%20%20%20%20%20%20%20%20%20%20%20%20%20%20%5B41.893055555556%2C%2012.482777777778%5D%2C%0A%20%20%20%20%20%20%20%20%20%20%20%20%20%20%20%20%7B%7D%0A%20%20%20%20%20%20%20%20%20%20%20%20%29.addTo%28map_37622e7d8f0645cdae0a39eaef5531db%29%3B%0A%20%20%20%20%20%20%20%20%0A%20%20%20%20%0A%20%20%20%20%20%20%20%20%20%20%20%20marker_4422061239514bc5ae145e01e072966c.bindTooltip%28%0A%20%20%20%20%20%20%20%20%20%20%20%20%20%20%20%20%60%3Cdiv%3E%0A%20%20%20%20%20%20%20%20%20%20%20%20%20%20%20%20%20%20%20%20%20Rome%0A%20%20%20%20%20%20%20%20%20%20%20%20%20%20%20%20%20%3C/div%3E%60%2C%0A%20%20%20%20%20%20%20%20%20%20%20%20%20%20%20%20%7B%22sticky%22%3A%20true%7D%0A%20%20%20%20%20%20%20%20%20%20%20%20%29%3B%0A%20%20%20%20%20%20%20%20%0A%20%20%20%20%0A%20%20%20%20%20%20%20%20%20%20%20%20var%20marker_8da010f63d8b4923aafea8bf649083dd%20%3D%20L.marker%28%0A%20%20%20%20%20%20%20%20%20%20%20%20%20%20%20%20%5B59.911111111111%2C%2010.752777777778%5D%2C%0A%20%20%20%20%20%20%20%20%20%20%20%20%20%20%20%20%7B%7D%0A%20%20%20%20%20%20%20%20%20%20%20%20%29.addTo%28map_37622e7d8f0645cdae0a39eaef5531db%29%3B%0A%20%20%20%20%20%20%20%20%0A%20%20%20%20%0A%20%20%20%20%20%20%20%20%20%20%20%20marker_8da010f63d8b4923aafea8bf649083dd.bindTooltip%28%0A%20%20%20%20%20%20%20%20%20%20%20%20%20%20%20%20%60%3Cdiv%3E%0A%20%20%20%20%20%20%20%20%20%20%20%20%20%20%20%20%20%20%20%20%20Oslo%0A%20%20%20%20%20%20%20%20%20%20%20%20%20%20%20%20%20%3C/div%3E%60%2C%0A%20%20%20%20%20%20%20%20%20%20%20%20%20%20%20%20%7B%22sticky%22%3A%20true%7D%0A%20%20%20%20%20%20%20%20%20%20%20%20%29%3B%0A%20%20%20%20%20%20%20%20%0A%20%20%20%20%0A%20%20%20%20%20%20%20%20%20%20%20%20var%20marker_3ea2d62aae2943c5a47f0b0ffe5d2b30%20%3D%20L.marker%28%0A%20%20%20%20%20%20%20%20%20%20%20%20%20%20%20%20%5B60.17556%2C%2024.93417%5D%2C%0A%20%20%20%20%20%20%20%20%20%20%20%20%20%20%20%20%7B%7D%0A%20%20%20%20%20%20%20%20%20%20%20%20%29.addTo%28map_37622e7d8f0645cdae0a39eaef5531db%29%3B%0A%20%20%20%20%20%20%20%20%0A%20%20%20%20%0A%20%20%20%20%20%20%20%20%20%20%20%20marker_3ea2d62aae2943c5a47f0b0ffe5d2b30.bindTooltip%28%0A%20%20%20%20%20%20%20%20%20%20%20%20%20%20%20%20%60%3Cdiv%3E%0A%20%20%20%20%20%20%20%20%20%20%20%20%20%20%20%20%20%20%20%20%20Helsinki%0A%20%20%20%20%20%20%20%20%20%20%20%20%20%20%20%20%20%3C/div%3E%60%2C%0A%20%20%20%20%20%20%20%20%20%20%20%20%20%20%20%20%7B%22sticky%22%3A%20true%7D%0A%20%20%20%20%20%20%20%20%20%20%20%20%29%3B%0A%20%20%20%20%20%20%20%20%0A%20%20%20%20%0A%20%20%20%20%20%20%20%20%20%20%20%20var%20marker_b13e12b718b94840b70b715aebe10e87%20%3D%20L.marker%28%0A%20%20%20%20%20%20%20%20%20%20%20%20%20%20%20%20%5B38.708042%2C%20-9.139016%5D%2C%0A%20%20%20%20%20%20%20%20%20%20%20%20%20%20%20%20%7B%7D%0A%20%20%20%20%20%20%20%20%20%20%20%20%29.addTo%28map_37622e7d8f0645cdae0a39eaef5531db%29%3B%0A%20%20%20%20%20%20%20%20%0A%20%20%20%20%0A%20%20%20%20%20%20%20%20%20%20%20%20marker_b13e12b718b94840b70b715aebe10e87.bindTooltip%28%0A%20%20%20%20%20%20%20%20%20%20%20%20%20%20%20%20%60%3Cdiv%3E%0A%20%20%20%20%20%20%20%20%20%20%20%20%20%20%20%20%20%20%20%20%20Lisbon%0A%20%20%20%20%20%20%20%20%20%20%20%20%20%20%20%20%20%3C/div%3E%60%2C%0A%20%20%20%20%20%20%20%20%20%20%20%20%20%20%20%20%7B%22sticky%22%3A%20true%7D%0A%20%20%20%20%20%20%20%20%20%20%20%20%29%3B%0A%20%20%20%20%20%20%20%20%0A%20%20%20%20%0A%20%20%20%20%20%20%20%20%20%20%20%20var%20marker_6d968838c7d74c1ebb28666c94386d55%20%3D%20L.marker%28%0A%20%20%20%20%20%20%20%20%20%20%20%20%20%20%20%20%5B48.144722222222%2C%2017.112777777778%5D%2C%0A%20%20%20%20%20%20%20%20%20%20%20%20%20%20%20%20%7B%7D%0A%20%20%20%20%20%20%20%20%20%20%20%20%29.addTo%28map_37622e7d8f0645cdae0a39eaef5531db%29%3B%0A%20%20%20%20%20%20%20%20%0A%20%20%20%20%0A%20%20%20%20%20%20%20%20%20%20%20%20marker_6d968838c7d74c1ebb28666c94386d55.bindTooltip%28%0A%20%20%20%20%20%20%20%20%20%20%20%20%20%20%20%20%60%3Cdiv%3E%0A%20%20%20%20%20%20%20%20%20%20%20%20%20%20%20%20%20%20%20%20%20Bratislava%0A%20%20%20%20%20%20%20%20%20%20%20%20%20%20%20%20%20%3C/div%3E%60%2C%0A%20%20%20%20%20%20%20%20%20%20%20%20%20%20%20%20%7B%22sticky%22%3A%20true%7D%0A%20%20%20%20%20%20%20%20%20%20%20%20%29%3B%0A%20%20%20%20%20%20%20%20%0A%20%20%20%20%0A%20%20%20%20%20%20%20%20%20%20%20%20var%20marker_030ac71cfe364cada5651c7fe1358fdc%20%3D%20L.marker%28%0A%20%20%20%20%20%20%20%20%20%20%20%20%20%20%20%20%5B40.418888888889%2C%20-3.6919444444444%5D%2C%0A%20%20%20%20%20%20%20%20%20%20%20%20%20%20%20%20%7B%7D%0A%20%20%20%20%20%20%20%20%20%20%20%20%29.addTo%28map_37622e7d8f0645cdae0a39eaef5531db%29%3B%0A%20%20%20%20%20%20%20%20%0A%20%20%20%20%0A%20%20%20%20%20%20%20%20%20%20%20%20marker_030ac71cfe364cada5651c7fe1358fdc.bindTooltip%28%0A%20%20%20%20%20%20%20%20%20%20%20%20%20%20%20%20%60%3Cdiv%3E%0A%20%20%20%20%20%20%20%20%20%20%20%20%20%20%20%20%20%20%20%20%20Madrid%0A%20%20%20%20%20%20%20%20%20%20%20%20%20%20%20%20%20%3C/div%3E%60%2C%0A%20%20%20%20%20%20%20%20%20%20%20%20%20%20%20%20%7B%22sticky%22%3A%20true%7D%0A%20%20%20%20%20%20%20%20%20%20%20%20%29%3B%0A%20%20%20%20%20%20%20%20%0A%20%20%20%20%0A%20%20%20%20%20%20%20%20%20%20%20%20var%20marker_00286246f8664d349777e255a18f2e3c%20%3D%20L.marker%28%0A%20%20%20%20%20%20%20%20%20%20%20%20%20%20%20%20%5B52.383333333333%2C%204.9%5D%2C%0A%20%20%20%20%20%20%20%20%20%20%20%20%20%20%20%20%7B%7D%0A%20%20%20%20%20%20%20%20%20%20%20%20%29.addTo%28map_37622e7d8f0645cdae0a39eaef5531db%29%3B%0A%20%20%20%20%20%20%20%20%0A%20%20%20%20%0A%20%20%20%20%20%20%20%20%20%20%20%20marker_00286246f8664d349777e255a18f2e3c.bindTooltip%28%0A%20%20%20%20%20%20%20%20%20%20%20%20%20%20%20%20%60%3Cdiv%3E%0A%20%20%20%20%20%20%20%20%20%20%20%20%20%20%20%20%20%20%20%20%20Amsterdam%0A%20%20%20%20%20%20%20%20%20%20%20%20%20%20%20%20%20%3C/div%3E%60%2C%0A%20%20%20%20%20%20%20%20%20%20%20%20%20%20%20%20%7B%22sticky%22%3A%20true%7D%0A%20%20%20%20%20%20%20%20%20%20%20%20%29%3B%0A%20%20%20%20%20%20%20%20%0A%20%20%20%20%0A%20%20%20%20%20%20%20%20%20%20%20%20var%20marker_fb5146809958449c8b2de1633aeb62b9%20%3D%20L.marker%28%0A%20%20%20%20%20%20%20%20%20%20%20%20%20%20%20%20%5B42.697886%2C%2023.321726%5D%2C%0A%20%20%20%20%20%20%20%20%20%20%20%20%20%20%20%20%7B%7D%0A%20%20%20%20%20%20%20%20%20%20%20%20%29.addTo%28map_37622e7d8f0645cdae0a39eaef5531db%29%3B%0A%20%20%20%20%20%20%20%20%0A%20%20%20%20%0A%20%20%20%20%20%20%20%20%20%20%20%20marker_fb5146809958449c8b2de1633aeb62b9.bindTooltip%28%0A%20%20%20%20%20%20%20%20%20%20%20%20%20%20%20%20%60%3Cdiv%3E%0A%20%20%20%20%20%20%20%20%20%20%20%20%20%20%20%20%20%20%20%20%20Sofia%0A%20%20%20%20%20%20%20%20%20%20%20%20%20%20%20%20%20%3C/div%3E%60%2C%0A%20%20%20%20%20%20%20%20%20%20%20%20%20%20%20%20%7B%22sticky%22%3A%20true%7D%0A%20%20%20%20%20%20%20%20%20%20%20%20%29%3B%0A%20%20%20%20%20%20%20%20%0A%20%20%20%20%0A%20%20%20%20%20%20%20%20%20%20%20%20var%20marker_8083752eeba64945aa7c44259da49b88%20%3D%20L.marker%28%0A%20%20%20%20%20%20%20%20%20%20%20%20%20%20%20%20%5B55.676111111111%2C%2012.568888888889%5D%2C%0A%20%20%20%20%20%20%20%20%20%20%20%20%20%20%20%20%7B%7D%0A%20%20%20%20%20%20%20%20%20%20%20%20%29.addTo%28map_37622e7d8f0645cdae0a39eaef5531db%29%3B%0A%20%20%20%20%20%20%20%20%0A%20%20%20%20%0A%20%20%20%20%20%20%20%20%20%20%20%20marker_8083752eeba64945aa7c44259da49b88.bindTooltip%28%0A%20%20%20%20%20%20%20%20%20%20%20%20%20%20%20%20%60%3Cdiv%3E%0A%20%20%20%20%20%20%20%20%20%20%20%20%20%20%20%20%20%20%20%20%20Copenhagen%0A%20%20%20%20%20%20%20%20%20%20%20%20%20%20%20%20%20%3C/div%3E%60%2C%0A%20%20%20%20%20%20%20%20%20%20%20%20%20%20%20%20%7B%22sticky%22%3A%20true%7D%0A%20%20%20%20%20%20%20%20%20%20%20%20%29%3B%0A%20%20%20%20%20%20%20%20%0A%20%20%20%20%0A%20%20%20%20%20%20%20%20%20%20%20%20var%20marker_d0e9247af1094046bfcee04b960e1227%20%3D%20L.marker%28%0A%20%20%20%20%20%20%20%20%20%20%20%20%20%20%20%20%5B46.94798%2C%207.44743%5D%2C%0A%20%20%20%20%20%20%20%20%20%20%20%20%20%20%20%20%7B%7D%0A%20%20%20%20%20%20%20%20%20%20%20%20%29.addTo%28map_37622e7d8f0645cdae0a39eaef5531db%29%3B%0A%20%20%20%20%20%20%20%20%0A%20%20%20%20%0A%20%20%20%20%20%20%20%20%20%20%20%20marker_d0e9247af1094046bfcee04b960e1227.bindTooltip%28%0A%20%20%20%20%20%20%20%20%20%20%20%20%20%20%20%20%60%3Cdiv%3E%0A%20%20%20%20%20%20%20%20%20%20%20%20%20%20%20%20%20%20%20%20%20Bern%0A%20%20%20%20%20%20%20%20%20%20%20%20%20%20%20%20%20%3C/div%3E%60%2C%0A%20%20%20%20%20%20%20%20%20%20%20%20%20%20%20%20%7B%22sticky%22%3A%20true%7D%0A%20%20%20%20%20%20%20%20%20%20%20%20%29%3B%0A%20%20%20%20%20%20%20%20%0A%3C/script%3E onload=\"this.contentDocument.open();this.contentDocument.write(    decodeURIComponent(this.getAttribute('data-html')));this.contentDocument.close();\" allowfullscreen webkitallowfullscreen mozallowfullscreen></iframe></div></div>"
            ],
            "text/plain": [
              "<folium.folium.Map at 0x20e4b30c970>"
            ]
          },
          "execution_count": 33,
          "metadata": {},
          "output_type": "execute_result"
        }
      ],
      "source": [
        "import folium\n",
        "\n",
        "euro_map = folium.Map(location=[50,0],tiles=\"OpenStreetMap\", zoom_start=4)\n",
        "\n",
        "for p in range ( capital_df.shape[0]):\n",
        "  lat = capital_df['capital_lat'][p] # TODO\n",
        "  lon = capital_df['capital_lon'][p]# TODO\n",
        "  name = capital_df['capitalLabel'][p]# TODO\n",
        "  folium.Marker ( [lat,lon], # TODO\n",
        "                       tooltip = name\n",
        "                       ).add_to(euro_map)\n",
        "\n",
        "euro_map\n",
        "\n",
        "\n",
        "# folium.CircleMarker ( [lat , lon ], \n",
        "#                        radius=1.5, \n",
        "#                        line_color='#3186cc',\n",
        "#                        fill_color='#3186cc', \n",
        "#                        fill=True,\n",
        "#                        tooltip = name\n",
        "#                        ).add_to(world_map)"
      ]
    },
    {
      "cell_type": "markdown",
      "metadata": {
        "id": "Z42J6JxYtXAj"
      },
      "source": [
        "---"
      ]
    },
    {
      "cell_type": "markdown",
      "metadata": {
        "id": "NZ0NNavx5gl8"
      },
      "source": [
        "# 4. Grafos : Conexiones aéreas\n",
        "\n",
        "En esta sección vamos a estudiar los grafos aplicados a las rutas aéreas. La idea es observar las rutas entre aeropuertos y encontrar vuelos entre ellos.\n",
        "\n",
        "Vamos a utilizar dos conjuntos de datos para el análisis:\n",
        "\n",
        "\n",
        "1.   **Aeropuertos**: Datos sobre los aeropuertos identificados por su código IATA\n",
        "2.   **Rutas**: Datos sobre rutas aéreas con origen y destino aeropuertos y vuelos entre ellos.\n",
        "\n",
        "Para obtener estos datos usaremos la URL `http://api.travelpayouts.com` que devuelve los datos en formato JSON. \n",
        "\n",
        "\n"
      ]
    },
    {
      "cell_type": "code",
      "execution_count": 34,
      "metadata": {
        "id": "gdLLza7vxHCo"
      },
      "outputs": [],
      "source": [
        "def get_airport_data():\n",
        "    url = 'https://api.travelpayouts.com/data/en/airports.json'\n",
        "    with urllib.request.urlopen(url) as url:\n",
        "        airport_json = json.loads(url.read().decode(\"utf-8\"))\n",
        "    return airport_json\n",
        "\n",
        "def get_routes_data():\n",
        "    \n",
        "    url = \"http://api.travelpayouts.com/data/routes.json\"\n",
        "    with urllib.request.urlopen(url) as url:\n",
        "        data = json.loads(url.read().decode(\"utf-8\"))\n",
        "    return data"
      ]
    },
    {
      "cell_type": "markdown",
      "metadata": {
        "id": "Q3rgGoR73pwE"
      },
      "source": [
        "Los datos de los aeropuertos son el código IATA, nombre, ciudad, etc.\n",
        "\n",
        "Solamente se van a utilizar ciertos atributos de los aeropuertos."
      ]
    },
    {
      "cell_type": "code",
      "execution_count": 35,
      "metadata": {
        "id": "6i0dorT-xG_j"
      },
      "outputs": [
        {
          "data": {
            "text/html": [
              "<div>\n",
              "<style scoped>\n",
              "    .dataframe tbody tr th:only-of-type {\n",
              "        vertical-align: middle;\n",
              "    }\n",
              "\n",
              "    .dataframe tbody tr th {\n",
              "        vertical-align: top;\n",
              "    }\n",
              "\n",
              "    .dataframe thead th {\n",
              "        text-align: right;\n",
              "    }\n",
              "</style>\n",
              "<table border=\"1\" class=\"dataframe\">\n",
              "  <thead>\n",
              "    <tr style=\"text-align: right;\">\n",
              "      <th></th>\n",
              "      <th>city_code</th>\n",
              "      <th>country_code</th>\n",
              "      <th>name</th>\n",
              "      <th>code</th>\n",
              "    </tr>\n",
              "  </thead>\n",
              "  <tbody>\n",
              "    <tr>\n",
              "      <th>0</th>\n",
              "      <td>SGJ</td>\n",
              "      <td>PG</td>\n",
              "      <td>Sagarai</td>\n",
              "      <td>SGJ</td>\n",
              "    </tr>\n",
              "    <tr>\n",
              "      <th>1</th>\n",
              "      <td>ZBT</td>\n",
              "      <td>DK</td>\n",
              "      <td>Kolding Railway Station</td>\n",
              "      <td>ZBT</td>\n",
              "    </tr>\n",
              "    <tr>\n",
              "      <th>2</th>\n",
              "      <td>TIW</td>\n",
              "      <td>US</td>\n",
              "      <td>McChord AFB</td>\n",
              "      <td>TCM</td>\n",
              "    </tr>\n",
              "    <tr>\n",
              "      <th>3</th>\n",
              "      <td>KYI</td>\n",
              "      <td>AU</td>\n",
              "      <td>Yalata Mission</td>\n",
              "      <td>KYI</td>\n",
              "    </tr>\n",
              "    <tr>\n",
              "      <th>4</th>\n",
              "      <td>WAS</td>\n",
              "      <td>US</td>\n",
              "      <td>Washington Union Railway Station</td>\n",
              "      <td>ZWU</td>\n",
              "    </tr>\n",
              "    <tr>\n",
              "      <th>...</th>\n",
              "      <td>...</td>\n",
              "      <td>...</td>\n",
              "      <td>...</td>\n",
              "      <td>...</td>\n",
              "    </tr>\n",
              "    <tr>\n",
              "      <th>9956</th>\n",
              "      <td>MZC</td>\n",
              "      <td>GA</td>\n",
              "      <td>Mitzic</td>\n",
              "      <td>MZC</td>\n",
              "    </tr>\n",
              "    <tr>\n",
              "      <th>9957</th>\n",
              "      <td>YBB</td>\n",
              "      <td>CA</td>\n",
              "      <td>Kugaaruk</td>\n",
              "      <td>YBB</td>\n",
              "    </tr>\n",
              "    <tr>\n",
              "      <th>9958</th>\n",
              "      <td>PDO</td>\n",
              "      <td>ID</td>\n",
              "      <td>Pendopo</td>\n",
              "      <td>PDO</td>\n",
              "    </tr>\n",
              "    <tr>\n",
              "      <th>9959</th>\n",
              "      <td>XGH</td>\n",
              "      <td>NO</td>\n",
              "      <td>Flam Railway Station</td>\n",
              "      <td>XGH</td>\n",
              "    </tr>\n",
              "    <tr>\n",
              "      <th>9960</th>\n",
              "      <td>BKY</td>\n",
              "      <td>CD</td>\n",
              "      <td>Kavumu</td>\n",
              "      <td>BKY</td>\n",
              "    </tr>\n",
              "  </tbody>\n",
              "</table>\n",
              "<p>9961 rows × 4 columns</p>\n",
              "</div>"
            ],
            "text/plain": [
              "     city_code country_code                              name code\n",
              "0          SGJ           PG                           Sagarai  SGJ\n",
              "1          ZBT           DK           Kolding Railway Station  ZBT\n",
              "2          TIW           US                       McChord AFB  TCM\n",
              "3          KYI           AU                    Yalata Mission  KYI\n",
              "4          WAS           US  Washington Union Railway Station  ZWU\n",
              "...        ...          ...                               ...  ...\n",
              "9956       MZC           GA                            Mitzic  MZC\n",
              "9957       YBB           CA                          Kugaaruk  YBB\n",
              "9958       PDO           ID                           Pendopo  PDO\n",
              "9959       XGH           NO              Flam Railway Station  XGH\n",
              "9960       BKY           CD                            Kavumu  BKY\n",
              "\n",
              "[9961 rows x 4 columns]"
            ]
          },
          "execution_count": 35,
          "metadata": {},
          "output_type": "execute_result"
        }
      ],
      "source": [
        "airport_json = get_airport_data()# TODO\n",
        "\n",
        "columns = ['city_code', 'country_code','name','code']\n",
        "# TODO : convertir a dataframe\n",
        "airport_df =pd.DataFrame(airport_json,columns=columns)\n",
        "airport_df"
      ]
    },
    {
      "cell_type": "markdown",
      "metadata": {
        "id": "nYpqDq9o5CSP"
      },
      "source": [
        "A continuación hay que filtrar los datos pues sólo vamos a analizar los aeropuertos de EE.UU. y de España:"
      ]
    },
    {
      "cell_type": "code",
      "execution_count": 36,
      "metadata": {
        "id": "aMq-tcJTxG8b"
      },
      "outputs": [
        {
          "data": {
            "text/html": [
              "<div>\n",
              "<style scoped>\n",
              "    .dataframe tbody tr th:only-of-type {\n",
              "        vertical-align: middle;\n",
              "    }\n",
              "\n",
              "    .dataframe tbody tr th {\n",
              "        vertical-align: top;\n",
              "    }\n",
              "\n",
              "    .dataframe thead th {\n",
              "        text-align: right;\n",
              "    }\n",
              "</style>\n",
              "<table border=\"1\" class=\"dataframe\">\n",
              "  <thead>\n",
              "    <tr style=\"text-align: right;\">\n",
              "      <th></th>\n",
              "      <th>city_code</th>\n",
              "      <th>country_code</th>\n",
              "      <th>name</th>\n",
              "      <th>code</th>\n",
              "    </tr>\n",
              "  </thead>\n",
              "  <tbody>\n",
              "    <tr>\n",
              "      <th>2</th>\n",
              "      <td>TIW</td>\n",
              "      <td>US</td>\n",
              "      <td>McChord AFB</td>\n",
              "      <td>TCM</td>\n",
              "    </tr>\n",
              "    <tr>\n",
              "      <th>4</th>\n",
              "      <td>WAS</td>\n",
              "      <td>US</td>\n",
              "      <td>Washington Union Railway Station</td>\n",
              "      <td>ZWU</td>\n",
              "    </tr>\n",
              "    <tr>\n",
              "      <th>21</th>\n",
              "      <td>SAF</td>\n",
              "      <td>US</td>\n",
              "      <td>Santa Fe Bus Station</td>\n",
              "      <td>ZSH</td>\n",
              "    </tr>\n",
              "    <tr>\n",
              "      <th>36</th>\n",
              "      <td>PIP</td>\n",
              "      <td>US</td>\n",
              "      <td>Pilot Point</td>\n",
              "      <td>PIP</td>\n",
              "    </tr>\n",
              "    <tr>\n",
              "      <th>39</th>\n",
              "      <td>DRI</td>\n",
              "      <td>US</td>\n",
              "      <td>Beauregard Parish</td>\n",
              "      <td>DRI</td>\n",
              "    </tr>\n",
              "    <tr>\n",
              "      <th>...</th>\n",
              "      <td>...</td>\n",
              "      <td>...</td>\n",
              "      <td>...</td>\n",
              "      <td>...</td>\n",
              "    </tr>\n",
              "    <tr>\n",
              "      <th>9914</th>\n",
              "      <td>SOV</td>\n",
              "      <td>US</td>\n",
              "      <td>Seldovia</td>\n",
              "      <td>SOV</td>\n",
              "    </tr>\n",
              "    <tr>\n",
              "      <th>9931</th>\n",
              "      <td>HCA</td>\n",
              "      <td>US</td>\n",
              "      <td>Howard County</td>\n",
              "      <td>HCA</td>\n",
              "    </tr>\n",
              "    <tr>\n",
              "      <th>9935</th>\n",
              "      <td>HYG</td>\n",
              "      <td>US</td>\n",
              "      <td>Hydaburg Sea Plane Base</td>\n",
              "      <td>HYG</td>\n",
              "    </tr>\n",
              "    <tr>\n",
              "      <th>9939</th>\n",
              "      <td>SAC</td>\n",
              "      <td>US</td>\n",
              "      <td>Sacramento International Airport</td>\n",
              "      <td>SMF</td>\n",
              "    </tr>\n",
              "    <tr>\n",
              "      <th>9947</th>\n",
              "      <td>HDN</td>\n",
              "      <td>US</td>\n",
              "      <td>Yampa Valley Airport</td>\n",
              "      <td>HDN</td>\n",
              "    </tr>\n",
              "  </tbody>\n",
              "</table>\n",
              "<p>2357 rows × 4 columns</p>\n",
              "</div>"
            ],
            "text/plain": [
              "     city_code country_code                              name code\n",
              "2          TIW           US                       McChord AFB  TCM\n",
              "4          WAS           US  Washington Union Railway Station  ZWU\n",
              "21         SAF           US              Santa Fe Bus Station  ZSH\n",
              "36         PIP           US                       Pilot Point  PIP\n",
              "39         DRI           US                 Beauregard Parish  DRI\n",
              "...        ...          ...                               ...  ...\n",
              "9914       SOV           US                          Seldovia  SOV\n",
              "9931       HCA           US                     Howard County  HCA\n",
              "9935       HYG           US           Hydaburg Sea Plane Base  HYG\n",
              "9939       SAC           US  Sacramento International Airport  SMF\n",
              "9947       HDN           US              Yampa Valley Airport  HDN\n",
              "\n",
              "[2357 rows x 4 columns]"
            ]
          },
          "execution_count": 36,
          "metadata": {},
          "output_type": "execute_result"
        }
      ],
      "source": [
        "airport_us = airport_df.loc[airport_df['country_code']=='US']# TODO\n",
        "\n",
        "airport_es = airport_df.loc[airport_df['country_code']=='ES']# TODO\n",
        "airport_us"
      ]
    },
    {
      "cell_type": "markdown",
      "metadata": {
        "id": "mRw_61ay5lGJ"
      },
      "source": [
        "Se necesita unas variables que contengan la lista de códigos de los aeropuertos que usaremos más adelante."
      ]
    },
    {
      "cell_type": "code",
      "execution_count": 37,
      "metadata": {
        "id": "H4VBVKi0xG6W"
      },
      "outputs": [],
      "source": [
        "airport_us_in =  list(airport_us['code'])# TODO\n",
        "airport_es_in =  list(airport_es['code'])# TODO"
      ]
    },
    {
      "cell_type": "markdown",
      "metadata": {
        "id": "ipEUezI354L9"
      },
      "source": [
        "Lo siguiente es cargar los datos de las rutas consistentes en códigos IATA de los aeropuertos, conexiones y detalles del vuelo, aunque sólo son de interés ciertas columnas."
      ]
    },
    {
      "cell_type": "code",
      "execution_count": 38,
      "metadata": {
        "id": "iNHWj3I2xG4n"
      },
      "outputs": [],
      "source": [
        "routes_json = get_routes_data() # TODO"
      ]
    },
    {
      "cell_type": "code",
      "execution_count": 39,
      "metadata": {
        "id": "Vg3gl3QVxG0Y"
      },
      "outputs": [
        {
          "data": {
            "text/html": [
              "<div>\n",
              "<style scoped>\n",
              "    .dataframe tbody tr th:only-of-type {\n",
              "        vertical-align: middle;\n",
              "    }\n",
              "\n",
              "    .dataframe tbody tr th {\n",
              "        vertical-align: top;\n",
              "    }\n",
              "\n",
              "    .dataframe thead th {\n",
              "        text-align: right;\n",
              "    }\n",
              "</style>\n",
              "<table border=\"1\" class=\"dataframe\">\n",
              "  <thead>\n",
              "    <tr style=\"text-align: right;\">\n",
              "      <th></th>\n",
              "      <th>departure_airport_iata</th>\n",
              "      <th>arrival_airport_iata</th>\n",
              "    </tr>\n",
              "  </thead>\n",
              "  <tbody>\n",
              "    <tr>\n",
              "      <th>64959</th>\n",
              "      <td>WIN</td>\n",
              "      <td>LRE</td>\n",
              "    </tr>\n",
              "    <tr>\n",
              "      <th>64960</th>\n",
              "      <td>WIN</td>\n",
              "      <td>TSV</td>\n",
              "    </tr>\n",
              "    <tr>\n",
              "      <th>64961</th>\n",
              "      <td>WYA</td>\n",
              "      <td>ADL</td>\n",
              "    </tr>\n",
              "    <tr>\n",
              "      <th>64962</th>\n",
              "      <td>LPA</td>\n",
              "      <td>TFN</td>\n",
              "    </tr>\n",
              "    <tr>\n",
              "      <th>64963</th>\n",
              "      <td>TFN</td>\n",
              "      <td>LPA</td>\n",
              "    </tr>\n",
              "  </tbody>\n",
              "</table>\n",
              "</div>"
            ],
            "text/plain": [
              "      departure_airport_iata arrival_airport_iata\n",
              "64959                    WIN                  LRE\n",
              "64960                    WIN                  TSV\n",
              "64961                    WYA                  ADL\n",
              "64962                    LPA                  TFN\n",
              "64963                    TFN                  LPA"
            ]
          },
          "execution_count": 39,
          "metadata": {},
          "output_type": "execute_result"
        }
      ],
      "source": [
        "columns = ['departure_airport_iata', 'arrival_airport_iata']\n",
        "\n",
        "# TODO: convertir a dataframe\n",
        "routes_df = pd.DataFrame(routes_json,columns=columns)\n",
        "routes_df.tail()"
      ]
    },
    {
      "cell_type": "markdown",
      "metadata": {
        "id": "bJAPzY-u-42U"
      },
      "source": [
        "Se necesita una columna más que cuente el número de vuelos entre dos aeropuertos. En el JSON de rutas hay un array con `planes` y lo que se necesita es el número de elementos de ese array."
      ]
    },
    {
      "cell_type": "code",
      "execution_count": 40,
      "metadata": {},
      "outputs": [],
      "source": [
        "\n",
        "df = pd.DataFrame(routes_json,columns=['planes'])\n"
      ]
    },
    {
      "cell_type": "code",
      "execution_count": 41,
      "metadata": {
        "id": "qiPjyk72xGty"
      },
      "outputs": [
        {
          "data": {
            "text/html": [
              "<div>\n",
              "<style scoped>\n",
              "    .dataframe tbody tr th:only-of-type {\n",
              "        vertical-align: middle;\n",
              "    }\n",
              "\n",
              "    .dataframe tbody tr th {\n",
              "        vertical-align: top;\n",
              "    }\n",
              "\n",
              "    .dataframe thead th {\n",
              "        text-align: right;\n",
              "    }\n",
              "</style>\n",
              "<table border=\"1\" class=\"dataframe\">\n",
              "  <thead>\n",
              "    <tr style=\"text-align: right;\">\n",
              "      <th></th>\n",
              "      <th>departure_airport_iata</th>\n",
              "      <th>arrival_airport_iata</th>\n",
              "      <th>flights</th>\n",
              "    </tr>\n",
              "  </thead>\n",
              "  <tbody>\n",
              "    <tr>\n",
              "      <th>0</th>\n",
              "      <td>AER</td>\n",
              "      <td>DME</td>\n",
              "      <td>1</td>\n",
              "    </tr>\n",
              "    <tr>\n",
              "      <th>1</th>\n",
              "      <td>ASF</td>\n",
              "      <td>LED</td>\n",
              "      <td>1</td>\n",
              "    </tr>\n",
              "    <tr>\n",
              "      <th>2</th>\n",
              "      <td>CEK</td>\n",
              "      <td>DME</td>\n",
              "      <td>1</td>\n",
              "    </tr>\n",
              "    <tr>\n",
              "      <th>3</th>\n",
              "      <td>CEK</td>\n",
              "      <td>KZN</td>\n",
              "      <td>1</td>\n",
              "    </tr>\n",
              "    <tr>\n",
              "      <th>4</th>\n",
              "      <td>CEK</td>\n",
              "      <td>OVB</td>\n",
              "      <td>1</td>\n",
              "    </tr>\n",
              "  </tbody>\n",
              "</table>\n",
              "</div>"
            ],
            "text/plain": [
              "  departure_airport_iata arrival_airport_iata  flights\n",
              "0                    AER                  DME        1\n",
              "1                    ASF                  LED        1\n",
              "2                    CEK                  DME        1\n",
              "3                    CEK                  KZN        1\n",
              "4                    CEK                  OVB        1"
            ]
          },
          "execution_count": 41,
          "metadata": {},
          "output_type": "execute_result"
        }
      ],
      "source": [
        "routes_df['flights'] =  df['planes'].str.len()# TODO\n",
        "routes_df.head(5)"
      ]
    },
    {
      "cell_type": "code",
      "execution_count": 42,
      "metadata": {},
      "outputs": [],
      "source": [
        "# routes_df.loc[routes_df['arrival_airport_iata']==airport_us_in]\n",
        "routes_df['us_in'] = (routes_df['departure_airport_iata'].isin(airport_us_in)) | (routes_df['arrival_airport_iata'].isin(airport_us_in))\n",
        "\n",
        "routes_df['es_in'] = (routes_df['departure_airport_iata'].isin(airport_es_in)) | (routes_df['arrival_airport_iata'].isin(airport_es_in))\n"
      ]
    },
    {
      "cell_type": "markdown",
      "metadata": {
        "id": "fQO8T0fdB2s-"
      },
      "source": [
        "Para realizar el análisis hay que filtrar las rutas con origen y destino EE.UU. y con origen y destino España."
      ]
    },
    {
      "cell_type": "code",
      "execution_count": 43,
      "metadata": {
        "id": "Re-HkMU8xGrr"
      },
      "outputs": [],
      "source": [
        "# TODO: Filtrar rutas con origen y destino USA\n",
        "routes_us_f = routes_df.loc[routes_df['us_in']==True]\n",
        "\n",
        "# TODO: Filtrar rutas con origen y destino España\n",
        "routes_es_f = routes_df.loc[routes_df['es_in']==True]\n"
      ]
    },
    {
      "cell_type": "code",
      "execution_count": 44,
      "metadata": {
        "id": "GiMmFNdmxGo4"
      },
      "outputs": [
        {
          "data": {
            "text/html": [
              "<div>\n",
              "<style scoped>\n",
              "    .dataframe tbody tr th:only-of-type {\n",
              "        vertical-align: middle;\n",
              "    }\n",
              "\n",
              "    .dataframe tbody tr th {\n",
              "        vertical-align: top;\n",
              "    }\n",
              "\n",
              "    .dataframe thead th {\n",
              "        text-align: right;\n",
              "    }\n",
              "</style>\n",
              "<table border=\"1\" class=\"dataframe\">\n",
              "  <thead>\n",
              "    <tr style=\"text-align: right;\">\n",
              "      <th></th>\n",
              "      <th>departure_airport_iata</th>\n",
              "      <th>arrival_airport_iata</th>\n",
              "      <th>flights</th>\n",
              "      <th>us_in</th>\n",
              "      <th>es_in</th>\n",
              "    </tr>\n",
              "  </thead>\n",
              "  <tbody>\n",
              "    <tr>\n",
              "      <th>107</th>\n",
              "      <td>BRN</td>\n",
              "      <td>PMI</td>\n",
              "      <td>1</td>\n",
              "      <td>False</td>\n",
              "      <td>True</td>\n",
              "    </tr>\n",
              "    <tr>\n",
              "      <th>111</th>\n",
              "      <td>PMI</td>\n",
              "      <td>BRN</td>\n",
              "      <td>1</td>\n",
              "      <td>False</td>\n",
              "      <td>True</td>\n",
              "    </tr>\n",
              "    <tr>\n",
              "      <th>430</th>\n",
              "      <td>BCN</td>\n",
              "      <td>CMN</td>\n",
              "      <td>1</td>\n",
              "      <td>False</td>\n",
              "      <td>True</td>\n",
              "    </tr>\n",
              "    <tr>\n",
              "      <th>431</th>\n",
              "      <td>BCN</td>\n",
              "      <td>NDR</td>\n",
              "      <td>1</td>\n",
              "      <td>False</td>\n",
              "      <td>True</td>\n",
              "    </tr>\n",
              "    <tr>\n",
              "      <th>432</th>\n",
              "      <td>BCN</td>\n",
              "      <td>TNG</td>\n",
              "      <td>1</td>\n",
              "      <td>False</td>\n",
              "      <td>True</td>\n",
              "    </tr>\n",
              "  </tbody>\n",
              "</table>\n",
              "</div>"
            ],
            "text/plain": [
              "    departure_airport_iata arrival_airport_iata  flights  us_in  es_in\n",
              "107                    BRN                  PMI        1  False   True\n",
              "111                    PMI                  BRN        1  False   True\n",
              "430                    BCN                  CMN        1  False   True\n",
              "431                    BCN                  NDR        1  False   True\n",
              "432                    BCN                  TNG        1  False   True"
            ]
          },
          "execution_count": 44,
          "metadata": {},
          "output_type": "execute_result"
        }
      ],
      "source": [
        "routes_es_f.head(5)"
      ]
    },
    {
      "cell_type": "markdown",
      "metadata": {
        "id": "ha0BMYWjCuFE"
      },
      "source": [
        "Hay que contar el número de rutas entre dos aeropuertos:"
      ]
    },
    {
      "cell_type": "code",
      "execution_count": 95,
      "metadata": {
        "id": "IuEwAkjnxGnO"
      },
      "outputs": [
        {
          "data": {
            "text/html": [
              "<div>\n",
              "<style scoped>\n",
              "    .dataframe tbody tr th:only-of-type {\n",
              "        vertical-align: middle;\n",
              "    }\n",
              "\n",
              "    .dataframe tbody tr th {\n",
              "        vertical-align: top;\n",
              "    }\n",
              "\n",
              "    .dataframe thead th {\n",
              "        text-align: right;\n",
              "    }\n",
              "</style>\n",
              "<table border=\"1\" class=\"dataframe\">\n",
              "  <thead>\n",
              "    <tr style=\"text-align: right;\">\n",
              "      <th></th>\n",
              "      <th>departure_airport_iata</th>\n",
              "      <th>arrival_airport_iata</th>\n",
              "      <th>flights</th>\n",
              "    </tr>\n",
              "  </thead>\n",
              "  <tbody>\n",
              "    <tr>\n",
              "      <th>0</th>\n",
              "      <td>ABE</td>\n",
              "      <td>ATL</td>\n",
              "      <td>2</td>\n",
              "    </tr>\n",
              "    <tr>\n",
              "      <th>1</th>\n",
              "      <td>ABE</td>\n",
              "      <td>CLT</td>\n",
              "      <td>5</td>\n",
              "    </tr>\n",
              "    <tr>\n",
              "      <th>2</th>\n",
              "      <td>ABE</td>\n",
              "      <td>DTW</td>\n",
              "      <td>1</td>\n",
              "    </tr>\n",
              "    <tr>\n",
              "      <th>3</th>\n",
              "      <td>ABE</td>\n",
              "      <td>IAD</td>\n",
              "      <td>2</td>\n",
              "    </tr>\n",
              "    <tr>\n",
              "      <th>4</th>\n",
              "      <td>ABE</td>\n",
              "      <td>MCO</td>\n",
              "      <td>1</td>\n",
              "    </tr>\n",
              "    <tr>\n",
              "      <th>...</th>\n",
              "      <td>...</td>\n",
              "      <td>...</td>\n",
              "      <td>...</td>\n",
              "    </tr>\n",
              "    <tr>\n",
              "      <th>7503</th>\n",
              "      <td>ZRH</td>\n",
              "      <td>ORD</td>\n",
              "      <td>2</td>\n",
              "    </tr>\n",
              "    <tr>\n",
              "      <th>7504</th>\n",
              "      <td>ZRH</td>\n",
              "      <td>PHL</td>\n",
              "      <td>2</td>\n",
              "    </tr>\n",
              "    <tr>\n",
              "      <th>7505</th>\n",
              "      <td>ZRH</td>\n",
              "      <td>SFO</td>\n",
              "      <td>2</td>\n",
              "    </tr>\n",
              "    <tr>\n",
              "      <th>7506</th>\n",
              "      <td>ZRH</td>\n",
              "      <td>TPA</td>\n",
              "      <td>1</td>\n",
              "    </tr>\n",
              "    <tr>\n",
              "      <th>7507</th>\n",
              "      <td>ZSA</td>\n",
              "      <td>FLL</td>\n",
              "      <td>1</td>\n",
              "    </tr>\n",
              "  </tbody>\n",
              "</table>\n",
              "<p>7508 rows × 3 columns</p>\n",
              "</div>"
            ],
            "text/plain": [
              "     departure_airport_iata arrival_airport_iata  flights\n",
              "0                       ABE                  ATL        2\n",
              "1                       ABE                  CLT        5\n",
              "2                       ABE                  DTW        1\n",
              "3                       ABE                  IAD        2\n",
              "4                       ABE                  MCO        1\n",
              "...                     ...                  ...      ...\n",
              "7503                    ZRH                  ORD        2\n",
              "7504                    ZRH                  PHL        2\n",
              "7505                    ZRH                  SFO        2\n",
              "7506                    ZRH                  TPA        1\n",
              "7507                    ZSA                  FLL        1\n",
              "\n",
              "[7508 rows x 3 columns]"
            ]
          },
          "execution_count": 95,
          "metadata": {},
          "output_type": "execute_result"
        }
      ],
      "source": [
        "#TODO: Contar las rutas entre 2 aeropuertos\n",
        "\n",
        "routes_us_g = routes_us_f.groupby([\"departure_airport_iata\", \"arrival_airport_iata\"])[\"flights\"].sum().reset_index()\n",
        "\n",
        "routes_es_g = routes_es_f.groupby([\"departure_airport_iata\", \"arrival_airport_iata\"])[\"flights\"].sum().reset_index()\n",
        "\n",
        "routes_us_g"
      ]
    },
    {
      "cell_type": "markdown",
      "metadata": {
        "id": "bUtNLWOQDPxa"
      },
      "source": [
        "Como se puede ver existen bastantes rutas así que hay que realizar un filtro de los aeropuertos que tengan más de 5 conexiones para el caso de EE.UU. y 3 conexiones para el caso de España."
      ]
    },
    {
      "cell_type": "code",
      "execution_count": 97,
      "metadata": {
        "id": "8vj6zLdoxGhL"
      },
      "outputs": [
        {
          "data": {
            "text/html": [
              "<div>\n",
              "<style scoped>\n",
              "    .dataframe tbody tr th:only-of-type {\n",
              "        vertical-align: middle;\n",
              "    }\n",
              "\n",
              "    .dataframe tbody tr th {\n",
              "        vertical-align: top;\n",
              "    }\n",
              "\n",
              "    .dataframe thead th {\n",
              "        text-align: right;\n",
              "    }\n",
              "</style>\n",
              "<table border=\"1\" class=\"dataframe\">\n",
              "  <thead>\n",
              "    <tr style=\"text-align: right;\">\n",
              "      <th></th>\n",
              "      <th>departure_airport_iata</th>\n",
              "      <th>arrival_airport_iata</th>\n",
              "      <th>flights</th>\n",
              "    </tr>\n",
              "  </thead>\n",
              "  <tbody>\n",
              "    <tr>\n",
              "      <th>17</th>\n",
              "      <td>ABQ</td>\n",
              "      <td>DEN</td>\n",
              "      <td>14</td>\n",
              "    </tr>\n",
              "    <tr>\n",
              "      <th>24</th>\n",
              "      <td>ABQ</td>\n",
              "      <td>LAX</td>\n",
              "      <td>9</td>\n",
              "    </tr>\n",
              "    <tr>\n",
              "      <th>31</th>\n",
              "      <td>ABQ</td>\n",
              "      <td>PHX</td>\n",
              "      <td>6</td>\n",
              "    </tr>\n",
              "    <tr>\n",
              "      <th>62</th>\n",
              "      <td>ADQ</td>\n",
              "      <td>ANC</td>\n",
              "      <td>6</td>\n",
              "    </tr>\n",
              "    <tr>\n",
              "      <th>132</th>\n",
              "      <td>AMS</td>\n",
              "      <td>ATL</td>\n",
              "      <td>7</td>\n",
              "    </tr>\n",
              "  </tbody>\n",
              "</table>\n",
              "</div>"
            ],
            "text/plain": [
              "    departure_airport_iata arrival_airport_iata  flights\n",
              "17                     ABQ                  DEN       14\n",
              "24                     ABQ                  LAX        9\n",
              "31                     ABQ                  PHX        6\n",
              "62                     ADQ                  ANC        6\n",
              "132                    AMS                  ATL        7"
            ]
          },
          "execution_count": 97,
          "metadata": {},
          "output_type": "execute_result"
        }
      ],
      "source": [
        "#TODO Filtrar las rutas que tengan más de 5 conexiones USA\n",
        "routes_us_g = routes_us_g.loc[routes_us_g['flights']>5]\n",
        "#TODO Filtrar las rutas que tengan más de 3 conexiones ESP\n",
        "routes_es_g = routes_es_g.loc[routes_es_g['flights']>3]\n",
        "routes_us_g.head(5)"
      ]
    },
    {
      "cell_type": "markdown",
      "metadata": {
        "id": "YGJYvdZeEQ6m"
      },
      "source": [
        "Ahora ya está todo listo para el grafo donde los **aeropuertos** son los **nodos** y las **rutas** entre ellos son los **arcos**.\n",
        "\n",
        "Usando los dataset que han sido preparados previamente, vamos a representar los grafos usando `networkx`y `matplotlib`.\n",
        "\n",
        "\n"
      ]
    },
    {
      "cell_type": "code",
      "execution_count": 101,
      "metadata": {},
      "outputs": [
        {
          "data": {
            "text/plain": [
              "411"
            ]
          },
          "execution_count": 101,
          "metadata": {},
          "output_type": "execute_result"
        }
      ],
      "source": [
        "len(routes_es_g['arrival_airport_iata'].to_numpy())\n",
        "len(routes_es_g['departure_airport_iata'].to_numpy())"
      ]
    },
    {
      "cell_type": "code",
      "execution_count": 99,
      "metadata": {
        "id": "QVdYXMibxGSi"
      },
      "outputs": [
        {
          "ename": "ValueError",
          "evalue": "s must be a scalar, or float array-like with the same size as x and y",
          "output_type": "error",
          "traceback": [
            "\u001b[1;31m---------------------------------------------------------------------------\u001b[0m",
            "\u001b[1;31mValueError\u001b[0m                                Traceback (most recent call last)",
            "\u001b[1;32m<ipython-input-99-cf98cf8074eb>\u001b[0m in \u001b[0;36m<module>\u001b[1;34m\u001b[0m\n\u001b[0;32m     34\u001b[0m \u001b[1;33m\u001b[0m\u001b[0m\n\u001b[0;32m     35\u001b[0m \u001b[1;33m\u001b[0m\u001b[0m\n\u001b[1;32m---> 36\u001b[1;33m \u001b[0mdraw_graph\u001b[0m\u001b[1;33m(\u001b[0m\u001b[0mroutes_es_g\u001b[0m\u001b[1;33m)\u001b[0m\u001b[1;33m\u001b[0m\u001b[1;33m\u001b[0m\u001b[0m\n\u001b[0m",
            "\u001b[1;32m<ipython-input-99-cf98cf8074eb>\u001b[0m in \u001b[0;36mdraw_graph\u001b[1;34m(data)\u001b[0m\n\u001b[0;32m     16\u001b[0m \u001b[1;33m\u001b[0m\u001b[0m\n\u001b[0;32m     17\u001b[0m   \u001b[0msize\u001b[0m \u001b[1;33m=\u001b[0m \u001b[1;33m[\u001b[0m\u001b[0mg\u001b[0m\u001b[1;33m.\u001b[0m\u001b[0mdegree\u001b[0m\u001b[1;33m(\u001b[0m\u001b[0mnode\u001b[0m\u001b[1;33m)\u001b[0m \u001b[1;33m*\u001b[0m \u001b[1;36m240\u001b[0m \u001b[1;32mfor\u001b[0m \u001b[0mnode\u001b[0m \u001b[1;32min\u001b[0m \u001b[0mg\u001b[0m\u001b[1;33m.\u001b[0m\u001b[0mnodes\u001b[0m\u001b[1;33m(\u001b[0m\u001b[1;33m)\u001b[0m \u001b[1;32mif\u001b[0m \u001b[0mnode\u001b[0m \u001b[1;32min\u001b[0m \u001b[0mdata\u001b[0m\u001b[1;33m.\u001b[0m\u001b[0marrival_airport_iata\u001b[0m\u001b[1;33m.\u001b[0m\u001b[0munique\u001b[0m\u001b[1;33m(\u001b[0m\u001b[1;33m)\u001b[0m\u001b[1;33m]\u001b[0m\u001b[1;33m\u001b[0m\u001b[1;33m\u001b[0m\u001b[0m\n\u001b[1;32m---> 18\u001b[1;33m   \u001b[0mnx\u001b[0m\u001b[1;33m.\u001b[0m\u001b[0mdraw_networkx_nodes\u001b[0m\u001b[1;33m(\u001b[0m\u001b[0mg\u001b[0m\u001b[1;33m,\u001b[0m \u001b[0mlayout\u001b[0m\u001b[1;33m,\u001b[0m \u001b[0mnodelist\u001b[0m\u001b[1;33m=\u001b[0m\u001b[0mdest\u001b[0m\u001b[1;33m,\u001b[0m \u001b[0mnode_size\u001b[0m\u001b[1;33m=\u001b[0m\u001b[0msize\u001b[0m\u001b[1;33m,\u001b[0m \u001b[0mnode_color\u001b[0m\u001b[1;33m=\u001b[0m\u001b[1;34m'lightblue'\u001b[0m\u001b[1;33m)\u001b[0m\u001b[1;33m\u001b[0m\u001b[1;33m\u001b[0m\u001b[0m\n\u001b[0m\u001b[0;32m     19\u001b[0m \u001b[1;33m\u001b[0m\u001b[0m\n\u001b[0;32m     20\u001b[0m   \u001b[1;31m# TODO: obtener un array de nodos de aeropuertos de origen\u001b[0m\u001b[1;33m\u001b[0m\u001b[1;33m\u001b[0m\u001b[1;33m\u001b[0m\u001b[0m\n",
            "\u001b[1;32m~\\AppData\\Local\\Programs\\Python\\Python39\\lib\\site-packages\\networkx\\drawing\\nx_pylab.py\u001b[0m in \u001b[0;36mdraw_networkx_nodes\u001b[1;34m(G, pos, nodelist, node_size, node_color, node_shape, alpha, cmap, vmin, vmax, ax, linewidths, edgecolors, label, margins)\u001b[0m\n\u001b[0;32m    460\u001b[0m         \u001b[0malpha\u001b[0m \u001b[1;33m=\u001b[0m \u001b[1;32mNone\u001b[0m\u001b[1;33m\u001b[0m\u001b[1;33m\u001b[0m\u001b[0m\n\u001b[0;32m    461\u001b[0m \u001b[1;33m\u001b[0m\u001b[0m\n\u001b[1;32m--> 462\u001b[1;33m     node_collection = ax.scatter(\n\u001b[0m\u001b[0;32m    463\u001b[0m         \u001b[0mxy\u001b[0m\u001b[1;33m[\u001b[0m\u001b[1;33m:\u001b[0m\u001b[1;33m,\u001b[0m \u001b[1;36m0\u001b[0m\u001b[1;33m]\u001b[0m\u001b[1;33m,\u001b[0m\u001b[1;33m\u001b[0m\u001b[1;33m\u001b[0m\u001b[0m\n\u001b[0;32m    464\u001b[0m         \u001b[0mxy\u001b[0m\u001b[1;33m[\u001b[0m\u001b[1;33m:\u001b[0m\u001b[1;33m,\u001b[0m \u001b[1;36m1\u001b[0m\u001b[1;33m]\u001b[0m\u001b[1;33m,\u001b[0m\u001b[1;33m\u001b[0m\u001b[1;33m\u001b[0m\u001b[0m\n",
            "\u001b[1;32m~\\AppData\\Local\\Programs\\Python\\Python39\\lib\\site-packages\\matplotlib\\__init__.py\u001b[0m in \u001b[0;36minner\u001b[1;34m(ax, data, *args, **kwargs)\u001b[0m\n\u001b[0;32m   1359\u001b[0m     \u001b[1;32mdef\u001b[0m \u001b[0minner\u001b[0m\u001b[1;33m(\u001b[0m\u001b[0max\u001b[0m\u001b[1;33m,\u001b[0m \u001b[1;33m*\u001b[0m\u001b[0margs\u001b[0m\u001b[1;33m,\u001b[0m \u001b[0mdata\u001b[0m\u001b[1;33m=\u001b[0m\u001b[1;32mNone\u001b[0m\u001b[1;33m,\u001b[0m \u001b[1;33m**\u001b[0m\u001b[0mkwargs\u001b[0m\u001b[1;33m)\u001b[0m\u001b[1;33m:\u001b[0m\u001b[1;33m\u001b[0m\u001b[1;33m\u001b[0m\u001b[0m\n\u001b[0;32m   1360\u001b[0m         \u001b[1;32mif\u001b[0m \u001b[0mdata\u001b[0m \u001b[1;32mis\u001b[0m \u001b[1;32mNone\u001b[0m\u001b[1;33m:\u001b[0m\u001b[1;33m\u001b[0m\u001b[1;33m\u001b[0m\u001b[0m\n\u001b[1;32m-> 1361\u001b[1;33m             \u001b[1;32mreturn\u001b[0m \u001b[0mfunc\u001b[0m\u001b[1;33m(\u001b[0m\u001b[0max\u001b[0m\u001b[1;33m,\u001b[0m \u001b[1;33m*\u001b[0m\u001b[0mmap\u001b[0m\u001b[1;33m(\u001b[0m\u001b[0msanitize_sequence\u001b[0m\u001b[1;33m,\u001b[0m \u001b[0margs\u001b[0m\u001b[1;33m)\u001b[0m\u001b[1;33m,\u001b[0m \u001b[1;33m**\u001b[0m\u001b[0mkwargs\u001b[0m\u001b[1;33m)\u001b[0m\u001b[1;33m\u001b[0m\u001b[1;33m\u001b[0m\u001b[0m\n\u001b[0m\u001b[0;32m   1362\u001b[0m \u001b[1;33m\u001b[0m\u001b[0m\n\u001b[0;32m   1363\u001b[0m         \u001b[0mbound\u001b[0m \u001b[1;33m=\u001b[0m \u001b[0mnew_sig\u001b[0m\u001b[1;33m.\u001b[0m\u001b[0mbind\u001b[0m\u001b[1;33m(\u001b[0m\u001b[0max\u001b[0m\u001b[1;33m,\u001b[0m \u001b[1;33m*\u001b[0m\u001b[0margs\u001b[0m\u001b[1;33m,\u001b[0m \u001b[1;33m**\u001b[0m\u001b[0mkwargs\u001b[0m\u001b[1;33m)\u001b[0m\u001b[1;33m\u001b[0m\u001b[1;33m\u001b[0m\u001b[0m\n",
            "\u001b[1;32m~\\AppData\\Local\\Programs\\Python\\Python39\\lib\\site-packages\\matplotlib\\axes\\_axes.py\u001b[0m in \u001b[0;36mscatter\u001b[1;34m(self, x, y, s, c, marker, cmap, norm, vmin, vmax, alpha, linewidths, edgecolors, plotnonfinite, **kwargs)\u001b[0m\n\u001b[0;32m   4505\u001b[0m                 (not np.issubdtype(s.dtype, np.floating) and\n\u001b[0;32m   4506\u001b[0m                  not np.issubdtype(s.dtype, np.integer))):\n\u001b[1;32m-> 4507\u001b[1;33m             raise ValueError(\n\u001b[0m\u001b[0;32m   4508\u001b[0m                 \u001b[1;34m\"s must be a scalar, \"\u001b[0m\u001b[1;33m\u001b[0m\u001b[1;33m\u001b[0m\u001b[0m\n\u001b[0;32m   4509\u001b[0m                 \"or float array-like with the same size as x and y\")\n",
            "\u001b[1;31mValueError\u001b[0m: s must be a scalar, or float array-like with the same size as x and y"
          ]
        },
        {
          "data": {
            "image/png": "[encoded data removed]",
            "text/plain": [
              "<Figure size 1080x1080 with 1 Axes>"
            ]
          },
          "metadata": {},
          "output_type": "display_data"
        }
      ],
      "source": [
        "import networkx as nx\n",
        "\n",
        "def draw_graph(data):\n",
        "  plt.figure(figsize=(15, 15))\n",
        "\n",
        "  g = nx.from_pandas_edgelist(data, \n",
        "                              source='departure_airport_iata', \n",
        "                              target='arrival_airport_iata')\n",
        "\n",
        "  layout = nx.spring_layout(g, iterations=50)\n",
        "\n",
        "  nx.draw_networkx_edges(g, layout, edge_color='#AAAAAA')\n",
        "\n",
        "  # TODO: obtener un array de nodos de aeropuertos de destino\n",
        "  dest = routes_es_g['arrival_airport_iata'].to_numpy() # node in g.nodes()\n",
        "\n",
        "  size = [g.degree(node) * 240 for node in g.nodes() if node in data.arrival_airport_iata.unique()]\n",
        "  nx.draw_networkx_nodes(g, layout, nodelist=dest, node_size=size, node_color='lightblue')\n",
        "\n",
        "  # TODO: obtener un array de nodos de aeropuertos de origen\n",
        "  orig = routes_es_g['departure_airport_iata'].to_numpy()# node in g.nodes()\n",
        "\n",
        "  nx.draw_networkx_nodes(g, layout, nodelist=orig, node_size=300, node_color='#AAAAAA')\n",
        "  high_degree_orig = [node for node in g.nodes() if node in data.departure_airport_iata.unique() and g.degree(node) > 1]\n",
        "\n",
        "  nx.draw_networkx_nodes(g, layout, nodelist=high_degree_orig, node_size=300, node_color='#fc8d62')\n",
        "\n",
        "  orig_dict = dict(zip(orig, orig))\n",
        "  nx.draw_networkx_labels(g, layout, labels=orig_dict)\n",
        "  \n",
        "  plt.axis('off')\n",
        "  plt.title(\"Connections\")  \n",
        "  plt.show()\n",
        "\n",
        "\n",
        "draw_graph(routes_es_g)"
      ]
    },
    {
      "cell_type": "markdown",
      "metadata": {
        "id": "hB13W1KtGIEP"
      },
      "source": [
        "Los nodos en azul son conexiones de origen y en naranja las conexiones de destino. El tamaño de los círculos indica el número de conexiones con origen y destino al nodo. Según el grafo anterior deberían observarse los principales aeropuertos españoles."
      ]
    },
    {
      "cell_type": "code",
      "execution_count": null,
      "metadata": {
        "id": "mNFzk93EFnx-"
      },
      "outputs": [],
      "source": [
        "draw_graph(routes_us_g)"
      ]
    },
    {
      "cell_type": "markdown",
      "metadata": {
        "id": "qKLp7NZiHBgX"
      },
      "source": [
        "En el caso de EE.UU. se pueden ver los principales aeropuertos: ORD, DEN y LAX. "
      ]
    },
    {
      "cell_type": "markdown",
      "metadata": {
        "id": "7ucAgFIPHcIO"
      },
      "source": [
        "A continuación vamos a definir diferentes métricas de centralidad que representan los factores de proximidad entre nodos en un grafo.\n",
        "\n",
        "La primera es el **grado de centralidad** que mide para cada nodo del grafo el número de conexiones con origen y destino a ese nodo:\n",
        "\n",
        "$ C_{D} (i) = \\sum_{ j=1 \\\\ (i \\neq j)}^{N}x_{ij} $\n",
        "\n",
        "\n",
        "La librería `networkx` dispone de una función para calcular el grado de centralidad de una grafo: `degree_centrality`.\n",
        "\n",
        "\n"
      ]
    },
    {
      "cell_type": "code",
      "execution_count": null,
      "metadata": {
        "id": "XZJgRbm04X24"
      },
      "outputs": [],
      "source": [
        "def show_centrality(data):\n",
        "\n",
        "  g = nx.from_pandas_edgelist(data, \n",
        "                              source='departure_airport_iata', \n",
        "                              target='arrival_airport_iata')\n",
        "  # TODO: calcular \n",
        "  deg_cen = \n",
        "  data_deg_cen = pd.DataFrame(deg_cen.items())\n",
        "  data_deg_cen = data_deg_cen[data_deg_cen[1] > 0.05]\n",
        "  # plot the histogram \n",
        "  plt.barh(data_deg_cen[0], data_deg_cen[1])\n",
        "  plt.xlabel('Airports')\n",
        "  plt.ylabel('Degree Centrality')\n",
        "  plt.show()\n",
        "\n",
        "show_centrality(routes_es_g)\n"
      ]
    },
    {
      "cell_type": "code",
      "execution_count": null,
      "metadata": {
        "id": "IeVXVsJ7OCrc"
      },
      "outputs": [],
      "source": [
        "show_centrality(routes_us_g)"
      ]
    },
    {
      "cell_type": "markdown",
      "metadata": {
        "id": "UNDh-_XKLzWm"
      },
      "source": [
        "La otra métrica que vamos a usar es la **centralidad de intermediación** (betweenness centrality) que determina el número de rutas que pasan a través de un nodo en una red. Significa que puede haber un número de conexiones entre dos nodos a través de un nodo específico.\n",
        "\n",
        "$ C_{B} (i) = \\sum_{ j=1 \\\\ (i \\neq j)}^{N}  \\sum_{ k=1 \\\\ (k \\neq i)}^{j-1} \\frac {g_{jk}(i)}{g_{jk}} $\n",
        "\n",
        "También la librería `networkx` dispone de una función para calcular el grado de centralidad de una grafo: `betweenness_centrality`.\n",
        "\n"
      ]
    },
    {
      "cell_type": "code",
      "execution_count": null,
      "metadata": {
        "id": "gRAfJS823PGw"
      },
      "outputs": [],
      "source": [
        "def show_bet_centrality(data):\n",
        "  g = nx.from_pandas_edgelist(data, source='departure_airport_iata', target='arrival_airport_iata')\n",
        "  bet_cen =  # TODO: calcular centralidad de intermediacion\n",
        "  data_bet_cen = pd.DataFrame(bet_cen.items())\n",
        "  # print(data)\n",
        "  data_bet_cen = data_bet_cen[data_bet_cen[1] > 0.05]\n",
        "  plt.bar(data_bet_cen[0], data_bet_cen[1])\n",
        "  plt.xlabel('Airports')\n",
        "  plt.ylabel('Betweenness Centrality')\n",
        "  plt.show()\n",
        "\n",
        "show_bet_centrality( routes_es_g )"
      ]
    },
    {
      "cell_type": "code",
      "execution_count": null,
      "metadata": {
        "id": "AImzaEn8N1o1"
      },
      "outputs": [],
      "source": [
        "show_bet_centrality( routes_us_g )"
      ]
    },
    {
      "cell_type": "markdown",
      "metadata": {
        "id": "gRGJ5qpixF1B"
      },
      "source": [
        "Estos aeropuertos con más conexiones a través de ellos son los que más opciones ofrecen para las conexiones con otros destinos."
      ]
    },
    {
      "cell_type": "markdown",
      "metadata": {
        "id": "xhxfJ69UWLUw"
      },
      "source": [
        "## 4.1. Consulta de API: vuelos en tiempo real\n"
      ]
    },
    {
      "cell_type": "markdown",
      "metadata": {
        "id": "WTYw73ExOlzX"
      },
      "source": [
        "En esta sección vamos a trabajar con datos sobre rutas aéreas, compañías aéreas y aeropuertos.\n",
        "\n",
        "Los datos en tiempo real los vamos obtener de la [API OpenSky](https://opensky-network.org/). Lo primero será cargar las librerías necesarias:"
      ]
    },
    {
      "cell_type": "code",
      "execution_count": null,
      "metadata": {
        "id": "P9COapkx5hYE"
      },
      "outputs": [],
      "source": [
        "!git clone https://github.com/openskynetwork/opensky-api.git\n",
        "!pip install -e ./opensky-api/python"
      ]
    },
    {
      "cell_type": "code",
      "execution_count": null,
      "metadata": {
        "id": "UevA0Vvg7PoQ"
      },
      "outputs": [],
      "source": [
        "import sys\n",
        "sys.path.append('./opensky-api/python')"
      ]
    },
    {
      "cell_type": "markdown",
      "metadata": {
        "id": "rPsZsBecPO5H"
      },
      "source": [
        "Con esta API vamos a obtener los datos de los vuelos que están en este instante sobrevolando la península ibérica:"
      ]
    },
    {
      "cell_type": "code",
      "execution_count": null,
      "metadata": {
        "id": "rfd9pp7j6GgV"
      },
      "outputs": [],
      "source": [
        "from opensky_api import OpenSkyApi\n",
        "\n",
        "import time\n",
        "from datetime import datetime, timedelta\n",
        "\n",
        "api = OpenSkyApi()\n",
        "\n",
        "t = int(time.time())\n",
        "\n",
        "bboxSpain = [27.4335426 ,\t43.9933088 ,\t-18.3936845, \t4.5918885]\n",
        "\n",
        "states = api.get_states(time_secs= t, bbox=bboxSpain)\n",
        "for s in states.states[0:10]:\n",
        "  print(\"(%r, %r, %r, %r)\" % (s.longitude, s.latitude, s.velocity, s.callsign ))"
      ]
    },
    {
      "cell_type": "markdown",
      "metadata": {
        "id": "8tIWdfolPjUa"
      },
      "source": [
        "Y esto lo vamos a representar en un mapa:"
      ]
    },
    {
      "cell_type": "code",
      "execution_count": null,
      "metadata": {
        "id": "WE0CUpb4GPLN"
      },
      "outputs": [],
      "source": [
        "import folium\n",
        "\n",
        "world_map = folium.Map(location =[40.416775, -3.7388], tiles='stamenterrain', zoom_start=6,prefer_canvas=True)\n",
        "\n",
        "for s in states.states[0:100]:\n",
        "  try:\n",
        "    folium.Marker([ , ], # TODO: lat lon\n",
        "                tooltip=s.callsign + ' (' + s.origin_country + ')',\n",
        "                icon=folium.Icon(icon='plane', color='green')\n",
        "              ).add_to(world_map)\n",
        "  except:\n",
        "    pass\n",
        "world_map"
      ]
    },
    {
      "cell_type": "markdown",
      "metadata": {
        "id": "MS7Q2_kD2dsG"
      },
      "source": [
        "# Parte 5. Grafos de conocimiento\n"
      ]
    },
    {
      "cell_type": "markdown",
      "metadata": {
        "id": "l_NJmxE6XGoW"
      },
      "source": [
        "Un **[grafo de conocimiento](https://en.wikipedia.org/wiki/Knowledge_Graph)** consiste en una colección de información interrelacionada, normalmente limitada a un dominio específico y gestionado como un grafo. La unidad básica de un grafo de conocimiento es una tripleta *subjeto-predicado-objeto*, que en ocasiones se denota por (*head*, *relation*, *tail*) o más conciso (h, r, t).\n",
        "\n",
        "\n",
        "El grafo de conocimiento representa el conocimiento mediante *entidades* (como personas, localizaciones, organizaciones, incluso eventos) y sus relaciones. Cada tripleta define una conexión entre dos entidades en el grafo. Una ontología define las relaciones y entidades aceptables en el grafo.\n",
        "\n",
        "\n",
        "Veamos un ejemplo: Si un nodoA = `Putin` y el nodoB = `Rusia`, entonces es bastante probable que el arco que los une sea `presidenteDe`. Un nodo o entidad puede tener múltiples relaciones, así Putin no sólo es presidente de Rusia también trabajó para el servicio secreto de la Unión Soviética o KGB.\n",
        "\n",
        "La idea es la misma que la web semántica: hacer que toda la información en internet esté conectada y sea entendible por los ordenadores mediante estándares como `RDF` o `schema.org`."
      ]
    },
    {
      "cell_type": "markdown",
      "metadata": {
        "id": "0IAxylTLNJ3-"
      },
      "source": [
        "Es posible construir un grafo de conocimiento a partir de texto, pero para ello hay que hacer que una máquina \"entienda\" el lenguaje natural. Esto se puede aproximar mediante las técnicas de **Procesamiento del Lenguaje Natural** (NLP por sus siglas en inglés) como segmentación de sentencias, análisis de dependencias, etiquetado del discurso y reconocimiento de entidades. Veremos una introdución a todo esto."
      ]
    },
    {
      "cell_type": "code",
      "execution_count": null,
      "metadata": {
        "id": "Goos-ohrNZuy"
      },
      "outputs": [],
      "source": [
        "import re\n",
        "import nltk\n",
        "from nltk.tokenize import sent_tokenize\n",
        "import spacy\n",
        "import networkx as nx\n",
        "import matplotlib.pyplot as plt\n"
      ]
    },
    {
      "cell_type": "markdown",
      "metadata": {
        "id": "YWlolUqqMVjV"
      },
      "source": [
        "## 5.1 Extracción de entidades\n",
        "\n",
        "El primer paso para construir un grafo de conocimiento es separar el texto de los documentos o artículos en sentencias u oraciones. De todas ellas nos vamos a centrar en aquellas que tienen exactamente 1 sujeto y 1 objeto.\n",
        "\n",
        "Cada sentencia se divide en tokens, cuando `spaCy` procesa el texto, añade un tag **`dep_`** a cada palabra indicando la función : sujeto, objeto, etc. \n"
      ]
    },
    {
      "cell_type": "code",
      "execution_count": null,
      "metadata": {
        "id": "LSlvOV5KMDlk"
      },
      "outputs": [],
      "source": [
        "doc = nlp(\"London is the capital and largest city of England and the United Kingdom.\")\n",
        "\n",
        "for token in doc:\n",
        "  print(token.text, \"...\", token.dep_)"
      ]
    },
    {
      "cell_type": "markdown",
      "metadata": {
        "id": "-9DzMNO8Opjd"
      },
      "source": [
        "El sujeto (`nsubj`) en esta oración según el analizador de dependencias es `London`, aunque las entidades se pueden encontrar modificadas con `amond` o formar composiciones `compound`. El objeto de la sentencia es `England` (`pobj`) junto con `United Kingdom`. Por tanto, habría que extraer tanto el sujeto como el objeto junto con sus modificadores. Es conveniente ver la documentación de SpaCy para ver los diferentes tipos de tokens.\n",
        "\n"
      ]
    },
    {
      "cell_type": "markdown",
      "metadata": {
        "id": "3dsy4Iyb91Xq"
      },
      "source": [
        "Existe sin embargo un API (Wikifier API) que permite etiquetar entidades en un texto. Como ejemplo de lo que puede hacer la API Wikifier, supongamos el siguiente texto sobre [Elon Musk](https://en.wikipedia.org/wiki/Elon_Musk) , extraído y modificado de la WikiPedia."
      ]
    },
    {
      "cell_type": "code",
      "execution_count": null,
      "metadata": {
        "id": "FiondganZUyB"
      },
      "outputs": [],
      "source": [
        "EM_text = \"\"\"\n",
        "Elon Musk is a business magnate, industrial designer, and engineer. \n",
        "Elon Musk is the founder, CEO, CTO, and chief designer of SpaceX. \n",
        "Elon Musk is also early investor, CEO, and product architect of Tesla, Inc. \n",
        "Elon Musk is also the founder of The Boring Company and the co-founder of Neuralink. \n",
        "A centibillionaire, Musk became the richest person in the world in January 2021, with an estimated net worth of $185 billion at the time, surpassing Jeff Bezos. \n",
        "Musk was born to a Canadian mother and South African father and raised in Pretoria, South Africa. \n",
        "Elon Musk briefly attended the University of Pretoria before moving to Canada aged 17 to attend Queen's University. \n",
        "Elon Musk transferred to the University of Pennsylvania two years later, where Elon Musk received dual bachelor's degrees in economics and physics. \n",
        "Elon Musk moved to California in 1995 to attend Stanford University, but decided instead to pursue a business career. \n",
        "Elon Musk went on co-founding a web software company Zip2 with Elon Musk brother Kimbal Musk.\n",
        "\"\"\""
      ]
    },
    {
      "cell_type": "markdown",
      "metadata": {
        "id": "p6IwYAfl-3II"
      },
      "source": [
        "Definimos una función que nos permita acceder a Wikifier API."
      ]
    },
    {
      "cell_type": "code",
      "execution_count": null,
      "metadata": {
        "id": "rFpkC_uf87Yy"
      },
      "outputs": [],
      "source": [
        "import urllib\n",
        "from string import punctuation\n",
        "import nltk\n",
        "import json\n",
        "\n",
        "ENTITY_TYPES = [\"human\", \"person\", \"company\", \"enterprise\", \"business\", \"geographic region\",\n",
        "                \"human settlement\", \"geographic entity\", \"territorial entity type\", \"organization\"]\n",
        "\n",
        "\n",
        "def wikifier(text, lang=\"en\", threshold=0.8):\n",
        "    \"\"\"Function that fetches entity linking results from wikifier.com API\"\"\"\n",
        "    # URL.\n",
        "    data = urllib.parse.urlencode([\n",
        "        (\"text\", text), (\"lang\", lang),\n",
        "        (\"userKey\", \"icrogulbfeovyizvqttnfhjcixksdw\"),\n",
        "        (\"pageRankSqThreshold\", \"%g\" % threshold), \n",
        "        (\"applyPageRankSqThreshold\", \"true\"),\n",
        "        (\"nTopDfValuesToIgnore\", \"100\"), (\"nWordsToIgnoreFromList\", \"100\"),\n",
        "        (\"wikiDataClasses\", \"true\"), (\"wikiDataClassIds\", \"false\"),\n",
        "        (\"support\", \"true\"), (\"ranges\", \"false\"), (\"minLinkFrequency\", \"2\"),\n",
        "        (\"includeCosines\", \"false\"), (\"maxMentionEntropy\", \"3\")\n",
        "    ])\n",
        "    url = \"http://www.wikifier.org/annotate-article\"\n",
        "    # CALL API.\n",
        "    req = urllib.request.Request(url, data=data.encode(\"utf8\"), method=\"POST\")\n",
        "    with urllib.request.urlopen(req, timeout=60) as f:\n",
        "        response = f.read()\n",
        "        response = json.loads(response.decode(\"utf8\"))\n",
        "    # Output.\n",
        "    results = list()\n",
        "    for annotation in response[\"annotations\"]:\n",
        "        # Filter \n",
        "        if ('wikiDataClasses' in annotation) and (any([el['enLabel'] in ENTITY_TYPES for el in annotation['wikiDataClasses']])):\n",
        "\n",
        "            # \n",
        "            if any([el['enLabel'] in [\"human\", \"person\"] for el in annotation['wikiDataClasses']]):\n",
        "                label = 'Person'\n",
        "            elif any([el['enLabel'] in [\"company\", \"enterprise\", \"business\", \"organization\"] for el in annotation['wikiDataClasses']]):\n",
        "                label = 'Organization'\n",
        "            elif any([el['enLabel'] in [\"geographic region\", \"human settlement\", \"geographic entity\", \"territorial entity type\"] for el in annotation['wikiDataClasses']]):\n",
        "                label = 'Location'\n",
        "            else:\n",
        "                label = None\n",
        "\n",
        "            results.append({'title': annotation['title'], \n",
        "                            'wikiId': annotation['wikiDataItemId'], \n",
        "                            'label': label,\n",
        "                            'characters': [(el['chFrom'], el['chTo']) for el in annotation['support']]})\n",
        "    return results"
      ]
    },
    {
      "cell_type": "markdown",
      "metadata": {
        "id": "NdExAeDrAu3I"
      },
      "source": [
        "Wikifier API devuelve todas las clases a las que una entidad pertenece: busca en INSTANCE_OF y SUBCLASS_OF en toda la jerarquía. Por eso hay un filtro final que sólo busca las categorías de personal, organización o localización.\n",
        "\n",
        "\n",
        "Una cosa muy interesante de este API es que se obtienen los identificadores de  WikiData de las entidades."
      ]
    },
    {
      "cell_type": "code",
      "execution_count": null,
      "metadata": {
        "id": "kaUgHUZh9NEI"
      },
      "outputs": [],
      "source": [
        "result = wikifier (EM_text)\n",
        "for entity in result:\n",
        "  print (\"%s - %s - (%s)\" % (entity['label'], entity['title'], entity['wikiId']))"
      ]
    },
    {
      "cell_type": "markdown",
      "metadata": {
        "id": "hKcN5ZVZBRHB"
      },
      "source": [
        "La siguiente función que se encarga de obtener el listado de entidades y las relaciones que se establecen entre ellas dentro de una sentencia. Para ello hay que tratar sentencia por sentencia, eliminar los signos de puntuación y obtener las entidades con Wikifier API. \n",
        "\n",
        "Consideramos relaciones si dos entidades aparecen en la misma sentencia. Así se van uniendo por pares a una lista. Por último, se eliminan duplicados.\n",
        "\n"
      ]
    },
    {
      "cell_type": "code",
      "execution_count": null,
      "metadata": {
        "id": "cdjogiZZCtEE"
      },
      "outputs": [],
      "source": [
        "import itertools\n",
        "import nltk\n",
        "nltk.download('punkt')\n",
        "\n",
        "\n",
        "def remove_punctuation(s):\n",
        "    return '' # TODO\n",
        "\n",
        "def deduplicate_dict(d):\n",
        "    return [dict(y) for y in set(tuple(x.items()) for x in d)]\n",
        "\n",
        "\n",
        "def entities_extraction (text):\n",
        "  entities_list = list()\n",
        "  relations_list = list()\n",
        "\n",
        "  for sentence in  # TODO: recorrer sentencias\n",
        "    sentence =     # TODO: eliminar signos de puntuación\n",
        "\n",
        "    entities =     # TODO : llamar a wikifier\n",
        "    # TODO: añadir a la lista un diccionario por cada entidad con los valores de title, wikiId, label\n",
        "    entities_list.\n",
        "\n",
        "    for permutation in itertools.permutations(entities, 2): # generar relaciones \n",
        "      for source in permutation[0]['characters']:\n",
        "        for target in permutation[1]['characters']:\n",
        "          relations_list.append({'source': permutation[0]['title'],\n",
        "                                 'target': permutation[1]['title']})\n",
        "\n",
        "  return {'entities': [], 'relations': [] } # TODO : devolver un diccionario\n",
        "\n",
        "\n",
        "EM_dict = entities_extraction (EM_text)"
      ]
    },
    {
      "cell_type": "code",
      "execution_count": null,
      "metadata": {
        "id": "92YeXqj8ESl3"
      },
      "outputs": [],
      "source": [
        "EM_dict['relations']"
      ]
    },
    {
      "cell_type": "markdown",
      "metadata": {
        "id": "hejU4PaQutg1"
      },
      "source": [
        "Finalmente se contruye el grafo a partir de las entidades y las relaciones. Necesitamos expresar el grafo en forma de tabla para almacenar las tripletas, un campo con el origen, otro con el predicado y otro con el destino. Para ello, vamos a usar la estructura conocida que es el Dataframe:"
      ]
    },
    {
      "cell_type": "code",
      "execution_count": null,
      "metadata": {
        "id": "Ne0mdk7vu-fR"
      },
      "outputs": [],
      "source": [
        "source = [] # TODO\n",
        "target = [] # TODO\n",
        "\n",
        "em_kg_df = pd.DataFrame({'source':source, 'target':target})\n",
        "em_kg_df.head()"
      ]
    },
    {
      "cell_type": "markdown",
      "metadata": {
        "id": "K3w_zdPp0LzE"
      },
      "source": [
        "Una vez están los datos en de Dataframe, podemos directamente volcarlo a un grafo usando la `networkx` que permite usar un dataframe como origen de los datos:"
      ]
    },
    {
      "cell_type": "code",
      "execution_count": null,
      "metadata": {
        "id": "7yUKCVFJwY6o"
      },
      "outputs": [],
      "source": [
        "G=nx.from_pandas_edgelist() # TODO "
      ]
    },
    {
      "cell_type": "code",
      "execution_count": null,
      "metadata": {
        "id": "Fr8UWZcXwcSf"
      },
      "outputs": [],
      "source": [
        "plt.figure(figsize=(12,12))\n",
        "\n",
        "pos = nx.spring_layout(G)\n",
        "nx.draw(G, with_labels=True, node_color='skyblue', edge_cmap=plt.cm.Blues, pos = pos)\n",
        "plt.show()"
      ]
    }
  ],
  "metadata": {
    "colab": {
      "collapsed_sections": [],
      "include_colab_link": true,
      "name": "TyFdDd_PEC4.ipynb",
      "provenance": []
    },
    "kernelspec": {
      "display_name": "Python 3",
      "name": "python3"
    },
    "language_info": {
      "codemirror_mode": {
        "name": "ipython",
        "version": 3
      },
      "file_extension": ".py",
      "mimetype": "text/x-python",
      "name": "python",
      "nbconvert_exporter": "python",
      "pygments_lexer": "ipython3",
      "version": "3.9.2"
    }
  },
  "nbformat": 4,
  "nbformat_minor": 0
}
